{
  "nbformat": 4,
  "nbformat_minor": 0,
  "metadata": {
    "colab": {
      "provenance": [],
      "toc_visible": true,
      "authorship_tag": "ABX9TyMxbbeHT8z700RtdapAyLNI",
      "include_colab_link": true
    },
    "kernelspec": {
      "name": "python3",
      "display_name": "Python 3"
    },
    "language_info": {
      "name": "python"
    }
  },
  "cells": [
    {
      "cell_type": "markdown",
      "metadata": {
        "id": "view-in-github",
        "colab_type": "text"
      },
      "source": [
        "<a href=\"https://colab.research.google.com/github/ApoorvaReddy17/practice/blob/main/NLP.ipynb\" target=\"_parent\"><img src=\"https://colab.research.google.com/assets/colab-badge.svg\" alt=\"Open In Colab\"/></a>"
      ]
    },
    {
      "cell_type": "markdown",
      "source": [
        "**NLP**\n",
        "\n",
        "NLP is a field of AI that focuses on the interaction between computers and human language. It involves understanding, processing and generating natural language text or speech"
      ],
      "metadata": {
        "id": "e_JksywCL-Ck"
      }
    },
    {
      "cell_type": "markdown",
      "source": [
        "# **TOKENIZATION**\n",
        "\n",
        "Breaking text into smaller units (words,sentences, or subwords)"
      ],
      "metadata": {
        "id": "pMXFB2XtOovM"
      }
    },
    {
      "cell_type": "markdown",
      "source": [
        "## **Tokenization using nltk**"
      ],
      "metadata": {
        "id": "B5jL8vG8NTMt"
      }
    },
    {
      "cell_type": "code",
      "execution_count": null,
      "metadata": {
        "colab": {
          "base_uri": "https://localhost:8080/"
        },
        "id": "90kekRl-9pGm",
        "outputId": "4bae9226-1eb7-4c3e-d83b-dfc25fca2c2f"
      },
      "outputs": [
        {
          "output_type": "stream",
          "name": "stderr",
          "text": [
            "[nltk_data] Downloading package punkt to /root/nltk_data...\n",
            "[nltk_data]   Package punkt is already up-to-date!\n",
            "[nltk_data] Downloading package punkt_tab to /root/nltk_data...\n",
            "[nltk_data]   Package punkt_tab is already up-to-date!\n"
          ]
        },
        {
          "output_type": "execute_result",
          "data": {
            "text/plain": [
              "True"
            ]
          },
          "metadata": {},
          "execution_count": 1
        }
      ],
      "source": [
        "import os\n",
        "import nltk\n",
        "nltk.download('punkt')\n",
        "nltk.download('punkt_tab')"
      ]
    },
    {
      "cell_type": "code",
      "source": [
        "ai = \"\"\"NLP is basic building block to build llm model. ChatGPT is an advanced language model developed by openAI, based on the GPT(Generative Pre-Tranformer) architecture. Specifically, ChatGPT belong to the series of GPT models,with GPT-4 being one of the latest versions. These models are designed to understand and generate human-like text based on the input they receive.\"\"\"\n",
        "ai"
      ],
      "metadata": {
        "colab": {
          "base_uri": "https://localhost:8080/",
          "height": 73
        },
        "id": "icqHVTkI_Lba",
        "outputId": "2ec6b5dc-c809-404c-8b03-c5131c2e8939"
      },
      "execution_count": null,
      "outputs": [
        {
          "output_type": "execute_result",
          "data": {
            "text/plain": [
              "'NLP is basic building block to build llm model. ChatGPT is an advanced language model developed by openAI, based on the GPT(Generative Pre-Tranformer) architecture. Specifically, ChatGPT belong to the series of GPT models,with GPT-4 being one of the latest versions. These models are designed to understand and generate human-like text based on the input they receive.'"
            ],
            "application/vnd.google.colaboratory.intrinsic+json": {
              "type": "string"
            }
          },
          "metadata": {},
          "execution_count": 2
        }
      ]
    },
    {
      "cell_type": "code",
      "source": [
        "type(ai)"
      ],
      "metadata": {
        "colab": {
          "base_uri": "https://localhost:8080/"
        },
        "id": "lv8PbQ2lCxml",
        "outputId": "14c4df21-f5ea-4610-90d2-9eac28e5b216"
      },
      "execution_count": null,
      "outputs": [
        {
          "output_type": "execute_result",
          "data": {
            "text/plain": [
              "str"
            ]
          },
          "metadata": {},
          "execution_count": 3
        }
      ]
    },
    {
      "cell_type": "markdown",
      "source": [
        "### **Sentence Tokens**\n",
        "\n",
        "Sentence segmentation\n",
        "\n",
        "from nltk.tokenize import sent_tokenize\n"
      ],
      "metadata": {
        "id": "Uw9BquIELp_C"
      }
    },
    {
      "cell_type": "code",
      "source": [
        "from nltk.tokenize import sent_tokenize\n",
        "s_tokens = sent_tokenize(ai)\n",
        "s_tokens"
      ],
      "metadata": {
        "colab": {
          "base_uri": "https://localhost:8080/"
        },
        "id": "WyJlK9Tt_LWB",
        "outputId": "ff3644d1-c43e-4a16-dc21-6b556839493f"
      },
      "execution_count": null,
      "outputs": [
        {
          "output_type": "execute_result",
          "data": {
            "text/plain": [
              "['NLP is basic building block to build llm model.',\n",
              " 'ChatGPT is an advanced language model developed by openAI, based on the GPT(Generative Pre-Tranformer) architecture.',\n",
              " 'Specifically, ChatGPT belong to the series of GPT models,with GPT-4 being one of the latest versions.',\n",
              " 'These models are designed to understand and generate human-like text based on the input they receive.']"
            ]
          },
          "metadata": {},
          "execution_count": 4
        }
      ]
    },
    {
      "cell_type": "code",
      "source": [
        "print(type(s_tokens))\n",
        "len(s_tokens)"
      ],
      "metadata": {
        "colab": {
          "base_uri": "https://localhost:8080/"
        },
        "id": "gZ6yi0dl_Lpp",
        "outputId": "28e7b417-d893-4425-f536-c86e49c72e24"
      },
      "execution_count": null,
      "outputs": [
        {
          "output_type": "stream",
          "name": "stdout",
          "text": [
            "<class 'list'>\n"
          ]
        },
        {
          "output_type": "execute_result",
          "data": {
            "text/plain": [
              "4"
            ]
          },
          "metadata": {},
          "execution_count": 5
        }
      ]
    },
    {
      "cell_type": "markdown",
      "source": [
        "### **WORD TOKENS**\n",
        "\n",
        "Simple word tokenization\n",
        "\n",
        "from nltk.tokenize import word_tokenize"
      ],
      "metadata": {
        "id": "UHNwLYpkMEuR"
      }
    },
    {
      "cell_type": "code",
      "source": [
        "from nltk.tokenize import word_tokenize\n",
        "w_tokens = word_tokenize(ai)\n",
        "print(w_tokens)\n",
        "print(type(w_tokens))\n",
        "len(w_tokens)"
      ],
      "metadata": {
        "colab": {
          "base_uri": "https://localhost:8080/"
        },
        "id": "NCp0ydgo_Llm",
        "outputId": "0774649d-d28c-4db7-d393-a2c3d815fe68"
      },
      "execution_count": null,
      "outputs": [
        {
          "output_type": "stream",
          "name": "stdout",
          "text": [
            "['NLP', 'is', 'basic', 'building', 'block', 'to', 'build', 'llm', 'model', '.', 'ChatGPT', 'is', 'an', 'advanced', 'language', 'model', 'developed', 'by', 'openAI', ',', 'based', 'on', 'the', 'GPT', '(', 'Generative', 'Pre-Tranformer', ')', 'architecture', '.', 'Specifically', ',', 'ChatGPT', 'belong', 'to', 'the', 'series', 'of', 'GPT', 'models', ',', 'with', 'GPT-4', 'being', 'one', 'of', 'the', 'latest', 'versions', '.', 'These', 'models', 'are', 'designed', 'to', 'understand', 'and', 'generate', 'human-like', 'text', 'based', 'on', 'the', 'input', 'they', 'receive', '.']\n",
            "<class 'list'>\n"
          ]
        },
        {
          "output_type": "execute_result",
          "data": {
            "text/plain": [
              "67"
            ]
          },
          "metadata": {},
          "execution_count": 6
        }
      ]
    },
    {
      "cell_type": "markdown",
      "source": [
        "## **TOKEN FREQUENCY**"
      ],
      "metadata": {
        "id": "cMrQsoR2PIx3"
      }
    },
    {
      "cell_type": "code",
      "source": [
        "from nltk.probability import FreqDist\n",
        "fdist = FreqDist(w_tokens)\n",
        "print(type(fdist))\n",
        "fdist"
      ],
      "metadata": {
        "colab": {
          "base_uri": "https://localhost:8080/"
        },
        "id": "aBKYqBEr_Lgj",
        "outputId": "fbaf660c-7827-4e89-d608-017c139bc313"
      },
      "execution_count": null,
      "outputs": [
        {
          "output_type": "stream",
          "name": "stdout",
          "text": [
            "<class 'nltk.probability.FreqDist'>\n"
          ]
        },
        {
          "output_type": "execute_result",
          "data": {
            "text/plain": [
              "FreqDist({'.': 4, 'the': 4, 'to': 3, ',': 3, 'is': 2, 'model': 2, 'ChatGPT': 2, 'based': 2, 'on': 2, 'GPT': 2, ...})"
            ]
          },
          "metadata": {},
          "execution_count": 7
        }
      ]
    },
    {
      "cell_type": "code",
      "source": [
        "f = FreqDist()\n",
        "for word in w_tokens:\n",
        "  f[word.lower()]+=1\n",
        "f"
      ],
      "metadata": {
        "colab": {
          "base_uri": "https://localhost:8080/"
        },
        "id": "nX0CFr1Y_LRZ",
        "outputId": "6366a06a-7ec8-4d00-8df9-6556464eb60e"
      },
      "execution_count": null,
      "outputs": [
        {
          "output_type": "execute_result",
          "data": {
            "text/plain": [
              "FreqDist({'.': 4, 'the': 4, 'to': 3, ',': 3, 'is': 2, 'model': 2, 'chatgpt': 2, 'based': 2, 'on': 2, 'gpt': 2, ...})"
            ]
          },
          "metadata": {},
          "execution_count": 8
        }
      ]
    },
    {
      "cell_type": "code",
      "source": [
        "f['model']"
      ],
      "metadata": {
        "colab": {
          "base_uri": "https://localhost:8080/"
        },
        "id": "v0EgtiTj_LM6",
        "outputId": "18ef7268-63d0-4b25-d2fc-bfa5724fcc36"
      },
      "execution_count": null,
      "outputs": [
        {
          "output_type": "execute_result",
          "data": {
            "text/plain": [
              "2"
            ]
          },
          "metadata": {},
          "execution_count": 9
        }
      ]
    },
    {
      "cell_type": "code",
      "source": [
        "f['chatgpt']"
      ],
      "metadata": {
        "colab": {
          "base_uri": "https://localhost:8080/"
        },
        "id": "NbfdJu-aRNVc",
        "outputId": "1d657a05-4fec-4659-e8fd-966e17e7d882"
      },
      "execution_count": null,
      "outputs": [
        {
          "output_type": "execute_result",
          "data": {
            "text/plain": [
              "2"
            ]
          },
          "metadata": {},
          "execution_count": 10
        }
      ]
    },
    {
      "cell_type": "markdown",
      "source": [
        "## **TOKENS TYPE**\n",
        "\n",
        "*   bigrams (2)\n",
        "*  trigrams (3)\n",
        "*  ngrams (3+)"
      ],
      "metadata": {
        "id": "fU1LvyNPRE9u"
      }
    },
    {
      "cell_type": "code",
      "source": [
        "from nltk.util import bigrams, trigrams, ngrams"
      ],
      "metadata": {
        "id": "y3Lwxwdp_LJd"
      },
      "execution_count": null,
      "outputs": []
    },
    {
      "cell_type": "code",
      "source": [
        "# bigrams using word tokens\n",
        "b = list(nltk.bigrams(w_tokens))\n",
        "b"
      ],
      "metadata": {
        "colab": {
          "base_uri": "https://localhost:8080/"
        },
        "id": "ez-ZxunaRmgi",
        "outputId": "4a3aaf91-675c-4f77-f32f-6b0df2fc369c"
      },
      "execution_count": null,
      "outputs": [
        {
          "output_type": "execute_result",
          "data": {
            "text/plain": [
              "[('NLP', 'is'),\n",
              " ('is', 'basic'),\n",
              " ('basic', 'building'),\n",
              " ('building', 'block'),\n",
              " ('block', 'to'),\n",
              " ('to', 'build'),\n",
              " ('build', 'llm'),\n",
              " ('llm', 'model'),\n",
              " ('model', '.'),\n",
              " ('.', 'ChatGPT'),\n",
              " ('ChatGPT', 'is'),\n",
              " ('is', 'an'),\n",
              " ('an', 'advanced'),\n",
              " ('advanced', 'language'),\n",
              " ('language', 'model'),\n",
              " ('model', 'developed'),\n",
              " ('developed', 'by'),\n",
              " ('by', 'openAI'),\n",
              " ('openAI', ','),\n",
              " (',', 'based'),\n",
              " ('based', 'on'),\n",
              " ('on', 'the'),\n",
              " ('the', 'GPT'),\n",
              " ('GPT', '('),\n",
              " ('(', 'Generative'),\n",
              " ('Generative', 'Pre-Tranformer'),\n",
              " ('Pre-Tranformer', ')'),\n",
              " (')', 'architecture'),\n",
              " ('architecture', '.'),\n",
              " ('.', 'Specifically'),\n",
              " ('Specifically', ','),\n",
              " (',', 'ChatGPT'),\n",
              " ('ChatGPT', 'belong'),\n",
              " ('belong', 'to'),\n",
              " ('to', 'the'),\n",
              " ('the', 'series'),\n",
              " ('series', 'of'),\n",
              " ('of', 'GPT'),\n",
              " ('GPT', 'models'),\n",
              " ('models', ','),\n",
              " (',', 'with'),\n",
              " ('with', 'GPT-4'),\n",
              " ('GPT-4', 'being'),\n",
              " ('being', 'one'),\n",
              " ('one', 'of'),\n",
              " ('of', 'the'),\n",
              " ('the', 'latest'),\n",
              " ('latest', 'versions'),\n",
              " ('versions', '.'),\n",
              " ('.', 'These'),\n",
              " ('These', 'models'),\n",
              " ('models', 'are'),\n",
              " ('are', 'designed'),\n",
              " ('designed', 'to'),\n",
              " ('to', 'understand'),\n",
              " ('understand', 'and'),\n",
              " ('and', 'generate'),\n",
              " ('generate', 'human-like'),\n",
              " ('human-like', 'text'),\n",
              " ('text', 'based'),\n",
              " ('based', 'on'),\n",
              " ('on', 'the'),\n",
              " ('the', 'input'),\n",
              " ('input', 'they'),\n",
              " ('they', 'receive'),\n",
              " ('receive', '.')]"
            ]
          },
          "metadata": {},
          "execution_count": 12
        }
      ]
    },
    {
      "cell_type": "code",
      "source": [
        "# bigrams using sentence\n",
        "sentence_bigrams = list(bigrams(s_tokens))\n",
        "sentence_bigrams"
      ],
      "metadata": {
        "colab": {
          "base_uri": "https://localhost:8080/"
        },
        "id": "SeHM3gH-PVJH",
        "outputId": "811f62ef-ddb8-4810-c7f5-cc392d89f391"
      },
      "execution_count": null,
      "outputs": [
        {
          "output_type": "execute_result",
          "data": {
            "text/plain": [
              "[('NLP is basic building block to build llm model.',\n",
              "  'ChatGPT is an advanced language model developed by openAI, based on the GPT(Generative Pre-Tranformer) architecture.'),\n",
              " ('ChatGPT is an advanced language model developed by openAI, based on the GPT(Generative Pre-Tranformer) architecture.',\n",
              "  'Specifically, ChatGPT belong to the series of GPT models,with GPT-4 being one of the latest versions.'),\n",
              " ('Specifically, ChatGPT belong to the series of GPT models,with GPT-4 being one of the latest versions.',\n",
              "  'These models are designed to understand and generate human-like text based on the input they receive.')]"
            ]
          },
          "metadata": {},
          "execution_count": 13
        }
      ]
    },
    {
      "cell_type": "code",
      "source": [
        "t = list(nltk.trigrams(w_tokens))\n",
        "print(t)"
      ],
      "metadata": {
        "colab": {
          "base_uri": "https://localhost:8080/"
        },
        "id": "MFIJOBh3RmaA",
        "outputId": "3916fe3b-ffb2-47cc-9ada-c22c672f680d"
      },
      "execution_count": null,
      "outputs": [
        {
          "output_type": "stream",
          "name": "stdout",
          "text": [
            "[('NLP', 'is', 'basic'), ('is', 'basic', 'building'), ('basic', 'building', 'block'), ('building', 'block', 'to'), ('block', 'to', 'build'), ('to', 'build', 'llm'), ('build', 'llm', 'model'), ('llm', 'model', '.'), ('model', '.', 'ChatGPT'), ('.', 'ChatGPT', 'is'), ('ChatGPT', 'is', 'an'), ('is', 'an', 'advanced'), ('an', 'advanced', 'language'), ('advanced', 'language', 'model'), ('language', 'model', 'developed'), ('model', 'developed', 'by'), ('developed', 'by', 'openAI'), ('by', 'openAI', ','), ('openAI', ',', 'based'), (',', 'based', 'on'), ('based', 'on', 'the'), ('on', 'the', 'GPT'), ('the', 'GPT', '('), ('GPT', '(', 'Generative'), ('(', 'Generative', 'Pre-Tranformer'), ('Generative', 'Pre-Tranformer', ')'), ('Pre-Tranformer', ')', 'architecture'), (')', 'architecture', '.'), ('architecture', '.', 'Specifically'), ('.', 'Specifically', ','), ('Specifically', ',', 'ChatGPT'), (',', 'ChatGPT', 'belong'), ('ChatGPT', 'belong', 'to'), ('belong', 'to', 'the'), ('to', 'the', 'series'), ('the', 'series', 'of'), ('series', 'of', 'GPT'), ('of', 'GPT', 'models'), ('GPT', 'models', ','), ('models', ',', 'with'), (',', 'with', 'GPT-4'), ('with', 'GPT-4', 'being'), ('GPT-4', 'being', 'one'), ('being', 'one', 'of'), ('one', 'of', 'the'), ('of', 'the', 'latest'), ('the', 'latest', 'versions'), ('latest', 'versions', '.'), ('versions', '.', 'These'), ('.', 'These', 'models'), ('These', 'models', 'are'), ('models', 'are', 'designed'), ('are', 'designed', 'to'), ('designed', 'to', 'understand'), ('to', 'understand', 'and'), ('understand', 'and', 'generate'), ('and', 'generate', 'human-like'), ('generate', 'human-like', 'text'), ('human-like', 'text', 'based'), ('text', 'based', 'on'), ('based', 'on', 'the'), ('on', 'the', 'input'), ('the', 'input', 'they'), ('input', 'they', 'receive'), ('they', 'receive', '.')]\n"
          ]
        }
      ]
    },
    {
      "cell_type": "code",
      "source": [
        "n = list(nltk.ngrams(w_tokens,5))\n",
        "print(n)"
      ],
      "metadata": {
        "colab": {
          "base_uri": "https://localhost:8080/"
        },
        "id": "aDeJ2EpnRmTB",
        "outputId": "f07f1221-ea2e-4611-b0e9-da32e33196d9"
      },
      "execution_count": null,
      "outputs": [
        {
          "output_type": "stream",
          "name": "stdout",
          "text": [
            "[('NLP', 'is', 'basic', 'building', 'block'), ('is', 'basic', 'building', 'block', 'to'), ('basic', 'building', 'block', 'to', 'build'), ('building', 'block', 'to', 'build', 'llm'), ('block', 'to', 'build', 'llm', 'model'), ('to', 'build', 'llm', 'model', '.'), ('build', 'llm', 'model', '.', 'ChatGPT'), ('llm', 'model', '.', 'ChatGPT', 'is'), ('model', '.', 'ChatGPT', 'is', 'an'), ('.', 'ChatGPT', 'is', 'an', 'advanced'), ('ChatGPT', 'is', 'an', 'advanced', 'language'), ('is', 'an', 'advanced', 'language', 'model'), ('an', 'advanced', 'language', 'model', 'developed'), ('advanced', 'language', 'model', 'developed', 'by'), ('language', 'model', 'developed', 'by', 'openAI'), ('model', 'developed', 'by', 'openAI', ','), ('developed', 'by', 'openAI', ',', 'based'), ('by', 'openAI', ',', 'based', 'on'), ('openAI', ',', 'based', 'on', 'the'), (',', 'based', 'on', 'the', 'GPT'), ('based', 'on', 'the', 'GPT', '('), ('on', 'the', 'GPT', '(', 'Generative'), ('the', 'GPT', '(', 'Generative', 'Pre-Tranformer'), ('GPT', '(', 'Generative', 'Pre-Tranformer', ')'), ('(', 'Generative', 'Pre-Tranformer', ')', 'architecture'), ('Generative', 'Pre-Tranformer', ')', 'architecture', '.'), ('Pre-Tranformer', ')', 'architecture', '.', 'Specifically'), (')', 'architecture', '.', 'Specifically', ','), ('architecture', '.', 'Specifically', ',', 'ChatGPT'), ('.', 'Specifically', ',', 'ChatGPT', 'belong'), ('Specifically', ',', 'ChatGPT', 'belong', 'to'), (',', 'ChatGPT', 'belong', 'to', 'the'), ('ChatGPT', 'belong', 'to', 'the', 'series'), ('belong', 'to', 'the', 'series', 'of'), ('to', 'the', 'series', 'of', 'GPT'), ('the', 'series', 'of', 'GPT', 'models'), ('series', 'of', 'GPT', 'models', ','), ('of', 'GPT', 'models', ',', 'with'), ('GPT', 'models', ',', 'with', 'GPT-4'), ('models', ',', 'with', 'GPT-4', 'being'), (',', 'with', 'GPT-4', 'being', 'one'), ('with', 'GPT-4', 'being', 'one', 'of'), ('GPT-4', 'being', 'one', 'of', 'the'), ('being', 'one', 'of', 'the', 'latest'), ('one', 'of', 'the', 'latest', 'versions'), ('of', 'the', 'latest', 'versions', '.'), ('the', 'latest', 'versions', '.', 'These'), ('latest', 'versions', '.', 'These', 'models'), ('versions', '.', 'These', 'models', 'are'), ('.', 'These', 'models', 'are', 'designed'), ('These', 'models', 'are', 'designed', 'to'), ('models', 'are', 'designed', 'to', 'understand'), ('are', 'designed', 'to', 'understand', 'and'), ('designed', 'to', 'understand', 'and', 'generate'), ('to', 'understand', 'and', 'generate', 'human-like'), ('understand', 'and', 'generate', 'human-like', 'text'), ('and', 'generate', 'human-like', 'text', 'based'), ('generate', 'human-like', 'text', 'based', 'on'), ('human-like', 'text', 'based', 'on', 'the'), ('text', 'based', 'on', 'the', 'input'), ('based', 'on', 'the', 'input', 'they'), ('on', 'the', 'input', 'they', 'receive'), ('the', 'input', 'they', 'receive', '.')]\n"
          ]
        }
      ]
    },
    {
      "cell_type": "code",
      "source": [
        "# ng = list(nltk.ngrams(w_tokens))\n",
        "# TypeError: ngrams() missing 1 required positional argument: 'n'"
      ],
      "metadata": {
        "id": "vJobDoxLRmNb"
      },
      "execution_count": null,
      "outputs": []
    },
    {
      "cell_type": "markdown",
      "source": [
        "## **Tokenization Using spacy**\n",
        "\n",
        "Efficient NLP processing"
      ],
      "metadata": {
        "id": "36Fok-G1Nnhb"
      }
    },
    {
      "cell_type": "code",
      "source": [
        "import spacy\n",
        "nlp = spacy.load('en_core_web_sm')"
      ],
      "metadata": {
        "id": "i5dxf8oORmIK"
      },
      "execution_count": null,
      "outputs": []
    },
    {
      "cell_type": "code",
      "source": [
        "sent = \"Twitter CEO Elon Musk arrived at the Staples Center in Los Angeles, California.\""
      ],
      "metadata": {
        "id": "XpM-Pfj8_KqP"
      },
      "execution_count": null,
      "outputs": []
    },
    {
      "cell_type": "code",
      "source": [
        "doc =nlp(sent)\n",
        "print(type(doc))\n",
        "doc"
      ],
      "metadata": {
        "colab": {
          "base_uri": "https://localhost:8080/"
        },
        "id": "2R1nQsZIRmC7",
        "outputId": "9acfb565-0876-41bc-e48c-70360f028d47"
      },
      "execution_count": null,
      "outputs": [
        {
          "output_type": "stream",
          "name": "stdout",
          "text": [
            "<class 'spacy.tokens.doc.Doc'>\n"
          ]
        },
        {
          "output_type": "execute_result",
          "data": {
            "text/plain": [
              "Twitter CEO Elon Musk arrived at the Staples Center in Los Angeles, California."
            ]
          },
          "metadata": {},
          "execution_count": 19
        }
      ]
    },
    {
      "cell_type": "code",
      "source": [
        "tokens = [token.text for token in doc]\n",
        "print(type(tokens))\n",
        "print(tokens)"
      ],
      "metadata": {
        "colab": {
          "base_uri": "https://localhost:8080/"
        },
        "id": "HhAGKLkDRl-M",
        "outputId": "49526799-06a4-479b-a105-5815019e4ddd"
      },
      "execution_count": null,
      "outputs": [
        {
          "output_type": "stream",
          "name": "stdout",
          "text": [
            "<class 'list'>\n",
            "['Twitter', 'CEO', 'Elon', 'Musk', 'arrived', 'at', 'the', 'Staples', 'Center', 'in', 'Los', 'Angeles', ',', 'California', '.']\n"
          ]
        }
      ]
    },
    {
      "cell_type": "markdown",
      "source": [
        "## **Subword Tokenization (Byte-Pair Encoding - BPE)**\n",
        "\n",
        "used in deep learning models"
      ],
      "metadata": {
        "id": "PEnRU7R-O2JT"
      }
    },
    {
      "cell_type": "code",
      "source": [
        "from transformers import AutoTokenizer\n"
      ],
      "metadata": {
        "id": "6zPcu8bDPO-v"
      },
      "execution_count": null,
      "outputs": []
    },
    {
      "cell_type": "code",
      "source": [
        "t = AutoTokenizer.from_pretrained('bert-base-uncased')\n",
        "tokens = t.tokenize('Twitter CEO Elon Musk arrived at the Staples Center in Los Angeles')\n",
        "print(tokens)"
      ],
      "metadata": {
        "colab": {
          "base_uri": "https://localhost:8080/"
        },
        "id": "NcKTKbCUPOxz",
        "outputId": "bec95c17-d2de-4d0e-bcba-3160627248f9"
      },
      "execution_count": null,
      "outputs": [
        {
          "output_type": "stream",
          "name": "stderr",
          "text": [
            "/usr/local/lib/python3.11/dist-packages/huggingface_hub/utils/_auth.py:94: UserWarning: \n",
            "The secret `HF_TOKEN` does not exist in your Colab secrets.\n",
            "To authenticate with the Hugging Face Hub, create a token in your settings tab (https://huggingface.co/settings/tokens), set it as secret in your Google Colab and restart your session.\n",
            "You will be able to reuse this secret in all of your notebooks.\n",
            "Please note that authentication is recommended but still optional to access public models or datasets.\n",
            "  warnings.warn(\n"
          ]
        },
        {
          "output_type": "stream",
          "name": "stdout",
          "text": [
            "['twitter', 'ceo', 'el', '##on', 'mu', '##sk', 'arrived', 'at', 'the', 'staples', 'center', 'in', 'los', 'angeles']\n"
          ]
        }
      ]
    },
    {
      "cell_type": "code",
      "source": [
        "print(type(tokens),type(t))"
      ],
      "metadata": {
        "colab": {
          "base_uri": "https://localhost:8080/"
        },
        "id": "OAoCAVd8POkC",
        "outputId": "cef40c00-e18a-4c96-8eb9-d45b49540851"
      },
      "execution_count": null,
      "outputs": [
        {
          "output_type": "stream",
          "name": "stdout",
          "text": [
            "<class 'list'> <class 'transformers.models.bert.tokenization_bert_fast.BertTokenizerFast'>\n"
          ]
        }
      ]
    },
    {
      "cell_type": "markdown",
      "source": [
        "# **Stemming**\n",
        "Stemming is a Natural Language Processing (NLP) technique used to reduce words to their root or base form. It removes suffixes and prefixes from words to obtain their \"stem,\" which helps in text processing tasks like search engines, sentiment analysis, and machine learning models.\n",
        "\n",
        "**Types of Stemming Algorithms**\n",
        "1. Porter Stemmer\n",
        "2. Snowball Stemmer\n",
        "3. Lancaster Stemmer"
      ],
      "metadata": {
        "id": "Od1zoGddTPjX"
      }
    },
    {
      "cell_type": "markdown",
      "source": [
        "## **1. Porter Stemmer**\n",
        "The Porter Stemmer is a widely used algorithm that applies a series of heuristic rules to remove common English suffixes.\n",
        "\n",
        " **The algorithm follows multiple steps:**\n",
        "*   Remove common plural suffixes →\n",
        "(\"caresses\" → \"caress\")\n",
        "*   Convert verb forms → (\"running\" → \"run\")\n",
        "*   Remove adverbial suffixes → (\"happily\" → \"happi\")\n",
        "\n",
        "### **Advantages**\n",
        "✔️ **Fast and widely used**\n",
        "\n",
        "✔️ Reduces words effectively\n",
        "### **Disadvantages**\n",
        "❌ Sometimes over-stems, producing incorrect stems\n",
        "\n",
        "❌ Cannot handle irregular words properly (e.g., \"went\" → \"went\")"
      ],
      "metadata": {
        "id": "CfC7S-JlXtF0"
      }
    },
    {
      "cell_type": "code",
      "source": [
        "from nltk.stem import PorterStemmer\n",
        "ps = PorterStemmer()"
      ],
      "metadata": {
        "id": "XzQSk49MPOdN"
      },
      "execution_count": null,
      "outputs": []
    },
    {
      "cell_type": "code",
      "source": [
        "a =  ['having',\"caresses\", \"running\", \"happily\", \"studies\", \"national\",\n",
        "          'maximum','effective',\"flying\"]\n",
        "print(a)\n",
        "lc = [ps.stem(word) for word in a]\n",
        "print(lc)\n"
      ],
      "metadata": {
        "colab": {
          "base_uri": "https://localhost:8080/"
        },
        "id": "5PjQgvUKaJKM",
        "outputId": "ad66654a-c909-43f4-b331-b49524c7e848"
      },
      "execution_count": null,
      "outputs": [
        {
          "output_type": "stream",
          "name": "stdout",
          "text": [
            "['having', 'caresses', 'running', 'happily', 'studies', 'national', 'maximum', 'effective', 'flying']\n",
            "['have', 'caress', 'run', 'happili', 'studi', 'nation', 'maximum', 'effect', 'fli']\n"
          ]
        }
      ]
    },
    {
      "cell_type": "code",
      "source": [
        "for word in a:\n",
        "  print(word + ' : ' + ps.stem(word))"
      ],
      "metadata": {
        "colab": {
          "base_uri": "https://localhost:8080/"
        },
        "id": "Vn4JLpG1eA3u",
        "outputId": "b21b2eb5-7df2-41bb-bd2f-272873db38fd"
      },
      "execution_count": null,
      "outputs": [
        {
          "output_type": "stream",
          "name": "stdout",
          "text": [
            "having : have\n",
            "caresses : caress\n",
            "running : run\n",
            "happily : happili\n",
            "studies : studi\n",
            "national : nation\n",
            "maximum : maximum\n",
            "effective : effect\n",
            "flying : fli\n"
          ]
        }
      ]
    },
    {
      "cell_type": "markdown",
      "source": [
        "## **2. Snowball Stemmer (Porter2)**\n",
        "An improved version of the Porter Stemmer, the Snowball Stemmer supports multiple languages and offers better accuracy.\n",
        "\n",
        "### **Advantages:**\n",
        "✔️ More accurate than the Porter Stemmer\n",
        "\n",
        "✔️ Supports multiple languages\n",
        "### **Disadvantages:**\n",
        "❌ Slightly slower than Porter\n"
      ],
      "metadata": {
        "id": "H_R7vbnFZDWg"
      }
    },
    {
      "cell_type": "code",
      "source": [
        "from nltk.stem import SnowballStemmer\n",
        "ss = SnowballStemmer('english')\n",
        "words =  ['having',\"caresses\", \"running\", \"happily\", \"studies\", \"national\",\n",
        "          'maximum','effective',\"flying\"]\n",
        "for word in words:\n",
        "      print(word + ' : ' + ss.stem(word))\n",
        "ss_words = [ss.stem(word) for word in words]\n",
        "print(ss_words)"
      ],
      "metadata": {
        "colab": {
          "base_uri": "https://localhost:8080/"
        },
        "id": "-rA3t4uUd-9d",
        "outputId": "c9acfdcc-3158-4e0a-d6a7-d2affeddf3f9"
      },
      "execution_count": null,
      "outputs": [
        {
          "output_type": "stream",
          "name": "stdout",
          "text": [
            "having : have\n",
            "caresses : caress\n",
            "running : run\n",
            "happily : happili\n",
            "studies : studi\n",
            "national : nation\n",
            "maximum : maximum\n",
            "effective : effect\n",
            "flying : fli\n",
            "['have', 'caress', 'run', 'happili', 'studi', 'nation', 'maximum', 'effect', 'fli']\n"
          ]
        }
      ]
    },
    {
      "cell_type": "markdown",
      "source": [
        "## **3. Lancaster Stemmer**\n",
        "The Lancaster Stemmer is more aggressive than the Porter Stemmer and reduces words more drastically.\n",
        "\n",
        "### **Advantages:**\n",
        "✔️ Very fast and efficient\n",
        "\n",
        "### **Disadvantages:**\n",
        "❌ Over-stemming leads to loss of meaning"
      ],
      "metadata": {
        "id": "250yARZsZEB-"
      }
    },
    {
      "cell_type": "code",
      "source": [
        "from nltk.stem import LancasterStemmer\n",
        "ls = LancasterStemmer()\n",
        "words =  ['having',\"caresses\", \"running\", \"happily\", \"studies\", \"national\",\n",
        "          'maximum','effective',\"flying\"]\n",
        "r_word_ls = [[word, ls.stem(word)] for word in words]\n",
        "print(r_word_ls)\n",
        "print(type(r_word_ls))\n",
        "dict(r_word_ls)"
      ],
      "metadata": {
        "colab": {
          "base_uri": "https://localhost:8080/"
        },
        "id": "NM7biforaI7x",
        "outputId": "f799860f-57c1-4727-ef55-fb2acb2d4a14"
      },
      "execution_count": null,
      "outputs": [
        {
          "output_type": "stream",
          "name": "stdout",
          "text": [
            "[['having', 'hav'], ['caresses', 'caress'], ['running', 'run'], ['happily', 'happy'], ['studies', 'study'], ['national', 'nat'], ['maximum', 'maxim'], ['effective', 'effect'], ['flying', 'fly']]\n",
            "<class 'list'>\n"
          ]
        },
        {
          "output_type": "execute_result",
          "data": {
            "text/plain": [
              "{'having': 'hav',\n",
              " 'caresses': 'caress',\n",
              " 'running': 'run',\n",
              " 'happily': 'happy',\n",
              " 'studies': 'study',\n",
              " 'national': 'nat',\n",
              " 'maximum': 'maxim',\n",
              " 'effective': 'effect',\n",
              " 'flying': 'fly'}"
            ]
          },
          "metadata": {},
          "execution_count": 28
        }
      ]
    },
    {
      "cell_type": "markdown",
      "source": [
        "# **Lemmatization**\n",
        "Lemmatization is an advanced Natural Language Processing (NLP) technique used to convert a word to its dictionary or base form (lemma) by considering its context and part of speech (POS). Unlike stemming, which just chops off suffixes, lemmatization ensures that the root word is a valid word in the language.\n"
      ],
      "metadata": {
        "id": "U3OaSC0rZF-m"
      }
    },
    {
      "cell_type": "markdown",
      "source": [
        "## **Lemmatization using nltk**"
      ],
      "metadata": {
        "id": "08pMGs3EkSQr"
      }
    },
    {
      "cell_type": "code",
      "source": [
        "import nltk\n",
        "from  nltk.stem import wordnet\n",
        "from nltk.stem import WordNetLemmatizer\n",
        "\n",
        "# Download WordNet data (if not already installed)\n",
        "nltk.download('wordnet')\n"
      ],
      "metadata": {
        "colab": {
          "base_uri": "https://localhost:8080/"
        },
        "id": "YXQfEEPlZMrr",
        "outputId": "2434ffe7-219b-4aa3-d355-66a1e87d7f3a"
      },
      "execution_count": null,
      "outputs": [
        {
          "output_type": "stream",
          "name": "stderr",
          "text": [
            "[nltk_data] Downloading package wordnet to /root/nltk_data...\n",
            "[nltk_data]   Package wordnet is already up-to-date!\n"
          ]
        },
        {
          "output_type": "execute_result",
          "data": {
            "text/plain": [
              "True"
            ]
          },
          "metadata": {},
          "execution_count": 29
        }
      ]
    },
    {
      "cell_type": "code",
      "source": [
        "lemmatizer = WordNetLemmatizer()\n",
        "wds =  ['having',\"caresses\", \"running\", \"happily\", \"studies\", \"national\",\n",
        "          'maximum','effective',\"flying\"]\n",
        "words_wl = [[word, lemmatizer.lemmatize(word)] for word in wds]\n",
        "words_wl"
      ],
      "metadata": {
        "colab": {
          "base_uri": "https://localhost:8080/"
        },
        "id": "ZPD38pBiFBEU",
        "outputId": "aa181881-88d3-42ad-9df4-9296fd1635e9"
      },
      "execution_count": null,
      "outputs": [
        {
          "output_type": "execute_result",
          "data": {
            "text/plain": [
              "[['having', 'having'],\n",
              " ['caresses', 'caress'],\n",
              " ['running', 'running'],\n",
              " ['happily', 'happily'],\n",
              " ['studies', 'study'],\n",
              " ['national', 'national'],\n",
              " ['maximum', 'maximum'],\n",
              " ['effective', 'effective'],\n",
              " ['flying', 'flying']]"
            ]
          },
          "metadata": {},
          "execution_count": 30
        }
      ]
    },
    {
      "cell_type": "code",
      "source": [
        "from nltk.corpus import wordnet\n",
        "# Initialize WordNet Lemmatizer\n",
        "\n",
        "\n",
        "# Function to get lemma based on POS tagging\n",
        "def lemmatize_word(word, pos=wordnet.NOUN):\n",
        "    return lemmatizer.lemmatize(word, pos)\n",
        "\n",
        "# Test with different words\n",
        "words = [(\"running\", wordnet.VERB), (\"flies\", wordnet.NOUN),\n",
        " (\"better\", wordnet.ADJ), (\"studies\", wordnet.NOUN)]\n",
        "lemmas = [lemmatize_word(word, pos) for word, pos in words]\n",
        "\n",
        "print(lemmas)  # Output: ['run', 'fly', 'good', 'study']"
      ],
      "metadata": {
        "colab": {
          "base_uri": "https://localhost:8080/"
        },
        "id": "TxA-ObHLFBKs",
        "outputId": "98fb5165-c71b-4e53-9aa9-4b5e75c3456a"
      },
      "execution_count": null,
      "outputs": [
        {
          "output_type": "stream",
          "name": "stdout",
          "text": [
            "['run', 'fly', 'good', 'study']\n"
          ]
        }
      ]
    },
    {
      "cell_type": "code",
      "source": [
        "ls = [[word,lemmatize_word(word, wordnet.VERB)] for word in wds]\n",
        "ls"
      ],
      "metadata": {
        "colab": {
          "base_uri": "https://localhost:8080/"
        },
        "id": "aGSmoMZl_Ltt",
        "outputId": "dd1bba23-9476-44cd-d755-e4e2dca0d0f1"
      },
      "execution_count": null,
      "outputs": [
        {
          "output_type": "execute_result",
          "data": {
            "text/plain": [
              "[['having', 'have'],\n",
              " ['caresses', 'caress'],\n",
              " ['running', 'run'],\n",
              " ['happily', 'happily'],\n",
              " ['studies', 'study'],\n",
              " ['national', 'national'],\n",
              " ['maximum', 'maximum'],\n",
              " ['effective', 'effective'],\n",
              " ['flying', 'fly']]"
            ]
          },
          "metadata": {},
          "execution_count": 32
        }
      ]
    },
    {
      "cell_type": "markdown",
      "source": [
        "## **Lemmatization Using Spacy Liabrary**"
      ],
      "metadata": {
        "id": "lhWkNQ7j_5fO"
      }
    },
    {
      "cell_type": "code",
      "source": [
        "import spacy"
      ],
      "metadata": {
        "id": "y3J-FWRzAHY7"
      },
      "execution_count": null,
      "outputs": []
    },
    {
      "cell_type": "code",
      "source": [
        "# Load Spacy English language model\n",
        "nlp = spacy.load('en_core_web_sm')"
      ],
      "metadata": {
        "id": "WGFMPFKRALDU"
      },
      "execution_count": null,
      "outputs": []
    },
    {
      "cell_type": "code",
      "source": [
        "sentence = \"The children are running and playing happily.\"\n",
        "doc = nlp(sentence)\n",
        "ls = [ word.lemma_ for word in doc]\n",
        "print(\" \".join(ls))\n",
        "print(type(ls))"
      ],
      "metadata": {
        "colab": {
          "base_uri": "https://localhost:8080/"
        },
        "id": "iE8lv3GkAlyI",
        "outputId": "8a36bbae-187a-4bef-df1b-39a0ec2e1c75"
      },
      "execution_count": null,
      "outputs": [
        {
          "output_type": "stream",
          "name": "stdout",
          "text": [
            "the child be run and play happily .\n",
            "<class 'list'>\n"
          ]
        }
      ]
    },
    {
      "cell_type": "code",
      "source": [
        "# Function to lemmatize sentence\n",
        "def lemmatize_text(text):\n",
        "    doc = nlp(text)\n",
        "    return \" \".join([token.lemma_ for token in doc])\n",
        "\n",
        "# Example text\n",
        "sentence = \"The children are running and playing happily.\"\n",
        "lemmatized_sentence = lemmatize_text(sentence)\n",
        "\n",
        "print(lemmatized_sentence)\n",
        "# Output: 'the child be run and play happily .'"
      ],
      "metadata": {
        "colab": {
          "base_uri": "https://localhost:8080/"
        },
        "id": "LxpPmZWv_L0r",
        "outputId": "17b8b388-393e-4143-db73-91ccdde93525"
      },
      "execution_count": null,
      "outputs": [
        {
          "output_type": "stream",
          "name": "stdout",
          "text": [
            "the child be run and play happily .\n"
          ]
        }
      ]
    },
    {
      "cell_type": "markdown",
      "source": [
        "# **POS (Parts of Speech)**"
      ],
      "metadata": {
        "id": "zPJmvgE6IMh8"
      }
    },
    {
      "cell_type": "code",
      "source": [
        "nltk.download('averaged_perceptron_tagger_eng')"
      ],
      "metadata": {
        "colab": {
          "base_uri": "https://localhost:8080/"
        },
        "id": "S4v29iaBKVJM",
        "outputId": "912c0026-722f-4b5a-f9fb-40751da58636"
      },
      "execution_count": null,
      "outputs": [
        {
          "output_type": "stream",
          "name": "stderr",
          "text": [
            "[nltk_data] Downloading package averaged_perceptron_tagger_eng to\n",
            "[nltk_data]     /root/nltk_data...\n",
            "[nltk_data]   Package averaged_perceptron_tagger_eng is already up-to-\n",
            "[nltk_data]       date!\n"
          ]
        },
        {
          "output_type": "execute_result",
          "data": {
            "text/plain": [
              "True"
            ]
          },
          "metadata": {},
          "execution_count": 37
        }
      ]
    },
    {
      "cell_type": "code",
      "source": [
        "sent = \"Elon Musk arrived at the Staples Center in Los Angeles, California.\"\n",
        "sent"
      ],
      "metadata": {
        "colab": {
          "base_uri": "https://localhost:8080/",
          "height": 36
        },
        "id": "zHU0fgwyIbAb",
        "outputId": "9089d1b5-752b-4d44-bda4-bcff6d9de6f5"
      },
      "execution_count": null,
      "outputs": [
        {
          "output_type": "execute_result",
          "data": {
            "text/plain": [
              "'Elon Musk arrived at the Staples Center in Los Angeles, California.'"
            ],
            "application/vnd.google.colaboratory.intrinsic+json": {
              "type": "string"
            }
          },
          "metadata": {},
          "execution_count": 38
        }
      ]
    },
    {
      "cell_type": "code",
      "source": [
        "sent_tokens = word_tokenize(sent)\n",
        "sent_tokens"
      ],
      "metadata": {
        "colab": {
          "base_uri": "https://localhost:8080/"
        },
        "id": "nJ2mq61_Ia6V",
        "outputId": "a77a0c98-2f13-4b7b-d8bf-080839d018b0"
      },
      "execution_count": null,
      "outputs": [
        {
          "output_type": "execute_result",
          "data": {
            "text/plain": [
              "['Elon',\n",
              " 'Musk',\n",
              " 'arrived',\n",
              " 'at',\n",
              " 'the',\n",
              " 'Staples',\n",
              " 'Center',\n",
              " 'in',\n",
              " 'Los',\n",
              " 'Angeles',\n",
              " ',',\n",
              " 'California',\n",
              " '.']"
            ]
          },
          "metadata": {},
          "execution_count": 39
        }
      ]
    },
    {
      "cell_type": "code",
      "source": [
        "for token in sent_tokens:\n",
        "  print(nltk.pos_tag([token]))"
      ],
      "metadata": {
        "colab": {
          "base_uri": "https://localhost:8080/"
        },
        "id": "fKaq0tGSIazy",
        "outputId": "58e8068d-cad9-4961-f7a3-20f2204745ad"
      },
      "execution_count": null,
      "outputs": [
        {
          "output_type": "stream",
          "name": "stdout",
          "text": [
            "[('Elon', 'NN')]\n",
            "[('Musk', 'NN')]\n",
            "[('arrived', 'VBN')]\n",
            "[('at', 'IN')]\n",
            "[('the', 'DT')]\n",
            "[('Staples', 'NNS')]\n",
            "[('Center', 'NNP')]\n",
            "[('in', 'IN')]\n",
            "[('Los', 'NNP')]\n",
            "[('Angeles', 'NNP')]\n",
            "[(',', ',')]\n",
            "[('California', 'NNP')]\n",
            "[('.', '.')]\n"
          ]
        }
      ]
    },
    {
      "cell_type": "markdown",
      "source": [
        "## **POS using nltk**"
      ],
      "metadata": {
        "id": "ccb0Btq-NXgR"
      }
    },
    {
      "cell_type": "code",
      "source": [
        "import nltk\n",
        "from nltk.tokenize import word_tokenize\n",
        "from nltk import pos_tag\n",
        "\n",
        "# Download required data\n",
        "nltk.download('punkt')\n",
        "nltk.download('averaged_perceptron_tagger')\n",
        "\n",
        "# Sample sentence\n",
        "sentence = \"The quick brown fox jumps over the lazy dog.\"\n",
        "\n",
        "# Tokenize and apply POS tagging\n",
        "words = word_tokenize(sentence)\n",
        "pos_tags = pos_tag(words)\n",
        "\n",
        "print(pos_tags)\n"
      ],
      "metadata": {
        "colab": {
          "base_uri": "https://localhost:8080/"
        },
        "id": "2DCe61mOIaiH",
        "outputId": "7813d98c-e36f-4cf2-d387-365cf2b27150"
      },
      "execution_count": null,
      "outputs": [
        {
          "output_type": "stream",
          "name": "stdout",
          "text": [
            "[('The', 'DT'), ('quick', 'JJ'), ('brown', 'NN'), ('fox', 'NN'), ('jumps', 'VBZ'), ('over', 'IN'), ('the', 'DT'), ('lazy', 'JJ'), ('dog', 'NN'), ('.', '.')]\n"
          ]
        },
        {
          "output_type": "stream",
          "name": "stderr",
          "text": [
            "[nltk_data] Downloading package punkt to /root/nltk_data...\n",
            "[nltk_data]   Package punkt is already up-to-date!\n",
            "[nltk_data] Downloading package averaged_perceptron_tagger to\n",
            "[nltk_data]     /root/nltk_data...\n",
            "[nltk_data]   Package averaged_perceptron_tagger is already up-to-\n",
            "[nltk_data]       date!\n"
          ]
        }
      ]
    },
    {
      "cell_type": "markdown",
      "source": [
        "## **POS using spacy**"
      ],
      "metadata": {
        "id": "4ZSpWuZ3NW60"
      }
    },
    {
      "cell_type": "code",
      "source": [
        "import spacy\n",
        "\n",
        "# Load English language model\n",
        "nlp = spacy.load(\"en_core_web_sm\")\n",
        "\n",
        "# Sample text\n",
        "sentence = \"The quick brown fox jumps over the lazy dog.\"\n",
        "\n",
        "# Process text with spaCy\n",
        "doc = nlp(sentence)\n",
        "\n",
        "# Print POS tags\n",
        "for token in doc:\n",
        "    print(f\"{token.text} -> {token.pos_} ({token.tag_})\")\n"
      ],
      "metadata": {
        "colab": {
          "base_uri": "https://localhost:8080/"
        },
        "id": "ZF4ig1TsIaoc",
        "outputId": "98785313-7ed3-4a9f-c937-00b2dd4dfa65"
      },
      "execution_count": null,
      "outputs": [
        {
          "output_type": "stream",
          "name": "stdout",
          "text": [
            "The -> DET (DT)\n",
            "quick -> ADJ (JJ)\n",
            "brown -> ADJ (JJ)\n",
            "fox -> NOUN (NN)\n",
            "jumps -> VERB (VBZ)\n",
            "over -> ADP (IN)\n",
            "the -> DET (DT)\n",
            "lazy -> ADJ (JJ)\n",
            "dog -> NOUN (NN)\n",
            ". -> PUNCT (.)\n"
          ]
        }
      ]
    },
    {
      "cell_type": "markdown",
      "source": [
        " # **STOPWORDS**\n",
        " Stopwords are commonly used words (such as \"is,\" \"the,\" \"and,\" \"in,\" etc.) that do not carry significant meaning and are often removed from text data in Natural Language Processing (NLP) tasks to improve efficiency and accuracy."
      ],
      "metadata": {
        "id": "jpFkzIU3CZ09"
      }
    },
    {
      "cell_type": "code",
      "source": [
        "from nltk.corpus import stopwords\n",
        "nltk.download('stopwords')"
      ],
      "metadata": {
        "colab": {
          "base_uri": "https://localhost:8080/"
        },
        "id": "Ggopi1TrFA9L",
        "outputId": "d79e3d1c-f48b-49ff-c8c2-94af98e3df82"
      },
      "execution_count": null,
      "outputs": [
        {
          "output_type": "stream",
          "name": "stderr",
          "text": [
            "[nltk_data] Downloading package stopwords to /root/nltk_data...\n",
            "[nltk_data]   Package stopwords is already up-to-date!\n"
          ]
        },
        {
          "output_type": "execute_result",
          "data": {
            "text/plain": [
              "True"
            ]
          },
          "metadata": {},
          "execution_count": 43
        }
      ]
    },
    {
      "cell_type": "code",
      "source": [
        "print(stopwords.words('english'))"
      ],
      "metadata": {
        "colab": {
          "base_uri": "https://localhost:8080/"
        },
        "id": "v5rlgJBsFA2x",
        "outputId": "658591b2-dd3d-494a-f180-6b688eaa3312"
      },
      "execution_count": null,
      "outputs": [
        {
          "output_type": "stream",
          "name": "stdout",
          "text": [
            "['a', 'about', 'above', 'after', 'again', 'against', 'ain', 'all', 'am', 'an', 'and', 'any', 'are', 'aren', \"aren't\", 'as', 'at', 'be', 'because', 'been', 'before', 'being', 'below', 'between', 'both', 'but', 'by', 'can', 'couldn', \"couldn't\", 'd', 'did', 'didn', \"didn't\", 'do', 'does', 'doesn', \"doesn't\", 'doing', 'don', \"don't\", 'down', 'during', 'each', 'few', 'for', 'from', 'further', 'had', 'hadn', \"hadn't\", 'has', 'hasn', \"hasn't\", 'have', 'haven', \"haven't\", 'having', 'he', \"he'd\", \"he'll\", 'her', 'here', 'hers', 'herself', \"he's\", 'him', 'himself', 'his', 'how', 'i', \"i'd\", 'if', \"i'll\", \"i'm\", 'in', 'into', 'is', 'isn', \"isn't\", 'it', \"it'd\", \"it'll\", \"it's\", 'its', 'itself', \"i've\", 'just', 'll', 'm', 'ma', 'me', 'mightn', \"mightn't\", 'more', 'most', 'mustn', \"mustn't\", 'my', 'myself', 'needn', \"needn't\", 'no', 'nor', 'not', 'now', 'o', 'of', 'off', 'on', 'once', 'only', 'or', 'other', 'our', 'ours', 'ourselves', 'out', 'over', 'own', 're', 's', 'same', 'shan', \"shan't\", 'she', \"she'd\", \"she'll\", \"she's\", 'should', 'shouldn', \"shouldn't\", \"should've\", 'so', 'some', 'such', 't', 'than', 'that', \"that'll\", 'the', 'their', 'theirs', 'them', 'themselves', 'then', 'there', 'these', 'they', \"they'd\", \"they'll\", \"they're\", \"they've\", 'this', 'those', 'through', 'to', 'too', 'under', 'until', 'up', 've', 'very', 'was', 'wasn', \"wasn't\", 'we', \"we'd\", \"we'll\", \"we're\", 'were', 'weren', \"weren't\", \"we've\", 'what', 'when', 'where', 'which', 'while', 'who', 'whom', 'why', 'will', 'with', 'won', \"won't\", 'wouldn', \"wouldn't\", 'y', 'you', \"you'd\", \"you'll\", 'your', \"you're\", 'yours', 'yourself', 'yourselves', \"you've\"]\n"
          ]
        }
      ]
    },
    {
      "cell_type": "code",
      "source": [
        "len(stopwords.words('english'))"
      ],
      "metadata": {
        "colab": {
          "base_uri": "https://localhost:8080/"
        },
        "id": "uYevsdnfFAqc",
        "outputId": "a689ac90-3e64-424e-9fd6-ca628d589507"
      },
      "execution_count": null,
      "outputs": [
        {
          "output_type": "execute_result",
          "data": {
            "text/plain": [
              "198"
            ]
          },
          "metadata": {},
          "execution_count": 45
        }
      ]
    },
    {
      "cell_type": "code",
      "source": [
        "len(stopwords.words('french'))"
      ],
      "metadata": {
        "colab": {
          "base_uri": "https://localhost:8080/"
        },
        "id": "91SzKcYTFi-k",
        "outputId": "05d94128-7f12-4e82-a1a0-11086946efd7"
      },
      "execution_count": null,
      "outputs": [
        {
          "output_type": "execute_result",
          "data": {
            "text/plain": [
              "157"
            ]
          },
          "metadata": {},
          "execution_count": 46
        }
      ]
    },
    {
      "cell_type": "code",
      "source": [
        "len(stopwords.words('spanish'))"
      ],
      "metadata": {
        "colab": {
          "base_uri": "https://localhost:8080/"
        },
        "id": "1XhViNQ2Fi3b",
        "outputId": "fe6ba48f-0fd1-49ab-ef1c-f29feb66f499"
      },
      "execution_count": null,
      "outputs": [
        {
          "output_type": "execute_result",
          "data": {
            "text/plain": [
              "313"
            ]
          },
          "metadata": {},
          "execution_count": 47
        }
      ]
    },
    {
      "cell_type": "code",
      "source": [
        "len(stopwords.words('german'))"
      ],
      "metadata": {
        "colab": {
          "base_uri": "https://localhost:8080/"
        },
        "id": "TbjkFVXZFiwx",
        "outputId": "4a73c8e2-cb8a-4833-c3d4-4d24b6d413b7"
      },
      "execution_count": null,
      "outputs": [
        {
          "output_type": "execute_result",
          "data": {
            "text/plain": [
              "232"
            ]
          },
          "metadata": {},
          "execution_count": 48
        }
      ]
    },
    {
      "cell_type": "code",
      "source": [
        "len(stopwords.words('italian'))"
      ],
      "metadata": {
        "colab": {
          "base_uri": "https://localhost:8080/"
        },
        "id": "qbnp27ZxF0ph",
        "outputId": "2ff1d977-62c2-4afc-93ea-b46e20f372d9"
      },
      "execution_count": null,
      "outputs": [
        {
          "output_type": "execute_result",
          "data": {
            "text/plain": [
              "279"
            ]
          },
          "metadata": {},
          "execution_count": 49
        }
      ]
    },
    {
      "cell_type": "code",
      "source": [
        "len(stopwords.words('portuguese'))"
      ],
      "metadata": {
        "colab": {
          "base_uri": "https://localhost:8080/"
        },
        "id": "KnjuWrBqF0h6",
        "outputId": "2f88a660-669b-4372-92fb-d6f5d27d7929"
      },
      "execution_count": null,
      "outputs": [
        {
          "output_type": "execute_result",
          "data": {
            "text/plain": [
              "207"
            ]
          },
          "metadata": {},
          "execution_count": 50
        }
      ]
    },
    {
      "cell_type": "code",
      "source": [
        "len(stopwords.words('chinese'))"
      ],
      "metadata": {
        "colab": {
          "base_uri": "https://localhost:8080/"
        },
        "id": "Vt4t4aubF7X2",
        "outputId": "7934a447-3015-40b0-abd3-1db46148e429"
      },
      "execution_count": null,
      "outputs": [
        {
          "output_type": "execute_result",
          "data": {
            "text/plain": [
              "841"
            ]
          },
          "metadata": {},
          "execution_count": 51
        }
      ]
    },
    {
      "cell_type": "markdown",
      "source": [
        "## **stopwords using nltk**"
      ],
      "metadata": {
        "id": "pawdBj9kERCM"
      }
    },
    {
      "cell_type": "code",
      "source": [
        "import nltk\n",
        "from nltk.corpus import stopwords\n",
        "from nltk.tokenize import word_tokenize\n",
        "\n",
        "# Download stopwords list\n",
        "nltk.download('stopwords')\n",
        "nltk.download('punkt')\n",
        "\n",
        "# Load English stopwords\n",
        "stop_words = set(stopwords.words('english'))\n",
        "\n",
        "# Example text\n",
        "text = \"This is an example showing how to remove stopwords from a sentence.\"\n",
        "\n",
        "# Tokenize text\n",
        "words = word_tokenize(text)\n",
        "\n",
        "# Remove stopwords\n",
        "filtered_words = [word for word in words if word.lower() not in stop_words]\n",
        "\n",
        "print(filtered_words)\n",
        "# Output: ['example', 'showing', 'remove', 'stopwords', 'sentence', '.']"
      ],
      "metadata": {
        "colab": {
          "base_uri": "https://localhost:8080/"
        },
        "id": "Fz9rvQf6FAwW",
        "outputId": "667f3182-93c3-420e-b659-0f6325721815"
      },
      "execution_count": null,
      "outputs": [
        {
          "output_type": "stream",
          "name": "stdout",
          "text": [
            "['example', 'showing', 'remove', 'stopwords', 'sentence', '.']\n"
          ]
        },
        {
          "output_type": "stream",
          "name": "stderr",
          "text": [
            "[nltk_data] Downloading package stopwords to /root/nltk_data...\n",
            "[nltk_data]   Package stopwords is already up-to-date!\n",
            "[nltk_data] Downloading package punkt to /root/nltk_data...\n",
            "[nltk_data]   Package punkt is already up-to-date!\n"
          ]
        }
      ]
    },
    {
      "cell_type": "markdown",
      "source": [
        "## **Stopwords using spacy**"
      ],
      "metadata": {
        "id": "ooxUytH5ElDn"
      }
    },
    {
      "cell_type": "code",
      "source": [
        "import spacy\n",
        "\n",
        "# Load spaCy English model\n",
        "nlp = spacy.load(\"en_core_web_sm\")\n",
        "\n",
        "# Example text\n",
        "text = \"This is an example showing how to remove stopwords from a sentence.\"\n",
        "\n",
        "# Process text with spaCy\n",
        "doc = nlp(text)\n",
        "\n",
        "# Remove stopwords\n",
        "filtered_words = [token.text for token in doc if not token.is_stop]\n",
        "\n",
        "print(filtered_words)\n",
        "# Output: ['example', 'showing', 'remove', 'stopwords', 'sentence', '.']\n"
      ],
      "metadata": {
        "colab": {
          "base_uri": "https://localhost:8080/"
        },
        "id": "6zc-H2bdFAke",
        "outputId": "d2cd1dbc-0826-4262-dcac-479710fcc8fd"
      },
      "execution_count": null,
      "outputs": [
        {
          "output_type": "stream",
          "name": "stdout",
          "text": [
            "['example', 'showing', 'remove', 'stopwords', 'sentence', '.']\n"
          ]
        }
      ]
    },
    {
      "cell_type": "markdown",
      "source": [
        "# **NER (Named Entity Recognition)**\n",
        "Named Entity Recognition (NER) is an NLP technique used to identify and classify entities in a text, such as:\n",
        "📍 Locations (cities, countries) → \"New York,\" \"India,\" \"Amazon River\"\n",
        "🏢 Organizations (companies, institutions) → \"Google,\" \"NASA,\" \"Harvard University\"\n",
        "👤 Persons (people, fictional characters) → \"Elon Musk,\" \"Harry Potter\"\n",
        "📅 Dates & Time → \"January 1, 2023,\" \"last Monday\"\n",
        "💰 Monetary Values → \"$100,\" \"50 euros\"\n",
        "🏆 Events → \"World Cup,\" \"WWII\""
      ],
      "metadata": {
        "id": "IIJ6_C_pM55r"
      }
    },
    {
      "cell_type": "code",
      "source": [
        "import nltk\n",
        "from nltk import word_tokenize, ne_chunk, pos_tag\n",
        "nltk.download('maxent_ne_chunker')\n",
        "nltk.download('words')"
      ],
      "metadata": {
        "colab": {
          "base_uri": "https://localhost:8080/"
        },
        "id": "yQL3oyy3SjOA",
        "outputId": "f304e152-a8b1-4198-b8ec-3d82ab5c0453"
      },
      "execution_count": null,
      "outputs": [
        {
          "output_type": "stream",
          "name": "stderr",
          "text": [
            "[nltk_data] Downloading package maxent_ne_chunker to\n",
            "[nltk_data]     /root/nltk_data...\n",
            "[nltk_data]   Package maxent_ne_chunker is already up-to-date!\n",
            "[nltk_data] Downloading package words to /root/nltk_data...\n",
            "[nltk_data]   Package words is already up-to-date!\n"
          ]
        },
        {
          "output_type": "execute_result",
          "data": {
            "text/plain": [
              "True"
            ]
          },
          "metadata": {},
          "execution_count": 54
        }
      ]
    },
    {
      "cell_type": "code",
      "source": [
        "!pip install svgling"
      ],
      "metadata": {
        "colab": {
          "base_uri": "https://localhost:8080/"
        },
        "id": "73kFWywnU0u3",
        "outputId": "a5892dcb-c685-4e03-fc25-4d5530b314f3"
      },
      "execution_count": null,
      "outputs": [
        {
          "output_type": "stream",
          "name": "stdout",
          "text": [
            "Requirement already satisfied: svgling in /usr/local/lib/python3.11/dist-packages (0.5.0)\n",
            "Requirement already satisfied: svgwrite in /usr/local/lib/python3.11/dist-packages (from svgling) (1.4.3)\n"
          ]
        }
      ]
    },
    {
      "cell_type": "code",
      "source": [
        "text = \"Elon Musk arrived at the Staples Center in Los Angeles, California.\"\n",
        "text"
      ],
      "metadata": {
        "colab": {
          "base_uri": "https://localhost:8080/",
          "height": 36
        },
        "id": "r8FgrGX1SZcf",
        "outputId": "56c827ea-4a1c-420a-cb7f-fc8293c79bae"
      },
      "execution_count": null,
      "outputs": [
        {
          "output_type": "execute_result",
          "data": {
            "text/plain": [
              "'Elon Musk arrived at the Staples Center in Los Angeles, California.'"
            ],
            "application/vnd.google.colaboratory.intrinsic+json": {
              "type": "string"
            }
          },
          "metadata": {},
          "execution_count": 56
        }
      ]
    },
    {
      "cell_type": "code",
      "source": [
        "ner_token = word_tokenize(text)\n",
        "ner_token"
      ],
      "metadata": {
        "colab": {
          "base_uri": "https://localhost:8080/"
        },
        "id": "HG8Z6kilSjEW",
        "outputId": "689cf75d-4b6e-4eaa-c0fc-9bc86913fbb5"
      },
      "execution_count": null,
      "outputs": [
        {
          "output_type": "execute_result",
          "data": {
            "text/plain": [
              "['Elon',\n",
              " 'Musk',\n",
              " 'arrived',\n",
              " 'at',\n",
              " 'the',\n",
              " 'Staples',\n",
              " 'Center',\n",
              " 'in',\n",
              " 'Los',\n",
              " 'Angeles',\n",
              " ',',\n",
              " 'California',\n",
              " '.']"
            ]
          },
          "metadata": {},
          "execution_count": 57
        }
      ]
    },
    {
      "cell_type": "code",
      "source": [
        "ner_tags = nltk.pos_tag(ner_token)\n",
        "ner_tags"
      ],
      "metadata": {
        "colab": {
          "base_uri": "https://localhost:8080/"
        },
        "id": "Ly9zsJ27Si9y",
        "outputId": "63f6e899-1bbd-4d28-c08f-0797ce62de6c"
      },
      "execution_count": null,
      "outputs": [
        {
          "output_type": "execute_result",
          "data": {
            "text/plain": [
              "[('Elon', 'NNP'),\n",
              " ('Musk', 'NNP'),\n",
              " ('arrived', 'VBD'),\n",
              " ('at', 'IN'),\n",
              " ('the', 'DT'),\n",
              " ('Staples', 'NNP'),\n",
              " ('Center', 'NNP'),\n",
              " ('in', 'IN'),\n",
              " ('Los', 'NNP'),\n",
              " ('Angeles', 'NNP'),\n",
              " (',', ','),\n",
              " ('California', 'NNP'),\n",
              " ('.', '.')]"
            ]
          },
          "metadata": {},
          "execution_count": 58
        }
      ]
    },
    {
      "cell_type": "code",
      "source": [
        "ner = ne_chunk(ner_tags)\n",
        "ner"
      ],
      "metadata": {
        "colab": {
          "base_uri": "https://localhost:8080/",
          "height": 190
        },
        "id": "L2jMPWwNS443",
        "outputId": "5018cdc4-878b-42a7-b11b-86bc0068cb76"
      },
      "execution_count": null,
      "outputs": [
        {
          "output_type": "execute_result",
          "data": {
            "text/plain": [
              "Tree('S', [Tree('PERSON', [('Elon', 'NNP')]), Tree('PERSON', [('Musk', 'NNP')]), ('arrived', 'VBD'), ('at', 'IN'), ('the', 'DT'), Tree('FACILITY', [('Staples', 'NNP'), ('Center', 'NNP')]), ('in', 'IN'), Tree('GPE', [('Los', 'NNP'), ('Angeles', 'NNP')]), (',', ','), Tree('GPE', [('California', 'NNP')]), ('.', '.')])"
            ],
            "image/svg+xml": "<svg baseProfile=\"full\" height=\"168px\" preserveAspectRatio=\"xMidYMid meet\" style=\"font-family: times, serif; font-weight: normal; font-style: normal; font-size: 16px\" version=\"1.1\" viewBox=\"0,0,696.0,168.0\" width=\"696px\" xmlns=\"http://www.w3.org/2000/svg\" xmlns:ev=\"http://www.w3.org/2001/xml-events\" xmlns:xlink=\"http://www.w3.org/1999/xlink\"><defs /><svg width=\"100%\" x=\"0\" y=\"0px\"><defs /><text text-anchor=\"middle\" x=\"50%\" y=\"16px\">S</text></svg><svg width=\"9.1954%\" x=\"0%\" y=\"48px\"><defs /><svg width=\"100%\" x=\"0\" y=\"0px\"><defs /><text text-anchor=\"middle\" x=\"50%\" y=\"16px\">PERSON</text></svg><svg width=\"100%\" x=\"0%\" y=\"48px\"><defs /><svg width=\"100%\" x=\"0\" y=\"0px\"><defs /><text text-anchor=\"middle\" x=\"50%\" y=\"16px\">Elon</text></svg><svg width=\"100%\" x=\"0%\" y=\"48px\"><defs /><svg width=\"100%\" x=\"0\" y=\"0px\"><defs /><text text-anchor=\"middle\" x=\"50%\" y=\"16px\">NNP</text></svg></svg><line stroke=\"black\" x1=\"50%\" x2=\"50%\" y1=\"20px\" y2=\"48px\" /></svg><line stroke=\"black\" x1=\"50%\" x2=\"50%\" y1=\"20px\" y2=\"48px\" /></svg><line stroke=\"black\" x1=\"50%\" x2=\"4.5977%\" y1=\"20px\" y2=\"48px\" /><svg width=\"9.1954%\" x=\"9.1954%\" y=\"48px\"><defs /><svg width=\"100%\" x=\"0\" y=\"0px\"><defs /><text text-anchor=\"middle\" x=\"50%\" y=\"16px\">PERSON</text></svg><svg width=\"100%\" x=\"0%\" y=\"48px\"><defs /><svg width=\"100%\" x=\"0\" y=\"0px\"><defs /><text text-anchor=\"middle\" x=\"50%\" y=\"16px\">Musk</text></svg><svg width=\"100%\" x=\"0%\" y=\"48px\"><defs /><svg width=\"100%\" x=\"0\" y=\"0px\"><defs /><text text-anchor=\"middle\" x=\"50%\" y=\"16px\">NNP</text></svg></svg><line stroke=\"black\" x1=\"50%\" x2=\"50%\" y1=\"20px\" y2=\"48px\" /></svg><line stroke=\"black\" x1=\"50%\" x2=\"50%\" y1=\"20px\" y2=\"48px\" /></svg><line stroke=\"black\" x1=\"50%\" x2=\"13.7931%\" y1=\"20px\" y2=\"48px\" /><svg width=\"10.3448%\" x=\"18.3908%\" y=\"48px\"><defs /><svg width=\"100%\" x=\"0\" y=\"0px\"><defs /><text text-anchor=\"middle\" x=\"50%\" y=\"16px\">arrived</text></svg><svg width=\"100%\" x=\"0%\" y=\"48px\"><defs /><svg width=\"100%\" x=\"0\" y=\"0px\"><defs /><text text-anchor=\"middle\" x=\"50%\" y=\"16px\">VBD</text></svg></svg><line stroke=\"black\" x1=\"50%\" x2=\"50%\" y1=\"20px\" y2=\"48px\" /></svg><line stroke=\"black\" x1=\"50%\" x2=\"23.5632%\" y1=\"20px\" y2=\"48px\" /><svg width=\"4.5977%\" x=\"28.7356%\" y=\"48px\"><defs /><svg width=\"100%\" x=\"0\" y=\"0px\"><defs /><text text-anchor=\"middle\" x=\"50%\" y=\"16px\">at</text></svg><svg width=\"100%\" x=\"0%\" y=\"48px\"><defs /><svg width=\"100%\" x=\"0\" y=\"0px\"><defs /><text text-anchor=\"middle\" x=\"50%\" y=\"16px\">IN</text></svg></svg><line stroke=\"black\" x1=\"50%\" x2=\"50%\" y1=\"20px\" y2=\"48px\" /></svg><line stroke=\"black\" x1=\"50%\" x2=\"31.0345%\" y1=\"20px\" y2=\"48px\" /><svg width=\"5.74713%\" x=\"33.3333%\" y=\"48px\"><defs /><svg width=\"100%\" x=\"0\" y=\"0px\"><defs /><text text-anchor=\"middle\" x=\"50%\" y=\"16px\">the</text></svg><svg width=\"100%\" x=\"0%\" y=\"48px\"><defs /><svg width=\"100%\" x=\"0\" y=\"0px\"><defs /><text text-anchor=\"middle\" x=\"50%\" y=\"16px\">DT</text></svg></svg><line stroke=\"black\" x1=\"50%\" x2=\"50%\" y1=\"20px\" y2=\"48px\" /></svg><line stroke=\"black\" x1=\"50%\" x2=\"36.2069%\" y1=\"20px\" y2=\"48px\" /><svg width=\"19.5402%\" x=\"39.0805%\" y=\"48px\"><defs /><svg width=\"100%\" x=\"0\" y=\"0px\"><defs /><text text-anchor=\"middle\" x=\"50%\" y=\"16px\">FACILITY</text></svg><svg width=\"52.9412%\" x=\"0%\" y=\"48px\"><defs /><svg width=\"100%\" x=\"0\" y=\"0px\"><defs /><text text-anchor=\"middle\" x=\"50%\" y=\"16px\">Staples</text></svg><svg width=\"100%\" x=\"0%\" y=\"48px\"><defs /><svg width=\"100%\" x=\"0\" y=\"0px\"><defs /><text text-anchor=\"middle\" x=\"50%\" y=\"16px\">NNP</text></svg></svg><line stroke=\"black\" x1=\"50%\" x2=\"50%\" y1=\"20px\" y2=\"48px\" /></svg><line stroke=\"black\" x1=\"50%\" x2=\"26.4706%\" y1=\"20px\" y2=\"48px\" /><svg width=\"47.0588%\" x=\"52.9412%\" y=\"48px\"><defs /><svg width=\"100%\" x=\"0\" y=\"0px\"><defs /><text text-anchor=\"middle\" x=\"50%\" y=\"16px\">Center</text></svg><svg width=\"100%\" x=\"0%\" y=\"48px\"><defs /><svg width=\"100%\" x=\"0\" y=\"0px\"><defs /><text text-anchor=\"middle\" x=\"50%\" y=\"16px\">NNP</text></svg></svg><line stroke=\"black\" x1=\"50%\" x2=\"50%\" y1=\"20px\" y2=\"48px\" /></svg><line stroke=\"black\" x1=\"50%\" x2=\"76.4706%\" y1=\"20px\" y2=\"48px\" /></svg><line stroke=\"black\" x1=\"50%\" x2=\"48.8506%\" y1=\"20px\" y2=\"48px\" /><svg width=\"4.5977%\" x=\"58.6207%\" y=\"48px\"><defs /><svg width=\"100%\" x=\"0\" y=\"0px\"><defs /><text text-anchor=\"middle\" x=\"50%\" y=\"16px\">in</text></svg><svg width=\"100%\" x=\"0%\" y=\"48px\"><defs /><svg width=\"100%\" x=\"0\" y=\"0px\"><defs /><text text-anchor=\"middle\" x=\"50%\" y=\"16px\">IN</text></svg></svg><line stroke=\"black\" x1=\"50%\" x2=\"50%\" y1=\"20px\" y2=\"48px\" /></svg><line stroke=\"black\" x1=\"50%\" x2=\"60.9195%\" y1=\"20px\" y2=\"48px\" /><svg width=\"16.092%\" x=\"63.2184%\" y=\"48px\"><defs /><svg width=\"100%\" x=\"0\" y=\"0px\"><defs /><text text-anchor=\"middle\" x=\"50%\" y=\"16px\">GPE</text></svg><svg width=\"35.7143%\" x=\"0%\" y=\"48px\"><defs /><svg width=\"100%\" x=\"0\" y=\"0px\"><defs /><text text-anchor=\"middle\" x=\"50%\" y=\"16px\">Los</text></svg><svg width=\"100%\" x=\"0%\" y=\"48px\"><defs /><svg width=\"100%\" x=\"0\" y=\"0px\"><defs /><text text-anchor=\"middle\" x=\"50%\" y=\"16px\">NNP</text></svg></svg><line stroke=\"black\" x1=\"50%\" x2=\"50%\" y1=\"20px\" y2=\"48px\" /></svg><line stroke=\"black\" x1=\"50%\" x2=\"17.8571%\" y1=\"20px\" y2=\"48px\" /><svg width=\"64.2857%\" x=\"35.7143%\" y=\"48px\"><defs /><svg width=\"100%\" x=\"0\" y=\"0px\"><defs /><text text-anchor=\"middle\" x=\"50%\" y=\"16px\">Angeles</text></svg><svg width=\"100%\" x=\"0%\" y=\"48px\"><defs /><svg width=\"100%\" x=\"0\" y=\"0px\"><defs /><text text-anchor=\"middle\" x=\"50%\" y=\"16px\">NNP</text></svg></svg><line stroke=\"black\" x1=\"50%\" x2=\"50%\" y1=\"20px\" y2=\"48px\" /></svg><line stroke=\"black\" x1=\"50%\" x2=\"67.8571%\" y1=\"20px\" y2=\"48px\" /></svg><line stroke=\"black\" x1=\"50%\" x2=\"71.2644%\" y1=\"20px\" y2=\"48px\" /><svg width=\"3.44828%\" x=\"79.3103%\" y=\"48px\"><defs /><svg width=\"100%\" x=\"0\" y=\"0px\"><defs /><text text-anchor=\"middle\" x=\"50%\" y=\"16px\">,</text></svg><svg width=\"100%\" x=\"0%\" y=\"48px\"><defs /><svg width=\"100%\" x=\"0\" y=\"0px\"><defs /><text text-anchor=\"middle\" x=\"50%\" y=\"16px\">,</text></svg></svg><line stroke=\"black\" x1=\"50%\" x2=\"50%\" y1=\"20px\" y2=\"48px\" /></svg><line stroke=\"black\" x1=\"50%\" x2=\"81.0345%\" y1=\"20px\" y2=\"48px\" /><svg width=\"13.7931%\" x=\"82.7586%\" y=\"48px\"><defs /><svg width=\"100%\" x=\"0\" y=\"0px\"><defs /><text text-anchor=\"middle\" x=\"50%\" y=\"16px\">GPE</text></svg><svg width=\"100%\" x=\"0%\" y=\"48px\"><defs /><svg width=\"100%\" x=\"0\" y=\"0px\"><defs /><text text-anchor=\"middle\" x=\"50%\" y=\"16px\">California</text></svg><svg width=\"100%\" x=\"0%\" y=\"48px\"><defs /><svg width=\"100%\" x=\"0\" y=\"0px\"><defs /><text text-anchor=\"middle\" x=\"50%\" y=\"16px\">NNP</text></svg></svg><line stroke=\"black\" x1=\"50%\" x2=\"50%\" y1=\"20px\" y2=\"48px\" /></svg><line stroke=\"black\" x1=\"50%\" x2=\"50%\" y1=\"20px\" y2=\"48px\" /></svg><line stroke=\"black\" x1=\"50%\" x2=\"89.6552%\" y1=\"20px\" y2=\"48px\" /><svg width=\"3.44828%\" x=\"96.5517%\" y=\"48px\"><defs /><svg width=\"100%\" x=\"0\" y=\"0px\"><defs /><text text-anchor=\"middle\" x=\"50%\" y=\"16px\">.</text></svg><svg width=\"100%\" x=\"0%\" y=\"48px\"><defs /><svg width=\"100%\" x=\"0\" y=\"0px\"><defs /><text text-anchor=\"middle\" x=\"50%\" y=\"16px\">.</text></svg></svg><line stroke=\"black\" x1=\"50%\" x2=\"50%\" y1=\"20px\" y2=\"48px\" /></svg><line stroke=\"black\" x1=\"50%\" x2=\"98.2759%\" y1=\"20px\" y2=\"48px\" /></svg>"
          },
          "metadata": {},
          "execution_count": 59
        }
      ]
    },
    {
      "cell_type": "markdown",
      "source": [
        "## **1. Using NLTK (Basic NER with Pre-trained Model)**"
      ],
      "metadata": {
        "id": "swexft7vPodP"
      }
    },
    {
      "cell_type": "code",
      "source": [
        "import nltk\n",
        "from nltk import word_tokenize, pos_tag, ne_chunk\n",
        "nltk.download('words')\n",
        "\n",
        "# Sample text\n",
        "text = \"Barack Obama was the 44th President of the United States.\"\n",
        "\n",
        "# Tokenize & tag parts of speech\n",
        "tokens = word_tokenize(text)\n",
        "pos_tags = pos_tag(tokens)\n",
        "\n",
        "# Perform Named Entity Recognition\n",
        "ner_tree = ne_chunk(pos_tags)\n",
        "\n",
        "# Print named entities\n",
        "ner_tree\n"
      ],
      "metadata": {
        "colab": {
          "base_uri": "https://localhost:8080/",
          "height": 227
        },
        "id": "ydjcywPLFAXU",
        "outputId": "0da54256-c8e2-43c5-c7c3-b6fbcd1a27e6"
      },
      "execution_count": null,
      "outputs": [
        {
          "output_type": "stream",
          "name": "stderr",
          "text": [
            "[nltk_data] Downloading package words to /root/nltk_data...\n",
            "[nltk_data]   Package words is already up-to-date!\n"
          ]
        },
        {
          "output_type": "execute_result",
          "data": {
            "text/plain": [
              "Tree('S', [Tree('PERSON', [('Barack', 'NNP')]), Tree('PERSON', [('Obama', 'NNP')]), ('was', 'VBD'), ('the', 'DT'), ('44th', 'JJ'), ('President', 'NNP'), ('of', 'IN'), ('the', 'DT'), Tree('GPE', [('United', 'NNP'), ('States', 'NNPS')]), ('.', '.')])"
            ],
            "image/svg+xml": "<svg baseProfile=\"full\" height=\"168px\" preserveAspectRatio=\"xMidYMid meet\" style=\"font-family: times, serif; font-weight: normal; font-style: normal; font-size: 16px\" version=\"1.1\" viewBox=\"0,0,568.0,168.0\" width=\"568px\" xmlns=\"http://www.w3.org/2000/svg\" xmlns:ev=\"http://www.w3.org/2001/xml-events\" xmlns:xlink=\"http://www.w3.org/1999/xlink\"><defs /><svg width=\"100%\" x=\"0\" y=\"0px\"><defs /><text text-anchor=\"middle\" x=\"50%\" y=\"16px\">S</text></svg><svg width=\"11.2676%\" x=\"0%\" y=\"48px\"><defs /><svg width=\"100%\" x=\"0\" y=\"0px\"><defs /><text text-anchor=\"middle\" x=\"50%\" y=\"16px\">PERSON</text></svg><svg width=\"100%\" x=\"0%\" y=\"48px\"><defs /><svg width=\"100%\" x=\"0\" y=\"0px\"><defs /><text text-anchor=\"middle\" x=\"50%\" y=\"16px\">Barack</text></svg><svg width=\"100%\" x=\"0%\" y=\"48px\"><defs /><svg width=\"100%\" x=\"0\" y=\"0px\"><defs /><text text-anchor=\"middle\" x=\"50%\" y=\"16px\">NNP</text></svg></svg><line stroke=\"black\" x1=\"50%\" x2=\"50%\" y1=\"20px\" y2=\"48px\" /></svg><line stroke=\"black\" x1=\"50%\" x2=\"50%\" y1=\"20px\" y2=\"48px\" /></svg><line stroke=\"black\" x1=\"50%\" x2=\"5.6338%\" y1=\"20px\" y2=\"48px\" /><svg width=\"11.2676%\" x=\"11.2676%\" y=\"48px\"><defs /><svg width=\"100%\" x=\"0\" y=\"0px\"><defs /><text text-anchor=\"middle\" x=\"50%\" y=\"16px\">PERSON</text></svg><svg width=\"100%\" x=\"0%\" y=\"48px\"><defs /><svg width=\"100%\" x=\"0\" y=\"0px\"><defs /><text text-anchor=\"middle\" x=\"50%\" y=\"16px\">Obama</text></svg><svg width=\"100%\" x=\"0%\" y=\"48px\"><defs /><svg width=\"100%\" x=\"0\" y=\"0px\"><defs /><text text-anchor=\"middle\" x=\"50%\" y=\"16px\">NNP</text></svg></svg><line stroke=\"black\" x1=\"50%\" x2=\"50%\" y1=\"20px\" y2=\"48px\" /></svg><line stroke=\"black\" x1=\"50%\" x2=\"50%\" y1=\"20px\" y2=\"48px\" /></svg><line stroke=\"black\" x1=\"50%\" x2=\"16.9014%\" y1=\"20px\" y2=\"48px\" /><svg width=\"7.04225%\" x=\"22.5352%\" y=\"48px\"><defs /><svg width=\"100%\" x=\"0\" y=\"0px\"><defs /><text text-anchor=\"middle\" x=\"50%\" y=\"16px\">was</text></svg><svg width=\"100%\" x=\"0%\" y=\"48px\"><defs /><svg width=\"100%\" x=\"0\" y=\"0px\"><defs /><text text-anchor=\"middle\" x=\"50%\" y=\"16px\">VBD</text></svg></svg><line stroke=\"black\" x1=\"50%\" x2=\"50%\" y1=\"20px\" y2=\"48px\" /></svg><line stroke=\"black\" x1=\"50%\" x2=\"26.0563%\" y1=\"20px\" y2=\"48px\" /><svg width=\"7.04225%\" x=\"29.5775%\" y=\"48px\"><defs /><svg width=\"100%\" x=\"0\" y=\"0px\"><defs /><text text-anchor=\"middle\" x=\"50%\" y=\"16px\">the</text></svg><svg width=\"100%\" x=\"0%\" y=\"48px\"><defs /><svg width=\"100%\" x=\"0\" y=\"0px\"><defs /><text text-anchor=\"middle\" x=\"50%\" y=\"16px\">DT</text></svg></svg><line stroke=\"black\" x1=\"50%\" x2=\"50%\" y1=\"20px\" y2=\"48px\" /></svg><line stroke=\"black\" x1=\"50%\" x2=\"33.0986%\" y1=\"20px\" y2=\"48px\" /><svg width=\"8.4507%\" x=\"36.6197%\" y=\"48px\"><defs /><svg width=\"100%\" x=\"0\" y=\"0px\"><defs /><text text-anchor=\"middle\" x=\"50%\" y=\"16px\">44th</text></svg><svg width=\"100%\" x=\"0%\" y=\"48px\"><defs /><svg width=\"100%\" x=\"0\" y=\"0px\"><defs /><text text-anchor=\"middle\" x=\"50%\" y=\"16px\">JJ</text></svg></svg><line stroke=\"black\" x1=\"50%\" x2=\"50%\" y1=\"20px\" y2=\"48px\" /></svg><line stroke=\"black\" x1=\"50%\" x2=\"40.8451%\" y1=\"20px\" y2=\"48px\" /><svg width=\"15.493%\" x=\"45.0704%\" y=\"48px\"><defs /><svg width=\"100%\" x=\"0\" y=\"0px\"><defs /><text text-anchor=\"middle\" x=\"50%\" y=\"16px\">President</text></svg><svg width=\"100%\" x=\"0%\" y=\"48px\"><defs /><svg width=\"100%\" x=\"0\" y=\"0px\"><defs /><text text-anchor=\"middle\" x=\"50%\" y=\"16px\">NNP</text></svg></svg><line stroke=\"black\" x1=\"50%\" x2=\"50%\" y1=\"20px\" y2=\"48px\" /></svg><line stroke=\"black\" x1=\"50%\" x2=\"52.8169%\" y1=\"20px\" y2=\"48px\" /><svg width=\"5.6338%\" x=\"60.5634%\" y=\"48px\"><defs /><svg width=\"100%\" x=\"0\" y=\"0px\"><defs /><text text-anchor=\"middle\" x=\"50%\" y=\"16px\">of</text></svg><svg width=\"100%\" x=\"0%\" y=\"48px\"><defs /><svg width=\"100%\" x=\"0\" y=\"0px\"><defs /><text text-anchor=\"middle\" x=\"50%\" y=\"16px\">IN</text></svg></svg><line stroke=\"black\" x1=\"50%\" x2=\"50%\" y1=\"20px\" y2=\"48px\" /></svg><line stroke=\"black\" x1=\"50%\" x2=\"63.3803%\" y1=\"20px\" y2=\"48px\" /><svg width=\"7.04225%\" x=\"66.1972%\" y=\"48px\"><defs /><svg width=\"100%\" x=\"0\" y=\"0px\"><defs /><text text-anchor=\"middle\" x=\"50%\" y=\"16px\">the</text></svg><svg width=\"100%\" x=\"0%\" y=\"48px\"><defs /><svg width=\"100%\" x=\"0\" y=\"0px\"><defs /><text text-anchor=\"middle\" x=\"50%\" y=\"16px\">DT</text></svg></svg><line stroke=\"black\" x1=\"50%\" x2=\"50%\" y1=\"20px\" y2=\"48px\" /></svg><line stroke=\"black\" x1=\"50%\" x2=\"69.7183%\" y1=\"20px\" y2=\"48px\" /><svg width=\"22.5352%\" x=\"73.2394%\" y=\"48px\"><defs /><svg width=\"100%\" x=\"0\" y=\"0px\"><defs /><text text-anchor=\"middle\" x=\"50%\" y=\"16px\">GPE</text></svg><svg width=\"50%\" x=\"0%\" y=\"48px\"><defs /><svg width=\"100%\" x=\"0\" y=\"0px\"><defs /><text text-anchor=\"middle\" x=\"50%\" y=\"16px\">United</text></svg><svg width=\"100%\" x=\"0%\" y=\"48px\"><defs /><svg width=\"100%\" x=\"0\" y=\"0px\"><defs /><text text-anchor=\"middle\" x=\"50%\" y=\"16px\">NNP</text></svg></svg><line stroke=\"black\" x1=\"50%\" x2=\"50%\" y1=\"20px\" y2=\"48px\" /></svg><line stroke=\"black\" x1=\"50%\" x2=\"25%\" y1=\"20px\" y2=\"48px\" /><svg width=\"50%\" x=\"50%\" y=\"48px\"><defs /><svg width=\"100%\" x=\"0\" y=\"0px\"><defs /><text text-anchor=\"middle\" x=\"50%\" y=\"16px\">States</text></svg><svg width=\"100%\" x=\"0%\" y=\"48px\"><defs /><svg width=\"100%\" x=\"0\" y=\"0px\"><defs /><text text-anchor=\"middle\" x=\"50%\" y=\"16px\">NNPS</text></svg></svg><line stroke=\"black\" x1=\"50%\" x2=\"50%\" y1=\"20px\" y2=\"48px\" /></svg><line stroke=\"black\" x1=\"50%\" x2=\"75%\" y1=\"20px\" y2=\"48px\" /></svg><line stroke=\"black\" x1=\"50%\" x2=\"84.507%\" y1=\"20px\" y2=\"48px\" /><svg width=\"4.22535%\" x=\"95.7746%\" y=\"48px\"><defs /><svg width=\"100%\" x=\"0\" y=\"0px\"><defs /><text text-anchor=\"middle\" x=\"50%\" y=\"16px\">.</text></svg><svg width=\"100%\" x=\"0%\" y=\"48px\"><defs /><svg width=\"100%\" x=\"0\" y=\"0px\"><defs /><text text-anchor=\"middle\" x=\"50%\" y=\"16px\">.</text></svg></svg><line stroke=\"black\" x1=\"50%\" x2=\"50%\" y1=\"20px\" y2=\"48px\" /></svg><line stroke=\"black\" x1=\"50%\" x2=\"97.8873%\" y1=\"20px\" y2=\"48px\" /></svg>"
          },
          "metadata": {},
          "execution_count": 60
        }
      ]
    },
    {
      "cell_type": "markdown",
      "source": [
        "## **2. Using spaCy (Best for Large-Scale NER)**"
      ],
      "metadata": {
        "id": "Yn4wH9KHOxXx"
      }
    },
    {
      "cell_type": "code",
      "source": [
        "import spacy\n",
        "\n",
        "# Load the English NLP model\n",
        "nlp = spacy.load(\"en_core_web_sm\")\n",
        "\n",
        "# Sample text\n",
        "text = \"Elon Musk, the CEO of Tesla, was born in South Africa and moved to the United States.\"\n",
        "\n",
        "# Process text\n",
        "doc = nlp(text)\n",
        "\n",
        "# Print detected entities\n",
        "for ent in doc.ents:\n",
        "    print(f\"{ent.text} -> {ent.label_}\")\n"
      ],
      "metadata": {
        "colab": {
          "base_uri": "https://localhost:8080/"
        },
        "id": "eYXOClcRFAeZ",
        "outputId": "358dcae7-beb4-49cc-caf0-40a87d86bb84"
      },
      "execution_count": null,
      "outputs": [
        {
          "output_type": "stream",
          "name": "stdout",
          "text": [
            "Elon Musk -> PERSON\n",
            "Tesla -> ORG\n",
            "South Africa -> GPE\n",
            "the United States -> GPE\n"
          ]
        }
      ]
    },
    {
      "cell_type": "markdown",
      "source": [
        "## **Create a custom NER model**"
      ],
      "metadata": {
        "id": "uEDGwuwXPe62"
      }
    },
    {
      "cell_type": "code",
      "source": [
        "\n",
        "from spacy.tokens import Span\n",
        "\n",
        "text = \"John Doe founded ABC Technologies in 2023.\"\n",
        "\n",
        "# Process text\n",
        "doc = nlp(text)\n",
        "\n",
        "# Add a new entity manually\n",
        "doc.ents = [Span(doc, 0, 2, label=\"PERSON\")]  # \"John Doe\" as PERSON\n",
        "\n",
        "# Print entities\n",
        "for ent in doc.ents:\n",
        "    print(f\"{ent.text} -> {ent.label_}\")\n"
      ],
      "metadata": {
        "colab": {
          "base_uri": "https://localhost:8080/"
        },
        "id": "FM1jBgBH_Khr",
        "outputId": "2a3a0252-1a20-4175-87fb-3a08fa032335"
      },
      "execution_count": null,
      "outputs": [
        {
          "output_type": "stream",
          "name": "stdout",
          "text": [
            "John Doe -> PERSON\n"
          ]
        }
      ]
    },
    {
      "cell_type": "markdown",
      "source": [
        "# **Visualization**"
      ],
      "metadata": {
        "id": "IzJGMP_AWlrw"
      }
    },
    {
      "cell_type": "code",
      "source": [
        "text = ('Python llm python genai llm Python llm Matplotlib llm Seaborn Network 11m plot Violin Chart Pandas 11m Datascience 11m' )\n",
        "text"
      ],
      "metadata": {
        "colab": {
          "base_uri": "https://localhost:8080/",
          "height": 36
        },
        "id": "vzOx54VV_KmG",
        "outputId": "645e78c6-a977-4715-e484-e2dcb814b654"
      },
      "execution_count": null,
      "outputs": [
        {
          "output_type": "execute_result",
          "data": {
            "text/plain": [
              "'Python llm python genai llm Python llm Matplotlib llm Seaborn Network 11m plot Violin Chart Pandas 11m Datascience 11m'"
            ],
            "application/vnd.google.colaboratory.intrinsic+json": {
              "type": "string"
            }
          },
          "metadata": {},
          "execution_count": 63
        }
      ]
    },
    {
      "cell_type": "code",
      "source": [
        "from wordcloud import WordCloud\n",
        "import matplotlib.pyplot as plt"
      ],
      "metadata": {
        "id": "LzWVBxMk_Kbo"
      },
      "execution_count": null,
      "outputs": []
    },
    {
      "cell_type": "code",
      "source": [
        "wordcloud = WordCloud(width=800, height=400, background_color='white').generate(text)\n",
        "plt.figure(figsize=(10, 5))\n",
        "plt.imshow(wordcloud, interpolation='bilinear')\n",
        "plt.axis('off')\n",
        "plt.show()"
      ],
      "metadata": {
        "id": "zMXzrN91-n6M",
        "colab": {
          "base_uri": "https://localhost:8080/",
          "height": 422
        },
        "outputId": "71427c62-52f6-481c-cb87-a164cfeafbba"
      },
      "execution_count": null,
      "outputs": [
        {
          "output_type": "display_data",
          "data": {
            "text/plain": [
              "<Figure size 1000x500 with 1 Axes>"
            ],
            "image/png": "[encoded data removed]"
          },
          "metadata": {}
        }
      ]
    },
    {
      "cell_type": "code",
      "source": [
        "wordcloud = WordCloud().generate(text)\n",
        "plt.figure(figsize=(10, 5))\n",
        "plt.imshow(wordcloud, interpolation='bilinear')\n",
        "plt.axis('off')\n",
        "plt.show()"
      ],
      "metadata": {
        "id": "hDF7JbEP-oBD",
        "colab": {
          "base_uri": "https://localhost:8080/",
          "height": 422
        },
        "outputId": "a126954d-cf31-4636-ba28-57db36d5b41f"
      },
      "execution_count": null,
      "outputs": [
        {
          "output_type": "display_data",
          "data": {
            "text/plain": [
              "<Figure size 1000x500 with 1 Axes>"
            ],
            "image/png": "[encoded data removed]"
          },
          "metadata": {}
        }
      ]
    },
    {
      "cell_type": "markdown",
      "source": [
        "# **Advance NLP using Spacy**"
      ],
      "metadata": {
        "id": "9zbr_fs-dy43"
      }
    },
    {
      "cell_type": "code",
      "source": [
        "!pip install spacy\n"
      ],
      "metadata": {
        "id": "oEqZstGv-oEZ",
        "colab": {
          "base_uri": "https://localhost:8080/"
        },
        "outputId": "b58bb81e-36a6-44cb-ecbc-dfc6f8974adb"
      },
      "execution_count": null,
      "outputs": [
        {
          "output_type": "stream",
          "name": "stdout",
          "text": [
            "Requirement already satisfied: spacy in /usr/local/lib/python3.11/dist-packages (3.7.5)\n",
            "Requirement already satisfied: spacy-legacy<3.1.0,>=3.0.11 in /usr/local/lib/python3.11/dist-packages (from spacy) (3.0.12)\n",
            "Requirement already satisfied: spacy-loggers<2.0.0,>=1.0.0 in /usr/local/lib/python3.11/dist-packages (from spacy) (1.0.5)\n",
            "Requirement already satisfied: murmurhash<1.1.0,>=0.28.0 in /usr/local/lib/python3.11/dist-packages (from spacy) (1.0.12)\n",
            "Requirement already satisfied: cymem<2.1.0,>=2.0.2 in /usr/local/lib/python3.11/dist-packages (from spacy) (2.0.11)\n",
            "Requirement already satisfied: preshed<3.1.0,>=3.0.2 in /usr/local/lib/python3.11/dist-packages (from spacy) (3.0.9)\n",
            "Requirement already satisfied: thinc<8.3.0,>=8.2.2 in /usr/local/lib/python3.11/dist-packages (from spacy) (8.2.5)\n",
            "Requirement already satisfied: wasabi<1.2.0,>=0.9.1 in /usr/local/lib/python3.11/dist-packages (from spacy) (1.1.3)\n",
            "Requirement already satisfied: srsly<3.0.0,>=2.4.3 in /usr/local/lib/python3.11/dist-packages (from spacy) (2.5.1)\n",
            "Requirement already satisfied: catalogue<2.1.0,>=2.0.6 in /usr/local/lib/python3.11/dist-packages (from spacy) (2.0.10)\n",
            "Requirement already satisfied: weasel<0.5.0,>=0.1.0 in /usr/local/lib/python3.11/dist-packages (from spacy) (0.4.1)\n",
            "Requirement already satisfied: typer<1.0.0,>=0.3.0 in /usr/local/lib/python3.11/dist-packages (from spacy) (0.15.2)\n",
            "Requirement already satisfied: tqdm<5.0.0,>=4.38.0 in /usr/local/lib/python3.11/dist-packages (from spacy) (4.67.1)\n",
            "Requirement already satisfied: requests<3.0.0,>=2.13.0 in /usr/local/lib/python3.11/dist-packages (from spacy) (2.32.3)\n",
            "Requirement already satisfied: pydantic!=1.8,!=1.8.1,<3.0.0,>=1.7.4 in /usr/local/lib/python3.11/dist-packages (from spacy) (2.10.6)\n",
            "Requirement already satisfied: jinja2 in /usr/local/lib/python3.11/dist-packages (from spacy) (3.1.6)\n",
            "Requirement already satisfied: setuptools in /usr/local/lib/python3.11/dist-packages (from spacy) (75.1.0)\n",
            "Requirement already satisfied: packaging>=20.0 in /usr/local/lib/python3.11/dist-packages (from spacy) (24.2)\n",
            "Requirement already satisfied: langcodes<4.0.0,>=3.2.0 in /usr/local/lib/python3.11/dist-packages (from spacy) (3.5.0)\n",
            "Requirement already satisfied: numpy>=1.19.0 in /usr/local/lib/python3.11/dist-packages (from spacy) (1.26.4)\n",
            "Requirement already satisfied: language-data>=1.2 in /usr/local/lib/python3.11/dist-packages (from langcodes<4.0.0,>=3.2.0->spacy) (1.3.0)\n",
            "Requirement already satisfied: annotated-types>=0.6.0 in /usr/local/lib/python3.11/dist-packages (from pydantic!=1.8,!=1.8.1,<3.0.0,>=1.7.4->spacy) (0.7.0)\n",
            "Requirement already satisfied: pydantic-core==2.27.2 in /usr/local/lib/python3.11/dist-packages (from pydantic!=1.8,!=1.8.1,<3.0.0,>=1.7.4->spacy) (2.27.2)\n",
            "Requirement already satisfied: typing-extensions>=4.12.2 in /usr/local/lib/python3.11/dist-packages (from pydantic!=1.8,!=1.8.1,<3.0.0,>=1.7.4->spacy) (4.12.2)\n",
            "Requirement already satisfied: charset-normalizer<4,>=2 in /usr/local/lib/python3.11/dist-packages (from requests<3.0.0,>=2.13.0->spacy) (3.4.1)\n",
            "Requirement already satisfied: idna<4,>=2.5 in /usr/local/lib/python3.11/dist-packages (from requests<3.0.0,>=2.13.0->spacy) (3.10)\n",
            "Requirement already satisfied: urllib3<3,>=1.21.1 in /usr/local/lib/python3.11/dist-packages (from requests<3.0.0,>=2.13.0->spacy) (2.3.0)\n",
            "Requirement already satisfied: certifi>=2017.4.17 in /usr/local/lib/python3.11/dist-packages (from requests<3.0.0,>=2.13.0->spacy) (2025.1.31)\n",
            "Requirement already satisfied: blis<0.8.0,>=0.7.8 in /usr/local/lib/python3.11/dist-packages (from thinc<8.3.0,>=8.2.2->spacy) (0.7.11)\n",
            "Requirement already satisfied: confection<1.0.0,>=0.0.1 in /usr/local/lib/python3.11/dist-packages (from thinc<8.3.0,>=8.2.2->spacy) (0.1.5)\n",
            "Requirement already satisfied: click>=8.0.0 in /usr/local/lib/python3.11/dist-packages (from typer<1.0.0,>=0.3.0->spacy) (8.1.8)\n",
            "Requirement already satisfied: shellingham>=1.3.0 in /usr/local/lib/python3.11/dist-packages (from typer<1.0.0,>=0.3.0->spacy) (1.5.4)\n",
            "Requirement already satisfied: rich>=10.11.0 in /usr/local/lib/python3.11/dist-packages (from typer<1.0.0,>=0.3.0->spacy) (13.9.4)\n",
            "Requirement already satisfied: cloudpathlib<1.0.0,>=0.7.0 in /usr/local/lib/python3.11/dist-packages (from weasel<0.5.0,>=0.1.0->spacy) (0.21.0)\n",
            "Requirement already satisfied: smart-open<8.0.0,>=5.2.1 in /usr/local/lib/python3.11/dist-packages (from weasel<0.5.0,>=0.1.0->spacy) (7.1.0)\n",
            "Requirement already satisfied: MarkupSafe>=2.0 in /usr/local/lib/python3.11/dist-packages (from jinja2->spacy) (3.0.2)\n",
            "Requirement already satisfied: marisa-trie>=1.1.0 in /usr/local/lib/python3.11/dist-packages (from language-data>=1.2->langcodes<4.0.0,>=3.2.0->spacy) (1.2.1)\n",
            "Requirement already satisfied: markdown-it-py>=2.2.0 in /usr/local/lib/python3.11/dist-packages (from rich>=10.11.0->typer<1.0.0,>=0.3.0->spacy) (3.0.0)\n",
            "Requirement already satisfied: pygments<3.0.0,>=2.13.0 in /usr/local/lib/python3.11/dist-packages (from rich>=10.11.0->typer<1.0.0,>=0.3.0->spacy) (2.18.0)\n",
            "Requirement already satisfied: wrapt in /usr/local/lib/python3.11/dist-packages (from smart-open<8.0.0,>=5.2.1->weasel<0.5.0,>=0.1.0->spacy) (1.17.2)\n",
            "Requirement already satisfied: mdurl~=0.1 in /usr/local/lib/python3.11/dist-packages (from markdown-it-py>=2.2.0->rich>=10.11.0->typer<1.0.0,>=0.3.0->spacy) (0.1.2)\n"
          ]
        }
      ]
    },
    {
      "cell_type": "code",
      "source": [
        "!python -m spacy download en_core_web_sm\n",
        "# en_core_web_sm ----- text document for very small\n",
        "# en_core_web_md  ---- text document for medium\n",
        "# en_core_web_lg --- text document for large"
      ],
      "metadata": {
        "id": "jC2H4epi-oHs",
        "colab": {
          "base_uri": "https://localhost:8080/"
        },
        "outputId": "126bda50-fb6e-4b2b-ddbe-cb90400ff517"
      },
      "execution_count": null,
      "outputs": [
        {
          "output_type": "stream",
          "name": "stdout",
          "text": [
            "Collecting en-core-web-sm==3.7.1\n",
            "  Downloading https://github.com/explosion/spacy-models/releases/download/en_core_web_sm-3.7.1/en_core_web_sm-3.7.1-py3-none-any.whl (12.8 MB)\n",
            "\u001b[2K     \u001b[90m━━━━━━━━━━━━━━━━━━━━━━━━━━━━━━━━━━━━━━━━\u001b[0m \u001b[32m12.8/12.8 MB\u001b[0m \u001b[31m78.6 MB/s\u001b[0m eta \u001b[36m0:00:00\u001b[0m\n",
            "\u001b[?25hRequirement already satisfied: spacy<3.8.0,>=3.7.2 in /usr/local/lib/python3.11/dist-packages (from en-core-web-sm==3.7.1) (3.7.5)\n",
            "Requirement already satisfied: spacy-legacy<3.1.0,>=3.0.11 in /usr/local/lib/python3.11/dist-packages (from spacy<3.8.0,>=3.7.2->en-core-web-sm==3.7.1) (3.0.12)\n",
            "Requirement already satisfied: spacy-loggers<2.0.0,>=1.0.0 in /usr/local/lib/python3.11/dist-packages (from spacy<3.8.0,>=3.7.2->en-core-web-sm==3.7.1) (1.0.5)\n",
            "Requirement already satisfied: murmurhash<1.1.0,>=0.28.0 in /usr/local/lib/python3.11/dist-packages (from spacy<3.8.0,>=3.7.2->en-core-web-sm==3.7.1) (1.0.12)\n",
            "Requirement already satisfied: cymem<2.1.0,>=2.0.2 in /usr/local/lib/python3.11/dist-packages (from spacy<3.8.0,>=3.7.2->en-core-web-sm==3.7.1) (2.0.11)\n",
            "Requirement already satisfied: preshed<3.1.0,>=3.0.2 in /usr/local/lib/python3.11/dist-packages (from spacy<3.8.0,>=3.7.2->en-core-web-sm==3.7.1) (3.0.9)\n",
            "Requirement already satisfied: thinc<8.3.0,>=8.2.2 in /usr/local/lib/python3.11/dist-packages (from spacy<3.8.0,>=3.7.2->en-core-web-sm==3.7.1) (8.2.5)\n",
            "Requirement already satisfied: wasabi<1.2.0,>=0.9.1 in /usr/local/lib/python3.11/dist-packages (from spacy<3.8.0,>=3.7.2->en-core-web-sm==3.7.1) (1.1.3)\n",
            "Requirement already satisfied: srsly<3.0.0,>=2.4.3 in /usr/local/lib/python3.11/dist-packages (from spacy<3.8.0,>=3.7.2->en-core-web-sm==3.7.1) (2.5.1)\n",
            "Requirement already satisfied: catalogue<2.1.0,>=2.0.6 in /usr/local/lib/python3.11/dist-packages (from spacy<3.8.0,>=3.7.2->en-core-web-sm==3.7.1) (2.0.10)\n",
            "Requirement already satisfied: weasel<0.5.0,>=0.1.0 in /usr/local/lib/python3.11/dist-packages (from spacy<3.8.0,>=3.7.2->en-core-web-sm==3.7.1) (0.4.1)\n",
            "Requirement already satisfied: typer<1.0.0,>=0.3.0 in /usr/local/lib/python3.11/dist-packages (from spacy<3.8.0,>=3.7.2->en-core-web-sm==3.7.1) (0.15.2)\n",
            "Requirement already satisfied: tqdm<5.0.0,>=4.38.0 in /usr/local/lib/python3.11/dist-packages (from spacy<3.8.0,>=3.7.2->en-core-web-sm==3.7.1) (4.67.1)\n",
            "Requirement already satisfied: requests<3.0.0,>=2.13.0 in /usr/local/lib/python3.11/dist-packages (from spacy<3.8.0,>=3.7.2->en-core-web-sm==3.7.1) (2.32.3)\n",
            "Requirement already satisfied: pydantic!=1.8,!=1.8.1,<3.0.0,>=1.7.4 in /usr/local/lib/python3.11/dist-packages (from spacy<3.8.0,>=3.7.2->en-core-web-sm==3.7.1) (2.10.6)\n",
            "Requirement already satisfied: jinja2 in /usr/local/lib/python3.11/dist-packages (from spacy<3.8.0,>=3.7.2->en-core-web-sm==3.7.1) (3.1.6)\n",
            "Requirement already satisfied: setuptools in /usr/local/lib/python3.11/dist-packages (from spacy<3.8.0,>=3.7.2->en-core-web-sm==3.7.1) (75.1.0)\n",
            "Requirement already satisfied: packaging>=20.0 in /usr/local/lib/python3.11/dist-packages (from spacy<3.8.0,>=3.7.2->en-core-web-sm==3.7.1) (24.2)\n",
            "Requirement already satisfied: langcodes<4.0.0,>=3.2.0 in /usr/local/lib/python3.11/dist-packages (from spacy<3.8.0,>=3.7.2->en-core-web-sm==3.7.1) (3.5.0)\n",
            "Requirement already satisfied: numpy>=1.19.0 in /usr/local/lib/python3.11/dist-packages (from spacy<3.8.0,>=3.7.2->en-core-web-sm==3.7.1) (1.26.4)\n",
            "Requirement already satisfied: language-data>=1.2 in /usr/local/lib/python3.11/dist-packages (from langcodes<4.0.0,>=3.2.0->spacy<3.8.0,>=3.7.2->en-core-web-sm==3.7.1) (1.3.0)\n",
            "Requirement already satisfied: annotated-types>=0.6.0 in /usr/local/lib/python3.11/dist-packages (from pydantic!=1.8,!=1.8.1,<3.0.0,>=1.7.4->spacy<3.8.0,>=3.7.2->en-core-web-sm==3.7.1) (0.7.0)\n",
            "Requirement already satisfied: pydantic-core==2.27.2 in /usr/local/lib/python3.11/dist-packages (from pydantic!=1.8,!=1.8.1,<3.0.0,>=1.7.4->spacy<3.8.0,>=3.7.2->en-core-web-sm==3.7.1) (2.27.2)\n",
            "Requirement already satisfied: typing-extensions>=4.12.2 in /usr/local/lib/python3.11/dist-packages (from pydantic!=1.8,!=1.8.1,<3.0.0,>=1.7.4->spacy<3.8.0,>=3.7.2->en-core-web-sm==3.7.1) (4.12.2)\n",
            "Requirement already satisfied: charset-normalizer<4,>=2 in /usr/local/lib/python3.11/dist-packages (from requests<3.0.0,>=2.13.0->spacy<3.8.0,>=3.7.2->en-core-web-sm==3.7.1) (3.4.1)\n",
            "Requirement already satisfied: idna<4,>=2.5 in /usr/local/lib/python3.11/dist-packages (from requests<3.0.0,>=2.13.0->spacy<3.8.0,>=3.7.2->en-core-web-sm==3.7.1) (3.10)\n",
            "Requirement already satisfied: urllib3<3,>=1.21.1 in /usr/local/lib/python3.11/dist-packages (from requests<3.0.0,>=2.13.0->spacy<3.8.0,>=3.7.2->en-core-web-sm==3.7.1) (2.3.0)\n",
            "Requirement already satisfied: certifi>=2017.4.17 in /usr/local/lib/python3.11/dist-packages (from requests<3.0.0,>=2.13.0->spacy<3.8.0,>=3.7.2->en-core-web-sm==3.7.1) (2025.1.31)\n",
            "Requirement already satisfied: blis<0.8.0,>=0.7.8 in /usr/local/lib/python3.11/dist-packages (from thinc<8.3.0,>=8.2.2->spacy<3.8.0,>=3.7.2->en-core-web-sm==3.7.1) (0.7.11)\n",
            "Requirement already satisfied: confection<1.0.0,>=0.0.1 in /usr/local/lib/python3.11/dist-packages (from thinc<8.3.0,>=8.2.2->spacy<3.8.0,>=3.7.2->en-core-web-sm==3.7.1) (0.1.5)\n",
            "Requirement already satisfied: click>=8.0.0 in /usr/local/lib/python3.11/dist-packages (from typer<1.0.0,>=0.3.0->spacy<3.8.0,>=3.7.2->en-core-web-sm==3.7.1) (8.1.8)\n",
            "Requirement already satisfied: shellingham>=1.3.0 in /usr/local/lib/python3.11/dist-packages (from typer<1.0.0,>=0.3.0->spacy<3.8.0,>=3.7.2->en-core-web-sm==3.7.1) (1.5.4)\n",
            "Requirement already satisfied: rich>=10.11.0 in /usr/local/lib/python3.11/dist-packages (from typer<1.0.0,>=0.3.0->spacy<3.8.0,>=3.7.2->en-core-web-sm==3.7.1) (13.9.4)\n",
            "Requirement already satisfied: cloudpathlib<1.0.0,>=0.7.0 in /usr/local/lib/python3.11/dist-packages (from weasel<0.5.0,>=0.1.0->spacy<3.8.0,>=3.7.2->en-core-web-sm==3.7.1) (0.21.0)\n",
            "Requirement already satisfied: smart-open<8.0.0,>=5.2.1 in /usr/local/lib/python3.11/dist-packages (from weasel<0.5.0,>=0.1.0->spacy<3.8.0,>=3.7.2->en-core-web-sm==3.7.1) (7.1.0)\n",
            "Requirement already satisfied: MarkupSafe>=2.0 in /usr/local/lib/python3.11/dist-packages (from jinja2->spacy<3.8.0,>=3.7.2->en-core-web-sm==3.7.1) (3.0.2)\n",
            "Requirement already satisfied: marisa-trie>=1.1.0 in /usr/local/lib/python3.11/dist-packages (from language-data>=1.2->langcodes<4.0.0,>=3.2.0->spacy<3.8.0,>=3.7.2->en-core-web-sm==3.7.1) (1.2.1)\n",
            "Requirement already satisfied: markdown-it-py>=2.2.0 in /usr/local/lib/python3.11/dist-packages (from rich>=10.11.0->typer<1.0.0,>=0.3.0->spacy<3.8.0,>=3.7.2->en-core-web-sm==3.7.1) (3.0.0)\n",
            "Requirement already satisfied: pygments<3.0.0,>=2.13.0 in /usr/local/lib/python3.11/dist-packages (from rich>=10.11.0->typer<1.0.0,>=0.3.0->spacy<3.8.0,>=3.7.2->en-core-web-sm==3.7.1) (2.18.0)\n",
            "Requirement already satisfied: wrapt in /usr/local/lib/python3.11/dist-packages (from smart-open<8.0.0,>=5.2.1->weasel<0.5.0,>=0.1.0->spacy<3.8.0,>=3.7.2->en-core-web-sm==3.7.1) (1.17.2)\n",
            "Requirement already satisfied: mdurl~=0.1 in /usr/local/lib/python3.11/dist-packages (from markdown-it-py>=2.2.0->rich>=10.11.0->typer<1.0.0,>=0.3.0->spacy<3.8.0,>=3.7.2->en-core-web-sm==3.7.1) (0.1.2)\n",
            "\u001b[38;5;2m✔ Download and installation successful\u001b[0m\n",
            "You can now load the package via spacy.load('en_core_web_sm')\n",
            "\u001b[38;5;3m⚠ Restart to reload dependencies\u001b[0m\n",
            "If you are in a Jupyter or Colab notebook, you may need to restart Python in\n",
            "order to load all the package's dependencies. You can do this by selecting the\n",
            "'Restart kernel' or 'Restart runtime' option.\n"
          ]
        }
      ]
    },
    {
      "cell_type": "code",
      "source": [
        "import spacy\n",
        "nlp = spacy.load('en_core_web_sm')"
      ],
      "metadata": {
        "id": "4iRRP5KFcw4q"
      },
      "execution_count": null,
      "outputs": []
    },
    {
      "cell_type": "code",
      "source": [
        "a = '''Artificial Intelligence refers to the intelligence of machines. This is in contrast to the natural intelligence of\n",
        "humans and animals. With Artificial Intelligence, machines perform functions such as learning, planning, reasoning and\n",
        "problem-solving. Most noteworthy, Artificial Intelligence is the simulation of human intelligence by machines.\n",
        "It is probably the fastest-growing development in the World of technology and innovation. Furthermore, many experts believe\n",
        "AI could solve major challenges and crisis situations.'''\n",
        "a"
      ],
      "metadata": {
        "colab": {
          "base_uri": "https://localhost:8080/",
          "height": 73
        },
        "id": "X70oIelF_MCI",
        "outputId": "23dadac6-fd55-484c-ca9c-e83ddf131254"
      },
      "execution_count": null,
      "outputs": [
        {
          "output_type": "execute_result",
          "data": {
            "text/plain": [
              "'Artificial Intelligence refers to the intelligence of machines. This is in contrast to the natural intelligence of \\nhumans and animals. With Artificial Intelligence, machines perform functions such as learning, planning, reasoning and \\nproblem-solving. Most noteworthy, Artificial Intelligence is the simulation of human intelligence by machines. \\nIt is probably the fastest-growing development in the World of technology and innovation. Furthermore, many experts believe\\nAI could solve major challenges and crisis situations.'"
            ],
            "application/vnd.google.colaboratory.intrinsic+json": {
              "type": "string"
            }
          },
          "metadata": {},
          "execution_count": 75
        }
      ]
    },
    {
      "cell_type": "code",
      "source": [
        "text = \"Python llm python genai llm Python llm Matplotlib llm Seaborn Network 11m plot Violin Chart Pandas 11m Datascience 11m\"\n",
        "text"
      ],
      "metadata": {
        "colab": {
          "base_uri": "https://localhost:8080/",
          "height": 36
        },
        "id": "0QxQyNblcway",
        "outputId": "8a2719a0-4149-4f19-8805-caa3efe48900"
      },
      "execution_count": null,
      "outputs": [
        {
          "output_type": "execute_result",
          "data": {
            "text/plain": [
              "'Python llm python genai llm Python llm Matplotlib llm Seaborn Network 11m plot Violin Chart Pandas 11m Datascience 11m'"
            ],
            "application/vnd.google.colaboratory.intrinsic+json": {
              "type": "string"
            }
          },
          "metadata": {},
          "execution_count": 74
        }
      ]
    },
    {
      "cell_type": "code",
      "source": [
        "doc = nlp(text)\n",
        "doc"
      ],
      "metadata": {
        "colab": {
          "base_uri": "https://localhost:8080/"
        },
        "id": "XKWkPwSXeE1y",
        "outputId": "3eb6cf38-4ef1-4bec-8662-9af6a2cd05f6"
      },
      "execution_count": null,
      "outputs": [
        {
          "output_type": "execute_result",
          "data": {
            "text/plain": [
              "Python llm python genai llm Python llm Matplotlib llm Seaborn Network 11m plot Violin Chart Pandas 11m Datascience 11m"
            ]
          },
          "metadata": {},
          "execution_count": 77
        }
      ]
    },
    {
      "cell_type": "code",
      "source": [
        "doc1 = nlp(a)\n",
        "doc1"
      ],
      "metadata": {
        "colab": {
          "base_uri": "https://localhost:8080/"
        },
        "id": "gcC5x3LacuK6",
        "outputId": "826f8887-e393-4c00-c660-0605c574b30d"
      },
      "execution_count": null,
      "outputs": [
        {
          "output_type": "execute_result",
          "data": {
            "text/plain": [
              "Artificial Intelligence refers to the intelligence of machines. This is in contrast to the natural intelligence of \n",
              "humans and animals. With Artificial Intelligence, machines perform functions such as learning, planning, reasoning and \n",
              "problem-solving. Most noteworthy, Artificial Intelligence is the simulation of human intelligence by machines. \n",
              "It is probably the fastest-growing development in the World of technology and innovation. Furthermore, many experts believe\n",
              "AI could solve major challenges and crisis situations."
            ]
          },
          "metadata": {},
          "execution_count": 78
        }
      ]
    },
    {
      "cell_type": "code",
      "source": [
        "for token in doc:\n",
        "  print(token.text)"
      ],
      "metadata": {
        "colab": {
          "base_uri": "https://localhost:8080/"
        },
        "id": "Og2K7fWzer4H",
        "outputId": "d548b6be-a10c-4455-adb8-9c5df6aee5c7"
      },
      "execution_count": null,
      "outputs": [
        {
          "output_type": "stream",
          "name": "stdout",
          "text": [
            "Python\n",
            "llm\n",
            "python\n",
            "genai\n",
            "llm\n",
            "Python\n",
            "llm\n",
            "Matplotlib\n",
            "llm\n",
            "Seaborn\n",
            "Network\n",
            "11\n",
            "m\n",
            "plot\n",
            "Violin\n",
            "Chart\n",
            "Pandas\n",
            "11\n",
            "m\n",
            "Datascience\n",
            "11\n",
            "m\n"
          ]
        }
      ]
    },
    {
      "cell_type": "code",
      "source": [
        "for token in doc:\n",
        "  print(token.text, token.pos_, token.tag_, token.is_stop, token.is_alpha,)"
      ],
      "metadata": {
        "colab": {
          "base_uri": "https://localhost:8080/"
        },
        "id": "lNcD7eJBeryf",
        "outputId": "34ed64b9-4c0a-4bdb-ed37-c7cce825f2a0"
      },
      "execution_count": null,
      "outputs": [
        {
          "output_type": "stream",
          "name": "stdout",
          "text": [
            "Python PROPN NNP False True\n",
            "llm ADV RB False True\n",
            "python ADV RB False True\n",
            "genai PROPN NNP False True\n",
            "llm ADV RB False True\n",
            "Python PROPN NNP False True\n",
            "llm INTJ UH False True\n",
            "Matplotlib PROPN NNP False True\n",
            "llm NOUN NN False True\n",
            "Seaborn PROPN NNP False True\n",
            "Network PROPN NNP False True\n",
            "11 NUM CD False False\n",
            "m NOUN NN False True\n",
            "plot NOUN NN False True\n",
            "Violin PROPN NNP False True\n",
            "Chart PROPN NNP False True\n",
            "Pandas PROPN NNP False True\n",
            "11 NUM CD False False\n",
            "m NOUN NN False True\n",
            "Datascience PROPN NNP False True\n",
            "11 NUM CD False False\n",
            "m NOUN NN False True\n"
          ]
        }
      ]
    },
    {
      "cell_type": "code",
      "source": [
        "for token in doc1:\n",
        "  print(token.text, token.pos_, token.tag_, token.is_stop, token.is_alpha,)"
      ],
      "metadata": {
        "colab": {
          "base_uri": "https://localhost:8080/"
        },
        "id": "MNjILSR9err-",
        "outputId": "5d960162-0fa0-43b3-bf94-2e64a0e41729"
      },
      "execution_count": null,
      "outputs": [
        {
          "output_type": "stream",
          "name": "stdout",
          "text": [
            "Artificial PROPN NNP False True\n",
            "Intelligence PROPN NNP False True\n",
            "refers VERB VBZ False True\n",
            "to ADP IN True True\n",
            "the DET DT True True\n",
            "intelligence NOUN NN False True\n",
            "of ADP IN True True\n",
            "machines NOUN NNS False True\n",
            ". PUNCT . False False\n",
            "This PRON DT True True\n",
            "is AUX VBZ True True\n",
            "in ADP IN True True\n",
            "contrast NOUN NN False True\n",
            "to ADP IN True True\n",
            "the DET DT True True\n",
            "natural ADJ JJ False True\n",
            "intelligence NOUN NN False True\n",
            "of ADP IN True True\n",
            "\n",
            " SPACE _SP False False\n",
            "humans NOUN NNS False True\n",
            "and CCONJ CC True True\n",
            "animals NOUN NNS False True\n",
            ". PUNCT . False False\n",
            "With ADP IN True True\n",
            "Artificial PROPN NNP False True\n",
            "Intelligence PROPN NNP False True\n",
            ", PUNCT , False False\n",
            "machines NOUN NNS False True\n",
            "perform VERB VBP False True\n",
            "functions NOUN NNS False True\n",
            "such ADJ JJ True True\n",
            "as ADP IN True True\n",
            "learning NOUN NN False True\n",
            ", PUNCT , False False\n",
            "planning NOUN NN False True\n",
            ", PUNCT , False False\n",
            "reasoning NOUN NN False True\n",
            "and CCONJ CC True True\n",
            "\n",
            " SPACE _SP False False\n",
            "problem NOUN NN False True\n",
            "- PUNCT HYPH False False\n",
            "solving NOUN NN False True\n",
            ". PUNCT . False False\n",
            "Most ADV RBS True True\n",
            "noteworthy ADJ JJ False True\n",
            ", PUNCT , False False\n",
            "Artificial PROPN NNP False True\n",
            "Intelligence PROPN NNP False True\n",
            "is AUX VBZ True True\n",
            "the DET DT True True\n",
            "simulation NOUN NN False True\n",
            "of ADP IN True True\n",
            "human ADJ JJ False True\n",
            "intelligence NOUN NN False True\n",
            "by ADP IN True True\n",
            "machines NOUN NNS False True\n",
            ". PUNCT . False False\n",
            "\n",
            " SPACE _SP False False\n",
            "It PRON PRP True True\n",
            "is AUX VBZ True True\n",
            "probably ADV RB False True\n",
            "the DET DT True True\n",
            "fastest ADV RBS False True\n",
            "- PUNCT HYPH False False\n",
            "growing VERB VBG False True\n",
            "development NOUN NN False True\n",
            "in ADP IN True True\n",
            "the DET DT True True\n",
            "World PROPN NNP False True\n",
            "of ADP IN True True\n",
            "technology NOUN NN False True\n",
            "and CCONJ CC True True\n",
            "innovation NOUN NN False True\n",
            ". PUNCT . False False\n",
            "Furthermore ADV RB False True\n",
            ", PUNCT , False False\n",
            "many ADJ JJ True True\n",
            "experts NOUN NNS False True\n",
            "believe VERB VBP False True\n",
            "\n",
            " SPACE _SP False False\n",
            "AI PROPN NNP False True\n",
            "could AUX MD True True\n",
            "solve VERB VB False True\n",
            "major ADJ JJ False True\n",
            "challenges NOUN NNS False True\n",
            "and CCONJ CC True True\n",
            "crisis NOUN NN False True\n",
            "situations NOUN NNS False True\n",
            ". PUNCT . False False\n"
          ]
        }
      ]
    },
    {
      "cell_type": "markdown",
      "source": [
        "# **Embedding**"
      ],
      "metadata": {
        "id": "-eabaKh6gN3F"
      }
    },
    {
      "cell_type": "markdown",
      "source": [
        "Creating vectors"
      ],
      "metadata": {
        "id": "Y4eSz0k_jKZd"
      }
    },
    {
      "cell_type": "code",
      "source": [
        "from sklearn.feature_extraction.text import CountVectorizer\n",
        "from sklearn.feature_extraction.text import TfidfVectorizer\n",
        "# from sklearn.metrics.pairwise import cosine_similarity"
      ],
      "metadata": {
        "id": "O-NOXROVerfx"
      },
      "execution_count": null,
      "outputs": []
    },
    {
      "cell_type": "code",
      "source": [
        "sentence = 'datascience and ai genai has great career ahead'\n",
        "vectorizer = CountVectorizer()\n",
        "vector = vectorizer.fit_transform([sentence])\n",
        "print(vectorizer.get_feature_names_out())\n",
        "vector.toarray()"
      ],
      "metadata": {
        "colab": {
          "base_uri": "https://localhost:8080/"
        },
        "id": "Bn5vD-8perYk",
        "outputId": "589824b3-aabc-4cc8-dd59-79843bb4eab9"
      },
      "execution_count": null,
      "outputs": [
        {
          "output_type": "stream",
          "name": "stdout",
          "text": [
            "['ahead' 'ai' 'and' 'career' 'datascience' 'genai' 'great' 'has']\n"
          ]
        },
        {
          "output_type": "execute_result",
          "data": {
            "text/plain": [
              "array([[1, 1, 1, 1, 1, 1, 1, 1]])"
            ]
          },
          "metadata": {},
          "execution_count": 88
        }
      ]
    },
    {
      "cell_type": "code",
      "source": [
        "sentence = 'datascience and ai genai has great career ahead'\n",
        "vectorizer = TfidfVectorizer()\n",
        "vector = vectorizer.fit_transform([sentence])\n",
        "print(vectorizer.get_feature_names_out())\n",
        "vector.toarray()"
      ],
      "metadata": {
        "colab": {
          "base_uri": "https://localhost:8080/"
        },
        "id": "nEHNQFTkild5",
        "outputId": "b36d91b7-3f9e-4d3a-d481-0b104916c3b4"
      },
      "execution_count": null,
      "outputs": [
        {
          "output_type": "stream",
          "name": "stdout",
          "text": [
            "['ahead' 'ai' 'and' 'career' 'datascience' 'genai' 'great' 'has']\n"
          ]
        },
        {
          "output_type": "execute_result",
          "data": {
            "text/plain": [
              "array([[0.35355339, 0.35355339, 0.35355339, 0.35355339, 0.35355339,\n",
              "        0.35355339, 0.35355339, 0.35355339]])"
            ]
          },
          "metadata": {},
          "execution_count": 91
        }
      ]
    },
    {
      "cell_type": "code",
      "source": [
        "paragraph = \"\"\"I have three visions for India. In 3000 years of our history, people from all over\n",
        "               the world have come and invaded us, captured our lands, conquered our minds.\n",
        "               From Alexander onwards, the Greeks, the Turks, the Moguls, the Portuguese, the British,\n",
        "               the French, the Dutch, all of them came and looted us, took over what was ours.\n",
        "               Yet we have not done this to any other nation. We have not conquered anyone.\n",
        "               We have not grabbed their land, their culture,\n",
        "               their history and tried to enforce our way of life on them.\n",
        "               Why? Because we respect the freedom of others.That is why my\n",
        "               first vision is that of freedom. I believe that India got its first vision of\n",
        "               this in 1857, when we started the War of Independence. It is this freedom that\n",
        "               we must protect and nurture and build on. If we are not free, no one will respect us.\n",
        "               My second vision for India’s development. For fifty years we have been a developing nation.\n",
        "               It is time we see ourselves as a developed nation. We are among the top 5 nations of the world\n",
        "               in terms of GDP. We have a 10 percent growth rate in most areas. Our poverty levels are falling.\n",
        "               Our achievements are being globally recognised today. Yet we lack the self-confidence to\n",
        "               see ourselves as a developed nation, self-reliant and self-assured. Isn’t this incorrect?\n",
        "               I have a third vision. India must stand up to the world. Because I believe that unless India\n",
        "               stands up to the world, no one will respect us. Only strength respects strength. We must be\n",
        "               strong not only as a military power but also as an economic power. Both must go hand-in-hand.\n",
        "               My good fortune was to have worked with three great minds. Dr. Vikram Sarabhai of the Dept. of\n",
        "               space, Professor Satish Dhawan, who succeeded him and Dr. Brahm Prakash, father of nuclear material.\n",
        "               I was lucky to have worked with all three of them closely and consider this the great opportunity of my life.\n",
        "               I see four milestones in my career. india is great compare to other country \"\"\"\n",
        "\n",
        "paragraph\n"
      ],
      "metadata": {
        "colab": {
          "base_uri": "https://localhost:8080/",
          "height": 128
        },
        "id": "OmggDCuW_L9x",
        "outputId": "1e6c0b4d-9941-4ffd-d5a9-300a668db8b6"
      },
      "execution_count": null,
      "outputs": [
        {
          "output_type": "execute_result",
          "data": {
            "text/plain": [
              "'I have three visions for India. In 3000 years of our history, people from all over \\n               the world have come and invaded us, captured our lands, conquered our minds. \\n               From Alexander onwards, the Greeks, the Turks, the Moguls, the Portuguese, the British,\\n               the French, the Dutch, all of them came and looted us, took over what was ours. \\n               Yet we have not done this to any other nation. We have not conquered anyone. \\n               We have not grabbed their land, their culture, \\n               their history and tried to enforce our way of life on them. \\n               Why? Because we respect the freedom of others.That is why my \\n               first vision is that of freedom. I believe that India got its first vision of \\n               this in 1857, when we started the War of Independence. It is this freedom that\\n               we must protect and nurture and build on. If we are not free, no one will respect us.\\n               My second vision for India’s development. For fifty years we have been a developing nation.\\n               It is time we see ourselves as a developed nation. We are among the top 5 nations of the world\\n               in terms of GDP. We have a 10 percent growth rate in most areas. Our poverty levels are falling.\\n               Our achievements are being globally recognised today. Yet we lack the self-confidence to\\n               see ourselves as a developed nation, self-reliant and self-assured. Isn’t this incorrect?\\n               I have a third vision. India must stand up to the world. Because I believe that unless India \\n               stands up to the world, no one will respect us. Only strength respects strength. We must be \\n               strong not only as a military power but also as an economic power. Both must go hand-in-hand. \\n               My good fortune was to have worked with three great minds. Dr. Vikram Sarabhai of the Dept. of \\n               space, Professor Satish Dhawan, who succeeded him and Dr. Brahm Prakash, father of nuclear material.\\n               I was lucky to have worked with all three of them closely and consider this the great opportunity of my life. \\n               I see four milestones in my career. india is great compare to other country '"
            ],
            "application/vnd.google.colaboratory.intrinsic+json": {
              "type": "string"
            }
          },
          "metadata": {},
          "execution_count": 92
        }
      ]
    },
    {
      "cell_type": "code",
      "source": [],
      "metadata": {
        "id": "9kgorlPwi2Nm"
      },
      "execution_count": null,
      "outputs": []
    }
  ]
}