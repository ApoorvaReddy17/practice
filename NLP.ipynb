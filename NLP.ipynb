{
  "nbformat": 4,
  "nbformat_minor": 0,
  "metadata": {
    "colab": {
      "provenance": [],
      "authorship_tag": "ABX9TyP7/reui2bTj+mrs8LWjEub",
      "include_colab_link": true
    },
    "kernelspec": {
      "name": "python3",
      "display_name": "Python 3"
    },
    "language_info": {
      "name": "python"
    },
    "widgets": {
      "application/vnd.jupyter.widget-state+json": {
        "08237c9758a04817bfabc198ddb3ca08": {
          "model_module": "@jupyter-widgets/controls",
          "model_name": "HBoxModel",
          "model_module_version": "1.5.0",
          "state": {
            "_dom_classes": [],
            "_model_module": "@jupyter-widgets/controls",
            "_model_module_version": "1.5.0",
            "_model_name": "HBoxModel",
            "_view_count": null,
            "_view_module": "@jupyter-widgets/controls",
            "_view_module_version": "1.5.0",
            "_view_name": "HBoxView",
            "box_style": "",
            "children": [
              "IPY_MODEL_80ef4de746354e4daa351980e25faed8",
              "IPY_MODEL_0dc1fcee9544468dade9034871fad21b",
              "IPY_MODEL_74d6387cf8864f6fb80dd2ca434f09d4"
            ],
            "layout": "IPY_MODEL_9c515c9eae584eb0a3f79021fd52c62f"
          }
        },
        "80ef4de746354e4daa351980e25faed8": {
          "model_module": "@jupyter-widgets/controls",
          "model_name": "HTMLModel",
          "model_module_version": "1.5.0",
          "state": {
            "_dom_classes": [],
            "_model_module": "@jupyter-widgets/controls",
            "_model_module_version": "1.5.0",
            "_model_name": "HTMLModel",
            "_view_count": null,
            "_view_module": "@jupyter-widgets/controls",
            "_view_module_version": "1.5.0",
            "_view_name": "HTMLView",
            "description": "",
            "description_tooltip": null,
            "layout": "IPY_MODEL_28690817317a4e518d9ea0f7be1baedf",
            "placeholder": "​",
            "style": "IPY_MODEL_49df1f39384e4168ae66f2aeb2daf1eb",
            "value": "model.safetensors: 100%"
          }
        },
        "0dc1fcee9544468dade9034871fad21b": {
          "model_module": "@jupyter-widgets/controls",
          "model_name": "FloatProgressModel",
          "model_module_version": "1.5.0",
          "state": {
            "_dom_classes": [],
            "_model_module": "@jupyter-widgets/controls",
            "_model_module_version": "1.5.0",
            "_model_name": "FloatProgressModel",
            "_view_count": null,
            "_view_module": "@jupyter-widgets/controls",
            "_view_module_version": "1.5.0",
            "_view_name": "ProgressView",
            "bar_style": "success",
            "description": "",
            "description_tooltip": null,
            "layout": "IPY_MODEL_e0677cdfd7f4404eb3c44f406763b4df",
            "max": 440449768,
            "min": 0,
            "orientation": "horizontal",
            "style": "IPY_MODEL_8cfcc01912314e51b099fde0479e5b38",
            "value": 440449768
          }
        },
        "74d6387cf8864f6fb80dd2ca434f09d4": {
          "model_module": "@jupyter-widgets/controls",
          "model_name": "HTMLModel",
          "model_module_version": "1.5.0",
          "state": {
            "_dom_classes": [],
            "_model_module": "@jupyter-widgets/controls",
            "_model_module_version": "1.5.0",
            "_model_name": "HTMLModel",
            "_view_count": null,
            "_view_module": "@jupyter-widgets/controls",
            "_view_module_version": "1.5.0",
            "_view_name": "HTMLView",
            "description": "",
            "description_tooltip": null,
            "layout": "IPY_MODEL_01040ecabfaf4e5cbadc47d72e1a739c",
            "placeholder": "​",
            "style": "IPY_MODEL_dabbbb85751148f3ac35a82f71b6653c",
            "value": " 440M/440M [00:24&lt;00:00, 24.8MB/s]"
          }
        },
        "9c515c9eae584eb0a3f79021fd52c62f": {
          "model_module": "@jupyter-widgets/base",
          "model_name": "LayoutModel",
          "model_module_version": "1.2.0",
          "state": {
            "_model_module": "@jupyter-widgets/base",
            "_model_module_version": "1.2.0",
            "_model_name": "LayoutModel",
            "_view_count": null,
            "_view_module": "@jupyter-widgets/base",
            "_view_module_version": "1.2.0",
            "_view_name": "LayoutView",
            "align_content": null,
            "align_items": null,
            "align_self": null,
            "border": null,
            "bottom": null,
            "display": null,
            "flex": null,
            "flex_flow": null,
            "grid_area": null,
            "grid_auto_columns": null,
            "grid_auto_flow": null,
            "grid_auto_rows": null,
            "grid_column": null,
            "grid_gap": null,
            "grid_row": null,
            "grid_template_areas": null,
            "grid_template_columns": null,
            "grid_template_rows": null,
            "height": null,
            "justify_content": null,
            "justify_items": null,
            "left": null,
            "margin": null,
            "max_height": null,
            "max_width": null,
            "min_height": null,
            "min_width": null,
            "object_fit": null,
            "object_position": null,
            "order": null,
            "overflow": null,
            "overflow_x": null,
            "overflow_y": null,
            "padding": null,
            "right": null,
            "top": null,
            "visibility": null,
            "width": null
          }
        },
        "28690817317a4e518d9ea0f7be1baedf": {
          "model_module": "@jupyter-widgets/base",
          "model_name": "LayoutModel",
          "model_module_version": "1.2.0",
          "state": {
            "_model_module": "@jupyter-widgets/base",
            "_model_module_version": "1.2.0",
            "_model_name": "LayoutModel",
            "_view_count": null,
            "_view_module": "@jupyter-widgets/base",
            "_view_module_version": "1.2.0",
            "_view_name": "LayoutView",
            "align_content": null,
            "align_items": null,
            "align_self": null,
            "border": null,
            "bottom": null,
            "display": null,
            "flex": null,
            "flex_flow": null,
            "grid_area": null,
            "grid_auto_columns": null,
            "grid_auto_flow": null,
            "grid_auto_rows": null,
            "grid_column": null,
            "grid_gap": null,
            "grid_row": null,
            "grid_template_areas": null,
            "grid_template_columns": null,
            "grid_template_rows": null,
            "height": null,
            "justify_content": null,
            "justify_items": null,
            "left": null,
            "margin": null,
            "max_height": null,
            "max_width": null,
            "min_height": null,
            "min_width": null,
            "object_fit": null,
            "object_position": null,
            "order": null,
            "overflow": null,
            "overflow_x": null,
            "overflow_y": null,
            "padding": null,
            "right": null,
            "top": null,
            "visibility": null,
            "width": null
          }
        },
        "49df1f39384e4168ae66f2aeb2daf1eb": {
          "model_module": "@jupyter-widgets/controls",
          "model_name": "DescriptionStyleModel",
          "model_module_version": "1.5.0",
          "state": {
            "_model_module": "@jupyter-widgets/controls",
            "_model_module_version": "1.5.0",
            "_model_name": "DescriptionStyleModel",
            "_view_count": null,
            "_view_module": "@jupyter-widgets/base",
            "_view_module_version": "1.2.0",
            "_view_name": "StyleView",
            "description_width": ""
          }
        },
        "e0677cdfd7f4404eb3c44f406763b4df": {
          "model_module": "@jupyter-widgets/base",
          "model_name": "LayoutModel",
          "model_module_version": "1.2.0",
          "state": {
            "_model_module": "@jupyter-widgets/base",
            "_model_module_version": "1.2.0",
            "_model_name": "LayoutModel",
            "_view_count": null,
            "_view_module": "@jupyter-widgets/base",
            "_view_module_version": "1.2.0",
            "_view_name": "LayoutView",
            "align_content": null,
            "align_items": null,
            "align_self": null,
            "border": null,
            "bottom": null,
            "display": null,
            "flex": null,
            "flex_flow": null,
            "grid_area": null,
            "grid_auto_columns": null,
            "grid_auto_flow": null,
            "grid_auto_rows": null,
            "grid_column": null,
            "grid_gap": null,
            "grid_row": null,
            "grid_template_areas": null,
            "grid_template_columns": null,
            "grid_template_rows": null,
            "height": null,
            "justify_content": null,
            "justify_items": null,
            "left": null,
            "margin": null,
            "max_height": null,
            "max_width": null,
            "min_height": null,
            "min_width": null,
            "object_fit": null,
            "object_position": null,
            "order": null,
            "overflow": null,
            "overflow_x": null,
            "overflow_y": null,
            "padding": null,
            "right": null,
            "top": null,
            "visibility": null,
            "width": null
          }
        },
        "8cfcc01912314e51b099fde0479e5b38": {
          "model_module": "@jupyter-widgets/controls",
          "model_name": "ProgressStyleModel",
          "model_module_version": "1.5.0",
          "state": {
            "_model_module": "@jupyter-widgets/controls",
            "_model_module_version": "1.5.0",
            "_model_name": "ProgressStyleModel",
            "_view_count": null,
            "_view_module": "@jupyter-widgets/base",
            "_view_module_version": "1.2.0",
            "_view_name": "StyleView",
            "bar_color": null,
            "description_width": ""
          }
        },
        "01040ecabfaf4e5cbadc47d72e1a739c": {
          "model_module": "@jupyter-widgets/base",
          "model_name": "LayoutModel",
          "model_module_version": "1.2.0",
          "state": {
            "_model_module": "@jupyter-widgets/base",
            "_model_module_version": "1.2.0",
            "_model_name": "LayoutModel",
            "_view_count": null,
            "_view_module": "@jupyter-widgets/base",
            "_view_module_version": "1.2.0",
            "_view_name": "LayoutView",
            "align_content": null,
            "align_items": null,
            "align_self": null,
            "border": null,
            "bottom": null,
            "display": null,
            "flex": null,
            "flex_flow": null,
            "grid_area": null,
            "grid_auto_columns": null,
            "grid_auto_flow": null,
            "grid_auto_rows": null,
            "grid_column": null,
            "grid_gap": null,
            "grid_row": null,
            "grid_template_areas": null,
            "grid_template_columns": null,
            "grid_template_rows": null,
            "height": null,
            "justify_content": null,
            "justify_items": null,
            "left": null,
            "margin": null,
            "max_height": null,
            "max_width": null,
            "min_height": null,
            "min_width": null,
            "object_fit": null,
            "object_position": null,
            "order": null,
            "overflow": null,
            "overflow_x": null,
            "overflow_y": null,
            "padding": null,
            "right": null,
            "top": null,
            "visibility": null,
            "width": null
          }
        },
        "dabbbb85751148f3ac35a82f71b6653c": {
          "model_module": "@jupyter-widgets/controls",
          "model_name": "DescriptionStyleModel",
          "model_module_version": "1.5.0",
          "state": {
            "_model_module": "@jupyter-widgets/controls",
            "_model_module_version": "1.5.0",
            "_model_name": "DescriptionStyleModel",
            "_view_count": null,
            "_view_module": "@jupyter-widgets/base",
            "_view_module_version": "1.2.0",
            "_view_name": "StyleView",
            "description_width": ""
          }
        },
        "98e65267cb5943b9a818e1f66ccb5f12": {
          "model_module": "@jupyter-widgets/controls",
          "model_name": "HBoxModel",
          "model_module_version": "1.5.0",
          "state": {
            "_dom_classes": [],
            "_model_module": "@jupyter-widgets/controls",
            "_model_module_version": "1.5.0",
            "_model_name": "HBoxModel",
            "_view_count": null,
            "_view_module": "@jupyter-widgets/controls",
            "_view_module_version": "1.5.0",
            "_view_name": "HBoxView",
            "box_style": "",
            "children": [
              "IPY_MODEL_9094a7713cc24451a5847627f831b383",
              "IPY_MODEL_01613a93cb03434cb69a1199999d6c70",
              "IPY_MODEL_651a55a85ad04868ba29ac684a2a2811"
            ],
            "layout": "IPY_MODEL_0a6fe98d9f0449cf9bfe8084d6697cb0"
          }
        },
        "9094a7713cc24451a5847627f831b383": {
          "model_module": "@jupyter-widgets/controls",
          "model_name": "HTMLModel",
          "model_module_version": "1.5.0",
          "state": {
            "_dom_classes": [],
            "_model_module": "@jupyter-widgets/controls",
            "_model_module_version": "1.5.0",
            "_model_name": "HTMLModel",
            "_view_count": null,
            "_view_module": "@jupyter-widgets/controls",
            "_view_module_version": "1.5.0",
            "_view_name": "HTMLView",
            "description": "",
            "description_tooltip": null,
            "layout": "IPY_MODEL_5586c87c922d4837bb4bf274fe94f43e",
            "placeholder": "​",
            "style": "IPY_MODEL_6add72dd5c82429c841e43b299eb3ef2",
            "value": "modules.json: 100%"
          }
        },
        "01613a93cb03434cb69a1199999d6c70": {
          "model_module": "@jupyter-widgets/controls",
          "model_name": "FloatProgressModel",
          "model_module_version": "1.5.0",
          "state": {
            "_dom_classes": [],
            "_model_module": "@jupyter-widgets/controls",
            "_model_module_version": "1.5.0",
            "_model_name": "FloatProgressModel",
            "_view_count": null,
            "_view_module": "@jupyter-widgets/controls",
            "_view_module_version": "1.5.0",
            "_view_name": "ProgressView",
            "bar_style": "success",
            "description": "",
            "description_tooltip": null,
            "layout": "IPY_MODEL_ac811e9eaf0545509b55db3da369a913",
            "max": 349,
            "min": 0,
            "orientation": "horizontal",
            "style": "IPY_MODEL_7863f978f79c4fd6918ebc66345cef7d",
            "value": 349
          }
        },
        "651a55a85ad04868ba29ac684a2a2811": {
          "model_module": "@jupyter-widgets/controls",
          "model_name": "HTMLModel",
          "model_module_version": "1.5.0",
          "state": {
            "_dom_classes": [],
            "_model_module": "@jupyter-widgets/controls",
            "_model_module_version": "1.5.0",
            "_model_name": "HTMLModel",
            "_view_count": null,
            "_view_module": "@jupyter-widgets/controls",
            "_view_module_version": "1.5.0",
            "_view_name": "HTMLView",
            "description": "",
            "description_tooltip": null,
            "layout": "IPY_MODEL_a11713c27379421e92c7164aa4d470a8",
            "placeholder": "​",
            "style": "IPY_MODEL_3bbbbd7b492a4b598945fe15df2cf8f3",
            "value": " 349/349 [00:00&lt;00:00, 9.88kB/s]"
          }
        },
        "0a6fe98d9f0449cf9bfe8084d6697cb0": {
          "model_module": "@jupyter-widgets/base",
          "model_name": "LayoutModel",
          "model_module_version": "1.2.0",
          "state": {
            "_model_module": "@jupyter-widgets/base",
            "_model_module_version": "1.2.0",
            "_model_name": "LayoutModel",
            "_view_count": null,
            "_view_module": "@jupyter-widgets/base",
            "_view_module_version": "1.2.0",
            "_view_name": "LayoutView",
            "align_content": null,
            "align_items": null,
            "align_self": null,
            "border": null,
            "bottom": null,
            "display": null,
            "flex": null,
            "flex_flow": null,
            "grid_area": null,
            "grid_auto_columns": null,
            "grid_auto_flow": null,
            "grid_auto_rows": null,
            "grid_column": null,
            "grid_gap": null,
            "grid_row": null,
            "grid_template_areas": null,
            "grid_template_columns": null,
            "grid_template_rows": null,
            "height": null,
            "justify_content": null,
            "justify_items": null,
            "left": null,
            "margin": null,
            "max_height": null,
            "max_width": null,
            "min_height": null,
            "min_width": null,
            "object_fit": null,
            "object_position": null,
            "order": null,
            "overflow": null,
            "overflow_x": null,
            "overflow_y": null,
            "padding": null,
            "right": null,
            "top": null,
            "visibility": null,
            "width": null
          }
        },
        "5586c87c922d4837bb4bf274fe94f43e": {
          "model_module": "@jupyter-widgets/base",
          "model_name": "LayoutModel",
          "model_module_version": "1.2.0",
          "state": {
            "_model_module": "@jupyter-widgets/base",
            "_model_module_version": "1.2.0",
            "_model_name": "LayoutModel",
            "_view_count": null,
            "_view_module": "@jupyter-widgets/base",
            "_view_module_version": "1.2.0",
            "_view_name": "LayoutView",
            "align_content": null,
            "align_items": null,
            "align_self": null,
            "border": null,
            "bottom": null,
            "display": null,
            "flex": null,
            "flex_flow": null,
            "grid_area": null,
            "grid_auto_columns": null,
            "grid_auto_flow": null,
            "grid_auto_rows": null,
            "grid_column": null,
            "grid_gap": null,
            "grid_row": null,
            "grid_template_areas": null,
            "grid_template_columns": null,
            "grid_template_rows": null,
            "height": null,
            "justify_content": null,
            "justify_items": null,
            "left": null,
            "margin": null,
            "max_height": null,
            "max_width": null,
            "min_height": null,
            "min_width": null,
            "object_fit": null,
            "object_position": null,
            "order": null,
            "overflow": null,
            "overflow_x": null,
            "overflow_y": null,
            "padding": null,
            "right": null,
            "top": null,
            "visibility": null,
            "width": null
          }
        },
        "6add72dd5c82429c841e43b299eb3ef2": {
          "model_module": "@jupyter-widgets/controls",
          "model_name": "DescriptionStyleModel",
          "model_module_version": "1.5.0",
          "state": {
            "_model_module": "@jupyter-widgets/controls",
            "_model_module_version": "1.5.0",
            "_model_name": "DescriptionStyleModel",
            "_view_count": null,
            "_view_module": "@jupyter-widgets/base",
            "_view_module_version": "1.2.0",
            "_view_name": "StyleView",
            "description_width": ""
          }
        },
        "ac811e9eaf0545509b55db3da369a913": {
          "model_module": "@jupyter-widgets/base",
          "model_name": "LayoutModel",
          "model_module_version": "1.2.0",
          "state": {
            "_model_module": "@jupyter-widgets/base",
            "_model_module_version": "1.2.0",
            "_model_name": "LayoutModel",
            "_view_count": null,
            "_view_module": "@jupyter-widgets/base",
            "_view_module_version": "1.2.0",
            "_view_name": "LayoutView",
            "align_content": null,
            "align_items": null,
            "align_self": null,
            "border": null,
            "bottom": null,
            "display": null,
            "flex": null,
            "flex_flow": null,
            "grid_area": null,
            "grid_auto_columns": null,
            "grid_auto_flow": null,
            "grid_auto_rows": null,
            "grid_column": null,
            "grid_gap": null,
            "grid_row": null,
            "grid_template_areas": null,
            "grid_template_columns": null,
            "grid_template_rows": null,
            "height": null,
            "justify_content": null,
            "justify_items": null,
            "left": null,
            "margin": null,
            "max_height": null,
            "max_width": null,
            "min_height": null,
            "min_width": null,
            "object_fit": null,
            "object_position": null,
            "order": null,
            "overflow": null,
            "overflow_x": null,
            "overflow_y": null,
            "padding": null,
            "right": null,
            "top": null,
            "visibility": null,
            "width": null
          }
        },
        "7863f978f79c4fd6918ebc66345cef7d": {
          "model_module": "@jupyter-widgets/controls",
          "model_name": "ProgressStyleModel",
          "model_module_version": "1.5.0",
          "state": {
            "_model_module": "@jupyter-widgets/controls",
            "_model_module_version": "1.5.0",
            "_model_name": "ProgressStyleModel",
            "_view_count": null,
            "_view_module": "@jupyter-widgets/base",
            "_view_module_version": "1.2.0",
            "_view_name": "StyleView",
            "bar_color": null,
            "description_width": ""
          }
        },
        "a11713c27379421e92c7164aa4d470a8": {
          "model_module": "@jupyter-widgets/base",
          "model_name": "LayoutModel",
          "model_module_version": "1.2.0",
          "state": {
            "_model_module": "@jupyter-widgets/base",
            "_model_module_version": "1.2.0",
            "_model_name": "LayoutModel",
            "_view_count": null,
            "_view_module": "@jupyter-widgets/base",
            "_view_module_version": "1.2.0",
            "_view_name": "LayoutView",
            "align_content": null,
            "align_items": null,
            "align_self": null,
            "border": null,
            "bottom": null,
            "display": null,
            "flex": null,
            "flex_flow": null,
            "grid_area": null,
            "grid_auto_columns": null,
            "grid_auto_flow": null,
            "grid_auto_rows": null,
            "grid_column": null,
            "grid_gap": null,
            "grid_row": null,
            "grid_template_areas": null,
            "grid_template_columns": null,
            "grid_template_rows": null,
            "height": null,
            "justify_content": null,
            "justify_items": null,
            "left": null,
            "margin": null,
            "max_height": null,
            "max_width": null,
            "min_height": null,
            "min_width": null,
            "object_fit": null,
            "object_position": null,
            "order": null,
            "overflow": null,
            "overflow_x": null,
            "overflow_y": null,
            "padding": null,
            "right": null,
            "top": null,
            "visibility": null,
            "width": null
          }
        },
        "3bbbbd7b492a4b598945fe15df2cf8f3": {
          "model_module": "@jupyter-widgets/controls",
          "model_name": "DescriptionStyleModel",
          "model_module_version": "1.5.0",
          "state": {
            "_model_module": "@jupyter-widgets/controls",
            "_model_module_version": "1.5.0",
            "_model_name": "DescriptionStyleModel",
            "_view_count": null,
            "_view_module": "@jupyter-widgets/base",
            "_view_module_version": "1.2.0",
            "_view_name": "StyleView",
            "description_width": ""
          }
        },
        "92f25082b79440cebcbc10fbd89cd5be": {
          "model_module": "@jupyter-widgets/controls",
          "model_name": "HBoxModel",
          "model_module_version": "1.5.0",
          "state": {
            "_dom_classes": [],
            "_model_module": "@jupyter-widgets/controls",
            "_model_module_version": "1.5.0",
            "_model_name": "HBoxModel",
            "_view_count": null,
            "_view_module": "@jupyter-widgets/controls",
            "_view_module_version": "1.5.0",
            "_view_name": "HBoxView",
            "box_style": "",
            "children": [
              "IPY_MODEL_42ce3e965de14b2ea874ff84e342a761",
              "IPY_MODEL_f4e4ef2048bb4772bf5f10e325d780af",
              "IPY_MODEL_99ffbdb53d5b421d99c1f1215c161818"
            ],
            "layout": "IPY_MODEL_22e06135b5324d07857a53b59797f9fd"
          }
        },
        "42ce3e965de14b2ea874ff84e342a761": {
          "model_module": "@jupyter-widgets/controls",
          "model_name": "HTMLModel",
          "model_module_version": "1.5.0",
          "state": {
            "_dom_classes": [],
            "_model_module": "@jupyter-widgets/controls",
            "_model_module_version": "1.5.0",
            "_model_name": "HTMLModel",
            "_view_count": null,
            "_view_module": "@jupyter-widgets/controls",
            "_view_module_version": "1.5.0",
            "_view_name": "HTMLView",
            "description": "",
            "description_tooltip": null,
            "layout": "IPY_MODEL_cdc778d8186247138623361903cfbc0c",
            "placeholder": "​",
            "style": "IPY_MODEL_91f5b24efce94870af25d03ebbff9009",
            "value": "config_sentence_transformers.json: 100%"
          }
        },
        "f4e4ef2048bb4772bf5f10e325d780af": {
          "model_module": "@jupyter-widgets/controls",
          "model_name": "FloatProgressModel",
          "model_module_version": "1.5.0",
          "state": {
            "_dom_classes": [],
            "_model_module": "@jupyter-widgets/controls",
            "_model_module_version": "1.5.0",
            "_model_name": "FloatProgressModel",
            "_view_count": null,
            "_view_module": "@jupyter-widgets/controls",
            "_view_module_version": "1.5.0",
            "_view_name": "ProgressView",
            "bar_style": "success",
            "description": "",
            "description_tooltip": null,
            "layout": "IPY_MODEL_907d07e34a4f4d3eb952bf462e2ed321",
            "max": 116,
            "min": 0,
            "orientation": "horizontal",
            "style": "IPY_MODEL_687440cc0d8541d2901546b027313e2e",
            "value": 116
          }
        },
        "99ffbdb53d5b421d99c1f1215c161818": {
          "model_module": "@jupyter-widgets/controls",
          "model_name": "HTMLModel",
          "model_module_version": "1.5.0",
          "state": {
            "_dom_classes": [],
            "_model_module": "@jupyter-widgets/controls",
            "_model_module_version": "1.5.0",
            "_model_name": "HTMLModel",
            "_view_count": null,
            "_view_module": "@jupyter-widgets/controls",
            "_view_module_version": "1.5.0",
            "_view_name": "HTMLView",
            "description": "",
            "description_tooltip": null,
            "layout": "IPY_MODEL_99309dcda3ae4246a1f66121f6966960",
            "placeholder": "​",
            "style": "IPY_MODEL_bff092d2beb242e2b1705ebd724552ea",
            "value": " 116/116 [00:00&lt;00:00, 4.51kB/s]"
          }
        },
        "22e06135b5324d07857a53b59797f9fd": {
          "model_module": "@jupyter-widgets/base",
          "model_name": "LayoutModel",
          "model_module_version": "1.2.0",
          "state": {
            "_model_module": "@jupyter-widgets/base",
            "_model_module_version": "1.2.0",
            "_model_name": "LayoutModel",
            "_view_count": null,
            "_view_module": "@jupyter-widgets/base",
            "_view_module_version": "1.2.0",
            "_view_name": "LayoutView",
            "align_content": null,
            "align_items": null,
            "align_self": null,
            "border": null,
            "bottom": null,
            "display": null,
            "flex": null,
            "flex_flow": null,
            "grid_area": null,
            "grid_auto_columns": null,
            "grid_auto_flow": null,
            "grid_auto_rows": null,
            "grid_column": null,
            "grid_gap": null,
            "grid_row": null,
            "grid_template_areas": null,
            "grid_template_columns": null,
            "grid_template_rows": null,
            "height": null,
            "justify_content": null,
            "justify_items": null,
            "left": null,
            "margin": null,
            "max_height": null,
            "max_width": null,
            "min_height": null,
            "min_width": null,
            "object_fit": null,
            "object_position": null,
            "order": null,
            "overflow": null,
            "overflow_x": null,
            "overflow_y": null,
            "padding": null,
            "right": null,
            "top": null,
            "visibility": null,
            "width": null
          }
        },
        "cdc778d8186247138623361903cfbc0c": {
          "model_module": "@jupyter-widgets/base",
          "model_name": "LayoutModel",
          "model_module_version": "1.2.0",
          "state": {
            "_model_module": "@jupyter-widgets/base",
            "_model_module_version": "1.2.0",
            "_model_name": "LayoutModel",
            "_view_count": null,
            "_view_module": "@jupyter-widgets/base",
            "_view_module_version": "1.2.0",
            "_view_name": "LayoutView",
            "align_content": null,
            "align_items": null,
            "align_self": null,
            "border": null,
            "bottom": null,
            "display": null,
            "flex": null,
            "flex_flow": null,
            "grid_area": null,
            "grid_auto_columns": null,
            "grid_auto_flow": null,
            "grid_auto_rows": null,
            "grid_column": null,
            "grid_gap": null,
            "grid_row": null,
            "grid_template_areas": null,
            "grid_template_columns": null,
            "grid_template_rows": null,
            "height": null,
            "justify_content": null,
            "justify_items": null,
            "left": null,
            "margin": null,
            "max_height": null,
            "max_width": null,
            "min_height": null,
            "min_width": null,
            "object_fit": null,
            "object_position": null,
            "order": null,
            "overflow": null,
            "overflow_x": null,
            "overflow_y": null,
            "padding": null,
            "right": null,
            "top": null,
            "visibility": null,
            "width": null
          }
        },
        "91f5b24efce94870af25d03ebbff9009": {
          "model_module": "@jupyter-widgets/controls",
          "model_name": "DescriptionStyleModel",
          "model_module_version": "1.5.0",
          "state": {
            "_model_module": "@jupyter-widgets/controls",
            "_model_module_version": "1.5.0",
            "_model_name": "DescriptionStyleModel",
            "_view_count": null,
            "_view_module": "@jupyter-widgets/base",
            "_view_module_version": "1.2.0",
            "_view_name": "StyleView",
            "description_width": ""
          }
        },
        "907d07e34a4f4d3eb952bf462e2ed321": {
          "model_module": "@jupyter-widgets/base",
          "model_name": "LayoutModel",
          "model_module_version": "1.2.0",
          "state": {
            "_model_module": "@jupyter-widgets/base",
            "_model_module_version": "1.2.0",
            "_model_name": "LayoutModel",
            "_view_count": null,
            "_view_module": "@jupyter-widgets/base",
            "_view_module_version": "1.2.0",
            "_view_name": "LayoutView",
            "align_content": null,
            "align_items": null,
            "align_self": null,
            "border": null,
            "bottom": null,
            "display": null,
            "flex": null,
            "flex_flow": null,
            "grid_area": null,
            "grid_auto_columns": null,
            "grid_auto_flow": null,
            "grid_auto_rows": null,
            "grid_column": null,
            "grid_gap": null,
            "grid_row": null,
            "grid_template_areas": null,
            "grid_template_columns": null,
            "grid_template_rows": null,
            "height": null,
            "justify_content": null,
            "justify_items": null,
            "left": null,
            "margin": null,
            "max_height": null,
            "max_width": null,
            "min_height": null,
            "min_width": null,
            "object_fit": null,
            "object_position": null,
            "order": null,
            "overflow": null,
            "overflow_x": null,
            "overflow_y": null,
            "padding": null,
            "right": null,
            "top": null,
            "visibility": null,
            "width": null
          }
        },
        "687440cc0d8541d2901546b027313e2e": {
          "model_module": "@jupyter-widgets/controls",
          "model_name": "ProgressStyleModel",
          "model_module_version": "1.5.0",
          "state": {
            "_model_module": "@jupyter-widgets/controls",
            "_model_module_version": "1.5.0",
            "_model_name": "ProgressStyleModel",
            "_view_count": null,
            "_view_module": "@jupyter-widgets/base",
            "_view_module_version": "1.2.0",
            "_view_name": "StyleView",
            "bar_color": null,
            "description_width": ""
          }
        },
        "99309dcda3ae4246a1f66121f6966960": {
          "model_module": "@jupyter-widgets/base",
          "model_name": "LayoutModel",
          "model_module_version": "1.2.0",
          "state": {
            "_model_module": "@jupyter-widgets/base",
            "_model_module_version": "1.2.0",
            "_model_name": "LayoutModel",
            "_view_count": null,
            "_view_module": "@jupyter-widgets/base",
            "_view_module_version": "1.2.0",
            "_view_name": "LayoutView",
            "align_content": null,
            "align_items": null,
            "align_self": null,
            "border": null,
            "bottom": null,
            "display": null,
            "flex": null,
            "flex_flow": null,
            "grid_area": null,
            "grid_auto_columns": null,
            "grid_auto_flow": null,
            "grid_auto_rows": null,
            "grid_column": null,
            "grid_gap": null,
            "grid_row": null,
            "grid_template_areas": null,
            "grid_template_columns": null,
            "grid_template_rows": null,
            "height": null,
            "justify_content": null,
            "justify_items": null,
            "left": null,
            "margin": null,
            "max_height": null,
            "max_width": null,
            "min_height": null,
            "min_width": null,
            "object_fit": null,
            "object_position": null,
            "order": null,
            "overflow": null,
            "overflow_x": null,
            "overflow_y": null,
            "padding": null,
            "right": null,
            "top": null,
            "visibility": null,
            "width": null
          }
        },
        "bff092d2beb242e2b1705ebd724552ea": {
          "model_module": "@jupyter-widgets/controls",
          "model_name": "DescriptionStyleModel",
          "model_module_version": "1.5.0",
          "state": {
            "_model_module": "@jupyter-widgets/controls",
            "_model_module_version": "1.5.0",
            "_model_name": "DescriptionStyleModel",
            "_view_count": null,
            "_view_module": "@jupyter-widgets/base",
            "_view_module_version": "1.2.0",
            "_view_name": "StyleView",
            "description_width": ""
          }
        },
        "135fc07fd0c14af68f11daa8f46bdbc7": {
          "model_module": "@jupyter-widgets/controls",
          "model_name": "HBoxModel",
          "model_module_version": "1.5.0",
          "state": {
            "_dom_classes": [],
            "_model_module": "@jupyter-widgets/controls",
            "_model_module_version": "1.5.0",
            "_model_name": "HBoxModel",
            "_view_count": null,
            "_view_module": "@jupyter-widgets/controls",
            "_view_module_version": "1.5.0",
            "_view_name": "HBoxView",
            "box_style": "",
            "children": [
              "IPY_MODEL_bdedd923162c4dae82ae482e95f2091e",
              "IPY_MODEL_3b63f8042f48488c90063514e247695b",
              "IPY_MODEL_471c5417d4124de890d55bd9337d25fa"
            ],
            "layout": "IPY_MODEL_eb3f0fdfe6724df5895ef3f9373a4f0c"
          }
        },
        "bdedd923162c4dae82ae482e95f2091e": {
          "model_module": "@jupyter-widgets/controls",
          "model_name": "HTMLModel",
          "model_module_version": "1.5.0",
          "state": {
            "_dom_classes": [],
            "_model_module": "@jupyter-widgets/controls",
            "_model_module_version": "1.5.0",
            "_model_name": "HTMLModel",
            "_view_count": null,
            "_view_module": "@jupyter-widgets/controls",
            "_view_module_version": "1.5.0",
            "_view_name": "HTMLView",
            "description": "",
            "description_tooltip": null,
            "layout": "IPY_MODEL_bd8164996de648558aeccc923fc3ac23",
            "placeholder": "​",
            "style": "IPY_MODEL_9971fd83832044a39feb31aea13293d9",
            "value": "README.md: 100%"
          }
        },
        "3b63f8042f48488c90063514e247695b": {
          "model_module": "@jupyter-widgets/controls",
          "model_name": "FloatProgressModel",
          "model_module_version": "1.5.0",
          "state": {
            "_dom_classes": [],
            "_model_module": "@jupyter-widgets/controls",
            "_model_module_version": "1.5.0",
            "_model_name": "FloatProgressModel",
            "_view_count": null,
            "_view_module": "@jupyter-widgets/controls",
            "_view_module_version": "1.5.0",
            "_view_name": "ProgressView",
            "bar_style": "success",
            "description": "",
            "description_tooltip": null,
            "layout": "IPY_MODEL_a9549412f3514e0ca18d06eceff87b9b",
            "max": 10454,
            "min": 0,
            "orientation": "horizontal",
            "style": "IPY_MODEL_da966eb786874d39bdc2f603c866e9b0",
            "value": 10454
          }
        },
        "471c5417d4124de890d55bd9337d25fa": {
          "model_module": "@jupyter-widgets/controls",
          "model_name": "HTMLModel",
          "model_module_version": "1.5.0",
          "state": {
            "_dom_classes": [],
            "_model_module": "@jupyter-widgets/controls",
            "_model_module_version": "1.5.0",
            "_model_name": "HTMLModel",
            "_view_count": null,
            "_view_module": "@jupyter-widgets/controls",
            "_view_module_version": "1.5.0",
            "_view_name": "HTMLView",
            "description": "",
            "description_tooltip": null,
            "layout": "IPY_MODEL_ff811337a08a4ee6bd7656b07294f3bd",
            "placeholder": "​",
            "style": "IPY_MODEL_2f2c9098b9fd4b188318fee2ed8bcb88",
            "value": " 10.5k/10.5k [00:00&lt;00:00, 321kB/s]"
          }
        },
        "eb3f0fdfe6724df5895ef3f9373a4f0c": {
          "model_module": "@jupyter-widgets/base",
          "model_name": "LayoutModel",
          "model_module_version": "1.2.0",
          "state": {
            "_model_module": "@jupyter-widgets/base",
            "_model_module_version": "1.2.0",
            "_model_name": "LayoutModel",
            "_view_count": null,
            "_view_module": "@jupyter-widgets/base",
            "_view_module_version": "1.2.0",
            "_view_name": "LayoutView",
            "align_content": null,
            "align_items": null,
            "align_self": null,
            "border": null,
            "bottom": null,
            "display": null,
            "flex": null,
            "flex_flow": null,
            "grid_area": null,
            "grid_auto_columns": null,
            "grid_auto_flow": null,
            "grid_auto_rows": null,
            "grid_column": null,
            "grid_gap": null,
            "grid_row": null,
            "grid_template_areas": null,
            "grid_template_columns": null,
            "grid_template_rows": null,
            "height": null,
            "justify_content": null,
            "justify_items": null,
            "left": null,
            "margin": null,
            "max_height": null,
            "max_width": null,
            "min_height": null,
            "min_width": null,
            "object_fit": null,
            "object_position": null,
            "order": null,
            "overflow": null,
            "overflow_x": null,
            "overflow_y": null,
            "padding": null,
            "right": null,
            "top": null,
            "visibility": null,
            "width": null
          }
        },
        "bd8164996de648558aeccc923fc3ac23": {
          "model_module": "@jupyter-widgets/base",
          "model_name": "LayoutModel",
          "model_module_version": "1.2.0",
          "state": {
            "_model_module": "@jupyter-widgets/base",
            "_model_module_version": "1.2.0",
            "_model_name": "LayoutModel",
            "_view_count": null,
            "_view_module": "@jupyter-widgets/base",
            "_view_module_version": "1.2.0",
            "_view_name": "LayoutView",
            "align_content": null,
            "align_items": null,
            "align_self": null,
            "border": null,
            "bottom": null,
            "display": null,
            "flex": null,
            "flex_flow": null,
            "grid_area": null,
            "grid_auto_columns": null,
            "grid_auto_flow": null,
            "grid_auto_rows": null,
            "grid_column": null,
            "grid_gap": null,
            "grid_row": null,
            "grid_template_areas": null,
            "grid_template_columns": null,
            "grid_template_rows": null,
            "height": null,
            "justify_content": null,
            "justify_items": null,
            "left": null,
            "margin": null,
            "max_height": null,
            "max_width": null,
            "min_height": null,
            "min_width": null,
            "object_fit": null,
            "object_position": null,
            "order": null,
            "overflow": null,
            "overflow_x": null,
            "overflow_y": null,
            "padding": null,
            "right": null,
            "top": null,
            "visibility": null,
            "width": null
          }
        },
        "9971fd83832044a39feb31aea13293d9": {
          "model_module": "@jupyter-widgets/controls",
          "model_name": "DescriptionStyleModel",
          "model_module_version": "1.5.0",
          "state": {
            "_model_module": "@jupyter-widgets/controls",
            "_model_module_version": "1.5.0",
            "_model_name": "DescriptionStyleModel",
            "_view_count": null,
            "_view_module": "@jupyter-widgets/base",
            "_view_module_version": "1.2.0",
            "_view_name": "StyleView",
            "description_width": ""
          }
        },
        "a9549412f3514e0ca18d06eceff87b9b": {
          "model_module": "@jupyter-widgets/base",
          "model_name": "LayoutModel",
          "model_module_version": "1.2.0",
          "state": {
            "_model_module": "@jupyter-widgets/base",
            "_model_module_version": "1.2.0",
            "_model_name": "LayoutModel",
            "_view_count": null,
            "_view_module": "@jupyter-widgets/base",
            "_view_module_version": "1.2.0",
            "_view_name": "LayoutView",
            "align_content": null,
            "align_items": null,
            "align_self": null,
            "border": null,
            "bottom": null,
            "display": null,
            "flex": null,
            "flex_flow": null,
            "grid_area": null,
            "grid_auto_columns": null,
            "grid_auto_flow": null,
            "grid_auto_rows": null,
            "grid_column": null,
            "grid_gap": null,
            "grid_row": null,
            "grid_template_areas": null,
            "grid_template_columns": null,
            "grid_template_rows": null,
            "height": null,
            "justify_content": null,
            "justify_items": null,
            "left": null,
            "margin": null,
            "max_height": null,
            "max_width": null,
            "min_height": null,
            "min_width": null,
            "object_fit": null,
            "object_position": null,
            "order": null,
            "overflow": null,
            "overflow_x": null,
            "overflow_y": null,
            "padding": null,
            "right": null,
            "top": null,
            "visibility": null,
            "width": null
          }
        },
        "da966eb786874d39bdc2f603c866e9b0": {
          "model_module": "@jupyter-widgets/controls",
          "model_name": "ProgressStyleModel",
          "model_module_version": "1.5.0",
          "state": {
            "_model_module": "@jupyter-widgets/controls",
            "_model_module_version": "1.5.0",
            "_model_name": "ProgressStyleModel",
            "_view_count": null,
            "_view_module": "@jupyter-widgets/base",
            "_view_module_version": "1.2.0",
            "_view_name": "StyleView",
            "bar_color": null,
            "description_width": ""
          }
        },
        "ff811337a08a4ee6bd7656b07294f3bd": {
          "model_module": "@jupyter-widgets/base",
          "model_name": "LayoutModel",
          "model_module_version": "1.2.0",
          "state": {
            "_model_module": "@jupyter-widgets/base",
            "_model_module_version": "1.2.0",
            "_model_name": "LayoutModel",
            "_view_count": null,
            "_view_module": "@jupyter-widgets/base",
            "_view_module_version": "1.2.0",
            "_view_name": "LayoutView",
            "align_content": null,
            "align_items": null,
            "align_self": null,
            "border": null,
            "bottom": null,
            "display": null,
            "flex": null,
            "flex_flow": null,
            "grid_area": null,
            "grid_auto_columns": null,
            "grid_auto_flow": null,
            "grid_auto_rows": null,
            "grid_column": null,
            "grid_gap": null,
            "grid_row": null,
            "grid_template_areas": null,
            "grid_template_columns": null,
            "grid_template_rows": null,
            "height": null,
            "justify_content": null,
            "justify_items": null,
            "left": null,
            "margin": null,
            "max_height": null,
            "max_width": null,
            "min_height": null,
            "min_width": null,
            "object_fit": null,
            "object_position": null,
            "order": null,
            "overflow": null,
            "overflow_x": null,
            "overflow_y": null,
            "padding": null,
            "right": null,
            "top": null,
            "visibility": null,
            "width": null
          }
        },
        "2f2c9098b9fd4b188318fee2ed8bcb88": {
          "model_module": "@jupyter-widgets/controls",
          "model_name": "DescriptionStyleModel",
          "model_module_version": "1.5.0",
          "state": {
            "_model_module": "@jupyter-widgets/controls",
            "_model_module_version": "1.5.0",
            "_model_name": "DescriptionStyleModel",
            "_view_count": null,
            "_view_module": "@jupyter-widgets/base",
            "_view_module_version": "1.2.0",
            "_view_name": "StyleView",
            "description_width": ""
          }
        },
        "3b413d19a1c24cd48e50da5d624bdc23": {
          "model_module": "@jupyter-widgets/controls",
          "model_name": "HBoxModel",
          "model_module_version": "1.5.0",
          "state": {
            "_dom_classes": [],
            "_model_module": "@jupyter-widgets/controls",
            "_model_module_version": "1.5.0",
            "_model_name": "HBoxModel",
            "_view_count": null,
            "_view_module": "@jupyter-widgets/controls",
            "_view_module_version": "1.5.0",
            "_view_name": "HBoxView",
            "box_style": "",
            "children": [
              "IPY_MODEL_ece0b321e2f0479da087e86b9614c906",
              "IPY_MODEL_325da35dfd4441c4b4d27f01ebbc9814",
              "IPY_MODEL_c4805fee53ee4a08bf4c6a75ffd14c85"
            ],
            "layout": "IPY_MODEL_f2f00d42b75d4505ad863b1d921bfa26"
          }
        },
        "ece0b321e2f0479da087e86b9614c906": {
          "model_module": "@jupyter-widgets/controls",
          "model_name": "HTMLModel",
          "model_module_version": "1.5.0",
          "state": {
            "_dom_classes": [],
            "_model_module": "@jupyter-widgets/controls",
            "_model_module_version": "1.5.0",
            "_model_name": "HTMLModel",
            "_view_count": null,
            "_view_module": "@jupyter-widgets/controls",
            "_view_module_version": "1.5.0",
            "_view_name": "HTMLView",
            "description": "",
            "description_tooltip": null,
            "layout": "IPY_MODEL_45333200218a4e118f0775e1fa159ebc",
            "placeholder": "​",
            "style": "IPY_MODEL_66a130e0ef974be5911c3fe225a13fa8",
            "value": "sentence_bert_config.json: 100%"
          }
        },
        "325da35dfd4441c4b4d27f01ebbc9814": {
          "model_module": "@jupyter-widgets/controls",
          "model_name": "FloatProgressModel",
          "model_module_version": "1.5.0",
          "state": {
            "_dom_classes": [],
            "_model_module": "@jupyter-widgets/controls",
            "_model_module_version": "1.5.0",
            "_model_name": "FloatProgressModel",
            "_view_count": null,
            "_view_module": "@jupyter-widgets/controls",
            "_view_module_version": "1.5.0",
            "_view_name": "ProgressView",
            "bar_style": "success",
            "description": "",
            "description_tooltip": null,
            "layout": "IPY_MODEL_c5b32cb8d1644918b4f40bda72fd7216",
            "max": 53,
            "min": 0,
            "orientation": "horizontal",
            "style": "IPY_MODEL_dbc4b9174c9e4fe3bc6baa78586c5c17",
            "value": 53
          }
        },
        "c4805fee53ee4a08bf4c6a75ffd14c85": {
          "model_module": "@jupyter-widgets/controls",
          "model_name": "HTMLModel",
          "model_module_version": "1.5.0",
          "state": {
            "_dom_classes": [],
            "_model_module": "@jupyter-widgets/controls",
            "_model_module_version": "1.5.0",
            "_model_name": "HTMLModel",
            "_view_count": null,
            "_view_module": "@jupyter-widgets/controls",
            "_view_module_version": "1.5.0",
            "_view_name": "HTMLView",
            "description": "",
            "description_tooltip": null,
            "layout": "IPY_MODEL_dfe3ff13bde44285a9198bb6f37bc016",
            "placeholder": "​",
            "style": "IPY_MODEL_5ea66bef2b2149e4bdaa630e10a2b777",
            "value": " 53.0/53.0 [00:00&lt;00:00, 800B/s]"
          }
        },
        "f2f00d42b75d4505ad863b1d921bfa26": {
          "model_module": "@jupyter-widgets/base",
          "model_name": "LayoutModel",
          "model_module_version": "1.2.0",
          "state": {
            "_model_module": "@jupyter-widgets/base",
            "_model_module_version": "1.2.0",
            "_model_name": "LayoutModel",
            "_view_count": null,
            "_view_module": "@jupyter-widgets/base",
            "_view_module_version": "1.2.0",
            "_view_name": "LayoutView",
            "align_content": null,
            "align_items": null,
            "align_self": null,
            "border": null,
            "bottom": null,
            "display": null,
            "flex": null,
            "flex_flow": null,
            "grid_area": null,
            "grid_auto_columns": null,
            "grid_auto_flow": null,
            "grid_auto_rows": null,
            "grid_column": null,
            "grid_gap": null,
            "grid_row": null,
            "grid_template_areas": null,
            "grid_template_columns": null,
            "grid_template_rows": null,
            "height": null,
            "justify_content": null,
            "justify_items": null,
            "left": null,
            "margin": null,
            "max_height": null,
            "max_width": null,
            "min_height": null,
            "min_width": null,
            "object_fit": null,
            "object_position": null,
            "order": null,
            "overflow": null,
            "overflow_x": null,
            "overflow_y": null,
            "padding": null,
            "right": null,
            "top": null,
            "visibility": null,
            "width": null
          }
        },
        "45333200218a4e118f0775e1fa159ebc": {
          "model_module": "@jupyter-widgets/base",
          "model_name": "LayoutModel",
          "model_module_version": "1.2.0",
          "state": {
            "_model_module": "@jupyter-widgets/base",
            "_model_module_version": "1.2.0",
            "_model_name": "LayoutModel",
            "_view_count": null,
            "_view_module": "@jupyter-widgets/base",
            "_view_module_version": "1.2.0",
            "_view_name": "LayoutView",
            "align_content": null,
            "align_items": null,
            "align_self": null,
            "border": null,
            "bottom": null,
            "display": null,
            "flex": null,
            "flex_flow": null,
            "grid_area": null,
            "grid_auto_columns": null,
            "grid_auto_flow": null,
            "grid_auto_rows": null,
            "grid_column": null,
            "grid_gap": null,
            "grid_row": null,
            "grid_template_areas": null,
            "grid_template_columns": null,
            "grid_template_rows": null,
            "height": null,
            "justify_content": null,
            "justify_items": null,
            "left": null,
            "margin": null,
            "max_height": null,
            "max_width": null,
            "min_height": null,
            "min_width": null,
            "object_fit": null,
            "object_position": null,
            "order": null,
            "overflow": null,
            "overflow_x": null,
            "overflow_y": null,
            "padding": null,
            "right": null,
            "top": null,
            "visibility": null,
            "width": null
          }
        },
        "66a130e0ef974be5911c3fe225a13fa8": {
          "model_module": "@jupyter-widgets/controls",
          "model_name": "DescriptionStyleModel",
          "model_module_version": "1.5.0",
          "state": {
            "_model_module": "@jupyter-widgets/controls",
            "_model_module_version": "1.5.0",
            "_model_name": "DescriptionStyleModel",
            "_view_count": null,
            "_view_module": "@jupyter-widgets/base",
            "_view_module_version": "1.2.0",
            "_view_name": "StyleView",
            "description_width": ""
          }
        },
        "c5b32cb8d1644918b4f40bda72fd7216": {
          "model_module": "@jupyter-widgets/base",
          "model_name": "LayoutModel",
          "model_module_version": "1.2.0",
          "state": {
            "_model_module": "@jupyter-widgets/base",
            "_model_module_version": "1.2.0",
            "_model_name": "LayoutModel",
            "_view_count": null,
            "_view_module": "@jupyter-widgets/base",
            "_view_module_version": "1.2.0",
            "_view_name": "LayoutView",
            "align_content": null,
            "align_items": null,
            "align_self": null,
            "border": null,
            "bottom": null,
            "display": null,
            "flex": null,
            "flex_flow": null,
            "grid_area": null,
            "grid_auto_columns": null,
            "grid_auto_flow": null,
            "grid_auto_rows": null,
            "grid_column": null,
            "grid_gap": null,
            "grid_row": null,
            "grid_template_areas": null,
            "grid_template_columns": null,
            "grid_template_rows": null,
            "height": null,
            "justify_content": null,
            "justify_items": null,
            "left": null,
            "margin": null,
            "max_height": null,
            "max_width": null,
            "min_height": null,
            "min_width": null,
            "object_fit": null,
            "object_position": null,
            "order": null,
            "overflow": null,
            "overflow_x": null,
            "overflow_y": null,
            "padding": null,
            "right": null,
            "top": null,
            "visibility": null,
            "width": null
          }
        },
        "dbc4b9174c9e4fe3bc6baa78586c5c17": {
          "model_module": "@jupyter-widgets/controls",
          "model_name": "ProgressStyleModel",
          "model_module_version": "1.5.0",
          "state": {
            "_model_module": "@jupyter-widgets/controls",
            "_model_module_version": "1.5.0",
            "_model_name": "ProgressStyleModel",
            "_view_count": null,
            "_view_module": "@jupyter-widgets/base",
            "_view_module_version": "1.2.0",
            "_view_name": "StyleView",
            "bar_color": null,
            "description_width": ""
          }
        },
        "dfe3ff13bde44285a9198bb6f37bc016": {
          "model_module": "@jupyter-widgets/base",
          "model_name": "LayoutModel",
          "model_module_version": "1.2.0",
          "state": {
            "_model_module": "@jupyter-widgets/base",
            "_model_module_version": "1.2.0",
            "_model_name": "LayoutModel",
            "_view_count": null,
            "_view_module": "@jupyter-widgets/base",
            "_view_module_version": "1.2.0",
            "_view_name": "LayoutView",
            "align_content": null,
            "align_items": null,
            "align_self": null,
            "border": null,
            "bottom": null,
            "display": null,
            "flex": null,
            "flex_flow": null,
            "grid_area": null,
            "grid_auto_columns": null,
            "grid_auto_flow": null,
            "grid_auto_rows": null,
            "grid_column": null,
            "grid_gap": null,
            "grid_row": null,
            "grid_template_areas": null,
            "grid_template_columns": null,
            "grid_template_rows": null,
            "height": null,
            "justify_content": null,
            "justify_items": null,
            "left": null,
            "margin": null,
            "max_height": null,
            "max_width": null,
            "min_height": null,
            "min_width": null,
            "object_fit": null,
            "object_position": null,
            "order": null,
            "overflow": null,
            "overflow_x": null,
            "overflow_y": null,
            "padding": null,
            "right": null,
            "top": null,
            "visibility": null,
            "width": null
          }
        },
        "5ea66bef2b2149e4bdaa630e10a2b777": {
          "model_module": "@jupyter-widgets/controls",
          "model_name": "DescriptionStyleModel",
          "model_module_version": "1.5.0",
          "state": {
            "_model_module": "@jupyter-widgets/controls",
            "_model_module_version": "1.5.0",
            "_model_name": "DescriptionStyleModel",
            "_view_count": null,
            "_view_module": "@jupyter-widgets/base",
            "_view_module_version": "1.2.0",
            "_view_name": "StyleView",
            "description_width": ""
          }
        },
        "532f05f798004abbb443534af8930d76": {
          "model_module": "@jupyter-widgets/controls",
          "model_name": "HBoxModel",
          "model_module_version": "1.5.0",
          "state": {
            "_dom_classes": [],
            "_model_module": "@jupyter-widgets/controls",
            "_model_module_version": "1.5.0",
            "_model_name": "HBoxModel",
            "_view_count": null,
            "_view_module": "@jupyter-widgets/controls",
            "_view_module_version": "1.5.0",
            "_view_name": "HBoxView",
            "box_style": "",
            "children": [
              "IPY_MODEL_e035eca73df9419ab8d377dfa97ae32f",
              "IPY_MODEL_26f697ec9d894eddaa07b7f1db08c983",
              "IPY_MODEL_bbeb1a890edd47108e058954395406ae"
            ],
            "layout": "IPY_MODEL_f8c2533c5d984cb18b6485d0f31b4052"
          }
        },
        "e035eca73df9419ab8d377dfa97ae32f": {
          "model_module": "@jupyter-widgets/controls",
          "model_name": "HTMLModel",
          "model_module_version": "1.5.0",
          "state": {
            "_dom_classes": [],
            "_model_module": "@jupyter-widgets/controls",
            "_model_module_version": "1.5.0",
            "_model_name": "HTMLModel",
            "_view_count": null,
            "_view_module": "@jupyter-widgets/controls",
            "_view_module_version": "1.5.0",
            "_view_name": "HTMLView",
            "description": "",
            "description_tooltip": null,
            "layout": "IPY_MODEL_8dc1223dd4384ba9aa8c04afdb245171",
            "placeholder": "​",
            "style": "IPY_MODEL_79d0657360b644fd9f789663d3eb6d08",
            "value": "config.json: 100%"
          }
        },
        "26f697ec9d894eddaa07b7f1db08c983": {
          "model_module": "@jupyter-widgets/controls",
          "model_name": "FloatProgressModel",
          "model_module_version": "1.5.0",
          "state": {
            "_dom_classes": [],
            "_model_module": "@jupyter-widgets/controls",
            "_model_module_version": "1.5.0",
            "_model_name": "FloatProgressModel",
            "_view_count": null,
            "_view_module": "@jupyter-widgets/controls",
            "_view_module_version": "1.5.0",
            "_view_name": "ProgressView",
            "bar_style": "success",
            "description": "",
            "description_tooltip": null,
            "layout": "IPY_MODEL_359cc433bd704f72816b68dfd57c3c05",
            "max": 612,
            "min": 0,
            "orientation": "horizontal",
            "style": "IPY_MODEL_0130034c54cc4279b64b2a224ef94a9e",
            "value": 612
          }
        },
        "bbeb1a890edd47108e058954395406ae": {
          "model_module": "@jupyter-widgets/controls",
          "model_name": "HTMLModel",
          "model_module_version": "1.5.0",
          "state": {
            "_dom_classes": [],
            "_model_module": "@jupyter-widgets/controls",
            "_model_module_version": "1.5.0",
            "_model_name": "HTMLModel",
            "_view_count": null,
            "_view_module": "@jupyter-widgets/controls",
            "_view_module_version": "1.5.0",
            "_view_name": "HTMLView",
            "description": "",
            "description_tooltip": null,
            "layout": "IPY_MODEL_1223753ac11d4aa8875fee080ee6f7f5",
            "placeholder": "​",
            "style": "IPY_MODEL_240ae7cbf5cd4724afc7c2ed73ce6649",
            "value": " 612/612 [00:00&lt;00:00, 6.23kB/s]"
          }
        },
        "f8c2533c5d984cb18b6485d0f31b4052": {
          "model_module": "@jupyter-widgets/base",
          "model_name": "LayoutModel",
          "model_module_version": "1.2.0",
          "state": {
            "_model_module": "@jupyter-widgets/base",
            "_model_module_version": "1.2.0",
            "_model_name": "LayoutModel",
            "_view_count": null,
            "_view_module": "@jupyter-widgets/base",
            "_view_module_version": "1.2.0",
            "_view_name": "LayoutView",
            "align_content": null,
            "align_items": null,
            "align_self": null,
            "border": null,
            "bottom": null,
            "display": null,
            "flex": null,
            "flex_flow": null,
            "grid_area": null,
            "grid_auto_columns": null,
            "grid_auto_flow": null,
            "grid_auto_rows": null,
            "grid_column": null,
            "grid_gap": null,
            "grid_row": null,
            "grid_template_areas": null,
            "grid_template_columns": null,
            "grid_template_rows": null,
            "height": null,
            "justify_content": null,
            "justify_items": null,
            "left": null,
            "margin": null,
            "max_height": null,
            "max_width": null,
            "min_height": null,
            "min_width": null,
            "object_fit": null,
            "object_position": null,
            "order": null,
            "overflow": null,
            "overflow_x": null,
            "overflow_y": null,
            "padding": null,
            "right": null,
            "top": null,
            "visibility": null,
            "width": null
          }
        },
        "8dc1223dd4384ba9aa8c04afdb245171": {
          "model_module": "@jupyter-widgets/base",
          "model_name": "LayoutModel",
          "model_module_version": "1.2.0",
          "state": {
            "_model_module": "@jupyter-widgets/base",
            "_model_module_version": "1.2.0",
            "_model_name": "LayoutModel",
            "_view_count": null,
            "_view_module": "@jupyter-widgets/base",
            "_view_module_version": "1.2.0",
            "_view_name": "LayoutView",
            "align_content": null,
            "align_items": null,
            "align_self": null,
            "border": null,
            "bottom": null,
            "display": null,
            "flex": null,
            "flex_flow": null,
            "grid_area": null,
            "grid_auto_columns": null,
            "grid_auto_flow": null,
            "grid_auto_rows": null,
            "grid_column": null,
            "grid_gap": null,
            "grid_row": null,
            "grid_template_areas": null,
            "grid_template_columns": null,
            "grid_template_rows": null,
            "height": null,
            "justify_content": null,
            "justify_items": null,
            "left": null,
            "margin": null,
            "max_height": null,
            "max_width": null,
            "min_height": null,
            "min_width": null,
            "object_fit": null,
            "object_position": null,
            "order": null,
            "overflow": null,
            "overflow_x": null,
            "overflow_y": null,
            "padding": null,
            "right": null,
            "top": null,
            "visibility": null,
            "width": null
          }
        },
        "79d0657360b644fd9f789663d3eb6d08": {
          "model_module": "@jupyter-widgets/controls",
          "model_name": "DescriptionStyleModel",
          "model_module_version": "1.5.0",
          "state": {
            "_model_module": "@jupyter-widgets/controls",
            "_model_module_version": "1.5.0",
            "_model_name": "DescriptionStyleModel",
            "_view_count": null,
            "_view_module": "@jupyter-widgets/base",
            "_view_module_version": "1.2.0",
            "_view_name": "StyleView",
            "description_width": ""
          }
        },
        "359cc433bd704f72816b68dfd57c3c05": {
          "model_module": "@jupyter-widgets/base",
          "model_name": "LayoutModel",
          "model_module_version": "1.2.0",
          "state": {
            "_model_module": "@jupyter-widgets/base",
            "_model_module_version": "1.2.0",
            "_model_name": "LayoutModel",
            "_view_count": null,
            "_view_module": "@jupyter-widgets/base",
            "_view_module_version": "1.2.0",
            "_view_name": "LayoutView",
            "align_content": null,
            "align_items": null,
            "align_self": null,
            "border": null,
            "bottom": null,
            "display": null,
            "flex": null,
            "flex_flow": null,
            "grid_area": null,
            "grid_auto_columns": null,
            "grid_auto_flow": null,
            "grid_auto_rows": null,
            "grid_column": null,
            "grid_gap": null,
            "grid_row": null,
            "grid_template_areas": null,
            "grid_template_columns": null,
            "grid_template_rows": null,
            "height": null,
            "justify_content": null,
            "justify_items": null,
            "left": null,
            "margin": null,
            "max_height": null,
            "max_width": null,
            "min_height": null,
            "min_width": null,
            "object_fit": null,
            "object_position": null,
            "order": null,
            "overflow": null,
            "overflow_x": null,
            "overflow_y": null,
            "padding": null,
            "right": null,
            "top": null,
            "visibility": null,
            "width": null
          }
        },
        "0130034c54cc4279b64b2a224ef94a9e": {
          "model_module": "@jupyter-widgets/controls",
          "model_name": "ProgressStyleModel",
          "model_module_version": "1.5.0",
          "state": {
            "_model_module": "@jupyter-widgets/controls",
            "_model_module_version": "1.5.0",
            "_model_name": "ProgressStyleModel",
            "_view_count": null,
            "_view_module": "@jupyter-widgets/base",
            "_view_module_version": "1.2.0",
            "_view_name": "StyleView",
            "bar_color": null,
            "description_width": ""
          }
        },
        "1223753ac11d4aa8875fee080ee6f7f5": {
          "model_module": "@jupyter-widgets/base",
          "model_name": "LayoutModel",
          "model_module_version": "1.2.0",
          "state": {
            "_model_module": "@jupyter-widgets/base",
            "_model_module_version": "1.2.0",
            "_model_name": "LayoutModel",
            "_view_count": null,
            "_view_module": "@jupyter-widgets/base",
            "_view_module_version": "1.2.0",
            "_view_name": "LayoutView",
            "align_content": null,
            "align_items": null,
            "align_self": null,
            "border": null,
            "bottom": null,
            "display": null,
            "flex": null,
            "flex_flow": null,
            "grid_area": null,
            "grid_auto_columns": null,
            "grid_auto_flow": null,
            "grid_auto_rows": null,
            "grid_column": null,
            "grid_gap": null,
            "grid_row": null,
            "grid_template_areas": null,
            "grid_template_columns": null,
            "grid_template_rows": null,
            "height": null,
            "justify_content": null,
            "justify_items": null,
            "left": null,
            "margin": null,
            "max_height": null,
            "max_width": null,
            "min_height": null,
            "min_width": null,
            "object_fit": null,
            "object_position": null,
            "order": null,
            "overflow": null,
            "overflow_x": null,
            "overflow_y": null,
            "padding": null,
            "right": null,
            "top": null,
            "visibility": null,
            "width": null
          }
        },
        "240ae7cbf5cd4724afc7c2ed73ce6649": {
          "model_module": "@jupyter-widgets/controls",
          "model_name": "DescriptionStyleModel",
          "model_module_version": "1.5.0",
          "state": {
            "_model_module": "@jupyter-widgets/controls",
            "_model_module_version": "1.5.0",
            "_model_name": "DescriptionStyleModel",
            "_view_count": null,
            "_view_module": "@jupyter-widgets/base",
            "_view_module_version": "1.2.0",
            "_view_name": "StyleView",
            "description_width": ""
          }
        },
        "dfc9242d7e434b538fed84f80dfadea3": {
          "model_module": "@jupyter-widgets/controls",
          "model_name": "HBoxModel",
          "model_module_version": "1.5.0",
          "state": {
            "_dom_classes": [],
            "_model_module": "@jupyter-widgets/controls",
            "_model_module_version": "1.5.0",
            "_model_name": "HBoxModel",
            "_view_count": null,
            "_view_module": "@jupyter-widgets/controls",
            "_view_module_version": "1.5.0",
            "_view_name": "HBoxView",
            "box_style": "",
            "children": [
              "IPY_MODEL_2fef4df8633c490694075ef1e606c292",
              "IPY_MODEL_aae842f21a514254ab317f2f956f3af0",
              "IPY_MODEL_b64200f1d8674c30bb6ce927da93d234"
            ],
            "layout": "IPY_MODEL_5a4a849a14184b77afaaebe3252631ee"
          }
        },
        "2fef4df8633c490694075ef1e606c292": {
          "model_module": "@jupyter-widgets/controls",
          "model_name": "HTMLModel",
          "model_module_version": "1.5.0",
          "state": {
            "_dom_classes": [],
            "_model_module": "@jupyter-widgets/controls",
            "_model_module_version": "1.5.0",
            "_model_name": "HTMLModel",
            "_view_count": null,
            "_view_module": "@jupyter-widgets/controls",
            "_view_module_version": "1.5.0",
            "_view_name": "HTMLView",
            "description": "",
            "description_tooltip": null,
            "layout": "IPY_MODEL_acebd1668bb24ce095f6829b0af6b5b5",
            "placeholder": "​",
            "style": "IPY_MODEL_f9ada966b8d04a0ba17dce016b9d2ab3",
            "value": "model.safetensors: 100%"
          }
        },
        "aae842f21a514254ab317f2f956f3af0": {
          "model_module": "@jupyter-widgets/controls",
          "model_name": "FloatProgressModel",
          "model_module_version": "1.5.0",
          "state": {
            "_dom_classes": [],
            "_model_module": "@jupyter-widgets/controls",
            "_model_module_version": "1.5.0",
            "_model_name": "FloatProgressModel",
            "_view_count": null,
            "_view_module": "@jupyter-widgets/controls",
            "_view_module_version": "1.5.0",
            "_view_name": "ProgressView",
            "bar_style": "success",
            "description": "",
            "description_tooltip": null,
            "layout": "IPY_MODEL_da9e7ad3a63d457c93b9a4a98638a28c",
            "max": 90868376,
            "min": 0,
            "orientation": "horizontal",
            "style": "IPY_MODEL_42b7333fae2049ec85f9c3d21f9202e9",
            "value": 90868376
          }
        },
        "b64200f1d8674c30bb6ce927da93d234": {
          "model_module": "@jupyter-widgets/controls",
          "model_name": "HTMLModel",
          "model_module_version": "1.5.0",
          "state": {
            "_dom_classes": [],
            "_model_module": "@jupyter-widgets/controls",
            "_model_module_version": "1.5.0",
            "_model_name": "HTMLModel",
            "_view_count": null,
            "_view_module": "@jupyter-widgets/controls",
            "_view_module_version": "1.5.0",
            "_view_name": "HTMLView",
            "description": "",
            "description_tooltip": null,
            "layout": "IPY_MODEL_0577fd8349144866ae5afe4c0bd07a91",
            "placeholder": "​",
            "style": "IPY_MODEL_fd14abc0f9804153aeb1b553b1fb1b32",
            "value": " 90.9M/90.9M [00:29&lt;00:00, 2.54MB/s]"
          }
        },
        "5a4a849a14184b77afaaebe3252631ee": {
          "model_module": "@jupyter-widgets/base",
          "model_name": "LayoutModel",
          "model_module_version": "1.2.0",
          "state": {
            "_model_module": "@jupyter-widgets/base",
            "_model_module_version": "1.2.0",
            "_model_name": "LayoutModel",
            "_view_count": null,
            "_view_module": "@jupyter-widgets/base",
            "_view_module_version": "1.2.0",
            "_view_name": "LayoutView",
            "align_content": null,
            "align_items": null,
            "align_self": null,
            "border": null,
            "bottom": null,
            "display": null,
            "flex": null,
            "flex_flow": null,
            "grid_area": null,
            "grid_auto_columns": null,
            "grid_auto_flow": null,
            "grid_auto_rows": null,
            "grid_column": null,
            "grid_gap": null,
            "grid_row": null,
            "grid_template_areas": null,
            "grid_template_columns": null,
            "grid_template_rows": null,
            "height": null,
            "justify_content": null,
            "justify_items": null,
            "left": null,
            "margin": null,
            "max_height": null,
            "max_width": null,
            "min_height": null,
            "min_width": null,
            "object_fit": null,
            "object_position": null,
            "order": null,
            "overflow": null,
            "overflow_x": null,
            "overflow_y": null,
            "padding": null,
            "right": null,
            "top": null,
            "visibility": null,
            "width": null
          }
        },
        "acebd1668bb24ce095f6829b0af6b5b5": {
          "model_module": "@jupyter-widgets/base",
          "model_name": "LayoutModel",
          "model_module_version": "1.2.0",
          "state": {
            "_model_module": "@jupyter-widgets/base",
            "_model_module_version": "1.2.0",
            "_model_name": "LayoutModel",
            "_view_count": null,
            "_view_module": "@jupyter-widgets/base",
            "_view_module_version": "1.2.0",
            "_view_name": "LayoutView",
            "align_content": null,
            "align_items": null,
            "align_self": null,
            "border": null,
            "bottom": null,
            "display": null,
            "flex": null,
            "flex_flow": null,
            "grid_area": null,
            "grid_auto_columns": null,
            "grid_auto_flow": null,
            "grid_auto_rows": null,
            "grid_column": null,
            "grid_gap": null,
            "grid_row": null,
            "grid_template_areas": null,
            "grid_template_columns": null,
            "grid_template_rows": null,
            "height": null,
            "justify_content": null,
            "justify_items": null,
            "left": null,
            "margin": null,
            "max_height": null,
            "max_width": null,
            "min_height": null,
            "min_width": null,
            "object_fit": null,
            "object_position": null,
            "order": null,
            "overflow": null,
            "overflow_x": null,
            "overflow_y": null,
            "padding": null,
            "right": null,
            "top": null,
            "visibility": null,
            "width": null
          }
        },
        "f9ada966b8d04a0ba17dce016b9d2ab3": {
          "model_module": "@jupyter-widgets/controls",
          "model_name": "DescriptionStyleModel",
          "model_module_version": "1.5.0",
          "state": {
            "_model_module": "@jupyter-widgets/controls",
            "_model_module_version": "1.5.0",
            "_model_name": "DescriptionStyleModel",
            "_view_count": null,
            "_view_module": "@jupyter-widgets/base",
            "_view_module_version": "1.2.0",
            "_view_name": "StyleView",
            "description_width": ""
          }
        },
        "da9e7ad3a63d457c93b9a4a98638a28c": {
          "model_module": "@jupyter-widgets/base",
          "model_name": "LayoutModel",
          "model_module_version": "1.2.0",
          "state": {
            "_model_module": "@jupyter-widgets/base",
            "_model_module_version": "1.2.0",
            "_model_name": "LayoutModel",
            "_view_count": null,
            "_view_module": "@jupyter-widgets/base",
            "_view_module_version": "1.2.0",
            "_view_name": "LayoutView",
            "align_content": null,
            "align_items": null,
            "align_self": null,
            "border": null,
            "bottom": null,
            "display": null,
            "flex": null,
            "flex_flow": null,
            "grid_area": null,
            "grid_auto_columns": null,
            "grid_auto_flow": null,
            "grid_auto_rows": null,
            "grid_column": null,
            "grid_gap": null,
            "grid_row": null,
            "grid_template_areas": null,
            "grid_template_columns": null,
            "grid_template_rows": null,
            "height": null,
            "justify_content": null,
            "justify_items": null,
            "left": null,
            "margin": null,
            "max_height": null,
            "max_width": null,
            "min_height": null,
            "min_width": null,
            "object_fit": null,
            "object_position": null,
            "order": null,
            "overflow": null,
            "overflow_x": null,
            "overflow_y": null,
            "padding": null,
            "right": null,
            "top": null,
            "visibility": null,
            "width": null
          }
        },
        "42b7333fae2049ec85f9c3d21f9202e9": {
          "model_module": "@jupyter-widgets/controls",
          "model_name": "ProgressStyleModel",
          "model_module_version": "1.5.0",
          "state": {
            "_model_module": "@jupyter-widgets/controls",
            "_model_module_version": "1.5.0",
            "_model_name": "ProgressStyleModel",
            "_view_count": null,
            "_view_module": "@jupyter-widgets/base",
            "_view_module_version": "1.2.0",
            "_view_name": "StyleView",
            "bar_color": null,
            "description_width": ""
          }
        },
        "0577fd8349144866ae5afe4c0bd07a91": {
          "model_module": "@jupyter-widgets/base",
          "model_name": "LayoutModel",
          "model_module_version": "1.2.0",
          "state": {
            "_model_module": "@jupyter-widgets/base",
            "_model_module_version": "1.2.0",
            "_model_name": "LayoutModel",
            "_view_count": null,
            "_view_module": "@jupyter-widgets/base",
            "_view_module_version": "1.2.0",
            "_view_name": "LayoutView",
            "align_content": null,
            "align_items": null,
            "align_self": null,
            "border": null,
            "bottom": null,
            "display": null,
            "flex": null,
            "flex_flow": null,
            "grid_area": null,
            "grid_auto_columns": null,
            "grid_auto_flow": null,
            "grid_auto_rows": null,
            "grid_column": null,
            "grid_gap": null,
            "grid_row": null,
            "grid_template_areas": null,
            "grid_template_columns": null,
            "grid_template_rows": null,
            "height": null,
            "justify_content": null,
            "justify_items": null,
            "left": null,
            "margin": null,
            "max_height": null,
            "max_width": null,
            "min_height": null,
            "min_width": null,
            "object_fit": null,
            "object_position": null,
            "order": null,
            "overflow": null,
            "overflow_x": null,
            "overflow_y": null,
            "padding": null,
            "right": null,
            "top": null,
            "visibility": null,
            "width": null
          }
        },
        "fd14abc0f9804153aeb1b553b1fb1b32": {
          "model_module": "@jupyter-widgets/controls",
          "model_name": "DescriptionStyleModel",
          "model_module_version": "1.5.0",
          "state": {
            "_model_module": "@jupyter-widgets/controls",
            "_model_module_version": "1.5.0",
            "_model_name": "DescriptionStyleModel",
            "_view_count": null,
            "_view_module": "@jupyter-widgets/base",
            "_view_module_version": "1.2.0",
            "_view_name": "StyleView",
            "description_width": ""
          }
        },
        "b1951fcb773a45d48473944c742f8671": {
          "model_module": "@jupyter-widgets/controls",
          "model_name": "HBoxModel",
          "model_module_version": "1.5.0",
          "state": {
            "_dom_classes": [],
            "_model_module": "@jupyter-widgets/controls",
            "_model_module_version": "1.5.0",
            "_model_name": "HBoxModel",
            "_view_count": null,
            "_view_module": "@jupyter-widgets/controls",
            "_view_module_version": "1.5.0",
            "_view_name": "HBoxView",
            "box_style": "",
            "children": [
              "IPY_MODEL_274482fcd7fd437294d57a86c23715c5",
              "IPY_MODEL_686a84cc33dc403ea6ecc8c56da61e2b",
              "IPY_MODEL_8614bf02edb44d9d9f06b61100bd1169"
            ],
            "layout": "IPY_MODEL_ed82dc5dea7d452dbdf373ee54de5e30"
          }
        },
        "274482fcd7fd437294d57a86c23715c5": {
          "model_module": "@jupyter-widgets/controls",
          "model_name": "HTMLModel",
          "model_module_version": "1.5.0",
          "state": {
            "_dom_classes": [],
            "_model_module": "@jupyter-widgets/controls",
            "_model_module_version": "1.5.0",
            "_model_name": "HTMLModel",
            "_view_count": null,
            "_view_module": "@jupyter-widgets/controls",
            "_view_module_version": "1.5.0",
            "_view_name": "HTMLView",
            "description": "",
            "description_tooltip": null,
            "layout": "IPY_MODEL_5f03ecdb23e24e469d4ba844635f7576",
            "placeholder": "​",
            "style": "IPY_MODEL_db7d9322e68c43bfbd05ac80e28602f0",
            "value": "tokenizer_config.json: 100%"
          }
        },
        "686a84cc33dc403ea6ecc8c56da61e2b": {
          "model_module": "@jupyter-widgets/controls",
          "model_name": "FloatProgressModel",
          "model_module_version": "1.5.0",
          "state": {
            "_dom_classes": [],
            "_model_module": "@jupyter-widgets/controls",
            "_model_module_version": "1.5.0",
            "_model_name": "FloatProgressModel",
            "_view_count": null,
            "_view_module": "@jupyter-widgets/controls",
            "_view_module_version": "1.5.0",
            "_view_name": "ProgressView",
            "bar_style": "success",
            "description": "",
            "description_tooltip": null,
            "layout": "IPY_MODEL_4726dfc8ffbe4886870640a770f5613d",
            "max": 350,
            "min": 0,
            "orientation": "horizontal",
            "style": "IPY_MODEL_e84bc62ec42d4a09bb86771dbc541e8c",
            "value": 350
          }
        },
        "8614bf02edb44d9d9f06b61100bd1169": {
          "model_module": "@jupyter-widgets/controls",
          "model_name": "HTMLModel",
          "model_module_version": "1.5.0",
          "state": {
            "_dom_classes": [],
            "_model_module": "@jupyter-widgets/controls",
            "_model_module_version": "1.5.0",
            "_model_name": "HTMLModel",
            "_view_count": null,
            "_view_module": "@jupyter-widgets/controls",
            "_view_module_version": "1.5.0",
            "_view_name": "HTMLView",
            "description": "",
            "description_tooltip": null,
            "layout": "IPY_MODEL_570d65016b1845f782a089e0e941e9ee",
            "placeholder": "​",
            "style": "IPY_MODEL_d9cf070d1ced4a799dba0bc4b2686c7e",
            "value": " 350/350 [00:00&lt;00:00, 7.28kB/s]"
          }
        },
        "ed82dc5dea7d452dbdf373ee54de5e30": {
          "model_module": "@jupyter-widgets/base",
          "model_name": "LayoutModel",
          "model_module_version": "1.2.0",
          "state": {
            "_model_module": "@jupyter-widgets/base",
            "_model_module_version": "1.2.0",
            "_model_name": "LayoutModel",
            "_view_count": null,
            "_view_module": "@jupyter-widgets/base",
            "_view_module_version": "1.2.0",
            "_view_name": "LayoutView",
            "align_content": null,
            "align_items": null,
            "align_self": null,
            "border": null,
            "bottom": null,
            "display": null,
            "flex": null,
            "flex_flow": null,
            "grid_area": null,
            "grid_auto_columns": null,
            "grid_auto_flow": null,
            "grid_auto_rows": null,
            "grid_column": null,
            "grid_gap": null,
            "grid_row": null,
            "grid_template_areas": null,
            "grid_template_columns": null,
            "grid_template_rows": null,
            "height": null,
            "justify_content": null,
            "justify_items": null,
            "left": null,
            "margin": null,
            "max_height": null,
            "max_width": null,
            "min_height": null,
            "min_width": null,
            "object_fit": null,
            "object_position": null,
            "order": null,
            "overflow": null,
            "overflow_x": null,
            "overflow_y": null,
            "padding": null,
            "right": null,
            "top": null,
            "visibility": null,
            "width": null
          }
        },
        "5f03ecdb23e24e469d4ba844635f7576": {
          "model_module": "@jupyter-widgets/base",
          "model_name": "LayoutModel",
          "model_module_version": "1.2.0",
          "state": {
            "_model_module": "@jupyter-widgets/base",
            "_model_module_version": "1.2.0",
            "_model_name": "LayoutModel",
            "_view_count": null,
            "_view_module": "@jupyter-widgets/base",
            "_view_module_version": "1.2.0",
            "_view_name": "LayoutView",
            "align_content": null,
            "align_items": null,
            "align_self": null,
            "border": null,
            "bottom": null,
            "display": null,
            "flex": null,
            "flex_flow": null,
            "grid_area": null,
            "grid_auto_columns": null,
            "grid_auto_flow": null,
            "grid_auto_rows": null,
            "grid_column": null,
            "grid_gap": null,
            "grid_row": null,
            "grid_template_areas": null,
            "grid_template_columns": null,
            "grid_template_rows": null,
            "height": null,
            "justify_content": null,
            "justify_items": null,
            "left": null,
            "margin": null,
            "max_height": null,
            "max_width": null,
            "min_height": null,
            "min_width": null,
            "object_fit": null,
            "object_position": null,
            "order": null,
            "overflow": null,
            "overflow_x": null,
            "overflow_y": null,
            "padding": null,
            "right": null,
            "top": null,
            "visibility": null,
            "width": null
          }
        },
        "db7d9322e68c43bfbd05ac80e28602f0": {
          "model_module": "@jupyter-widgets/controls",
          "model_name": "DescriptionStyleModel",
          "model_module_version": "1.5.0",
          "state": {
            "_model_module": "@jupyter-widgets/controls",
            "_model_module_version": "1.5.0",
            "_model_name": "DescriptionStyleModel",
            "_view_count": null,
            "_view_module": "@jupyter-widgets/base",
            "_view_module_version": "1.2.0",
            "_view_name": "StyleView",
            "description_width": ""
          }
        },
        "4726dfc8ffbe4886870640a770f5613d": {
          "model_module": "@jupyter-widgets/base",
          "model_name": "LayoutModel",
          "model_module_version": "1.2.0",
          "state": {
            "_model_module": "@jupyter-widgets/base",
            "_model_module_version": "1.2.0",
            "_model_name": "LayoutModel",
            "_view_count": null,
            "_view_module": "@jupyter-widgets/base",
            "_view_module_version": "1.2.0",
            "_view_name": "LayoutView",
            "align_content": null,
            "align_items": null,
            "align_self": null,
            "border": null,
            "bottom": null,
            "display": null,
            "flex": null,
            "flex_flow": null,
            "grid_area": null,
            "grid_auto_columns": null,
            "grid_auto_flow": null,
            "grid_auto_rows": null,
            "grid_column": null,
            "grid_gap": null,
            "grid_row": null,
            "grid_template_areas": null,
            "grid_template_columns": null,
            "grid_template_rows": null,
            "height": null,
            "justify_content": null,
            "justify_items": null,
            "left": null,
            "margin": null,
            "max_height": null,
            "max_width": null,
            "min_height": null,
            "min_width": null,
            "object_fit": null,
            "object_position": null,
            "order": null,
            "overflow": null,
            "overflow_x": null,
            "overflow_y": null,
            "padding": null,
            "right": null,
            "top": null,
            "visibility": null,
            "width": null
          }
        },
        "e84bc62ec42d4a09bb86771dbc541e8c": {
          "model_module": "@jupyter-widgets/controls",
          "model_name": "ProgressStyleModel",
          "model_module_version": "1.5.0",
          "state": {
            "_model_module": "@jupyter-widgets/controls",
            "_model_module_version": "1.5.0",
            "_model_name": "ProgressStyleModel",
            "_view_count": null,
            "_view_module": "@jupyter-widgets/base",
            "_view_module_version": "1.2.0",
            "_view_name": "StyleView",
            "bar_color": null,
            "description_width": ""
          }
        },
        "570d65016b1845f782a089e0e941e9ee": {
          "model_module": "@jupyter-widgets/base",
          "model_name": "LayoutModel",
          "model_module_version": "1.2.0",
          "state": {
            "_model_module": "@jupyter-widgets/base",
            "_model_module_version": "1.2.0",
            "_model_name": "LayoutModel",
            "_view_count": null,
            "_view_module": "@jupyter-widgets/base",
            "_view_module_version": "1.2.0",
            "_view_name": "LayoutView",
            "align_content": null,
            "align_items": null,
            "align_self": null,
            "border": null,
            "bottom": null,
            "display": null,
            "flex": null,
            "flex_flow": null,
            "grid_area": null,
            "grid_auto_columns": null,
            "grid_auto_flow": null,
            "grid_auto_rows": null,
            "grid_column": null,
            "grid_gap": null,
            "grid_row": null,
            "grid_template_areas": null,
            "grid_template_columns": null,
            "grid_template_rows": null,
            "height": null,
            "justify_content": null,
            "justify_items": null,
            "left": null,
            "margin": null,
            "max_height": null,
            "max_width": null,
            "min_height": null,
            "min_width": null,
            "object_fit": null,
            "object_position": null,
            "order": null,
            "overflow": null,
            "overflow_x": null,
            "overflow_y": null,
            "padding": null,
            "right": null,
            "top": null,
            "visibility": null,
            "width": null
          }
        },
        "d9cf070d1ced4a799dba0bc4b2686c7e": {
          "model_module": "@jupyter-widgets/controls",
          "model_name": "DescriptionStyleModel",
          "model_module_version": "1.5.0",
          "state": {
            "_model_module": "@jupyter-widgets/controls",
            "_model_module_version": "1.5.0",
            "_model_name": "DescriptionStyleModel",
            "_view_count": null,
            "_view_module": "@jupyter-widgets/base",
            "_view_module_version": "1.2.0",
            "_view_name": "StyleView",
            "description_width": ""
          }
        },
        "e0efa3ac5e6b4bd6a21f7045a4ad10b9": {
          "model_module": "@jupyter-widgets/controls",
          "model_name": "HBoxModel",
          "model_module_version": "1.5.0",
          "state": {
            "_dom_classes": [],
            "_model_module": "@jupyter-widgets/controls",
            "_model_module_version": "1.5.0",
            "_model_name": "HBoxModel",
            "_view_count": null,
            "_view_module": "@jupyter-widgets/controls",
            "_view_module_version": "1.5.0",
            "_view_name": "HBoxView",
            "box_style": "",
            "children": [
              "IPY_MODEL_62d1ffcf95d0448da0beefedf752ff88",
              "IPY_MODEL_1bba41556bd0473e8ae33bf22b9cc9be",
              "IPY_MODEL_6207670c37444eb896a8d947ea35b502"
            ],
            "layout": "IPY_MODEL_6765061f71544319be8c77e57c29fad9"
          }
        },
        "62d1ffcf95d0448da0beefedf752ff88": {
          "model_module": "@jupyter-widgets/controls",
          "model_name": "HTMLModel",
          "model_module_version": "1.5.0",
          "state": {
            "_dom_classes": [],
            "_model_module": "@jupyter-widgets/controls",
            "_model_module_version": "1.5.0",
            "_model_name": "HTMLModel",
            "_view_count": null,
            "_view_module": "@jupyter-widgets/controls",
            "_view_module_version": "1.5.0",
            "_view_name": "HTMLView",
            "description": "",
            "description_tooltip": null,
            "layout": "IPY_MODEL_3e4bd86fec3549fca70691c4fefc9dd3",
            "placeholder": "​",
            "style": "IPY_MODEL_8ff9f5fc69854694b0bc8f20af2400c0",
            "value": "vocab.txt: 100%"
          }
        },
        "1bba41556bd0473e8ae33bf22b9cc9be": {
          "model_module": "@jupyter-widgets/controls",
          "model_name": "FloatProgressModel",
          "model_module_version": "1.5.0",
          "state": {
            "_dom_classes": [],
            "_model_module": "@jupyter-widgets/controls",
            "_model_module_version": "1.5.0",
            "_model_name": "FloatProgressModel",
            "_view_count": null,
            "_view_module": "@jupyter-widgets/controls",
            "_view_module_version": "1.5.0",
            "_view_name": "ProgressView",
            "bar_style": "success",
            "description": "",
            "description_tooltip": null,
            "layout": "IPY_MODEL_8cebbcd06c724c16993d4a6fe39deeac",
            "max": 231508,
            "min": 0,
            "orientation": "horizontal",
            "style": "IPY_MODEL_c5410a87169142d88a732b5cfd1bb297",
            "value": 231508
          }
        },
        "6207670c37444eb896a8d947ea35b502": {
          "model_module": "@jupyter-widgets/controls",
          "model_name": "HTMLModel",
          "model_module_version": "1.5.0",
          "state": {
            "_dom_classes": [],
            "_model_module": "@jupyter-widgets/controls",
            "_model_module_version": "1.5.0",
            "_model_name": "HTMLModel",
            "_view_count": null,
            "_view_module": "@jupyter-widgets/controls",
            "_view_module_version": "1.5.0",
            "_view_name": "HTMLView",
            "description": "",
            "description_tooltip": null,
            "layout": "IPY_MODEL_e1807488beb146ab94c71b5bf06c895f",
            "placeholder": "​",
            "style": "IPY_MODEL_75ca613fd7af453eb34acde1634aec69",
            "value": " 232k/232k [00:00&lt;00:00, 748kB/s]"
          }
        },
        "6765061f71544319be8c77e57c29fad9": {
          "model_module": "@jupyter-widgets/base",
          "model_name": "LayoutModel",
          "model_module_version": "1.2.0",
          "state": {
            "_model_module": "@jupyter-widgets/base",
            "_model_module_version": "1.2.0",
            "_model_name": "LayoutModel",
            "_view_count": null,
            "_view_module": "@jupyter-widgets/base",
            "_view_module_version": "1.2.0",
            "_view_name": "LayoutView",
            "align_content": null,
            "align_items": null,
            "align_self": null,
            "border": null,
            "bottom": null,
            "display": null,
            "flex": null,
            "flex_flow": null,
            "grid_area": null,
            "grid_auto_columns": null,
            "grid_auto_flow": null,
            "grid_auto_rows": null,
            "grid_column": null,
            "grid_gap": null,
            "grid_row": null,
            "grid_template_areas": null,
            "grid_template_columns": null,
            "grid_template_rows": null,
            "height": null,
            "justify_content": null,
            "justify_items": null,
            "left": null,
            "margin": null,
            "max_height": null,
            "max_width": null,
            "min_height": null,
            "min_width": null,
            "object_fit": null,
            "object_position": null,
            "order": null,
            "overflow": null,
            "overflow_x": null,
            "overflow_y": null,
            "padding": null,
            "right": null,
            "top": null,
            "visibility": null,
            "width": null
          }
        },
        "3e4bd86fec3549fca70691c4fefc9dd3": {
          "model_module": "@jupyter-widgets/base",
          "model_name": "LayoutModel",
          "model_module_version": "1.2.0",
          "state": {
            "_model_module": "@jupyter-widgets/base",
            "_model_module_version": "1.2.0",
            "_model_name": "LayoutModel",
            "_view_count": null,
            "_view_module": "@jupyter-widgets/base",
            "_view_module_version": "1.2.0",
            "_view_name": "LayoutView",
            "align_content": null,
            "align_items": null,
            "align_self": null,
            "border": null,
            "bottom": null,
            "display": null,
            "flex": null,
            "flex_flow": null,
            "grid_area": null,
            "grid_auto_columns": null,
            "grid_auto_flow": null,
            "grid_auto_rows": null,
            "grid_column": null,
            "grid_gap": null,
            "grid_row": null,
            "grid_template_areas": null,
            "grid_template_columns": null,
            "grid_template_rows": null,
            "height": null,
            "justify_content": null,
            "justify_items": null,
            "left": null,
            "margin": null,
            "max_height": null,
            "max_width": null,
            "min_height": null,
            "min_width": null,
            "object_fit": null,
            "object_position": null,
            "order": null,
            "overflow": null,
            "overflow_x": null,
            "overflow_y": null,
            "padding": null,
            "right": null,
            "top": null,
            "visibility": null,
            "width": null
          }
        },
        "8ff9f5fc69854694b0bc8f20af2400c0": {
          "model_module": "@jupyter-widgets/controls",
          "model_name": "DescriptionStyleModel",
          "model_module_version": "1.5.0",
          "state": {
            "_model_module": "@jupyter-widgets/controls",
            "_model_module_version": "1.5.0",
            "_model_name": "DescriptionStyleModel",
            "_view_count": null,
            "_view_module": "@jupyter-widgets/base",
            "_view_module_version": "1.2.0",
            "_view_name": "StyleView",
            "description_width": ""
          }
        },
        "8cebbcd06c724c16993d4a6fe39deeac": {
          "model_module": "@jupyter-widgets/base",
          "model_name": "LayoutModel",
          "model_module_version": "1.2.0",
          "state": {
            "_model_module": "@jupyter-widgets/base",
            "_model_module_version": "1.2.0",
            "_model_name": "LayoutModel",
            "_view_count": null,
            "_view_module": "@jupyter-widgets/base",
            "_view_module_version": "1.2.0",
            "_view_name": "LayoutView",
            "align_content": null,
            "align_items": null,
            "align_self": null,
            "border": null,
            "bottom": null,
            "display": null,
            "flex": null,
            "flex_flow": null,
            "grid_area": null,
            "grid_auto_columns": null,
            "grid_auto_flow": null,
            "grid_auto_rows": null,
            "grid_column": null,
            "grid_gap": null,
            "grid_row": null,
            "grid_template_areas": null,
            "grid_template_columns": null,
            "grid_template_rows": null,
            "height": null,
            "justify_content": null,
            "justify_items": null,
            "left": null,
            "margin": null,
            "max_height": null,
            "max_width": null,
            "min_height": null,
            "min_width": null,
            "object_fit": null,
            "object_position": null,
            "order": null,
            "overflow": null,
            "overflow_x": null,
            "overflow_y": null,
            "padding": null,
            "right": null,
            "top": null,
            "visibility": null,
            "width": null
          }
        },
        "c5410a87169142d88a732b5cfd1bb297": {
          "model_module": "@jupyter-widgets/controls",
          "model_name": "ProgressStyleModel",
          "model_module_version": "1.5.0",
          "state": {
            "_model_module": "@jupyter-widgets/controls",
            "_model_module_version": "1.5.0",
            "_model_name": "ProgressStyleModel",
            "_view_count": null,
            "_view_module": "@jupyter-widgets/base",
            "_view_module_version": "1.2.0",
            "_view_name": "StyleView",
            "bar_color": null,
            "description_width": ""
          }
        },
        "e1807488beb146ab94c71b5bf06c895f": {
          "model_module": "@jupyter-widgets/base",
          "model_name": "LayoutModel",
          "model_module_version": "1.2.0",
          "state": {
            "_model_module": "@jupyter-widgets/base",
            "_model_module_version": "1.2.0",
            "_model_name": "LayoutModel",
            "_view_count": null,
            "_view_module": "@jupyter-widgets/base",
            "_view_module_version": "1.2.0",
            "_view_name": "LayoutView",
            "align_content": null,
            "align_items": null,
            "align_self": null,
            "border": null,
            "bottom": null,
            "display": null,
            "flex": null,
            "flex_flow": null,
            "grid_area": null,
            "grid_auto_columns": null,
            "grid_auto_flow": null,
            "grid_auto_rows": null,
            "grid_column": null,
            "grid_gap": null,
            "grid_row": null,
            "grid_template_areas": null,
            "grid_template_columns": null,
            "grid_template_rows": null,
            "height": null,
            "justify_content": null,
            "justify_items": null,
            "left": null,
            "margin": null,
            "max_height": null,
            "max_width": null,
            "min_height": null,
            "min_width": null,
            "object_fit": null,
            "object_position": null,
            "order": null,
            "overflow": null,
            "overflow_x": null,
            "overflow_y": null,
            "padding": null,
            "right": null,
            "top": null,
            "visibility": null,
            "width": null
          }
        },
        "75ca613fd7af453eb34acde1634aec69": {
          "model_module": "@jupyter-widgets/controls",
          "model_name": "DescriptionStyleModel",
          "model_module_version": "1.5.0",
          "state": {
            "_model_module": "@jupyter-widgets/controls",
            "_model_module_version": "1.5.0",
            "_model_name": "DescriptionStyleModel",
            "_view_count": null,
            "_view_module": "@jupyter-widgets/base",
            "_view_module_version": "1.2.0",
            "_view_name": "StyleView",
            "description_width": ""
          }
        },
        "0a7b2049e0d34d38a7cf83f9b30988a2": {
          "model_module": "@jupyter-widgets/controls",
          "model_name": "HBoxModel",
          "model_module_version": "1.5.0",
          "state": {
            "_dom_classes": [],
            "_model_module": "@jupyter-widgets/controls",
            "_model_module_version": "1.5.0",
            "_model_name": "HBoxModel",
            "_view_count": null,
            "_view_module": "@jupyter-widgets/controls",
            "_view_module_version": "1.5.0",
            "_view_name": "HBoxView",
            "box_style": "",
            "children": [
              "IPY_MODEL_0709474bfccf479883177ec3913508a2",
              "IPY_MODEL_e6a1e4c7bcd3486eaf27ca66f02b7c67",
              "IPY_MODEL_8fc713db91404346be1276855f551ee6"
            ],
            "layout": "IPY_MODEL_327578f35dfb487f84baa32cbd149035"
          }
        },
        "0709474bfccf479883177ec3913508a2": {
          "model_module": "@jupyter-widgets/controls",
          "model_name": "HTMLModel",
          "model_module_version": "1.5.0",
          "state": {
            "_dom_classes": [],
            "_model_module": "@jupyter-widgets/controls",
            "_model_module_version": "1.5.0",
            "_model_name": "HTMLModel",
            "_view_count": null,
            "_view_module": "@jupyter-widgets/controls",
            "_view_module_version": "1.5.0",
            "_view_name": "HTMLView",
            "description": "",
            "description_tooltip": null,
            "layout": "IPY_MODEL_3bae97baae914328a4d18f3c8c02aec0",
            "placeholder": "​",
            "style": "IPY_MODEL_58cd28afc29c4353816cc64416ac5f0a",
            "value": "tokenizer.json: 100%"
          }
        },
        "e6a1e4c7bcd3486eaf27ca66f02b7c67": {
          "model_module": "@jupyter-widgets/controls",
          "model_name": "FloatProgressModel",
          "model_module_version": "1.5.0",
          "state": {
            "_dom_classes": [],
            "_model_module": "@jupyter-widgets/controls",
            "_model_module_version": "1.5.0",
            "_model_name": "FloatProgressModel",
            "_view_count": null,
            "_view_module": "@jupyter-widgets/controls",
            "_view_module_version": "1.5.0",
            "_view_name": "ProgressView",
            "bar_style": "success",
            "description": "",
            "description_tooltip": null,
            "layout": "IPY_MODEL_529797476a85422180ed665e4d71ed9a",
            "max": 466247,
            "min": 0,
            "orientation": "horizontal",
            "style": "IPY_MODEL_eb7053029df9426ca13a1d10839aaebf",
            "value": 466247
          }
        },
        "8fc713db91404346be1276855f551ee6": {
          "model_module": "@jupyter-widgets/controls",
          "model_name": "HTMLModel",
          "model_module_version": "1.5.0",
          "state": {
            "_dom_classes": [],
            "_model_module": "@jupyter-widgets/controls",
            "_model_module_version": "1.5.0",
            "_model_name": "HTMLModel",
            "_view_count": null,
            "_view_module": "@jupyter-widgets/controls",
            "_view_module_version": "1.5.0",
            "_view_name": "HTMLView",
            "description": "",
            "description_tooltip": null,
            "layout": "IPY_MODEL_4b7fdf72760f4123b32cd7c61c3fb298",
            "placeholder": "​",
            "style": "IPY_MODEL_e223623dfe0c4ae384759ae2066919bf",
            "value": " 466k/466k [00:00&lt;00:00, 1.99MB/s]"
          }
        },
        "327578f35dfb487f84baa32cbd149035": {
          "model_module": "@jupyter-widgets/base",
          "model_name": "LayoutModel",
          "model_module_version": "1.2.0",
          "state": {
            "_model_module": "@jupyter-widgets/base",
            "_model_module_version": "1.2.0",
            "_model_name": "LayoutModel",
            "_view_count": null,
            "_view_module": "@jupyter-widgets/base",
            "_view_module_version": "1.2.0",
            "_view_name": "LayoutView",
            "align_content": null,
            "align_items": null,
            "align_self": null,
            "border": null,
            "bottom": null,
            "display": null,
            "flex": null,
            "flex_flow": null,
            "grid_area": null,
            "grid_auto_columns": null,
            "grid_auto_flow": null,
            "grid_auto_rows": null,
            "grid_column": null,
            "grid_gap": null,
            "grid_row": null,
            "grid_template_areas": null,
            "grid_template_columns": null,
            "grid_template_rows": null,
            "height": null,
            "justify_content": null,
            "justify_items": null,
            "left": null,
            "margin": null,
            "max_height": null,
            "max_width": null,
            "min_height": null,
            "min_width": null,
            "object_fit": null,
            "object_position": null,
            "order": null,
            "overflow": null,
            "overflow_x": null,
            "overflow_y": null,
            "padding": null,
            "right": null,
            "top": null,
            "visibility": null,
            "width": null
          }
        },
        "3bae97baae914328a4d18f3c8c02aec0": {
          "model_module": "@jupyter-widgets/base",
          "model_name": "LayoutModel",
          "model_module_version": "1.2.0",
          "state": {
            "_model_module": "@jupyter-widgets/base",
            "_model_module_version": "1.2.0",
            "_model_name": "LayoutModel",
            "_view_count": null,
            "_view_module": "@jupyter-widgets/base",
            "_view_module_version": "1.2.0",
            "_view_name": "LayoutView",
            "align_content": null,
            "align_items": null,
            "align_self": null,
            "border": null,
            "bottom": null,
            "display": null,
            "flex": null,
            "flex_flow": null,
            "grid_area": null,
            "grid_auto_columns": null,
            "grid_auto_flow": null,
            "grid_auto_rows": null,
            "grid_column": null,
            "grid_gap": null,
            "grid_row": null,
            "grid_template_areas": null,
            "grid_template_columns": null,
            "grid_template_rows": null,
            "height": null,
            "justify_content": null,
            "justify_items": null,
            "left": null,
            "margin": null,
            "max_height": null,
            "max_width": null,
            "min_height": null,
            "min_width": null,
            "object_fit": null,
            "object_position": null,
            "order": null,
            "overflow": null,
            "overflow_x": null,
            "overflow_y": null,
            "padding": null,
            "right": null,
            "top": null,
            "visibility": null,
            "width": null
          }
        },
        "58cd28afc29c4353816cc64416ac5f0a": {
          "model_module": "@jupyter-widgets/controls",
          "model_name": "DescriptionStyleModel",
          "model_module_version": "1.5.0",
          "state": {
            "_model_module": "@jupyter-widgets/controls",
            "_model_module_version": "1.5.0",
            "_model_name": "DescriptionStyleModel",
            "_view_count": null,
            "_view_module": "@jupyter-widgets/base",
            "_view_module_version": "1.2.0",
            "_view_name": "StyleView",
            "description_width": ""
          }
        },
        "529797476a85422180ed665e4d71ed9a": {
          "model_module": "@jupyter-widgets/base",
          "model_name": "LayoutModel",
          "model_module_version": "1.2.0",
          "state": {
            "_model_module": "@jupyter-widgets/base",
            "_model_module_version": "1.2.0",
            "_model_name": "LayoutModel",
            "_view_count": null,
            "_view_module": "@jupyter-widgets/base",
            "_view_module_version": "1.2.0",
            "_view_name": "LayoutView",
            "align_content": null,
            "align_items": null,
            "align_self": null,
            "border": null,
            "bottom": null,
            "display": null,
            "flex": null,
            "flex_flow": null,
            "grid_area": null,
            "grid_auto_columns": null,
            "grid_auto_flow": null,
            "grid_auto_rows": null,
            "grid_column": null,
            "grid_gap": null,
            "grid_row": null,
            "grid_template_areas": null,
            "grid_template_columns": null,
            "grid_template_rows": null,
            "height": null,
            "justify_content": null,
            "justify_items": null,
            "left": null,
            "margin": null,
            "max_height": null,
            "max_width": null,
            "min_height": null,
            "min_width": null,
            "object_fit": null,
            "object_position": null,
            "order": null,
            "overflow": null,
            "overflow_x": null,
            "overflow_y": null,
            "padding": null,
            "right": null,
            "top": null,
            "visibility": null,
            "width": null
          }
        },
        "eb7053029df9426ca13a1d10839aaebf": {
          "model_module": "@jupyter-widgets/controls",
          "model_name": "ProgressStyleModel",
          "model_module_version": "1.5.0",
          "state": {
            "_model_module": "@jupyter-widgets/controls",
            "_model_module_version": "1.5.0",
            "_model_name": "ProgressStyleModel",
            "_view_count": null,
            "_view_module": "@jupyter-widgets/base",
            "_view_module_version": "1.2.0",
            "_view_name": "StyleView",
            "bar_color": null,
            "description_width": ""
          }
        },
        "4b7fdf72760f4123b32cd7c61c3fb298": {
          "model_module": "@jupyter-widgets/base",
          "model_name": "LayoutModel",
          "model_module_version": "1.2.0",
          "state": {
            "_model_module": "@jupyter-widgets/base",
            "_model_module_version": "1.2.0",
            "_model_name": "LayoutModel",
            "_view_count": null,
            "_view_module": "@jupyter-widgets/base",
            "_view_module_version": "1.2.0",
            "_view_name": "LayoutView",
            "align_content": null,
            "align_items": null,
            "align_self": null,
            "border": null,
            "bottom": null,
            "display": null,
            "flex": null,
            "flex_flow": null,
            "grid_area": null,
            "grid_auto_columns": null,
            "grid_auto_flow": null,
            "grid_auto_rows": null,
            "grid_column": null,
            "grid_gap": null,
            "grid_row": null,
            "grid_template_areas": null,
            "grid_template_columns": null,
            "grid_template_rows": null,
            "height": null,
            "justify_content": null,
            "justify_items": null,
            "left": null,
            "margin": null,
            "max_height": null,
            "max_width": null,
            "min_height": null,
            "min_width": null,
            "object_fit": null,
            "object_position": null,
            "order": null,
            "overflow": null,
            "overflow_x": null,
            "overflow_y": null,
            "padding": null,
            "right": null,
            "top": null,
            "visibility": null,
            "width": null
          }
        },
        "e223623dfe0c4ae384759ae2066919bf": {
          "model_module": "@jupyter-widgets/controls",
          "model_name": "DescriptionStyleModel",
          "model_module_version": "1.5.0",
          "state": {
            "_model_module": "@jupyter-widgets/controls",
            "_model_module_version": "1.5.0",
            "_model_name": "DescriptionStyleModel",
            "_view_count": null,
            "_view_module": "@jupyter-widgets/base",
            "_view_module_version": "1.2.0",
            "_view_name": "StyleView",
            "description_width": ""
          }
        },
        "a86fed1ee0d041af91f4fb7ef6f6a9c2": {
          "model_module": "@jupyter-widgets/controls",
          "model_name": "HBoxModel",
          "model_module_version": "1.5.0",
          "state": {
            "_dom_classes": [],
            "_model_module": "@jupyter-widgets/controls",
            "_model_module_version": "1.5.0",
            "_model_name": "HBoxModel",
            "_view_count": null,
            "_view_module": "@jupyter-widgets/controls",
            "_view_module_version": "1.5.0",
            "_view_name": "HBoxView",
            "box_style": "",
            "children": [
              "IPY_MODEL_3e685a3d974e41269865bda46e71f2a7",
              "IPY_MODEL_8cbae462d5874deca7488050bb4f9267",
              "IPY_MODEL_6f6213edbdff47aa934adf1541a0597b"
            ],
            "layout": "IPY_MODEL_cd49750fcafe4e118063bca454ce5782"
          }
        },
        "3e685a3d974e41269865bda46e71f2a7": {
          "model_module": "@jupyter-widgets/controls",
          "model_name": "HTMLModel",
          "model_module_version": "1.5.0",
          "state": {
            "_dom_classes": [],
            "_model_module": "@jupyter-widgets/controls",
            "_model_module_version": "1.5.0",
            "_model_name": "HTMLModel",
            "_view_count": null,
            "_view_module": "@jupyter-widgets/controls",
            "_view_module_version": "1.5.0",
            "_view_name": "HTMLView",
            "description": "",
            "description_tooltip": null,
            "layout": "IPY_MODEL_8584708f328345cd9c2447cf43c5b717",
            "placeholder": "​",
            "style": "IPY_MODEL_aeebef2b5e5f4fa7bbbfa3c7f7fd12fb",
            "value": "special_tokens_map.json: 100%"
          }
        },
        "8cbae462d5874deca7488050bb4f9267": {
          "model_module": "@jupyter-widgets/controls",
          "model_name": "FloatProgressModel",
          "model_module_version": "1.5.0",
          "state": {
            "_dom_classes": [],
            "_model_module": "@jupyter-widgets/controls",
            "_model_module_version": "1.5.0",
            "_model_name": "FloatProgressModel",
            "_view_count": null,
            "_view_module": "@jupyter-widgets/controls",
            "_view_module_version": "1.5.0",
            "_view_name": "ProgressView",
            "bar_style": "success",
            "description": "",
            "description_tooltip": null,
            "layout": "IPY_MODEL_becf0638674149898fa0e383f6e95c53",
            "max": 112,
            "min": 0,
            "orientation": "horizontal",
            "style": "IPY_MODEL_9af35822b85e4cd585766a94d0b28d85",
            "value": 112
          }
        },
        "6f6213edbdff47aa934adf1541a0597b": {
          "model_module": "@jupyter-widgets/controls",
          "model_name": "HTMLModel",
          "model_module_version": "1.5.0",
          "state": {
            "_dom_classes": [],
            "_model_module": "@jupyter-widgets/controls",
            "_model_module_version": "1.5.0",
            "_model_name": "HTMLModel",
            "_view_count": null,
            "_view_module": "@jupyter-widgets/controls",
            "_view_module_version": "1.5.0",
            "_view_name": "HTMLView",
            "description": "",
            "description_tooltip": null,
            "layout": "IPY_MODEL_30040b22613c47a295538ca657729545",
            "placeholder": "​",
            "style": "IPY_MODEL_7b412d3a65b740fdb7f5a8bc91ed25a1",
            "value": " 112/112 [00:00&lt;00:00, 1.29kB/s]"
          }
        },
        "cd49750fcafe4e118063bca454ce5782": {
          "model_module": "@jupyter-widgets/base",
          "model_name": "LayoutModel",
          "model_module_version": "1.2.0",
          "state": {
            "_model_module": "@jupyter-widgets/base",
            "_model_module_version": "1.2.0",
            "_model_name": "LayoutModel",
            "_view_count": null,
            "_view_module": "@jupyter-widgets/base",
            "_view_module_version": "1.2.0",
            "_view_name": "LayoutView",
            "align_content": null,
            "align_items": null,
            "align_self": null,
            "border": null,
            "bottom": null,
            "display": null,
            "flex": null,
            "flex_flow": null,
            "grid_area": null,
            "grid_auto_columns": null,
            "grid_auto_flow": null,
            "grid_auto_rows": null,
            "grid_column": null,
            "grid_gap": null,
            "grid_row": null,
            "grid_template_areas": null,
            "grid_template_columns": null,
            "grid_template_rows": null,
            "height": null,
            "justify_content": null,
            "justify_items": null,
            "left": null,
            "margin": null,
            "max_height": null,
            "max_width": null,
            "min_height": null,
            "min_width": null,
            "object_fit": null,
            "object_position": null,
            "order": null,
            "overflow": null,
            "overflow_x": null,
            "overflow_y": null,
            "padding": null,
            "right": null,
            "top": null,
            "visibility": null,
            "width": null
          }
        },
        "8584708f328345cd9c2447cf43c5b717": {
          "model_module": "@jupyter-widgets/base",
          "model_name": "LayoutModel",
          "model_module_version": "1.2.0",
          "state": {
            "_model_module": "@jupyter-widgets/base",
            "_model_module_version": "1.2.0",
            "_model_name": "LayoutModel",
            "_view_count": null,
            "_view_module": "@jupyter-widgets/base",
            "_view_module_version": "1.2.0",
            "_view_name": "LayoutView",
            "align_content": null,
            "align_items": null,
            "align_self": null,
            "border": null,
            "bottom": null,
            "display": null,
            "flex": null,
            "flex_flow": null,
            "grid_area": null,
            "grid_auto_columns": null,
            "grid_auto_flow": null,
            "grid_auto_rows": null,
            "grid_column": null,
            "grid_gap": null,
            "grid_row": null,
            "grid_template_areas": null,
            "grid_template_columns": null,
            "grid_template_rows": null,
            "height": null,
            "justify_content": null,
            "justify_items": null,
            "left": null,
            "margin": null,
            "max_height": null,
            "max_width": null,
            "min_height": null,
            "min_width": null,
            "object_fit": null,
            "object_position": null,
            "order": null,
            "overflow": null,
            "overflow_x": null,
            "overflow_y": null,
            "padding": null,
            "right": null,
            "top": null,
            "visibility": null,
            "width": null
          }
        },
        "aeebef2b5e5f4fa7bbbfa3c7f7fd12fb": {
          "model_module": "@jupyter-widgets/controls",
          "model_name": "DescriptionStyleModel",
          "model_module_version": "1.5.0",
          "state": {
            "_model_module": "@jupyter-widgets/controls",
            "_model_module_version": "1.5.0",
            "_model_name": "DescriptionStyleModel",
            "_view_count": null,
            "_view_module": "@jupyter-widgets/base",
            "_view_module_version": "1.2.0",
            "_view_name": "StyleView",
            "description_width": ""
          }
        },
        "becf0638674149898fa0e383f6e95c53": {
          "model_module": "@jupyter-widgets/base",
          "model_name": "LayoutModel",
          "model_module_version": "1.2.0",
          "state": {
            "_model_module": "@jupyter-widgets/base",
            "_model_module_version": "1.2.0",
            "_model_name": "LayoutModel",
            "_view_count": null,
            "_view_module": "@jupyter-widgets/base",
            "_view_module_version": "1.2.0",
            "_view_name": "LayoutView",
            "align_content": null,
            "align_items": null,
            "align_self": null,
            "border": null,
            "bottom": null,
            "display": null,
            "flex": null,
            "flex_flow": null,
            "grid_area": null,
            "grid_auto_columns": null,
            "grid_auto_flow": null,
            "grid_auto_rows": null,
            "grid_column": null,
            "grid_gap": null,
            "grid_row": null,
            "grid_template_areas": null,
            "grid_template_columns": null,
            "grid_template_rows": null,
            "height": null,
            "justify_content": null,
            "justify_items": null,
            "left": null,
            "margin": null,
            "max_height": null,
            "max_width": null,
            "min_height": null,
            "min_width": null,
            "object_fit": null,
            "object_position": null,
            "order": null,
            "overflow": null,
            "overflow_x": null,
            "overflow_y": null,
            "padding": null,
            "right": null,
            "top": null,
            "visibility": null,
            "width": null
          }
        },
        "9af35822b85e4cd585766a94d0b28d85": {
          "model_module": "@jupyter-widgets/controls",
          "model_name": "ProgressStyleModel",
          "model_module_version": "1.5.0",
          "state": {
            "_model_module": "@jupyter-widgets/controls",
            "_model_module_version": "1.5.0",
            "_model_name": "ProgressStyleModel",
            "_view_count": null,
            "_view_module": "@jupyter-widgets/base",
            "_view_module_version": "1.2.0",
            "_view_name": "StyleView",
            "bar_color": null,
            "description_width": ""
          }
        },
        "30040b22613c47a295538ca657729545": {
          "model_module": "@jupyter-widgets/base",
          "model_name": "LayoutModel",
          "model_module_version": "1.2.0",
          "state": {
            "_model_module": "@jupyter-widgets/base",
            "_model_module_version": "1.2.0",
            "_model_name": "LayoutModel",
            "_view_count": null,
            "_view_module": "@jupyter-widgets/base",
            "_view_module_version": "1.2.0",
            "_view_name": "LayoutView",
            "align_content": null,
            "align_items": null,
            "align_self": null,
            "border": null,
            "bottom": null,
            "display": null,
            "flex": null,
            "flex_flow": null,
            "grid_area": null,
            "grid_auto_columns": null,
            "grid_auto_flow": null,
            "grid_auto_rows": null,
            "grid_column": null,
            "grid_gap": null,
            "grid_row": null,
            "grid_template_areas": null,
            "grid_template_columns": null,
            "grid_template_rows": null,
            "height": null,
            "justify_content": null,
            "justify_items": null,
            "left": null,
            "margin": null,
            "max_height": null,
            "max_width": null,
            "min_height": null,
            "min_width": null,
            "object_fit": null,
            "object_position": null,
            "order": null,
            "overflow": null,
            "overflow_x": null,
            "overflow_y": null,
            "padding": null,
            "right": null,
            "top": null,
            "visibility": null,
            "width": null
          }
        },
        "7b412d3a65b740fdb7f5a8bc91ed25a1": {
          "model_module": "@jupyter-widgets/controls",
          "model_name": "DescriptionStyleModel",
          "model_module_version": "1.5.0",
          "state": {
            "_model_module": "@jupyter-widgets/controls",
            "_model_module_version": "1.5.0",
            "_model_name": "DescriptionStyleModel",
            "_view_count": null,
            "_view_module": "@jupyter-widgets/base",
            "_view_module_version": "1.2.0",
            "_view_name": "StyleView",
            "description_width": ""
          }
        },
        "a1e1141fa90a4e96b0f8f7638df3d0f7": {
          "model_module": "@jupyter-widgets/controls",
          "model_name": "HBoxModel",
          "model_module_version": "1.5.0",
          "state": {
            "_dom_classes": [],
            "_model_module": "@jupyter-widgets/controls",
            "_model_module_version": "1.5.0",
            "_model_name": "HBoxModel",
            "_view_count": null,
            "_view_module": "@jupyter-widgets/controls",
            "_view_module_version": "1.5.0",
            "_view_name": "HBoxView",
            "box_style": "",
            "children": [
              "IPY_MODEL_b849d26cf53c4b968de1d8f6a313cc65",
              "IPY_MODEL_f570dda0ba64440a856c30ad5a5c844c",
              "IPY_MODEL_d43c8d5a3a494877bf501dc96265bdc9"
            ],
            "layout": "IPY_MODEL_9fe2ad63ba964db993e229de94c853c0"
          }
        },
        "b849d26cf53c4b968de1d8f6a313cc65": {
          "model_module": "@jupyter-widgets/controls",
          "model_name": "HTMLModel",
          "model_module_version": "1.5.0",
          "state": {
            "_dom_classes": [],
            "_model_module": "@jupyter-widgets/controls",
            "_model_module_version": "1.5.0",
            "_model_name": "HTMLModel",
            "_view_count": null,
            "_view_module": "@jupyter-widgets/controls",
            "_view_module_version": "1.5.0",
            "_view_name": "HTMLView",
            "description": "",
            "description_tooltip": null,
            "layout": "IPY_MODEL_53e8fc800e3f4e73a2e58fa9bc3772b7",
            "placeholder": "​",
            "style": "IPY_MODEL_ec249767d28742e29725af448c44e712",
            "value": "config.json: 100%"
          }
        },
        "f570dda0ba64440a856c30ad5a5c844c": {
          "model_module": "@jupyter-widgets/controls",
          "model_name": "FloatProgressModel",
          "model_module_version": "1.5.0",
          "state": {
            "_dom_classes": [],
            "_model_module": "@jupyter-widgets/controls",
            "_model_module_version": "1.5.0",
            "_model_name": "FloatProgressModel",
            "_view_count": null,
            "_view_module": "@jupyter-widgets/controls",
            "_view_module_version": "1.5.0",
            "_view_name": "ProgressView",
            "bar_style": "success",
            "description": "",
            "description_tooltip": null,
            "layout": "IPY_MODEL_615b239dffc646d581d06a056577c350",
            "max": 190,
            "min": 0,
            "orientation": "horizontal",
            "style": "IPY_MODEL_2d4fd11e456444e491a152b817722e49",
            "value": 190
          }
        },
        "d43c8d5a3a494877bf501dc96265bdc9": {
          "model_module": "@jupyter-widgets/controls",
          "model_name": "HTMLModel",
          "model_module_version": "1.5.0",
          "state": {
            "_dom_classes": [],
            "_model_module": "@jupyter-widgets/controls",
            "_model_module_version": "1.5.0",
            "_model_name": "HTMLModel",
            "_view_count": null,
            "_view_module": "@jupyter-widgets/controls",
            "_view_module_version": "1.5.0",
            "_view_name": "HTMLView",
            "description": "",
            "description_tooltip": null,
            "layout": "IPY_MODEL_cff486ed56a24296a84f03d2de1affa7",
            "placeholder": "​",
            "style": "IPY_MODEL_967b17ff2a4148ceb89dab641aaa6674",
            "value": " 190/190 [00:00&lt;00:00, 1.96kB/s]"
          }
        },
        "9fe2ad63ba964db993e229de94c853c0": {
          "model_module": "@jupyter-widgets/base",
          "model_name": "LayoutModel",
          "model_module_version": "1.2.0",
          "state": {
            "_model_module": "@jupyter-widgets/base",
            "_model_module_version": "1.2.0",
            "_model_name": "LayoutModel",
            "_view_count": null,
            "_view_module": "@jupyter-widgets/base",
            "_view_module_version": "1.2.0",
            "_view_name": "LayoutView",
            "align_content": null,
            "align_items": null,
            "align_self": null,
            "border": null,
            "bottom": null,
            "display": null,
            "flex": null,
            "flex_flow": null,
            "grid_area": null,
            "grid_auto_columns": null,
            "grid_auto_flow": null,
            "grid_auto_rows": null,
            "grid_column": null,
            "grid_gap": null,
            "grid_row": null,
            "grid_template_areas": null,
            "grid_template_columns": null,
            "grid_template_rows": null,
            "height": null,
            "justify_content": null,
            "justify_items": null,
            "left": null,
            "margin": null,
            "max_height": null,
            "max_width": null,
            "min_height": null,
            "min_width": null,
            "object_fit": null,
            "object_position": null,
            "order": null,
            "overflow": null,
            "overflow_x": null,
            "overflow_y": null,
            "padding": null,
            "right": null,
            "top": null,
            "visibility": null,
            "width": null
          }
        },
        "53e8fc800e3f4e73a2e58fa9bc3772b7": {
          "model_module": "@jupyter-widgets/base",
          "model_name": "LayoutModel",
          "model_module_version": "1.2.0",
          "state": {
            "_model_module": "@jupyter-widgets/base",
            "_model_module_version": "1.2.0",
            "_model_name": "LayoutModel",
            "_view_count": null,
            "_view_module": "@jupyter-widgets/base",
            "_view_module_version": "1.2.0",
            "_view_name": "LayoutView",
            "align_content": null,
            "align_items": null,
            "align_self": null,
            "border": null,
            "bottom": null,
            "display": null,
            "flex": null,
            "flex_flow": null,
            "grid_area": null,
            "grid_auto_columns": null,
            "grid_auto_flow": null,
            "grid_auto_rows": null,
            "grid_column": null,
            "grid_gap": null,
            "grid_row": null,
            "grid_template_areas": null,
            "grid_template_columns": null,
            "grid_template_rows": null,
            "height": null,
            "justify_content": null,
            "justify_items": null,
            "left": null,
            "margin": null,
            "max_height": null,
            "max_width": null,
            "min_height": null,
            "min_width": null,
            "object_fit": null,
            "object_position": null,
            "order": null,
            "overflow": null,
            "overflow_x": null,
            "overflow_y": null,
            "padding": null,
            "right": null,
            "top": null,
            "visibility": null,
            "width": null
          }
        },
        "ec249767d28742e29725af448c44e712": {
          "model_module": "@jupyter-widgets/controls",
          "model_name": "DescriptionStyleModel",
          "model_module_version": "1.5.0",
          "state": {
            "_model_module": "@jupyter-widgets/controls",
            "_model_module_version": "1.5.0",
            "_model_name": "DescriptionStyleModel",
            "_view_count": null,
            "_view_module": "@jupyter-widgets/base",
            "_view_module_version": "1.2.0",
            "_view_name": "StyleView",
            "description_width": ""
          }
        },
        "615b239dffc646d581d06a056577c350": {
          "model_module": "@jupyter-widgets/base",
          "model_name": "LayoutModel",
          "model_module_version": "1.2.0",
          "state": {
            "_model_module": "@jupyter-widgets/base",
            "_model_module_version": "1.2.0",
            "_model_name": "LayoutModel",
            "_view_count": null,
            "_view_module": "@jupyter-widgets/base",
            "_view_module_version": "1.2.0",
            "_view_name": "LayoutView",
            "align_content": null,
            "align_items": null,
            "align_self": null,
            "border": null,
            "bottom": null,
            "display": null,
            "flex": null,
            "flex_flow": null,
            "grid_area": null,
            "grid_auto_columns": null,
            "grid_auto_flow": null,
            "grid_auto_rows": null,
            "grid_column": null,
            "grid_gap": null,
            "grid_row": null,
            "grid_template_areas": null,
            "grid_template_columns": null,
            "grid_template_rows": null,
            "height": null,
            "justify_content": null,
            "justify_items": null,
            "left": null,
            "margin": null,
            "max_height": null,
            "max_width": null,
            "min_height": null,
            "min_width": null,
            "object_fit": null,
            "object_position": null,
            "order": null,
            "overflow": null,
            "overflow_x": null,
            "overflow_y": null,
            "padding": null,
            "right": null,
            "top": null,
            "visibility": null,
            "width": null
          }
        },
        "2d4fd11e456444e491a152b817722e49": {
          "model_module": "@jupyter-widgets/controls",
          "model_name": "ProgressStyleModel",
          "model_module_version": "1.5.0",
          "state": {
            "_model_module": "@jupyter-widgets/controls",
            "_model_module_version": "1.5.0",
            "_model_name": "ProgressStyleModel",
            "_view_count": null,
            "_view_module": "@jupyter-widgets/base",
            "_view_module_version": "1.2.0",
            "_view_name": "StyleView",
            "bar_color": null,
            "description_width": ""
          }
        },
        "cff486ed56a24296a84f03d2de1affa7": {
          "model_module": "@jupyter-widgets/base",
          "model_name": "LayoutModel",
          "model_module_version": "1.2.0",
          "state": {
            "_model_module": "@jupyter-widgets/base",
            "_model_module_version": "1.2.0",
            "_model_name": "LayoutModel",
            "_view_count": null,
            "_view_module": "@jupyter-widgets/base",
            "_view_module_version": "1.2.0",
            "_view_name": "LayoutView",
            "align_content": null,
            "align_items": null,
            "align_self": null,
            "border": null,
            "bottom": null,
            "display": null,
            "flex": null,
            "flex_flow": null,
            "grid_area": null,
            "grid_auto_columns": null,
            "grid_auto_flow": null,
            "grid_auto_rows": null,
            "grid_column": null,
            "grid_gap": null,
            "grid_row": null,
            "grid_template_areas": null,
            "grid_template_columns": null,
            "grid_template_rows": null,
            "height": null,
            "justify_content": null,
            "justify_items": null,
            "left": null,
            "margin": null,
            "max_height": null,
            "max_width": null,
            "min_height": null,
            "min_width": null,
            "object_fit": null,
            "object_position": null,
            "order": null,
            "overflow": null,
            "overflow_x": null,
            "overflow_y": null,
            "padding": null,
            "right": null,
            "top": null,
            "visibility": null,
            "width": null
          }
        },
        "967b17ff2a4148ceb89dab641aaa6674": {
          "model_module": "@jupyter-widgets/controls",
          "model_name": "DescriptionStyleModel",
          "model_module_version": "1.5.0",
          "state": {
            "_model_module": "@jupyter-widgets/controls",
            "_model_module_version": "1.5.0",
            "_model_name": "DescriptionStyleModel",
            "_view_count": null,
            "_view_module": "@jupyter-widgets/base",
            "_view_module_version": "1.2.0",
            "_view_name": "StyleView",
            "description_width": ""
          }
        }
      }
    }
  },
  "cells": [
    {
      "cell_type": "markdown",
      "metadata": {
        "id": "view-in-github",
        "colab_type": "text"
      },
      "source": [
        "<a href=\"https://colab.research.google.com/github/ApoorvaReddy17/practice/blob/main/NLP.ipynb\" target=\"_parent\"><img src=\"https://colab.research.google.com/assets/colab-badge.svg\" alt=\"Open In Colab\"/></a>"
      ]
    },
    {
      "cell_type": "markdown",
      "source": [
        "**NLP**\n",
        "\n",
        "NLP is a field of AI that focuses on the interaction between computers and human language. It involves understanding, processing and generating natural language text or speech"
      ],
      "metadata": {
        "id": "e_JksywCL-Ck"
      }
    },
    {
      "cell_type": "markdown",
      "source": [
        "# **TOKENIZATION**\n",
        "\n",
        "Breaking text into smaller units (words,sentences, or subwords)"
      ],
      "metadata": {
        "id": "pMXFB2XtOovM"
      }
    },
    {
      "cell_type": "markdown",
      "source": [
        "## **Tokenization using nltk**"
      ],
      "metadata": {
        "id": "B5jL8vG8NTMt"
      }
    },
    {
      "cell_type": "code",
      "execution_count": 1,
      "metadata": {
        "colab": {
          "base_uri": "https://localhost:8080/"
        },
        "id": "90kekRl-9pGm",
        "outputId": "293ebda9-2b0c-4fac-c01f-aae6be12d12f"
      },
      "outputs": [
        {
          "output_type": "stream",
          "name": "stderr",
          "text": [
            "[nltk_data] Downloading package punkt to /root/nltk_data...\n",
            "[nltk_data]   Package punkt is already up-to-date!\n",
            "[nltk_data] Downloading package punkt_tab to /root/nltk_data...\n",
            "[nltk_data]   Package punkt_tab is already up-to-date!\n"
          ]
        },
        {
          "output_type": "execute_result",
          "data": {
            "text/plain": [
              "True"
            ]
          },
          "metadata": {},
          "execution_count": 1
        }
      ],
      "source": [
        "import os\n",
        "import nltk\n",
        "nltk.download('punkt')\n",
        "nltk.download('punkt_tab')"
      ]
    },
    {
      "cell_type": "code",
      "source": [
        "ai = \"\"\"NLP is basic building block to build llm model. ChatGPT is an advanced language model developed by openAI, based on the GPT(Generative Pre-Tranformer) architecture. Specifically, ChatGPT belong to the series of GPT models,with GPT-4 being one of the latest versions. These models are designed to understand and generate human-like text based on the input they receive.\"\"\"\n",
        "ai"
      ],
      "metadata": {
        "colab": {
          "base_uri": "https://localhost:8080/",
          "height": 0
        },
        "id": "icqHVTkI_Lba",
        "outputId": "ce70f3e5-6356-4d9d-8f0b-40e0bc060e95"
      },
      "execution_count": 2,
      "outputs": [
        {
          "output_type": "execute_result",
          "data": {
            "text/plain": [
              "'NLP is basic building block to build llm model. ChatGPT is an advanced language model developed by openAI, based on the GPT(Generative Pre-Tranformer) architecture. Specifically, ChatGPT belong to the series of GPT models,with GPT-4 being one of the latest versions. These models are designed to understand and generate human-like text based on the input they receive.'"
            ],
            "application/vnd.google.colaboratory.intrinsic+json": {
              "type": "string"
            }
          },
          "metadata": {},
          "execution_count": 2
        }
      ]
    },
    {
      "cell_type": "code",
      "source": [
        "type(ai)"
      ],
      "metadata": {
        "colab": {
          "base_uri": "https://localhost:8080/"
        },
        "id": "lv8PbQ2lCxml",
        "outputId": "c3409a27-b7ad-4870-fa4d-86690188bcbe"
      },
      "execution_count": 3,
      "outputs": [
        {
          "output_type": "execute_result",
          "data": {
            "text/plain": [
              "str"
            ]
          },
          "metadata": {},
          "execution_count": 3
        }
      ]
    },
    {
      "cell_type": "markdown",
      "source": [
        "### **Sentence Tokens**\n",
        "\n",
        "Sentence segmentation\n",
        "\n",
        "from nltk.tokenize import sent_tokenize\n"
      ],
      "metadata": {
        "id": "Uw9BquIELp_C"
      }
    },
    {
      "cell_type": "code",
      "source": [
        "from nltk.tokenize import sent_tokenize\n",
        "s_tokens = sent_tokenize(ai)\n",
        "s_tokens"
      ],
      "metadata": {
        "colab": {
          "base_uri": "https://localhost:8080/"
        },
        "id": "WyJlK9Tt_LWB",
        "outputId": "04b927b4-5e78-4dbc-8f07-4ad146018201"
      },
      "execution_count": 4,
      "outputs": [
        {
          "output_type": "execute_result",
          "data": {
            "text/plain": [
              "['NLP is basic building block to build llm model.',\n",
              " 'ChatGPT is an advanced language model developed by openAI, based on the GPT(Generative Pre-Tranformer) architecture.',\n",
              " 'Specifically, ChatGPT belong to the series of GPT models,with GPT-4 being one of the latest versions.',\n",
              " 'These models are designed to understand and generate human-like text based on the input they receive.']"
            ]
          },
          "metadata": {},
          "execution_count": 4
        }
      ]
    },
    {
      "cell_type": "code",
      "source": [
        "print(type(s_tokens))\n",
        "len(s_tokens)"
      ],
      "metadata": {
        "colab": {
          "base_uri": "https://localhost:8080/"
        },
        "id": "gZ6yi0dl_Lpp",
        "outputId": "f5b6f5f1-307c-4f46-f63c-6d03d84dfeee"
      },
      "execution_count": 5,
      "outputs": [
        {
          "output_type": "stream",
          "name": "stdout",
          "text": [
            "<class 'list'>\n"
          ]
        },
        {
          "output_type": "execute_result",
          "data": {
            "text/plain": [
              "4"
            ]
          },
          "metadata": {},
          "execution_count": 5
        }
      ]
    },
    {
      "cell_type": "markdown",
      "source": [
        "### **WORD TOKENS**\n",
        "\n",
        "Simple word tokenization\n",
        "\n",
        "from nltk.tokenize import word_tokenize"
      ],
      "metadata": {
        "id": "UHNwLYpkMEuR"
      }
    },
    {
      "cell_type": "code",
      "source": [
        "from nltk.tokenize import word_tokenize\n",
        "w_tokens = word_tokenize(ai)\n",
        "print(w_tokens)\n",
        "print(type(w_tokens))\n",
        "len(w_tokens)"
      ],
      "metadata": {
        "colab": {
          "base_uri": "https://localhost:8080/"
        },
        "id": "NCp0ydgo_Llm",
        "outputId": "c33bb8e7-1d5d-4341-9459-c031eacc7995"
      },
      "execution_count": 6,
      "outputs": [
        {
          "output_type": "stream",
          "name": "stdout",
          "text": [
            "['NLP', 'is', 'basic', 'building', 'block', 'to', 'build', 'llm', 'model', '.', 'ChatGPT', 'is', 'an', 'advanced', 'language', 'model', 'developed', 'by', 'openAI', ',', 'based', 'on', 'the', 'GPT', '(', 'Generative', 'Pre-Tranformer', ')', 'architecture', '.', 'Specifically', ',', 'ChatGPT', 'belong', 'to', 'the', 'series', 'of', 'GPT', 'models', ',', 'with', 'GPT-4', 'being', 'one', 'of', 'the', 'latest', 'versions', '.', 'These', 'models', 'are', 'designed', 'to', 'understand', 'and', 'generate', 'human-like', 'text', 'based', 'on', 'the', 'input', 'they', 'receive', '.']\n",
            "<class 'list'>\n"
          ]
        },
        {
          "output_type": "execute_result",
          "data": {
            "text/plain": [
              "67"
            ]
          },
          "metadata": {},
          "execution_count": 6
        }
      ]
    },
    {
      "cell_type": "markdown",
      "source": [
        "## **TOKEN FREQUENCY**"
      ],
      "metadata": {
        "id": "cMrQsoR2PIx3"
      }
    },
    {
      "cell_type": "code",
      "source": [
        "from nltk.probability import FreqDist\n",
        "fdist = FreqDist(w_tokens)\n",
        "print(type(fdist))\n",
        "fdist"
      ],
      "metadata": {
        "colab": {
          "base_uri": "https://localhost:8080/"
        },
        "id": "aBKYqBEr_Lgj",
        "outputId": "50cae189-c8ee-4bf2-b287-07a9df7127b0"
      },
      "execution_count": 7,
      "outputs": [
        {
          "output_type": "stream",
          "name": "stdout",
          "text": [
            "<class 'nltk.probability.FreqDist'>\n"
          ]
        },
        {
          "output_type": "execute_result",
          "data": {
            "text/plain": [
              "FreqDist({'.': 4, 'the': 4, 'to': 3, ',': 3, 'is': 2, 'model': 2, 'ChatGPT': 2, 'based': 2, 'on': 2, 'GPT': 2, ...})"
            ]
          },
          "metadata": {},
          "execution_count": 7
        }
      ]
    },
    {
      "cell_type": "code",
      "source": [
        "f = FreqDist()\n",
        "for word in w_tokens:\n",
        "  f[word.lower()]+=1\n",
        "f"
      ],
      "metadata": {
        "colab": {
          "base_uri": "https://localhost:8080/"
        },
        "id": "nX0CFr1Y_LRZ",
        "outputId": "21f01d86-70b2-42cd-b818-175774249af8"
      },
      "execution_count": 8,
      "outputs": [
        {
          "output_type": "execute_result",
          "data": {
            "text/plain": [
              "FreqDist({'.': 4, 'the': 4, 'to': 3, ',': 3, 'is': 2, 'model': 2, 'chatgpt': 2, 'based': 2, 'on': 2, 'gpt': 2, ...})"
            ]
          },
          "metadata": {},
          "execution_count": 8
        }
      ]
    },
    {
      "cell_type": "code",
      "source": [
        "f['model']"
      ],
      "metadata": {
        "colab": {
          "base_uri": "https://localhost:8080/"
        },
        "id": "v0EgtiTj_LM6",
        "outputId": "616e6d34-2546-4485-ecdd-bbe3bb24e9d1"
      },
      "execution_count": 9,
      "outputs": [
        {
          "output_type": "execute_result",
          "data": {
            "text/plain": [
              "2"
            ]
          },
          "metadata": {},
          "execution_count": 9
        }
      ]
    },
    {
      "cell_type": "code",
      "source": [
        "f['chatgpt']"
      ],
      "metadata": {
        "colab": {
          "base_uri": "https://localhost:8080/"
        },
        "id": "NbfdJu-aRNVc",
        "outputId": "691e56e9-bc15-4ce9-94b9-b0e4d35af32f"
      },
      "execution_count": 10,
      "outputs": [
        {
          "output_type": "execute_result",
          "data": {
            "text/plain": [
              "2"
            ]
          },
          "metadata": {},
          "execution_count": 10
        }
      ]
    },
    {
      "cell_type": "markdown",
      "source": [
        "## **TOKENS TYPE**\n",
        "\n",
        "*   bigrams (2)\n",
        "*  trigrams (3)\n",
        "*  ngrams (3+)"
      ],
      "metadata": {
        "id": "fU1LvyNPRE9u"
      }
    },
    {
      "cell_type": "code",
      "source": [
        "from nltk.util import bigrams, trigrams, ngrams"
      ],
      "metadata": {
        "id": "y3Lwxwdp_LJd"
      },
      "execution_count": 11,
      "outputs": []
    },
    {
      "cell_type": "code",
      "source": [
        "# bigrams using word tokens\n",
        "b = list(nltk.bigrams(w_tokens))\n",
        "b"
      ],
      "metadata": {
        "colab": {
          "base_uri": "https://localhost:8080/"
        },
        "id": "ez-ZxunaRmgi",
        "outputId": "32facaea-88d2-45a2-98b4-0512044506b8"
      },
      "execution_count": 12,
      "outputs": [
        {
          "output_type": "execute_result",
          "data": {
            "text/plain": [
              "[('NLP', 'is'),\n",
              " ('is', 'basic'),\n",
              " ('basic', 'building'),\n",
              " ('building', 'block'),\n",
              " ('block', 'to'),\n",
              " ('to', 'build'),\n",
              " ('build', 'llm'),\n",
              " ('llm', 'model'),\n",
              " ('model', '.'),\n",
              " ('.', 'ChatGPT'),\n",
              " ('ChatGPT', 'is'),\n",
              " ('is', 'an'),\n",
              " ('an', 'advanced'),\n",
              " ('advanced', 'language'),\n",
              " ('language', 'model'),\n",
              " ('model', 'developed'),\n",
              " ('developed', 'by'),\n",
              " ('by', 'openAI'),\n",
              " ('openAI', ','),\n",
              " (',', 'based'),\n",
              " ('based', 'on'),\n",
              " ('on', 'the'),\n",
              " ('the', 'GPT'),\n",
              " ('GPT', '('),\n",
              " ('(', 'Generative'),\n",
              " ('Generative', 'Pre-Tranformer'),\n",
              " ('Pre-Tranformer', ')'),\n",
              " (')', 'architecture'),\n",
              " ('architecture', '.'),\n",
              " ('.', 'Specifically'),\n",
              " ('Specifically', ','),\n",
              " (',', 'ChatGPT'),\n",
              " ('ChatGPT', 'belong'),\n",
              " ('belong', 'to'),\n",
              " ('to', 'the'),\n",
              " ('the', 'series'),\n",
              " ('series', 'of'),\n",
              " ('of', 'GPT'),\n",
              " ('GPT', 'models'),\n",
              " ('models', ','),\n",
              " (',', 'with'),\n",
              " ('with', 'GPT-4'),\n",
              " ('GPT-4', 'being'),\n",
              " ('being', 'one'),\n",
              " ('one', 'of'),\n",
              " ('of', 'the'),\n",
              " ('the', 'latest'),\n",
              " ('latest', 'versions'),\n",
              " ('versions', '.'),\n",
              " ('.', 'These'),\n",
              " ('These', 'models'),\n",
              " ('models', 'are'),\n",
              " ('are', 'designed'),\n",
              " ('designed', 'to'),\n",
              " ('to', 'understand'),\n",
              " ('understand', 'and'),\n",
              " ('and', 'generate'),\n",
              " ('generate', 'human-like'),\n",
              " ('human-like', 'text'),\n",
              " ('text', 'based'),\n",
              " ('based', 'on'),\n",
              " ('on', 'the'),\n",
              " ('the', 'input'),\n",
              " ('input', 'they'),\n",
              " ('they', 'receive'),\n",
              " ('receive', '.')]"
            ]
          },
          "metadata": {},
          "execution_count": 12
        }
      ]
    },
    {
      "cell_type": "code",
      "source": [
        "# bigrams using sentence\n",
        "sentence_bigrams = list(bigrams(s_tokens))\n",
        "sentence_bigrams"
      ],
      "metadata": {
        "colab": {
          "base_uri": "https://localhost:8080/"
        },
        "id": "SeHM3gH-PVJH",
        "outputId": "1b5334f4-ab66-4ece-9a3d-12cfd10080eb"
      },
      "execution_count": 13,
      "outputs": [
        {
          "output_type": "execute_result",
          "data": {
            "text/plain": [
              "[('NLP is basic building block to build llm model.',\n",
              "  'ChatGPT is an advanced language model developed by openAI, based on the GPT(Generative Pre-Tranformer) architecture.'),\n",
              " ('ChatGPT is an advanced language model developed by openAI, based on the GPT(Generative Pre-Tranformer) architecture.',\n",
              "  'Specifically, ChatGPT belong to the series of GPT models,with GPT-4 being one of the latest versions.'),\n",
              " ('Specifically, ChatGPT belong to the series of GPT models,with GPT-4 being one of the latest versions.',\n",
              "  'These models are designed to understand and generate human-like text based on the input they receive.')]"
            ]
          },
          "metadata": {},
          "execution_count": 13
        }
      ]
    },
    {
      "cell_type": "code",
      "source": [
        "t = list(nltk.trigrams(w_tokens))\n",
        "print(t)"
      ],
      "metadata": {
        "colab": {
          "base_uri": "https://localhost:8080/"
        },
        "id": "MFIJOBh3RmaA",
        "outputId": "e8dd1b21-e03f-4dac-a3eb-431e0b8341a5"
      },
      "execution_count": 14,
      "outputs": [
        {
          "output_type": "stream",
          "name": "stdout",
          "text": [
            "[('NLP', 'is', 'basic'), ('is', 'basic', 'building'), ('basic', 'building', 'block'), ('building', 'block', 'to'), ('block', 'to', 'build'), ('to', 'build', 'llm'), ('build', 'llm', 'model'), ('llm', 'model', '.'), ('model', '.', 'ChatGPT'), ('.', 'ChatGPT', 'is'), ('ChatGPT', 'is', 'an'), ('is', 'an', 'advanced'), ('an', 'advanced', 'language'), ('advanced', 'language', 'model'), ('language', 'model', 'developed'), ('model', 'developed', 'by'), ('developed', 'by', 'openAI'), ('by', 'openAI', ','), ('openAI', ',', 'based'), (',', 'based', 'on'), ('based', 'on', 'the'), ('on', 'the', 'GPT'), ('the', 'GPT', '('), ('GPT', '(', 'Generative'), ('(', 'Generative', 'Pre-Tranformer'), ('Generative', 'Pre-Tranformer', ')'), ('Pre-Tranformer', ')', 'architecture'), (')', 'architecture', '.'), ('architecture', '.', 'Specifically'), ('.', 'Specifically', ','), ('Specifically', ',', 'ChatGPT'), (',', 'ChatGPT', 'belong'), ('ChatGPT', 'belong', 'to'), ('belong', 'to', 'the'), ('to', 'the', 'series'), ('the', 'series', 'of'), ('series', 'of', 'GPT'), ('of', 'GPT', 'models'), ('GPT', 'models', ','), ('models', ',', 'with'), (',', 'with', 'GPT-4'), ('with', 'GPT-4', 'being'), ('GPT-4', 'being', 'one'), ('being', 'one', 'of'), ('one', 'of', 'the'), ('of', 'the', 'latest'), ('the', 'latest', 'versions'), ('latest', 'versions', '.'), ('versions', '.', 'These'), ('.', 'These', 'models'), ('These', 'models', 'are'), ('models', 'are', 'designed'), ('are', 'designed', 'to'), ('designed', 'to', 'understand'), ('to', 'understand', 'and'), ('understand', 'and', 'generate'), ('and', 'generate', 'human-like'), ('generate', 'human-like', 'text'), ('human-like', 'text', 'based'), ('text', 'based', 'on'), ('based', 'on', 'the'), ('on', 'the', 'input'), ('the', 'input', 'they'), ('input', 'they', 'receive'), ('they', 'receive', '.')]\n"
          ]
        }
      ]
    },
    {
      "cell_type": "code",
      "source": [
        "n = list(nltk.ngrams(w_tokens,5))\n",
        "print(n)"
      ],
      "metadata": {
        "colab": {
          "base_uri": "https://localhost:8080/"
        },
        "id": "aDeJ2EpnRmTB",
        "outputId": "4702f1f2-35bf-469b-ffbb-b1952f61dd24"
      },
      "execution_count": 15,
      "outputs": [
        {
          "output_type": "stream",
          "name": "stdout",
          "text": [
            "[('NLP', 'is', 'basic', 'building', 'block'), ('is', 'basic', 'building', 'block', 'to'), ('basic', 'building', 'block', 'to', 'build'), ('building', 'block', 'to', 'build', 'llm'), ('block', 'to', 'build', 'llm', 'model'), ('to', 'build', 'llm', 'model', '.'), ('build', 'llm', 'model', '.', 'ChatGPT'), ('llm', 'model', '.', 'ChatGPT', 'is'), ('model', '.', 'ChatGPT', 'is', 'an'), ('.', 'ChatGPT', 'is', 'an', 'advanced'), ('ChatGPT', 'is', 'an', 'advanced', 'language'), ('is', 'an', 'advanced', 'language', 'model'), ('an', 'advanced', 'language', 'model', 'developed'), ('advanced', 'language', 'model', 'developed', 'by'), ('language', 'model', 'developed', 'by', 'openAI'), ('model', 'developed', 'by', 'openAI', ','), ('developed', 'by', 'openAI', ',', 'based'), ('by', 'openAI', ',', 'based', 'on'), ('openAI', ',', 'based', 'on', 'the'), (',', 'based', 'on', 'the', 'GPT'), ('based', 'on', 'the', 'GPT', '('), ('on', 'the', 'GPT', '(', 'Generative'), ('the', 'GPT', '(', 'Generative', 'Pre-Tranformer'), ('GPT', '(', 'Generative', 'Pre-Tranformer', ')'), ('(', 'Generative', 'Pre-Tranformer', ')', 'architecture'), ('Generative', 'Pre-Tranformer', ')', 'architecture', '.'), ('Pre-Tranformer', ')', 'architecture', '.', 'Specifically'), (')', 'architecture', '.', 'Specifically', ','), ('architecture', '.', 'Specifically', ',', 'ChatGPT'), ('.', 'Specifically', ',', 'ChatGPT', 'belong'), ('Specifically', ',', 'ChatGPT', 'belong', 'to'), (',', 'ChatGPT', 'belong', 'to', 'the'), ('ChatGPT', 'belong', 'to', 'the', 'series'), ('belong', 'to', 'the', 'series', 'of'), ('to', 'the', 'series', 'of', 'GPT'), ('the', 'series', 'of', 'GPT', 'models'), ('series', 'of', 'GPT', 'models', ','), ('of', 'GPT', 'models', ',', 'with'), ('GPT', 'models', ',', 'with', 'GPT-4'), ('models', ',', 'with', 'GPT-4', 'being'), (',', 'with', 'GPT-4', 'being', 'one'), ('with', 'GPT-4', 'being', 'one', 'of'), ('GPT-4', 'being', 'one', 'of', 'the'), ('being', 'one', 'of', 'the', 'latest'), ('one', 'of', 'the', 'latest', 'versions'), ('of', 'the', 'latest', 'versions', '.'), ('the', 'latest', 'versions', '.', 'These'), ('latest', 'versions', '.', 'These', 'models'), ('versions', '.', 'These', 'models', 'are'), ('.', 'These', 'models', 'are', 'designed'), ('These', 'models', 'are', 'designed', 'to'), ('models', 'are', 'designed', 'to', 'understand'), ('are', 'designed', 'to', 'understand', 'and'), ('designed', 'to', 'understand', 'and', 'generate'), ('to', 'understand', 'and', 'generate', 'human-like'), ('understand', 'and', 'generate', 'human-like', 'text'), ('and', 'generate', 'human-like', 'text', 'based'), ('generate', 'human-like', 'text', 'based', 'on'), ('human-like', 'text', 'based', 'on', 'the'), ('text', 'based', 'on', 'the', 'input'), ('based', 'on', 'the', 'input', 'they'), ('on', 'the', 'input', 'they', 'receive'), ('the', 'input', 'they', 'receive', '.')]\n"
          ]
        }
      ]
    },
    {
      "cell_type": "code",
      "source": [
        "# ng = list(nltk.ngrams(w_tokens))\n",
        "# TypeError: ngrams() missing 1 required positional argument: 'n'"
      ],
      "metadata": {
        "id": "vJobDoxLRmNb"
      },
      "execution_count": 16,
      "outputs": []
    },
    {
      "cell_type": "markdown",
      "source": [
        "## **Tokenization Using spacy**\n",
        "\n",
        "Efficient NLP processing"
      ],
      "metadata": {
        "id": "36Fok-G1Nnhb"
      }
    },
    {
      "cell_type": "code",
      "source": [
        "import spacy\n",
        "nlp = spacy.load('en_core_web_sm')"
      ],
      "metadata": {
        "id": "i5dxf8oORmIK"
      },
      "execution_count": 17,
      "outputs": []
    },
    {
      "cell_type": "code",
      "source": [
        "sent = \"Twitter CEO Elon Musk arrived at the Staples Center in Los Angeles, California.\""
      ],
      "metadata": {
        "id": "XpM-Pfj8_KqP"
      },
      "execution_count": 18,
      "outputs": []
    },
    {
      "cell_type": "code",
      "source": [
        "doc =nlp(sent)\n",
        "print(type(doc))\n",
        "doc"
      ],
      "metadata": {
        "colab": {
          "base_uri": "https://localhost:8080/"
        },
        "id": "2R1nQsZIRmC7",
        "outputId": "bdfab123-c7c7-4779-f8bd-a7a84f25cd55"
      },
      "execution_count": 19,
      "outputs": [
        {
          "output_type": "stream",
          "name": "stdout",
          "text": [
            "<class 'spacy.tokens.doc.Doc'>\n"
          ]
        },
        {
          "output_type": "execute_result",
          "data": {
            "text/plain": [
              "Twitter CEO Elon Musk arrived at the Staples Center in Los Angeles, California."
            ]
          },
          "metadata": {},
          "execution_count": 19
        }
      ]
    },
    {
      "cell_type": "code",
      "source": [
        "tokens = [token.text for token in doc]\n",
        "print(type(tokens))\n",
        "print(tokens)"
      ],
      "metadata": {
        "colab": {
          "base_uri": "https://localhost:8080/"
        },
        "id": "HhAGKLkDRl-M",
        "outputId": "457b8cb7-fa45-49c4-ac53-348d2cc9b2a3"
      },
      "execution_count": 20,
      "outputs": [
        {
          "output_type": "stream",
          "name": "stdout",
          "text": [
            "<class 'list'>\n",
            "['Twitter', 'CEO', 'Elon', 'Musk', 'arrived', 'at', 'the', 'Staples', 'Center', 'in', 'Los', 'Angeles', ',', 'California', '.']\n"
          ]
        }
      ]
    },
    {
      "cell_type": "markdown",
      "source": [
        "## **Subword Tokenization (Byte-Pair Encoding - BPE)**\n",
        "\n",
        "used in deep learning models"
      ],
      "metadata": {
        "id": "PEnRU7R-O2JT"
      }
    },
    {
      "cell_type": "code",
      "source": [
        "from transformers import AutoTokenizer\n"
      ],
      "metadata": {
        "id": "6zPcu8bDPO-v"
      },
      "execution_count": 21,
      "outputs": []
    },
    {
      "cell_type": "code",
      "source": [
        "t = AutoTokenizer.from_pretrained('bert-base-uncased')\n",
        "tokens = t.tokenize('Twitter CEO Elon Musk arrived at the Staples Center in Los Angeles')\n",
        "print(tokens)"
      ],
      "metadata": {
        "colab": {
          "base_uri": "https://localhost:8080/"
        },
        "id": "NcKTKbCUPOxz",
        "outputId": "0224eab2-978f-4750-c93f-4cdad0dabdc0"
      },
      "execution_count": 22,
      "outputs": [
        {
          "output_type": "stream",
          "name": "stderr",
          "text": [
            "/usr/local/lib/python3.11/dist-packages/huggingface_hub/utils/_auth.py:94: UserWarning: \n",
            "The secret `HF_TOKEN` does not exist in your Colab secrets.\n",
            "To authenticate with the Hugging Face Hub, create a token in your settings tab (https://huggingface.co/settings/tokens), set it as secret in your Google Colab and restart your session.\n",
            "You will be able to reuse this secret in all of your notebooks.\n",
            "Please note that authentication is recommended but still optional to access public models or datasets.\n",
            "  warnings.warn(\n"
          ]
        },
        {
          "output_type": "stream",
          "name": "stdout",
          "text": [
            "['twitter', 'ceo', 'el', '##on', 'mu', '##sk', 'arrived', 'at', 'the', 'staples', 'center', 'in', 'los', 'angeles']\n"
          ]
        }
      ]
    },
    {
      "cell_type": "code",
      "source": [
        "print(type(tokens),type(t))"
      ],
      "metadata": {
        "colab": {
          "base_uri": "https://localhost:8080/"
        },
        "id": "OAoCAVd8POkC",
        "outputId": "d1923616-5ee7-4ee6-bb55-6331673fc5fb"
      },
      "execution_count": 23,
      "outputs": [
        {
          "output_type": "stream",
          "name": "stdout",
          "text": [
            "<class 'list'> <class 'transformers.models.bert.tokenization_bert_fast.BertTokenizerFast'>\n"
          ]
        }
      ]
    },
    {
      "cell_type": "markdown",
      "source": [
        "# **Stemming**\n",
        "Stemming is a Natural Language Processing (NLP) technique used to reduce words to their root or base form. It removes suffixes and prefixes from words to obtain their \"stem,\" which helps in text processing tasks like search engines, sentiment analysis, and machine learning models.\n",
        "\n",
        "**Types of Stemming Algorithms**\n",
        "1. Porter Stemmer\n",
        "2. Snowball Stemmer\n",
        "3. Lancaster Stemmer"
      ],
      "metadata": {
        "id": "Od1zoGddTPjX"
      }
    },
    {
      "cell_type": "markdown",
      "source": [
        "## **1. Porter Stemmer**\n",
        "The Porter Stemmer is a widely used algorithm that applies a series of heuristic rules to remove common English suffixes.\n",
        "\n",
        " **The algorithm follows multiple steps:**\n",
        "*   Remove common plural suffixes →\n",
        "(\"caresses\" → \"caress\")\n",
        "*   Convert verb forms → (\"running\" → \"run\")\n",
        "*   Remove adverbial suffixes → (\"happily\" → \"happi\")\n",
        "\n",
        "### **Advantages**\n",
        "✔️ **Fast and widely used**\n",
        "\n",
        "✔️ Reduces words effectively\n",
        "### **Disadvantages**\n",
        "❌ Sometimes over-stems, producing incorrect stems\n",
        "\n",
        "❌ Cannot handle irregular words properly (e.g., \"went\" → \"went\")"
      ],
      "metadata": {
        "id": "CfC7S-JlXtF0"
      }
    },
    {
      "cell_type": "code",
      "source": [
        "from nltk.stem import PorterStemmer\n",
        "ps = PorterStemmer()"
      ],
      "metadata": {
        "id": "XzQSk49MPOdN"
      },
      "execution_count": 24,
      "outputs": []
    },
    {
      "cell_type": "code",
      "source": [
        "a =  ['having',\"caresses\", \"running\", \"happily\", \"studies\", \"national\",\n",
        "          'maximum','effective',\"flying\"]\n",
        "print(a)\n",
        "lc = [ps.stem(word) for word in a]\n",
        "print(lc)\n"
      ],
      "metadata": {
        "colab": {
          "base_uri": "https://localhost:8080/"
        },
        "id": "5PjQgvUKaJKM",
        "outputId": "644039c8-3d67-45f3-f77f-0058eb5634cd"
      },
      "execution_count": 25,
      "outputs": [
        {
          "output_type": "stream",
          "name": "stdout",
          "text": [
            "['having', 'caresses', 'running', 'happily', 'studies', 'national', 'maximum', 'effective', 'flying']\n",
            "['have', 'caress', 'run', 'happili', 'studi', 'nation', 'maximum', 'effect', 'fli']\n"
          ]
        }
      ]
    },
    {
      "cell_type": "code",
      "source": [
        "for word in a:\n",
        "  print(word + ' : ' + ps.stem(word))"
      ],
      "metadata": {
        "colab": {
          "base_uri": "https://localhost:8080/"
        },
        "id": "Vn4JLpG1eA3u",
        "outputId": "1d3d4a24-b4b4-48c6-f6fd-4aff9ac24085"
      },
      "execution_count": 26,
      "outputs": [
        {
          "output_type": "stream",
          "name": "stdout",
          "text": [
            "having : have\n",
            "caresses : caress\n",
            "running : run\n",
            "happily : happili\n",
            "studies : studi\n",
            "national : nation\n",
            "maximum : maximum\n",
            "effective : effect\n",
            "flying : fli\n"
          ]
        }
      ]
    },
    {
      "cell_type": "markdown",
      "source": [
        "## **2. Snowball Stemmer (Porter2)**\n",
        "An improved version of the Porter Stemmer, the Snowball Stemmer supports multiple languages and offers better accuracy.\n",
        "\n",
        "### **Advantages:**\n",
        "✔️ More accurate than the Porter Stemmer\n",
        "\n",
        "✔️ Supports multiple languages\n",
        "### **Disadvantages:**\n",
        "❌ Slightly slower than Porter\n"
      ],
      "metadata": {
        "id": "H_R7vbnFZDWg"
      }
    },
    {
      "cell_type": "code",
      "source": [
        "from nltk.stem import SnowballStemmer\n",
        "ss = SnowballStemmer('english')\n",
        "words =  ['having',\"caresses\", \"running\", \"happily\", \"studies\", \"national\",\n",
        "          'maximum','effective',\"flying\"]\n",
        "for word in words:\n",
        "      print(word + ' : ' + ss.stem(word))\n",
        "ss_words = [ss.stem(word) for word in words]\n",
        "print(ss_words)"
      ],
      "metadata": {
        "colab": {
          "base_uri": "https://localhost:8080/"
        },
        "id": "-rA3t4uUd-9d",
        "outputId": "7e0416ac-841d-4cab-d0a7-b0844d0b9669"
      },
      "execution_count": 27,
      "outputs": [
        {
          "output_type": "stream",
          "name": "stdout",
          "text": [
            "having : have\n",
            "caresses : caress\n",
            "running : run\n",
            "happily : happili\n",
            "studies : studi\n",
            "national : nation\n",
            "maximum : maximum\n",
            "effective : effect\n",
            "flying : fli\n",
            "['have', 'caress', 'run', 'happili', 'studi', 'nation', 'maximum', 'effect', 'fli']\n"
          ]
        }
      ]
    },
    {
      "cell_type": "markdown",
      "source": [
        "## **3. Lancaster Stemmer**\n",
        "The Lancaster Stemmer is more aggressive than the Porter Stemmer and reduces words more drastically.\n",
        "\n",
        "### **Advantages:**\n",
        "✔️ Very fast and efficient\n",
        "\n",
        "### **Disadvantages:**\n",
        "❌ Over-stemming leads to loss of meaning"
      ],
      "metadata": {
        "id": "250yARZsZEB-"
      }
    },
    {
      "cell_type": "code",
      "source": [
        "from nltk.stem import LancasterStemmer\n",
        "ls = LancasterStemmer()\n",
        "words =  ['having',\"caresses\", \"running\", \"happily\", \"studies\", \"national\",\n",
        "          'maximum','effective',\"flying\"]\n",
        "r_word_ls = [[word, ls.stem(word)] for word in words]\n",
        "print(r_word_ls)\n",
        "print(type(r_word_ls))\n",
        "dict(r_word_ls)"
      ],
      "metadata": {
        "colab": {
          "base_uri": "https://localhost:8080/"
        },
        "id": "NM7biforaI7x",
        "outputId": "5ca74fb7-c29a-4619-ede6-93aa28db91b6"
      },
      "execution_count": 28,
      "outputs": [
        {
          "output_type": "stream",
          "name": "stdout",
          "text": [
            "[['having', 'hav'], ['caresses', 'caress'], ['running', 'run'], ['happily', 'happy'], ['studies', 'study'], ['national', 'nat'], ['maximum', 'maxim'], ['effective', 'effect'], ['flying', 'fly']]\n",
            "<class 'list'>\n"
          ]
        },
        {
          "output_type": "execute_result",
          "data": {
            "text/plain": [
              "{'having': 'hav',\n",
              " 'caresses': 'caress',\n",
              " 'running': 'run',\n",
              " 'happily': 'happy',\n",
              " 'studies': 'study',\n",
              " 'national': 'nat',\n",
              " 'maximum': 'maxim',\n",
              " 'effective': 'effect',\n",
              " 'flying': 'fly'}"
            ]
          },
          "metadata": {},
          "execution_count": 28
        }
      ]
    },
    {
      "cell_type": "markdown",
      "source": [
        "# **Lemmatization**\n",
        "Lemmatization is an advanced Natural Language Processing (NLP) technique used to convert a word to its dictionary or base form (lemma) by considering its context and part of speech (POS). Unlike stemming, which just chops off suffixes, lemmatization ensures that the root word is a valid word in the language.\n"
      ],
      "metadata": {
        "id": "U3OaSC0rZF-m"
      }
    },
    {
      "cell_type": "code",
      "source": [
        "import nltk\n",
        "from  nltk.stem import wordnet\n",
        "from nltk.stem import WordNetLemmatizer\n",
        "\n",
        "# Download WordNet data (if not already installed)\n",
        "nltk.download('wordnet')\n"
      ],
      "metadata": {
        "colab": {
          "base_uri": "https://localhost:8080/"
        },
        "id": "YXQfEEPlZMrr",
        "outputId": "6c485afe-574f-4ef2-ca30-a4ff3bd9599e"
      },
      "execution_count": 29,
      "outputs": [
        {
          "output_type": "stream",
          "name": "stderr",
          "text": [
            "[nltk_data] Downloading package wordnet to /root/nltk_data...\n",
            "[nltk_data]   Package wordnet is already up-to-date!\n"
          ]
        },
        {
          "output_type": "execute_result",
          "data": {
            "text/plain": [
              "True"
            ]
          },
          "metadata": {},
          "execution_count": 29
        }
      ]
    },
    {
      "cell_type": "code",
      "source": [
        "lemmatizer = WordNetLemmatizer()\n",
        "wds =  ['having',\"caresses\", \"running\", \"happily\", \"studies\", \"national\",\n",
        "          'maximum','effective',\"flying\"]\n",
        "words_wl = [[word, lemmatizer.lemmatize(word)] for word in wds]\n",
        "words_wl"
      ],
      "metadata": {
        "colab": {
          "base_uri": "https://localhost:8080/"
        },
        "id": "ZPD38pBiFBEU",
        "outputId": "49e7b7af-845e-4980-f45d-5e67ffb0b70a"
      },
      "execution_count": 30,
      "outputs": [
        {
          "output_type": "execute_result",
          "data": {
            "text/plain": [
              "[['having', 'having'],\n",
              " ['caresses', 'caress'],\n",
              " ['running', 'running'],\n",
              " ['happily', 'happily'],\n",
              " ['studies', 'study'],\n",
              " ['national', 'national'],\n",
              " ['maximum', 'maximum'],\n",
              " ['effective', 'effective'],\n",
              " ['flying', 'flying']]"
            ]
          },
          "metadata": {},
          "execution_count": 30
        }
      ]
    },
    {
      "cell_type": "code",
      "source": [
        "from nltk.corpus import wordnet\n",
        "# Initialize WordNet Lemmatizer\n",
        "\n",
        "\n",
        "# Function to get lemma based on POS tagging\n",
        "def lemmatize_word(word, pos=wordnet.NOUN):\n",
        "    return lemmatizer.lemmatize(word, pos)\n",
        "\n",
        "# Test with different words\n",
        "words = [(\"running\", wordnet.VERB), (\"flies\", wordnet.NOUN),\n",
        " (\"better\", wordnet.ADJ), (\"studies\", wordnet.NOUN)]\n",
        "lemmas = [lemmatize_word(word, pos) for word, pos in words]\n",
        "\n",
        "print(lemmas)  # Output: ['run', 'fly', 'good', 'study']"
      ],
      "metadata": {
        "colab": {
          "base_uri": "https://localhost:8080/"
        },
        "id": "TxA-ObHLFBKs",
        "outputId": "467fa6e0-ea4f-4da0-8e12-f8c66e968095"
      },
      "execution_count": 31,
      "outputs": [
        {
          "output_type": "stream",
          "name": "stdout",
          "text": [
            "['run', 'fly', 'good', 'study']\n"
          ]
        }
      ]
    },
    {
      "cell_type": "code",
      "source": [
        "ls = [[word,lemmatize_word(word, wordnet.VERB)] for word in wds]\n",
        "ls"
      ],
      "metadata": {
        "colab": {
          "base_uri": "https://localhost:8080/"
        },
        "id": "aGSmoMZl_Ltt",
        "outputId": "6d723e6b-4e6c-4c94-b5aa-103d3bcf35a5"
      },
      "execution_count": 32,
      "outputs": [
        {
          "output_type": "execute_result",
          "data": {
            "text/plain": [
              "[['having', 'have'],\n",
              " ['caresses', 'caress'],\n",
              " ['running', 'run'],\n",
              " ['happily', 'happily'],\n",
              " ['studies', 'study'],\n",
              " ['national', 'national'],\n",
              " ['maximum', 'maximum'],\n",
              " ['effective', 'effective'],\n",
              " ['flying', 'fly']]"
            ]
          },
          "metadata": {},
          "execution_count": 32
        }
      ]
    },
    {
      "cell_type": "markdown",
      "source": [
        "## **Lemmatization Using Spacy Liabrary**"
      ],
      "metadata": {
        "id": "lhWkNQ7j_5fO"
      }
    },
    {
      "cell_type": "code",
      "source": [
        "import spacy"
      ],
      "metadata": {
        "id": "y3J-FWRzAHY7"
      },
      "execution_count": 33,
      "outputs": []
    },
    {
      "cell_type": "code",
      "source": [
        "# Load Spacy English language model\n",
        "nlp = spacy.load('en_core_web_sm')"
      ],
      "metadata": {
        "id": "WGFMPFKRALDU"
      },
      "execution_count": 34,
      "outputs": []
    },
    {
      "cell_type": "code",
      "source": [
        "sentence = \"The children are running and playing happily.\"\n",
        "doc = nlp(sentence)\n",
        "ls = [ word.lemma_ for word in doc]\n",
        "print(\" \".join(ls))\n",
        "print(type(ls))"
      ],
      "metadata": {
        "colab": {
          "base_uri": "https://localhost:8080/"
        },
        "id": "iE8lv3GkAlyI",
        "outputId": "7088b553-aa45-4992-e7b5-65939a4ee0e9"
      },
      "execution_count": 35,
      "outputs": [
        {
          "output_type": "stream",
          "name": "stdout",
          "text": [
            "the child be run and play happily .\n",
            "<class 'list'>\n"
          ]
        }
      ]
    },
    {
      "cell_type": "code",
      "source": [
        "# Function to lemmatize sentence\n",
        "def lemmatize_text(text):\n",
        "    doc = nlp(text)\n",
        "    return \" \".join([token.lemma_ for token in doc])\n",
        "\n",
        "# Example text\n",
        "sentence = \"The children are running and playing happily.\"\n",
        "lemmatized_sentence = lemmatize_text(sentence)\n",
        "\n",
        "print(lemmatized_sentence)\n",
        "# Output: 'the child be run and play happily .'"
      ],
      "metadata": {
        "colab": {
          "base_uri": "https://localhost:8080/"
        },
        "id": "LxpPmZWv_L0r",
        "outputId": "8afca366-8bd3-49a6-d79e-59043ad701c0"
      },
      "execution_count": 36,
      "outputs": [
        {
          "output_type": "stream",
          "name": "stdout",
          "text": [
            "the child be run and play happily .\n"
          ]
        }
      ]
    },
    {
      "cell_type": "markdown",
      "source": [
        "# **POS (Parts of Speech)**\n",
        "\n",
        "Part-of-Speech (POS) tagging is the process of assigning grammatical categories (such as noun, verb, adjective, etc.) to words in a sentence. It is a crucial step in Natural Language Processing (NLP) that helps computers understand the structure of a sentence."
      ],
      "metadata": {
        "id": "zPJmvgE6IMh8"
      }
    },
    {
      "cell_type": "code",
      "source": [
        "nltk.download('averaged_perceptron_tagger_eng')"
      ],
      "metadata": {
        "colab": {
          "base_uri": "https://localhost:8080/"
        },
        "id": "S4v29iaBKVJM",
        "outputId": "5833223e-3c80-4280-9ee6-59b9b711a77c"
      },
      "execution_count": 37,
      "outputs": [
        {
          "output_type": "stream",
          "name": "stderr",
          "text": [
            "[nltk_data] Downloading package averaged_perceptron_tagger_eng to\n",
            "[nltk_data]     /root/nltk_data...\n",
            "[nltk_data]   Package averaged_perceptron_tagger_eng is already up-to-\n",
            "[nltk_data]       date!\n"
          ]
        },
        {
          "output_type": "execute_result",
          "data": {
            "text/plain": [
              "True"
            ]
          },
          "metadata": {},
          "execution_count": 37
        }
      ]
    },
    {
      "cell_type": "code",
      "source": [
        "sent = \"Elon Musk arrived at the Staples Center in Los Angeles, California.\"\n",
        "sent"
      ],
      "metadata": {
        "colab": {
          "base_uri": "https://localhost:8080/",
          "height": 0
        },
        "id": "zHU0fgwyIbAb",
        "outputId": "4b8f445d-f3be-4320-b049-b01a5caa2758"
      },
      "execution_count": 38,
      "outputs": [
        {
          "output_type": "execute_result",
          "data": {
            "text/plain": [
              "'Elon Musk arrived at the Staples Center in Los Angeles, California.'"
            ],
            "application/vnd.google.colaboratory.intrinsic+json": {
              "type": "string"
            }
          },
          "metadata": {},
          "execution_count": 38
        }
      ]
    },
    {
      "cell_type": "code",
      "source": [
        "sent_tokens = word_tokenize(sent)\n",
        "sent_tokens"
      ],
      "metadata": {
        "colab": {
          "base_uri": "https://localhost:8080/"
        },
        "id": "nJ2mq61_Ia6V",
        "outputId": "5ab7cd8f-8293-416e-af14-1595980593fa"
      },
      "execution_count": 39,
      "outputs": [
        {
          "output_type": "execute_result",
          "data": {
            "text/plain": [
              "['Elon',\n",
              " 'Musk',\n",
              " 'arrived',\n",
              " 'at',\n",
              " 'the',\n",
              " 'Staples',\n",
              " 'Center',\n",
              " 'in',\n",
              " 'Los',\n",
              " 'Angeles',\n",
              " ',',\n",
              " 'California',\n",
              " '.']"
            ]
          },
          "metadata": {},
          "execution_count": 39
        }
      ]
    },
    {
      "cell_type": "code",
      "source": [
        "for token in sent_tokens:\n",
        "  print(nltk.pos_tag([token]))"
      ],
      "metadata": {
        "colab": {
          "base_uri": "https://localhost:8080/"
        },
        "id": "fKaq0tGSIazy",
        "outputId": "7edcd812-a583-472c-caf3-7edeb550fc31"
      },
      "execution_count": 40,
      "outputs": [
        {
          "output_type": "stream",
          "name": "stdout",
          "text": [
            "[('Elon', 'NN')]\n",
            "[('Musk', 'NN')]\n",
            "[('arrived', 'VBN')]\n",
            "[('at', 'IN')]\n",
            "[('the', 'DT')]\n",
            "[('Staples', 'NNS')]\n",
            "[('Center', 'NNP')]\n",
            "[('in', 'IN')]\n",
            "[('Los', 'NNP')]\n",
            "[('Angeles', 'NNP')]\n",
            "[(',', ',')]\n",
            "[('California', 'NNP')]\n",
            "[('.', '.')]\n"
          ]
        }
      ]
    },
    {
      "cell_type": "code",
      "source": [
        "import nltk\n",
        "from nltk.tokenize import word_tokenize\n",
        "from nltk import pos_tag\n",
        "\n",
        "# Download required data\n",
        "nltk.download('punkt')\n",
        "nltk.download('averaged_perceptron_tagger')\n",
        "\n",
        "# Sample sentence\n",
        "sentence = \"The quick brown fox jumps over the lazy dog.\"\n",
        "\n"
      ],
      "metadata": {
        "colab": {
          "base_uri": "https://localhost:8080/"
        },
        "id": "9KqpdcLeaqUH",
        "outputId": "8d300d03-fe3f-4f4c-a85c-3eddba5ad596"
      },
      "execution_count": 41,
      "outputs": [
        {
          "output_type": "stream",
          "name": "stderr",
          "text": [
            "[nltk_data] Downloading package punkt to /root/nltk_data...\n",
            "[nltk_data]   Package punkt is already up-to-date!\n",
            "[nltk_data] Downloading package averaged_perceptron_tagger to\n",
            "[nltk_data]     /root/nltk_data...\n",
            "[nltk_data]   Package averaged_perceptron_tagger is already up-to-\n",
            "[nltk_data]       date!\n"
          ]
        }
      ]
    },
    {
      "cell_type": "code",
      "source": [
        "# Tokenize and apply POS tagging\n",
        "words = word_tokenize(sentence)\n",
        "pos_tags = pos_tag(words)\n",
        "\n",
        "print(pos_tags)"
      ],
      "metadata": {
        "colab": {
          "base_uri": "https://localhost:8080/"
        },
        "id": "CY5ucGATaqJ0",
        "outputId": "c96801b1-acf1-49ec-a0c4-04ba7a098d22"
      },
      "execution_count": 42,
      "outputs": [
        {
          "output_type": "stream",
          "name": "stdout",
          "text": [
            "[('The', 'DT'), ('quick', 'JJ'), ('brown', 'NN'), ('fox', 'NN'), ('jumps', 'VBZ'), ('over', 'IN'), ('the', 'DT'), ('lazy', 'JJ'), ('dog', 'NN'), ('.', '.')]\n"
          ]
        }
      ]
    },
    {
      "cell_type": "markdown",
      "source": [
        "## **POS Using Spacy Liabrary**\n"
      ],
      "metadata": {
        "id": "Vh4gnZ6na7eR"
      }
    },
    {
      "cell_type": "code",
      "source": [
        "import spacy\n",
        "\n",
        "# Load English language model\n",
        "nlp = spacy.load(\"en_core_web_sm\")\n",
        "\n",
        "# Sample text\n",
        "sentence = \"The quick brown fox jumps over the lazy dog.\"\n",
        "\n"
      ],
      "metadata": {
        "id": "w5wf6Bxoa7JA"
      },
      "execution_count": 43,
      "outputs": []
    },
    {
      "cell_type": "code",
      "source": [
        "# Process text with spaCy\n",
        "doc = nlp(sentence)\n",
        "\n",
        "# Print POS tags\n",
        "for token in doc:\n",
        "    print(f\"{token.text} -> {token.pos_} ({token.tag_})\")"
      ],
      "metadata": {
        "colab": {
          "base_uri": "https://localhost:8080/"
        },
        "id": "JSyqqEcEbNs9",
        "outputId": "08bbd827-762d-4e33-dbca-fdb7200c41bf"
      },
      "execution_count": 44,
      "outputs": [
        {
          "output_type": "stream",
          "name": "stdout",
          "text": [
            "The -> DET (DT)\n",
            "quick -> ADJ (JJ)\n",
            "brown -> ADJ (JJ)\n",
            "fox -> NOUN (NN)\n",
            "jumps -> VERB (VBZ)\n",
            "over -> ADP (IN)\n",
            "the -> DET (DT)\n",
            "lazy -> ADJ (JJ)\n",
            "dog -> NOUN (NN)\n",
            ". -> PUNCT (.)\n"
          ]
        }
      ]
    },
    {
      "cell_type": "markdown",
      "source": [
        " # **STOPWORDS**\n",
        " Stopwords are commonly used words (such as \"is,\" \"the,\" \"and,\" \"in,\" etc.) that do not carry significant meaning and are often removed from text data in Natural Language Processing (NLP) tasks to improve efficiency and accuracy."
      ],
      "metadata": {
        "id": "jpFkzIU3CZ09"
      }
    },
    {
      "cell_type": "code",
      "source": [
        "from nltk.corpus import stopwords\n",
        "nltk.download('stopwords')"
      ],
      "metadata": {
        "colab": {
          "base_uri": "https://localhost:8080/"
        },
        "id": "Ggopi1TrFA9L",
        "outputId": "3e1be1f3-b2ec-4f52-fc40-3d2de629f2e2"
      },
      "execution_count": 45,
      "outputs": [
        {
          "output_type": "stream",
          "name": "stderr",
          "text": [
            "[nltk_data] Downloading package stopwords to /root/nltk_data...\n",
            "[nltk_data]   Package stopwords is already up-to-date!\n"
          ]
        },
        {
          "output_type": "execute_result",
          "data": {
            "text/plain": [
              "True"
            ]
          },
          "metadata": {},
          "execution_count": 45
        }
      ]
    },
    {
      "cell_type": "code",
      "source": [
        "print(stopwords.words('english'))"
      ],
      "metadata": {
        "colab": {
          "base_uri": "https://localhost:8080/"
        },
        "id": "v5rlgJBsFA2x",
        "outputId": "5a2c1ac4-a80d-4cc0-d53d-d8eac0ae9645"
      },
      "execution_count": 46,
      "outputs": [
        {
          "output_type": "stream",
          "name": "stdout",
          "text": [
            "['a', 'about', 'above', 'after', 'again', 'against', 'ain', 'all', 'am', 'an', 'and', 'any', 'are', 'aren', \"aren't\", 'as', 'at', 'be', 'because', 'been', 'before', 'being', 'below', 'between', 'both', 'but', 'by', 'can', 'couldn', \"couldn't\", 'd', 'did', 'didn', \"didn't\", 'do', 'does', 'doesn', \"doesn't\", 'doing', 'don', \"don't\", 'down', 'during', 'each', 'few', 'for', 'from', 'further', 'had', 'hadn', \"hadn't\", 'has', 'hasn', \"hasn't\", 'have', 'haven', \"haven't\", 'having', 'he', \"he'd\", \"he'll\", 'her', 'here', 'hers', 'herself', \"he's\", 'him', 'himself', 'his', 'how', 'i', \"i'd\", 'if', \"i'll\", \"i'm\", 'in', 'into', 'is', 'isn', \"isn't\", 'it', \"it'd\", \"it'll\", \"it's\", 'its', 'itself', \"i've\", 'just', 'll', 'm', 'ma', 'me', 'mightn', \"mightn't\", 'more', 'most', 'mustn', \"mustn't\", 'my', 'myself', 'needn', \"needn't\", 'no', 'nor', 'not', 'now', 'o', 'of', 'off', 'on', 'once', 'only', 'or', 'other', 'our', 'ours', 'ourselves', 'out', 'over', 'own', 're', 's', 'same', 'shan', \"shan't\", 'she', \"she'd\", \"she'll\", \"she's\", 'should', 'shouldn', \"shouldn't\", \"should've\", 'so', 'some', 'such', 't', 'than', 'that', \"that'll\", 'the', 'their', 'theirs', 'them', 'themselves', 'then', 'there', 'these', 'they', \"they'd\", \"they'll\", \"they're\", \"they've\", 'this', 'those', 'through', 'to', 'too', 'under', 'until', 'up', 've', 'very', 'was', 'wasn', \"wasn't\", 'we', \"we'd\", \"we'll\", \"we're\", 'were', 'weren', \"weren't\", \"we've\", 'what', 'when', 'where', 'which', 'while', 'who', 'whom', 'why', 'will', 'with', 'won', \"won't\", 'wouldn', \"wouldn't\", 'y', 'you', \"you'd\", \"you'll\", 'your', \"you're\", 'yours', 'yourself', 'yourselves', \"you've\"]\n"
          ]
        }
      ]
    },
    {
      "cell_type": "code",
      "source": [
        "len(stopwords.words('english'))"
      ],
      "metadata": {
        "colab": {
          "base_uri": "https://localhost:8080/"
        },
        "id": "uYevsdnfFAqc",
        "outputId": "0d62c4d5-3fa1-46ad-9ff5-9c8e13371f6b"
      },
      "execution_count": 47,
      "outputs": [
        {
          "output_type": "execute_result",
          "data": {
            "text/plain": [
              "198"
            ]
          },
          "metadata": {},
          "execution_count": 47
        }
      ]
    },
    {
      "cell_type": "code",
      "source": [
        "len(stopwords.words('french'))"
      ],
      "metadata": {
        "colab": {
          "base_uri": "https://localhost:8080/"
        },
        "id": "91SzKcYTFi-k",
        "outputId": "080317bc-169a-46f7-ef55-06db325161bb"
      },
      "execution_count": 48,
      "outputs": [
        {
          "output_type": "execute_result",
          "data": {
            "text/plain": [
              "157"
            ]
          },
          "metadata": {},
          "execution_count": 48
        }
      ]
    },
    {
      "cell_type": "code",
      "source": [
        "len(stopwords.words('spanish'))"
      ],
      "metadata": {
        "colab": {
          "base_uri": "https://localhost:8080/"
        },
        "id": "1XhViNQ2Fi3b",
        "outputId": "edf9158f-350e-4fab-e2cc-1e3f9f4c684a"
      },
      "execution_count": 49,
      "outputs": [
        {
          "output_type": "execute_result",
          "data": {
            "text/plain": [
              "313"
            ]
          },
          "metadata": {},
          "execution_count": 49
        }
      ]
    },
    {
      "cell_type": "code",
      "source": [
        "len(stopwords.words('german'))"
      ],
      "metadata": {
        "colab": {
          "base_uri": "https://localhost:8080/"
        },
        "id": "TbjkFVXZFiwx",
        "outputId": "d4d0c95d-5c9d-4039-e810-b7541c4fcc36"
      },
      "execution_count": 50,
      "outputs": [
        {
          "output_type": "execute_result",
          "data": {
            "text/plain": [
              "232"
            ]
          },
          "metadata": {},
          "execution_count": 50
        }
      ]
    },
    {
      "cell_type": "code",
      "source": [
        "len(stopwords.words('italian'))"
      ],
      "metadata": {
        "colab": {
          "base_uri": "https://localhost:8080/"
        },
        "id": "qbnp27ZxF0ph",
        "outputId": "c59e98d7-caa1-4bce-bb3a-6ccea97a9eae"
      },
      "execution_count": 51,
      "outputs": [
        {
          "output_type": "execute_result",
          "data": {
            "text/plain": [
              "279"
            ]
          },
          "metadata": {},
          "execution_count": 51
        }
      ]
    },
    {
      "cell_type": "code",
      "source": [
        "len(stopwords.words('portuguese'))"
      ],
      "metadata": {
        "colab": {
          "base_uri": "https://localhost:8080/"
        },
        "id": "KnjuWrBqF0h6",
        "outputId": "e449824f-0552-47f6-edfd-38f39656f6bb"
      },
      "execution_count": 52,
      "outputs": [
        {
          "output_type": "execute_result",
          "data": {
            "text/plain": [
              "207"
            ]
          },
          "metadata": {},
          "execution_count": 52
        }
      ]
    },
    {
      "cell_type": "code",
      "source": [
        "len(stopwords.words('chinese'))"
      ],
      "metadata": {
        "colab": {
          "base_uri": "https://localhost:8080/"
        },
        "id": "Vt4t4aubF7X2",
        "outputId": "8693c578-7716-478c-934d-1f8255fd45b6"
      },
      "execution_count": 53,
      "outputs": [
        {
          "output_type": "execute_result",
          "data": {
            "text/plain": [
              "841"
            ]
          },
          "metadata": {},
          "execution_count": 53
        }
      ]
    },
    {
      "cell_type": "markdown",
      "source": [
        "## **stopwords using nltk**"
      ],
      "metadata": {
        "id": "pawdBj9kERCM"
      }
    },
    {
      "cell_type": "code",
      "source": [
        "import nltk\n",
        "from nltk.corpus import stopwords\n",
        "from nltk.tokenize import word_tokenize\n",
        "\n",
        "# Download stopwords list\n",
        "nltk.download('stopwords')\n",
        "nltk.download('punkt')\n",
        "\n",
        "# Load English stopwords\n",
        "stop_words = set(stopwords.words('english'))\n",
        "\n",
        "# Example text\n",
        "text = \"This is an example showing how to remove stopwords from a sentence.\"\n",
        "\n",
        "# Tokenize text\n",
        "words = word_tokenize(text)\n"
      ],
      "metadata": {
        "id": "Fz9rvQf6FAwW",
        "colab": {
          "base_uri": "https://localhost:8080/"
        },
        "outputId": "3234f013-9dde-4866-a184-80525a4b711b"
      },
      "execution_count": 54,
      "outputs": [
        {
          "output_type": "stream",
          "name": "stderr",
          "text": [
            "[nltk_data] Downloading package stopwords to /root/nltk_data...\n",
            "[nltk_data]   Package stopwords is already up-to-date!\n",
            "[nltk_data] Downloading package punkt to /root/nltk_data...\n",
            "[nltk_data]   Package punkt is already up-to-date!\n"
          ]
        }
      ]
    },
    {
      "cell_type": "code",
      "source": [
        "# Remove stopwords\n",
        "filtered_words = [word for word in words if word.lower() not in stop_words]\n",
        "\n",
        "print(filtered_words)"
      ],
      "metadata": {
        "colab": {
          "base_uri": "https://localhost:8080/"
        },
        "id": "Iajnk314XwIp",
        "outputId": "9aa869b4-f8e2-40e4-eadf-517127a965c2"
      },
      "execution_count": 55,
      "outputs": [
        {
          "output_type": "stream",
          "name": "stdout",
          "text": [
            "['example', 'showing', 'remove', 'stopwords', 'sentence', '.']\n"
          ]
        }
      ]
    },
    {
      "cell_type": "markdown",
      "source": [
        "## **Stopwords using spacy**"
      ],
      "metadata": {
        "id": "ooxUytH5ElDn"
      }
    },
    {
      "cell_type": "code",
      "source": [
        "import spacy\n",
        "\n",
        "# Load spaCy English model\n",
        "nlp = spacy.load(\"en_core_web_sm\")\n",
        "\n",
        "# Example text\n",
        "text = \"This is an example showing how to remove stopwords from a sentence.\"\n",
        "\n",
        "# Process text with spaCy\n",
        "doc = nlp(text)\n",
        "\n",
        "# Remove stopwords\n",
        "filtered_words = [token.text for token in doc if not token.is_stop]\n",
        "\n",
        "print(filtered_words)\n",
        "\n"
      ],
      "metadata": {
        "id": "6zc-H2bdFAke",
        "colab": {
          "base_uri": "https://localhost:8080/"
        },
        "outputId": "c7ed9afc-7331-4360-9fc3-5f06e7863108"
      },
      "execution_count": 56,
      "outputs": [
        {
          "output_type": "stream",
          "name": "stdout",
          "text": [
            "['example', 'showing', 'remove', 'stopwords', 'sentence', '.']\n"
          ]
        }
      ]
    },
    {
      "cell_type": "markdown",
      "source": [
        "# **Named Entity Recognition (NER)**"
      ],
      "metadata": {
        "id": "sq68USJzZfDV"
      }
    },
    {
      "cell_type": "code",
      "source": [
        "import nltk\n",
        "from nltk import word_tokenize, pos_tag, ne_chunk\n",
        "nltk.download('maxent_ne_chunker_tab')\n",
        "nltk.download('words')\n",
        "nltk.download('punkt')"
      ],
      "metadata": {
        "colab": {
          "base_uri": "https://localhost:8080/"
        },
        "id": "UXgoLLhuga7U",
        "outputId": "450a0167-807b-4b5c-9865-e7f33571ee90"
      },
      "execution_count": 57,
      "outputs": [
        {
          "output_type": "stream",
          "name": "stderr",
          "text": [
            "[nltk_data] Downloading package maxent_ne_chunker_tab to\n",
            "[nltk_data]     /root/nltk_data...\n",
            "[nltk_data]   Package maxent_ne_chunker_tab is already up-to-date!\n",
            "[nltk_data] Downloading package words to /root/nltk_data...\n",
            "[nltk_data]   Package words is already up-to-date!\n",
            "[nltk_data] Downloading package punkt to /root/nltk_data...\n",
            "[nltk_data]   Package punkt is already up-to-date!\n"
          ]
        },
        {
          "output_type": "execute_result",
          "data": {
            "text/plain": [
              "True"
            ]
          },
          "metadata": {},
          "execution_count": 57
        }
      ]
    },
    {
      "cell_type": "code",
      "source": [
        "!pip install svgling"
      ],
      "metadata": {
        "colab": {
          "base_uri": "https://localhost:8080/"
        },
        "id": "itNzRqzCgmbR",
        "outputId": "b5545a73-8d2f-45f1-8a7b-dd8c4bce1e67"
      },
      "execution_count": 58,
      "outputs": [
        {
          "output_type": "stream",
          "name": "stdout",
          "text": [
            "Requirement already satisfied: svgling in /usr/local/lib/python3.11/dist-packages (0.5.0)\n",
            "Requirement already satisfied: svgwrite in /usr/local/lib/python3.11/dist-packages (from svgling) (1.4.3)\n"
          ]
        }
      ]
    },
    {
      "cell_type": "code",
      "source": [
        "text = \"\"\"Elon Musk, the CEO of Tesla, was born in South Africa and moved\n",
        " to the United States.\"\"\"\n",
        "text"
      ],
      "metadata": {
        "colab": {
          "base_uri": "https://localhost:8080/",
          "height": 0
        },
        "id": "QOKzCC-ie25t",
        "outputId": "769655af-e3d2-4a3b-ea39-ac5e33024ab9"
      },
      "execution_count": 59,
      "outputs": [
        {
          "output_type": "execute_result",
          "data": {
            "text/plain": [
              "'Elon Musk, the CEO of Tesla, was born in South Africa and moved\\n to the United States.'"
            ],
            "application/vnd.google.colaboratory.intrinsic+json": {
              "type": "string"
            }
          },
          "metadata": {},
          "execution_count": 59
        }
      ]
    },
    {
      "cell_type": "code",
      "source": [
        "from nltk import ne_chunk"
      ],
      "metadata": {
        "id": "t_riBmAne29M"
      },
      "execution_count": 60,
      "outputs": []
    },
    {
      "cell_type": "code",
      "source": [
        "ner_tokens = word_tokenize(text)\n",
        "print(ner_tokens)"
      ],
      "metadata": {
        "colab": {
          "base_uri": "https://localhost:8080/"
        },
        "id": "sR-poQFce3Al",
        "outputId": "19b2c27d-064e-4c3b-e7ca-6a57209ca63e"
      },
      "execution_count": 61,
      "outputs": [
        {
          "output_type": "stream",
          "name": "stdout",
          "text": [
            "['Elon', 'Musk', ',', 'the', 'CEO', 'of', 'Tesla', ',', 'was', 'born', 'in', 'South', 'Africa', 'and', 'moved', 'to', 'the', 'United', 'States', '.']\n"
          ]
        }
      ]
    },
    {
      "cell_type": "code",
      "source": [
        "ner_tag= nltk.pos_tag(ner_tokens)\n",
        "print(ner_tag)\n"
      ],
      "metadata": {
        "colab": {
          "base_uri": "https://localhost:8080/"
        },
        "id": "YJ7izce-feUz",
        "outputId": "d5e258e8-a9d7-4972-f075-ec075e8698dd"
      },
      "execution_count": 62,
      "outputs": [
        {
          "output_type": "stream",
          "name": "stdout",
          "text": [
            "[('Elon', 'NNP'), ('Musk', 'NNP'), (',', ','), ('the', 'DT'), ('CEO', 'NNP'), ('of', 'IN'), ('Tesla', 'NNP'), (',', ','), ('was', 'VBD'), ('born', 'VBN'), ('in', 'IN'), ('South', 'NNP'), ('Africa', 'NNP'), ('and', 'CC'), ('moved', 'VBD'), ('to', 'TO'), ('the', 'DT'), ('United', 'NNP'), ('States', 'NNPS'), ('.', '.')]\n"
          ]
        }
      ]
    },
    {
      "cell_type": "code",
      "source": [
        "ner = ne_chunk(ner_tag)\n",
        "print(ner)"
      ],
      "metadata": {
        "colab": {
          "base_uri": "https://localhost:8080/"
        },
        "id": "eDrqW84sfeQ0",
        "outputId": "8e090846-5ea7-4010-f0a1-c60f13244fa9"
      },
      "execution_count": 63,
      "outputs": [
        {
          "output_type": "stream",
          "name": "stdout",
          "text": [
            "(S\n",
            "  (PERSON Elon/NNP)\n",
            "  (GPE Musk/NNP)\n",
            "  ,/,\n",
            "  the/DT\n",
            "  (ORGANIZATION CEO/NNP)\n",
            "  of/IN\n",
            "  (GPE Tesla/NNP)\n",
            "  ,/,\n",
            "  was/VBD\n",
            "  born/VBN\n",
            "  in/IN\n",
            "  (GPE South/NNP Africa/NNP)\n",
            "  and/CC\n",
            "  moved/VBD\n",
            "  to/TO\n",
            "  the/DT\n",
            "  (GPE United/NNP States/NNPS)\n",
            "  ./.)\n"
          ]
        }
      ]
    },
    {
      "cell_type": "code",
      "source": [
        "ner"
      ],
      "metadata": {
        "colab": {
          "base_uri": "https://localhost:8080/",
          "height": 0
        },
        "id": "fCOFYaT4feMf",
        "outputId": "269c84e6-fcf9-41d5-eaa8-954b13ae5797"
      },
      "execution_count": 64,
      "outputs": [
        {
          "output_type": "execute_result",
          "data": {
            "text/plain": [
              "Tree('S', [Tree('PERSON', [('Elon', 'NNP')]), Tree('GPE', [('Musk', 'NNP')]), (',', ','), ('the', 'DT'), Tree('ORGANIZATION', [('CEO', 'NNP')]), ('of', 'IN'), Tree('GPE', [('Tesla', 'NNP')]), (',', ','), ('was', 'VBD'), ('born', 'VBN'), ('in', 'IN'), Tree('GPE', [('South', 'NNP'), ('Africa', 'NNP')]), ('and', 'CC'), ('moved', 'VBD'), ('to', 'TO'), ('the', 'DT'), Tree('GPE', [('United', 'NNP'), ('States', 'NNPS')]), ('.', '.')])"
            ],
            "image/svg+xml": "<svg baseProfile=\"full\" height=\"168px\" preserveAspectRatio=\"xMidYMid meet\" style=\"font-family: times, serif; font-weight: normal; font-style: normal; font-size: 16px\" version=\"1.1\" viewBox=\"0,0,960.0,168.0\" width=\"960px\" xmlns=\"http://www.w3.org/2000/svg\" xmlns:ev=\"http://www.w3.org/2001/xml-events\" xmlns:xlink=\"http://www.w3.org/1999/xlink\"><defs /><svg width=\"100%\" x=\"0\" y=\"0px\"><defs /><text text-anchor=\"middle\" x=\"50%\" y=\"16px\">S</text></svg><svg width=\"6.66667%\" x=\"0%\" y=\"48px\"><defs /><svg width=\"100%\" x=\"0\" y=\"0px\"><defs /><text text-anchor=\"middle\" x=\"50%\" y=\"16px\">PERSON</text></svg><svg width=\"100%\" x=\"0%\" y=\"48px\"><defs /><svg width=\"100%\" x=\"0\" y=\"0px\"><defs /><text text-anchor=\"middle\" x=\"50%\" y=\"16px\">Elon</text></svg><svg width=\"100%\" x=\"0%\" y=\"48px\"><defs /><svg width=\"100%\" x=\"0\" y=\"0px\"><defs /><text text-anchor=\"middle\" x=\"50%\" y=\"16px\">NNP</text></svg></svg><line stroke=\"black\" x1=\"50%\" x2=\"50%\" y1=\"20px\" y2=\"48px\" /></svg><line stroke=\"black\" x1=\"50%\" x2=\"50%\" y1=\"20px\" y2=\"48px\" /></svg><line stroke=\"black\" x1=\"50%\" x2=\"3.33333%\" y1=\"20px\" y2=\"48px\" /><svg width=\"5%\" x=\"6.66667%\" y=\"48px\"><defs /><svg width=\"100%\" x=\"0\" y=\"0px\"><defs /><text text-anchor=\"middle\" x=\"50%\" y=\"16px\">GPE</text></svg><svg width=\"100%\" x=\"0%\" y=\"48px\"><defs /><svg width=\"100%\" x=\"0\" y=\"0px\"><defs /><text text-anchor=\"middle\" x=\"50%\" y=\"16px\">Musk</text></svg><svg width=\"100%\" x=\"0%\" y=\"48px\"><defs /><svg width=\"100%\" x=\"0\" y=\"0px\"><defs /><text text-anchor=\"middle\" x=\"50%\" y=\"16px\">NNP</text></svg></svg><line stroke=\"black\" x1=\"50%\" x2=\"50%\" y1=\"20px\" y2=\"48px\" /></svg><line stroke=\"black\" x1=\"50%\" x2=\"50%\" y1=\"20px\" y2=\"48px\" /></svg><line stroke=\"black\" x1=\"50%\" x2=\"9.16667%\" y1=\"20px\" y2=\"48px\" /><svg width=\"2.5%\" x=\"11.6667%\" y=\"48px\"><defs /><svg width=\"100%\" x=\"0\" y=\"0px\"><defs /><text text-anchor=\"middle\" x=\"50%\" y=\"16px\">,</text></svg><svg width=\"100%\" x=\"0%\" y=\"48px\"><defs /><svg width=\"100%\" x=\"0\" y=\"0px\"><defs /><text text-anchor=\"middle\" x=\"50%\" y=\"16px\">,</text></svg></svg><line stroke=\"black\" x1=\"50%\" x2=\"50%\" y1=\"20px\" y2=\"48px\" /></svg><line stroke=\"black\" x1=\"50%\" x2=\"12.9167%\" y1=\"20px\" y2=\"48px\" /><svg width=\"4.16667%\" x=\"14.1667%\" y=\"48px\"><defs /><svg width=\"100%\" x=\"0\" y=\"0px\"><defs /><text text-anchor=\"middle\" x=\"50%\" y=\"16px\">the</text></svg><svg width=\"100%\" x=\"0%\" y=\"48px\"><defs /><svg width=\"100%\" x=\"0\" y=\"0px\"><defs /><text text-anchor=\"middle\" x=\"50%\" y=\"16px\">DT</text></svg></svg><line stroke=\"black\" x1=\"50%\" x2=\"50%\" y1=\"20px\" y2=\"48px\" /></svg><line stroke=\"black\" x1=\"50%\" x2=\"16.25%\" y1=\"20px\" y2=\"48px\" /><svg width=\"11.6667%\" x=\"18.3333%\" y=\"48px\"><defs /><svg width=\"100%\" x=\"0\" y=\"0px\"><defs /><text text-anchor=\"middle\" x=\"50%\" y=\"16px\">ORGANIZATION</text></svg><svg width=\"100%\" x=\"0%\" y=\"48px\"><defs /><svg width=\"100%\" x=\"0\" y=\"0px\"><defs /><text text-anchor=\"middle\" x=\"50%\" y=\"16px\">CEO</text></svg><svg width=\"100%\" x=\"0%\" y=\"48px\"><defs /><svg width=\"100%\" x=\"0\" y=\"0px\"><defs /><text text-anchor=\"middle\" x=\"50%\" y=\"16px\">NNP</text></svg></svg><line stroke=\"black\" x1=\"50%\" x2=\"50%\" y1=\"20px\" y2=\"48px\" /></svg><line stroke=\"black\" x1=\"50%\" x2=\"50%\" y1=\"20px\" y2=\"48px\" /></svg><line stroke=\"black\" x1=\"50%\" x2=\"24.1667%\" y1=\"20px\" y2=\"48px\" /><svg width=\"3.33333%\" x=\"30%\" y=\"48px\"><defs /><svg width=\"100%\" x=\"0\" y=\"0px\"><defs /><text text-anchor=\"middle\" x=\"50%\" y=\"16px\">of</text></svg><svg width=\"100%\" x=\"0%\" y=\"48px\"><defs /><svg width=\"100%\" x=\"0\" y=\"0px\"><defs /><text text-anchor=\"middle\" x=\"50%\" y=\"16px\">IN</text></svg></svg><line stroke=\"black\" x1=\"50%\" x2=\"50%\" y1=\"20px\" y2=\"48px\" /></svg><line stroke=\"black\" x1=\"50%\" x2=\"31.6667%\" y1=\"20px\" y2=\"48px\" /><svg width=\"5.83333%\" x=\"33.3333%\" y=\"48px\"><defs /><svg width=\"100%\" x=\"0\" y=\"0px\"><defs /><text text-anchor=\"middle\" x=\"50%\" y=\"16px\">GPE</text></svg><svg width=\"100%\" x=\"0%\" y=\"48px\"><defs /><svg width=\"100%\" x=\"0\" y=\"0px\"><defs /><text text-anchor=\"middle\" x=\"50%\" y=\"16px\">Tesla</text></svg><svg width=\"100%\" x=\"0%\" y=\"48px\"><defs /><svg width=\"100%\" x=\"0\" y=\"0px\"><defs /><text text-anchor=\"middle\" x=\"50%\" y=\"16px\">NNP</text></svg></svg><line stroke=\"black\" x1=\"50%\" x2=\"50%\" y1=\"20px\" y2=\"48px\" /></svg><line stroke=\"black\" x1=\"50%\" x2=\"50%\" y1=\"20px\" y2=\"48px\" /></svg><line stroke=\"black\" x1=\"50%\" x2=\"36.25%\" y1=\"20px\" y2=\"48px\" /><svg width=\"2.5%\" x=\"39.1667%\" y=\"48px\"><defs /><svg width=\"100%\" x=\"0\" y=\"0px\"><defs /><text text-anchor=\"middle\" x=\"50%\" y=\"16px\">,</text></svg><svg width=\"100%\" x=\"0%\" y=\"48px\"><defs /><svg width=\"100%\" x=\"0\" y=\"0px\"><defs /><text text-anchor=\"middle\" x=\"50%\" y=\"16px\">,</text></svg></svg><line stroke=\"black\" x1=\"50%\" x2=\"50%\" y1=\"20px\" y2=\"48px\" /></svg><line stroke=\"black\" x1=\"50%\" x2=\"40.4167%\" y1=\"20px\" y2=\"48px\" /><svg width=\"4.16667%\" x=\"41.6667%\" y=\"48px\"><defs /><svg width=\"100%\" x=\"0\" y=\"0px\"><defs /><text text-anchor=\"middle\" x=\"50%\" y=\"16px\">was</text></svg><svg width=\"100%\" x=\"0%\" y=\"48px\"><defs /><svg width=\"100%\" x=\"0\" y=\"0px\"><defs /><text text-anchor=\"middle\" x=\"50%\" y=\"16px\">VBD</text></svg></svg><line stroke=\"black\" x1=\"50%\" x2=\"50%\" y1=\"20px\" y2=\"48px\" /></svg><line stroke=\"black\" x1=\"50%\" x2=\"43.75%\" y1=\"20px\" y2=\"48px\" /><svg width=\"5%\" x=\"45.8333%\" y=\"48px\"><defs /><svg width=\"100%\" x=\"0\" y=\"0px\"><defs /><text text-anchor=\"middle\" x=\"50%\" y=\"16px\">born</text></svg><svg width=\"100%\" x=\"0%\" y=\"48px\"><defs /><svg width=\"100%\" x=\"0\" y=\"0px\"><defs /><text text-anchor=\"middle\" x=\"50%\" y=\"16px\">VBN</text></svg></svg><line stroke=\"black\" x1=\"50%\" x2=\"50%\" y1=\"20px\" y2=\"48px\" /></svg><line stroke=\"black\" x1=\"50%\" x2=\"48.3333%\" y1=\"20px\" y2=\"48px\" /><svg width=\"3.33333%\" x=\"50.8333%\" y=\"48px\"><defs /><svg width=\"100%\" x=\"0\" y=\"0px\"><defs /><text text-anchor=\"middle\" x=\"50%\" y=\"16px\">in</text></svg><svg width=\"100%\" x=\"0%\" y=\"48px\"><defs /><svg width=\"100%\" x=\"0\" y=\"0px\"><defs /><text text-anchor=\"middle\" x=\"50%\" y=\"16px\">IN</text></svg></svg><line stroke=\"black\" x1=\"50%\" x2=\"50%\" y1=\"20px\" y2=\"48px\" /></svg><line stroke=\"black\" x1=\"50%\" x2=\"52.5%\" y1=\"20px\" y2=\"48px\" /><svg width=\"12.5%\" x=\"54.1667%\" y=\"48px\"><defs /><svg width=\"100%\" x=\"0\" y=\"0px\"><defs /><text text-anchor=\"middle\" x=\"50%\" y=\"16px\">GPE</text></svg><svg width=\"46.6667%\" x=\"0%\" y=\"48px\"><defs /><svg width=\"100%\" x=\"0\" y=\"0px\"><defs /><text text-anchor=\"middle\" x=\"50%\" y=\"16px\">South</text></svg><svg width=\"100%\" x=\"0%\" y=\"48px\"><defs /><svg width=\"100%\" x=\"0\" y=\"0px\"><defs /><text text-anchor=\"middle\" x=\"50%\" y=\"16px\">NNP</text></svg></svg><line stroke=\"black\" x1=\"50%\" x2=\"50%\" y1=\"20px\" y2=\"48px\" /></svg><line stroke=\"black\" x1=\"50%\" x2=\"23.3333%\" y1=\"20px\" y2=\"48px\" /><svg width=\"53.3333%\" x=\"46.6667%\" y=\"48px\"><defs /><svg width=\"100%\" x=\"0\" y=\"0px\"><defs /><text text-anchor=\"middle\" x=\"50%\" y=\"16px\">Africa</text></svg><svg width=\"100%\" x=\"0%\" y=\"48px\"><defs /><svg width=\"100%\" x=\"0\" y=\"0px\"><defs /><text text-anchor=\"middle\" x=\"50%\" y=\"16px\">NNP</text></svg></svg><line stroke=\"black\" x1=\"50%\" x2=\"50%\" y1=\"20px\" y2=\"48px\" /></svg><line stroke=\"black\" x1=\"50%\" x2=\"73.3333%\" y1=\"20px\" y2=\"48px\" /></svg><line stroke=\"black\" x1=\"50%\" x2=\"60.4167%\" y1=\"20px\" y2=\"48px\" /><svg width=\"4.16667%\" x=\"66.6667%\" y=\"48px\"><defs /><svg width=\"100%\" x=\"0\" y=\"0px\"><defs /><text text-anchor=\"middle\" x=\"50%\" y=\"16px\">and</text></svg><svg width=\"100%\" x=\"0%\" y=\"48px\"><defs /><svg width=\"100%\" x=\"0\" y=\"0px\"><defs /><text text-anchor=\"middle\" x=\"50%\" y=\"16px\">CC</text></svg></svg><line stroke=\"black\" x1=\"50%\" x2=\"50%\" y1=\"20px\" y2=\"48px\" /></svg><line stroke=\"black\" x1=\"50%\" x2=\"68.75%\" y1=\"20px\" y2=\"48px\" /><svg width=\"5.83333%\" x=\"70.8333%\" y=\"48px\"><defs /><svg width=\"100%\" x=\"0\" y=\"0px\"><defs /><text text-anchor=\"middle\" x=\"50%\" y=\"16px\">moved</text></svg><svg width=\"100%\" x=\"0%\" y=\"48px\"><defs /><svg width=\"100%\" x=\"0\" y=\"0px\"><defs /><text text-anchor=\"middle\" x=\"50%\" y=\"16px\">VBD</text></svg></svg><line stroke=\"black\" x1=\"50%\" x2=\"50%\" y1=\"20px\" y2=\"48px\" /></svg><line stroke=\"black\" x1=\"50%\" x2=\"73.75%\" y1=\"20px\" y2=\"48px\" /><svg width=\"3.33333%\" x=\"76.6667%\" y=\"48px\"><defs /><svg width=\"100%\" x=\"0\" y=\"0px\"><defs /><text text-anchor=\"middle\" x=\"50%\" y=\"16px\">to</text></svg><svg width=\"100%\" x=\"0%\" y=\"48px\"><defs /><svg width=\"100%\" x=\"0\" y=\"0px\"><defs /><text text-anchor=\"middle\" x=\"50%\" y=\"16px\">TO</text></svg></svg><line stroke=\"black\" x1=\"50%\" x2=\"50%\" y1=\"20px\" y2=\"48px\" /></svg><line stroke=\"black\" x1=\"50%\" x2=\"78.3333%\" y1=\"20px\" y2=\"48px\" /><svg width=\"4.16667%\" x=\"80%\" y=\"48px\"><defs /><svg width=\"100%\" x=\"0\" y=\"0px\"><defs /><text text-anchor=\"middle\" x=\"50%\" y=\"16px\">the</text></svg><svg width=\"100%\" x=\"0%\" y=\"48px\"><defs /><svg width=\"100%\" x=\"0\" y=\"0px\"><defs /><text text-anchor=\"middle\" x=\"50%\" y=\"16px\">DT</text></svg></svg><line stroke=\"black\" x1=\"50%\" x2=\"50%\" y1=\"20px\" y2=\"48px\" /></svg><line stroke=\"black\" x1=\"50%\" x2=\"82.0833%\" y1=\"20px\" y2=\"48px\" /><svg width=\"13.3333%\" x=\"84.1667%\" y=\"48px\"><defs /><svg width=\"100%\" x=\"0\" y=\"0px\"><defs /><text text-anchor=\"middle\" x=\"50%\" y=\"16px\">GPE</text></svg><svg width=\"50%\" x=\"0%\" y=\"48px\"><defs /><svg width=\"100%\" x=\"0\" y=\"0px\"><defs /><text text-anchor=\"middle\" x=\"50%\" y=\"16px\">United</text></svg><svg width=\"100%\" x=\"0%\" y=\"48px\"><defs /><svg width=\"100%\" x=\"0\" y=\"0px\"><defs /><text text-anchor=\"middle\" x=\"50%\" y=\"16px\">NNP</text></svg></svg><line stroke=\"black\" x1=\"50%\" x2=\"50%\" y1=\"20px\" y2=\"48px\" /></svg><line stroke=\"black\" x1=\"50%\" x2=\"25%\" y1=\"20px\" y2=\"48px\" /><svg width=\"50%\" x=\"50%\" y=\"48px\"><defs /><svg width=\"100%\" x=\"0\" y=\"0px\"><defs /><text text-anchor=\"middle\" x=\"50%\" y=\"16px\">States</text></svg><svg width=\"100%\" x=\"0%\" y=\"48px\"><defs /><svg width=\"100%\" x=\"0\" y=\"0px\"><defs /><text text-anchor=\"middle\" x=\"50%\" y=\"16px\">NNPS</text></svg></svg><line stroke=\"black\" x1=\"50%\" x2=\"50%\" y1=\"20px\" y2=\"48px\" /></svg><line stroke=\"black\" x1=\"50%\" x2=\"75%\" y1=\"20px\" y2=\"48px\" /></svg><line stroke=\"black\" x1=\"50%\" x2=\"90.8333%\" y1=\"20px\" y2=\"48px\" /><svg width=\"2.5%\" x=\"97.5%\" y=\"48px\"><defs /><svg width=\"100%\" x=\"0\" y=\"0px\"><defs /><text text-anchor=\"middle\" x=\"50%\" y=\"16px\">.</text></svg><svg width=\"100%\" x=\"0%\" y=\"48px\"><defs /><svg width=\"100%\" x=\"0\" y=\"0px\"><defs /><text text-anchor=\"middle\" x=\"50%\" y=\"16px\">.</text></svg></svg><line stroke=\"black\" x1=\"50%\" x2=\"50%\" y1=\"20px\" y2=\"48px\" /></svg><line stroke=\"black\" x1=\"50%\" x2=\"98.75%\" y1=\"20px\" y2=\"48px\" /></svg>"
          },
          "metadata": {},
          "execution_count": 64
        }
      ]
    },
    {
      "cell_type": "code",
      "source": [],
      "metadata": {
        "id": "lGc5bftVe3Eh"
      },
      "execution_count": 64,
      "outputs": []
    },
    {
      "cell_type": "markdown",
      "source": [
        "## **NER Using NLTK**"
      ],
      "metadata": {
        "id": "AEqPOi8NcHOX"
      }
    },
    {
      "cell_type": "code",
      "source": [
        "import nltk\n",
        "from nltk import word_tokenize, pos_tag, ne_chunk\n",
        "nltk.download('maxent_ne_chunker_tab')\n",
        "nltk.download('words')\n",
        "nltk.download('punkt')\n",
        "nltk.download('averaged_perceptron_tagger')\n",
        "\n",
        "\n",
        "# Sample text\n",
        "text = \"Barack Obama was the 44th President of the United States.\"\n",
        "\n",
        "# Tokenize & tag parts of speech\n",
        "tokens = word_tokenize(text)\n",
        "pos_tags = pos_tag(tokens)\n",
        "\n"
      ],
      "metadata": {
        "colab": {
          "base_uri": "https://localhost:8080/"
        },
        "id": "ZCFjJclJcle3",
        "outputId": "1892fa92-12c8-492a-bf6e-1823df8bc5b5"
      },
      "execution_count": 65,
      "outputs": [
        {
          "output_type": "stream",
          "name": "stderr",
          "text": [
            "[nltk_data] Downloading package maxent_ne_chunker_tab to\n",
            "[nltk_data]     /root/nltk_data...\n",
            "[nltk_data]   Package maxent_ne_chunker_tab is already up-to-date!\n",
            "[nltk_data] Downloading package words to /root/nltk_data...\n",
            "[nltk_data]   Package words is already up-to-date!\n",
            "[nltk_data] Downloading package punkt to /root/nltk_data...\n",
            "[nltk_data]   Package punkt is already up-to-date!\n",
            "[nltk_data] Downloading package averaged_perceptron_tagger to\n",
            "[nltk_data]     /root/nltk_data...\n",
            "[nltk_data]   Package averaged_perceptron_tagger is already up-to-\n",
            "[nltk_data]       date!\n"
          ]
        }
      ]
    },
    {
      "cell_type": "code",
      "source": [
        "# Perform Named Entity Recognition\n",
        "ner_tree = ne_chunk(pos_tags)\n",
        "\n",
        "# Print named entities\n",
        "print(ner_tree)"
      ],
      "metadata": {
        "colab": {
          "base_uri": "https://localhost:8080/"
        },
        "id": "uLcZGQLTclbr",
        "outputId": "704f1458-df1a-4929-93a9-4e16197c7cb2"
      },
      "execution_count": 66,
      "outputs": [
        {
          "output_type": "stream",
          "name": "stdout",
          "text": [
            "(S\n",
            "  (PERSON Barack/NNP)\n",
            "  (PERSON Obama/NNP)\n",
            "  was/VBD\n",
            "  the/DT\n",
            "  44th/JJ\n",
            "  President/NNP\n",
            "  of/IN\n",
            "  the/DT\n",
            "  (GPE United/NNP States/NNPS)\n",
            "  ./.)\n"
          ]
        }
      ]
    },
    {
      "cell_type": "code",
      "source": [
        "!pip install svgling"
      ],
      "metadata": {
        "colab": {
          "base_uri": "https://localhost:8080/"
        },
        "id": "mlvEukUveIrm",
        "outputId": "56e86798-53fe-40b3-d34c-1b9e3c154620"
      },
      "execution_count": 67,
      "outputs": [
        {
          "output_type": "stream",
          "name": "stdout",
          "text": [
            "Requirement already satisfied: svgling in /usr/local/lib/python3.11/dist-packages (0.5.0)\n",
            "Requirement already satisfied: svgwrite in /usr/local/lib/python3.11/dist-packages (from svgling) (1.4.3)\n"
          ]
        }
      ]
    },
    {
      "cell_type": "code",
      "source": [
        "ner_tree"
      ],
      "metadata": {
        "colab": {
          "base_uri": "https://localhost:8080/",
          "height": 0
        },
        "id": "ZhglB1P5clYB",
        "outputId": "4bc564d9-4ca7-440e-8c6b-d4fd78d28b64"
      },
      "execution_count": 68,
      "outputs": [
        {
          "output_type": "execute_result",
          "data": {
            "text/plain": [
              "Tree('S', [Tree('PERSON', [('Barack', 'NNP')]), Tree('PERSON', [('Obama', 'NNP')]), ('was', 'VBD'), ('the', 'DT'), ('44th', 'JJ'), ('President', 'NNP'), ('of', 'IN'), ('the', 'DT'), Tree('GPE', [('United', 'NNP'), ('States', 'NNPS')]), ('.', '.')])"
            ],
            "image/svg+xml": "<svg baseProfile=\"full\" height=\"168px\" preserveAspectRatio=\"xMidYMid meet\" style=\"font-family: times, serif; font-weight: normal; font-style: normal; font-size: 16px\" version=\"1.1\" viewBox=\"0,0,568.0,168.0\" width=\"568px\" xmlns=\"http://www.w3.org/2000/svg\" xmlns:ev=\"http://www.w3.org/2001/xml-events\" xmlns:xlink=\"http://www.w3.org/1999/xlink\"><defs /><svg width=\"100%\" x=\"0\" y=\"0px\"><defs /><text text-anchor=\"middle\" x=\"50%\" y=\"16px\">S</text></svg><svg width=\"11.2676%\" x=\"0%\" y=\"48px\"><defs /><svg width=\"100%\" x=\"0\" y=\"0px\"><defs /><text text-anchor=\"middle\" x=\"50%\" y=\"16px\">PERSON</text></svg><svg width=\"100%\" x=\"0%\" y=\"48px\"><defs /><svg width=\"100%\" x=\"0\" y=\"0px\"><defs /><text text-anchor=\"middle\" x=\"50%\" y=\"16px\">Barack</text></svg><svg width=\"100%\" x=\"0%\" y=\"48px\"><defs /><svg width=\"100%\" x=\"0\" y=\"0px\"><defs /><text text-anchor=\"middle\" x=\"50%\" y=\"16px\">NNP</text></svg></svg><line stroke=\"black\" x1=\"50%\" x2=\"50%\" y1=\"20px\" y2=\"48px\" /></svg><line stroke=\"black\" x1=\"50%\" x2=\"50%\" y1=\"20px\" y2=\"48px\" /></svg><line stroke=\"black\" x1=\"50%\" x2=\"5.6338%\" y1=\"20px\" y2=\"48px\" /><svg width=\"11.2676%\" x=\"11.2676%\" y=\"48px\"><defs /><svg width=\"100%\" x=\"0\" y=\"0px\"><defs /><text text-anchor=\"middle\" x=\"50%\" y=\"16px\">PERSON</text></svg><svg width=\"100%\" x=\"0%\" y=\"48px\"><defs /><svg width=\"100%\" x=\"0\" y=\"0px\"><defs /><text text-anchor=\"middle\" x=\"50%\" y=\"16px\">Obama</text></svg><svg width=\"100%\" x=\"0%\" y=\"48px\"><defs /><svg width=\"100%\" x=\"0\" y=\"0px\"><defs /><text text-anchor=\"middle\" x=\"50%\" y=\"16px\">NNP</text></svg></svg><line stroke=\"black\" x1=\"50%\" x2=\"50%\" y1=\"20px\" y2=\"48px\" /></svg><line stroke=\"black\" x1=\"50%\" x2=\"50%\" y1=\"20px\" y2=\"48px\" /></svg><line stroke=\"black\" x1=\"50%\" x2=\"16.9014%\" y1=\"20px\" y2=\"48px\" /><svg width=\"7.04225%\" x=\"22.5352%\" y=\"48px\"><defs /><svg width=\"100%\" x=\"0\" y=\"0px\"><defs /><text text-anchor=\"middle\" x=\"50%\" y=\"16px\">was</text></svg><svg width=\"100%\" x=\"0%\" y=\"48px\"><defs /><svg width=\"100%\" x=\"0\" y=\"0px\"><defs /><text text-anchor=\"middle\" x=\"50%\" y=\"16px\">VBD</text></svg></svg><line stroke=\"black\" x1=\"50%\" x2=\"50%\" y1=\"20px\" y2=\"48px\" /></svg><line stroke=\"black\" x1=\"50%\" x2=\"26.0563%\" y1=\"20px\" y2=\"48px\" /><svg width=\"7.04225%\" x=\"29.5775%\" y=\"48px\"><defs /><svg width=\"100%\" x=\"0\" y=\"0px\"><defs /><text text-anchor=\"middle\" x=\"50%\" y=\"16px\">the</text></svg><svg width=\"100%\" x=\"0%\" y=\"48px\"><defs /><svg width=\"100%\" x=\"0\" y=\"0px\"><defs /><text text-anchor=\"middle\" x=\"50%\" y=\"16px\">DT</text></svg></svg><line stroke=\"black\" x1=\"50%\" x2=\"50%\" y1=\"20px\" y2=\"48px\" /></svg><line stroke=\"black\" x1=\"50%\" x2=\"33.0986%\" y1=\"20px\" y2=\"48px\" /><svg width=\"8.4507%\" x=\"36.6197%\" y=\"48px\"><defs /><svg width=\"100%\" x=\"0\" y=\"0px\"><defs /><text text-anchor=\"middle\" x=\"50%\" y=\"16px\">44th</text></svg><svg width=\"100%\" x=\"0%\" y=\"48px\"><defs /><svg width=\"100%\" x=\"0\" y=\"0px\"><defs /><text text-anchor=\"middle\" x=\"50%\" y=\"16px\">JJ</text></svg></svg><line stroke=\"black\" x1=\"50%\" x2=\"50%\" y1=\"20px\" y2=\"48px\" /></svg><line stroke=\"black\" x1=\"50%\" x2=\"40.8451%\" y1=\"20px\" y2=\"48px\" /><svg width=\"15.493%\" x=\"45.0704%\" y=\"48px\"><defs /><svg width=\"100%\" x=\"0\" y=\"0px\"><defs /><text text-anchor=\"middle\" x=\"50%\" y=\"16px\">President</text></svg><svg width=\"100%\" x=\"0%\" y=\"48px\"><defs /><svg width=\"100%\" x=\"0\" y=\"0px\"><defs /><text text-anchor=\"middle\" x=\"50%\" y=\"16px\">NNP</text></svg></svg><line stroke=\"black\" x1=\"50%\" x2=\"50%\" y1=\"20px\" y2=\"48px\" /></svg><line stroke=\"black\" x1=\"50%\" x2=\"52.8169%\" y1=\"20px\" y2=\"48px\" /><svg width=\"5.6338%\" x=\"60.5634%\" y=\"48px\"><defs /><svg width=\"100%\" x=\"0\" y=\"0px\"><defs /><text text-anchor=\"middle\" x=\"50%\" y=\"16px\">of</text></svg><svg width=\"100%\" x=\"0%\" y=\"48px\"><defs /><svg width=\"100%\" x=\"0\" y=\"0px\"><defs /><text text-anchor=\"middle\" x=\"50%\" y=\"16px\">IN</text></svg></svg><line stroke=\"black\" x1=\"50%\" x2=\"50%\" y1=\"20px\" y2=\"48px\" /></svg><line stroke=\"black\" x1=\"50%\" x2=\"63.3803%\" y1=\"20px\" y2=\"48px\" /><svg width=\"7.04225%\" x=\"66.1972%\" y=\"48px\"><defs /><svg width=\"100%\" x=\"0\" y=\"0px\"><defs /><text text-anchor=\"middle\" x=\"50%\" y=\"16px\">the</text></svg><svg width=\"100%\" x=\"0%\" y=\"48px\"><defs /><svg width=\"100%\" x=\"0\" y=\"0px\"><defs /><text text-anchor=\"middle\" x=\"50%\" y=\"16px\">DT</text></svg></svg><line stroke=\"black\" x1=\"50%\" x2=\"50%\" y1=\"20px\" y2=\"48px\" /></svg><line stroke=\"black\" x1=\"50%\" x2=\"69.7183%\" y1=\"20px\" y2=\"48px\" /><svg width=\"22.5352%\" x=\"73.2394%\" y=\"48px\"><defs /><svg width=\"100%\" x=\"0\" y=\"0px\"><defs /><text text-anchor=\"middle\" x=\"50%\" y=\"16px\">GPE</text></svg><svg width=\"50%\" x=\"0%\" y=\"48px\"><defs /><svg width=\"100%\" x=\"0\" y=\"0px\"><defs /><text text-anchor=\"middle\" x=\"50%\" y=\"16px\">United</text></svg><svg width=\"100%\" x=\"0%\" y=\"48px\"><defs /><svg width=\"100%\" x=\"0\" y=\"0px\"><defs /><text text-anchor=\"middle\" x=\"50%\" y=\"16px\">NNP</text></svg></svg><line stroke=\"black\" x1=\"50%\" x2=\"50%\" y1=\"20px\" y2=\"48px\" /></svg><line stroke=\"black\" x1=\"50%\" x2=\"25%\" y1=\"20px\" y2=\"48px\" /><svg width=\"50%\" x=\"50%\" y=\"48px\"><defs /><svg width=\"100%\" x=\"0\" y=\"0px\"><defs /><text text-anchor=\"middle\" x=\"50%\" y=\"16px\">States</text></svg><svg width=\"100%\" x=\"0%\" y=\"48px\"><defs /><svg width=\"100%\" x=\"0\" y=\"0px\"><defs /><text text-anchor=\"middle\" x=\"50%\" y=\"16px\">NNPS</text></svg></svg><line stroke=\"black\" x1=\"50%\" x2=\"50%\" y1=\"20px\" y2=\"48px\" /></svg><line stroke=\"black\" x1=\"50%\" x2=\"75%\" y1=\"20px\" y2=\"48px\" /></svg><line stroke=\"black\" x1=\"50%\" x2=\"84.507%\" y1=\"20px\" y2=\"48px\" /><svg width=\"4.22535%\" x=\"95.7746%\" y=\"48px\"><defs /><svg width=\"100%\" x=\"0\" y=\"0px\"><defs /><text text-anchor=\"middle\" x=\"50%\" y=\"16px\">.</text></svg><svg width=\"100%\" x=\"0%\" y=\"48px\"><defs /><svg width=\"100%\" x=\"0\" y=\"0px\"><defs /><text text-anchor=\"middle\" x=\"50%\" y=\"16px\">.</text></svg></svg><line stroke=\"black\" x1=\"50%\" x2=\"50%\" y1=\"20px\" y2=\"48px\" /></svg><line stroke=\"black\" x1=\"50%\" x2=\"97.8873%\" y1=\"20px\" y2=\"48px\" /></svg>"
          },
          "metadata": {},
          "execution_count": 68
        }
      ]
    },
    {
      "cell_type": "markdown",
      "source": [
        "## **NER Using Spacy**"
      ],
      "metadata": {
        "id": "jxpOR-a_cN8r"
      }
    },
    {
      "cell_type": "code",
      "source": [
        "import spacy\n",
        "\n",
        "# Load the English NLP model\n",
        "nlp = spacy.load(\"en_core_web_sm\")\n",
        "\n",
        "# Sample text\n",
        "text = \"\"\"Elon Musk, the CEO of Tesla, was born in South Africa\n",
        "          and moved to the United States.\"\"\"\n",
        "\n",
        "# Process text\n",
        "doc = nlp(text)\n",
        "\n"
      ],
      "metadata": {
        "id": "dx2-59MccGIc"
      },
      "execution_count": 69,
      "outputs": []
    },
    {
      "cell_type": "code",
      "source": [
        "# Print detected entities\n",
        "for ent in doc.ents:\n",
        "    print(f\"{ent.text} -> {ent.label_}\")"
      ],
      "metadata": {
        "colab": {
          "base_uri": "https://localhost:8080/"
        },
        "id": "RqPnUHNccGE4",
        "outputId": "1b744699-3e64-4e08-e361-5fcd833cb54c"
      },
      "execution_count": 70,
      "outputs": [
        {
          "output_type": "stream",
          "name": "stdout",
          "text": [
            "Elon Musk -> PERSON\n",
            "Tesla -> ORG\n",
            "South Africa -> GPE\n",
            "the United States -> GPE\n"
          ]
        }
      ]
    },
    {
      "cell_type": "markdown",
      "source": [
        "# **Visualisation**"
      ],
      "metadata": {
        "id": "iYvGkgH-hdOo"
      }
    },
    {
      "cell_type": "code",
      "source": [
        "text = \"\"\" Python llm Python genai llm Python llm Matplotlib llm\n",
        " Seaborn Network llm Plot Violin Chart Pandas llm Datascience llm \"\"\"\n",
        "text"
      ],
      "metadata": {
        "colab": {
          "base_uri": "https://localhost:8080/",
          "height": 0
        },
        "id": "BgC9IVkGhqEZ",
        "outputId": "ae65ab39-c3a5-4ae1-84a5-ad8364501978"
      },
      "execution_count": 71,
      "outputs": [
        {
          "output_type": "execute_result",
          "data": {
            "text/plain": [
              "' Python llm Python genai llm Python llm Matplotlib llm \\n Seaborn Network llm Plot Violin Chart Pandas llm Datascience llm '"
            ],
            "application/vnd.google.colaboratory.intrinsic+json": {
              "type": "string"
            }
          },
          "metadata": {},
          "execution_count": 71
        }
      ]
    },
    {
      "cell_type": "code",
      "source": [
        "from wordcloud import WordCloud\n",
        "import matplotlib.pyplot as plt"
      ],
      "metadata": {
        "id": "xE22VQ1gmi4k"
      },
      "execution_count": 72,
      "outputs": []
    },
    {
      "cell_type": "code",
      "source": [
        "w_cloud= WordCloud().generate(text)\n",
        "plt.figure(figsize=(10,10))\n",
        "plt.imshow(w_cloud, interpolation='bilinear')\n",
        "plt.axis('off')\n",
        "plt.show()"
      ],
      "metadata": {
        "colab": {
          "base_uri": "https://localhost:8080/",
          "height": 0
        },
        "id": "Y-IHNt5jmi1B",
        "outputId": "a3ce99ab-34e5-4056-ede2-b7474738c515"
      },
      "execution_count": 73,
      "outputs": [
        {
          "output_type": "display_data",
          "data": {
            "text/plain": [
              "<Figure size 1000x1000 with 1 Axes>"
            ],
            "image/png": "[encoded data removed]"
          },
          "metadata": {}
        }
      ]
    },
    {
      "cell_type": "code",
      "source": [],
      "metadata": {
        "id": "VekgCZQwmikZ"
      },
      "execution_count": 73,
      "outputs": []
    },
    {
      "cell_type": "markdown",
      "source": [
        "# **Spacy**"
      ],
      "metadata": {
        "id": "NhAiD0I-ims5"
      }
    },
    {
      "cell_type": "code",
      "source": [
        "!pip install spacy"
      ],
      "metadata": {
        "colab": {
          "base_uri": "https://localhost:8080/"
        },
        "id": "g_axHv2HhqAs",
        "outputId": "19fbfd6e-3f74-4818-d042-7a30bad6109a"
      },
      "execution_count": 74,
      "outputs": [
        {
          "output_type": "stream",
          "name": "stdout",
          "text": [
            "Requirement already satisfied: spacy in /usr/local/lib/python3.11/dist-packages (3.8.4)\n",
            "Requirement already satisfied: spacy-legacy<3.1.0,>=3.0.11 in /usr/local/lib/python3.11/dist-packages (from spacy) (3.0.12)\n",
            "Requirement already satisfied: spacy-loggers<2.0.0,>=1.0.0 in /usr/local/lib/python3.11/dist-packages (from spacy) (1.0.5)\n",
            "Requirement already satisfied: murmurhash<1.1.0,>=0.28.0 in /usr/local/lib/python3.11/dist-packages (from spacy) (1.0.12)\n",
            "Requirement already satisfied: cymem<2.1.0,>=2.0.2 in /usr/local/lib/python3.11/dist-packages (from spacy) (2.0.11)\n",
            "Requirement already satisfied: preshed<3.1.0,>=3.0.2 in /usr/local/lib/python3.11/dist-packages (from spacy) (3.0.9)\n",
            "Requirement already satisfied: thinc<8.4.0,>=8.3.4 in /usr/local/lib/python3.11/dist-packages (from spacy) (8.3.4)\n",
            "Requirement already satisfied: wasabi<1.2.0,>=0.9.1 in /usr/local/lib/python3.11/dist-packages (from spacy) (1.1.3)\n",
            "Requirement already satisfied: srsly<3.0.0,>=2.4.3 in /usr/local/lib/python3.11/dist-packages (from spacy) (2.5.1)\n",
            "Requirement already satisfied: catalogue<2.1.0,>=2.0.6 in /usr/local/lib/python3.11/dist-packages (from spacy) (2.0.10)\n",
            "Requirement already satisfied: weasel<0.5.0,>=0.1.0 in /usr/local/lib/python3.11/dist-packages (from spacy) (0.4.1)\n",
            "Requirement already satisfied: typer<1.0.0,>=0.3.0 in /usr/local/lib/python3.11/dist-packages (from spacy) (0.15.2)\n",
            "Requirement already satisfied: tqdm<5.0.0,>=4.38.0 in /usr/local/lib/python3.11/dist-packages (from spacy) (4.67.1)\n",
            "Requirement already satisfied: numpy>=1.19.0 in /usr/local/lib/python3.11/dist-packages (from spacy) (1.26.4)\n",
            "Requirement already satisfied: requests<3.0.0,>=2.13.0 in /usr/local/lib/python3.11/dist-packages (from spacy) (2.32.3)\n",
            "Requirement already satisfied: pydantic!=1.8,!=1.8.1,<3.0.0,>=1.7.4 in /usr/local/lib/python3.11/dist-packages (from spacy) (2.10.6)\n",
            "Requirement already satisfied: jinja2 in /usr/local/lib/python3.11/dist-packages (from spacy) (3.1.6)\n",
            "Requirement already satisfied: setuptools in /usr/local/lib/python3.11/dist-packages (from spacy) (75.1.0)\n",
            "Requirement already satisfied: packaging>=20.0 in /usr/local/lib/python3.11/dist-packages (from spacy) (24.2)\n",
            "Requirement already satisfied: langcodes<4.0.0,>=3.2.0 in /usr/local/lib/python3.11/dist-packages (from spacy) (3.5.0)\n",
            "Requirement already satisfied: language-data>=1.2 in /usr/local/lib/python3.11/dist-packages (from langcodes<4.0.0,>=3.2.0->spacy) (1.3.0)\n",
            "Requirement already satisfied: annotated-types>=0.6.0 in /usr/local/lib/python3.11/dist-packages (from pydantic!=1.8,!=1.8.1,<3.0.0,>=1.7.4->spacy) (0.7.0)\n",
            "Requirement already satisfied: pydantic-core==2.27.2 in /usr/local/lib/python3.11/dist-packages (from pydantic!=1.8,!=1.8.1,<3.0.0,>=1.7.4->spacy) (2.27.2)\n",
            "Requirement already satisfied: typing-extensions>=4.12.2 in /usr/local/lib/python3.11/dist-packages (from pydantic!=1.8,!=1.8.1,<3.0.0,>=1.7.4->spacy) (4.12.2)\n",
            "Requirement already satisfied: charset-normalizer<4,>=2 in /usr/local/lib/python3.11/dist-packages (from requests<3.0.0,>=2.13.0->spacy) (3.4.1)\n",
            "Requirement already satisfied: idna<4,>=2.5 in /usr/local/lib/python3.11/dist-packages (from requests<3.0.0,>=2.13.0->spacy) (3.10)\n",
            "Requirement already satisfied: urllib3<3,>=1.21.1 in /usr/local/lib/python3.11/dist-packages (from requests<3.0.0,>=2.13.0->spacy) (2.3.0)\n",
            "Requirement already satisfied: certifi>=2017.4.17 in /usr/local/lib/python3.11/dist-packages (from requests<3.0.0,>=2.13.0->spacy) (2025.1.31)\n",
            "Requirement already satisfied: blis<1.3.0,>=1.2.0 in /usr/local/lib/python3.11/dist-packages (from thinc<8.4.0,>=8.3.4->spacy) (1.2.0)\n",
            "Requirement already satisfied: confection<1.0.0,>=0.0.1 in /usr/local/lib/python3.11/dist-packages (from thinc<8.4.0,>=8.3.4->spacy) (0.1.5)\n",
            "Requirement already satisfied: click>=8.0.0 in /usr/local/lib/python3.11/dist-packages (from typer<1.0.0,>=0.3.0->spacy) (8.1.8)\n",
            "Requirement already satisfied: shellingham>=1.3.0 in /usr/local/lib/python3.11/dist-packages (from typer<1.0.0,>=0.3.0->spacy) (1.5.4)\n",
            "Requirement already satisfied: rich>=10.11.0 in /usr/local/lib/python3.11/dist-packages (from typer<1.0.0,>=0.3.0->spacy) (13.9.4)\n",
            "Requirement already satisfied: cloudpathlib<1.0.0,>=0.7.0 in /usr/local/lib/python3.11/dist-packages (from weasel<0.5.0,>=0.1.0->spacy) (0.21.0)\n",
            "Requirement already satisfied: smart-open<8.0.0,>=5.2.1 in /usr/local/lib/python3.11/dist-packages (from weasel<0.5.0,>=0.1.0->spacy) (7.1.0)\n",
            "Requirement already satisfied: MarkupSafe>=2.0 in /usr/local/lib/python3.11/dist-packages (from jinja2->spacy) (3.0.2)\n",
            "Requirement already satisfied: marisa-trie>=1.1.0 in /usr/local/lib/python3.11/dist-packages (from language-data>=1.2->langcodes<4.0.0,>=3.2.0->spacy) (1.2.1)\n",
            "Requirement already satisfied: markdown-it-py>=2.2.0 in /usr/local/lib/python3.11/dist-packages (from rich>=10.11.0->typer<1.0.0,>=0.3.0->spacy) (3.0.0)\n",
            "Requirement already satisfied: pygments<3.0.0,>=2.13.0 in /usr/local/lib/python3.11/dist-packages (from rich>=10.11.0->typer<1.0.0,>=0.3.0->spacy) (2.18.0)\n",
            "Requirement already satisfied: wrapt in /usr/local/lib/python3.11/dist-packages (from smart-open<8.0.0,>=5.2.1->weasel<0.5.0,>=0.1.0->spacy) (1.17.2)\n",
            "Requirement already satisfied: mdurl~=0.1 in /usr/local/lib/python3.11/dist-packages (from markdown-it-py>=2.2.0->rich>=10.11.0->typer<1.0.0,>=0.3.0->spacy) (0.1.2)\n"
          ]
        }
      ]
    },
    {
      "cell_type": "markdown",
      "source": [],
      "metadata": {
        "id": "Y15CpJyao3So"
      }
    },
    {
      "cell_type": "code",
      "source": [
        "!python -m spacy download en_core_web_sm"
      ],
      "metadata": {
        "colab": {
          "base_uri": "https://localhost:8080/"
        },
        "id": "Q3avVv9ZjGXm",
        "outputId": "d3498071-88ca-4a83-846b-4f119d33deaf"
      },
      "execution_count": 75,
      "outputs": [
        {
          "output_type": "stream",
          "name": "stdout",
          "text": [
            "Collecting en-core-web-sm==3.8.0\n",
            "  Downloading https://github.com/explosion/spacy-models/releases/download/en_core_web_sm-3.8.0/en_core_web_sm-3.8.0-py3-none-any.whl (12.8 MB)\n",
            "\u001b[2K     \u001b[90m━━━━━━━━━━━━━━━━━━━━━━━━━━━━━━━━━━━━━━━━\u001b[0m \u001b[32m12.8/12.8 MB\u001b[0m \u001b[31m49.8 MB/s\u001b[0m eta \u001b[36m0:00:00\u001b[0m\n",
            "\u001b[?25h\u001b[38;5;2m✔ Download and installation successful\u001b[0m\n",
            "You can now load the package via spacy.load('en_core_web_sm')\n",
            "\u001b[38;5;3m⚠ Restart to reload dependencies\u001b[0m\n",
            "If you are in a Jupyter or Colab notebook, you may need to restart Python in\n",
            "order to load all the package's dependencies. You can do this by selecting the\n",
            "'Restart kernel' or 'Restart runtime' option.\n"
          ]
        }
      ]
    },
    {
      "cell_type": "code",
      "source": [
        "import spacy\n",
        "nlp = spacy.load('en_core_web_sm')"
      ],
      "metadata": {
        "id": "w6qWrIvrhp9A"
      },
      "execution_count": 76,
      "outputs": []
    },
    {
      "cell_type": "markdown",
      "source": [
        "**en_core_web_sm** ----- for small text\n",
        "\n",
        "**en_core_web_md** ------ for medium text\n",
        "\n",
        "**en_core_web_lg** ------ text document for large module\n"
      ],
      "metadata": {
        "id": "ieMU7vkJpbIv"
      }
    },
    {
      "cell_type": "code",
      "source": [
        "text"
      ],
      "metadata": {
        "colab": {
          "base_uri": "https://localhost:8080/",
          "height": 55
        },
        "id": "dZUjAQj_hp5c",
        "outputId": "a364fe0c-8c69-404d-a782-45848cbfffbf"
      },
      "execution_count": 77,
      "outputs": [
        {
          "output_type": "execute_result",
          "data": {
            "text/plain": [
              "' Python llm Python genai llm Python llm Matplotlib llm \\n Seaborn Network llm Plot Violin Chart Pandas llm Datascience llm '"
            ],
            "application/vnd.google.colaboratory.intrinsic+json": {
              "type": "string"
            }
          },
          "metadata": {},
          "execution_count": 77
        }
      ]
    },
    {
      "cell_type": "code",
      "source": [
        "doc = nlp(text)"
      ],
      "metadata": {
        "id": "pouV62AQcGBm"
      },
      "execution_count": 78,
      "outputs": []
    },
    {
      "cell_type": "code",
      "source": [
        "print(\"token.text, token.pos_, token.tag_, token.is_alpha, token.is_stop\")\n",
        "for token in doc:\n",
        "  print(token.text, token.pos_, token.tag_, token.is_alpha, token.is_stop)"
      ],
      "metadata": {
        "id": "AksRJJ8nrycv",
        "outputId": "6101a593-c4a2-4870-ec61-799a7869ecf4",
        "colab": {
          "base_uri": "https://localhost:8080/"
        }
      },
      "execution_count": 79,
      "outputs": [
        {
          "output_type": "stream",
          "name": "stdout",
          "text": [
            "token.text, token.pos_, token.tag_, token.is_alpha, token.is_stop\n",
            "  SPACE _SP False False\n",
            "Python PROPN NNP True False\n",
            "llm NOUN NN True False\n",
            "Python PROPN NNP True False\n",
            "genai ADJ JJ True False\n",
            "llm VERB VBP True False\n",
            "Python PROPN NNP True False\n",
            "llm DET DT True False\n",
            "Matplotlib PROPN NNP True False\n",
            "llm CCONJ CC True False\n",
            "\n",
            "  SPACE _SP False False\n",
            "Seaborn PROPN NNP True False\n",
            "Network PROPN NNP True False\n",
            "llm PRON DT True False\n",
            "Plot PROPN NNP True False\n",
            "Violin PROPN NNP True False\n",
            "Chart PROPN NNP True False\n",
            "Pandas PROPN NNPS True False\n",
            "llm ADJ JJ True False\n",
            "Datascience NOUN NN True False\n",
            "llm NOUN NN True False\n"
          ]
        }
      ]
    },
    {
      "cell_type": "code",
      "source": [],
      "metadata": {
        "id": "G_QZ9IK0sHCd"
      },
      "execution_count": 79,
      "outputs": []
    },
    {
      "cell_type": "markdown",
      "source": [
        "# **Word Embedding**\n",
        "\n",
        "Word Embedding is a technique where words are converted into numerical vectors that capture their meaning and context. It helps machines understand the relationships between words in a continuous vector space.\n",
        "\n",
        "**Types of Word Embeddings**\n",
        "\n",
        "Word2Vec (Google) – Uses Skip-gram & CBOW models\n",
        "\n",
        "GloVe (Stanford) – Captures global word co-occurrence\n",
        "\n",
        "FastText (Facebook) – Works better with misspelled words\n",
        "\n",
        "BERT & Transformer-based Embeddings – Context-aware embeddings\n"
      ],
      "metadata": {
        "id": "GSNaO8wUoUbM"
      }
    },
    {
      "cell_type": "code",
      "source": [
        "from sklearn.feature_extraction.text import CountVectorizer\n",
        "sentence = \"datascience and ai genai has great career ahead\"\n",
        "vec = CountVectorizer()\n",
        "vector = vec.fit_transform([sentence])\n",
        "vector.toarray()"
      ],
      "metadata": {
        "id": "GmuOyFkvtGbl",
        "outputId": "de351a2a-16e8-4bb2-aedb-ea733c41c993",
        "colab": {
          "base_uri": "https://localhost:8080/"
        }
      },
      "execution_count": 91,
      "outputs": [
        {
          "output_type": "execute_result",
          "data": {
            "text/plain": [
              "array([[1, 1, 1, 1, 1, 1, 1, 1]])"
            ]
          },
          "metadata": {},
          "execution_count": 91
        }
      ]
    },
    {
      "cell_type": "code",
      "source": [
        "from sklearn.feature_extraction.text import TfidfVectorizer\n",
        "sentence = \"datascience and ai genai has great career ahead\"\n",
        "vec = TfidfVectorizer()\n",
        "vector = vec.fit_transform([sentence])\n",
        "vector.toarray()"
      ],
      "metadata": {
        "id": "0qinylRstGXo",
        "outputId": "0adce103-778e-4857-affe-19ad61bee4e1",
        "colab": {
          "base_uri": "https://localhost:8080/"
        }
      },
      "execution_count": 92,
      "outputs": [
        {
          "output_type": "execute_result",
          "data": {
            "text/plain": [
              "array([[0.35355339, 0.35355339, 0.35355339, 0.35355339, 0.35355339,\n",
              "        0.35355339, 0.35355339, 0.35355339]])"
            ]
          },
          "metadata": {},
          "execution_count": 92
        }
      ]
    },
    {
      "cell_type": "markdown",
      "source": [
        "## **1. Using Word2Vec (Gensim)**"
      ],
      "metadata": {
        "id": "eivIsxwpvjyI"
      }
    },
    {
      "cell_type": "code",
      "source": [
        "!pip install gensim nltk"
      ],
      "metadata": {
        "id": "5Y3z0fWLwId4",
        "outputId": "05252bc9-dcd4-4116-cbfe-3f527e02bd9d",
        "colab": {
          "base_uri": "https://localhost:8080/"
        }
      },
      "execution_count": 96,
      "outputs": [
        {
          "output_type": "stream",
          "name": "stdout",
          "text": [
            "Requirement already satisfied: gensim in /usr/local/lib/python3.11/dist-packages (4.3.3)\n",
            "Requirement already satisfied: nltk in /usr/local/lib/python3.11/dist-packages (3.9.1)\n",
            "Requirement already satisfied: numpy<2.0,>=1.18.5 in /usr/local/lib/python3.11/dist-packages (from gensim) (1.26.4)\n",
            "Requirement already satisfied: scipy<1.14.0,>=1.7.0 in /usr/local/lib/python3.11/dist-packages (from gensim) (1.13.1)\n",
            "Requirement already satisfied: smart-open>=1.8.1 in /usr/local/lib/python3.11/dist-packages (from gensim) (7.1.0)\n",
            "Requirement already satisfied: click in /usr/local/lib/python3.11/dist-packages (from nltk) (8.1.8)\n",
            "Requirement already satisfied: joblib in /usr/local/lib/python3.11/dist-packages (from nltk) (1.4.2)\n",
            "Requirement already satisfied: regex>=2021.8.3 in /usr/local/lib/python3.11/dist-packages (from nltk) (2024.11.6)\n",
            "Requirement already satisfied: tqdm in /usr/local/lib/python3.11/dist-packages (from nltk) (4.67.1)\n",
            "Requirement already satisfied: wrapt in /usr/local/lib/python3.11/dist-packages (from smart-open>=1.8.1->gensim) (1.17.2)\n"
          ]
        }
      ]
    },
    {
      "cell_type": "code",
      "source": [
        "import gensim\n",
        "from gensim.models import Word2Vec\n",
        "import nltk\n",
        "from nltk.tokenize import word_tokenize\n",
        "\n",
        "# Download NLTK tokenizer\n",
        "nltk.download('punkt')"
      ],
      "metadata": {
        "id": "_7SLkvLtwIZj",
        "outputId": "95bd4c0e-fa35-4e8e-86a6-d3cd20478a2b",
        "colab": {
          "base_uri": "https://localhost:8080/"
        }
      },
      "execution_count": 99,
      "outputs": [
        {
          "output_type": "stream",
          "name": "stderr",
          "text": [
            "[nltk_data] Downloading package punkt to /root/nltk_data...\n",
            "[nltk_data]   Package punkt is already up-to-date!\n"
          ]
        },
        {
          "output_type": "execute_result",
          "data": {
            "text/plain": [
              "True"
            ]
          },
          "metadata": {},
          "execution_count": 99
        }
      ]
    },
    {
      "cell_type": "code",
      "source": [
        "# Sample text corpus\n",
        "text = \"Word embeddings are numerical representations of words in a continuous vector space.\"\n",
        "tokens = word_tokenize(text.lower())  # Tokenize and lowercase words\n",
        "\n",
        "# Training Word2Vec\n",
        "model = Word2Vec([tokens], vector_size=50, window=5, min_count=1, workers=4)\n",
        "\n",
        "# Get vector representation of a word\n",
        "print(\"Vector for 'word':\\n\", model.wv['word'])\n"
      ],
      "metadata": {
        "id": "iRXCV0EDww7n",
        "outputId": "f72f3553-b118-44b8-cb99-ff34a559d45f",
        "colab": {
          "base_uri": "https://localhost:8080/"
        }
      },
      "execution_count": 105,
      "outputs": [
        {
          "output_type": "stream",
          "name": "stdout",
          "text": [
            "Vector for 'word':\n",
            " [ 1.62718166e-02 -8.91721994e-03 -2.14130129e-03  2.01336876e-03\n",
            " -3.79122386e-04  2.29881844e-03  1.22283380e-02 -4.14639107e-05\n",
            " -6.49679592e-03 -3.01909074e-03  1.17984870e-02  3.02761025e-03\n",
            " -1.44168816e-03  1.86750013e-02 -9.84352827e-03 -1.67536805e-03\n",
            "  1.83613487e-02  1.35092046e-02  3.00241308e-03 -1.77704711e-02\n",
            "  2.29864009e-03 -4.57832310e-03  1.87393837e-02  2.41582212e-03\n",
            "  2.98510515e-03  4.81519243e-03 -3.66848917e-03 -9.99690127e-03\n",
            "  4.61494288e-04 -4.02966747e-03  1.32065983e-02  1.78829003e-02\n",
            " -1.35343580e-03  5.95681276e-03 -1.22218542e-02  3.39540211e-03\n",
            " -1.38592077e-02 -1.73947811e-02 -1.18026668e-02 -1.79176331e-02\n",
            "  1.45538608e-02 -1.15436092e-02  1.65610705e-02 -1.44890705e-02\n",
            "  6.84884144e-03  1.93593521e-02 -1.55733842e-02 -1.98986735e-02\n",
            " -8.66042357e-03 -5.36938943e-03]\n"
          ]
        }
      ]
    },
    {
      "cell_type": "code",
      "source": [
        "# Find similar words\n",
        "\"Most similar words to 'word':\", model.wv.most_similar('word')"
      ],
      "metadata": {
        "id": "v7h1SM7QwnYR",
        "outputId": "0e78c227-45f4-4c21-be7e-377deb141c26",
        "colab": {
          "base_uri": "https://localhost:8080/"
        }
      },
      "execution_count": 106,
      "outputs": [
        {
          "output_type": "execute_result",
          "data": {
            "text/plain": [
              "(\"Most similar words to 'word':\",\n",
              " [('continuous', 0.19003555178642273),\n",
              "  ('embeddings', 0.17440222203731537),\n",
              "  ('of', 0.11522325128316879),\n",
              "  ('in', 0.10174484550952911),\n",
              "  ('space', 0.08072201907634735),\n",
              "  ('.', 0.04065733030438423),\n",
              "  ('a', -0.02310248278081417),\n",
              "  ('words', -0.029600264504551888),\n",
              "  ('vector', -0.03316282480955124),\n",
              "  ('representations', -0.0647675171494484)])"
            ]
          },
          "metadata": {},
          "execution_count": 106
        }
      ]
    },
    {
      "cell_type": "markdown",
      "source": [
        "## **2. Using Pretrained GloVe Embeddings (spaCy)**"
      ],
      "metadata": {
        "id": "Pw4MQWkdxfvF"
      }
    },
    {
      "cell_type": "code",
      "source": [
        "!pip install spacy\n",
        "!python -m spacy download en_core_web_md"
      ],
      "metadata": {
        "id": "1Krpc0XdtCbU",
        "outputId": "caf3c4d1-f365-481b-b61e-175f6f06d983",
        "colab": {
          "base_uri": "https://localhost:8080/"
        }
      },
      "execution_count": 108,
      "outputs": [
        {
          "output_type": "stream",
          "name": "stdout",
          "text": [
            "Requirement already satisfied: spacy in /usr/local/lib/python3.11/dist-packages (3.8.4)\n",
            "Requirement already satisfied: spacy-legacy<3.1.0,>=3.0.11 in /usr/local/lib/python3.11/dist-packages (from spacy) (3.0.12)\n",
            "Requirement already satisfied: spacy-loggers<2.0.0,>=1.0.0 in /usr/local/lib/python3.11/dist-packages (from spacy) (1.0.5)\n",
            "Requirement already satisfied: murmurhash<1.1.0,>=0.28.0 in /usr/local/lib/python3.11/dist-packages (from spacy) (1.0.12)\n",
            "Requirement already satisfied: cymem<2.1.0,>=2.0.2 in /usr/local/lib/python3.11/dist-packages (from spacy) (2.0.11)\n",
            "Requirement already satisfied: preshed<3.1.0,>=3.0.2 in /usr/local/lib/python3.11/dist-packages (from spacy) (3.0.9)\n",
            "Requirement already satisfied: thinc<8.4.0,>=8.3.4 in /usr/local/lib/python3.11/dist-packages (from spacy) (8.3.4)\n",
            "Requirement already satisfied: wasabi<1.2.0,>=0.9.1 in /usr/local/lib/python3.11/dist-packages (from spacy) (1.1.3)\n",
            "Requirement already satisfied: srsly<3.0.0,>=2.4.3 in /usr/local/lib/python3.11/dist-packages (from spacy) (2.5.1)\n",
            "Requirement already satisfied: catalogue<2.1.0,>=2.0.6 in /usr/local/lib/python3.11/dist-packages (from spacy) (2.0.10)\n",
            "Requirement already satisfied: weasel<0.5.0,>=0.1.0 in /usr/local/lib/python3.11/dist-packages (from spacy) (0.4.1)\n",
            "Requirement already satisfied: typer<1.0.0,>=0.3.0 in /usr/local/lib/python3.11/dist-packages (from spacy) (0.15.2)\n",
            "Requirement already satisfied: tqdm<5.0.0,>=4.38.0 in /usr/local/lib/python3.11/dist-packages (from spacy) (4.67.1)\n",
            "Requirement already satisfied: numpy>=1.19.0 in /usr/local/lib/python3.11/dist-packages (from spacy) (1.26.4)\n",
            "Requirement already satisfied: requests<3.0.0,>=2.13.0 in /usr/local/lib/python3.11/dist-packages (from spacy) (2.32.3)\n",
            "Requirement already satisfied: pydantic!=1.8,!=1.8.1,<3.0.0,>=1.7.4 in /usr/local/lib/python3.11/dist-packages (from spacy) (2.10.6)\n",
            "Requirement already satisfied: jinja2 in /usr/local/lib/python3.11/dist-packages (from spacy) (3.1.6)\n",
            "Requirement already satisfied: setuptools in /usr/local/lib/python3.11/dist-packages (from spacy) (75.1.0)\n",
            "Requirement already satisfied: packaging>=20.0 in /usr/local/lib/python3.11/dist-packages (from spacy) (24.2)\n",
            "Requirement already satisfied: langcodes<4.0.0,>=3.2.0 in /usr/local/lib/python3.11/dist-packages (from spacy) (3.5.0)\n",
            "Requirement already satisfied: language-data>=1.2 in /usr/local/lib/python3.11/dist-packages (from langcodes<4.0.0,>=3.2.0->spacy) (1.3.0)\n",
            "Requirement already satisfied: annotated-types>=0.6.0 in /usr/local/lib/python3.11/dist-packages (from pydantic!=1.8,!=1.8.1,<3.0.0,>=1.7.4->spacy) (0.7.0)\n",
            "Requirement already satisfied: pydantic-core==2.27.2 in /usr/local/lib/python3.11/dist-packages (from pydantic!=1.8,!=1.8.1,<3.0.0,>=1.7.4->spacy) (2.27.2)\n",
            "Requirement already satisfied: typing-extensions>=4.12.2 in /usr/local/lib/python3.11/dist-packages (from pydantic!=1.8,!=1.8.1,<3.0.0,>=1.7.4->spacy) (4.12.2)\n",
            "Requirement already satisfied: charset-normalizer<4,>=2 in /usr/local/lib/python3.11/dist-packages (from requests<3.0.0,>=2.13.0->spacy) (3.4.1)\n",
            "Requirement already satisfied: idna<4,>=2.5 in /usr/local/lib/python3.11/dist-packages (from requests<3.0.0,>=2.13.0->spacy) (3.10)\n",
            "Requirement already satisfied: urllib3<3,>=1.21.1 in /usr/local/lib/python3.11/dist-packages (from requests<3.0.0,>=2.13.0->spacy) (2.3.0)\n",
            "Requirement already satisfied: certifi>=2017.4.17 in /usr/local/lib/python3.11/dist-packages (from requests<3.0.0,>=2.13.0->spacy) (2025.1.31)\n",
            "Requirement already satisfied: blis<1.3.0,>=1.2.0 in /usr/local/lib/python3.11/dist-packages (from thinc<8.4.0,>=8.3.4->spacy) (1.2.0)\n",
            "Requirement already satisfied: confection<1.0.0,>=0.0.1 in /usr/local/lib/python3.11/dist-packages (from thinc<8.4.0,>=8.3.4->spacy) (0.1.5)\n",
            "Requirement already satisfied: click>=8.0.0 in /usr/local/lib/python3.11/dist-packages (from typer<1.0.0,>=0.3.0->spacy) (8.1.8)\n",
            "Requirement already satisfied: shellingham>=1.3.0 in /usr/local/lib/python3.11/dist-packages (from typer<1.0.0,>=0.3.0->spacy) (1.5.4)\n",
            "Requirement already satisfied: rich>=10.11.0 in /usr/local/lib/python3.11/dist-packages (from typer<1.0.0,>=0.3.0->spacy) (13.9.4)\n",
            "Requirement already satisfied: cloudpathlib<1.0.0,>=0.7.0 in /usr/local/lib/python3.11/dist-packages (from weasel<0.5.0,>=0.1.0->spacy) (0.21.0)\n",
            "Requirement already satisfied: smart-open<8.0.0,>=5.2.1 in /usr/local/lib/python3.11/dist-packages (from weasel<0.5.0,>=0.1.0->spacy) (7.1.0)\n",
            "Requirement already satisfied: MarkupSafe>=2.0 in /usr/local/lib/python3.11/dist-packages (from jinja2->spacy) (3.0.2)\n",
            "Requirement already satisfied: marisa-trie>=1.1.0 in /usr/local/lib/python3.11/dist-packages (from language-data>=1.2->langcodes<4.0.0,>=3.2.0->spacy) (1.2.1)\n",
            "Requirement already satisfied: markdown-it-py>=2.2.0 in /usr/local/lib/python3.11/dist-packages (from rich>=10.11.0->typer<1.0.0,>=0.3.0->spacy) (3.0.0)\n",
            "Requirement already satisfied: pygments<3.0.0,>=2.13.0 in /usr/local/lib/python3.11/dist-packages (from rich>=10.11.0->typer<1.0.0,>=0.3.0->spacy) (2.18.0)\n",
            "Requirement already satisfied: wrapt in /usr/local/lib/python3.11/dist-packages (from smart-open<8.0.0,>=5.2.1->weasel<0.5.0,>=0.1.0->spacy) (1.17.2)\n",
            "Requirement already satisfied: mdurl~=0.1 in /usr/local/lib/python3.11/dist-packages (from markdown-it-py>=2.2.0->rich>=10.11.0->typer<1.0.0,>=0.3.0->spacy) (0.1.2)\n",
            "Collecting en-core-web-md==3.8.0\n",
            "  Downloading https://github.com/explosion/spacy-models/releases/download/en_core_web_md-3.8.0/en_core_web_md-3.8.0-py3-none-any.whl (33.5 MB)\n",
            "\u001b[2K     \u001b[90m━━━━━━━━━━━━━━━━━━━━━━━━━━━━━━━━━━━━━━━━\u001b[0m \u001b[32m33.5/33.5 MB\u001b[0m \u001b[31m23.4 MB/s\u001b[0m eta \u001b[36m0:00:00\u001b[0m\n",
            "\u001b[?25hInstalling collected packages: en-core-web-md\n",
            "Successfully installed en-core-web-md-3.8.0\n",
            "\u001b[38;5;2m✔ Download and installation successful\u001b[0m\n",
            "You can now load the package via spacy.load('en_core_web_md')\n",
            "\u001b[38;5;3m⚠ Restart to reload dependencies\u001b[0m\n",
            "If you are in a Jupyter or Colab notebook, you may need to restart Python in\n",
            "order to load all the package's dependencies. You can do this by selecting the\n",
            "'Restart kernel' or 'Restart runtime' option.\n"
          ]
        }
      ]
    },
    {
      "cell_type": "code",
      "source": [
        "import spacy\n",
        "\n",
        "# Load spaCy's medium-sized GloVe model\n",
        "nlp = spacy.load(\"en_core_web_md\")"
      ],
      "metadata": {
        "id": "Xl_h8bmLxyks"
      },
      "execution_count": 109,
      "outputs": []
    },
    {
      "cell_type": "code",
      "source": [
        "# Get vector for a word\n",
        "word_vector = nlp(\"word\").vector\n",
        "print(\"Vector for 'word':\\n\", word_vector)\n"
      ],
      "metadata": {
        "id": "Nav6Mu0YyEGz",
        "outputId": "973e4f6e-7d74-45fa-d88c-f28896455fb6",
        "colab": {
          "base_uri": "https://localhost:8080/"
        }
      },
      "execution_count": 112,
      "outputs": [
        {
          "output_type": "stream",
          "name": "stdout",
          "text": [
            "Vector for 'word':\n",
            " [-6.7386e-01 -7.6534e-02  2.1537e-01 -2.3253e-01 -3.4843e-01 -1.5557e-02\n",
            " -1.7515e-02 -8.3694e-01  6.4395e-02  2.0618e+00 -3.3837e-01 -1.1958e-01\n",
            "  5.5442e-02  1.5397e-01 -7.3792e-02  1.2190e-01  4.4678e-01 -1.4526e-01\n",
            "  1.3530e-01 -3.5705e-01 -3.1308e-02  2.9241e-02  1.3377e-01 -2.2271e-01\n",
            "  2.7837e-01  1.1990e-01 -3.5221e-01 -9.6736e-02 -1.5171e-02 -7.2389e-02\n",
            " -4.0989e-01  5.0759e-03 -2.5423e-01  2.7963e-01  3.3488e-01  1.1343e-01\n",
            " -3.6658e-02  3.2294e-02 -3.4289e-01  2.0107e-01 -4.5828e-01 -8.1287e-03\n",
            " -1.4468e-02  2.4493e-01  1.7696e-01 -1.9051e-01  1.5813e-01 -1.7623e-01\n",
            "  2.5624e-01  3.0039e-01  2.3687e-01  3.1159e-01  3.0255e-01 -3.8472e-01\n",
            " -2.3129e-01  9.3640e-02  2.2580e-01 -2.0202e-01  1.1116e-01 -1.1322e-01\n",
            " -2.9666e-01  1.9008e-01 -8.7491e-02  3.1297e-01  1.9711e-01  9.4212e-02\n",
            " -5.4815e-01 -2.2954e-01 -2.7935e-01  1.5080e-01  2.1443e-01 -1.8500e-01\n",
            "  1.9449e-01 -3.6705e-02 -2.3811e-01  2.0323e-01  1.3371e-01 -1.2646e-01\n",
            " -1.4041e-01  8.9571e-01 -1.1030e-01 -3.3405e-01 -2.3011e-01 -3.8096e-02\n",
            " -1.9109e-01 -1.9631e-02  7.1115e-01 -5.9804e-01 -1.2182e-01 -1.0401e-01\n",
            " -5.5749e-01  2.7826e-01 -3.1986e-01  1.2783e-01 -1.6880e-01 -3.9899e-01\n",
            " -5.5102e-01 -1.5277e-01  5.9048e-01 -3.7287e-01 -1.7443e-01 -1.5872e-01\n",
            "  1.5098e-01  1.5120e-01  4.4745e-01 -4.5502e-01  1.0410e-01 -2.2600e-01\n",
            " -1.7529e-01 -7.6509e-02  9.9013e-02 -2.2222e-02 -4.2130e-01 -1.8383e-01\n",
            " -3.4199e-01 -1.4619e-01 -1.3705e-01 -6.0225e-02 -1.2627e-01 -5.0521e-02\n",
            "  2.3609e-01 -1.7207e-01 -2.1771e-01 -3.6281e-01 -2.0169e-01  1.0508e-01\n",
            "  1.5089e-01 -1.7916e-01 -2.3199e-01 -5.1030e-02 -3.9937e-01 -1.7724e-01\n",
            "  1.0970e-01  8.1443e-02 -1.2693e-01 -1.3772e-01  3.0728e-02  1.9069e-01\n",
            " -3.6124e-01  1.2228e-01 -2.7546e+00  2.9124e-01 -7.8392e-03  4.7260e-01\n",
            " -2.2890e-01 -1.3059e-01 -1.8338e-02 -2.2205e-01  1.0490e-01  1.2879e-01\n",
            "  5.5277e-03  5.4074e-02 -1.5149e-01 -4.4676e-01  3.7990e-01  5.0565e-02\n",
            "  2.7028e-01 -3.2344e-01  2.2377e-01  1.4321e-01 -1.2210e-01 -1.5299e-01\n",
            "  3.5061e-01 -1.1498e-02 -3.7827e-01 -4.4707e-01 -4.3653e-01  5.8458e-03\n",
            " -1.9908e-01 -4.3781e-02  1.2610e-02 -1.0898e-01  4.0965e-02 -3.6703e-01\n",
            " -9.9486e-02 -2.9176e-01 -4.3557e-01  4.4133e-02  2.8526e-01 -3.8467e-01\n",
            " -2.8271e-01 -8.0899e-02 -1.6597e-01  2.2363e-01  2.1814e-02 -3.1705e-02\n",
            " -1.3988e-01 -1.1972e-01  3.0418e-01 -6.3689e-02 -3.3979e-02 -3.4979e-02\n",
            " -3.0403e-01 -3.8253e-01  2.5468e-01 -1.4429e-01  1.1119e-01 -5.8746e-01\n",
            "  2.7536e-01  2.2466e-02  9.2280e-02  7.7764e-02  1.2362e-02 -1.1761e-02\n",
            "  1.1946e-01 -1.0927e-01  3.0424e-01 -1.0144e-01  9.2311e-02  3.8767e-01\n",
            " -3.9952e-01  1.6101e-01  1.5303e-01  9.5744e-02  2.9098e-01 -1.5180e-02\n",
            "  7.6242e-02  2.2265e-02 -4.0108e-01 -6.0597e-01 -1.3577e-01 -8.6648e-04\n",
            " -5.2321e-02 -4.0100e-01  1.9108e-01 -2.5169e-01  9.5848e-02  1.1241e-01\n",
            " -1.4460e-01  1.4923e-02 -1.3023e-02  5.4075e-01  1.0996e-01 -2.2341e-01\n",
            " -9.8193e-02  2.8113e-01  2.4863e-01  1.3753e-01 -1.3261e-01 -7.2310e-02\n",
            " -1.8214e-01 -1.4376e-01  2.4668e-01 -6.1098e-01 -1.2387e-01 -2.1849e-02\n",
            "  1.4274e-01 -3.4269e-01 -1.4610e-01  2.0300e-01  7.7540e-02 -2.3496e-01\n",
            " -8.8763e-02  9.5620e-02 -2.1756e-02 -3.1627e-01 -5.1491e-02  9.5122e-02\n",
            "  9.5668e-02  2.4002e-02 -9.8439e-02  3.2150e-01 -2.6758e-01 -1.8883e-01\n",
            " -1.4338e-01 -2.4478e-02 -1.7283e-01  3.2397e-01  8.5698e-01  4.3819e-02\n",
            " -3.0125e-01  7.9047e-02 -1.5596e-01  1.4454e-01 -5.5582e-01  5.4177e-02\n",
            " -3.6506e-03 -4.7560e-01  2.1242e-01  5.1508e-03  2.1492e-01  1.2686e-01\n",
            "  3.9892e-01 -1.2696e-01 -3.7893e-01  1.0412e-01 -1.4701e-01 -1.1318e-01\n",
            " -6.3269e-02  5.4623e-01  1.6472e-01 -4.6328e-02 -1.0915e-01  3.4824e-02\n",
            "  3.0246e-01  2.7227e-01 -1.8165e-01  7.1529e-02 -1.5093e-01  3.6352e-01]\n"
          ]
        }
      ]
    },
    {
      "cell_type": "code",
      "source": [
        "\n",
        "# Similarity between words\n",
        "word1 = nlp(\"king\")\n",
        "word2 = nlp(\"queen\")"
      ],
      "metadata": {
        "id": "s-6rH2hKyXxc"
      },
      "execution_count": 113,
      "outputs": []
    },
    {
      "cell_type": "code",
      "source": [
        "print(\"Similarity between 'king' and 'queen':\", word1.similarity(word2))"
      ],
      "metadata": {
        "id": "wBXMxwd5yHjN",
        "outputId": "99d8fcb5-351e-4af5-d88a-c8f1df995513",
        "colab": {
          "base_uri": "https://localhost:8080/"
        }
      },
      "execution_count": 114,
      "outputs": [
        {
          "output_type": "stream",
          "name": "stdout",
          "text": [
            "Similarity between 'king' and 'queen': 0.3825309165573663\n"
          ]
        }
      ]
    },
    {
      "cell_type": "markdown",
      "source": [
        "## **3. Using FastText (Facebook's Model)**"
      ],
      "metadata": {
        "id": "LihKHZx7zBqh"
      }
    },
    {
      "cell_type": "code",
      "source": [
        "!pip install fasttext"
      ],
      "metadata": {
        "id": "14mmmYC4yJHJ",
        "outputId": "8d397068-5146-4908-8d10-eaec07ce87dc",
        "colab": {
          "base_uri": "https://localhost:8080/"
        }
      },
      "execution_count": 115,
      "outputs": [
        {
          "output_type": "stream",
          "name": "stdout",
          "text": [
            "Collecting fasttext\n",
            "  Downloading fasttext-0.9.3.tar.gz (73 kB)\n",
            "\u001b[?25l     \u001b[90m━━━━━━━━━━━━━━━━━━━━━━━━━━━━━━━━━━━━━━━━\u001b[0m \u001b[32m0.0/73.4 kB\u001b[0m \u001b[31m?\u001b[0m eta \u001b[36m-:--:--\u001b[0m\r\u001b[2K     \u001b[90m━━━━━━━━━━━━━━━━━━━━━━━━━━━━━━━━━━━━━━━━\u001b[0m \u001b[32m73.4/73.4 kB\u001b[0m \u001b[31m2.0 MB/s\u001b[0m eta \u001b[36m0:00:00\u001b[0m\n",
            "\u001b[?25h  Installing build dependencies ... \u001b[?25l\u001b[?25hdone\n",
            "  Getting requirements to build wheel ... \u001b[?25l\u001b[?25hdone\n",
            "  Preparing metadata (pyproject.toml) ... \u001b[?25l\u001b[?25hdone\n",
            "Collecting pybind11>=2.2 (from fasttext)\n",
            "  Using cached pybind11-2.13.6-py3-none-any.whl.metadata (9.5 kB)\n",
            "Requirement already satisfied: setuptools>=0.7.0 in /usr/local/lib/python3.11/dist-packages (from fasttext) (75.1.0)\n",
            "Requirement already satisfied: numpy in /usr/local/lib/python3.11/dist-packages (from fasttext) (1.26.4)\n",
            "Using cached pybind11-2.13.6-py3-none-any.whl (243 kB)\n",
            "Building wheels for collected packages: fasttext\n",
            "  Building wheel for fasttext (pyproject.toml) ... \u001b[?25l\u001b[?25hdone\n",
            "  Created wheel for fasttext: filename=fasttext-0.9.3-cp311-cp311-linux_x86_64.whl size=4313503 sha256=50b99477377e3b8fea63f2acd2b838779af947fa0ded412ea10d9abf4b68f4db\n",
            "  Stored in directory: /root/.cache/pip/wheels/65/4f/35/5057db0249224e9ab55a513fa6b79451473ceb7713017823c3\n",
            "Successfully built fasttext\n",
            "Installing collected packages: pybind11, fasttext\n",
            "Successfully installed fasttext-0.9.3 pybind11-2.13.6\n"
          ]
        }
      ]
    },
    {
      "cell_type": "code",
      "source": [
        "import fasttext.util\n",
        "\n",
        "# Load a pre-trained FastText model\n",
        "fasttext.util.download_model('en', if_exists='ignore')  # Download English model\n",
        "ft = fasttext.load_model('cc.en.300.bin')\n",
        "\n",
        "# Get word vector\n",
        "print(\"Vector for 'word':\", ft.get_word_vector('word'))\n"
      ],
      "metadata": {
        "id": "fGrUx1zNzHw2",
        "outputId": "0e533481-ad91-4595-cca1-6fbb51825cdf",
        "colab": {
          "base_uri": "https://localhost:8080/"
        }
      },
      "execution_count": 116,
      "outputs": [
        {
          "output_type": "stream",
          "name": "stdout",
          "text": [
            "Downloading https://dl.fbaipublicfiles.com/fasttext/vectors-crawl/cc.en.300.bin.gz\n",
            "\n",
            "Vector for 'word': [-1.70015432e-02  8.15567933e-03 -1.88383684e-02  1.23793781e-01\n",
            "  5.05270716e-03 -6.70323521e-02  3.45998369e-02  1.84294637e-02\n",
            " -7.64054060e-02 -4.19045091e-02 -8.06465298e-02  1.28976656e-02\n",
            "  2.00077564e-01  1.82825729e-01  2.11075842e-02  7.39751160e-02\n",
            "  1.44422576e-02 -2.42733415e-02  4.43353727e-02 -2.89499313e-02\n",
            " -3.03028524e-02  1.96899474e-03 -5.38224690e-02 -1.65010661e-01\n",
            "  4.10782881e-02 -2.79612606e-03  1.20798722e-02  7.80077726e-02\n",
            " -1.24231517e-01  9.36542973e-02  1.25443518e-01 -4.22076993e-02\n",
            "  1.87173914e-02 -1.19053960e-01 -3.97234261e-02  3.18592042e-02\n",
            " -3.64079326e-03 -1.88531447e-02  5.71619682e-02 -9.96990204e-02\n",
            "  9.28039253e-02 -1.79177329e-01  2.02885523e-04  1.45949662e-01\n",
            " -1.19298488e-01  2.01106481e-02 -2.17653401e-02  5.99322319e-02\n",
            "  1.02034425e-02  1.73299946e-02 -9.40109342e-02  2.78837830e-02\n",
            " -9.87280831e-02 -1.21910684e-01  1.18924892e-02  7.13354275e-02\n",
            " -1.04642689e-01 -3.74697223e-02 -6.73705786e-02  7.45791849e-03\n",
            "  1.18944589e-02  3.27657126e-02 -7.45747089e-02  4.26726863e-02\n",
            " -2.50711665e-02  5.54383770e-02  2.57515144e-02  6.58904761e-02\n",
            "  6.29670322e-02 -1.10323630e-01  1.27817355e-02 -2.28800401e-01\n",
            " -4.63290624e-02  5.63230291e-02 -2.28967428e-01 -2.76457705e-03\n",
            "  1.12215713e-01  9.11645405e-03  1.77293383e-02 -3.46542746e-02\n",
            "  6.07757568e-02  6.01661652e-02 -1.06124831e-02  6.26282841e-02\n",
            " -3.80302556e-02 -1.59125000e-01  1.44064929e-02 -5.00600711e-02\n",
            "  6.13152012e-02  7.02601299e-02  4.50852439e-02  9.32816863e-02\n",
            "  6.53656200e-02 -1.17487079e-02  6.57974631e-02 -7.73745030e-03\n",
            " -9.31025576e-03 -3.03413458e-02 -1.42591447e-02 -4.58771102e-02\n",
            "  1.90289877e-02  6.10328577e-02  1.07206360e-01  1.07041627e-01\n",
            " -8.08774456e-02 -1.50443077e-01  1.42960474e-02  1.04355231e-01\n",
            "  2.50205994e-02 -4.44108546e-02  1.34724751e-01 -1.29666105e-02\n",
            "  6.02255166e-02 -1.50240790e-02  1.00721791e-01 -6.07931763e-02\n",
            " -1.28233373e-01 -1.28511321e-02 -7.75150135e-02  7.11710155e-02\n",
            " -7.17846751e-02  2.32814997e-03  1.60706937e-01 -3.20767378e-03\n",
            " -3.41867656e-02  1.23961642e-01 -3.46204974e-02 -1.15657650e-01\n",
            " -1.07521646e-01  4.92567793e-02 -4.66027558e-02 -1.47359610e-01\n",
            "  2.78421119e-03  1.00165252e-02 -2.11927500e-02 -6.72350898e-02\n",
            "  1.38401657e-01 -1.51315063e-01  1.41579732e-02  9.46018007e-03\n",
            "  5.58394492e-02  1.43871584e-03 -4.07826453e-02 -1.04453288e-01\n",
            "  1.89576428e-02 -6.46253526e-02 -2.00816557e-01 -5.71718775e-02\n",
            "  1.69055402e-01  5.36719784e-02 -3.54669355e-02  1.31655689e-02\n",
            " -3.43968570e-02 -7.20197558e-02 -1.19886011e-01  1.91985141e-03\n",
            "  7.31538534e-02  2.42804885e-02  7.55970478e-02  5.49206659e-02\n",
            " -8.07701647e-02 -5.88235781e-02  3.72170061e-02 -2.09487543e-01\n",
            "  4.90664020e-02 -3.45959365e-02  7.84536451e-02 -2.06569657e-02\n",
            "  5.80293462e-02  9.44344401e-02 -5.91469668e-02 -8.07700097e-04\n",
            "  1.06073581e-01  3.71135771e-04  5.03538772e-02  4.86647487e-02\n",
            "  2.47735381e-02  6.60691932e-02 -5.37526570e-02  6.45508021e-02\n",
            " -1.27857607e-02  7.04422146e-02  2.52038799e-02 -6.94022775e-02\n",
            " -3.95657271e-02  6.89128265e-02  5.97311556e-02 -1.16366968e-01\n",
            "  1.07618742e-01 -4.11170684e-02 -5.94441742e-02 -7.06123114e-02\n",
            "  1.02064446e-01 -5.67908108e-04 -1.19896516e-01  3.81347910e-02\n",
            "  5.27033536e-03  1.11462429e-01 -1.23539791e-02  1.54471502e-01\n",
            " -3.66291441e-02  8.36358219e-02  7.29677305e-02 -1.41335034e-03\n",
            " -2.03797892e-02  8.90103206e-02  1.10245449e-02  4.21358868e-02\n",
            "  1.10418342e-01  9.22219083e-02 -1.02480695e-01 -2.35873442e-02\n",
            "  6.08111173e-03 -3.06916493e-03 -1.61892921e-02  4.72077681e-03\n",
            "  5.74680381e-02  5.25933504e-02 -1.50644658e-02  9.04936939e-02\n",
            " -3.48931062e-03 -1.46121085e-01 -7.24252611e-02  8.96131992e-02\n",
            " -3.12228557e-02 -5.34620732e-02  5.11336774e-02  4.11617234e-02\n",
            " -3.83213535e-02  7.01569617e-02 -4.07562926e-02  5.74100874e-02\n",
            "  1.17928786e-02  1.04327291e-01 -1.53087256e-02 -4.66635935e-02\n",
            "  6.95781037e-02  5.40144742e-02  2.11684834e-02 -6.47145659e-02\n",
            " -4.73226141e-03  6.44419789e-02 -1.97040766e-01 -8.40479359e-02\n",
            "  1.22763678e-01  2.02672388e-02 -3.79657596e-02  7.35505819e-02\n",
            " -9.58834141e-02  8.65781605e-02 -1.82297915e-01  8.23416859e-02\n",
            "  1.16887912e-02 -6.59121480e-03  1.02630630e-01  6.62156567e-02\n",
            " -3.02871726e-02 -9.19438154e-02 -2.47561000e-02 -1.47944354e-02\n",
            "  1.62278727e-01 -1.15151525e-01 -9.74430144e-03 -8.38155448e-02\n",
            " -2.70313900e-02  5.40325120e-02 -3.08612734e-02  9.29040760e-02\n",
            " -8.66650939e-02 -1.37688577e-01 -5.46395741e-02 -5.30129299e-02\n",
            " -5.01632206e-02 -5.63175045e-02 -1.33931320e-02  1.08980685e-01\n",
            "  1.11028850e-02  3.88394445e-02 -6.61083013e-02  1.56166162e-02\n",
            " -4.22378024e-03  1.88123956e-02 -9.21699405e-02 -1.45736456e-01\n",
            " -1.08246639e-01 -2.63282321e-02  4.13388163e-02  3.41019966e-02\n",
            " -1.52945165e-02 -3.60713154e-02  1.01884983e-01 -4.61598933e-02\n",
            " -7.13730305e-02  9.44287628e-02  9.07397717e-02 -9.61800218e-02\n",
            " -1.05385063e-02  1.04262263e-01  2.72203982e-03  3.73943290e-03]\n"
          ]
        }
      ]
    },
    {
      "cell_type": "code",
      "source": [
        "# Find similar words\n",
        "print(\"Nearest neighbors of 'word':\", ft.get_nearest_neighbors('word'))"
      ],
      "metadata": {
        "id": "w0I1VgNwzRBl",
        "outputId": "533a0d16-52d3-4b29-a083-b1dc874e322b",
        "colab": {
          "base_uri": "https://localhost:8080/"
        }
      },
      "execution_count": 119,
      "outputs": [
        {
          "output_type": "stream",
          "name": "stdout",
          "text": [
            "Nearest neighbors of 'word': [(0.7383062839508057, 'phrase'), (0.7039881944656372, 'words'), (0.7032297849655151, 'word.The'), (0.6589999794960022, 'word-'), (0.654717206954956, 'word.And'), (0.6517209410667419, 'word.This'), (0.6440520882606506, 'word.'), (0.6380389332771301, 'word.It'), (0.637992799282074, 'word.If'), (0.6335974335670471, 'word.I')]\n"
          ]
        }
      ]
    },
    {
      "cell_type": "code",
      "source": [],
      "metadata": {
        "id": "eblPWaBVH9GH"
      },
      "execution_count": null,
      "outputs": []
    },
    {
      "cell_type": "markdown",
      "source": [
        "## **4. BERT & Transformer-based Embeddings**"
      ],
      "metadata": {
        "id": "z7AGT75hH_j3"
      }
    },
    {
      "cell_type": "markdown",
      "source": [
        "### **Using Pretrained BERT (Hugging Face Transformers)**"
      ],
      "metadata": {
        "id": "R_TnbdrFz0F-"
      }
    },
    {
      "cell_type": "code",
      "source": [
        "!pip install transformers torch"
      ],
      "metadata": {
        "id": "Vdu2siFOz3wl",
        "outputId": "e1713ccf-b797-4947-f37a-9b80fcda8bfe",
        "colab": {
          "base_uri": "https://localhost:8080/"
        }
      },
      "execution_count": 117,
      "outputs": [
        {
          "output_type": "stream",
          "name": "stdout",
          "text": [
            "Requirement already satisfied: transformers in /usr/local/lib/python3.11/dist-packages (4.49.0)\n",
            "Requirement already satisfied: torch in /usr/local/lib/python3.11/dist-packages (2.6.0+cu124)\n",
            "Requirement already satisfied: filelock in /usr/local/lib/python3.11/dist-packages (from transformers) (3.18.0)\n",
            "Requirement already satisfied: huggingface-hub<1.0,>=0.26.0 in /usr/local/lib/python3.11/dist-packages (from transformers) (0.29.3)\n",
            "Requirement already satisfied: numpy>=1.17 in /usr/local/lib/python3.11/dist-packages (from transformers) (1.26.4)\n",
            "Requirement already satisfied: packaging>=20.0 in /usr/local/lib/python3.11/dist-packages (from transformers) (24.2)\n",
            "Requirement already satisfied: pyyaml>=5.1 in /usr/local/lib/python3.11/dist-packages (from transformers) (6.0.2)\n",
            "Requirement already satisfied: regex!=2019.12.17 in /usr/local/lib/python3.11/dist-packages (from transformers) (2024.11.6)\n",
            "Requirement already satisfied: requests in /usr/local/lib/python3.11/dist-packages (from transformers) (2.32.3)\n",
            "Requirement already satisfied: tokenizers<0.22,>=0.21 in /usr/local/lib/python3.11/dist-packages (from transformers) (0.21.1)\n",
            "Requirement already satisfied: safetensors>=0.4.1 in /usr/local/lib/python3.11/dist-packages (from transformers) (0.5.3)\n",
            "Requirement already satisfied: tqdm>=4.27 in /usr/local/lib/python3.11/dist-packages (from transformers) (4.67.1)\n",
            "Requirement already satisfied: typing-extensions>=4.10.0 in /usr/local/lib/python3.11/dist-packages (from torch) (4.12.2)\n",
            "Requirement already satisfied: networkx in /usr/local/lib/python3.11/dist-packages (from torch) (3.4.2)\n",
            "Requirement already satisfied: jinja2 in /usr/local/lib/python3.11/dist-packages (from torch) (3.1.6)\n",
            "Requirement already satisfied: fsspec in /usr/local/lib/python3.11/dist-packages (from torch) (2025.3.0)\n",
            "Collecting nvidia-cuda-nvrtc-cu12==12.4.127 (from torch)\n",
            "  Downloading nvidia_cuda_nvrtc_cu12-12.4.127-py3-none-manylinux2014_x86_64.whl.metadata (1.5 kB)\n",
            "Collecting nvidia-cuda-runtime-cu12==12.4.127 (from torch)\n",
            "  Downloading nvidia_cuda_runtime_cu12-12.4.127-py3-none-manylinux2014_x86_64.whl.metadata (1.5 kB)\n",
            "Collecting nvidia-cuda-cupti-cu12==12.4.127 (from torch)\n",
            "  Downloading nvidia_cuda_cupti_cu12-12.4.127-py3-none-manylinux2014_x86_64.whl.metadata (1.6 kB)\n",
            "Collecting nvidia-cudnn-cu12==9.1.0.70 (from torch)\n",
            "  Downloading nvidia_cudnn_cu12-9.1.0.70-py3-none-manylinux2014_x86_64.whl.metadata (1.6 kB)\n",
            "Collecting nvidia-cublas-cu12==12.4.5.8 (from torch)\n",
            "  Downloading nvidia_cublas_cu12-12.4.5.8-py3-none-manylinux2014_x86_64.whl.metadata (1.5 kB)\n",
            "Collecting nvidia-cufft-cu12==11.2.1.3 (from torch)\n",
            "  Downloading nvidia_cufft_cu12-11.2.1.3-py3-none-manylinux2014_x86_64.whl.metadata (1.5 kB)\n",
            "Collecting nvidia-curand-cu12==10.3.5.147 (from torch)\n",
            "  Downloading nvidia_curand_cu12-10.3.5.147-py3-none-manylinux2014_x86_64.whl.metadata (1.5 kB)\n",
            "Collecting nvidia-cusolver-cu12==11.6.1.9 (from torch)\n",
            "  Downloading nvidia_cusolver_cu12-11.6.1.9-py3-none-manylinux2014_x86_64.whl.metadata (1.6 kB)\n",
            "Collecting nvidia-cusparse-cu12==12.3.1.170 (from torch)\n",
            "  Downloading nvidia_cusparse_cu12-12.3.1.170-py3-none-manylinux2014_x86_64.whl.metadata (1.6 kB)\n",
            "Requirement already satisfied: nvidia-cusparselt-cu12==0.6.2 in /usr/local/lib/python3.11/dist-packages (from torch) (0.6.2)\n",
            "Requirement already satisfied: nvidia-nccl-cu12==2.21.5 in /usr/local/lib/python3.11/dist-packages (from torch) (2.21.5)\n",
            "Requirement already satisfied: nvidia-nvtx-cu12==12.4.127 in /usr/local/lib/python3.11/dist-packages (from torch) (12.4.127)\n",
            "Collecting nvidia-nvjitlink-cu12==12.4.127 (from torch)\n",
            "  Downloading nvidia_nvjitlink_cu12-12.4.127-py3-none-manylinux2014_x86_64.whl.metadata (1.5 kB)\n",
            "Requirement already satisfied: triton==3.2.0 in /usr/local/lib/python3.11/dist-packages (from torch) (3.2.0)\n",
            "Requirement already satisfied: sympy==1.13.1 in /usr/local/lib/python3.11/dist-packages (from torch) (1.13.1)\n",
            "Requirement already satisfied: mpmath<1.4,>=1.1.0 in /usr/local/lib/python3.11/dist-packages (from sympy==1.13.1->torch) (1.3.0)\n",
            "Requirement already satisfied: MarkupSafe>=2.0 in /usr/local/lib/python3.11/dist-packages (from jinja2->torch) (3.0.2)\n",
            "Requirement already satisfied: charset-normalizer<4,>=2 in /usr/local/lib/python3.11/dist-packages (from requests->transformers) (3.4.1)\n",
            "Requirement already satisfied: idna<4,>=2.5 in /usr/local/lib/python3.11/dist-packages (from requests->transformers) (3.10)\n",
            "Requirement already satisfied: urllib3<3,>=1.21.1 in /usr/local/lib/python3.11/dist-packages (from requests->transformers) (2.3.0)\n",
            "Requirement already satisfied: certifi>=2017.4.17 in /usr/local/lib/python3.11/dist-packages (from requests->transformers) (2025.1.31)\n",
            "Downloading nvidia_cublas_cu12-12.4.5.8-py3-none-manylinux2014_x86_64.whl (363.4 MB)\n",
            "\u001b[2K   \u001b[90m━━━━━━━━━━━━━━━━━━━━━━━━━━━━━━━━━━━━━━━━\u001b[0m \u001b[32m363.4/363.4 MB\u001b[0m \u001b[31m1.2 MB/s\u001b[0m eta \u001b[36m0:00:00\u001b[0m\n",
            "\u001b[?25hDownloading nvidia_cuda_cupti_cu12-12.4.127-py3-none-manylinux2014_x86_64.whl (13.8 MB)\n",
            "\u001b[2K   \u001b[90m━━━━━━━━━━━━━━━━━━━━━━━━━━━━━━━━━━━━━━━━\u001b[0m \u001b[32m13.8/13.8 MB\u001b[0m \u001b[31m31.0 MB/s\u001b[0m eta \u001b[36m0:00:00\u001b[0m\n",
            "\u001b[?25hDownloading nvidia_cuda_nvrtc_cu12-12.4.127-py3-none-manylinux2014_x86_64.whl (24.6 MB)\n",
            "\u001b[2K   \u001b[90m━━━━━━━━━━━━━━━━━━━━━━━━━━━━━━━━━━━━━━━━\u001b[0m \u001b[32m24.6/24.6 MB\u001b[0m \u001b[31m23.3 MB/s\u001b[0m eta \u001b[36m0:00:00\u001b[0m\n",
            "\u001b[?25hDownloading nvidia_cuda_runtime_cu12-12.4.127-py3-none-manylinux2014_x86_64.whl (883 kB)\n",
            "\u001b[2K   \u001b[90m━━━━━━━━━━━━━━━━━━━━━━━━━━━━━━━━━━━━━━━━\u001b[0m \u001b[32m883.7/883.7 kB\u001b[0m \u001b[31m36.4 MB/s\u001b[0m eta \u001b[36m0:00:00\u001b[0m\n",
            "\u001b[?25hDownloading nvidia_cudnn_cu12-9.1.0.70-py3-none-manylinux2014_x86_64.whl (664.8 MB)\n",
            "\u001b[2K   \u001b[90m━━━━━━━━━━━━━━━━━━━━━━━━━━━━━━━━━━━━━━━━\u001b[0m \u001b[32m664.8/664.8 MB\u001b[0m \u001b[31m?\u001b[0m eta \u001b[36m0:00:00\u001b[0m\n",
            "\u001b[?25hDownloading nvidia_cufft_cu12-11.2.1.3-py3-none-manylinux2014_x86_64.whl (211.5 MB)\n",
            "\u001b[2K   \u001b[90m━━━━━━━━━━━━━━━━━━━━━━━━━━━━━━━━━━━━━━━━\u001b[0m \u001b[32m211.5/211.5 MB\u001b[0m \u001b[31m722.4 kB/s\u001b[0m eta \u001b[36m0:00:00\u001b[0m\n",
            "\u001b[?25hDownloading nvidia_curand_cu12-10.3.5.147-py3-none-manylinux2014_x86_64.whl (56.3 MB)\n",
            "\u001b[2K   \u001b[90m━━━━━━━━━━━━━━━━━━━━━━━━━━━━━━━━━━━━━━━━\u001b[0m \u001b[32m56.3/56.3 MB\u001b[0m \u001b[31m21.4 MB/s\u001b[0m eta \u001b[36m0:00:00\u001b[0m\n",
            "\u001b[?25hDownloading nvidia_cusolver_cu12-11.6.1.9-py3-none-manylinux2014_x86_64.whl (127.9 MB)\n",
            "\u001b[2K   \u001b[90m━━━━━━━━━━━━━━━━━━━━━━━━━━━━━━━━━━━━━━━━\u001b[0m \u001b[32m127.9/127.9 MB\u001b[0m \u001b[31m1.9 MB/s\u001b[0m eta \u001b[36m0:00:00\u001b[0m\n",
            "\u001b[?25hDownloading nvidia_cusparse_cu12-12.3.1.170-py3-none-manylinux2014_x86_64.whl (207.5 MB)\n",
            "\u001b[2K   \u001b[90m━━━━━━━━━━━━━━━━━━━━━━━━━━━━━━━━━━━━━━━━\u001b[0m \u001b[32m207.5/207.5 MB\u001b[0m \u001b[31m989.2 kB/s\u001b[0m eta \u001b[36m0:00:00\u001b[0m\n",
            "\u001b[?25hDownloading nvidia_nvjitlink_cu12-12.4.127-py3-none-manylinux2014_x86_64.whl (21.1 MB)\n",
            "\u001b[2K   \u001b[90m━━━━━━━━━━━━━━━━━━━━━━━━━━━━━━━━━━━━━━━━\u001b[0m \u001b[32m21.1/21.1 MB\u001b[0m \u001b[31m32.2 MB/s\u001b[0m eta \u001b[36m0:00:00\u001b[0m\n",
            "\u001b[?25hInstalling collected packages: nvidia-nvjitlink-cu12, nvidia-curand-cu12, nvidia-cufft-cu12, nvidia-cuda-runtime-cu12, nvidia-cuda-nvrtc-cu12, nvidia-cuda-cupti-cu12, nvidia-cublas-cu12, nvidia-cusparse-cu12, nvidia-cudnn-cu12, nvidia-cusolver-cu12\n",
            "  Attempting uninstall: nvidia-nvjitlink-cu12\n",
            "    Found existing installation: nvidia-nvjitlink-cu12 12.5.82\n",
            "    Uninstalling nvidia-nvjitlink-cu12-12.5.82:\n",
            "      Successfully uninstalled nvidia-nvjitlink-cu12-12.5.82\n",
            "  Attempting uninstall: nvidia-curand-cu12\n",
            "    Found existing installation: nvidia-curand-cu12 10.3.6.82\n",
            "    Uninstalling nvidia-curand-cu12-10.3.6.82:\n",
            "      Successfully uninstalled nvidia-curand-cu12-10.3.6.82\n",
            "  Attempting uninstall: nvidia-cufft-cu12\n",
            "    Found existing installation: nvidia-cufft-cu12 11.2.3.61\n",
            "    Uninstalling nvidia-cufft-cu12-11.2.3.61:\n",
            "      Successfully uninstalled nvidia-cufft-cu12-11.2.3.61\n",
            "  Attempting uninstall: nvidia-cuda-runtime-cu12\n",
            "    Found existing installation: nvidia-cuda-runtime-cu12 12.5.82\n",
            "    Uninstalling nvidia-cuda-runtime-cu12-12.5.82:\n",
            "      Successfully uninstalled nvidia-cuda-runtime-cu12-12.5.82\n",
            "  Attempting uninstall: nvidia-cuda-nvrtc-cu12\n",
            "    Found existing installation: nvidia-cuda-nvrtc-cu12 12.5.82\n",
            "    Uninstalling nvidia-cuda-nvrtc-cu12-12.5.82:\n",
            "      Successfully uninstalled nvidia-cuda-nvrtc-cu12-12.5.82\n",
            "  Attempting uninstall: nvidia-cuda-cupti-cu12\n",
            "    Found existing installation: nvidia-cuda-cupti-cu12 12.5.82\n",
            "    Uninstalling nvidia-cuda-cupti-cu12-12.5.82:\n",
            "      Successfully uninstalled nvidia-cuda-cupti-cu12-12.5.82\n",
            "  Attempting uninstall: nvidia-cublas-cu12\n",
            "    Found existing installation: nvidia-cublas-cu12 12.5.3.2\n",
            "    Uninstalling nvidia-cublas-cu12-12.5.3.2:\n",
            "      Successfully uninstalled nvidia-cublas-cu12-12.5.3.2\n",
            "  Attempting uninstall: nvidia-cusparse-cu12\n",
            "    Found existing installation: nvidia-cusparse-cu12 12.5.1.3\n",
            "    Uninstalling nvidia-cusparse-cu12-12.5.1.3:\n",
            "      Successfully uninstalled nvidia-cusparse-cu12-12.5.1.3\n",
            "  Attempting uninstall: nvidia-cudnn-cu12\n",
            "    Found existing installation: nvidia-cudnn-cu12 9.3.0.75\n",
            "    Uninstalling nvidia-cudnn-cu12-9.3.0.75:\n",
            "      Successfully uninstalled nvidia-cudnn-cu12-9.3.0.75\n",
            "  Attempting uninstall: nvidia-cusolver-cu12\n",
            "    Found existing installation: nvidia-cusolver-cu12 11.6.3.83\n",
            "    Uninstalling nvidia-cusolver-cu12-11.6.3.83:\n",
            "      Successfully uninstalled nvidia-cusolver-cu12-11.6.3.83\n",
            "Successfully installed nvidia-cublas-cu12-12.4.5.8 nvidia-cuda-cupti-cu12-12.4.127 nvidia-cuda-nvrtc-cu12-12.4.127 nvidia-cuda-runtime-cu12-12.4.127 nvidia-cudnn-cu12-9.1.0.70 nvidia-cufft-cu12-11.2.1.3 nvidia-curand-cu12-10.3.5.147 nvidia-cusolver-cu12-11.6.1.9 nvidia-cusparse-cu12-12.3.1.170 nvidia-nvjitlink-cu12-12.4.127\n"
          ]
        }
      ]
    },
    {
      "cell_type": "code",
      "source": [
        "import torch\n",
        "from transformers import BertTokenizer, BertModel\n",
        "\n"
      ],
      "metadata": {
        "id": "UYLFp5Ac0DB-"
      },
      "execution_count": 120,
      "outputs": []
    },
    {
      "cell_type": "code",
      "source": [
        "# Load BERT tokenizer and model\n",
        "tokenizer = BertTokenizer.from_pretrained('bert-base-uncased')\n",
        "model = BertModel.from_pretrained('bert-base-uncased')\n",
        "\n",
        "# Input text\n",
        "text = \"Word embeddings with BERT are powerful.\"\n",
        "\n",
        "# Tokenize input\n",
        "tokens = tokenizer(text, return_tensors='pt')\n",
        "\n",
        "# Get word embeddings\n",
        "with torch.no_grad():\n",
        "    outputs = model(**tokens)\n",
        "\n"
      ],
      "metadata": {
        "id": "qshi9vRh0WmD",
        "outputId": "522258ca-6b41-40be-848e-7ea0a41f3576",
        "colab": {
          "base_uri": "https://localhost:8080/",
          "height": 49,
          "referenced_widgets": [
            "08237c9758a04817bfabc198ddb3ca08",
            "80ef4de746354e4daa351980e25faed8",
            "0dc1fcee9544468dade9034871fad21b",
            "74d6387cf8864f6fb80dd2ca434f09d4",
            "9c515c9eae584eb0a3f79021fd52c62f",
            "28690817317a4e518d9ea0f7be1baedf",
            "49df1f39384e4168ae66f2aeb2daf1eb",
            "e0677cdfd7f4404eb3c44f406763b4df",
            "8cfcc01912314e51b099fde0479e5b38",
            "01040ecabfaf4e5cbadc47d72e1a739c",
            "dabbbb85751148f3ac35a82f71b6653c"
          ]
        }
      },
      "execution_count": 121,
      "outputs": [
        {
          "output_type": "display_data",
          "data": {
            "text/plain": [
              "model.safetensors:   0%|          | 0.00/440M [00:00<?, ?B/s]"
            ],
            "application/vnd.jupyter.widget-view+json": {
              "version_major": 2,
              "version_minor": 0,
              "model_id": "08237c9758a04817bfabc198ddb3ca08"
            }
          },
          "metadata": {}
        }
      ]
    },
    {
      "cell_type": "code",
      "source": [
        "# Extract last hidden state (word embeddings)\n",
        "embeddings = outputs.last_hidden_state\n",
        "\n",
        "print(\"Shape of embeddings:\", embeddings.shape)  # (batch_size, sequence_length, hidden_size)\n",
        "print(\"Embedding for first token (CLS):\\n\", embeddings[0][0])\n"
      ],
      "metadata": {
        "id": "oaRTO8MI0c02",
        "outputId": "03627ea9-673b-49b4-bd19-907c5dd4c9a5",
        "colab": {
          "base_uri": "https://localhost:8080/"
        }
      },
      "execution_count": 122,
      "outputs": [
        {
          "output_type": "stream",
          "name": "stdout",
          "text": [
            "Shape of embeddings: torch.Size([1, 12, 768])\n",
            "Embedding for first token (CLS):\n",
            " tensor([-3.2210e-01, -2.7053e-01, -2.6774e-01, -1.5954e-01, -6.9872e-01,\n",
            "        -2.9279e-01,  3.7542e-02,  2.3188e-01,  1.8745e-01, -3.4754e-01,\n",
            "        -4.3772e-02, -1.0989e-01, -1.1106e-01,  1.5370e-01,  2.2874e-01,\n",
            "         1.6224e-01, -1.1802e-01,  6.6124e-01,  1.6240e-01, -9.0277e-02,\n",
            "        -2.0140e-01, -1.7956e-01,  6.5224e-02, -2.5425e-01,  4.3717e-02,\n",
            "        -2.2969e-01,  2.0872e-01, -2.4456e-01,  1.4109e-01, -2.4813e-02,\n",
            "        -2.3448e-01,  6.1313e-01,  6.1821e-02, -3.9184e-01,  7.4889e-01,\n",
            "        -2.2907e-01,  7.0600e-01, -1.7312e-01,  3.8023e-01,  3.1513e-02,\n",
            "        -2.1881e-01, -2.0651e-01,  4.0850e-01,  1.5268e-01, -6.6497e-01,\n",
            "        -1.6993e-01, -3.4150e+00, -1.8283e-01, -3.2052e-01, -6.5001e-01,\n",
            "        -1.0348e-01, -1.1185e-01,  1.5012e-01,  5.8642e-01,  3.2807e-01,\n",
            "         2.4967e-01, -2.7986e-01,  4.1752e-01,  7.2092e-01,  5.2996e-02,\n",
            "         7.0245e-02,  1.5880e-02, -1.2530e-01, -3.9988e-02, -7.3698e-02,\n",
            "         1.3748e-01, -2.8181e-01,  4.8953e-01, -4.0348e-01,  3.6299e-01,\n",
            "        -6.0124e-01, -5.2833e-01,  6.2251e-01, -2.4466e-01, -1.5633e-01,\n",
            "         2.9642e-01, -4.0656e-01,  1.1743e-02, -3.1281e-01, -3.4043e-01,\n",
            "         1.3986e-01,  6.0275e-01,  3.4714e-01, -1.6380e-01,  3.9453e-01,\n",
            "         4.8559e-01, -1.8968e-01, -9.4791e-02, -5.7400e-02,  6.8884e-01,\n",
            "        -4.9803e-01, -3.5434e-01,  2.2241e-01,  5.2246e-01,  1.4393e-01,\n",
            "         2.1753e-01,  8.5683e-02, -1.5587e-01,  4.1981e-01,  3.4863e-01,\n",
            "         1.4245e-01, -2.3043e-01,  2.7204e-02, -6.2019e-01, -1.3822e-03,\n",
            "        -1.6020e-01, -5.5740e-01, -3.4337e-01, -8.2715e-02, -2.3456e+00,\n",
            "         4.0367e-01,  1.2368e-01, -3.5138e-01, -3.7651e-01, -1.3354e-01,\n",
            "         4.9572e-01,  3.4502e-01, -1.4430e-01,  2.1608e-01,  1.6433e-01,\n",
            "         4.7135e-01,  1.0531e+00, -6.3267e-02,  9.3061e-02, -1.5067e-01,\n",
            "         2.8280e-01,  3.3625e-01,  1.4821e-01,  6.6406e-01,  3.3609e-01,\n",
            "         1.8208e-01,  7.7145e-01,  2.6949e-01, -3.2955e-01, -1.7080e-02,\n",
            "        -6.4968e-02,  2.4339e-01, -9.0933e-02, -5.7111e-01, -1.8378e-01,\n",
            "        -5.7159e-01, -4.1852e-01, -2.7895e+00, -1.3042e-02,  8.7874e-01,\n",
            "        -7.1748e-02, -2.6550e-01, -3.7154e-01, -6.4713e-02,  3.7692e-01,\n",
            "         3.3512e-01,  3.0875e-01, -2.1128e-01, -2.8776e-02, -5.8025e-01,\n",
            "         1.2778e-01, -3.1707e-01, -1.5988e-01,  3.2659e-01,  4.6276e-01,\n",
            "         4.4128e-02, -4.4890e-02,  2.4445e-02, -4.4234e-01, -5.3901e-01,\n",
            "         3.0348e-01,  3.6605e-01, -2.0023e-01,  2.2256e-01,  6.1441e-02,\n",
            "        -1.6110e-01,  4.5469e-01,  2.5730e-01,  8.4198e-02,  3.2818e-01,\n",
            "        -1.4574e-01, -1.6640e-01,  5.8393e-02,  2.5317e-01,  9.3907e-02,\n",
            "        -3.0456e-01,  2.7464e-01,  9.3520e-02, -7.4178e-03,  4.6422e-01,\n",
            "        -1.0618e-01,  1.9645e-01, -2.5838e-01, -3.4178e-01,  1.7549e-01,\n",
            "         8.4257e-02, -5.0797e-01,  1.4021e-01, -1.9256e-01,  7.3771e-01,\n",
            "         2.9355e-01,  3.9168e-01, -4.9096e-01,  2.3995e-01,  3.4055e-01,\n",
            "        -1.5415e-01, -2.5295e-01, -4.4816e-01, -7.0863e-02, -1.7345e-01,\n",
            "         3.8337e+00,  1.0994e-01, -7.5652e-02,  1.0124e-01,  8.6769e-03,\n",
            "        -2.1794e-01,  1.4711e-01,  4.5276e-01, -3.7408e-01,  3.1334e-01,\n",
            "         6.0449e-02,  5.6359e-01, -5.1060e-02, -1.0681e-01, -8.6368e-02,\n",
            "         8.6583e-02,  1.4515e-01, -1.6247e-01,  1.6781e-01, -4.7221e-01,\n",
            "         2.7073e-01,  8.5879e-02,  5.2630e-01,  1.5985e-01, -1.1922e+00,\n",
            "         9.4872e-02, -3.3533e-01, -4.6556e-02,  1.6151e-01, -7.1585e-02,\n",
            "        -4.2476e-01, -1.7472e-01, -3.0318e-01,  1.0209e-01, -1.1566e-01,\n",
            "        -1.1803e-01,  3.7386e-01,  2.0477e-02,  5.4302e-02,  4.1811e-02,\n",
            "        -5.5976e-02,  4.9445e-01, -3.4871e-01,  3.4354e-01, -5.6090e-01,\n",
            "         6.9054e-01,  1.8576e-01,  1.0879e-01, -5.8824e-02,  3.2349e-01,\n",
            "         1.4302e-01,  1.4697e-01,  2.8173e-01, -2.7364e-01,  2.5528e-02,\n",
            "        -1.5073e-01, -2.7223e-01,  1.7386e-01, -1.3468e-01, -5.0006e-01,\n",
            "        -6.4321e-01, -9.2422e-02, -2.1198e-01,  8.6289e-02, -2.1869e-01,\n",
            "        -1.1566e-02, -5.4270e-01, -2.4815e-01, -3.7391e+00, -2.4183e-01,\n",
            "        -1.1359e-01,  6.1438e-01,  3.9542e-01, -5.7442e-01, -8.1907e-02,\n",
            "         2.4062e-01,  4.4180e-01,  1.4334e-01,  3.0413e-01,  1.7914e-01,\n",
            "         4.4793e-01,  1.2270e-01, -4.0908e-01,  1.9058e-01, -3.2471e-01,\n",
            "        -4.2816e-01, -2.0786e-01, -2.6378e-01,  1.0645e-01, -3.1311e-01,\n",
            "        -1.2177e-03,  1.1189e-01,  3.0029e-01, -2.5644e-01, -2.0527e-01,\n",
            "        -3.5110e-01, -3.9781e-01, -1.5447e-02, -6.3391e-02, -3.5218e-01,\n",
            "         8.5084e-02, -3.8489e-01,  3.8699e-01, -2.7739e+00,  3.9968e-01,\n",
            "        -4.2752e-01,  1.5319e-01,  8.1185e-02, -2.0181e-01,  2.8335e-01,\n",
            "        -1.4201e-01, -3.5633e-01,  1.2429e-01,  3.1647e-02,  1.4502e-02,\n",
            "        -2.3819e-01,  3.3891e-01,  6.4154e-01,  3.5132e-01,  4.5753e-01,\n",
            "         1.2193e-01,  4.8022e-01, -8.1926e-02, -2.8242e-01, -9.9709e-02,\n",
            "        -1.2610e-01, -3.1068e-01,  4.3064e-01,  5.3347e-01, -5.9466e-01,\n",
            "        -4.4647e-02, -3.0226e-01, -4.2422e-01, -2.0792e-01, -1.3253e-01,\n",
            "         3.0369e-01, -2.7981e-01, -6.5639e-01, -1.9023e-01,  8.1125e-02,\n",
            "         4.4623e-01,  7.9767e-01, -3.2011e-01,  1.2017e-02,  9.7251e-01,\n",
            "         2.3809e-01,  3.8333e-01,  3.8136e-01, -1.8351e-03,  9.7792e-02,\n",
            "         2.1690e-01,  2.0411e-01, -6.1185e-02, -3.9268e-01, -7.8208e-02,\n",
            "         1.3082e+00,  1.7036e-01,  4.0295e-02, -3.6515e-01,  3.3277e-01,\n",
            "         5.4548e-02,  2.5040e-01,  8.7768e-02,  7.8934e-01, -5.0077e-01,\n",
            "         2.7953e-01, -5.7522e-01,  7.9015e-03, -4.2566e-01,  4.2751e-01,\n",
            "        -3.0156e-01, -8.9169e-02,  1.8765e-01, -1.0309e-02,  5.9984e-01,\n",
            "        -1.7468e-01, -1.4677e+00,  1.6451e-01, -1.4492e-01, -2.8052e-01,\n",
            "        -2.4680e-01,  4.7569e-02,  1.0451e-01, -3.0621e-01, -3.8460e-01,\n",
            "        -2.7939e-01,  5.2758e-01, -9.9466e-02, -3.3673e-01,  9.2146e-02,\n",
            "         6.4764e-02, -6.9596e-01,  1.7857e-01, -3.3820e-01,  1.5584e-01,\n",
            "         4.3433e-01,  2.4569e-01, -1.9350e-01,  1.4399e-01,  5.7225e-01,\n",
            "        -8.5793e-01,  5.8116e-01, -3.8601e-01, -3.1867e-01, -3.2418e-01,\n",
            "        -2.4361e-01,  1.0446e-01, -4.7971e-01, -1.6857e-01, -1.5012e-02,\n",
            "         1.1815e-01,  4.3195e-01,  1.3414e-01, -8.4001e-02,  4.7576e-02,\n",
            "         1.3214e-01,  2.7485e-01,  9.7189e-01,  1.5326e-01, -2.5898e-03,\n",
            "         5.5091e-01,  2.6138e-01,  5.2302e-01,  5.2924e-01,  2.4528e-01,\n",
            "        -1.6154e-01, -1.0505e-01, -4.2251e-01, -6.0593e-03,  3.2994e-01,\n",
            "        -2.3007e-01, -7.9783e-01, -3.4419e-01, -3.8643e-02, -2.8941e-01,\n",
            "        -2.8576e-01, -3.2455e-01, -4.4976e-02, -7.2333e-01, -1.6746e-01,\n",
            "         7.0185e-01,  2.7194e-01, -2.4464e-01,  5.9897e-01,  8.4790e-02,\n",
            "        -4.4382e-01,  3.1331e-01,  3.3275e-02,  4.9537e-01,  2.1429e-01,\n",
            "         4.5519e-02, -2.5988e-01,  2.7743e-01,  3.3271e-01, -1.5066e-01,\n",
            "         5.1844e-02, -4.7886e-01,  4.1176e-01, -7.7850e-02,  1.4168e-01,\n",
            "        -2.1906e-01, -5.6390e-04, -4.3780e-01,  3.3109e-01,  3.3742e-01,\n",
            "        -1.5283e+00,  3.7084e-01,  4.2516e-01, -2.0297e-01, -1.7927e-02,\n",
            "         7.8373e-03, -5.2857e-01,  7.1158e-01, -7.1033e-02,  1.0861e-01,\n",
            "        -5.0700e-01,  6.6644e-02,  2.5277e-01, -1.6987e-02,  3.2871e-01,\n",
            "         1.5016e-02,  2.4864e-01, -3.7120e-01,  8.7488e-02, -4.6077e-02,\n",
            "         1.3684e-01, -1.5285e-02, -2.0412e-01,  6.3641e-02,  1.7648e-01,\n",
            "        -1.9518e-02, -6.6431e-01,  2.9511e-01, -1.5705e-02,  2.9451e-01,\n",
            "        -3.4270e-01, -1.8193e-01, -5.7350e-01,  1.8316e-01,  2.1160e-01,\n",
            "         8.4540e-02,  2.5514e-01, -6.0897e-01,  5.7079e-01,  5.1281e-01,\n",
            "        -6.9444e-01,  6.2360e-01,  1.8653e-01, -6.1616e-02,  4.0684e-01,\n",
            "         4.1911e-01, -3.5606e-01,  2.3711e-01, -4.2599e-01, -4.9521e-01,\n",
            "        -1.6934e-01, -4.5560e-01,  3.0222e-02, -2.9185e-01,  1.0213e-01,\n",
            "        -3.1770e-01, -3.1470e-01, -1.3581e-01, -4.5684e-01, -2.4192e-01,\n",
            "         1.7823e-03, -3.2824e-01, -4.2400e-01,  1.7162e-01, -4.9468e-01,\n",
            "        -1.0550e+00, -1.0036e-01, -3.1619e-01, -3.0184e-01,  1.8606e-01,\n",
            "         7.1090e-01,  3.6828e-01, -4.5331e-01,  4.8863e-01, -6.0074e-01,\n",
            "         3.2692e-01, -1.8090e-01, -3.0709e-01,  2.2980e-01,  2.0557e-01,\n",
            "        -1.2816e-03, -2.1841e-01, -2.3585e-01,  5.1388e-01,  1.0069e-01,\n",
            "         4.9695e-02, -1.5542e-01, -9.1320e-03, -2.1822e-03,  8.0764e-02,\n",
            "        -1.9939e-01, -4.7148e-01,  3.9786e-01,  2.4346e-01,  1.7695e-01,\n",
            "        -1.1510e-01, -9.4890e-02,  5.8832e-02,  2.8647e-01, -1.6969e-01,\n",
            "        -3.0993e-01,  1.5503e-01,  1.0744e-01,  3.4982e-01, -3.0207e-02,\n",
            "         8.8506e-02,  5.7921e-01,  3.7316e-01, -2.8033e-01, -2.0980e-01,\n",
            "        -7.9745e-02, -8.8374e-03, -8.6817e-02, -1.0683e-01,  1.8710e-01,\n",
            "        -4.2448e-01,  1.7845e-01, -5.0939e-01,  2.1853e+00,  1.0522e-01,\n",
            "         3.0013e-01, -4.6324e-01,  3.9359e-02,  1.0820e-02, -3.1047e-01,\n",
            "         2.9127e-01, -1.9597e-02,  4.3623e-01, -2.5451e-01,  1.6576e-01,\n",
            "        -2.8065e-01,  4.0634e-01,  4.0818e-01,  4.5970e-01, -1.5889e-01,\n",
            "        -2.4519e-01, -9.0654e-01, -9.4748e-02, -2.7783e-01,  1.0793e+00,\n",
            "         3.0417e-01, -1.4002e-01,  9.0923e-02,  1.9142e-01,  1.2087e-01,\n",
            "         1.0172e-01,  2.0932e-01,  3.2353e-01, -3.3300e-01,  4.6509e-01,\n",
            "         4.3076e-01,  1.1120e-01, -4.2539e-01,  4.8429e-02, -6.6995e-02,\n",
            "        -1.1107e-01,  6.5130e-02, -4.6316e-02,  4.7474e-01, -4.8984e-01,\n",
            "         5.7484e-01,  2.2266e-01, -4.4509e-01,  7.9251e-01,  8.2116e-02,\n",
            "        -5.3226e-01,  4.4642e-01,  3.9505e-01, -1.6309e-02,  2.6229e-01,\n",
            "        -2.8550e-01,  5.7326e-02,  2.4760e-02, -1.4783e-01,  7.5675e-02,\n",
            "         2.8214e-02, -4.6117e-02,  2.7137e-01,  1.0721e-01,  1.9435e-01,\n",
            "        -8.6803e-02, -5.0604e-01, -3.6874e-01,  1.0543e-01, -2.0746e-01,\n",
            "         5.9927e-01,  1.2767e-01, -5.7084e-02,  1.7543e-01,  5.8353e-01,\n",
            "         3.2330e-01,  3.5338e-01,  2.5494e-01,  6.1008e-02,  2.0125e-01,\n",
            "         1.1279e-01, -3.2950e-01, -2.4362e+00,  3.3532e-01,  5.1422e-01,\n",
            "         2.2508e-01,  1.0656e-01,  4.5384e-01,  3.2178e-01,  9.1056e-02,\n",
            "         2.5499e-02, -2.0737e-03,  1.3634e-01,  2.7270e-01,  6.0043e-01,\n",
            "         3.4939e-01, -7.7832e-02,  2.4754e-01,  4.2310e-02, -1.6162e-01,\n",
            "        -5.1450e-02, -2.5671e-01,  1.5552e-01, -1.1527e-01,  2.9895e-01,\n",
            "        -2.5280e-01, -6.3734e-01,  2.1898e-01,  3.2477e-02, -2.2469e-01,\n",
            "         3.7722e-02,  6.7200e-01, -2.7444e-01,  1.3719e-01,  1.1146e-01,\n",
            "         3.4021e-01, -8.8386e-02,  8.4214e-02,  2.3589e-02, -2.0379e-01,\n",
            "         5.4982e-01,  2.4684e-01, -5.2615e-01,  5.8186e-01, -1.4755e-01,\n",
            "         3.5508e-01, -2.7326e-02, -3.4455e-01,  4.5088e-01, -2.9534e-01,\n",
            "         7.8512e-01, -2.9475e-01,  2.8560e-02,  3.4581e-01,  4.3117e-01,\n",
            "         1.5260e-01,  3.1434e-01,  1.4334e-02,  4.9055e-02,  1.0209e-01,\n",
            "        -1.4946e-01, -2.9401e-01,  4.3890e-02, -2.2074e-01, -2.1426e-01,\n",
            "         2.6757e-01,  1.0488e-01, -2.4452e-01,  9.4222e-02,  2.8634e-01,\n",
            "        -1.2687e-01, -2.1722e-01, -1.1795e-01,  1.9225e-01,  6.9767e-01,\n",
            "         2.1460e-01, -1.0323e-02,  6.7229e-02,  2.0119e-01, -1.9270e-01,\n",
            "         5.1091e-02,  1.5658e-01, -1.0540e-01, -3.8957e-01, -5.9199e-01,\n",
            "         4.6753e-02,  5.1717e-01, -7.5212e+00, -2.3037e-01, -5.4294e-01,\n",
            "        -8.9241e-01, -2.3217e-01, -3.6034e-01,  9.2294e-02, -1.4664e-01,\n",
            "         1.3208e-01,  6.0576e-02, -2.0858e-01,  5.6911e-01,  2.3052e-01,\n",
            "        -4.5651e-01,  3.1691e-02,  4.4451e-01])\n"
          ]
        }
      ]
    },
    {
      "cell_type": "markdown",
      "source": [
        "### **Using Sentence-BERT (SBERT) for Sentence-Level Embeddings**"
      ],
      "metadata": {
        "id": "QvjYGV_4HtpP"
      }
    },
    {
      "cell_type": "code",
      "source": [
        "!pip install sentence-transformers"
      ],
      "metadata": {
        "id": "ZfSps-4V0gnt",
        "outputId": "915c41f4-6dac-4f19-c06d-77fe1c26db6b",
        "colab": {
          "base_uri": "https://localhost:8080/"
        }
      },
      "execution_count": 123,
      "outputs": [
        {
          "output_type": "stream",
          "name": "stdout",
          "text": [
            "Requirement already satisfied: sentence-transformers in /usr/local/lib/python3.11/dist-packages (3.4.1)\n",
            "Requirement already satisfied: transformers<5.0.0,>=4.41.0 in /usr/local/lib/python3.11/dist-packages (from sentence-transformers) (4.49.0)\n",
            "Requirement already satisfied: tqdm in /usr/local/lib/python3.11/dist-packages (from sentence-transformers) (4.67.1)\n",
            "Requirement already satisfied: torch>=1.11.0 in /usr/local/lib/python3.11/dist-packages (from sentence-transformers) (2.6.0+cu124)\n",
            "Requirement already satisfied: scikit-learn in /usr/local/lib/python3.11/dist-packages (from sentence-transformers) (1.6.1)\n",
            "Requirement already satisfied: scipy in /usr/local/lib/python3.11/dist-packages (from sentence-transformers) (1.13.1)\n",
            "Requirement already satisfied: huggingface-hub>=0.20.0 in /usr/local/lib/python3.11/dist-packages (from sentence-transformers) (0.29.3)\n",
            "Requirement already satisfied: Pillow in /usr/local/lib/python3.11/dist-packages (from sentence-transformers) (11.1.0)\n",
            "Requirement already satisfied: filelock in /usr/local/lib/python3.11/dist-packages (from huggingface-hub>=0.20.0->sentence-transformers) (3.18.0)\n",
            "Requirement already satisfied: fsspec>=2023.5.0 in /usr/local/lib/python3.11/dist-packages (from huggingface-hub>=0.20.0->sentence-transformers) (2025.3.0)\n",
            "Requirement already satisfied: packaging>=20.9 in /usr/local/lib/python3.11/dist-packages (from huggingface-hub>=0.20.0->sentence-transformers) (24.2)\n",
            "Requirement already satisfied: pyyaml>=5.1 in /usr/local/lib/python3.11/dist-packages (from huggingface-hub>=0.20.0->sentence-transformers) (6.0.2)\n",
            "Requirement already satisfied: requests in /usr/local/lib/python3.11/dist-packages (from huggingface-hub>=0.20.0->sentence-transformers) (2.32.3)\n",
            "Requirement already satisfied: typing-extensions>=3.7.4.3 in /usr/local/lib/python3.11/dist-packages (from huggingface-hub>=0.20.0->sentence-transformers) (4.12.2)\n",
            "Requirement already satisfied: networkx in /usr/local/lib/python3.11/dist-packages (from torch>=1.11.0->sentence-transformers) (3.4.2)\n",
            "Requirement already satisfied: jinja2 in /usr/local/lib/python3.11/dist-packages (from torch>=1.11.0->sentence-transformers) (3.1.6)\n",
            "Requirement already satisfied: nvidia-cuda-nvrtc-cu12==12.4.127 in /usr/local/lib/python3.11/dist-packages (from torch>=1.11.0->sentence-transformers) (12.4.127)\n",
            "Requirement already satisfied: nvidia-cuda-runtime-cu12==12.4.127 in /usr/local/lib/python3.11/dist-packages (from torch>=1.11.0->sentence-transformers) (12.4.127)\n",
            "Requirement already satisfied: nvidia-cuda-cupti-cu12==12.4.127 in /usr/local/lib/python3.11/dist-packages (from torch>=1.11.0->sentence-transformers) (12.4.127)\n",
            "Requirement already satisfied: nvidia-cudnn-cu12==9.1.0.70 in /usr/local/lib/python3.11/dist-packages (from torch>=1.11.0->sentence-transformers) (9.1.0.70)\n",
            "Requirement already satisfied: nvidia-cublas-cu12==12.4.5.8 in /usr/local/lib/python3.11/dist-packages (from torch>=1.11.0->sentence-transformers) (12.4.5.8)\n",
            "Requirement already satisfied: nvidia-cufft-cu12==11.2.1.3 in /usr/local/lib/python3.11/dist-packages (from torch>=1.11.0->sentence-transformers) (11.2.1.3)\n",
            "Requirement already satisfied: nvidia-curand-cu12==10.3.5.147 in /usr/local/lib/python3.11/dist-packages (from torch>=1.11.0->sentence-transformers) (10.3.5.147)\n",
            "Requirement already satisfied: nvidia-cusolver-cu12==11.6.1.9 in /usr/local/lib/python3.11/dist-packages (from torch>=1.11.0->sentence-transformers) (11.6.1.9)\n",
            "Requirement already satisfied: nvidia-cusparse-cu12==12.3.1.170 in /usr/local/lib/python3.11/dist-packages (from torch>=1.11.0->sentence-transformers) (12.3.1.170)\n",
            "Requirement already satisfied: nvidia-cusparselt-cu12==0.6.2 in /usr/local/lib/python3.11/dist-packages (from torch>=1.11.0->sentence-transformers) (0.6.2)\n",
            "Requirement already satisfied: nvidia-nccl-cu12==2.21.5 in /usr/local/lib/python3.11/dist-packages (from torch>=1.11.0->sentence-transformers) (2.21.5)\n",
            "Requirement already satisfied: nvidia-nvtx-cu12==12.4.127 in /usr/local/lib/python3.11/dist-packages (from torch>=1.11.0->sentence-transformers) (12.4.127)\n",
            "Requirement already satisfied: nvidia-nvjitlink-cu12==12.4.127 in /usr/local/lib/python3.11/dist-packages (from torch>=1.11.0->sentence-transformers) (12.4.127)\n",
            "Requirement already satisfied: triton==3.2.0 in /usr/local/lib/python3.11/dist-packages (from torch>=1.11.0->sentence-transformers) (3.2.0)\n",
            "Requirement already satisfied: sympy==1.13.1 in /usr/local/lib/python3.11/dist-packages (from torch>=1.11.0->sentence-transformers) (1.13.1)\n",
            "Requirement already satisfied: mpmath<1.4,>=1.1.0 in /usr/local/lib/python3.11/dist-packages (from sympy==1.13.1->torch>=1.11.0->sentence-transformers) (1.3.0)\n",
            "Requirement already satisfied: numpy>=1.17 in /usr/local/lib/python3.11/dist-packages (from transformers<5.0.0,>=4.41.0->sentence-transformers) (1.26.4)\n",
            "Requirement already satisfied: regex!=2019.12.17 in /usr/local/lib/python3.11/dist-packages (from transformers<5.0.0,>=4.41.0->sentence-transformers) (2024.11.6)\n",
            "Requirement already satisfied: tokenizers<0.22,>=0.21 in /usr/local/lib/python3.11/dist-packages (from transformers<5.0.0,>=4.41.0->sentence-transformers) (0.21.1)\n",
            "Requirement already satisfied: safetensors>=0.4.1 in /usr/local/lib/python3.11/dist-packages (from transformers<5.0.0,>=4.41.0->sentence-transformers) (0.5.3)\n",
            "Requirement already satisfied: joblib>=1.2.0 in /usr/local/lib/python3.11/dist-packages (from scikit-learn->sentence-transformers) (1.4.2)\n",
            "Requirement already satisfied: threadpoolctl>=3.1.0 in /usr/local/lib/python3.11/dist-packages (from scikit-learn->sentence-transformers) (3.6.0)\n",
            "Requirement already satisfied: MarkupSafe>=2.0 in /usr/local/lib/python3.11/dist-packages (from jinja2->torch>=1.11.0->sentence-transformers) (3.0.2)\n",
            "Requirement already satisfied: charset-normalizer<4,>=2 in /usr/local/lib/python3.11/dist-packages (from requests->huggingface-hub>=0.20.0->sentence-transformers) (3.4.1)\n",
            "Requirement already satisfied: idna<4,>=2.5 in /usr/local/lib/python3.11/dist-packages (from requests->huggingface-hub>=0.20.0->sentence-transformers) (3.10)\n",
            "Requirement already satisfied: urllib3<3,>=1.21.1 in /usr/local/lib/python3.11/dist-packages (from requests->huggingface-hub>=0.20.0->sentence-transformers) (2.3.0)\n",
            "Requirement already satisfied: certifi>=2017.4.17 in /usr/local/lib/python3.11/dist-packages (from requests->huggingface-hub>=0.20.0->sentence-transformers) (2025.1.31)\n"
          ]
        }
      ]
    },
    {
      "cell_type": "code",
      "source": [
        "from sentence_transformers import SentenceTransformer\n",
        "\n",
        "# Load SBERT model\n",
        "model = SentenceTransformer('all-MiniLM-L6-v2')\n",
        "\n",
        "# Input sentences\n",
        "sentences = [\"BERT provides contextual embeddings.\", \"Word2Vec gives static embeddings.\"]\n",
        "\n",
        "# Get sentence embeddings\n",
        "sentence_embeddings = model.encode(sentences)\n",
        "\n",
        "print(\"Sentence Embedding Shape:\", sentence_embeddings.shape)\n",
        "print(\"Sentence Embedding for first sentence:\\n\", sentence_embeddings[0])\n"
      ],
      "metadata": {
        "id": "Rk6KtVyDIbjv",
        "outputId": "18e189bf-7822-4bef-e936-5124c2ee62d3",
        "colab": {
          "base_uri": "https://localhost:8080/",
          "height": 1000,
          "referenced_widgets": [
            "98e65267cb5943b9a818e1f66ccb5f12",
            "9094a7713cc24451a5847627f831b383",
            "01613a93cb03434cb69a1199999d6c70",
            "651a55a85ad04868ba29ac684a2a2811",
            "0a6fe98d9f0449cf9bfe8084d6697cb0",
            "5586c87c922d4837bb4bf274fe94f43e",
            "6add72dd5c82429c841e43b299eb3ef2",
            "ac811e9eaf0545509b55db3da369a913",
            "7863f978f79c4fd6918ebc66345cef7d",
            "a11713c27379421e92c7164aa4d470a8",
            "3bbbbd7b492a4b598945fe15df2cf8f3",
            "92f25082b79440cebcbc10fbd89cd5be",
            "42ce3e965de14b2ea874ff84e342a761",
            "f4e4ef2048bb4772bf5f10e325d780af",
            "99ffbdb53d5b421d99c1f1215c161818",
            "22e06135b5324d07857a53b59797f9fd",
            "cdc778d8186247138623361903cfbc0c",
            "91f5b24efce94870af25d03ebbff9009",
            "907d07e34a4f4d3eb952bf462e2ed321",
            "687440cc0d8541d2901546b027313e2e",
            "99309dcda3ae4246a1f66121f6966960",
            "bff092d2beb242e2b1705ebd724552ea",
            "135fc07fd0c14af68f11daa8f46bdbc7",
            "bdedd923162c4dae82ae482e95f2091e",
            "3b63f8042f48488c90063514e247695b",
            "471c5417d4124de890d55bd9337d25fa",
            "eb3f0fdfe6724df5895ef3f9373a4f0c",
            "bd8164996de648558aeccc923fc3ac23",
            "9971fd83832044a39feb31aea13293d9",
            "a9549412f3514e0ca18d06eceff87b9b",
            "da966eb786874d39bdc2f603c866e9b0",
            "ff811337a08a4ee6bd7656b07294f3bd",
            "2f2c9098b9fd4b188318fee2ed8bcb88",
            "3b413d19a1c24cd48e50da5d624bdc23",
            "ece0b321e2f0479da087e86b9614c906",
            "325da35dfd4441c4b4d27f01ebbc9814",
            "c4805fee53ee4a08bf4c6a75ffd14c85",
            "f2f00d42b75d4505ad863b1d921bfa26",
            "45333200218a4e118f0775e1fa159ebc",
            "66a130e0ef974be5911c3fe225a13fa8",
            "c5b32cb8d1644918b4f40bda72fd7216",
            "dbc4b9174c9e4fe3bc6baa78586c5c17",
            "dfe3ff13bde44285a9198bb6f37bc016",
            "5ea66bef2b2149e4bdaa630e10a2b777",
            "532f05f798004abbb443534af8930d76",
            "e035eca73df9419ab8d377dfa97ae32f",
            "26f697ec9d894eddaa07b7f1db08c983",
            "bbeb1a890edd47108e058954395406ae",
            "f8c2533c5d984cb18b6485d0f31b4052",
            "8dc1223dd4384ba9aa8c04afdb245171",
            "79d0657360b644fd9f789663d3eb6d08",
            "359cc433bd704f72816b68dfd57c3c05",
            "0130034c54cc4279b64b2a224ef94a9e",
            "1223753ac11d4aa8875fee080ee6f7f5",
            "240ae7cbf5cd4724afc7c2ed73ce6649",
            "dfc9242d7e434b538fed84f80dfadea3",
            "2fef4df8633c490694075ef1e606c292",
            "aae842f21a514254ab317f2f956f3af0",
            "b64200f1d8674c30bb6ce927da93d234",
            "5a4a849a14184b77afaaebe3252631ee",
            "acebd1668bb24ce095f6829b0af6b5b5",
            "f9ada966b8d04a0ba17dce016b9d2ab3",
            "da9e7ad3a63d457c93b9a4a98638a28c",
            "42b7333fae2049ec85f9c3d21f9202e9",
            "0577fd8349144866ae5afe4c0bd07a91",
            "fd14abc0f9804153aeb1b553b1fb1b32",
            "b1951fcb773a45d48473944c742f8671",
            "274482fcd7fd437294d57a86c23715c5",
            "686a84cc33dc403ea6ecc8c56da61e2b",
            "8614bf02edb44d9d9f06b61100bd1169",
            "ed82dc5dea7d452dbdf373ee54de5e30",
            "5f03ecdb23e24e469d4ba844635f7576",
            "db7d9322e68c43bfbd05ac80e28602f0",
            "4726dfc8ffbe4886870640a770f5613d",
            "e84bc62ec42d4a09bb86771dbc541e8c",
            "570d65016b1845f782a089e0e941e9ee",
            "d9cf070d1ced4a799dba0bc4b2686c7e",
            "e0efa3ac5e6b4bd6a21f7045a4ad10b9",
            "62d1ffcf95d0448da0beefedf752ff88",
            "1bba41556bd0473e8ae33bf22b9cc9be",
            "6207670c37444eb896a8d947ea35b502",
            "6765061f71544319be8c77e57c29fad9",
            "3e4bd86fec3549fca70691c4fefc9dd3",
            "8ff9f5fc69854694b0bc8f20af2400c0",
            "8cebbcd06c724c16993d4a6fe39deeac",
            "c5410a87169142d88a732b5cfd1bb297",
            "e1807488beb146ab94c71b5bf06c895f",
            "75ca613fd7af453eb34acde1634aec69",
            "0a7b2049e0d34d38a7cf83f9b30988a2",
            "0709474bfccf479883177ec3913508a2",
            "e6a1e4c7bcd3486eaf27ca66f02b7c67",
            "8fc713db91404346be1276855f551ee6",
            "327578f35dfb487f84baa32cbd149035",
            "3bae97baae914328a4d18f3c8c02aec0",
            "58cd28afc29c4353816cc64416ac5f0a",
            "529797476a85422180ed665e4d71ed9a",
            "eb7053029df9426ca13a1d10839aaebf",
            "4b7fdf72760f4123b32cd7c61c3fb298",
            "e223623dfe0c4ae384759ae2066919bf",
            "a86fed1ee0d041af91f4fb7ef6f6a9c2",
            "3e685a3d974e41269865bda46e71f2a7",
            "8cbae462d5874deca7488050bb4f9267",
            "6f6213edbdff47aa934adf1541a0597b",
            "cd49750fcafe4e118063bca454ce5782",
            "8584708f328345cd9c2447cf43c5b717",
            "aeebef2b5e5f4fa7bbbfa3c7f7fd12fb",
            "becf0638674149898fa0e383f6e95c53",
            "9af35822b85e4cd585766a94d0b28d85",
            "30040b22613c47a295538ca657729545",
            "7b412d3a65b740fdb7f5a8bc91ed25a1",
            "a1e1141fa90a4e96b0f8f7638df3d0f7",
            "b849d26cf53c4b968de1d8f6a313cc65",
            "f570dda0ba64440a856c30ad5a5c844c",
            "d43c8d5a3a494877bf501dc96265bdc9",
            "9fe2ad63ba964db993e229de94c853c0",
            "53e8fc800e3f4e73a2e58fa9bc3772b7",
            "ec249767d28742e29725af448c44e712",
            "615b239dffc646d581d06a056577c350",
            "2d4fd11e456444e491a152b817722e49",
            "cff486ed56a24296a84f03d2de1affa7",
            "967b17ff2a4148ceb89dab641aaa6674"
          ]
        }
      },
      "execution_count": 124,
      "outputs": [
        {
          "output_type": "display_data",
          "data": {
            "text/plain": [
              "modules.json:   0%|          | 0.00/349 [00:00<?, ?B/s]"
            ],
            "application/vnd.jupyter.widget-view+json": {
              "version_major": 2,
              "version_minor": 0,
              "model_id": "98e65267cb5943b9a818e1f66ccb5f12"
            }
          },
          "metadata": {}
        },
        {
          "output_type": "display_data",
          "data": {
            "text/plain": [
              "config_sentence_transformers.json:   0%|          | 0.00/116 [00:00<?, ?B/s]"
            ],
            "application/vnd.jupyter.widget-view+json": {
              "version_major": 2,
              "version_minor": 0,
              "model_id": "92f25082b79440cebcbc10fbd89cd5be"
            }
          },
          "metadata": {}
        },
        {
          "output_type": "display_data",
          "data": {
            "text/plain": [
              "README.md:   0%|          | 0.00/10.5k [00:00<?, ?B/s]"
            ],
            "application/vnd.jupyter.widget-view+json": {
              "version_major": 2,
              "version_minor": 0,
              "model_id": "135fc07fd0c14af68f11daa8f46bdbc7"
            }
          },
          "metadata": {}
        },
        {
          "output_type": "display_data",
          "data": {
            "text/plain": [
              "sentence_bert_config.json:   0%|          | 0.00/53.0 [00:00<?, ?B/s]"
            ],
            "application/vnd.jupyter.widget-view+json": {
              "version_major": 2,
              "version_minor": 0,
              "model_id": "3b413d19a1c24cd48e50da5d624bdc23"
            }
          },
          "metadata": {}
        },
        {
          "output_type": "display_data",
          "data": {
            "text/plain": [
              "config.json:   0%|          | 0.00/612 [00:00<?, ?B/s]"
            ],
            "application/vnd.jupyter.widget-view+json": {
              "version_major": 2,
              "version_minor": 0,
              "model_id": "532f05f798004abbb443534af8930d76"
            }
          },
          "metadata": {}
        },
        {
          "output_type": "display_data",
          "data": {
            "text/plain": [
              "model.safetensors:   0%|          | 0.00/90.9M [00:00<?, ?B/s]"
            ],
            "application/vnd.jupyter.widget-view+json": {
              "version_major": 2,
              "version_minor": 0,
              "model_id": "dfc9242d7e434b538fed84f80dfadea3"
            }
          },
          "metadata": {}
        },
        {
          "output_type": "display_data",
          "data": {
            "text/plain": [
              "tokenizer_config.json:   0%|          | 0.00/350 [00:00<?, ?B/s]"
            ],
            "application/vnd.jupyter.widget-view+json": {
              "version_major": 2,
              "version_minor": 0,
              "model_id": "b1951fcb773a45d48473944c742f8671"
            }
          },
          "metadata": {}
        },
        {
          "output_type": "display_data",
          "data": {
            "text/plain": [
              "vocab.txt:   0%|          | 0.00/232k [00:00<?, ?B/s]"
            ],
            "application/vnd.jupyter.widget-view+json": {
              "version_major": 2,
              "version_minor": 0,
              "model_id": "e0efa3ac5e6b4bd6a21f7045a4ad10b9"
            }
          },
          "metadata": {}
        },
        {
          "output_type": "display_data",
          "data": {
            "text/plain": [
              "tokenizer.json:   0%|          | 0.00/466k [00:00<?, ?B/s]"
            ],
            "application/vnd.jupyter.widget-view+json": {
              "version_major": 2,
              "version_minor": 0,
              "model_id": "0a7b2049e0d34d38a7cf83f9b30988a2"
            }
          },
          "metadata": {}
        },
        {
          "output_type": "display_data",
          "data": {
            "text/plain": [
              "special_tokens_map.json:   0%|          | 0.00/112 [00:00<?, ?B/s]"
            ],
            "application/vnd.jupyter.widget-view+json": {
              "version_major": 2,
              "version_minor": 0,
              "model_id": "a86fed1ee0d041af91f4fb7ef6f6a9c2"
            }
          },
          "metadata": {}
        },
        {
          "output_type": "display_data",
          "data": {
            "text/plain": [
              "config.json:   0%|          | 0.00/190 [00:00<?, ?B/s]"
            ],
            "application/vnd.jupyter.widget-view+json": {
              "version_major": 2,
              "version_minor": 0,
              "model_id": "a1e1141fa90a4e96b0f8f7638df3d0f7"
            }
          },
          "metadata": {}
        },
        {
          "output_type": "stream",
          "name": "stdout",
          "text": [
            "Sentence Embedding Shape: (2, 384)\n",
            "Sentence Embedding for first sentence:\n",
            " [-7.13140070e-02 -5.91662675e-02  2.94116233e-02 -3.03052571e-02\n",
            "  3.23877148e-02  6.33638501e-02  1.52383270e-02  7.60664716e-02\n",
            "  2.21047439e-02 -4.38066460e-02 -5.67153133e-02 -4.08271840e-03\n",
            "  1.53349079e-02  1.08029656e-01  2.95414049e-02  7.35992715e-02\n",
            "  6.45276830e-02  4.39373143e-02 -3.20644006e-02 -2.90809461e-04\n",
            "  1.50208510e-02  2.70458348e-02  7.82921091e-02 -1.11821264e-01\n",
            "  3.21422145e-02 -2.39767134e-02 -7.19787255e-02 -4.10446711e-02\n",
            "  1.47446170e-01  7.83992782e-02  8.46914053e-02  8.27353727e-03\n",
            "  1.38686979e-02  9.12469104e-02 -6.66176574e-03  6.20053522e-02\n",
            " -4.01172265e-02  3.84551510e-02  8.45612399e-03  5.16948588e-02\n",
            " -2.03049220e-02  5.91986403e-02 -4.41108532e-02  3.78260463e-02\n",
            "  6.48562536e-02 -5.98829426e-02 -1.91584677e-02 -3.04038823e-02\n",
            "  1.60854664e-02  4.89286780e-02 -1.00999594e-01 -9.80681088e-03\n",
            " -3.83603238e-02 -2.94574089e-02  5.65710617e-03  3.61229926e-02\n",
            "  1.81703586e-02 -9.06503350e-02  1.66012142e-02 -8.19749087e-02\n",
            " -1.49215171e-02 -5.91542572e-02  5.51984273e-03  3.57587487e-02\n",
            " -2.80507598e-02  4.57982086e-02 -6.44280314e-02  9.04783458e-02\n",
            " -1.97652113e-02  3.17791034e-03 -5.32369539e-02  1.01309782e-02\n",
            " -9.68277361e-03  4.06646244e-02  6.09984435e-03 -7.58600459e-02\n",
            "  6.10778630e-02 -1.09018862e-01  1.29909646e-02 -8.15894902e-02\n",
            "  2.15958301e-02 -1.07097458e-02  8.39723796e-02  1.10397546e-03\n",
            "  1.14612833e-01 -1.41861113e-02  9.23585072e-02 -2.74378229e-02\n",
            " -8.38937908e-02  2.65665725e-02 -4.65222597e-02 -1.21552274e-01\n",
            "  4.58387211e-02 -1.48718581e-02  5.26698381e-02  1.38581116e-02\n",
            "  3.94661091e-02 -7.82131553e-02  3.31332944e-02  5.25736995e-02\n",
            " -1.30209699e-02 -1.55655865e-03  2.41137221e-02 -8.10990334e-02\n",
            "  3.57458964e-02  1.49983503e-02 -5.42434193e-02 -3.99496257e-02\n",
            " -7.91204069e-03 -8.37412179e-02 -9.75205377e-03 -3.48590128e-02\n",
            " -8.09345581e-03 -4.45903875e-02 -9.06087365e-03 -8.43180567e-02\n",
            "  3.36058103e-02 -2.92906668e-02  1.16045132e-01  4.29371521e-02\n",
            "  3.37598585e-02  3.75777297e-02 -4.48681749e-02  4.98734713e-02\n",
            " -7.34182820e-02 -6.05551042e-02  3.31173874e-02 -1.47418544e-33\n",
            " -1.08412486e-02 -2.07664352e-02  2.68539041e-02  2.79140659e-02\n",
            "  1.98788736e-02  2.84796190e-02 -6.45262077e-02 -1.11480542e-02\n",
            " -3.20400782e-02 -5.58224805e-02 -3.84479053e-02  4.26457338e-02\n",
            " -5.07592857e-02  6.84927404e-02 -6.07336834e-02  5.72841465e-02\n",
            " -6.47350699e-02  1.15348838e-01  3.07629965e-02  3.64044169e-03\n",
            " -7.32964575e-02  2.51350142e-02 -5.08905277e-02 -5.69939241e-02\n",
            " -3.23248804e-02 -9.14501306e-03  1.08871445e-01 -8.40119570e-02\n",
            " -9.13679227e-03 -8.71182885e-03 -1.19160183e-01  1.63549408e-02\n",
            " -5.88931665e-02 -6.41023275e-03  3.19195190e-03  1.29268058e-02\n",
            " -5.23716547e-02 -1.06703956e-02  7.28555443e-03 -2.18718592e-02\n",
            "  4.17846022e-03  2.49530431e-02 -1.71161946e-02 -1.17846355e-02\n",
            " -6.03179112e-02 -1.43402843e-02 -2.01818328e-02  2.79053058e-02\n",
            "  4.12397645e-03 -2.20643338e-02  3.98201644e-02  8.48519336e-03\n",
            " -1.31551251e-02 -4.21754494e-02  6.90089911e-02 -5.97476587e-02\n",
            "  3.16505358e-02  2.63059381e-02  5.88673800e-02 -1.80348530e-02\n",
            " -4.13146568e-03 -3.86075899e-02  6.64655790e-02  2.83052344e-02\n",
            " -2.85738311e-03 -1.24032712e-02 -3.94513197e-02 -8.09279084e-03\n",
            "  1.54843077e-03  7.18602836e-02 -5.51304556e-02  2.81374268e-02\n",
            "  2.19714083e-02 -3.65467742e-02 -4.34124172e-02  2.42394879e-02\n",
            " -1.72676500e-02 -5.29927984e-02 -6.83751553e-02  4.82809395e-02\n",
            " -1.44777261e-03 -5.56776486e-02 -4.37000245e-02 -2.19027977e-02\n",
            " -6.87946677e-02 -5.71173616e-02  4.62160930e-02 -1.31681353e-01\n",
            "  2.81375423e-02 -3.23106535e-02 -3.83792706e-02 -1.26015902e-01\n",
            " -3.80422473e-02  2.45864801e-02 -3.65720466e-02  4.31909318e-34\n",
            " -6.50558015e-03  5.23044802e-02 -5.16699292e-02 -3.03165056e-02\n",
            " -2.73490790e-02 -1.37269394e-02  4.28106971e-02  1.04894109e-01\n",
            " -4.37428355e-02  4.96658646e-02 -5.86613603e-02  2.55102315e-03\n",
            " -8.44120048e-03 -5.93943149e-02  4.71153706e-02  2.55556870e-02\n",
            " -1.00486614e-02  4.83504198e-02 -5.45117110e-02 -2.14255229e-02\n",
            "  5.01104631e-02 -2.73131840e-02 -2.06599403e-02  5.82260825e-02\n",
            "  4.20293622e-02  9.67289954e-02 -5.46814911e-02  5.66034392e-03\n",
            " -9.83299315e-02 -2.98733879e-02 -1.83980651e-02 -2.12624799e-02\n",
            " -1.98401269e-02  3.35575342e-02 -5.34816347e-02  4.15316187e-02\n",
            "  7.31564239e-02 -2.44395975e-02 -6.61172345e-02 -6.77767617e-04\n",
            "  1.13742985e-01 -8.14618450e-03  7.81212840e-03  6.91822842e-02\n",
            " -3.40064727e-02  3.85264941e-02 -7.15482682e-02 -3.87027636e-02\n",
            "  6.00263029e-02 -1.34059284e-02 -5.05832657e-02  6.72994740e-03\n",
            " -6.26625940e-02 -6.44142330e-02 -6.75071478e-02 -5.32518476e-02\n",
            "  3.77159230e-02 -5.23325652e-02  1.83765683e-02 -4.53382768e-02\n",
            " -3.76084037e-02 -6.64348304e-02  6.77721528e-03  2.41555981e-02\n",
            "  5.67961857e-02 -6.53116554e-02 -4.50767092e-02 -4.09730431e-03\n",
            " -4.98602390e-02  1.59772765e-02 -8.40518158e-03  1.67676387e-03\n",
            "  1.96468513e-02  1.14355804e-02  1.98502988e-02  5.59897386e-02\n",
            "  3.71342003e-02 -5.53503484e-02 -1.30421100e-02 -3.75706181e-02\n",
            "  5.42502441e-02 -8.77907351e-02  1.07880898e-01  8.10097978e-02\n",
            "  1.42952511e-02  1.11247145e-01  5.19078486e-02 -2.33215000e-03\n",
            "  3.78720723e-02  1.87810808e-02 -1.40268272e-02  1.70205310e-02\n",
            " -4.26203609e-02  9.49243978e-02  1.39582483e-02 -1.54834296e-08\n",
            " -1.01187557e-01  4.20415476e-02  2.19927114e-02 -1.04249232e-02\n",
            " -6.95026293e-02 -8.19371827e-03 -2.30965521e-02  6.60917386e-02\n",
            " -4.40701433e-02  3.29886330e-03  5.36714830e-02  1.33359553e-02\n",
            " -3.35111432e-02 -1.04684522e-02  3.80475372e-02  4.83599156e-02\n",
            "  1.21436454e-02 -1.07461913e-02  4.60920818e-02  5.17604873e-02\n",
            "  4.34819274e-02  6.87915906e-02  1.73381455e-02  4.98490855e-02\n",
            "  2.75960658e-03 -1.48147857e-02 -1.47836341e-03  1.17556624e-01\n",
            "  8.48472416e-02  4.05522296e-03  1.99704282e-02  8.01903158e-02\n",
            " -5.53868376e-02 -3.55516747e-02 -2.77185701e-02  7.46877789e-02\n",
            " -3.03504597e-02 -6.32105544e-02 -1.37625774e-02 -2.03919727e-02\n",
            "  3.80446687e-02  1.97143517e-02 -6.63727224e-02 -1.15239434e-03\n",
            "  9.74203348e-02  5.77841774e-02  7.11147636e-02 -2.74086669e-02\n",
            "  2.39814501e-02  4.00111154e-02 -2.60346592e-03 -6.61308840e-02\n",
            " -2.28094473e-03  4.90599461e-02 -7.53137693e-02  7.49532273e-03\n",
            " -1.06909156e-01  1.32832536e-02  1.60012338e-02  3.09943333e-02\n",
            " -1.11560963e-01  1.43369049e-01  6.23779558e-02  4.90747914e-02]\n"
          ]
        }
      ]
    },
    {
      "cell_type": "code",
      "source": [],
      "metadata": {
        "id": "OLwuw7WiIgms"
      },
      "execution_count": null,
      "outputs": []
    }
  ]
}