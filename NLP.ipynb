{
  "nbformat": 4,
  "nbformat_minor": 0,
  "metadata": {
    "colab": {
      "provenance": [],
      "authorship_tag": "ABX9TyOyzsHjkA6v7qoamZ0dnqS8",
      "include_colab_link": true
    },
    "kernelspec": {
      "name": "python3",
      "display_name": "Python 3"
    },
    "language_info": {
      "name": "python"
    }
  },
  "cells": [
    {
      "cell_type": "markdown",
      "metadata": {
        "id": "view-in-github",
        "colab_type": "text"
      },
      "source": [
        "<a href=\"https://colab.research.google.com/github/ApoorvaReddy17/practice/blob/main/NLP.ipynb\" target=\"_parent\"><img src=\"https://colab.research.google.com/assets/colab-badge.svg\" alt=\"Open In Colab\"/></a>"
      ]
    },
    {
      "cell_type": "markdown",
      "source": [
        "**NLP**\n",
        "\n",
        "NLP is a field of AI that focuses on the interaction between computers and human language. It involves understanding, processing and generating natural language text or speech"
      ],
      "metadata": {
        "id": "e_JksywCL-Ck"
      }
    },
    {
      "cell_type": "markdown",
      "source": [
        "# **TOKENIZATION**\n",
        "\n",
        "Breaking text into smaller units (words,sentences, or subwords)"
      ],
      "metadata": {
        "id": "pMXFB2XtOovM"
      }
    },
    {
      "cell_type": "markdown",
      "source": [
        "## **Tokenization using nltk**"
      ],
      "metadata": {
        "id": "B5jL8vG8NTMt"
      }
    },
    {
      "cell_type": "code",
      "execution_count": 1,
      "metadata": {
        "colab": {
          "base_uri": "https://localhost:8080/"
        },
        "id": "90kekRl-9pGm",
        "outputId": "98484ef2-e79e-41c8-9eef-4b1db3e24fb5"
      },
      "outputs": [
        {
          "output_type": "stream",
          "name": "stderr",
          "text": [
            "[nltk_data] Downloading package punkt to /root/nltk_data...\n",
            "[nltk_data]   Package punkt is already up-to-date!\n",
            "[nltk_data] Downloading package punkt_tab to /root/nltk_data...\n",
            "[nltk_data]   Package punkt_tab is already up-to-date!\n"
          ]
        },
        {
          "output_type": "execute_result",
          "data": {
            "text/plain": [
              "True"
            ]
          },
          "metadata": {},
          "execution_count": 1
        }
      ],
      "source": [
        "import os\n",
        "import nltk\n",
        "nltk.download('punkt')\n",
        "nltk.download('punkt_tab')"
      ]
    },
    {
      "cell_type": "code",
      "source": [
        "ai = \"\"\"NLP is basic building block to build llm model. ChatGPT is an advanced language model developed by openAI, based on the GPT(Generative Pre-Tranformer) architecture. Specifically, ChatGPT belong to the series of GPT models,with GPT-4 being one of the latest versions. These models are designed to understand and generate human-like text based on the input they receive.\"\"\"\n",
        "ai"
      ],
      "metadata": {
        "colab": {
          "base_uri": "https://localhost:8080/",
          "height": 0
        },
        "id": "icqHVTkI_Lba",
        "outputId": "5fb20232-4ab2-41de-ad18-41c3ba7755fb"
      },
      "execution_count": 2,
      "outputs": [
        {
          "output_type": "execute_result",
          "data": {
            "text/plain": [
              "'NLP is basic building block to build llm model. ChatGPT is an advanced language model developed by openAI, based on the GPT(Generative Pre-Tranformer) architecture. Specifically, ChatGPT belong to the series of GPT models,with GPT-4 being one of the latest versions. These models are designed to understand and generate human-like text based on the input they receive.'"
            ],
            "application/vnd.google.colaboratory.intrinsic+json": {
              "type": "string"
            }
          },
          "metadata": {},
          "execution_count": 2
        }
      ]
    },
    {
      "cell_type": "code",
      "source": [
        "type(ai)"
      ],
      "metadata": {
        "colab": {
          "base_uri": "https://localhost:8080/"
        },
        "id": "lv8PbQ2lCxml",
        "outputId": "75d02ca9-f396-4c3e-fb96-302b0030dc8b"
      },
      "execution_count": 3,
      "outputs": [
        {
          "output_type": "execute_result",
          "data": {
            "text/plain": [
              "str"
            ]
          },
          "metadata": {},
          "execution_count": 3
        }
      ]
    },
    {
      "cell_type": "markdown",
      "source": [
        "### **Sentence Tokens**\n",
        "\n",
        "Sentence segmentation\n",
        "\n",
        "from nltk.tokenize import sent_tokenize\n"
      ],
      "metadata": {
        "id": "Uw9BquIELp_C"
      }
    },
    {
      "cell_type": "code",
      "source": [
        "from nltk.tokenize import sent_tokenize\n",
        "s_tokens = sent_tokenize(ai)\n",
        "s_tokens"
      ],
      "metadata": {
        "colab": {
          "base_uri": "https://localhost:8080/"
        },
        "id": "WyJlK9Tt_LWB",
        "outputId": "1f3f932f-ea0a-4afc-ffc2-ac82c6973d45"
      },
      "execution_count": 4,
      "outputs": [
        {
          "output_type": "execute_result",
          "data": {
            "text/plain": [
              "['NLP is basic building block to build llm model.',\n",
              " 'ChatGPT is an advanced language model developed by openAI, based on the GPT(Generative Pre-Tranformer) architecture.',\n",
              " 'Specifically, ChatGPT belong to the series of GPT models,with GPT-4 being one of the latest versions.',\n",
              " 'These models are designed to understand and generate human-like text based on the input they receive.']"
            ]
          },
          "metadata": {},
          "execution_count": 4
        }
      ]
    },
    {
      "cell_type": "code",
      "source": [
        "print(type(s_tokens))\n",
        "len(s_tokens)"
      ],
      "metadata": {
        "colab": {
          "base_uri": "https://localhost:8080/"
        },
        "id": "gZ6yi0dl_Lpp",
        "outputId": "ad101f98-9a19-4b11-e5cf-fe2afedf7030"
      },
      "execution_count": 5,
      "outputs": [
        {
          "output_type": "stream",
          "name": "stdout",
          "text": [
            "<class 'list'>\n"
          ]
        },
        {
          "output_type": "execute_result",
          "data": {
            "text/plain": [
              "4"
            ]
          },
          "metadata": {},
          "execution_count": 5
        }
      ]
    },
    {
      "cell_type": "markdown",
      "source": [
        "### **WORD TOKENS**\n",
        "\n",
        "Simple word tokenization\n",
        "\n",
        "from nltk.tokenize import word_tokenize"
      ],
      "metadata": {
        "id": "UHNwLYpkMEuR"
      }
    },
    {
      "cell_type": "code",
      "source": [
        "from nltk.tokenize import word_tokenize\n",
        "w_tokens = word_tokenize(ai)\n",
        "print(w_tokens)\n",
        "print(type(w_tokens))\n",
        "len(w_tokens)"
      ],
      "metadata": {
        "colab": {
          "base_uri": "https://localhost:8080/"
        },
        "id": "NCp0ydgo_Llm",
        "outputId": "89cbdbd5-6924-4c42-dded-5da6b7392dbc"
      },
      "execution_count": 6,
      "outputs": [
        {
          "output_type": "stream",
          "name": "stdout",
          "text": [
            "['NLP', 'is', 'basic', 'building', 'block', 'to', 'build', 'llm', 'model', '.', 'ChatGPT', 'is', 'an', 'advanced', 'language', 'model', 'developed', 'by', 'openAI', ',', 'based', 'on', 'the', 'GPT', '(', 'Generative', 'Pre-Tranformer', ')', 'architecture', '.', 'Specifically', ',', 'ChatGPT', 'belong', 'to', 'the', 'series', 'of', 'GPT', 'models', ',', 'with', 'GPT-4', 'being', 'one', 'of', 'the', 'latest', 'versions', '.', 'These', 'models', 'are', 'designed', 'to', 'understand', 'and', 'generate', 'human-like', 'text', 'based', 'on', 'the', 'input', 'they', 'receive', '.']\n",
            "<class 'list'>\n"
          ]
        },
        {
          "output_type": "execute_result",
          "data": {
            "text/plain": [
              "67"
            ]
          },
          "metadata": {},
          "execution_count": 6
        }
      ]
    },
    {
      "cell_type": "markdown",
      "source": [
        "## **TOKEN FREQUENCY**"
      ],
      "metadata": {
        "id": "cMrQsoR2PIx3"
      }
    },
    {
      "cell_type": "code",
      "source": [
        "from nltk.probability import FreqDist\n",
        "fdist = FreqDist(w_tokens)\n",
        "print(type(fdist))\n",
        "fdist"
      ],
      "metadata": {
        "colab": {
          "base_uri": "https://localhost:8080/"
        },
        "id": "aBKYqBEr_Lgj",
        "outputId": "f707f56b-be0e-4316-cc16-2544469399a9"
      },
      "execution_count": 7,
      "outputs": [
        {
          "output_type": "stream",
          "name": "stdout",
          "text": [
            "<class 'nltk.probability.FreqDist'>\n"
          ]
        },
        {
          "output_type": "execute_result",
          "data": {
            "text/plain": [
              "FreqDist({'.': 4, 'the': 4, 'to': 3, ',': 3, 'is': 2, 'model': 2, 'ChatGPT': 2, 'based': 2, 'on': 2, 'GPT': 2, ...})"
            ]
          },
          "metadata": {},
          "execution_count": 7
        }
      ]
    },
    {
      "cell_type": "code",
      "source": [
        "f = FreqDist()\n",
        "for word in w_tokens:\n",
        "  f[word.lower()]+=1\n",
        "f"
      ],
      "metadata": {
        "colab": {
          "base_uri": "https://localhost:8080/"
        },
        "id": "nX0CFr1Y_LRZ",
        "outputId": "41c97956-dd69-4241-805a-e31cc7225bd6"
      },
      "execution_count": 8,
      "outputs": [
        {
          "output_type": "execute_result",
          "data": {
            "text/plain": [
              "FreqDist({'.': 4, 'the': 4, 'to': 3, ',': 3, 'is': 2, 'model': 2, 'chatgpt': 2, 'based': 2, 'on': 2, 'gpt': 2, ...})"
            ]
          },
          "metadata": {},
          "execution_count": 8
        }
      ]
    },
    {
      "cell_type": "code",
      "source": [
        "f['model']"
      ],
      "metadata": {
        "colab": {
          "base_uri": "https://localhost:8080/"
        },
        "id": "v0EgtiTj_LM6",
        "outputId": "f763e12f-97ef-4f1b-e038-c9b60ac1797c"
      },
      "execution_count": 9,
      "outputs": [
        {
          "output_type": "execute_result",
          "data": {
            "text/plain": [
              "2"
            ]
          },
          "metadata": {},
          "execution_count": 9
        }
      ]
    },
    {
      "cell_type": "code",
      "source": [
        "f['chatgpt']"
      ],
      "metadata": {
        "colab": {
          "base_uri": "https://localhost:8080/"
        },
        "id": "NbfdJu-aRNVc",
        "outputId": "6d26d779-3286-47ec-bb62-58200e435f16"
      },
      "execution_count": 10,
      "outputs": [
        {
          "output_type": "execute_result",
          "data": {
            "text/plain": [
              "2"
            ]
          },
          "metadata": {},
          "execution_count": 10
        }
      ]
    },
    {
      "cell_type": "markdown",
      "source": [
        "## **TOKENS TYPE**\n",
        "\n",
        "*   bigrams (2)\n",
        "*  trigrams (3)\n",
        "*  ngrams (3+)"
      ],
      "metadata": {
        "id": "fU1LvyNPRE9u"
      }
    },
    {
      "cell_type": "code",
      "source": [
        "from nltk.util import bigrams, trigrams, ngrams"
      ],
      "metadata": {
        "id": "y3Lwxwdp_LJd"
      },
      "execution_count": 11,
      "outputs": []
    },
    {
      "cell_type": "code",
      "source": [
        "# bigrams using word tokens\n",
        "b = list(nltk.bigrams(w_tokens))\n",
        "b"
      ],
      "metadata": {
        "colab": {
          "base_uri": "https://localhost:8080/"
        },
        "id": "ez-ZxunaRmgi",
        "outputId": "7ce1cb6c-2a90-4cdd-d79e-e130e7f8c5ef"
      },
      "execution_count": 12,
      "outputs": [
        {
          "output_type": "execute_result",
          "data": {
            "text/plain": [
              "[('NLP', 'is'),\n",
              " ('is', 'basic'),\n",
              " ('basic', 'building'),\n",
              " ('building', 'block'),\n",
              " ('block', 'to'),\n",
              " ('to', 'build'),\n",
              " ('build', 'llm'),\n",
              " ('llm', 'model'),\n",
              " ('model', '.'),\n",
              " ('.', 'ChatGPT'),\n",
              " ('ChatGPT', 'is'),\n",
              " ('is', 'an'),\n",
              " ('an', 'advanced'),\n",
              " ('advanced', 'language'),\n",
              " ('language', 'model'),\n",
              " ('model', 'developed'),\n",
              " ('developed', 'by'),\n",
              " ('by', 'openAI'),\n",
              " ('openAI', ','),\n",
              " (',', 'based'),\n",
              " ('based', 'on'),\n",
              " ('on', 'the'),\n",
              " ('the', 'GPT'),\n",
              " ('GPT', '('),\n",
              " ('(', 'Generative'),\n",
              " ('Generative', 'Pre-Tranformer'),\n",
              " ('Pre-Tranformer', ')'),\n",
              " (')', 'architecture'),\n",
              " ('architecture', '.'),\n",
              " ('.', 'Specifically'),\n",
              " ('Specifically', ','),\n",
              " (',', 'ChatGPT'),\n",
              " ('ChatGPT', 'belong'),\n",
              " ('belong', 'to'),\n",
              " ('to', 'the'),\n",
              " ('the', 'series'),\n",
              " ('series', 'of'),\n",
              " ('of', 'GPT'),\n",
              " ('GPT', 'models'),\n",
              " ('models', ','),\n",
              " (',', 'with'),\n",
              " ('with', 'GPT-4'),\n",
              " ('GPT-4', 'being'),\n",
              " ('being', 'one'),\n",
              " ('one', 'of'),\n",
              " ('of', 'the'),\n",
              " ('the', 'latest'),\n",
              " ('latest', 'versions'),\n",
              " ('versions', '.'),\n",
              " ('.', 'These'),\n",
              " ('These', 'models'),\n",
              " ('models', 'are'),\n",
              " ('are', 'designed'),\n",
              " ('designed', 'to'),\n",
              " ('to', 'understand'),\n",
              " ('understand', 'and'),\n",
              " ('and', 'generate'),\n",
              " ('generate', 'human-like'),\n",
              " ('human-like', 'text'),\n",
              " ('text', 'based'),\n",
              " ('based', 'on'),\n",
              " ('on', 'the'),\n",
              " ('the', 'input'),\n",
              " ('input', 'they'),\n",
              " ('they', 'receive'),\n",
              " ('receive', '.')]"
            ]
          },
          "metadata": {},
          "execution_count": 12
        }
      ]
    },
    {
      "cell_type": "code",
      "source": [
        "# bigrams using sentence\n",
        "sentence_bigrams = list(bigrams(s_tokens))\n",
        "sentence_bigrams"
      ],
      "metadata": {
        "colab": {
          "base_uri": "https://localhost:8080/"
        },
        "id": "SeHM3gH-PVJH",
        "outputId": "666c2ff1-c0b3-42b9-9ce0-e45dd71eca41"
      },
      "execution_count": 13,
      "outputs": [
        {
          "output_type": "execute_result",
          "data": {
            "text/plain": [
              "[('NLP is basic building block to build llm model.',\n",
              "  'ChatGPT is an advanced language model developed by openAI, based on the GPT(Generative Pre-Tranformer) architecture.'),\n",
              " ('ChatGPT is an advanced language model developed by openAI, based on the GPT(Generative Pre-Tranformer) architecture.',\n",
              "  'Specifically, ChatGPT belong to the series of GPT models,with GPT-4 being one of the latest versions.'),\n",
              " ('Specifically, ChatGPT belong to the series of GPT models,with GPT-4 being one of the latest versions.',\n",
              "  'These models are designed to understand and generate human-like text based on the input they receive.')]"
            ]
          },
          "metadata": {},
          "execution_count": 13
        }
      ]
    },
    {
      "cell_type": "code",
      "source": [
        "t = list(nltk.trigrams(w_tokens))\n",
        "print(t)"
      ],
      "metadata": {
        "colab": {
          "base_uri": "https://localhost:8080/"
        },
        "id": "MFIJOBh3RmaA",
        "outputId": "f34bb619-9cb7-4734-a399-03dd3e4b62c2"
      },
      "execution_count": 14,
      "outputs": [
        {
          "output_type": "stream",
          "name": "stdout",
          "text": [
            "[('NLP', 'is', 'basic'), ('is', 'basic', 'building'), ('basic', 'building', 'block'), ('building', 'block', 'to'), ('block', 'to', 'build'), ('to', 'build', 'llm'), ('build', 'llm', 'model'), ('llm', 'model', '.'), ('model', '.', 'ChatGPT'), ('.', 'ChatGPT', 'is'), ('ChatGPT', 'is', 'an'), ('is', 'an', 'advanced'), ('an', 'advanced', 'language'), ('advanced', 'language', 'model'), ('language', 'model', 'developed'), ('model', 'developed', 'by'), ('developed', 'by', 'openAI'), ('by', 'openAI', ','), ('openAI', ',', 'based'), (',', 'based', 'on'), ('based', 'on', 'the'), ('on', 'the', 'GPT'), ('the', 'GPT', '('), ('GPT', '(', 'Generative'), ('(', 'Generative', 'Pre-Tranformer'), ('Generative', 'Pre-Tranformer', ')'), ('Pre-Tranformer', ')', 'architecture'), (')', 'architecture', '.'), ('architecture', '.', 'Specifically'), ('.', 'Specifically', ','), ('Specifically', ',', 'ChatGPT'), (',', 'ChatGPT', 'belong'), ('ChatGPT', 'belong', 'to'), ('belong', 'to', 'the'), ('to', 'the', 'series'), ('the', 'series', 'of'), ('series', 'of', 'GPT'), ('of', 'GPT', 'models'), ('GPT', 'models', ','), ('models', ',', 'with'), (',', 'with', 'GPT-4'), ('with', 'GPT-4', 'being'), ('GPT-4', 'being', 'one'), ('being', 'one', 'of'), ('one', 'of', 'the'), ('of', 'the', 'latest'), ('the', 'latest', 'versions'), ('latest', 'versions', '.'), ('versions', '.', 'These'), ('.', 'These', 'models'), ('These', 'models', 'are'), ('models', 'are', 'designed'), ('are', 'designed', 'to'), ('designed', 'to', 'understand'), ('to', 'understand', 'and'), ('understand', 'and', 'generate'), ('and', 'generate', 'human-like'), ('generate', 'human-like', 'text'), ('human-like', 'text', 'based'), ('text', 'based', 'on'), ('based', 'on', 'the'), ('on', 'the', 'input'), ('the', 'input', 'they'), ('input', 'they', 'receive'), ('they', 'receive', '.')]\n"
          ]
        }
      ]
    },
    {
      "cell_type": "code",
      "source": [
        "n = list(nltk.ngrams(w_tokens,5))\n",
        "print(n)"
      ],
      "metadata": {
        "colab": {
          "base_uri": "https://localhost:8080/"
        },
        "id": "aDeJ2EpnRmTB",
        "outputId": "34c5701a-6c95-4ac1-c951-ff5e0d168538"
      },
      "execution_count": 15,
      "outputs": [
        {
          "output_type": "stream",
          "name": "stdout",
          "text": [
            "[('NLP', 'is', 'basic', 'building', 'block'), ('is', 'basic', 'building', 'block', 'to'), ('basic', 'building', 'block', 'to', 'build'), ('building', 'block', 'to', 'build', 'llm'), ('block', 'to', 'build', 'llm', 'model'), ('to', 'build', 'llm', 'model', '.'), ('build', 'llm', 'model', '.', 'ChatGPT'), ('llm', 'model', '.', 'ChatGPT', 'is'), ('model', '.', 'ChatGPT', 'is', 'an'), ('.', 'ChatGPT', 'is', 'an', 'advanced'), ('ChatGPT', 'is', 'an', 'advanced', 'language'), ('is', 'an', 'advanced', 'language', 'model'), ('an', 'advanced', 'language', 'model', 'developed'), ('advanced', 'language', 'model', 'developed', 'by'), ('language', 'model', 'developed', 'by', 'openAI'), ('model', 'developed', 'by', 'openAI', ','), ('developed', 'by', 'openAI', ',', 'based'), ('by', 'openAI', ',', 'based', 'on'), ('openAI', ',', 'based', 'on', 'the'), (',', 'based', 'on', 'the', 'GPT'), ('based', 'on', 'the', 'GPT', '('), ('on', 'the', 'GPT', '(', 'Generative'), ('the', 'GPT', '(', 'Generative', 'Pre-Tranformer'), ('GPT', '(', 'Generative', 'Pre-Tranformer', ')'), ('(', 'Generative', 'Pre-Tranformer', ')', 'architecture'), ('Generative', 'Pre-Tranformer', ')', 'architecture', '.'), ('Pre-Tranformer', ')', 'architecture', '.', 'Specifically'), (')', 'architecture', '.', 'Specifically', ','), ('architecture', '.', 'Specifically', ',', 'ChatGPT'), ('.', 'Specifically', ',', 'ChatGPT', 'belong'), ('Specifically', ',', 'ChatGPT', 'belong', 'to'), (',', 'ChatGPT', 'belong', 'to', 'the'), ('ChatGPT', 'belong', 'to', 'the', 'series'), ('belong', 'to', 'the', 'series', 'of'), ('to', 'the', 'series', 'of', 'GPT'), ('the', 'series', 'of', 'GPT', 'models'), ('series', 'of', 'GPT', 'models', ','), ('of', 'GPT', 'models', ',', 'with'), ('GPT', 'models', ',', 'with', 'GPT-4'), ('models', ',', 'with', 'GPT-4', 'being'), (',', 'with', 'GPT-4', 'being', 'one'), ('with', 'GPT-4', 'being', 'one', 'of'), ('GPT-4', 'being', 'one', 'of', 'the'), ('being', 'one', 'of', 'the', 'latest'), ('one', 'of', 'the', 'latest', 'versions'), ('of', 'the', 'latest', 'versions', '.'), ('the', 'latest', 'versions', '.', 'These'), ('latest', 'versions', '.', 'These', 'models'), ('versions', '.', 'These', 'models', 'are'), ('.', 'These', 'models', 'are', 'designed'), ('These', 'models', 'are', 'designed', 'to'), ('models', 'are', 'designed', 'to', 'understand'), ('are', 'designed', 'to', 'understand', 'and'), ('designed', 'to', 'understand', 'and', 'generate'), ('to', 'understand', 'and', 'generate', 'human-like'), ('understand', 'and', 'generate', 'human-like', 'text'), ('and', 'generate', 'human-like', 'text', 'based'), ('generate', 'human-like', 'text', 'based', 'on'), ('human-like', 'text', 'based', 'on', 'the'), ('text', 'based', 'on', 'the', 'input'), ('based', 'on', 'the', 'input', 'they'), ('on', 'the', 'input', 'they', 'receive'), ('the', 'input', 'they', 'receive', '.')]\n"
          ]
        }
      ]
    },
    {
      "cell_type": "code",
      "source": [
        "# ng = list(nltk.ngrams(w_tokens))\n",
        "# TypeError: ngrams() missing 1 required positional argument: 'n'"
      ],
      "metadata": {
        "id": "vJobDoxLRmNb"
      },
      "execution_count": 16,
      "outputs": []
    },
    {
      "cell_type": "markdown",
      "source": [
        "## **Tokenization Using spacy**\n",
        "\n",
        "Efficient NLP processing"
      ],
      "metadata": {
        "id": "36Fok-G1Nnhb"
      }
    },
    {
      "cell_type": "code",
      "source": [
        "import spacy\n",
        "nlp = spacy.load('en_core_web_sm')"
      ],
      "metadata": {
        "id": "i5dxf8oORmIK"
      },
      "execution_count": 17,
      "outputs": []
    },
    {
      "cell_type": "code",
      "source": [
        "sent = \"Twitter CEO Elon Musk arrived at the Staples Center in Los Angeles, California.\""
      ],
      "metadata": {
        "id": "XpM-Pfj8_KqP"
      },
      "execution_count": 18,
      "outputs": []
    },
    {
      "cell_type": "code",
      "source": [
        "doc =nlp(sent)\n",
        "print(type(doc))\n",
        "doc"
      ],
      "metadata": {
        "colab": {
          "base_uri": "https://localhost:8080/"
        },
        "id": "2R1nQsZIRmC7",
        "outputId": "288b8d5d-27f1-441c-a0db-475bcede9d3d"
      },
      "execution_count": 19,
      "outputs": [
        {
          "output_type": "stream",
          "name": "stdout",
          "text": [
            "<class 'spacy.tokens.doc.Doc'>\n"
          ]
        },
        {
          "output_type": "execute_result",
          "data": {
            "text/plain": [
              "Twitter CEO Elon Musk arrived at the Staples Center in Los Angeles, California."
            ]
          },
          "metadata": {},
          "execution_count": 19
        }
      ]
    },
    {
      "cell_type": "code",
      "source": [
        "tokens = [token.text for token in doc]\n",
        "print(type(tokens))\n",
        "print(tokens)"
      ],
      "metadata": {
        "colab": {
          "base_uri": "https://localhost:8080/"
        },
        "id": "HhAGKLkDRl-M",
        "outputId": "43a41306-fbe6-45eb-d426-252cbf884ada"
      },
      "execution_count": 20,
      "outputs": [
        {
          "output_type": "stream",
          "name": "stdout",
          "text": [
            "<class 'list'>\n",
            "['Twitter', 'CEO', 'Elon', 'Musk', 'arrived', 'at', 'the', 'Staples', 'Center', 'in', 'Los', 'Angeles', ',', 'California', '.']\n"
          ]
        }
      ]
    },
    {
      "cell_type": "markdown",
      "source": [
        "## **Subword Tokenization (Byte-Pair Encoding - BPE)**\n",
        "\n",
        "used in deep learning models"
      ],
      "metadata": {
        "id": "PEnRU7R-O2JT"
      }
    },
    {
      "cell_type": "code",
      "source": [
        "from transformers import AutoTokenizer\n"
      ],
      "metadata": {
        "id": "6zPcu8bDPO-v"
      },
      "execution_count": 21,
      "outputs": []
    },
    {
      "cell_type": "code",
      "source": [
        "t = AutoTokenizer.from_pretrained('bert-base-uncased')\n",
        "tokens = t.tokenize('Twitter CEO Elon Musk arrived at the Staples Center in Los Angeles')\n",
        "print(tokens)"
      ],
      "metadata": {
        "colab": {
          "base_uri": "https://localhost:8080/"
        },
        "id": "NcKTKbCUPOxz",
        "outputId": "97c26389-85bf-472c-d3be-5f863d11c734"
      },
      "execution_count": 22,
      "outputs": [
        {
          "output_type": "stream",
          "name": "stderr",
          "text": [
            "/usr/local/lib/python3.11/dist-packages/huggingface_hub/utils/_auth.py:94: UserWarning: \n",
            "The secret `HF_TOKEN` does not exist in your Colab secrets.\n",
            "To authenticate with the Hugging Face Hub, create a token in your settings tab (https://huggingface.co/settings/tokens), set it as secret in your Google Colab and restart your session.\n",
            "You will be able to reuse this secret in all of your notebooks.\n",
            "Please note that authentication is recommended but still optional to access public models or datasets.\n",
            "  warnings.warn(\n"
          ]
        },
        {
          "output_type": "stream",
          "name": "stdout",
          "text": [
            "['twitter', 'ceo', 'el', '##on', 'mu', '##sk', 'arrived', 'at', 'the', 'staples', 'center', 'in', 'los', 'angeles']\n"
          ]
        }
      ]
    },
    {
      "cell_type": "code",
      "source": [
        "print(type(tokens),type(t))"
      ],
      "metadata": {
        "colab": {
          "base_uri": "https://localhost:8080/"
        },
        "id": "OAoCAVd8POkC",
        "outputId": "f368e2a2-c73d-4239-a9e0-343be1ff23ce"
      },
      "execution_count": 23,
      "outputs": [
        {
          "output_type": "stream",
          "name": "stdout",
          "text": [
            "<class 'list'> <class 'transformers.models.bert.tokenization_bert_fast.BertTokenizerFast'>\n"
          ]
        }
      ]
    },
    {
      "cell_type": "markdown",
      "source": [
        "# **Stemming**\n",
        "Stemming is a Natural Language Processing (NLP) technique used to reduce words to their root or base form. It removes suffixes and prefixes from words to obtain their \"stem,\" which helps in text processing tasks like search engines, sentiment analysis, and machine learning models.\n",
        "\n",
        "**Types of Stemming Algorithms**\n",
        "1. Porter Stemmer\n",
        "2. Snowball Stemmer\n",
        "3. Lancaster Stemmer"
      ],
      "metadata": {
        "id": "Od1zoGddTPjX"
      }
    },
    {
      "cell_type": "markdown",
      "source": [
        "## **1. Porter Stemmer**\n",
        "The Porter Stemmer is a widely used algorithm that applies a series of heuristic rules to remove common English suffixes.\n",
        "\n",
        " **The algorithm follows multiple steps:**\n",
        "*   Remove common plural suffixes →\n",
        "(\"caresses\" → \"caress\")\n",
        "*   Convert verb forms → (\"running\" → \"run\")\n",
        "*   Remove adverbial suffixes → (\"happily\" → \"happi\")\n",
        "\n",
        "### **Advantages**\n",
        "✔️ **Fast and widely used**\n",
        "\n",
        "✔️ Reduces words effectively\n",
        "### **Disadvantages**\n",
        "❌ Sometimes over-stems, producing incorrect stems\n",
        "\n",
        "❌ Cannot handle irregular words properly (e.g., \"went\" → \"went\")"
      ],
      "metadata": {
        "id": "CfC7S-JlXtF0"
      }
    },
    {
      "cell_type": "code",
      "source": [
        "from nltk.stem import PorterStemmer\n",
        "ps = PorterStemmer()"
      ],
      "metadata": {
        "id": "XzQSk49MPOdN"
      },
      "execution_count": 24,
      "outputs": []
    },
    {
      "cell_type": "code",
      "source": [
        "a =  ['having',\"caresses\", \"running\", \"happily\", \"studies\", \"national\",\n",
        "          'maximum','effective',\"flying\"]\n",
        "print(a)\n",
        "lc = [ps.stem(word) for word in a]\n",
        "print(lc)\n"
      ],
      "metadata": {
        "colab": {
          "base_uri": "https://localhost:8080/"
        },
        "id": "5PjQgvUKaJKM",
        "outputId": "319c0bdb-6e0d-426e-b504-cf16e89b7ad5"
      },
      "execution_count": 25,
      "outputs": [
        {
          "output_type": "stream",
          "name": "stdout",
          "text": [
            "['having', 'caresses', 'running', 'happily', 'studies', 'national', 'maximum', 'effective', 'flying']\n",
            "['have', 'caress', 'run', 'happili', 'studi', 'nation', 'maximum', 'effect', 'fli']\n"
          ]
        }
      ]
    },
    {
      "cell_type": "code",
      "source": [
        "for word in a:\n",
        "  print(word + ' : ' + ps.stem(word))"
      ],
      "metadata": {
        "colab": {
          "base_uri": "https://localhost:8080/"
        },
        "id": "Vn4JLpG1eA3u",
        "outputId": "6e551a36-2951-469f-ae3c-2ea9da4dd6ba"
      },
      "execution_count": 26,
      "outputs": [
        {
          "output_type": "stream",
          "name": "stdout",
          "text": [
            "having : have\n",
            "caresses : caress\n",
            "running : run\n",
            "happily : happili\n",
            "studies : studi\n",
            "national : nation\n",
            "maximum : maximum\n",
            "effective : effect\n",
            "flying : fli\n"
          ]
        }
      ]
    },
    {
      "cell_type": "markdown",
      "source": [
        "## **2. Snowball Stemmer (Porter2)**\n",
        "An improved version of the Porter Stemmer, the Snowball Stemmer supports multiple languages and offers better accuracy.\n",
        "\n",
        "### **Advantages:**\n",
        "✔️ More accurate than the Porter Stemmer\n",
        "\n",
        "✔️ Supports multiple languages\n",
        "### **Disadvantages:**\n",
        "❌ Slightly slower than Porter\n"
      ],
      "metadata": {
        "id": "H_R7vbnFZDWg"
      }
    },
    {
      "cell_type": "code",
      "source": [
        "from nltk.stem import SnowballStemmer\n",
        "ss = SnowballStemmer('english')\n",
        "words =  ['having',\"caresses\", \"running\", \"happily\", \"studies\", \"national\",\n",
        "          'maximum','effective',\"flying\"]\n",
        "for word in words:\n",
        "      print(word + ' : ' + ss.stem(word))\n",
        "ss_words = [ss.stem(word) for word in words]\n",
        "print(ss_words)"
      ],
      "metadata": {
        "colab": {
          "base_uri": "https://localhost:8080/"
        },
        "id": "-rA3t4uUd-9d",
        "outputId": "da8fed43-a30a-4528-8ec3-db553b01c200"
      },
      "execution_count": 27,
      "outputs": [
        {
          "output_type": "stream",
          "name": "stdout",
          "text": [
            "having : have\n",
            "caresses : caress\n",
            "running : run\n",
            "happily : happili\n",
            "studies : studi\n",
            "national : nation\n",
            "maximum : maximum\n",
            "effective : effect\n",
            "flying : fli\n",
            "['have', 'caress', 'run', 'happili', 'studi', 'nation', 'maximum', 'effect', 'fli']\n"
          ]
        }
      ]
    },
    {
      "cell_type": "markdown",
      "source": [
        "## **3. Lancaster Stemmer**\n",
        "The Lancaster Stemmer is more aggressive than the Porter Stemmer and reduces words more drastically.\n",
        "\n",
        "### **Advantages:**\n",
        "✔️ Very fast and efficient\n",
        "\n",
        "### **Disadvantages:**\n",
        "❌ Over-stemming leads to loss of meaning"
      ],
      "metadata": {
        "id": "250yARZsZEB-"
      }
    },
    {
      "cell_type": "code",
      "source": [
        "from nltk.stem import LancasterStemmer\n",
        "ls = LancasterStemmer()\n",
        "words =  ['having',\"caresses\", \"running\", \"happily\", \"studies\", \"national\",\n",
        "          'maximum','effective',\"flying\"]\n",
        "r_word_ls = [[word, ls.stem(word)] for word in words]\n",
        "print(r_word_ls)\n",
        "print(type(r_word_ls))\n",
        "dict(r_word_ls)"
      ],
      "metadata": {
        "colab": {
          "base_uri": "https://localhost:8080/"
        },
        "id": "NM7biforaI7x",
        "outputId": "107148ee-0f78-43e5-a097-54f02a4dfee9"
      },
      "execution_count": 28,
      "outputs": [
        {
          "output_type": "stream",
          "name": "stdout",
          "text": [
            "[['having', 'hav'], ['caresses', 'caress'], ['running', 'run'], ['happily', 'happy'], ['studies', 'study'], ['national', 'nat'], ['maximum', 'maxim'], ['effective', 'effect'], ['flying', 'fly']]\n",
            "<class 'list'>\n"
          ]
        },
        {
          "output_type": "execute_result",
          "data": {
            "text/plain": [
              "{'having': 'hav',\n",
              " 'caresses': 'caress',\n",
              " 'running': 'run',\n",
              " 'happily': 'happy',\n",
              " 'studies': 'study',\n",
              " 'national': 'nat',\n",
              " 'maximum': 'maxim',\n",
              " 'effective': 'effect',\n",
              " 'flying': 'fly'}"
            ]
          },
          "metadata": {},
          "execution_count": 28
        }
      ]
    },
    {
      "cell_type": "markdown",
      "source": [
        "# **Lemmatization**\n",
        "Lemmatization is an advanced Natural Language Processing (NLP) technique used to convert a word to its dictionary or base form (lemma) by considering its context and part of speech (POS). Unlike stemming, which just chops off suffixes, lemmatization ensures that the root word is a valid word in the language.\n"
      ],
      "metadata": {
        "id": "U3OaSC0rZF-m"
      }
    },
    {
      "cell_type": "code",
      "source": [
        "import nltk\n",
        "from  nltk.stem import wordnet\n",
        "from nltk.stem import WordNetLemmatizer\n",
        "\n",
        "# Download WordNet data (if not already installed)\n",
        "nltk.download('wordnet')\n"
      ],
      "metadata": {
        "colab": {
          "base_uri": "https://localhost:8080/"
        },
        "id": "YXQfEEPlZMrr",
        "outputId": "b7b7cf10-f8e7-42b1-bc05-1f473eae365d"
      },
      "execution_count": 29,
      "outputs": [
        {
          "output_type": "stream",
          "name": "stderr",
          "text": [
            "[nltk_data] Downloading package wordnet to /root/nltk_data...\n",
            "[nltk_data]   Package wordnet is already up-to-date!\n"
          ]
        },
        {
          "output_type": "execute_result",
          "data": {
            "text/plain": [
              "True"
            ]
          },
          "metadata": {},
          "execution_count": 29
        }
      ]
    },
    {
      "cell_type": "code",
      "source": [
        "lemmatizer = WordNetLemmatizer()\n",
        "wds =  ['having',\"caresses\", \"running\", \"happily\", \"studies\", \"national\",\n",
        "          'maximum','effective',\"flying\"]\n",
        "words_wl = [[word, lemmatizer.lemmatize(word)] for word in wds]\n",
        "words_wl"
      ],
      "metadata": {
        "colab": {
          "base_uri": "https://localhost:8080/"
        },
        "id": "ZPD38pBiFBEU",
        "outputId": "6771d7ea-7c7f-44f2-9fc5-6cdc97c520aa"
      },
      "execution_count": 30,
      "outputs": [
        {
          "output_type": "execute_result",
          "data": {
            "text/plain": [
              "[['having', 'having'],\n",
              " ['caresses', 'caress'],\n",
              " ['running', 'running'],\n",
              " ['happily', 'happily'],\n",
              " ['studies', 'study'],\n",
              " ['national', 'national'],\n",
              " ['maximum', 'maximum'],\n",
              " ['effective', 'effective'],\n",
              " ['flying', 'flying']]"
            ]
          },
          "metadata": {},
          "execution_count": 30
        }
      ]
    },
    {
      "cell_type": "code",
      "source": [
        "from nltk.corpus import wordnet\n",
        "# Initialize WordNet Lemmatizer\n",
        "\n",
        "\n",
        "# Function to get lemma based on POS tagging\n",
        "def lemmatize_word(word, pos=wordnet.NOUN):\n",
        "    return lemmatizer.lemmatize(word, pos)\n",
        "\n",
        "# Test with different words\n",
        "words = [(\"running\", wordnet.VERB), (\"flies\", wordnet.NOUN),\n",
        " (\"better\", wordnet.ADJ), (\"studies\", wordnet.NOUN)]\n",
        "lemmas = [lemmatize_word(word, pos) for word, pos in words]\n",
        "\n",
        "print(lemmas)  # Output: ['run', 'fly', 'good', 'study']"
      ],
      "metadata": {
        "colab": {
          "base_uri": "https://localhost:8080/"
        },
        "id": "TxA-ObHLFBKs",
        "outputId": "bd51bc28-2cef-42cc-8943-c0d4b5b45f8e"
      },
      "execution_count": 31,
      "outputs": [
        {
          "output_type": "stream",
          "name": "stdout",
          "text": [
            "['run', 'fly', 'good', 'study']\n"
          ]
        }
      ]
    },
    {
      "cell_type": "code",
      "source": [
        "ls = [[word,lemmatize_word(word, wordnet.VERB)] for word in wds]\n",
        "ls"
      ],
      "metadata": {
        "colab": {
          "base_uri": "https://localhost:8080/"
        },
        "id": "aGSmoMZl_Ltt",
        "outputId": "ac0879c5-b346-4aa8-f6cb-d863eca3ae8c"
      },
      "execution_count": 32,
      "outputs": [
        {
          "output_type": "execute_result",
          "data": {
            "text/plain": [
              "[['having', 'have'],\n",
              " ['caresses', 'caress'],\n",
              " ['running', 'run'],\n",
              " ['happily', 'happily'],\n",
              " ['studies', 'study'],\n",
              " ['national', 'national'],\n",
              " ['maximum', 'maximum'],\n",
              " ['effective', 'effective'],\n",
              " ['flying', 'fly']]"
            ]
          },
          "metadata": {},
          "execution_count": 32
        }
      ]
    },
    {
      "cell_type": "markdown",
      "source": [
        "## **Lemmatization Using Spacy Liabrary**"
      ],
      "metadata": {
        "id": "lhWkNQ7j_5fO"
      }
    },
    {
      "cell_type": "code",
      "source": [
        "import spacy"
      ],
      "metadata": {
        "id": "y3J-FWRzAHY7"
      },
      "execution_count": 33,
      "outputs": []
    },
    {
      "cell_type": "code",
      "source": [
        "# Load Spacy English language model\n",
        "nlp = spacy.load('en_core_web_sm')"
      ],
      "metadata": {
        "id": "WGFMPFKRALDU"
      },
      "execution_count": 34,
      "outputs": []
    },
    {
      "cell_type": "code",
      "source": [
        "sentence = \"The children are running and playing happily.\"\n",
        "doc = nlp(sentence)\n",
        "ls = [ word.lemma_ for word in doc]\n",
        "print(\" \".join(ls))\n",
        "print(type(ls))"
      ],
      "metadata": {
        "colab": {
          "base_uri": "https://localhost:8080/"
        },
        "id": "iE8lv3GkAlyI",
        "outputId": "3ca89630-4214-46f4-9433-d277215651e0"
      },
      "execution_count": 35,
      "outputs": [
        {
          "output_type": "stream",
          "name": "stdout",
          "text": [
            "the child be run and play happily .\n",
            "<class 'list'>\n"
          ]
        }
      ]
    },
    {
      "cell_type": "code",
      "source": [
        "# Function to lemmatize sentence\n",
        "def lemmatize_text(text):\n",
        "    doc = nlp(text)\n",
        "    return \" \".join([token.lemma_ for token in doc])\n",
        "\n",
        "# Example text\n",
        "sentence = \"The children are running and playing happily.\"\n",
        "lemmatized_sentence = lemmatize_text(sentence)\n",
        "\n",
        "print(lemmatized_sentence)\n",
        "# Output: 'the child be run and play happily .'"
      ],
      "metadata": {
        "colab": {
          "base_uri": "https://localhost:8080/"
        },
        "id": "LxpPmZWv_L0r",
        "outputId": "dbe19c6f-3c68-4e29-d61c-5c4760b8b6d7"
      },
      "execution_count": 36,
      "outputs": [
        {
          "output_type": "stream",
          "name": "stdout",
          "text": [
            "the child be run and play happily .\n"
          ]
        }
      ]
    },
    {
      "cell_type": "markdown",
      "source": [
        "# **POS (Parts of Speech)**\n",
        "\n",
        "Part-of-Speech (POS) tagging is the process of assigning grammatical categories (such as noun, verb, adjective, etc.) to words in a sentence. It is a crucial step in Natural Language Processing (NLP) that helps computers understand the structure of a sentence."
      ],
      "metadata": {
        "id": "zPJmvgE6IMh8"
      }
    },
    {
      "cell_type": "code",
      "source": [
        "nltk.download('averaged_perceptron_tagger_eng')"
      ],
      "metadata": {
        "colab": {
          "base_uri": "https://localhost:8080/"
        },
        "id": "S4v29iaBKVJM",
        "outputId": "052b86fd-a7c7-4675-ac6b-49373c7f3730"
      },
      "execution_count": 37,
      "outputs": [
        {
          "output_type": "stream",
          "name": "stderr",
          "text": [
            "[nltk_data] Downloading package averaged_perceptron_tagger_eng to\n",
            "[nltk_data]     /root/nltk_data...\n",
            "[nltk_data]   Package averaged_perceptron_tagger_eng is already up-to-\n",
            "[nltk_data]       date!\n"
          ]
        },
        {
          "output_type": "execute_result",
          "data": {
            "text/plain": [
              "True"
            ]
          },
          "metadata": {},
          "execution_count": 37
        }
      ]
    },
    {
      "cell_type": "code",
      "source": [
        "sent = \"Elon Musk arrived at the Staples Center in Los Angeles, California.\"\n",
        "sent"
      ],
      "metadata": {
        "colab": {
          "base_uri": "https://localhost:8080/",
          "height": 0
        },
        "id": "zHU0fgwyIbAb",
        "outputId": "a933c756-7e96-4d51-9cc0-d62ae557a1a5"
      },
      "execution_count": 38,
      "outputs": [
        {
          "output_type": "execute_result",
          "data": {
            "text/plain": [
              "'Elon Musk arrived at the Staples Center in Los Angeles, California.'"
            ],
            "application/vnd.google.colaboratory.intrinsic+json": {
              "type": "string"
            }
          },
          "metadata": {},
          "execution_count": 38
        }
      ]
    },
    {
      "cell_type": "code",
      "source": [
        "sent_tokens = word_tokenize(sent)\n",
        "sent_tokens"
      ],
      "metadata": {
        "colab": {
          "base_uri": "https://localhost:8080/"
        },
        "id": "nJ2mq61_Ia6V",
        "outputId": "5bcbe6a1-29a4-4e49-f861-fba2e2ae1c40"
      },
      "execution_count": 39,
      "outputs": [
        {
          "output_type": "execute_result",
          "data": {
            "text/plain": [
              "['Elon',\n",
              " 'Musk',\n",
              " 'arrived',\n",
              " 'at',\n",
              " 'the',\n",
              " 'Staples',\n",
              " 'Center',\n",
              " 'in',\n",
              " 'Los',\n",
              " 'Angeles',\n",
              " ',',\n",
              " 'California',\n",
              " '.']"
            ]
          },
          "metadata": {},
          "execution_count": 39
        }
      ]
    },
    {
      "cell_type": "code",
      "source": [
        "for token in sent_tokens:\n",
        "  print(nltk.pos_tag([token]))"
      ],
      "metadata": {
        "colab": {
          "base_uri": "https://localhost:8080/"
        },
        "id": "fKaq0tGSIazy",
        "outputId": "a2c72157-0dc0-4ce5-ba17-d9bb91ca922f"
      },
      "execution_count": 40,
      "outputs": [
        {
          "output_type": "stream",
          "name": "stdout",
          "text": [
            "[('Elon', 'NN')]\n",
            "[('Musk', 'NN')]\n",
            "[('arrived', 'VBN')]\n",
            "[('at', 'IN')]\n",
            "[('the', 'DT')]\n",
            "[('Staples', 'NNS')]\n",
            "[('Center', 'NNP')]\n",
            "[('in', 'IN')]\n",
            "[('Los', 'NNP')]\n",
            "[('Angeles', 'NNP')]\n",
            "[(',', ',')]\n",
            "[('California', 'NNP')]\n",
            "[('.', '.')]\n"
          ]
        }
      ]
    },
    {
      "cell_type": "code",
      "source": [
        "import nltk\n",
        "from nltk.tokenize import word_tokenize\n",
        "from nltk import pos_tag\n",
        "\n",
        "# Download required data\n",
        "nltk.download('punkt')\n",
        "nltk.download('averaged_perceptron_tagger')\n",
        "\n",
        "# Sample sentence\n",
        "sentence = \"The quick brown fox jumps over the lazy dog.\"\n",
        "\n"
      ],
      "metadata": {
        "id": "9KqpdcLeaqUH",
        "outputId": "f8bb0506-8d8f-4f9f-dc23-870a430bd513",
        "colab": {
          "base_uri": "https://localhost:8080/"
        }
      },
      "execution_count": 41,
      "outputs": [
        {
          "output_type": "stream",
          "name": "stderr",
          "text": [
            "[nltk_data] Downloading package punkt to /root/nltk_data...\n",
            "[nltk_data]   Package punkt is already up-to-date!\n",
            "[nltk_data] Downloading package averaged_perceptron_tagger to\n",
            "[nltk_data]     /root/nltk_data...\n",
            "[nltk_data]   Package averaged_perceptron_tagger is already up-to-\n",
            "[nltk_data]       date!\n"
          ]
        }
      ]
    },
    {
      "cell_type": "code",
      "source": [
        "# Tokenize and apply POS tagging\n",
        "words = word_tokenize(sentence)\n",
        "pos_tags = pos_tag(words)\n",
        "\n",
        "print(pos_tags)"
      ],
      "metadata": {
        "id": "CY5ucGATaqJ0",
        "outputId": "89cdbec0-3eae-4ee6-d0ea-4fa07c9832a8",
        "colab": {
          "base_uri": "https://localhost:8080/"
        }
      },
      "execution_count": 42,
      "outputs": [
        {
          "output_type": "stream",
          "name": "stdout",
          "text": [
            "[('The', 'DT'), ('quick', 'JJ'), ('brown', 'NN'), ('fox', 'NN'), ('jumps', 'VBZ'), ('over', 'IN'), ('the', 'DT'), ('lazy', 'JJ'), ('dog', 'NN'), ('.', '.')]\n"
          ]
        }
      ]
    },
    {
      "cell_type": "markdown",
      "source": [
        "## **POS Using Spacy Liabrary**\n"
      ],
      "metadata": {
        "id": "Vh4gnZ6na7eR"
      }
    },
    {
      "cell_type": "code",
      "source": [
        "import spacy\n",
        "\n",
        "# Load English language model\n",
        "nlp = spacy.load(\"en_core_web_sm\")\n",
        "\n",
        "# Sample text\n",
        "sentence = \"The quick brown fox jumps over the lazy dog.\"\n",
        "\n"
      ],
      "metadata": {
        "id": "w5wf6Bxoa7JA"
      },
      "execution_count": 43,
      "outputs": []
    },
    {
      "cell_type": "code",
      "source": [
        "# Process text with spaCy\n",
        "doc = nlp(sentence)\n",
        "\n",
        "# Print POS tags\n",
        "for token in doc:\n",
        "    print(f\"{token.text} -> {token.pos_} ({token.tag_})\")"
      ],
      "metadata": {
        "id": "JSyqqEcEbNs9",
        "outputId": "1d124998-a2e3-41d8-a539-ae9ea1b4fd57",
        "colab": {
          "base_uri": "https://localhost:8080/"
        }
      },
      "execution_count": 44,
      "outputs": [
        {
          "output_type": "stream",
          "name": "stdout",
          "text": [
            "The -> DET (DT)\n",
            "quick -> ADJ (JJ)\n",
            "brown -> ADJ (JJ)\n",
            "fox -> NOUN (NN)\n",
            "jumps -> VERB (VBZ)\n",
            "over -> ADP (IN)\n",
            "the -> DET (DT)\n",
            "lazy -> ADJ (JJ)\n",
            "dog -> NOUN (NN)\n",
            ". -> PUNCT (.)\n"
          ]
        }
      ]
    },
    {
      "cell_type": "markdown",
      "source": [
        " # **STOPWORDS**\n",
        " Stopwords are commonly used words (such as \"is,\" \"the,\" \"and,\" \"in,\" etc.) that do not carry significant meaning and are often removed from text data in Natural Language Processing (NLP) tasks to improve efficiency and accuracy."
      ],
      "metadata": {
        "id": "jpFkzIU3CZ09"
      }
    },
    {
      "cell_type": "code",
      "source": [
        "from nltk.corpus import stopwords\n",
        "nltk.download('stopwords')"
      ],
      "metadata": {
        "colab": {
          "base_uri": "https://localhost:8080/"
        },
        "id": "Ggopi1TrFA9L",
        "outputId": "95c85c9c-3a52-4c8a-ba19-d716e464f6ca"
      },
      "execution_count": 45,
      "outputs": [
        {
          "output_type": "stream",
          "name": "stderr",
          "text": [
            "[nltk_data] Downloading package stopwords to /root/nltk_data...\n",
            "[nltk_data]   Package stopwords is already up-to-date!\n"
          ]
        },
        {
          "output_type": "execute_result",
          "data": {
            "text/plain": [
              "True"
            ]
          },
          "metadata": {},
          "execution_count": 45
        }
      ]
    },
    {
      "cell_type": "code",
      "source": [
        "print(stopwords.words('english'))"
      ],
      "metadata": {
        "colab": {
          "base_uri": "https://localhost:8080/"
        },
        "id": "v5rlgJBsFA2x",
        "outputId": "5bf46b71-818d-434a-a2bf-9417d5fa1951"
      },
      "execution_count": 46,
      "outputs": [
        {
          "output_type": "stream",
          "name": "stdout",
          "text": [
            "['a', 'about', 'above', 'after', 'again', 'against', 'ain', 'all', 'am', 'an', 'and', 'any', 'are', 'aren', \"aren't\", 'as', 'at', 'be', 'because', 'been', 'before', 'being', 'below', 'between', 'both', 'but', 'by', 'can', 'couldn', \"couldn't\", 'd', 'did', 'didn', \"didn't\", 'do', 'does', 'doesn', \"doesn't\", 'doing', 'don', \"don't\", 'down', 'during', 'each', 'few', 'for', 'from', 'further', 'had', 'hadn', \"hadn't\", 'has', 'hasn', \"hasn't\", 'have', 'haven', \"haven't\", 'having', 'he', \"he'd\", \"he'll\", 'her', 'here', 'hers', 'herself', \"he's\", 'him', 'himself', 'his', 'how', 'i', \"i'd\", 'if', \"i'll\", \"i'm\", 'in', 'into', 'is', 'isn', \"isn't\", 'it', \"it'd\", \"it'll\", \"it's\", 'its', 'itself', \"i've\", 'just', 'll', 'm', 'ma', 'me', 'mightn', \"mightn't\", 'more', 'most', 'mustn', \"mustn't\", 'my', 'myself', 'needn', \"needn't\", 'no', 'nor', 'not', 'now', 'o', 'of', 'off', 'on', 'once', 'only', 'or', 'other', 'our', 'ours', 'ourselves', 'out', 'over', 'own', 're', 's', 'same', 'shan', \"shan't\", 'she', \"she'd\", \"she'll\", \"she's\", 'should', 'shouldn', \"shouldn't\", \"should've\", 'so', 'some', 'such', 't', 'than', 'that', \"that'll\", 'the', 'their', 'theirs', 'them', 'themselves', 'then', 'there', 'these', 'they', \"they'd\", \"they'll\", \"they're\", \"they've\", 'this', 'those', 'through', 'to', 'too', 'under', 'until', 'up', 've', 'very', 'was', 'wasn', \"wasn't\", 'we', \"we'd\", \"we'll\", \"we're\", 'were', 'weren', \"weren't\", \"we've\", 'what', 'when', 'where', 'which', 'while', 'who', 'whom', 'why', 'will', 'with', 'won', \"won't\", 'wouldn', \"wouldn't\", 'y', 'you', \"you'd\", \"you'll\", 'your', \"you're\", 'yours', 'yourself', 'yourselves', \"you've\"]\n"
          ]
        }
      ]
    },
    {
      "cell_type": "code",
      "source": [
        "len(stopwords.words('english'))"
      ],
      "metadata": {
        "colab": {
          "base_uri": "https://localhost:8080/"
        },
        "id": "uYevsdnfFAqc",
        "outputId": "322fa500-f305-43e9-91ee-f149ddcb1fd9"
      },
      "execution_count": 47,
      "outputs": [
        {
          "output_type": "execute_result",
          "data": {
            "text/plain": [
              "198"
            ]
          },
          "metadata": {},
          "execution_count": 47
        }
      ]
    },
    {
      "cell_type": "code",
      "source": [
        "len(stopwords.words('french'))"
      ],
      "metadata": {
        "colab": {
          "base_uri": "https://localhost:8080/"
        },
        "id": "91SzKcYTFi-k",
        "outputId": "49ee0586-43a1-4e14-f81b-d356ca8957c8"
      },
      "execution_count": 48,
      "outputs": [
        {
          "output_type": "execute_result",
          "data": {
            "text/plain": [
              "157"
            ]
          },
          "metadata": {},
          "execution_count": 48
        }
      ]
    },
    {
      "cell_type": "code",
      "source": [
        "len(stopwords.words('spanish'))"
      ],
      "metadata": {
        "colab": {
          "base_uri": "https://localhost:8080/"
        },
        "id": "1XhViNQ2Fi3b",
        "outputId": "e7c5c698-dcc6-4168-9a64-d0af67171d1a"
      },
      "execution_count": 49,
      "outputs": [
        {
          "output_type": "execute_result",
          "data": {
            "text/plain": [
              "313"
            ]
          },
          "metadata": {},
          "execution_count": 49
        }
      ]
    },
    {
      "cell_type": "code",
      "source": [
        "len(stopwords.words('german'))"
      ],
      "metadata": {
        "colab": {
          "base_uri": "https://localhost:8080/"
        },
        "id": "TbjkFVXZFiwx",
        "outputId": "e685d99c-96f9-4cba-e46e-6bfa3022dfd9"
      },
      "execution_count": 50,
      "outputs": [
        {
          "output_type": "execute_result",
          "data": {
            "text/plain": [
              "232"
            ]
          },
          "metadata": {},
          "execution_count": 50
        }
      ]
    },
    {
      "cell_type": "code",
      "source": [
        "len(stopwords.words('italian'))"
      ],
      "metadata": {
        "colab": {
          "base_uri": "https://localhost:8080/"
        },
        "id": "qbnp27ZxF0ph",
        "outputId": "bd0f7e8e-da7f-426b-80b6-7c16ab22f187"
      },
      "execution_count": 51,
      "outputs": [
        {
          "output_type": "execute_result",
          "data": {
            "text/plain": [
              "279"
            ]
          },
          "metadata": {},
          "execution_count": 51
        }
      ]
    },
    {
      "cell_type": "code",
      "source": [
        "len(stopwords.words('portuguese'))"
      ],
      "metadata": {
        "colab": {
          "base_uri": "https://localhost:8080/"
        },
        "id": "KnjuWrBqF0h6",
        "outputId": "827ba0e7-ca0e-481e-89ef-e2c64612a3ce"
      },
      "execution_count": 52,
      "outputs": [
        {
          "output_type": "execute_result",
          "data": {
            "text/plain": [
              "207"
            ]
          },
          "metadata": {},
          "execution_count": 52
        }
      ]
    },
    {
      "cell_type": "code",
      "source": [
        "len(stopwords.words('chinese'))"
      ],
      "metadata": {
        "colab": {
          "base_uri": "https://localhost:8080/"
        },
        "id": "Vt4t4aubF7X2",
        "outputId": "cd1103cf-bcf8-4218-e6f2-a0b78c39d04d"
      },
      "execution_count": 53,
      "outputs": [
        {
          "output_type": "execute_result",
          "data": {
            "text/plain": [
              "841"
            ]
          },
          "metadata": {},
          "execution_count": 53
        }
      ]
    },
    {
      "cell_type": "markdown",
      "source": [
        "## **stopwords using nltk**"
      ],
      "metadata": {
        "id": "pawdBj9kERCM"
      }
    },
    {
      "cell_type": "code",
      "source": [
        "import nltk\n",
        "from nltk.corpus import stopwords\n",
        "from nltk.tokenize import word_tokenize\n",
        "\n",
        "# Download stopwords list\n",
        "nltk.download('stopwords')\n",
        "nltk.download('punkt')\n",
        "\n",
        "# Load English stopwords\n",
        "stop_words = set(stopwords.words('english'))\n",
        "\n",
        "# Example text\n",
        "text = \"This is an example showing how to remove stopwords from a sentence.\"\n",
        "\n",
        "# Tokenize text\n",
        "words = word_tokenize(text)\n"
      ],
      "metadata": {
        "id": "Fz9rvQf6FAwW",
        "outputId": "07351c8b-1bcb-48b5-b86a-1dcf00c95800",
        "colab": {
          "base_uri": "https://localhost:8080/"
        }
      },
      "execution_count": 54,
      "outputs": [
        {
          "output_type": "stream",
          "name": "stderr",
          "text": [
            "[nltk_data] Downloading package stopwords to /root/nltk_data...\n",
            "[nltk_data]   Package stopwords is already up-to-date!\n",
            "[nltk_data] Downloading package punkt to /root/nltk_data...\n",
            "[nltk_data]   Package punkt is already up-to-date!\n"
          ]
        }
      ]
    },
    {
      "cell_type": "code",
      "source": [
        "# Remove stopwords\n",
        "filtered_words = [word for word in words if word.lower() not in stop_words]\n",
        "\n",
        "print(filtered_words)"
      ],
      "metadata": {
        "id": "Iajnk314XwIp",
        "outputId": "8a0e7271-428d-472c-ad28-784dab524f53",
        "colab": {
          "base_uri": "https://localhost:8080/"
        }
      },
      "execution_count": 55,
      "outputs": [
        {
          "output_type": "stream",
          "name": "stdout",
          "text": [
            "['example', 'showing', 'remove', 'stopwords', 'sentence', '.']\n"
          ]
        }
      ]
    },
    {
      "cell_type": "markdown",
      "source": [
        "## **Stopwords using spacy**"
      ],
      "metadata": {
        "id": "ooxUytH5ElDn"
      }
    },
    {
      "cell_type": "code",
      "source": [
        "import spacy\n",
        "\n",
        "# Load spaCy English model\n",
        "nlp = spacy.load(\"en_core_web_sm\")\n",
        "\n",
        "# Example text\n",
        "text = \"This is an example showing how to remove stopwords from a sentence.\"\n",
        "\n",
        "# Process text with spaCy\n",
        "doc = nlp(text)\n",
        "\n",
        "# Remove stopwords\n",
        "filtered_words = [token.text for token in doc if not token.is_stop]\n",
        "\n",
        "print(filtered_words)\n",
        "\n"
      ],
      "metadata": {
        "id": "6zc-H2bdFAke",
        "outputId": "525ddb0a-43f4-4d22-9afa-83951b9b3a56",
        "colab": {
          "base_uri": "https://localhost:8080/"
        }
      },
      "execution_count": 56,
      "outputs": [
        {
          "output_type": "stream",
          "name": "stdout",
          "text": [
            "['example', 'showing', 'remove', 'stopwords', 'sentence', '.']\n"
          ]
        }
      ]
    },
    {
      "cell_type": "markdown",
      "source": [
        "# **Named Entity Recognition (NER)**"
      ],
      "metadata": {
        "id": "sq68USJzZfDV"
      }
    },
    {
      "cell_type": "code",
      "source": [
        "import nltk\n",
        "from nltk import word_tokenize, pos_tag, ne_chunk\n",
        "nltk.download('maxent_ne_chunker_tab')\n",
        "nltk.download('words')\n",
        "nltk.download('punkt')\n",
        "nltk.download('averaged_perceptron_tagger')"
      ],
      "metadata": {
        "id": "UXgoLLhuga7U",
        "outputId": "aaf5f050-be57-487e-9e04-7e971b5d93c0",
        "colab": {
          "base_uri": "https://localhost:8080/"
        }
      },
      "execution_count": 57,
      "outputs": [
        {
          "output_type": "stream",
          "name": "stderr",
          "text": [
            "[nltk_data] Downloading package maxent_ne_chunker_tab to\n",
            "[nltk_data]     /root/nltk_data...\n",
            "[nltk_data]   Package maxent_ne_chunker_tab is already up-to-date!\n",
            "[nltk_data] Downloading package words to /root/nltk_data...\n",
            "[nltk_data]   Package words is already up-to-date!\n",
            "[nltk_data] Downloading package punkt to /root/nltk_data...\n",
            "[nltk_data]   Package punkt is already up-to-date!\n",
            "[nltk_data] Downloading package averaged_perceptron_tagger to\n",
            "[nltk_data]     /root/nltk_data...\n",
            "[nltk_data]   Package averaged_perceptron_tagger is already up-to-\n",
            "[nltk_data]       date!\n"
          ]
        },
        {
          "output_type": "execute_result",
          "data": {
            "text/plain": [
              "True"
            ]
          },
          "metadata": {},
          "execution_count": 57
        }
      ]
    },
    {
      "cell_type": "code",
      "source": [
        "!pip install svgling"
      ],
      "metadata": {
        "id": "itNzRqzCgmbR",
        "outputId": "ac4e6500-0fd7-4f3f-de03-a86657fce3b2",
        "colab": {
          "base_uri": "https://localhost:8080/"
        }
      },
      "execution_count": 58,
      "outputs": [
        {
          "output_type": "stream",
          "name": "stdout",
          "text": [
            "Requirement already satisfied: svgling in /usr/local/lib/python3.11/dist-packages (0.5.0)\n",
            "Requirement already satisfied: svgwrite in /usr/local/lib/python3.11/dist-packages (from svgling) (1.4.3)\n"
          ]
        }
      ]
    },
    {
      "cell_type": "code",
      "source": [
        "text = \"\"\"Elon Musk, the CEO of Tesla, was born in South Africa and moved\n",
        " to the United States.\"\"\"\n",
        "text"
      ],
      "metadata": {
        "id": "QOKzCC-ie25t",
        "outputId": "6dead933-fb4d-4897-ca3a-7dcb90bd8131",
        "colab": {
          "base_uri": "https://localhost:8080/",
          "height": 55
        }
      },
      "execution_count": 59,
      "outputs": [
        {
          "output_type": "execute_result",
          "data": {
            "text/plain": [
              "'Elon Musk, the CEO of Tesla, was born in South Africa and moved\\n to the United States.'"
            ],
            "application/vnd.google.colaboratory.intrinsic+json": {
              "type": "string"
            }
          },
          "metadata": {},
          "execution_count": 59
        }
      ]
    },
    {
      "cell_type": "code",
      "source": [
        "from nltk import ne_chunk"
      ],
      "metadata": {
        "id": "t_riBmAne29M"
      },
      "execution_count": 60,
      "outputs": []
    },
    {
      "cell_type": "code",
      "source": [
        "ner_tokens = word_tokenize(text)\n",
        "print(ner_tokens)"
      ],
      "metadata": {
        "id": "sR-poQFce3Al",
        "outputId": "d2a45a9c-1255-4d49-d055-bc7e360debc4",
        "colab": {
          "base_uri": "https://localhost:8080/"
        }
      },
      "execution_count": 61,
      "outputs": [
        {
          "output_type": "stream",
          "name": "stdout",
          "text": [
            "['Elon', 'Musk', ',', 'the', 'CEO', 'of', 'Tesla', ',', 'was', 'born', 'in', 'South', 'Africa', 'and', 'moved', 'to', 'the', 'United', 'States', '.']\n"
          ]
        }
      ]
    },
    {
      "cell_type": "code",
      "source": [
        "ner_tag= nltk.pos_tag(ner_tokens)\n",
        "print(ner_tag)\n"
      ],
      "metadata": {
        "id": "YJ7izce-feUz",
        "outputId": "24f316db-cfea-4de8-9395-bcca319f277f",
        "colab": {
          "base_uri": "https://localhost:8080/"
        }
      },
      "execution_count": 62,
      "outputs": [
        {
          "output_type": "stream",
          "name": "stdout",
          "text": [
            "[('Elon', 'NNP'), ('Musk', 'NNP'), (',', ','), ('the', 'DT'), ('CEO', 'NNP'), ('of', 'IN'), ('Tesla', 'NNP'), (',', ','), ('was', 'VBD'), ('born', 'VBN'), ('in', 'IN'), ('South', 'NNP'), ('Africa', 'NNP'), ('and', 'CC'), ('moved', 'VBD'), ('to', 'TO'), ('the', 'DT'), ('United', 'NNP'), ('States', 'NNPS'), ('.', '.')]\n"
          ]
        }
      ]
    },
    {
      "cell_type": "code",
      "source": [
        "ner = ne_chunk(ner_tag)\n",
        "print(ner)"
      ],
      "metadata": {
        "id": "eDrqW84sfeQ0",
        "outputId": "2445846f-b1bc-4213-82af-97b51eabaf3e",
        "colab": {
          "base_uri": "https://localhost:8080/"
        }
      },
      "execution_count": 63,
      "outputs": [
        {
          "output_type": "stream",
          "name": "stdout",
          "text": [
            "(S\n",
            "  (PERSON Elon/NNP)\n",
            "  (GPE Musk/NNP)\n",
            "  ,/,\n",
            "  the/DT\n",
            "  (ORGANIZATION CEO/NNP)\n",
            "  of/IN\n",
            "  (GPE Tesla/NNP)\n",
            "  ,/,\n",
            "  was/VBD\n",
            "  born/VBN\n",
            "  in/IN\n",
            "  (GPE South/NNP Africa/NNP)\n",
            "  and/CC\n",
            "  moved/VBD\n",
            "  to/TO\n",
            "  the/DT\n",
            "  (GPE United/NNP States/NNPS)\n",
            "  ./.)\n"
          ]
        }
      ]
    },
    {
      "cell_type": "code",
      "source": [
        "ner"
      ],
      "metadata": {
        "id": "fCOFYaT4feMf",
        "outputId": "0c90d48e-4357-43ec-9e97-b03df908b1ba",
        "colab": {
          "base_uri": "https://localhost:8080/",
          "height": 210
        }
      },
      "execution_count": 64,
      "outputs": [
        {
          "output_type": "execute_result",
          "data": {
            "text/plain": [
              "Tree('S', [Tree('PERSON', [('Elon', 'NNP')]), Tree('GPE', [('Musk', 'NNP')]), (',', ','), ('the', 'DT'), Tree('ORGANIZATION', [('CEO', 'NNP')]), ('of', 'IN'), Tree('GPE', [('Tesla', 'NNP')]), (',', ','), ('was', 'VBD'), ('born', 'VBN'), ('in', 'IN'), Tree('GPE', [('South', 'NNP'), ('Africa', 'NNP')]), ('and', 'CC'), ('moved', 'VBD'), ('to', 'TO'), ('the', 'DT'), Tree('GPE', [('United', 'NNP'), ('States', 'NNPS')]), ('.', '.')])"
            ],
            "image/svg+xml": "<svg baseProfile=\"full\" height=\"168px\" preserveAspectRatio=\"xMidYMid meet\" style=\"font-family: times, serif; font-weight: normal; font-style: normal; font-size: 16px\" version=\"1.1\" viewBox=\"0,0,960.0,168.0\" width=\"960px\" xmlns=\"http://www.w3.org/2000/svg\" xmlns:ev=\"http://www.w3.org/2001/xml-events\" xmlns:xlink=\"http://www.w3.org/1999/xlink\"><defs /><svg width=\"100%\" x=\"0\" y=\"0px\"><defs /><text text-anchor=\"middle\" x=\"50%\" y=\"16px\">S</text></svg><svg width=\"6.66667%\" x=\"0%\" y=\"48px\"><defs /><svg width=\"100%\" x=\"0\" y=\"0px\"><defs /><text text-anchor=\"middle\" x=\"50%\" y=\"16px\">PERSON</text></svg><svg width=\"100%\" x=\"0%\" y=\"48px\"><defs /><svg width=\"100%\" x=\"0\" y=\"0px\"><defs /><text text-anchor=\"middle\" x=\"50%\" y=\"16px\">Elon</text></svg><svg width=\"100%\" x=\"0%\" y=\"48px\"><defs /><svg width=\"100%\" x=\"0\" y=\"0px\"><defs /><text text-anchor=\"middle\" x=\"50%\" y=\"16px\">NNP</text></svg></svg><line stroke=\"black\" x1=\"50%\" x2=\"50%\" y1=\"20px\" y2=\"48px\" /></svg><line stroke=\"black\" x1=\"50%\" x2=\"50%\" y1=\"20px\" y2=\"48px\" /></svg><line stroke=\"black\" x1=\"50%\" x2=\"3.33333%\" y1=\"20px\" y2=\"48px\" /><svg width=\"5%\" x=\"6.66667%\" y=\"48px\"><defs /><svg width=\"100%\" x=\"0\" y=\"0px\"><defs /><text text-anchor=\"middle\" x=\"50%\" y=\"16px\">GPE</text></svg><svg width=\"100%\" x=\"0%\" y=\"48px\"><defs /><svg width=\"100%\" x=\"0\" y=\"0px\"><defs /><text text-anchor=\"middle\" x=\"50%\" y=\"16px\">Musk</text></svg><svg width=\"100%\" x=\"0%\" y=\"48px\"><defs /><svg width=\"100%\" x=\"0\" y=\"0px\"><defs /><text text-anchor=\"middle\" x=\"50%\" y=\"16px\">NNP</text></svg></svg><line stroke=\"black\" x1=\"50%\" x2=\"50%\" y1=\"20px\" y2=\"48px\" /></svg><line stroke=\"black\" x1=\"50%\" x2=\"50%\" y1=\"20px\" y2=\"48px\" /></svg><line stroke=\"black\" x1=\"50%\" x2=\"9.16667%\" y1=\"20px\" y2=\"48px\" /><svg width=\"2.5%\" x=\"11.6667%\" y=\"48px\"><defs /><svg width=\"100%\" x=\"0\" y=\"0px\"><defs /><text text-anchor=\"middle\" x=\"50%\" y=\"16px\">,</text></svg><svg width=\"100%\" x=\"0%\" y=\"48px\"><defs /><svg width=\"100%\" x=\"0\" y=\"0px\"><defs /><text text-anchor=\"middle\" x=\"50%\" y=\"16px\">,</text></svg></svg><line stroke=\"black\" x1=\"50%\" x2=\"50%\" y1=\"20px\" y2=\"48px\" /></svg><line stroke=\"black\" x1=\"50%\" x2=\"12.9167%\" y1=\"20px\" y2=\"48px\" /><svg width=\"4.16667%\" x=\"14.1667%\" y=\"48px\"><defs /><svg width=\"100%\" x=\"0\" y=\"0px\"><defs /><text text-anchor=\"middle\" x=\"50%\" y=\"16px\">the</text></svg><svg width=\"100%\" x=\"0%\" y=\"48px\"><defs /><svg width=\"100%\" x=\"0\" y=\"0px\"><defs /><text text-anchor=\"middle\" x=\"50%\" y=\"16px\">DT</text></svg></svg><line stroke=\"black\" x1=\"50%\" x2=\"50%\" y1=\"20px\" y2=\"48px\" /></svg><line stroke=\"black\" x1=\"50%\" x2=\"16.25%\" y1=\"20px\" y2=\"48px\" /><svg width=\"11.6667%\" x=\"18.3333%\" y=\"48px\"><defs /><svg width=\"100%\" x=\"0\" y=\"0px\"><defs /><text text-anchor=\"middle\" x=\"50%\" y=\"16px\">ORGANIZATION</text></svg><svg width=\"100%\" x=\"0%\" y=\"48px\"><defs /><svg width=\"100%\" x=\"0\" y=\"0px\"><defs /><text text-anchor=\"middle\" x=\"50%\" y=\"16px\">CEO</text></svg><svg width=\"100%\" x=\"0%\" y=\"48px\"><defs /><svg width=\"100%\" x=\"0\" y=\"0px\"><defs /><text text-anchor=\"middle\" x=\"50%\" y=\"16px\">NNP</text></svg></svg><line stroke=\"black\" x1=\"50%\" x2=\"50%\" y1=\"20px\" y2=\"48px\" /></svg><line stroke=\"black\" x1=\"50%\" x2=\"50%\" y1=\"20px\" y2=\"48px\" /></svg><line stroke=\"black\" x1=\"50%\" x2=\"24.1667%\" y1=\"20px\" y2=\"48px\" /><svg width=\"3.33333%\" x=\"30%\" y=\"48px\"><defs /><svg width=\"100%\" x=\"0\" y=\"0px\"><defs /><text text-anchor=\"middle\" x=\"50%\" y=\"16px\">of</text></svg><svg width=\"100%\" x=\"0%\" y=\"48px\"><defs /><svg width=\"100%\" x=\"0\" y=\"0px\"><defs /><text text-anchor=\"middle\" x=\"50%\" y=\"16px\">IN</text></svg></svg><line stroke=\"black\" x1=\"50%\" x2=\"50%\" y1=\"20px\" y2=\"48px\" /></svg><line stroke=\"black\" x1=\"50%\" x2=\"31.6667%\" y1=\"20px\" y2=\"48px\" /><svg width=\"5.83333%\" x=\"33.3333%\" y=\"48px\"><defs /><svg width=\"100%\" x=\"0\" y=\"0px\"><defs /><text text-anchor=\"middle\" x=\"50%\" y=\"16px\">GPE</text></svg><svg width=\"100%\" x=\"0%\" y=\"48px\"><defs /><svg width=\"100%\" x=\"0\" y=\"0px\"><defs /><text text-anchor=\"middle\" x=\"50%\" y=\"16px\">Tesla</text></svg><svg width=\"100%\" x=\"0%\" y=\"48px\"><defs /><svg width=\"100%\" x=\"0\" y=\"0px\"><defs /><text text-anchor=\"middle\" x=\"50%\" y=\"16px\">NNP</text></svg></svg><line stroke=\"black\" x1=\"50%\" x2=\"50%\" y1=\"20px\" y2=\"48px\" /></svg><line stroke=\"black\" x1=\"50%\" x2=\"50%\" y1=\"20px\" y2=\"48px\" /></svg><line stroke=\"black\" x1=\"50%\" x2=\"36.25%\" y1=\"20px\" y2=\"48px\" /><svg width=\"2.5%\" x=\"39.1667%\" y=\"48px\"><defs /><svg width=\"100%\" x=\"0\" y=\"0px\"><defs /><text text-anchor=\"middle\" x=\"50%\" y=\"16px\">,</text></svg><svg width=\"100%\" x=\"0%\" y=\"48px\"><defs /><svg width=\"100%\" x=\"0\" y=\"0px\"><defs /><text text-anchor=\"middle\" x=\"50%\" y=\"16px\">,</text></svg></svg><line stroke=\"black\" x1=\"50%\" x2=\"50%\" y1=\"20px\" y2=\"48px\" /></svg><line stroke=\"black\" x1=\"50%\" x2=\"40.4167%\" y1=\"20px\" y2=\"48px\" /><svg width=\"4.16667%\" x=\"41.6667%\" y=\"48px\"><defs /><svg width=\"100%\" x=\"0\" y=\"0px\"><defs /><text text-anchor=\"middle\" x=\"50%\" y=\"16px\">was</text></svg><svg width=\"100%\" x=\"0%\" y=\"48px\"><defs /><svg width=\"100%\" x=\"0\" y=\"0px\"><defs /><text text-anchor=\"middle\" x=\"50%\" y=\"16px\">VBD</text></svg></svg><line stroke=\"black\" x1=\"50%\" x2=\"50%\" y1=\"20px\" y2=\"48px\" /></svg><line stroke=\"black\" x1=\"50%\" x2=\"43.75%\" y1=\"20px\" y2=\"48px\" /><svg width=\"5%\" x=\"45.8333%\" y=\"48px\"><defs /><svg width=\"100%\" x=\"0\" y=\"0px\"><defs /><text text-anchor=\"middle\" x=\"50%\" y=\"16px\">born</text></svg><svg width=\"100%\" x=\"0%\" y=\"48px\"><defs /><svg width=\"100%\" x=\"0\" y=\"0px\"><defs /><text text-anchor=\"middle\" x=\"50%\" y=\"16px\">VBN</text></svg></svg><line stroke=\"black\" x1=\"50%\" x2=\"50%\" y1=\"20px\" y2=\"48px\" /></svg><line stroke=\"black\" x1=\"50%\" x2=\"48.3333%\" y1=\"20px\" y2=\"48px\" /><svg width=\"3.33333%\" x=\"50.8333%\" y=\"48px\"><defs /><svg width=\"100%\" x=\"0\" y=\"0px\"><defs /><text text-anchor=\"middle\" x=\"50%\" y=\"16px\">in</text></svg><svg width=\"100%\" x=\"0%\" y=\"48px\"><defs /><svg width=\"100%\" x=\"0\" y=\"0px\"><defs /><text text-anchor=\"middle\" x=\"50%\" y=\"16px\">IN</text></svg></svg><line stroke=\"black\" x1=\"50%\" x2=\"50%\" y1=\"20px\" y2=\"48px\" /></svg><line stroke=\"black\" x1=\"50%\" x2=\"52.5%\" y1=\"20px\" y2=\"48px\" /><svg width=\"12.5%\" x=\"54.1667%\" y=\"48px\"><defs /><svg width=\"100%\" x=\"0\" y=\"0px\"><defs /><text text-anchor=\"middle\" x=\"50%\" y=\"16px\">GPE</text></svg><svg width=\"46.6667%\" x=\"0%\" y=\"48px\"><defs /><svg width=\"100%\" x=\"0\" y=\"0px\"><defs /><text text-anchor=\"middle\" x=\"50%\" y=\"16px\">South</text></svg><svg width=\"100%\" x=\"0%\" y=\"48px\"><defs /><svg width=\"100%\" x=\"0\" y=\"0px\"><defs /><text text-anchor=\"middle\" x=\"50%\" y=\"16px\">NNP</text></svg></svg><line stroke=\"black\" x1=\"50%\" x2=\"50%\" y1=\"20px\" y2=\"48px\" /></svg><line stroke=\"black\" x1=\"50%\" x2=\"23.3333%\" y1=\"20px\" y2=\"48px\" /><svg width=\"53.3333%\" x=\"46.6667%\" y=\"48px\"><defs /><svg width=\"100%\" x=\"0\" y=\"0px\"><defs /><text text-anchor=\"middle\" x=\"50%\" y=\"16px\">Africa</text></svg><svg width=\"100%\" x=\"0%\" y=\"48px\"><defs /><svg width=\"100%\" x=\"0\" y=\"0px\"><defs /><text text-anchor=\"middle\" x=\"50%\" y=\"16px\">NNP</text></svg></svg><line stroke=\"black\" x1=\"50%\" x2=\"50%\" y1=\"20px\" y2=\"48px\" /></svg><line stroke=\"black\" x1=\"50%\" x2=\"73.3333%\" y1=\"20px\" y2=\"48px\" /></svg><line stroke=\"black\" x1=\"50%\" x2=\"60.4167%\" y1=\"20px\" y2=\"48px\" /><svg width=\"4.16667%\" x=\"66.6667%\" y=\"48px\"><defs /><svg width=\"100%\" x=\"0\" y=\"0px\"><defs /><text text-anchor=\"middle\" x=\"50%\" y=\"16px\">and</text></svg><svg width=\"100%\" x=\"0%\" y=\"48px\"><defs /><svg width=\"100%\" x=\"0\" y=\"0px\"><defs /><text text-anchor=\"middle\" x=\"50%\" y=\"16px\">CC</text></svg></svg><line stroke=\"black\" x1=\"50%\" x2=\"50%\" y1=\"20px\" y2=\"48px\" /></svg><line stroke=\"black\" x1=\"50%\" x2=\"68.75%\" y1=\"20px\" y2=\"48px\" /><svg width=\"5.83333%\" x=\"70.8333%\" y=\"48px\"><defs /><svg width=\"100%\" x=\"0\" y=\"0px\"><defs /><text text-anchor=\"middle\" x=\"50%\" y=\"16px\">moved</text></svg><svg width=\"100%\" x=\"0%\" y=\"48px\"><defs /><svg width=\"100%\" x=\"0\" y=\"0px\"><defs /><text text-anchor=\"middle\" x=\"50%\" y=\"16px\">VBD</text></svg></svg><line stroke=\"black\" x1=\"50%\" x2=\"50%\" y1=\"20px\" y2=\"48px\" /></svg><line stroke=\"black\" x1=\"50%\" x2=\"73.75%\" y1=\"20px\" y2=\"48px\" /><svg width=\"3.33333%\" x=\"76.6667%\" y=\"48px\"><defs /><svg width=\"100%\" x=\"0\" y=\"0px\"><defs /><text text-anchor=\"middle\" x=\"50%\" y=\"16px\">to</text></svg><svg width=\"100%\" x=\"0%\" y=\"48px\"><defs /><svg width=\"100%\" x=\"0\" y=\"0px\"><defs /><text text-anchor=\"middle\" x=\"50%\" y=\"16px\">TO</text></svg></svg><line stroke=\"black\" x1=\"50%\" x2=\"50%\" y1=\"20px\" y2=\"48px\" /></svg><line stroke=\"black\" x1=\"50%\" x2=\"78.3333%\" y1=\"20px\" y2=\"48px\" /><svg width=\"4.16667%\" x=\"80%\" y=\"48px\"><defs /><svg width=\"100%\" x=\"0\" y=\"0px\"><defs /><text text-anchor=\"middle\" x=\"50%\" y=\"16px\">the</text></svg><svg width=\"100%\" x=\"0%\" y=\"48px\"><defs /><svg width=\"100%\" x=\"0\" y=\"0px\"><defs /><text text-anchor=\"middle\" x=\"50%\" y=\"16px\">DT</text></svg></svg><line stroke=\"black\" x1=\"50%\" x2=\"50%\" y1=\"20px\" y2=\"48px\" /></svg><line stroke=\"black\" x1=\"50%\" x2=\"82.0833%\" y1=\"20px\" y2=\"48px\" /><svg width=\"13.3333%\" x=\"84.1667%\" y=\"48px\"><defs /><svg width=\"100%\" x=\"0\" y=\"0px\"><defs /><text text-anchor=\"middle\" x=\"50%\" y=\"16px\">GPE</text></svg><svg width=\"50%\" x=\"0%\" y=\"48px\"><defs /><svg width=\"100%\" x=\"0\" y=\"0px\"><defs /><text text-anchor=\"middle\" x=\"50%\" y=\"16px\">United</text></svg><svg width=\"100%\" x=\"0%\" y=\"48px\"><defs /><svg width=\"100%\" x=\"0\" y=\"0px\"><defs /><text text-anchor=\"middle\" x=\"50%\" y=\"16px\">NNP</text></svg></svg><line stroke=\"black\" x1=\"50%\" x2=\"50%\" y1=\"20px\" y2=\"48px\" /></svg><line stroke=\"black\" x1=\"50%\" x2=\"25%\" y1=\"20px\" y2=\"48px\" /><svg width=\"50%\" x=\"50%\" y=\"48px\"><defs /><svg width=\"100%\" x=\"0\" y=\"0px\"><defs /><text text-anchor=\"middle\" x=\"50%\" y=\"16px\">States</text></svg><svg width=\"100%\" x=\"0%\" y=\"48px\"><defs /><svg width=\"100%\" x=\"0\" y=\"0px\"><defs /><text text-anchor=\"middle\" x=\"50%\" y=\"16px\">NNPS</text></svg></svg><line stroke=\"black\" x1=\"50%\" x2=\"50%\" y1=\"20px\" y2=\"48px\" /></svg><line stroke=\"black\" x1=\"50%\" x2=\"75%\" y1=\"20px\" y2=\"48px\" /></svg><line stroke=\"black\" x1=\"50%\" x2=\"90.8333%\" y1=\"20px\" y2=\"48px\" /><svg width=\"2.5%\" x=\"97.5%\" y=\"48px\"><defs /><svg width=\"100%\" x=\"0\" y=\"0px\"><defs /><text text-anchor=\"middle\" x=\"50%\" y=\"16px\">.</text></svg><svg width=\"100%\" x=\"0%\" y=\"48px\"><defs /><svg width=\"100%\" x=\"0\" y=\"0px\"><defs /><text text-anchor=\"middle\" x=\"50%\" y=\"16px\">.</text></svg></svg><line stroke=\"black\" x1=\"50%\" x2=\"50%\" y1=\"20px\" y2=\"48px\" /></svg><line stroke=\"black\" x1=\"50%\" x2=\"98.75%\" y1=\"20px\" y2=\"48px\" /></svg>"
          },
          "metadata": {},
          "execution_count": 64
        }
      ]
    },
    {
      "cell_type": "code",
      "source": [],
      "metadata": {
        "id": "lGc5bftVe3Eh"
      },
      "execution_count": 64,
      "outputs": []
    },
    {
      "cell_type": "markdown",
      "source": [
        "## **NER Using NLTK**"
      ],
      "metadata": {
        "id": "AEqPOi8NcHOX"
      }
    },
    {
      "cell_type": "code",
      "source": [
        "import nltk\n",
        "from nltk import word_tokenize, pos_tag, ne_chunk\n",
        "nltk.download('maxent_ne_chunker_tab')\n",
        "nltk.download('words')\n",
        "nltk.download('punkt')\n",
        "nltk.download('averaged_perceptron_tagger')\n",
        "\n",
        "\n",
        "# Sample text\n",
        "text = \"Barack Obama was the 44th President of the United States.\"\n",
        "\n",
        "# Tokenize & tag parts of speech\n",
        "tokens = word_tokenize(text)\n",
        "pos_tags = pos_tag(tokens)\n",
        "\n"
      ],
      "metadata": {
        "id": "ZCFjJclJcle3",
        "outputId": "bfc35ed1-2d52-4f9e-a419-6e877af2cb31",
        "colab": {
          "base_uri": "https://localhost:8080/"
        }
      },
      "execution_count": 65,
      "outputs": [
        {
          "output_type": "stream",
          "name": "stderr",
          "text": [
            "[nltk_data] Downloading package maxent_ne_chunker_tab to\n",
            "[nltk_data]     /root/nltk_data...\n",
            "[nltk_data]   Package maxent_ne_chunker_tab is already up-to-date!\n",
            "[nltk_data] Downloading package words to /root/nltk_data...\n",
            "[nltk_data]   Package words is already up-to-date!\n",
            "[nltk_data] Downloading package punkt to /root/nltk_data...\n",
            "[nltk_data]   Package punkt is already up-to-date!\n",
            "[nltk_data] Downloading package averaged_perceptron_tagger to\n",
            "[nltk_data]     /root/nltk_data...\n",
            "[nltk_data]   Package averaged_perceptron_tagger is already up-to-\n",
            "[nltk_data]       date!\n"
          ]
        }
      ]
    },
    {
      "cell_type": "code",
      "source": [
        "# Perform Named Entity Recognition\n",
        "ner_tree = ne_chunk(pos_tags)\n",
        "\n",
        "# Print named entities\n",
        "print(ner_tree)"
      ],
      "metadata": {
        "id": "uLcZGQLTclbr",
        "outputId": "9d31d812-6287-4cb6-dbd8-b6f354c2d11c",
        "colab": {
          "base_uri": "https://localhost:8080/"
        }
      },
      "execution_count": 66,
      "outputs": [
        {
          "output_type": "stream",
          "name": "stdout",
          "text": [
            "(S\n",
            "  (PERSON Barack/NNP)\n",
            "  (PERSON Obama/NNP)\n",
            "  was/VBD\n",
            "  the/DT\n",
            "  44th/JJ\n",
            "  President/NNP\n",
            "  of/IN\n",
            "  the/DT\n",
            "  (GPE United/NNP States/NNPS)\n",
            "  ./.)\n"
          ]
        }
      ]
    },
    {
      "cell_type": "code",
      "source": [
        "!pip install svgling"
      ],
      "metadata": {
        "id": "mlvEukUveIrm",
        "outputId": "134c4843-d8c4-4b6b-df91-a895a4aac2e0",
        "colab": {
          "base_uri": "https://localhost:8080/"
        }
      },
      "execution_count": 67,
      "outputs": [
        {
          "output_type": "stream",
          "name": "stdout",
          "text": [
            "Requirement already satisfied: svgling in /usr/local/lib/python3.11/dist-packages (0.5.0)\n",
            "Requirement already satisfied: svgwrite in /usr/local/lib/python3.11/dist-packages (from svgling) (1.4.3)\n"
          ]
        }
      ]
    },
    {
      "cell_type": "code",
      "source": [
        "ner_tree"
      ],
      "metadata": {
        "id": "ZhglB1P5clYB",
        "outputId": "c96706e6-329b-4f63-ba9f-bc591265b18d",
        "colab": {
          "base_uri": "https://localhost:8080/",
          "height": 190
        }
      },
      "execution_count": 68,
      "outputs": [
        {
          "output_type": "execute_result",
          "data": {
            "text/plain": [
              "Tree('S', [Tree('PERSON', [('Barack', 'NNP')]), Tree('PERSON', [('Obama', 'NNP')]), ('was', 'VBD'), ('the', 'DT'), ('44th', 'JJ'), ('President', 'NNP'), ('of', 'IN'), ('the', 'DT'), Tree('GPE', [('United', 'NNP'), ('States', 'NNPS')]), ('.', '.')])"
            ],
            "image/svg+xml": "<svg baseProfile=\"full\" height=\"168px\" preserveAspectRatio=\"xMidYMid meet\" style=\"font-family: times, serif; font-weight: normal; font-style: normal; font-size: 16px\" version=\"1.1\" viewBox=\"0,0,568.0,168.0\" width=\"568px\" xmlns=\"http://www.w3.org/2000/svg\" xmlns:ev=\"http://www.w3.org/2001/xml-events\" xmlns:xlink=\"http://www.w3.org/1999/xlink\"><defs /><svg width=\"100%\" x=\"0\" y=\"0px\"><defs /><text text-anchor=\"middle\" x=\"50%\" y=\"16px\">S</text></svg><svg width=\"11.2676%\" x=\"0%\" y=\"48px\"><defs /><svg width=\"100%\" x=\"0\" y=\"0px\"><defs /><text text-anchor=\"middle\" x=\"50%\" y=\"16px\">PERSON</text></svg><svg width=\"100%\" x=\"0%\" y=\"48px\"><defs /><svg width=\"100%\" x=\"0\" y=\"0px\"><defs /><text text-anchor=\"middle\" x=\"50%\" y=\"16px\">Barack</text></svg><svg width=\"100%\" x=\"0%\" y=\"48px\"><defs /><svg width=\"100%\" x=\"0\" y=\"0px\"><defs /><text text-anchor=\"middle\" x=\"50%\" y=\"16px\">NNP</text></svg></svg><line stroke=\"black\" x1=\"50%\" x2=\"50%\" y1=\"20px\" y2=\"48px\" /></svg><line stroke=\"black\" x1=\"50%\" x2=\"50%\" y1=\"20px\" y2=\"48px\" /></svg><line stroke=\"black\" x1=\"50%\" x2=\"5.6338%\" y1=\"20px\" y2=\"48px\" /><svg width=\"11.2676%\" x=\"11.2676%\" y=\"48px\"><defs /><svg width=\"100%\" x=\"0\" y=\"0px\"><defs /><text text-anchor=\"middle\" x=\"50%\" y=\"16px\">PERSON</text></svg><svg width=\"100%\" x=\"0%\" y=\"48px\"><defs /><svg width=\"100%\" x=\"0\" y=\"0px\"><defs /><text text-anchor=\"middle\" x=\"50%\" y=\"16px\">Obama</text></svg><svg width=\"100%\" x=\"0%\" y=\"48px\"><defs /><svg width=\"100%\" x=\"0\" y=\"0px\"><defs /><text text-anchor=\"middle\" x=\"50%\" y=\"16px\">NNP</text></svg></svg><line stroke=\"black\" x1=\"50%\" x2=\"50%\" y1=\"20px\" y2=\"48px\" /></svg><line stroke=\"black\" x1=\"50%\" x2=\"50%\" y1=\"20px\" y2=\"48px\" /></svg><line stroke=\"black\" x1=\"50%\" x2=\"16.9014%\" y1=\"20px\" y2=\"48px\" /><svg width=\"7.04225%\" x=\"22.5352%\" y=\"48px\"><defs /><svg width=\"100%\" x=\"0\" y=\"0px\"><defs /><text text-anchor=\"middle\" x=\"50%\" y=\"16px\">was</text></svg><svg width=\"100%\" x=\"0%\" y=\"48px\"><defs /><svg width=\"100%\" x=\"0\" y=\"0px\"><defs /><text text-anchor=\"middle\" x=\"50%\" y=\"16px\">VBD</text></svg></svg><line stroke=\"black\" x1=\"50%\" x2=\"50%\" y1=\"20px\" y2=\"48px\" /></svg><line stroke=\"black\" x1=\"50%\" x2=\"26.0563%\" y1=\"20px\" y2=\"48px\" /><svg width=\"7.04225%\" x=\"29.5775%\" y=\"48px\"><defs /><svg width=\"100%\" x=\"0\" y=\"0px\"><defs /><text text-anchor=\"middle\" x=\"50%\" y=\"16px\">the</text></svg><svg width=\"100%\" x=\"0%\" y=\"48px\"><defs /><svg width=\"100%\" x=\"0\" y=\"0px\"><defs /><text text-anchor=\"middle\" x=\"50%\" y=\"16px\">DT</text></svg></svg><line stroke=\"black\" x1=\"50%\" x2=\"50%\" y1=\"20px\" y2=\"48px\" /></svg><line stroke=\"black\" x1=\"50%\" x2=\"33.0986%\" y1=\"20px\" y2=\"48px\" /><svg width=\"8.4507%\" x=\"36.6197%\" y=\"48px\"><defs /><svg width=\"100%\" x=\"0\" y=\"0px\"><defs /><text text-anchor=\"middle\" x=\"50%\" y=\"16px\">44th</text></svg><svg width=\"100%\" x=\"0%\" y=\"48px\"><defs /><svg width=\"100%\" x=\"0\" y=\"0px\"><defs /><text text-anchor=\"middle\" x=\"50%\" y=\"16px\">JJ</text></svg></svg><line stroke=\"black\" x1=\"50%\" x2=\"50%\" y1=\"20px\" y2=\"48px\" /></svg><line stroke=\"black\" x1=\"50%\" x2=\"40.8451%\" y1=\"20px\" y2=\"48px\" /><svg width=\"15.493%\" x=\"45.0704%\" y=\"48px\"><defs /><svg width=\"100%\" x=\"0\" y=\"0px\"><defs /><text text-anchor=\"middle\" x=\"50%\" y=\"16px\">President</text></svg><svg width=\"100%\" x=\"0%\" y=\"48px\"><defs /><svg width=\"100%\" x=\"0\" y=\"0px\"><defs /><text text-anchor=\"middle\" x=\"50%\" y=\"16px\">NNP</text></svg></svg><line stroke=\"black\" x1=\"50%\" x2=\"50%\" y1=\"20px\" y2=\"48px\" /></svg><line stroke=\"black\" x1=\"50%\" x2=\"52.8169%\" y1=\"20px\" y2=\"48px\" /><svg width=\"5.6338%\" x=\"60.5634%\" y=\"48px\"><defs /><svg width=\"100%\" x=\"0\" y=\"0px\"><defs /><text text-anchor=\"middle\" x=\"50%\" y=\"16px\">of</text></svg><svg width=\"100%\" x=\"0%\" y=\"48px\"><defs /><svg width=\"100%\" x=\"0\" y=\"0px\"><defs /><text text-anchor=\"middle\" x=\"50%\" y=\"16px\">IN</text></svg></svg><line stroke=\"black\" x1=\"50%\" x2=\"50%\" y1=\"20px\" y2=\"48px\" /></svg><line stroke=\"black\" x1=\"50%\" x2=\"63.3803%\" y1=\"20px\" y2=\"48px\" /><svg width=\"7.04225%\" x=\"66.1972%\" y=\"48px\"><defs /><svg width=\"100%\" x=\"0\" y=\"0px\"><defs /><text text-anchor=\"middle\" x=\"50%\" y=\"16px\">the</text></svg><svg width=\"100%\" x=\"0%\" y=\"48px\"><defs /><svg width=\"100%\" x=\"0\" y=\"0px\"><defs /><text text-anchor=\"middle\" x=\"50%\" y=\"16px\">DT</text></svg></svg><line stroke=\"black\" x1=\"50%\" x2=\"50%\" y1=\"20px\" y2=\"48px\" /></svg><line stroke=\"black\" x1=\"50%\" x2=\"69.7183%\" y1=\"20px\" y2=\"48px\" /><svg width=\"22.5352%\" x=\"73.2394%\" y=\"48px\"><defs /><svg width=\"100%\" x=\"0\" y=\"0px\"><defs /><text text-anchor=\"middle\" x=\"50%\" y=\"16px\">GPE</text></svg><svg width=\"50%\" x=\"0%\" y=\"48px\"><defs /><svg width=\"100%\" x=\"0\" y=\"0px\"><defs /><text text-anchor=\"middle\" x=\"50%\" y=\"16px\">United</text></svg><svg width=\"100%\" x=\"0%\" y=\"48px\"><defs /><svg width=\"100%\" x=\"0\" y=\"0px\"><defs /><text text-anchor=\"middle\" x=\"50%\" y=\"16px\">NNP</text></svg></svg><line stroke=\"black\" x1=\"50%\" x2=\"50%\" y1=\"20px\" y2=\"48px\" /></svg><line stroke=\"black\" x1=\"50%\" x2=\"25%\" y1=\"20px\" y2=\"48px\" /><svg width=\"50%\" x=\"50%\" y=\"48px\"><defs /><svg width=\"100%\" x=\"0\" y=\"0px\"><defs /><text text-anchor=\"middle\" x=\"50%\" y=\"16px\">States</text></svg><svg width=\"100%\" x=\"0%\" y=\"48px\"><defs /><svg width=\"100%\" x=\"0\" y=\"0px\"><defs /><text text-anchor=\"middle\" x=\"50%\" y=\"16px\">NNPS</text></svg></svg><line stroke=\"black\" x1=\"50%\" x2=\"50%\" y1=\"20px\" y2=\"48px\" /></svg><line stroke=\"black\" x1=\"50%\" x2=\"75%\" y1=\"20px\" y2=\"48px\" /></svg><line stroke=\"black\" x1=\"50%\" x2=\"84.507%\" y1=\"20px\" y2=\"48px\" /><svg width=\"4.22535%\" x=\"95.7746%\" y=\"48px\"><defs /><svg width=\"100%\" x=\"0\" y=\"0px\"><defs /><text text-anchor=\"middle\" x=\"50%\" y=\"16px\">.</text></svg><svg width=\"100%\" x=\"0%\" y=\"48px\"><defs /><svg width=\"100%\" x=\"0\" y=\"0px\"><defs /><text text-anchor=\"middle\" x=\"50%\" y=\"16px\">.</text></svg></svg><line stroke=\"black\" x1=\"50%\" x2=\"50%\" y1=\"20px\" y2=\"48px\" /></svg><line stroke=\"black\" x1=\"50%\" x2=\"97.8873%\" y1=\"20px\" y2=\"48px\" /></svg>"
          },
          "metadata": {},
          "execution_count": 68
        }
      ]
    },
    {
      "cell_type": "markdown",
      "source": [
        "## **NER Using Spacy**"
      ],
      "metadata": {
        "id": "jxpOR-a_cN8r"
      }
    },
    {
      "cell_type": "code",
      "source": [
        "import spacy\n",
        "\n",
        "# Load the English NLP model\n",
        "nlp = spacy.load(\"en_core_web_sm\")\n",
        "\n",
        "# Sample text\n",
        "text = \"\"\"Elon Musk, the CEO of Tesla, was born in South Africa\n",
        "          and moved to the United States.\"\"\"\n",
        "\n",
        "# Process text\n",
        "doc = nlp(text)\n",
        "\n"
      ],
      "metadata": {
        "id": "dx2-59MccGIc"
      },
      "execution_count": 69,
      "outputs": []
    },
    {
      "cell_type": "code",
      "source": [
        "# Print detected entities\n",
        "for ent in doc.ents:\n",
        "    print(f\"{ent.text} -> {ent.label_}\")"
      ],
      "metadata": {
        "id": "RqPnUHNccGE4",
        "outputId": "333c0b09-fb98-45bd-89dd-8b0fcec0c90c",
        "colab": {
          "base_uri": "https://localhost:8080/"
        }
      },
      "execution_count": 70,
      "outputs": [
        {
          "output_type": "stream",
          "name": "stdout",
          "text": [
            "Elon Musk -> PERSON\n",
            "Tesla -> ORG\n",
            "South Africa -> GPE\n",
            "the United States -> GPE\n"
          ]
        }
      ]
    },
    {
      "cell_type": "markdown",
      "source": [
        "# **Visualisation**"
      ],
      "metadata": {
        "id": "iYvGkgH-hdOo"
      }
    },
    {
      "cell_type": "code",
      "source": [
        "text = \"\"\" Python llm Python genai llm Python llm Matplotlib llm\n",
        " Seaborn Network llm Plot Violin Chart Pandas llm Datascience llm \"\"\"\n",
        "text"
      ],
      "metadata": {
        "id": "BgC9IVkGhqEZ",
        "outputId": "4737f5d1-4bcb-4461-e39e-067975d7f86f",
        "colab": {
          "base_uri": "https://localhost:8080/",
          "height": 55
        }
      },
      "execution_count": 79,
      "outputs": [
        {
          "output_type": "execute_result",
          "data": {
            "text/plain": [
              "' Python llm Python genai llm Python llm Matplotlib llm \\n Seaborn Network llm Plot Violin Chart Pandas llm Datascience llm '"
            ],
            "application/vnd.google.colaboratory.intrinsic+json": {
              "type": "string"
            }
          },
          "metadata": {},
          "execution_count": 79
        }
      ]
    },
    {
      "cell_type": "code",
      "source": [
        "from wordcloud import WordCloud\n",
        "import matplotlib.pyplot as plt"
      ],
      "metadata": {
        "id": "xE22VQ1gmi4k"
      },
      "execution_count": 80,
      "outputs": []
    },
    {
      "cell_type": "code",
      "source": [
        "w_cloud= WordCloud().generate(text)\n",
        "plt.figure(figsize=(10,10))\n",
        "plt.imshow(w_cloud, interpolation='bilinear')\n",
        "plt.axis('off')\n",
        "plt.show()"
      ],
      "metadata": {
        "id": "Y-IHNt5jmi1B",
        "outputId": "39db00b8-707f-4b89-a8d0-5fb0c758fc6f",
        "colab": {
          "base_uri": "https://localhost:8080/",
          "height": 342
        }
      },
      "execution_count": 85,
      "outputs": [
        {
          "output_type": "display_data",
          "data": {
            "text/plain": [
              "<Figure size 1000x1000 with 1 Axes>"
            ],
            "image/png": "[encoded data removed]"
          },
          "metadata": {}
        }
      ]
    },
    {
      "cell_type": "code",
      "source": [],
      "metadata": {
        "id": "VekgCZQwmikZ"
      },
      "execution_count": null,
      "outputs": []
    },
    {
      "cell_type": "markdown",
      "source": [
        "# **Embedding**"
      ],
      "metadata": {
        "id": "NhAiD0I-ims5"
      }
    },
    {
      "cell_type": "code",
      "source": [
        "!pip install gensim"
      ],
      "metadata": {
        "id": "g_axHv2HhqAs",
        "outputId": "569cf5cd-88eb-4c2f-bf70-c700763a216b",
        "colab": {
          "base_uri": "https://localhost:8080/"
        }
      },
      "execution_count": 72,
      "outputs": [
        {
          "output_type": "stream",
          "name": "stdout",
          "text": [
            "Collecting gensim\n",
            "  Downloading gensim-4.3.3-cp311-cp311-manylinux_2_17_x86_64.manylinux2014_x86_64.whl.metadata (8.1 kB)\n",
            "Collecting numpy<2.0,>=1.18.5 (from gensim)\n",
            "  Downloading numpy-1.26.4-cp311-cp311-manylinux_2_17_x86_64.manylinux2014_x86_64.whl.metadata (61 kB)\n",
            "\u001b[2K     \u001b[90m━━━━━━━━━━━━━━━━━━━━━━━━━━━━━━━━━━━━━━━━\u001b[0m \u001b[32m61.0/61.0 kB\u001b[0m \u001b[31m2.3 MB/s\u001b[0m eta \u001b[36m0:00:00\u001b[0m\n",
            "\u001b[?25hCollecting scipy<1.14.0,>=1.7.0 (from gensim)\n",
            "  Downloading scipy-1.13.1-cp311-cp311-manylinux_2_17_x86_64.manylinux2014_x86_64.whl.metadata (60 kB)\n",
            "\u001b[2K     \u001b[90m━━━━━━━━━━━━━━━━━━━━━━━━━━━━━━━━━━━━━━━━\u001b[0m \u001b[32m60.6/60.6 kB\u001b[0m \u001b[31m3.6 MB/s\u001b[0m eta \u001b[36m0:00:00\u001b[0m\n",
            "\u001b[?25hRequirement already satisfied: smart-open>=1.8.1 in /usr/local/lib/python3.11/dist-packages (from gensim) (7.1.0)\n",
            "Requirement already satisfied: wrapt in /usr/local/lib/python3.11/dist-packages (from smart-open>=1.8.1->gensim) (1.17.2)\n",
            "Downloading gensim-4.3.3-cp311-cp311-manylinux_2_17_x86_64.manylinux2014_x86_64.whl (26.7 MB)\n",
            "\u001b[2K   \u001b[90m━━━━━━━━━━━━━━━━━━━━━━━━━━━━━━━━━━━━━━━━\u001b[0m \u001b[32m26.7/26.7 MB\u001b[0m \u001b[31m29.8 MB/s\u001b[0m eta \u001b[36m0:00:00\u001b[0m\n",
            "\u001b[?25hDownloading numpy-1.26.4-cp311-cp311-manylinux_2_17_x86_64.manylinux2014_x86_64.whl (18.3 MB)\n",
            "\u001b[2K   \u001b[90m━━━━━━━━━━━━━━━━━━━━━━━━━━━━━━━━━━━━━━━━\u001b[0m \u001b[32m18.3/18.3 MB\u001b[0m \u001b[31m37.8 MB/s\u001b[0m eta \u001b[36m0:00:00\u001b[0m\n",
            "\u001b[?25hDownloading scipy-1.13.1-cp311-cp311-manylinux_2_17_x86_64.manylinux2014_x86_64.whl (38.6 MB)\n",
            "\u001b[2K   \u001b[90m━━━━━━━━━━━━━━━━━━━━━━━━━━━━━━━━━━━━━━━━\u001b[0m \u001b[32m38.6/38.6 MB\u001b[0m \u001b[31m14.9 MB/s\u001b[0m eta \u001b[36m0:00:00\u001b[0m\n",
            "\u001b[?25hInstalling collected packages: numpy, scipy, gensim\n",
            "  Attempting uninstall: numpy\n",
            "    Found existing installation: numpy 2.0.2\n",
            "    Uninstalling numpy-2.0.2:\n",
            "      Successfully uninstalled numpy-2.0.2\n",
            "  Attempting uninstall: scipy\n",
            "    Found existing installation: scipy 1.14.1\n",
            "    Uninstalling scipy-1.14.1:\n",
            "      Successfully uninstalled scipy-1.14.1\n",
            "Successfully installed gensim-4.3.3 numpy-1.26.4 scipy-1.13.1\n"
          ]
        }
      ]
    },
    {
      "cell_type": "code",
      "source": [
        "!pip install --upgrade numpy\n",
        "!pip install --upgrade gensim"
      ],
      "metadata": {
        "id": "Q3avVv9ZjGXm",
        "outputId": "4c7e4617-ee66-4dac-f1b3-5ae89fef8ed1",
        "colab": {
          "base_uri": "https://localhost:8080/"
        }
      },
      "execution_count": 76,
      "outputs": [
        {
          "output_type": "stream",
          "name": "stdout",
          "text": [
            "Requirement already satisfied: numpy in /usr/local/lib/python3.11/dist-packages (2.2.4)\n",
            "Requirement already satisfied: gensim in /usr/local/lib/python3.11/dist-packages (4.3.3)\n",
            "Collecting numpy<2.0,>=1.18.5 (from gensim)\n",
            "  Using cached numpy-1.26.4-cp311-cp311-manylinux_2_17_x86_64.manylinux2014_x86_64.whl.metadata (61 kB)\n",
            "Requirement already satisfied: scipy<1.14.0,>=1.7.0 in /usr/local/lib/python3.11/dist-packages (from gensim) (1.13.1)\n",
            "Requirement already satisfied: smart-open>=1.8.1 in /usr/local/lib/python3.11/dist-packages (from gensim) (7.1.0)\n",
            "Requirement already satisfied: wrapt in /usr/local/lib/python3.11/dist-packages (from smart-open>=1.8.1->gensim) (1.17.2)\n",
            "Using cached numpy-1.26.4-cp311-cp311-manylinux_2_17_x86_64.manylinux2014_x86_64.whl (18.3 MB)\n",
            "Installing collected packages: numpy\n",
            "  Attempting uninstall: numpy\n",
            "    Found existing installation: numpy 2.2.4\n",
            "    Uninstalling numpy-2.2.4:\n",
            "      Successfully uninstalled numpy-2.2.4\n",
            "Successfully installed numpy-1.26.4\n"
          ]
        }
      ]
    },
    {
      "cell_type": "code",
      "source": [
        "import gensim\n",
        "from gensim.models import Word2Vec\n",
        "\n",
        "# Sample text corpus\n",
        "sentences = [[\"king\", \"queen\", \"man\", \"woman\"],\n",
        "             [\"apple\", \"banana\", \"fruit\"],\n",
        "             [\"dog\", \"cat\", \"animal\"]]\n",
        "\n",
        "# Train Word2Vec model\n",
        "model = Word2Vec(sentences, vector_size=10,\n",
        "        window=3, min_count=1, workers=4)\n"
      ],
      "metadata": {
        "id": "w6qWrIvrhp9A",
        "outputId": "f483bd79-7558-4dcd-b391-331e2959bd48",
        "colab": {
          "base_uri": "https://localhost:8080/",
          "height": 319
        }
      },
      "execution_count": 78,
      "outputs": [
        {
          "output_type": "error",
          "ename": "ValueError",
          "evalue": "numpy.dtype size changed, may indicate binary incompatibility. Expected 96 from C header, got 88 from PyObject",
          "traceback": [
            "\u001b[0;31m---------------------------------------------------------------------------\u001b[0m",
            "\u001b[0;31mValueError\u001b[0m                                Traceback (most recent call last)",
            "\u001b[0;32m<ipython-input-78-849fc8274c28>\u001b[0m in \u001b[0;36m<cell line: 0>\u001b[0;34m()\u001b[0m\n\u001b[0;32m----> 1\u001b[0;31m \u001b[0;32mimport\u001b[0m \u001b[0mgensim\u001b[0m\u001b[0;34m\u001b[0m\u001b[0;34m\u001b[0m\u001b[0m\n\u001b[0m\u001b[1;32m      2\u001b[0m \u001b[0;32mfrom\u001b[0m \u001b[0mgensim\u001b[0m\u001b[0;34m.\u001b[0m\u001b[0mmodels\u001b[0m \u001b[0;32mimport\u001b[0m \u001b[0mWord2Vec\u001b[0m\u001b[0;34m\u001b[0m\u001b[0;34m\u001b[0m\u001b[0m\n\u001b[1;32m      3\u001b[0m \u001b[0;34m\u001b[0m\u001b[0m\n\u001b[1;32m      4\u001b[0m \u001b[0;31m# Sample text corpus\u001b[0m\u001b[0;34m\u001b[0m\u001b[0;34m\u001b[0m\u001b[0m\n\u001b[1;32m      5\u001b[0m sentences = [[\"king\", \"queen\", \"man\", \"woman\"],\n",
            "\u001b[0;32m/usr/local/lib/python3.11/dist-packages/gensim/__init__.py\u001b[0m in \u001b[0;36m<module>\u001b[0;34m\u001b[0m\n\u001b[1;32m      9\u001b[0m \u001b[0;32mimport\u001b[0m \u001b[0mlogging\u001b[0m\u001b[0;34m\u001b[0m\u001b[0;34m\u001b[0m\u001b[0m\n\u001b[1;32m     10\u001b[0m \u001b[0;34m\u001b[0m\u001b[0m\n\u001b[0;32m---> 11\u001b[0;31m \u001b[0;32mfrom\u001b[0m \u001b[0mgensim\u001b[0m \u001b[0;32mimport\u001b[0m \u001b[0mparsing\u001b[0m\u001b[0;34m,\u001b[0m \u001b[0mcorpora\u001b[0m\u001b[0;34m,\u001b[0m \u001b[0mmatutils\u001b[0m\u001b[0;34m,\u001b[0m \u001b[0minterfaces\u001b[0m\u001b[0;34m,\u001b[0m \u001b[0mmodels\u001b[0m\u001b[0;34m,\u001b[0m \u001b[0msimilarities\u001b[0m\u001b[0;34m,\u001b[0m \u001b[0mutils\u001b[0m  \u001b[0;31m# noqa:F401\u001b[0m\u001b[0;34m\u001b[0m\u001b[0;34m\u001b[0m\u001b[0m\n\u001b[0m\u001b[1;32m     12\u001b[0m \u001b[0;34m\u001b[0m\u001b[0m\n\u001b[1;32m     13\u001b[0m \u001b[0;34m\u001b[0m\u001b[0m\n",
            "\u001b[0;32m/usr/local/lib/python3.11/dist-packages/gensim/corpora/__init__.py\u001b[0m in \u001b[0;36m<module>\u001b[0;34m\u001b[0m\n\u001b[1;32m      4\u001b[0m \u001b[0;34m\u001b[0m\u001b[0m\n\u001b[1;32m      5\u001b[0m \u001b[0;31m# bring corpus classes directly into package namespace, to save some typing\u001b[0m\u001b[0;34m\u001b[0m\u001b[0;34m\u001b[0m\u001b[0m\n\u001b[0;32m----> 6\u001b[0;31m \u001b[0;32mfrom\u001b[0m \u001b[0;34m.\u001b[0m\u001b[0mindexedcorpus\u001b[0m \u001b[0;32mimport\u001b[0m \u001b[0mIndexedCorpus\u001b[0m  \u001b[0;31m# noqa:F401 must appear before the other classes\u001b[0m\u001b[0;34m\u001b[0m\u001b[0;34m\u001b[0m\u001b[0m\n\u001b[0m\u001b[1;32m      7\u001b[0m \u001b[0;34m\u001b[0m\u001b[0m\n\u001b[1;32m      8\u001b[0m \u001b[0;32mfrom\u001b[0m \u001b[0;34m.\u001b[0m\u001b[0mmmcorpus\u001b[0m \u001b[0;32mimport\u001b[0m \u001b[0mMmCorpus\u001b[0m  \u001b[0;31m# noqa:F401\u001b[0m\u001b[0;34m\u001b[0m\u001b[0;34m\u001b[0m\u001b[0m\n",
            "\u001b[0;32m/usr/local/lib/python3.11/dist-packages/gensim/corpora/indexedcorpus.py\u001b[0m in \u001b[0;36m<module>\u001b[0;34m\u001b[0m\n\u001b[1;32m     12\u001b[0m \u001b[0;32mimport\u001b[0m \u001b[0mnumpy\u001b[0m\u001b[0;34m\u001b[0m\u001b[0;34m\u001b[0m\u001b[0m\n\u001b[1;32m     13\u001b[0m \u001b[0;34m\u001b[0m\u001b[0m\n\u001b[0;32m---> 14\u001b[0;31m \u001b[0;32mfrom\u001b[0m \u001b[0mgensim\u001b[0m \u001b[0;32mimport\u001b[0m \u001b[0minterfaces\u001b[0m\u001b[0;34m,\u001b[0m \u001b[0mutils\u001b[0m\u001b[0;34m\u001b[0m\u001b[0;34m\u001b[0m\u001b[0m\n\u001b[0m\u001b[1;32m     15\u001b[0m \u001b[0;34m\u001b[0m\u001b[0m\n\u001b[1;32m     16\u001b[0m \u001b[0mlogger\u001b[0m \u001b[0;34m=\u001b[0m \u001b[0mlogging\u001b[0m\u001b[0;34m.\u001b[0m\u001b[0mgetLogger\u001b[0m\u001b[0;34m(\u001b[0m\u001b[0m__name__\u001b[0m\u001b[0;34m)\u001b[0m\u001b[0;34m\u001b[0m\u001b[0;34m\u001b[0m\u001b[0m\n",
            "\u001b[0;32m/usr/local/lib/python3.11/dist-packages/gensim/interfaces.py\u001b[0m in \u001b[0;36m<module>\u001b[0;34m\u001b[0m\n\u001b[1;32m     17\u001b[0m \u001b[0;32mimport\u001b[0m \u001b[0mlogging\u001b[0m\u001b[0;34m\u001b[0m\u001b[0;34m\u001b[0m\u001b[0m\n\u001b[1;32m     18\u001b[0m \u001b[0;34m\u001b[0m\u001b[0m\n\u001b[0;32m---> 19\u001b[0;31m \u001b[0;32mfrom\u001b[0m \u001b[0mgensim\u001b[0m \u001b[0;32mimport\u001b[0m \u001b[0mutils\u001b[0m\u001b[0;34m,\u001b[0m \u001b[0mmatutils\u001b[0m\u001b[0;34m\u001b[0m\u001b[0;34m\u001b[0m\u001b[0m\n\u001b[0m\u001b[1;32m     20\u001b[0m \u001b[0;34m\u001b[0m\u001b[0m\n\u001b[1;32m     21\u001b[0m \u001b[0;34m\u001b[0m\u001b[0m\n",
            "\u001b[0;32m/usr/local/lib/python3.11/dist-packages/gensim/matutils.py\u001b[0m in \u001b[0;36m<module>\u001b[0;34m\u001b[0m\n\u001b[1;32m   1032\u001b[0m \u001b[0;32mtry\u001b[0m\u001b[0;34m:\u001b[0m\u001b[0;34m\u001b[0m\u001b[0;34m\u001b[0m\u001b[0m\n\u001b[1;32m   1033\u001b[0m     \u001b[0;31m# try to load fast, cythonized code if possible\u001b[0m\u001b[0;34m\u001b[0m\u001b[0;34m\u001b[0m\u001b[0m\n\u001b[0;32m-> 1034\u001b[0;31m     \u001b[0;32mfrom\u001b[0m \u001b[0mgensim\u001b[0m\u001b[0;34m.\u001b[0m\u001b[0m_matutils\u001b[0m \u001b[0;32mimport\u001b[0m \u001b[0mlogsumexp\u001b[0m\u001b[0;34m,\u001b[0m \u001b[0mmean_absolute_difference\u001b[0m\u001b[0;34m,\u001b[0m \u001b[0mdirichlet_expectation\u001b[0m\u001b[0;34m\u001b[0m\u001b[0;34m\u001b[0m\u001b[0m\n\u001b[0m\u001b[1;32m   1035\u001b[0m \u001b[0;34m\u001b[0m\u001b[0m\n\u001b[1;32m   1036\u001b[0m \u001b[0;32mexcept\u001b[0m \u001b[0mImportError\u001b[0m\u001b[0;34m:\u001b[0m\u001b[0;34m\u001b[0m\u001b[0;34m\u001b[0m\u001b[0m\n",
            "\u001b[0;32m/usr/local/lib/python3.11/dist-packages/gensim/_matutils.pyx\u001b[0m in \u001b[0;36minit gensim._matutils\u001b[0;34m()\u001b[0m\n",
            "\u001b[0;31mValueError\u001b[0m: numpy.dtype size changed, may indicate binary incompatibility. Expected 96 from C header, got 88 from PyObject"
          ]
        }
      ]
    },
    {
      "cell_type": "code",
      "source": [
        "# Get vector for \"king\"\n",
        "print(model.wv[\"king\"])"
      ],
      "metadata": {
        "id": "dZUjAQj_hp5c"
      },
      "execution_count": null,
      "outputs": []
    },
    {
      "cell_type": "code",
      "source": [],
      "metadata": {
        "id": "pouV62AQcGBm"
      },
      "execution_count": 70,
      "outputs": []
    }
  ]
}