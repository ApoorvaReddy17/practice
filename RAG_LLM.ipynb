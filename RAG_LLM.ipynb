{
  "nbformat": 4,
  "nbformat_minor": 0,
  "metadata": {
    "colab": {
      "provenance": [],
      "gpuType": "T4",
      "mount_file_id": "1LYAA1wmv_sB1HV_N-Xww_KsyUgT1PlbO",
      "authorship_tag": "ABX9TyP6/K89GJc6MpcC9X188IPM",
      "include_colab_link": true
    },
    "kernelspec": {
      "name": "python3",
      "display_name": "Python 3"
    },
    "language_info": {
      "name": "python"
    },
    "accelerator": "GPU"
  },
  "cells": [
    {
      "cell_type": "markdown",
      "metadata": {
        "id": "view-in-github",
        "colab_type": "text"
      },
      "source": [
        "<a href=\"https://colab.research.google.com/github/ApoorvaReddy17/practice/blob/main/RAG_LLM.ipynb\" target=\"_parent\"><img src=\"https://colab.research.google.com/assets/colab-badge.svg\" alt=\"Open In Colab\"/></a>"
      ]
    },
    {
      "cell_type": "markdown",
      "source": [
        "# **Retrieval-Augmented Generation (RAG)**"
      ],
      "metadata": {
        "id": "Iip5LnCd2B11"
      }
    },
    {
      "cell_type": "markdown",
      "source": [
        "\n",
        "RAG is an AI model architecture that retrieves relevant documents from a knowledge base and uses them as context to generate responses. It improves accuracy and reduces hallucination.\n",
        "\n",
        "\n",
        "**Components of RAG**\n",
        "\n",
        "**Retriever** – Finds relevant documents from an external source (e.g., vector database).\n",
        "\n",
        "**Generator** – Uses a language model (like GPT) to generate responses based on retrieved documents.\n",
        "\n",
        "**Integration** – Combines retrieval and generation in a pipeline."
      ],
      "metadata": {
        "id": "aYE-Ce4KL3rz"
      }
    },
    {
      "cell_type": "markdown",
      "source": [
        "# 1. What is RAG\n",
        "RAG is used in LLM model\n",
        "\n",
        "llm model is part of the Generative ai\n",
        "\n",
        "generative ai is part of the datascience"
      ],
      "metadata": {
        "id": "dhblRfQP_6jf"
      }
    },
    {
      "cell_type": "markdown",
      "source": [
        "# 2. Keep Upgrading Versions (Upgrade LLM Model on a Day-to-Day Basis)\n",
        "\n",
        "Model \tVersion\t ReleaseYear\t    Notes\n",
        "\n",
        "ChatGPT\t3.0      2022\t   Initial public release of GPT-3-based chatbot.\n",
        "\n",
        "ChatGPT\t3.5\t     2023\t   Improved model with better reasoning.\n",
        "\n",
        "ChatGPT\t4.0\t     2024\t   Major leap in accuracy; multi-modal capabilities (text + image).\n",
        "\n",
        "ChatGPT\t4.5\t     2025\t   Incremental improvements, faster responses, better context retention.\n",
        "\n",
        "Gemini\t2B\t     2025\t   Lightweight version; optimized for mobile and efficient inference.\n",
        "\n",
        "Gemini\t9B\t     2025  \tMid-sized version; more powerful, designed for broader NLP tasks.\n",
        "\n",
        "LLaMA\t3 8B\t     2024  \tHigh-performance, efficient; supports on-device and edge AI deployments.\n",
        "\n",
        "LLaMA\t3 70B\t     2024  \tLarge-scale model; excels in reasoning and multilingual tasks.\n"
      ],
      "metadata": {
        "id": "yUj-wojg_6e1"
      }
    },
    {
      "cell_type": "markdown",
      "source": [
        "# **3. Why RAG Was Introduced and Applied in LLM Models**\n",
        "\n",
        "Problem: LLMs Are Not Always Up to Date\n",
        "\n",
        "Large Language Models (LLMs) like ChatGPT, Gemini, and LLaMA are trained on massive datasets, but these datasets are fixed at the time of training.\n",
        "\n",
        "As a result, LLMs lack real-time awareness and cannot retrieve fresh or evolving information after their last training cut-off date.\n",
        "\n",
        "✅ Solution: Retrieval-Augmented Generation (RAG)\n",
        "RAG = LLM + External Knowledge Retrieval\n",
        "\n",
        "RAG enhances LLMs by integrating them with search or database retrieval systems.\n",
        "\n",
        "Instead of relying only on what the model “remembers,” RAG allows the model to fetch relevant documents or data from an external source (e.g., a vector store or search engine) at runtime.\n",
        "\n",
        "💡 Key Benefits of RAG:\n",
        "\n",
        "Feature\tBenefit\n",
        "Up-to-date responses\tCan pull live or recent information\n",
        "Grounded answers\tReduces hallucinations by referencing external sources\n",
        "Domain adaptation\tCustomize LLMs for specific fields (e.g., legal, medical)\n",
        "Smaller model size possible\tOffloads knowledge to external data\n",
        "📌 Example Use Case:\n",
        "A finance chatbot powered by an LLM with RAG can retrieve the latest stock prices or market news from an API or search engine — even if that information wasn't part of the model's training data.\n",
        "\n",
        "Want me to visualize this too (e.g., diagram of how RAG works with an LLM)?"
      ],
      "metadata": {
        "id": "Fad5PSJi_6Zh"
      }
    },
    {
      "cell_type": "markdown",
      "source": [],
      "metadata": {
        "id": "L45WN_4u_58s"
      }
    },
    {
      "cell_type": "markdown",
      "source": [
        "Framework: **LANGCHAIN**\n",
        "\n",
        "LLM MODEL - **LLAMA3 70B Parameter**\n",
        "\n",
        "LPU = **GROQ API**\n",
        "\n",
        "**HUGGING FACE**\n"
      ],
      "metadata": {
        "id": "s8LBd0f6NTRs"
      }
    },
    {
      "cell_type": "code",
      "source": [
        "# from google.colab import drive\n",
        "# drive.mount(\"/content/drive\")"
      ],
      "metadata": {
        "id": "SNnTth165ljO"
      },
      "execution_count": 1,
      "outputs": []
    },
    {
      "cell_type": "markdown",
      "source": [
        "## **10. created a requirment.txt**\n",
        "\n",
        "chromadb == 0.5.5\n",
        "\n",
        "langchain-chroma==0.1.2\n",
        "\n",
        "langchain==0.2.11\n",
        "\n",
        "langchain-community==0.2.10\n",
        "\n",
        "langchain-text-splitters==0.2.2\n",
        "\n",
        "langchain-groq==0.1.6\n",
        "\n",
        "transformers==4.43.2\n",
        "\n",
        "sentence-transformers==3.0.1\n",
        "\n",
        "unstructured==0.15.0\n",
        "\n",
        "unstructured[pdf]==0.15.0"
      ],
      "metadata": {
        "id": "Pg3cY3U0-lM7"
      }
    },
    {
      "cell_type": "code",
      "source": [
        "# !pip install -r requirment.txt"
      ],
      "metadata": {
        "collapsed": true,
        "id": "ON4uAbm26f7C"
      },
      "execution_count": 2,
      "outputs": []
    },
    {
      "cell_type": "code",
      "source": [
        "import os\n",
        "\n",
        "from langchain.document_loaders import UnstructuredFileIOLoader\n",
        "from langchain.text_splitter import CharacterTextSplitter\n",
        "from langchain_community.embeddings import HuggingFaceEmbeddings\n",
        "from langchain_chroma import Chroma\n",
        "from langchain_groq import ChatGroq\n",
        "from langchain.chains import RetrievalQA\n"
      ],
      "metadata": {
        "id": "_O7vCGXM-4xj"
      },
      "execution_count": 3,
      "outputs": []
    },
    {
      "cell_type": "markdown",
      "source": [
        "groq api key\n",
        "\n",
        "\n",
        "name: apoorva_groq\n",
        "\n",
        "s_key: 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"
      ],
      "metadata": {
        "id": "Lzrl2kDWDE5O"
      }
    },
    {
      "cell_type": "code",
      "source": [
        "os.environ[\"GROQ_API_KEY\"]=\"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\""
      ],
      "metadata": {
        "id": "j_FIC8D5By6S"
      },
      "execution_count": 4,
      "outputs": []
    },
    {
      "cell_type": "code",
      "source": [
        "# fetch the pdf from url\n",
        "import requests\n",
        "url=\"https://www.ggpsbokaro.org/images/download1/5154.pdf\"\n",
        "response = requests.get(url)"
      ],
      "metadata": {
        "id": "ZfBXF6kbD4kQ"
      },
      "execution_count": 5,
      "outputs": []
    },
    {
      "cell_type": "code",
      "source": [
        "response"
      ],
      "metadata": {
        "id": "kNNfpZ50r006",
        "colab": {
          "base_uri": "https://localhost:8080/"
        },
        "outputId": "e546a484-8225-4034-d58f-88a71a697b05"
      },
      "execution_count": 6,
      "outputs": [
        {
          "output_type": "execute_result",
          "data": {
            "text/plain": [
              "<Response [200]>"
            ]
          },
          "metadata": {},
          "execution_count": 6
        }
      ]
    },
    {
      "cell_type": "code",
      "source": [
        "# save the pdf in local file\n",
        "with open(\"python_inbuiltfunctions.pdf\",\"wb\") as f:\n",
        "  f.write(response.content)"
      ],
      "metadata": {
        "id": "OFZLA0S9qx7T"
      },
      "execution_count": 7,
      "outputs": []
    },
    {
      "cell_type": "code",
      "source": [
        "# !pip install --upgrade unstructured\n",
        "# !pip install --upgrade pdfminer.six\n",
        "# !pip install pi_heif"
      ],
      "metadata": {
        "id": "9Bl3xS5eOwrt"
      },
      "execution_count": 8,
      "outputs": []
    },
    {
      "cell_type": "code",
      "source": [
        "# load the document\n",
        "with open (\"python_inbuiltfunctions.pdf\",\"rb\") as f:\n",
        "  loader = UnstructuredFileIOLoader(file=f)\n",
        "  documents = loader.load()"
      ],
      "metadata": {
        "colab": {
          "base_uri": "https://localhost:8080/"
        },
        "id": "gYg_c-cVxNck",
        "outputId": "9b0ae409-f168-4333-e3e2-417c0529f7bd"
      },
      "execution_count": 9,
      "outputs": [
        {
          "output_type": "stream",
          "name": "stderr",
          "text": [
            "WARNING:pdfminer.pdfinterp:Cannot set gray non-stroke color because /'P22' is an invalid float value\n",
            "WARNING:pdfminer.pdfinterp:Cannot set gray non-stroke color because /'P24' is an invalid float value\n",
            "WARNING:pdfminer.pdfinterp:Cannot set gray non-stroke color because /'P26' is an invalid float value\n",
            "WARNING:pdfminer.pdfinterp:Cannot set gray non-stroke color because /'P28' is an invalid float value\n",
            "WARNING:pdfminer.pdfinterp:Cannot set gray non-stroke color because /'P32' is an invalid float value\n",
            "WARNING:pdfminer.pdfinterp:Cannot set gray non-stroke color because /'P34' is an invalid float value\n",
            "WARNING:pdfminer.pdfinterp:Cannot set gray non-stroke color because /'P36' is an invalid float value\n",
            "WARNING:pdfminer.pdfinterp:Cannot set gray non-stroke color because /'P37' is an invalid float value\n",
            "WARNING:pdfminer.pdfinterp:Cannot set gray non-stroke color because /'P41' is an invalid float value\n",
            "WARNING:pdfminer.pdfinterp:Cannot set gray non-stroke color because /'P43' is an invalid float value\n",
            "WARNING:pdfminer.pdfinterp:Cannot set gray non-stroke color because /'P45' is an invalid float value\n",
            "WARNING:pdfminer.pdfinterp:Cannot set gray non-stroke color because /'P46' is an invalid float value\n",
            "WARNING:pdfminer.pdfinterp:Cannot set gray non-stroke color because /'P54' is an invalid float value\n",
            "WARNING:pdfminer.pdfinterp:Cannot set gray non-stroke color because /'P55' is an invalid float value\n",
            "WARNING:pdfminer.pdfinterp:Cannot set gray non-stroke color because /'P57' is an invalid float value\n",
            "WARNING:pdfminer.pdfinterp:Cannot set gray non-stroke color because /'P58' is an invalid float value\n",
            "WARNING:pdfminer.pdfinterp:Cannot set gray non-stroke color because /'P62' is an invalid float value\n",
            "WARNING:pdfminer.pdfinterp:Cannot set gray non-stroke color because /'P64' is an invalid float value\n",
            "WARNING:pdfminer.pdfinterp:Cannot set gray non-stroke color because /'P66' is an invalid float value\n",
            "WARNING:pdfminer.pdfinterp:Cannot set gray non-stroke color because /'P67' is an invalid float value\n",
            "WARNING:pdfminer.pdfinterp:Cannot set gray non-stroke color because /'P71' is an invalid float value\n",
            "WARNING:pdfminer.pdfinterp:Cannot set gray non-stroke color because /'P73' is an invalid float value\n",
            "WARNING:pdfminer.pdfinterp:Cannot set gray non-stroke color because /'P75' is an invalid float value\n",
            "WARNING:pdfminer.pdfinterp:Cannot set gray non-stroke color because /'P76' is an invalid float value\n",
            "WARNING:pdfminer.pdfinterp:Cannot set gray non-stroke color because /'P80' is an invalid float value\n",
            "WARNING:pdfminer.pdfinterp:Cannot set gray non-stroke color because /'P81' is an invalid float value\n",
            "WARNING:pdfminer.pdfinterp:Cannot set gray non-stroke color because /'P85' is an invalid float value\n",
            "WARNING:pdfminer.pdfinterp:Cannot set gray non-stroke color because /'P86' is an invalid float value\n"
          ]
        }
      ]
    },
    {
      "cell_type": "code",
      "source": [
        "documents"
      ],
      "metadata": {
        "colab": {
          "base_uri": "https://localhost:8080/"
        },
        "id": "XHvBk7GURVO8",
        "outputId": "a24c9be0-8c6a-49a4-ec88-735678b7f049"
      },
      "execution_count": 10,
      "outputs": [
        {
          "output_type": "execute_result",
          "data": {
            "text/plain": [
              "[Document(page_content='GURU GOBIND SINGH PUBLIC SCHOOL\\n\\nSECTOR 5/B,B.S.CITY\\n\\nNOTES AND ASSIGNMENT FOR CLASS XII\\n\\nSUBJECT: COMPUTER SCIENCE\\n\\nNOTES\\n\\nPython Functions\\n\\nFunctions are the most important aspect of an application. A function can be defined\\n\\nas the organized block of reusable code which can be called whenever required.\\n\\nPython allows us to divide a large program into the basic building blocks known as\\n\\nfunction. The function contains the set of programming statements enclosed by {}. A\\n\\nfunction can be called multiple times to provide reusability and modularity to the\\n\\npython program.\\n\\nIn other words, we can say that the collection of functions creates a program. The\\n\\nfunction is also known as procedure or subroutine in other programming languages.\\n\\nPython provide us various inbuilt functions like range() or print(). Although, the user\\n\\ncan create its functions which can be called user-defined functions.\\n\\nAdvantage of Functions in Python\\n\\nThere are the following advantages of Python functions.\\n\\no By using functions, we can avoid rewriting same logic/code again and again in\\n\\na program.\\n\\no We can call python functions any number of times in a program and from any\\n\\nplace in a program.\\n\\no We can track a large python program easily when it is divided into multiple\\n\\nfunctions.\\n\\no Reusability is the main achievement of python functions.\\n\\no However, Function calling is always overhead in a python program.\\n\\nCreating a function\\n\\nIn python, we can use def keyword to define the function. The syntax to define a\\n\\nfunction in python is given below.\\n\\n1. def my_function():\\n\\n2. function-suite\\n\\n3. return <expression>\\n\\ndef my_function():function-suite return <expression>\\n\\nThe function block is started with the colon (:) and all the same level block\\n\\nstatements remain at the same indentation.\\n\\nA function can accept any number of parameters that must be the same in the\\n\\ndefinition and function calling.\\n\\nFunction calling\\n\\nIn python, a function must be defined before the function calling otherwise the python\\n\\ninterpreter gives an error. Once the function is defined, we can call it from another\\n\\nfunction or the python prompt. To call the function, use the function name followed by\\n\\nthe parentheses.\\n\\nA simple function that prints the message \"Hello Word\" is given below.\\n\\n1. def hello_world():\\n\\n2. print(\"hello world\")\\n\\n3.\\n\\n4. hello_world()\\n\\ndef hello_world():print(\"hello world\")hello_world()\\n\\nOutput:\\n\\nhello world\\n\\nParameters in function\\n\\nThe information into the functions can be passed as the parameters. The parameters\\n\\nare specified in the parentheses. We can give any number of parameters, but we\\n\\nhave to separate them with a comma.\\n\\nConsider the following example which contains a function that accepts a string as the\\n\\nparameter and prints it.\\n\\nExample 1\\n\\n1. #defining the function\\n\\n2. def func (name):\\n\\n3. print(\"Hi \",name);\\n\\n4.\\n\\n5. #calling the function\\n\\n6. func(\"Ayush\")\\n\\nExample 2\\n\\n1. #python function to calculate the sum of two variables\\n\\n2. #defining the function\\n\\n3. def sum (a,b):\\n\\n4. return a+b;\\n\\n5.\\n\\n6. #taking values from the user\\n\\n7. a = int(input(\"Enter a: \"))\\n\\n8. b = int(input(\"Enter b: \"))\\n\\n9.\\n\\n10. #printing the sum of a and b\\n\\n11. print(\"Sum = \",sum(a,b)) #python function to calculate th#defining the functiondef sum (a,b):return a+b;\\n\\n11. print(\"Sum = \",sum(a,b)) #python function to calculate th#defining the functiondef sum (a,b):return a+b;\\n\\nOutput:\\n\\nEnter a: 10\\n\\nEnter b: 20\\n\\nSum = 30\\n\\nCall by reference in Python\\n\\nIn python, all the functions are called by reference, i.e., all the changes made to the\\n\\nreference inside the function revert back to the original value referred by the\\n\\nreference.\\n\\nHowever, there is an exception in the case of mutable objects since the changes\\n\\nmade to the mutable objects like string do not revert to the original string rather, a\\n\\nnew string object is made, and therefore the two different objects are printed.\\n\\nExample 1 Passing Immutable Object (List)\\n\\n1. #defining the function\\n\\n2. def change_list(list1):\\n\\n3. list1.append(20);\\n\\n4. list1.append(30);\\n\\n5. print(\"list inside function = \",list1)\\n\\n6.\\n\\n7. #defining the list\\n\\n8. list1 = [10,30,40,50]\\n\\n9.\\n\\n10. #calling the function\\n\\n11. change_list(list1);\\n\\n12. print(\"list outside function = \",list1);\\n\\nOutput:\\n\\nlist inside function = [10, 30, 40, 50, 20, 30]\\n\\nlist outside function = [10, 30, 40, 50, 20, 30]\\n\\nExample 2 Passing Mutable Object (String)\\n\\n1. #defining the function\\n\\n2. def change_string (str):\\n\\n3. str = str + \" Hows you\";\\n\\n4. print(\"printing the string inside function :\",str);\\n\\n5.\\n\\n6. string1 = \"Hi I am there\"\\n\\n7.\\n\\n8. #calling the function\\n\\n9. change_string(string1)\\n\\n10.\\n\\n11. print(\"printing the string outside function :\",string1) #defining the functiondef change_string (str):str = str + \" Hows youprint(\"printing the strin\\n\\n11. print(\"printing the string outside function :\",string1) #defining the functiondef change_string (str):str = str + \" Hows youprint(\"printing the strin\\n\\nOutput:\\n\\nprinting the string inside function : Hi I am there Hows you\\n\\nprinting the string outside function : Hi I am there\\n\\nTypes of arguments\\n\\nThere may be several types of arguments which can be passed at the time of function\\n\\ncalling.\\n\\n1. Required arguments\\n\\n2. Keyword arguments\\n\\n3. Default arguments\\n\\n4. Variable-length arguments\\n\\nRequired Arguments\\n\\nTill now, we have learned about function calling in python. However, we can provide the\\n\\narguments at the time of function calling. As far as the required arguments are\\n\\nconcerned, these are the arguments which are required to be passed at the time of\\n\\nfunction calling with the exact match of their positions in the function call and function\\n\\ndefinition. If either of the arguments is not provided in the function call, or the position\\n\\nof the arguments is changed, then the python interpreter will show the error.\\n\\nConsider the following example.\\n\\nExample 1\\n\\n1. #the argument name is the required argument to the function func\\n\\n2. def func(name):\\n\\n3. message = \"Hi \"+name;\\n\\n4. return message;\\n\\n5. name = input(\"Enter the name?\")\\n\\n6. print(func(name))\\n\\nOutput:\\n\\nEnter the name?John\\n\\nHi John\\n\\nExample 2\\n\\n1. #the function simple_interest accepts three arguments and returns the simple interest a\\n\\nccordingly\\n\\n2. def simple_interest(p,t,r):\\n\\n3. return (p*t*r)/100\\n\\n4. p = float(input(\"Enter the principle amount? \"))\\n\\n5. r = float(input(\"Enter the rate of interest? \"))\\n\\n6. t = float(input(\"Enter the time in years? \"))\\n\\n7. print(\"Simple Interest: \",simple_interest(p,r,t))\\n\\nOutput:\\n\\nEnter the principle amount? 10000\\n\\nEnter the rate of interest? 5\\n\\nEnter the time in years? 2\\n\\nSimple Interest: 1000.0\\n\\nExample 3\\n\\n1. #the function calculate returns the sum of two arguments a and b\\n\\n2. def calculate(a,b):\\n\\n3. return a+b\\n\\n4. calculate(10) # this causes an error as we are missing a required arguments b.\\n\\nOutput:\\n\\nTypeError: calculate() missing 1 required positional argument: \\'b\\'\\n\\nKeyword arguments\\n\\nPython allows us to call the function with the keyword arguments. This kind of function\\n\\ncall will enable us to pass the arguments in the random order.\\n\\nThe name of the arguments is treated as the keywords and matched in the function\\n\\ncalling and definition. If the same match is found, the values of the arguments are\\n\\ncopied in the function definition.\\n\\nConsider the following example.\\n\\nExample 1\\n\\n1. #function func is called with the name and message as the keyword arguments\\n\\n2. def func(name,message):\\n\\n3. print(\"printing the message with\",name,\"and \",message)\\n\\n4. func(name = \"John\",message=\"hello\") #name and message is copied with the values Jo\\n\\nhn and hello respectively\\n\\nOutput:\\n\\nprinting the message with John and hello\\n\\nExample 2 providing the values in different order at the calling\\n\\n1. #The function simple_interest(p, t, r) is called with the keyword arguments the order of\\n\\narguments doesn\\'t matter in this case\\n\\n2. def simple_interest(p,t,r):\\n\\n3. return (p*t*r)/100\\n\\n4. print(\"Simple Interest: \",simple_interest(t=10,r=10,p=1900))\\n\\nOutput:\\n\\nSimple Interest: 1900.0\\n\\nIf we provide the different name of arguments at the time of function call, an error will\\n\\nbe thrown.\\n\\nConsider the following example.\\n\\nExample 3\\n\\n1. #The function simple_interest(p, t, r) is called with the keyword arguments.\\n\\n2. def simple_interest(p,t,r):\\n\\n3. return (p*t*r)/100\\n\\n4.\\n\\n5. print(\"Simple Interest: \",simple_interest(time=10,rate=10,principle=1900)) # doesn\\n\\n\\'t find the exact match of the name of the arguments (keywords)\\n\\n#The function simple_interest(pdef simple_interest(p,t,r): return (p*t*r)/100print(\"Simple Interest: \",simple_in\\n\\nOutput:\\n\\nTypeError: simple_interest() got an unexpected keyword argument \\'time\\'\\n\\nThe python allows us to provide the mix of the required arguments and keyword\\n\\narguments at the time of function call. However, the required argument must not be\\n\\ngiven after the keyword argument, i.e., once the keyword argument is encountered in\\n\\nthe function call, the following arguments must also be the keyword arguments.\\n\\nConsider the following example.\\n\\nExample 4\\n\\n1. def func(name1,message,name2):\\n\\n2. print(\"printing the message with\",name1,\",\",message,\",and\",name2)\\n\\n3. func(\"John\",message=\"hello\",name2=\"David\") #the first argument is not the keywor\\n\\nd argument\\n\\ndef func(name1,message,name print(\"printing the message wfunc(\"John\",message=\"hello\",na\\n\\nOutput:\\n\\nprinting the message with John , hello ,and David\\n\\nThe following example will cause an error due to an in-proper mix of keyword and\\n\\nrequired arguments being passed in the function call.\\n\\nExample 5\\n\\n1. def func(name1,message,name2):\\n\\n2. print(\"printing the message with\",name1,\",\",message,\",and\",name2)\\n\\n3. func(\"John\",message=\"hello\",\"David\")\\n\\ndef func(name1,message,name print(\"printing the message wfunc(\"John\",message=\"hello\",\"D\\n\\nOutput:\\n\\nSyntaxError: positional argument follows keyword argument\\n\\nDefault Arguments\\n\\nPython allows us to initialize the arguments at the function definition. If the value of\\n\\nany of the argument is not provided at the time of function call, then that argument\\n\\ncan be initialized with the value given in the definition even if the argument is not\\n\\nspecified at the function call.\\n\\nExample 1\\n\\n1. def printme(name,age=22):\\n\\n2. print(\"My name is\",name,\"and age is\",age)\\n\\n3. printme(name = \"john\") #the variable age is not passed into the function however th\\n\\ne default value of age is considered in the function\\n\\ndef printme(name,age=22): print(\"My name is\",name,\"andprintme(name = \"john\") #the var\\n\\nOutput:\\n\\nMy name is john and age is 22\\n\\nExample 2\\n\\n1. def printme(name,age=22):\\n\\n2. print(\"My name is\",name,\"and age is\",age)\\n\\n3. printme(name = \"john\") #the variable age is not passed into the function however th\\n\\ne default value of age is considered in the function\\n\\n4. printme(age = 10,name=\"David\") #the value of age is overwritten here, 10 will be pr\\n\\ninted as age\\n\\nOutput:\\n\\nMy name is john and age is 22\\n\\nMy name is David and age is 10\\n\\nVariable length Arguments\\n\\nIn the large projects, sometimes we may not know the number of arguments to be\\n\\npassed in advance. In such cases, Python provides us the flexibility to provide the\\n\\ncomma separated values which are internally treated as tuples at the function call.\\n\\nHowever, at the function definition, we have to define the variable with * (star) as\\n\\n<variable - name >.\\n\\nConsider the following example.\\n\\nExample\\n\\n1. def printme(*names):\\n\\n2. print(\"type of passed argument is \",type(names))\\n\\n3. print(\"printing the passed arguments...\")\\n\\n4. for name in names:\\n\\n5. print(name)\\n\\n6. printme(\"john\",\"David\",\"smith\",\"nick\") def printme(*names): print(\"type of passed argume print(\"printing the passed arg for name in names: print(name)\\n\\n6. printme(\"john\",\"David\",\"smith\",\"nick\") def printme(*names): print(\"type of passed argume print(\"printing the passed arg for name in names: print(name)\\n\\nOutput:\\n\\ntype of passed argument is <class \\'tuple\\'>\\n\\nprinting the passed arguments...\\n\\njohn\\n\\nDavid\\n\\nsmith\\n\\nnick\\n\\nScope of variables\\n\\nThe scopes of the variables depend upon the location where the variable is being\\n\\ndeclared. The variable declared in one part of the program may not be accessible to\\n\\nthe other parts.\\n\\nIn python, the variables are defined with the two types of scopes.\\n\\n1. Global variables\\n\\n2. Local variables\\n\\nThe variable defined outside any function is known to have a global scope whereas\\n\\nthe variable defined inside a function is known to have a local scope.\\n\\nConsider the following example.\\n\\nExample 1\\n\\n1. def print_message():\\n\\n2. message = \"hello !! I am going to print a message.\" # the variable message is loc\\n\\nal to the function itself\\n\\n3. print(message)\\n\\n4. print_message()\\n\\n5. print(message) # this will cause an error since a local variable cannot be accessible\\n\\nhere.\\n\\ndef print_message(): message = \"hello !! I am going print(message)print_message()print(message) # this will cause\\n\\nOutput:\\n\\nhello !! I am going to print a message.\\n\\nFile \"/root/PycharmProjects/PythonTest/Test1.py\", line 5, in\\n\\nprint(message)\\n\\nNameError: name \\'message\\' is not defined\\n\\nExample 2\\n\\n1. def calculate(*args):\\n\\n2. sum=0\\n\\n3. for arg in args:\\n\\n4. sum = sum +arg\\n\\n5. print(\"The sum is\",sum)\\n\\n6. sum=0\\n\\n7. calculate(10,20,30) #60 will be printed as the sum\\n\\n8. print(\"Value of sum outside the function:\",sum) # 0 will be printed\\n\\ndef calculate(*args): sum=0 for arg in args: sum = sum +arg print(\"The sum is\",sum)\\n\\nOutput:\\n\\nThe sum is 60\\n\\nValue of sum outside the function: 0\\n\\nASSIGNMENT\\n\\nTOPIC-1 Python Basics Very Short Answer Type Questions(1 mark)\\n\\nQuestion 1. Name the Python Library modules which need to be imported to invoke the following functions :\\n\\n1. load () 2. pow () [CBSE Delhi 2016]\\n\\nQuestion 2. Name the modules to which the following func-tions belong:\\n\\n1. Uniform () 2. fabs ()\\n\\nQuestion 3. Differentiate between the round() and floor() functions with the help of suitable example.\\n\\nShort Answer Type Questions (2 marks):\\n\\nQuestion 1. Out of the following, find those identifiers, which cannot be used for naming Variables or functions in a Python program: Total * Tax, While, Class, Switch, 3rd Row, finally, Column 31, Total.\\n\\nQuestion 2. Name the Python Library modules which need to be imported to invoke the follwing functions :\\n\\n1. sqrt() 2. dump()\\n\\nQuestion 3. Out of the following, find the identifiers, which cannot be used for naming Variable or Functions in a Python program: [CBSE Delhi 2016] _Cost, Price*Qty, float, switch, Address one, Delete, Number12, do\\n\\nQuestion 4. Out of the following find those identifiers, which can not be used for naming Variable or Functions in a Python Program: Days * Rent, For, A_price, Grand Total, do, 2Clients, Participantl, My city\\n\\nQuestion 5. Name the function / method required for\\n\\n1. Finding second occurrence of m in madam. 2. get the position of an item in the list.\\n\\nQuestion 6. Which string method is used to implement the following:\\n\\n1. To count the number of characters in the string. 2. To change the first character of the string in capital letter. 3. To check whether given character is letter or a number. 4. To change lowercase to uppercase letter. 5. Change one character into another character.\\n\\nQuestion 7. What is the difference between input() and raw_input()?\\n\\nQuestion 8. What are the two ways of output using print()?.\\n\\nQuestion 9. Why does the expression 2 + 3*4 result in the value 14 and not the value 24?\\n\\nQuestion 10. How many times will Python execute the code inside the following while loop? You should answer the question without using the interpreter! Justify your answers.\\n\\ni = 0 while i < 0 and i > 2 : print “Hello ...” i = i+1 .\\n\\nQuestion 11. How many times will Python execute the code inside the following while loop?\\n\\ni = 1 while i < 10000 and i > 0 and 1: print “ Hello ...” i = 2 * i\\n\\nQuestion 12. Convert the following for loop into while loop, for i in range (1,100):\\n\\nif i % 4 == 2 : print i, “mod”, 4 , “= 2”\\n\\nQuestion 13. Convert the following for loop into while loop.\\n\\nfor i in range(10): for j in range(i): print \\'$\\', print\"\\n\\nQuestion 14. Rewrite the following for loop into while loop:\\n\\nfor a in range(25,500,25): print a\\n\\nQuestion 15. Rewrite the following for loop into while loop:\\n\\nfor a in range(90, 9, -9): print a\\n\\nQuestion 16. Convert the following while loop into for loop:\\n\\ni = 0 while i < 100: if i % 2 == 0: print i, “is even” else: print i, “is odd” i = i + 1\\n\\nQuestion 17. Convert the following while loop into for loop\\n\\nchar = \"\" print “Press Tab Enter to stop ...” iteration = 0 while not char == “\\\\t” and not iteration > 99: print “Continue?” char = raw_input() iteration+ = 1\\n\\nQuestion 18. Rewrite the following while loop into for loop:\\n\\ni = 10 while i<250: print i i = i+50\\n\\nQuestion 19. Rewrite the following while loop into for loop:\\n\\ni=88 while(i>=8): print i i- = 8\\n\\nQuestion 20. Write for statement to print the series 10,20,30, ……., 300\\n\\nQuestion 21. Write for statement to print the series 105,98,91,… .7\\n\\nQuestion 22. Write the while loop to print the series: 5,10,15,…100\\n\\nQuestion 23. How many times is the following loop executed? for a in range(100,10,-10): print a.\\n\\nQuestion 24. How many times is the following loop executed?\\n\\ni = 100 while (i<=200): print i i + =20\\n\\nQuestion 25. State whether the statement is True or False? No matter the underlying data type if values are equal returns true,\\n\\nchar ch1, ch2; if (ch1==ch2) print “Equal”\\n\\nQuestion 26. What are the logical operators of Python?\\n\\nQuestion 27. What is the difference between „/‟ and „//‟ ?\\n\\nQuestion 28. How can we import a module in Python?\\n\\nQuestion 29. What is the difference between parameters and arguments? Question 30. What are default arguments?\\n\\nQuestion 31. What are keyword arguments?\\n\\nQuestion 32. What are the advantages of keyword arguments?\\n\\nQuestion 33. What does “in” do?\\n\\nQuestion 34. What does “not in” do?\\n\\nQuestion 35. What does “slice” do?\\n\\nQuestion 36. What is the use of negative indices in slicing?\\n\\nQuestion 37. Explain find() function?\\n\\nQuestion 38. What are the differences between arrays and lists?.\\n\\nQuestion 39. What is the difference between a tuple and a list?\\n\\nQuestion 40. Carefully observe the following python code and answer the question that follows: x=5 def func2(): x=3 global x x=x+1 print x print x On execution the above code produces the following output. 6 3 Explain the output with respect to the scope of the variables.\\n\\nQuestion 41. Explain the two strategies employed by Python for memory allocation.\\n\\nTOPIC – 2\\n\\nWriting Python Programs\\n\\nQuestion 1. Rewrite the following code in Python after removing all syntax errors(s). Underline each correction done in the code. for Name in [Amar, Shveta, Parag] if Name [0] = „s‟: Print (Name)\\n\\nQuestion 2. Rewrite the following code is Python after removing all syntax errors(s). Underline each correction done in the code. for Name in [Ramesh, Suraj, Priya] if Name [0] = „S‟: Print (Name)\\n\\nQuestion 3. What will be the output of the following python code considering the following set of inputs? AMAR THREE A123 1200 Also, explain the try and except used in the code. Start = 0 while True : Try: Number = int (raw input (“Enter Number”)) break except valueError : start=start+2 print (“Re-enter an integer”) Print (start)\\n\\nQuestion 4. Give the output of following with justification.\\n\\nx = 3 x+ = x-x print x\\n\\nQuestion 5. What would be the output of the following code snippets? print 4+9 print “4+9”\\n\\nQuestion 6. Highlight the literals in the following program and also predict the output. Mention the types of variables in the program.\\n\\na=3 b=\\'1\\' c=a-2 d=a-c e=“Kathy” f=„went to party.‟ g=„with Sathy‟ print a,g,e,f,a,g,“,”,d,g,“,”,c,g,“and his”,e,f\\n\\nQuestion 7. What is the result of 4+4/2+2?\\n\\nQuestion 8. Write the output from the following code:\\n\\nx= 10 y = 20 if (x>y): print x+y else: print x-y\\n\\nQuestion 9. Write the output of the following code: print “Python is an \\\\n interpreted \\\\t Language”\\n\\nQuestion 10. Write the output from the following code:\\n\\ns = 0 for I in range(10,2,-2): s+=I print “sum= \",s\\n\\nQuestion 11. Write the output from the following code:\\n\\nn = 50 i = 5 s = 0 while i<n: s+ = i i+ = 10 print “i=”,i print “sum=”,s i= 55 sum= 125\\n\\nQuestion 12. Write the output from the following code:\\n\\nn = 50 i = 5 s = 0 while i<n: s+ = i i+ = 10 print “i=”,i print “sum=”,s\\n\\nQuestion 13. Observe the following Python code carefully and obtain the output, which will appear on the screen after execution of it. [CBSE SQP 2016]\\n\\ndef Findoutput (): L = \"earn\" X = \" \" count = 1 for i in L: if i in [\\'a\\', \\'e\\',\\' i\\', \\'o\\', \\'u\\']: x = x + 1. Swapcase () else: if (count % 2 ! = 0): x = x + str (len (L[:count])) else: x = x + 1 count = count + 1 print x Findoutput ()\\n\\nQuestion 14. Find and write the output of the following Python code:\\n\\nNumber = [9,18,27,36] for N in Numbers: print (N, \"#\", end = \" \") print ()\\n\\nQuestion 15. Find and write the output of the following Python code :\\n\\nValues = [10,20,30,40] for val in Values: for I in range (1, Val%9): print (I,\" * \", end= \" \") print ()\\n\\nQuestion 16. Write the output from the following code:\\n\\ny = 2000 if (y%4==0): print “Leap Year” else: print “Not leap year”\\n\\nQuestion 17. What does the following print?\\n\\nfor i in range (1,10): for j in\\'range (1,10): print i * j, print\\n\\nQuestion 18. What will be the output of the following statement? Also, justify the answer.\\n\\n>> print „Radhsa‟s dress is pretty‟.\\n\\nQuestion 19. Give the output of the following statements :\\n\\n>>> str=„Honesty is the best policy‟ >>> str.replace(„o‟,„*‟)\\n\\nQuestion 20. Give the output of the following statements :\\n\\n>> str=„Hello Python‟ >>> str.istitle()\\n\\nQuestion 21. Give the output of the following statements:\\n\\n>> str=„Hello Python‟ >>> print str.lstrip(“Hel”)\\n\\nQuestion 22. Write the output for the following codes:\\n\\nA={10:1000,20:2000,30:3000,40:4000,50:5000} print A.items() print A.keys() print A.values()\\n\\nQuestion 23. Write the output from the following code:\\n\\nt=(10,20,30,40,50)\\n\\nprint len(t) Question 24. Write the output from the following code:\\n\\nt=(„a‟,„b‟,„c‟,„A‟,„B‟) print max(t) print min(t)\\n\\nQuestion 25. Find the output from the following code:\\n\\nT=(10,30,2,50,5,6,100,65) print max(T) print min(T)\\n\\nQuestion 26. Write the output from the following code:\\n\\nT1=(10,20,30,40,50) T2 =(10,20,30,40,50) T3 =(100,200,300) cmp(T1, T2) cmp(T2,T3) cmp(T3,T1)\\n\\nQuestion 27. Write the output from the following code:\\n\\nT1=(10,20,30,40,50) T2=(100,200,300) T3=T1+T2 print T3\\n\\nQuestion 28. Find the output from the following code:\\n\\nt=tuple() t = t +(„Python‟,) print t print len(t) t1=(10,20,30) print len(t1) Question 29. Rewrite the following code in Python after remo¬ving all syntax error(s). Underline each correction done in the code.\\n\\nfor student in [Jaya, Priya, Gagan]\\n\\nIf Student [0] = „S‟: print (student)\\n\\nQuestion 30. Find and write the output of the following Python code:\\n\\nValues = [11, 22, 33, 44] for V in Values: for NV in range (1, V%10): print (NV, V)\\n\\nQuestion 31. Write a Python function to find the Max of three numbers.\\n\\nQuestion 32. Write a Python function to sum all the numbers in a list.\\n\\nSample List : (8, 2, 3, 0, 7) Expected Output : 20\\n\\nQuestion 33. Write a Python function to multiply all the numbers in a list. Sample List : (8, 2, 3, -1, 7) Expected Output : -336\\n\\nQuestion 34. Write a Python program to reverse a string. Sample String : \"1234abcd\" Expected Output : \"dcba4321\"\\n\\nQuestion 35. Write a Python function to calculate the factorial of a number (a non- negative integer). The function accepts the number as an argument.\\n\\nQuestion 36. Write a Python function to check whether a number is in a given range.\\n\\nQuestion 37. Write a Python function that accepts a string and calculate the number of upper case letters and lower case letters. Sample String : \\'The quick Brow Fox\\' Expected Output : No. of Upper case characters : 3 No. of Lower case Characters : 12\\n\\nQuestion 38. Write a Python function that takes a list and returns a new list with unique elements of the first list.\\n\\nSample List : [1,2,3,3,3,3,4,5] Unique List : [1, 2, 3, 4, 5]\\n\\nQuestion 39. Write a Python function that takes a number as a parameter and check the number is prime or not.\\n\\nNote : A prime number (or a prime) is a natural number greater than 1 and that has no positive divisors other than 1 and itself.\\n\\nQuestion 40. Write a Python program to print the even numbers from a given list. Sample List : [1, 2, 3, 4, 5, 6, 7, 8, 9] Expected Result : [2, 4, 6, 8]')]"
            ]
          },
          "metadata": {},
          "execution_count": 10
        }
      ]
    },
    {
      "cell_type": "code",
      "source": [
        "text_splitter = CharacterTextSplitter(chunk_size = 200, chunk_overlap = 50)\n",
        "text_splitter"
      ],
      "metadata": {
        "id": "hhxACtZdxQdr",
        "colab": {
          "base_uri": "https://localhost:8080/"
        },
        "outputId": "e895408c-adbb-4fc2-e2e6-d1b609598113"
      },
      "execution_count": 11,
      "outputs": [
        {
          "output_type": "execute_result",
          "data": {
            "text/plain": [
              "<langchain_text_splitters.character.CharacterTextSplitter at 0x7f176c12c390>"
            ]
          },
          "metadata": {},
          "execution_count": 11
        }
      ]
    },
    {
      "cell_type": "code",
      "source": [
        "texts = text_splitter.split_documents(documents)"
      ],
      "metadata": {
        "colab": {
          "base_uri": "https://localhost:8080/"
        },
        "id": "ATuqSatqSlRG",
        "outputId": "154a96c0-9a65-413b-c719-e67041b28e90"
      },
      "execution_count": 12,
      "outputs": [
        {
          "output_type": "stream",
          "name": "stderr",
          "text": [
            "WARNING:langchain_text_splitters.base:Created a chunk of size 204, which is longer than the specified 200\n",
            "WARNING:langchain_text_splitters.base:Created a chunk of size 215, which is longer than the specified 200\n",
            "WARNING:langchain_text_splitters.base:Created a chunk of size 208, which is longer than the specified 200\n",
            "WARNING:langchain_text_splitters.base:Created a chunk of size 268, which is longer than the specified 200\n",
            "WARNING:langchain_text_splitters.base:Created a chunk of size 272, which is longer than the specified 200\n",
            "WARNING:langchain_text_splitters.base:Created a chunk of size 331, which is longer than the specified 200\n",
            "WARNING:langchain_text_splitters.base:Created a chunk of size 231, which is longer than the specified 200\n",
            "WARNING:langchain_text_splitters.base:Created a chunk of size 208, which is longer than the specified 200\n",
            "WARNING:langchain_text_splitters.base:Created a chunk of size 251, which is longer than the specified 200\n"
          ]
        }
      ]
    },
    {
      "cell_type": "code",
      "source": [
        "type(texts)"
      ],
      "metadata": {
        "colab": {
          "base_uri": "https://localhost:8080/"
        },
        "id": "RJaVTdp7Tk-X",
        "outputId": "093dbe57-7f4d-4d75-e0ab-252c7e1df143"
      },
      "execution_count": 13,
      "outputs": [
        {
          "output_type": "execute_result",
          "data": {
            "text/plain": [
              "list"
            ]
          },
          "metadata": {},
          "execution_count": 13
        }
      ]
    },
    {
      "cell_type": "code",
      "source": [
        "texts[2]"
      ],
      "metadata": {
        "colab": {
          "base_uri": "https://localhost:8080/"
        },
        "id": "UnR86rlJUQkp",
        "outputId": "117252bb-975e-4a43-b40c-7f5523f2abaa"
      },
      "execution_count": 14,
      "outputs": [
        {
          "output_type": "execute_result",
          "data": {
            "text/plain": [
              "Document(page_content='as the organized block of reusable code which can be called whenever required.\\n\\nPython allows us to divide a large program into the basic building blocks known as')"
            ]
          },
          "metadata": {},
          "execution_count": 14
        }
      ]
    },
    {
      "cell_type": "code",
      "source": [
        "# embedding\n",
        "embeddings = HuggingFaceEmbeddings()"
      ],
      "metadata": {
        "colab": {
          "base_uri": "https://localhost:8080/"
        },
        "id": "9Y5IUUDHUtZo",
        "outputId": "932be769-1b96-4442-86b8-414c137f0db0"
      },
      "execution_count": 15,
      "outputs": [
        {
          "output_type": "stream",
          "name": "stderr",
          "text": [
            "<ipython-input-15-28a2bdb359ff>:2: LangChainDeprecationWarning: The class `HuggingFaceEmbeddings` was deprecated in LangChain 0.2.2 and will be removed in 0.3.0. An updated version of the class exists in the langchain-huggingface package and should be used instead. To use it run `pip install -U langchain-huggingface` and import as `from langchain_huggingface import HuggingFaceEmbeddings`.\n",
            "  embeddings = HuggingFaceEmbeddings()\n",
            "/usr/local/lib/python3.11/dist-packages/huggingface_hub/utils/_auth.py:94: UserWarning: \n",
            "The secret `HF_TOKEN` does not exist in your Colab secrets.\n",
            "To authenticate with the Hugging Face Hub, create a token in your settings tab (https://huggingface.co/settings/tokens), set it as secret in your Google Colab and restart your session.\n",
            "You will be able to reuse this secret in all of your notebooks.\n",
            "Please note that authentication is recommended but still optional to access public models or datasets.\n",
            "  warnings.warn(\n"
          ]
        }
      ]
    },
    {
      "cell_type": "code",
      "source": [
        "persist_directory = 'vector_db'"
      ],
      "metadata": {
        "id": "Tgz6R0C4U823"
      },
      "execution_count": 16,
      "outputs": []
    },
    {
      "cell_type": "code",
      "source": [
        "# vector DataBase\n",
        "vectordb = Chroma.from_documents(texts, embeddings, persist_directory=persist_directory)"
      ],
      "metadata": {
        "id": "zfbXbXvzVqLs"
      },
      "execution_count": 17,
      "outputs": []
    },
    {
      "cell_type": "code",
      "source": [
        "# retriever\n",
        "retriever = vectordb.as_retriever()"
      ],
      "metadata": {
        "id": "WecQwlCpWKaO"
      },
      "execution_count": 18,
      "outputs": []
    },
    {
      "cell_type": "code",
      "source": [
        "# llm from groq\n",
        "llm = ChatGroq(model = \"llama-3.1-8b-instant\",temperature=0)"
      ],
      "metadata": {
        "id": "rN8H6R_hW97Y"
      },
      "execution_count": 19,
      "outputs": []
    },
    {
      "cell_type": "code",
      "source": [
        "qa_chain = RetrievalQA.from_chain_type(\n",
        "    llm=llm,\n",
        "    chain_type=\"stuff\",\n",
        "    retriever=retriever,\n",
        "    return_source_documents=True\n",
        "    )"
      ],
      "metadata": {
        "id": "J5Kg3rYQZLAq"
      },
      "execution_count": 20,
      "outputs": []
    },
    {
      "cell_type": "code",
      "source": [
        "# invoke the qa chain and get a response for user query\n",
        "query = 'what are the inbuilt functions from this pdf'\n",
        "response = qa_chain.invoke({'query': query})"
      ],
      "metadata": {
        "id": "52Flz7TCZyUG"
      },
      "execution_count": 21,
      "outputs": []
    },
    {
      "cell_type": "code",
      "source": [
        "print(response)"
      ],
      "metadata": {
        "colab": {
          "base_uri": "https://localhost:8080/"
        },
        "id": "l_USoSPXaQTJ",
        "outputId": "4752185f-a59a-485a-ec26-0377e931887e"
      },
      "execution_count": 22,
      "outputs": [
        {
          "output_type": "stream",
          "name": "stdout",
          "text": [
            "{'query': 'what are the inbuilt functions from this pdf', 'result': 'Based on the provided context, the inbuilt functions mentioned are:\\n\\n1. load()\\n2. pow()\\n3. Uniform()\\n4. fabs()\\n5. sqrt()\\n6. dump()\\n\\nThese functions are part of the following Python Library modules:\\n\\n1. load() - math module\\n2. pow() - math module\\n3. Uniform() - random module\\n4. fabs() - math module\\n5. sqrt() - math module\\n6. dump() - pickle module', 'source_documents': [Document(page_content='1. load () 2. pow () [CBSE Delhi 2016]\\n\\nQuestion 2. Name the modules to which the following func-tions belong:\\n\\n1. Uniform () 2. fabs ()'), Document(page_content='1. load () 2. pow () [CBSE Delhi 2016]\\n\\nQuestion 2. Name the modules to which the following func-tions belong:\\n\\n1. Uniform () 2. fabs ()'), Document(page_content='Question 2. Name the Python Library modules which need to be imported to invoke the follwing functions :\\n\\n1. sqrt() 2. dump()'), Document(page_content='Question 2. Name the Python Library modules which need to be imported to invoke the follwing functions :\\n\\n1. sqrt() 2. dump()')]}\n"
          ]
        }
      ]
    },
    {
      "cell_type": "code",
      "source": [
        "print(response['result'])"
      ],
      "metadata": {
        "colab": {
          "base_uri": "https://localhost:8080/"
        },
        "id": "g7BfXQe5a5Yh",
        "outputId": "2d16c366-78c6-41e4-e92d-40cd84f74724"
      },
      "execution_count": 23,
      "outputs": [
        {
          "output_type": "stream",
          "name": "stdout",
          "text": [
            "Based on the provided context, the inbuilt functions mentioned are:\n",
            "\n",
            "1. load()\n",
            "2. pow()\n",
            "3. Uniform()\n",
            "4. fabs()\n",
            "5. sqrt()\n",
            "6. dump()\n",
            "\n",
            "These functions are part of the following Python Library modules:\n",
            "\n",
            "1. load() - math module\n",
            "2. pow() - math module\n",
            "3. Uniform() - random module\n",
            "4. fabs() - math module\n",
            "5. sqrt() - math module\n",
            "6. dump() - pickle module\n"
          ]
        }
      ]
    },
    {
      "cell_type": "code",
      "source": [
        "# print(response['source_documents'][0].metadata[\"source\"])"
      ],
      "metadata": {
        "id": "oVF_VSJBePTt"
      },
      "execution_count": 24,
      "outputs": []
    },
    {
      "cell_type": "code",
      "source": [
        "print(response['source_documents'][0].metadata.keys())"
      ],
      "metadata": {
        "colab": {
          "base_uri": "https://localhost:8080/"
        },
        "id": "1w3rDg-TbHEe",
        "outputId": "613f16ed-6e9e-47d6-8736-b3cb24499ce7"
      },
      "execution_count": 25,
      "outputs": [
        {
          "output_type": "stream",
          "name": "stdout",
          "text": [
            "dict_keys([])\n"
          ]
        }
      ]
    },
    {
      "cell_type": "code",
      "source": [
        "query = \" give me summary of all function from this pdf?\"\n",
        "response = qa_chain.invoke({'query': query})\n",
        "print(response['result'])\n",
        "print('*'*30)\n",
        "print(response['source_documents'][0].page_content)\n",
        "\n"
      ],
      "metadata": {
        "collapsed": true,
        "colab": {
          "base_uri": "https://localhost:8080/"
        },
        "id": "8BsAZ2gXbogv",
        "outputId": "5ea84917-5d4d-4627-f9ed-936d68490886"
      },
      "execution_count": 26,
      "outputs": [
        {
          "output_type": "stream",
          "name": "stdout",
          "text": [
            "However, I don't see a PDF attached. But based on the context you provided earlier, I can give you a summary of the functions mentioned:\n",
            "\n",
            "1. **Uniform ()**: This function is not a standard function in most programming languages. However, I'm assuming it might be related to the `uniform()` function in Python's random module, which generates a random floating point number in the range [0, 1).\n",
            "\n",
            "2. **fabs ()**: This function is a standard function in C and C++ that returns the absolute value of a given number. It is also available in Python as `math.fabs()` or simply `abs()`.\n",
            "\n",
            "As for the functions mentioned in the text, here's a summary:\n",
            "\n",
            "1. **round()**: This function rounds a given number to the nearest integer. For example, `round(3.7)` returns 4, while `round(3.3)` returns 3.\n",
            "\n",
            "2. **floor()**: This function returns the largest integer less than or equal to a given number. For example, `math.floor(3.7)` returns 3, while `math.floor(3.3)` returns 3.\n",
            "\n",
            "Here's an example that differentiates between `round()` and `floor()`:\n",
            "\n",
            "```python\n",
            "import math\n",
            "\n",
            "print(math.floor(3.7))  # Output: 3\n",
            "print(math.floor(3.3))  # Output: 3\n",
            "print(math.floor(-3.7))  # Output: -4\n",
            "print(math.floor(-3.3))  # Output: -4\n",
            "\n",
            "print(round(3.7))  # Output: 4\n",
            "print(round(3.3))  # Output: 3\n",
            "print(round(-3.7))  # Output: -4\n",
            "print(round(-3.3))  # Output: -3\n",
            "```\n",
            "\n",
            "In summary, `floor()` returns the largest integer less than or equal to a given number, while `round()` rounds a given number to the nearest integer.\n",
            "******************************\n",
            "1. Uniform () 2. fabs ()\n",
            "\n",
            "Question 3. Differentiate between the round() and floor() functions with the help of suitable example.\n",
            "\n",
            "Short Answer Type Questions (2 marks):\n"
          ]
        }
      ]
    },
    {
      "cell_type": "code",
      "source": [
        "# print(\"Source_document:\", response[\"source_documents\"][0].metadata[\"source\"])"
      ],
      "metadata": {
        "id": "mZFTotODcqnd"
      },
      "execution_count": 27,
      "outputs": []
    },
    {
      "cell_type": "code",
      "source": [],
      "metadata": {
        "id": "LuEiKkSHhIaK"
      },
      "execution_count": 27,
      "outputs": []
    }
  ]
}