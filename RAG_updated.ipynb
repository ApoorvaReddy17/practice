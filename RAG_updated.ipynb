{
  "nbformat": 4,
  "nbformat_minor": 0,
  "metadata": {
    "colab": {
      "provenance": [],
      "gpuType": "T4",
      "mount_file_id": "1LYAA1wmv_sB1HV_N-Xww_KsyUgT1PlbO",
      "authorship_tag": "ABX9TyOWzylb5LQVH347QR+qR7oo",
      "include_colab_link": true
    },
    "kernelspec": {
      "name": "python3",
      "display_name": "Python 3"
    },
    "language_info": {
      "name": "python"
    },
    "accelerator": "GPU"
  },
  "cells": [
    {
      "cell_type": "markdown",
      "metadata": {
        "id": "view-in-github",
        "colab_type": "text"
      },
      "source": [
        "<a href=\"https://colab.research.google.com/github/ApoorvaReddy17/practice/blob/main/RAG_updated.ipynb\" target=\"_parent\"><img src=\"https://colab.research.google.com/assets/colab-badge.svg\" alt=\"Open In Colab\"/></a>"
      ]
    },
    {
      "cell_type": "markdown",
      "source": [
        "# **Retrieval-Augmented Generation (RAG)**"
      ],
      "metadata": {
        "id": "Iip5LnCd2B11"
      }
    },
    {
      "cell_type": "markdown",
      "source": [
        "\n",
        "RAG is an AI model architecture that retrieves relevant documents from a knowledge base and uses them as context to generate responses. It improves accuracy and reduces hallucination.\n",
        "\n",
        "\n",
        "**Components of RAG**\n",
        "\n",
        "**Retriever** – Finds relevant documents from an external source (e.g., vector database).\n",
        "\n",
        "**Generator** – Uses a language model (like GPT) to generate responses based on retrieved documents.\n",
        "\n",
        "**Integration** – Combines retrieval and generation in a pipeline."
      ],
      "metadata": {
        "id": "aYE-Ce4KL3rz"
      }
    },
    {
      "cell_type": "markdown",
      "source": [
        "# 1. What is RAG\n",
        "RAG is used in LLM model\n",
        "\n",
        "llm model is part of the Generative ai\n",
        "\n",
        "generative ai is part of the datascience"
      ],
      "metadata": {
        "id": "dhblRfQP_6jf"
      }
    },
    {
      "cell_type": "markdown",
      "source": [
        "# 2. Keep Upgrading Versions (Upgrade LLM Model on a Day-to-Day Basis)\n",
        "\n",
        "Model \tVersion\t ReleaseYear\t    Notes\n",
        "\n",
        "ChatGPT\t3.0      2022\t   Initial public release of GPT-3-based chatbot.\n",
        "\n",
        "ChatGPT\t3.5\t     2023\t   Improved model with better reasoning.\n",
        "\n",
        "ChatGPT\t4.0\t     2024\t   Major leap in accuracy; multi-modal capabilities (text + image).\n",
        "\n",
        "ChatGPT\t4.5\t     2025\t   Incremental improvements, faster responses, better context retention.\n",
        "\n",
        "Gemini\t2B\t     2025\t   Lightweight version; optimized for mobile and efficient inference.\n",
        "\n",
        "Gemini\t9B\t     2025  \tMid-sized version; more powerful, designed for broader NLP tasks.\n",
        "\n",
        "LLaMA\t3 8B\t     2024  \tHigh-performance, efficient; supports on-device and edge AI deployments.\n",
        "\n",
        "LLaMA\t3 70B\t     2024  \tLarge-scale model; excels in reasoning and multilingual tasks.\n"
      ],
      "metadata": {
        "id": "yUj-wojg_6e1"
      }
    },
    {
      "cell_type": "markdown",
      "source": [
        "# **3. Why RAG Was Introduced and Applied in LLM Models**\n",
        "\n",
        "Problem: LLMs Are Not Always Up to Date\n",
        "\n",
        "Large Language Models (LLMs) like ChatGPT, Gemini, and LLaMA are trained on massive datasets, but these datasets are fixed at the time of training.\n",
        "\n",
        "As a result, LLMs lack real-time awareness and cannot retrieve fresh or evolving information after their last training cut-off date.\n",
        "\n",
        "✅ Solution: Retrieval-Augmented Generation (RAG)\n",
        "RAG = LLM + External Knowledge Retrieval\n",
        "\n",
        "RAG enhances LLMs by integrating them with search or database retrieval systems.\n",
        "\n",
        "Instead of relying only on what the model “remembers,” RAG allows the model to fetch relevant documents or data from an external source (e.g., a vector store or search engine) at runtime.\n",
        "\n",
        "💡 Key Benefits of RAG:\n",
        "\n",
        "Feature\tBenefit\n",
        "Up-to-date responses\tCan pull live or recent information\n",
        "Grounded answers\tReduces hallucinations by referencing external sources\n",
        "Domain adaptation\tCustomize LLMs for specific fields (e.g., legal, medical)\n",
        "Smaller model size possible\tOffloads knowledge to external data\n",
        "📌 Example Use Case:\n",
        "A finance chatbot powered by an LLM with RAG can retrieve the latest stock prices or market news from an API or search engine — even if that information wasn't part of the model's training data.\n",
        "\n",
        "Want me to visualize this too (e.g., diagram of how RAG works with an LLM)?"
      ],
      "metadata": {
        "id": "Fad5PSJi_6Zh"
      }
    },
    {
      "cell_type": "markdown",
      "source": [],
      "metadata": {
        "id": "L45WN_4u_58s"
      }
    },
    {
      "cell_type": "markdown",
      "source": [
        "Framework: **LANGCHAIN**\n",
        "\n",
        "LLM MODEL - **llama-3.1-8b-instant**\n",
        "\n",
        "LPU = **GROQ API**\n",
        "\n",
        "**HUGGING FACE**\n"
      ],
      "metadata": {
        "id": "s8LBd0f6NTRs"
      }
    },
    {
      "cell_type": "code",
      "source": [
        "# from google.colab import drive\n",
        "# drive.mount(\"/content/drive\")"
      ],
      "metadata": {
        "id": "SNnTth165ljO"
      },
      "execution_count": 1,
      "outputs": []
    },
    {
      "cell_type": "markdown",
      "source": [
        "## **10. created a requirment.txt**\n",
        "\n",
        "chromadb == 0.5.5\n",
        "\n",
        "langchain-chroma==0.1.2\n",
        "\n",
        "langchain==0.2.11\n",
        "\n",
        "langchain-community==0.2.10\n",
        "\n",
        "langchain-text-splitters==0.2.2\n",
        "\n",
        "langchain-groq==0.1.6\n",
        "\n",
        "transformers==4.43.2\n",
        "\n",
        "sentence-transformers==3.0.1\n",
        "\n",
        "unstructured==0.15.0\n",
        "\n",
        "unstructured[pdf]==0.15.0"
      ],
      "metadata": {
        "id": "Pg3cY3U0-lM7"
      }
    },
    {
      "cell_type": "code",
      "source": [
        "# !pip install -r requirment.txt"
      ],
      "metadata": {
        "collapsed": true,
        "id": "ON4uAbm26f7C"
      },
      "execution_count": 2,
      "outputs": []
    },
    {
      "cell_type": "code",
      "source": [
        "import os\n",
        "from langchain.document_loaders import UnstructuredFileIOLoader\n",
        "from langchain.text_splitter import CharacterTextSplitter\n",
        "from langchain_community.embeddings import HuggingFaceEmbeddings\n",
        "from langchain_chroma import Chroma\n",
        "from langchain_groq import ChatGroq\n",
        "from langchain.chains import RetrievalQA\n"
      ],
      "metadata": {
        "id": "_O7vCGXM-4xj"
      },
      "execution_count": 3,
      "outputs": []
    },
    {
      "cell_type": "markdown",
      "source": [
        "groq api key\n",
        "\n",
        "\n",
        "name: apoorva_groq\n",
        "\n",
        "s_key: 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"
      ],
      "metadata": {
        "id": "Lzrl2kDWDE5O"
      }
    },
    {
      "cell_type": "code",
      "source": [
        "os.environ[\"GROQ_API_KEY\"]=\"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\""
      ],
      "metadata": {
        "id": "j_FIC8D5By6S"
      },
      "execution_count": 4,
      "outputs": []
    },
    {
      "cell_type": "code",
      "source": [
        "# fetch the pdf from url\n",
        "import requests\n",
        "url=\"https://dspmuranchi.ac.in/pdf/Blog/Python%20Built-In%20Functions.pdf\""
      ],
      "metadata": {
        "id": "ZfBXF6kbD4kQ"
      },
      "execution_count": 5,
      "outputs": []
    },
    {
      "cell_type": "code",
      "source": [
        "# save the pdf in local file\n",
        "with open(\"python_functions.pdf\",\"wb\") as f:\n",
        "  f.write(requests.get(url).content)"
      ],
      "metadata": {
        "id": "OFZLA0S9qx7T"
      },
      "execution_count": 6,
      "outputs": []
    },
    {
      "cell_type": "code",
      "source": [
        "\n",
        "#!pip install --upgrade unstructured\n",
        "#!pip install --upgrade pdfminer.six\n",
        "#!pip install pi_heif\n"
      ],
      "metadata": {
        "id": "kNNfpZ50r006"
      },
      "execution_count": 7,
      "outputs": []
    },
    {
      "cell_type": "code",
      "source": [
        "# load the document\n",
        "with open (\"python_functions.pdf\",\"rb\") as f:\n",
        "  loader = UnstructuredFileIOLoader(file=f)\n",
        "  documents = loader.load()\n",
        "documents"
      ],
      "metadata": {
        "colab": {
          "base_uri": "https://localhost:8080/"
        },
        "id": "gYg_c-cVxNck",
        "outputId": "cd28679a-bcfa-40a6-b760-d644c77c4c20"
      },
      "execution_count": 8,
      "outputs": [
        {
          "output_type": "execute_result",
          "data": {
            "text/plain": [
              "[Document(page_content='Python Built-In Functions\\n\\nGaurav Kr. suman\\n\\nMIT5\\n\\n1. abs()\\n\\nThe abs() is one of the most popular Python built-in functions, which returns the absolute value of a number. A negative value’s absolute is that value is positive.\\n\\n>>> abs(-7)\\n\\n7\\n\\n>>> abs(7)\\n\\n7\\n\\n>>> abs(0)\\n\\n2. all()\\n\\nThe all() function takes a container as an argument. This Built in Functions returns True if all values in a python iterable have a Boolean value of True. An empty value has a Boolean value of False.\\n\\n>>> all({\\'*\\',\\'\\',\\'\\'})\\n\\nFalse\\n\\n>>> all([\\' \\',\\' \\',\\' \\'])\\n\\nTrue\\n\\n3. any()\\n\\nLike all(), it takes one argument and returns True if, even one value in the iterable has a Boolean value of True.\\n\\n>>> any((1,0,0))\\n\\nTrue\\n\\n>>> any((0,0,0))\\n\\nFalse\\n\\n4. ascii()\\n\\nIt is important Python built-in functions, returns a printable representation of a python object (like a string or a Python list). Let’s take a Romanian character.\\n\\n1 | P a g e\\n\\n>>> ascii(\\'ș\\')\\n\\n“‘\\\\\\\\u0219′”\\n\\nSince this was a non-ASCII character in python, the interpreter added a backslash (\\\\) and escaped it using another backslash.\\n\\n>>> ascii(\\'ușor\\')\\n\\n“‘u\\\\\\\\u0219or\\'”\\n\\nLet’s apply it to a list.\\n\\n>>> ascii([\\'s\\',\\'ș\\'])\\n\\n“[‘s’, ‘\\\\\\\\u0219’]”\\n\\n5. bin()\\n\\nbin() converts an integer to a binary string. We have seen this and other functions in our article on Python Numbers.\\n\\n>>> bin(7)\\n\\n‘0b111’\\n\\nWe can’t apply it on floats, though.\\n\\n>>> bin(7.0)\\n\\nTraceback (most recent call last):\\n\\nFile “<pyshell#20>”, line 1, in <module>\\n\\nbin(7.0)\\n\\nTypeError: ‘float’ object cannot be interpreted as an integer\\n\\n6. bool()\\n\\nbool() converts a value to Boolean.\\n\\n>>> bool(0.5)\\n\\nTrue\\n\\n>>> bool(\\'\\')\\n\\nFalse\\n\\n>>> bool(True)\\n\\nTrue\\n\\n7. bytearray()\\n\\n2 | P a g e\\n\\nbytearray() returns a python array of a given byte size.\\n\\n>>> a=bytearray(4)\\n\\n>>> a\\n\\nbytearray(b’\\\\x00\\\\x00\\\\x00\\\\x00′)\\n\\n>>> a.append(1)\\n\\n>>> a\\n\\nbytearray(b’\\\\x00\\\\x00\\\\x00\\\\x00\\\\x01′)\\n\\n>>> a[0]=1\\n\\n>>> a\\n\\nbytearray(b’\\\\x01\\\\x00\\\\x00\\\\x00\\\\x01′)\\n\\n>>> a[0]\\n\\n1\\n\\nLet’s do this on a list.\\n\\n>>> bytearray([1,2,3,4])\\n\\nbytearray(b’\\\\x01\\\\x02\\\\x03\\\\x04′)\\n\\n8. bytes()\\n\\nbytes() returns an immutable bytes object.\\n\\n>>> bytes(5)\\n\\nb’\\\\x00\\\\x00\\\\x00\\\\x00\\\\x00′\\n\\n>>> bytes([1,2,3,4,5])\\n\\nb’\\\\x01\\\\x02\\\\x03\\\\x04\\\\x05′\\n\\n>>> bytes(\\'hello\\',\\'utf-8\\')\\n\\nb’hello’\\n\\nHere, utf-8 is the encoding.\\n\\nBoth bytes() and bytearray() deal with raw data, but bytearray() is mutable, while bytes() is immutable.\\n\\n>>> a=bytes([1,2,3,4,5])\\n\\n>>> a\\n\\nb’\\\\x01\\\\x02\\\\x03\\\\x04\\\\x05′\\n\\n>>> a[4]=\\n\\n3 | P a g e\\n\\n3\\n\\nTraceback (most recent call last):\\n\\nFile “<pyshell#46>”, line 1, in <module>\\n\\na[4]=3\\n\\nTypeError: ‘bytes’ object does not support item assignment\\n\\nLet’s try this on bytearray().\\n\\n>>> a=bytearray([1,2,3,4,5])\\n\\n>>> a\\n\\nbytearray(b’\\\\x01\\\\x02\\\\x03\\\\x04\\\\x05′)\\n\\n>>> a[4]=3\\n\\n>>> a\\n\\nbytearray(b’\\\\x01\\\\x02\\\\x03\\\\x04\\\\x03′)\\n\\n9. callable()\\n\\ncallable() tells us if an object can be called.\\n\\n>>> callable([1,2,3])\\n\\nFalse\\n\\n>>> callable(callable)\\n\\nTrue\\n\\n>>> callable(False)\\n\\nFalse\\n\\n>>> callable(list)\\n\\nTrue\\n\\nA function is callable, a list is not. Even the callable() python Built In function is callable.\\n\\n10. chr()\\n\\nchr() Built In function returns the character in python for an ASCII value.\\n\\n>>> chr(65)\\n\\n‘A’\\n\\n>>> chr(97)\\n\\n4 | P a g e\\n\\n‘a’\\n\\n>>> chr(9)\\n\\n‘\\\\t’\\n\\n>>> chr(48)\\n\\n‘0’\\n\\n11. classmethod()\\n\\nclassmethod() returns a class method for a given method.\\n\\n>>> class fruit:\\n\\ndef sayhi(self):\\n\\nprint(\"Hi, I\\'m a fruit\")\\n\\n>>> fruit.sayhi=classmethod(fruit.sayhi)\\n\\n>>> fruit.sayhi()\\n\\nHi, I’m a fruit\\n\\nWhen we pass the method sayhi() as an argument to classmethod(), it converts it into a python class method one that belongs to the class. Then, we call it like we would call any static method in python without an object.\\n\\n12. compile()\\n\\ncompile() returns a Python code object. We use Python in built function to convert a string code into object code.\\n\\n>>> exec(compile(\\'a=5\\\\nb=7\\\\nprint(a+b)\\',\\'\\',\\'exec\\'))\\n\\n12\\n\\nHere, ‘exec’ is the mode. The parameter before that is the filename for the file form which the code is read. Finally, we execute it using exec().\\n\\n13. complex()\\n\\ncomplex() function creates a complex number. We have seen this is our article on Python Numbers.\\n\\n>>> complex(3)\\n\\n(3+0j)\\n\\n5 | P a g e\\n\\n>>> complex(3.5)\\n\\n(3.5+0j)\\n\\n>>> complex(3+5j)\\n\\n(3+5j)\\n\\n14. delattr()\\n\\ndelattr() takes two arguments- a class, and an attribute in it. It deletes the attribute.\\n\\n>>> class fruit:\\n\\nsize=7\\n\\n>>> orange=fruit()\\n\\n>>> orange.size\\n\\n7\\n\\n>>> delattr(fruit,\\'size\\')\\n\\n>>> orange.size\\n\\nTraceback (most recent call last):\\n\\nFile “<pyshell#95>”, line 1, in <module>\\n\\norange.size\\n\\nAttributeError: ‘fruit’ object has no attribute ‘size’\\n\\n15. dict()\\n\\ndict(), as we have seen it, creates a python dictionary.\\n\\n>>> dict()\\n\\n{}\\n\\n>>> dict([(1,2),(3,4)])\\n\\n{1: 2, 3: 4}\\n\\n16. divmod()\\n\\ndivmod() in Python built-in functions, takes two parameters, and returns a tuple of their quotient and remainder. In other words, it returns the floor division and the modulus of the two numbers.\\n\\n>>> divmod(3,7)\\n\\n6 | P a g e\\n\\n(0, 3)\\n\\n>>> divmod(7,3)\\n\\n(2, 1) If you encounter any doubt in Python Built-in Function, Please Comment.\\n\\n17. enumerate()\\n\\nThis Python Built In function returns an enumerate object. In other words, it adds a counter to the iterable.\\n\\n>>> for i in enumerate([\\'a\\',\\'b\\',\\'c\\']):\\n\\nprint(i)\\n\\n(0, ‘a’) (1, ‘b’) (2, ‘c’)\\n\\n18. eval()\\n\\nThis Function takes a string as an argument, which is parsed as an expression.\\n\\n>>> x=7\\n\\n>>> eval(\\'x+7\\')\\n\\n14\\n\\n>>> eval(\\'x+(x%2)\\')\\n\\n8\\n\\n19. exec()\\n\\nexec() runs Python code dynamically.\\n\\n>>> exec(\\'a=2;b=3;print(a+b)\\')\\n\\n5\\n\\n>>> exec(input(\"Enter your program\"))\\n\\nEnter your programprint(2+3)\\n\\n5\\n\\n20. filter()\\n\\n7 | P a g e\\n\\nLike we’ve seen in python Lambda Expressios, filter() filters out the items for which the condition is True.\\n\\n>>> list(filter(lambda x:x%2==0,[1,2,0,False]))\\n\\n[2, 0, False]\\n\\n21. float()\\n\\nThis Python Built In function converts an int or a compatible value into a float.\\n\\n>>> float(2)\\n\\n2.0\\n\\n>>> float(\\'3\\')\\n\\n3.0\\n\\n>>> float(\\'3s\\')\\n\\nTraceback (most recent call last):\\n\\nFile “<pyshell#136>”, line 1, in <module>\\n\\nfloat(‘3s’)\\n\\nValueError: could not convert string to float: ‘3s’\\n\\n>>> float(False)\\n\\n0.0\\n\\n>>> float(4.7)\\n\\n4.7\\n\\n22. format()\\n\\nWe have seen this Python built-in function, one in our lesson on Python Strings.\\n\\n>>> a,b=2,3\\n\\n>>> print(\"a={0} and b={1}\".format(a,b))\\n\\na=2 and b=3\\n\\n>>> print(\"a={a} and b={b}\".format(a=3,b=4))\\n\\na=3 and b=4\\n\\n23. frozenset()\\n\\nfrozenset() returns an immutable frozenset object.\\n\\n8 | P a g e\\n\\n>>> frozenset((3,2,4))\\n\\nfrozenset({2, 3, 4})\\n\\nRead Python Sets and Booleans for more on frozenset.\\n\\n24. getattr()\\n\\ngetattr() returns the value of an object’s attribute.\\n\\n>>> getattr(orange,\\'size\\')\\n\\n7\\n\\n25. globals()\\n\\nThis Python built-in functions, returns a dictionary of the current global symbol table.\\n\\n>>> globals()\\n\\n{‘__name__’: ‘__main__’, ‘__doc__’: None, ‘__package__’: None, ‘__loader__’: <class ‘_frozen_importlib.BuiltinImporter’>, ‘__spec__’: None, ‘__annotations__’: {}, ‘__builtins__’: <module ‘builtins’ (built-in)>, ‘fruit’: <class ‘__main__.fruit’>, ‘orange’: <__main__.fruit object at 0x05F937D0>, ‘a’: 2, ‘numbers’: [1, 2, 3], ‘i’: (2, 3), ‘x’: 7, ‘b’: 3}\\n\\n26. hasattr()\\n\\nLike delattr() and getattr(), hasattr() Python built-in functions, returns True if the object has that attribute.\\n\\n>>> hasattr(orange,\\'size\\')\\n\\nTrue\\n\\n>>> hasattr(orange,\\'shape\\')\\n\\nTrue\\n\\n>>> hasattr(orange,\\'color\\')\\n\\nFalse\\n\\n27. hash()\\n\\nhash() function returns the hash value of an object. And in Python, everything is an object.\\n\\n>>> hash(orange)\\n\\n6263677\\n\\n9 | P a g e\\n\\n>>> hash(orange)\\n\\n6263677\\n\\n>>> hash(True)\\n\\n1\\n\\n>>> hash(0)\\n\\n0\\n\\n>>> hash(3.7)\\n\\n644245917\\n\\n>>> hash(hash)\\n\\n25553952\\n\\n28. hex()\\n\\nHex() Python built-in functions, converts an integer to hexadecimal.\\n\\n>>> hex(16)\\n\\n‘0x10’\\n\\n>>> hex(False)\\n\\n‘0x0’\\n\\n29. id() Function\\n\\nid() returns an object’s identity.\\n\\n>>> id(orange)\\n\\n100218832\\n\\n>>> id({1,2,3})==id({1,3,2})\\n\\nTrue\\n\\n30. input()\\n\\nInput() Python built-in functions, reads and returns a line of string.\\n\\n>>> input(\"Enter a number\")\\n\\nEnter a number7 ‘7’\\n\\n10 | P a g e\\n\\nNote that this returns the input as a string. If we want to take 7 as an integer, we need to apply the int() function to it.\\n\\n>>> int(input(\"Enter a number\"))\\n\\nEnter a number7\\n\\n7\\n\\n31. int()\\n\\nint() converts a value to an integer.\\n\\n>>> int(\\'7\\')\\n\\n7\\n\\n32. isinstance()\\n\\nWe have seen this one in previous lessons. isinstance() takes a variable and a class as arguments. Then, it returns True if the variable belongs to the class. Otherwise, it returns False.\\n\\n>>> isinstance(0,str)\\n\\nFalse\\n\\n>>> isinstance(orange,fruit)\\n\\nTrue\\n\\n33. ord()\\n\\nThe function ord() returns an integer that represents the Unicode point for a given Unicode character.\\n\\n>>> ord(\\'A\\')\\n\\n65\\n\\n>>> ord(\\'9\\')\\n\\n57 This is complementary to chr().\\n\\n>>> chr(65)\\n\\n‘A’\\n\\n34. pow()\\n\\npow() takes two arguments- say, x and y. It then returns the value of x to the power of y.\\n\\n11 | P a g e\\n\\n>>> pow(3,4)\\n\\n81\\n\\n>>> pow(7,0)\\n\\n1\\n\\n>>> pow(7,-1)\\n\\n0.14285714285714285\\n\\n>>> pow(7,-2)\\n\\n0.02040816326530612\\n\\n35. print()\\n\\nWe don’t think we need to explain this anymore. We’ve been seeing this function since the beginning of this article.\\n\\n>>> print(\"Okay, next function, please!\")\\n\\nOkay, next function, please!\\n\\n36. range()\\n\\nWe’ve taken a whole tutorial on this. Read up range() in Python.\\n\\n>>> for i in range(7,2,-2):\\n\\nprint(i)\\n\\n7 5 3\\n\\n37. repr()\\n\\nrepr() returns a representable string of an object.\\n\\n>>> repr(\"Hello\")\\n\\n“‘Hello\\'”\\n\\n>>> repr(7)\\n\\n‘7’\\n\\n>>> repr(False)\\n\\n‘False’\\n\\n38. reversed()\\n\\n12 | P a g e\\n\\nThis functions reverses the contents of an iterable and returns an iterator object.\\n\\n>>> a=reversed([3,2,1])\\n\\n>>> a\\n\\n<list_reverseiterator object at 0x02E1A230>\\n\\n>>> for i in a:\\n\\nprint(i)\\n\\n1 2 3\\n\\n>>> type(a)\\n\\n<class ‘list_reverseiterator’>\\n\\n39. round()\\n\\nround() rounds off a float to the given number of digits (given by the second argument).\\n\\n>>> round(3.777,2)\\n\\n3.78\\n\\n>>> round(3.7,3)\\n\\n3.7\\n\\n>>> round(3.7,-1)\\n\\n0.0\\n\\n>>> round(377.77,-1)\\n\\n380.0 The rounding factor can be negative.\\n\\n40. set()\\n\\nOf course, set() returns a set of the items passed to it.\\n\\n>>> set([2,2,3,1])\\n\\n{1, 2, 3} Remember, a set cannot have duplicate values, and isn’t indexed, but is ordered. Read on Sets and Booleans for the same.\\n\\n41. setattr()\\n\\n13 | P a g e\\n\\nLike getattr(), setattr() sets an attribute’s value for an object.\\n\\n>>> orange.size\\n\\n7\\n\\n>>> orange.size=8\\n\\n>>> orange.size\\n\\n8\\n\\n14 | P a g e')]"
            ]
          },
          "metadata": {},
          "execution_count": 8
        }
      ]
    },
    {
      "cell_type": "code",
      "source": [
        "documents"
      ],
      "metadata": {
        "colab": {
          "base_uri": "https://localhost:8080/"
        },
        "id": "AFJR8D9GVZAO",
        "outputId": "06123b49-fdc9-4895-ce8c-93c3e6789c4b"
      },
      "execution_count": 10,
      "outputs": [
        {
          "output_type": "execute_result",
          "data": {
            "text/plain": [
              "[Document(page_content='Python Built-In Functions\\n\\nGaurav Kr. suman\\n\\nMIT5\\n\\n1. abs()\\n\\nThe abs() is one of the most popular Python built-in functions, which returns the absolute value of a number. A negative value’s absolute is that value is positive.\\n\\n>>> abs(-7)\\n\\n7\\n\\n>>> abs(7)\\n\\n7\\n\\n>>> abs(0)\\n\\n2. all()\\n\\nThe all() function takes a container as an argument. This Built in Functions returns True if all values in a python iterable have a Boolean value of True. An empty value has a Boolean value of False.\\n\\n>>> all({\\'*\\',\\'\\',\\'\\'})\\n\\nFalse\\n\\n>>> all([\\' \\',\\' \\',\\' \\'])\\n\\nTrue\\n\\n3. any()\\n\\nLike all(), it takes one argument and returns True if, even one value in the iterable has a Boolean value of True.\\n\\n>>> any((1,0,0))\\n\\nTrue\\n\\n>>> any((0,0,0))\\n\\nFalse\\n\\n4. ascii()\\n\\nIt is important Python built-in functions, returns a printable representation of a python object (like a string or a Python list). Let’s take a Romanian character.\\n\\n1 | P a g e\\n\\n>>> ascii(\\'ș\\')\\n\\n“‘\\\\\\\\u0219′”\\n\\nSince this was a non-ASCII character in python, the interpreter added a backslash (\\\\) and escaped it using another backslash.\\n\\n>>> ascii(\\'ușor\\')\\n\\n“‘u\\\\\\\\u0219or\\'”\\n\\nLet’s apply it to a list.\\n\\n>>> ascii([\\'s\\',\\'ș\\'])\\n\\n“[‘s’, ‘\\\\\\\\u0219’]”\\n\\n5. bin()\\n\\nbin() converts an integer to a binary string. We have seen this and other functions in our article on Python Numbers.\\n\\n>>> bin(7)\\n\\n‘0b111’\\n\\nWe can’t apply it on floats, though.\\n\\n>>> bin(7.0)\\n\\nTraceback (most recent call last):\\n\\nFile “<pyshell#20>”, line 1, in <module>\\n\\nbin(7.0)\\n\\nTypeError: ‘float’ object cannot be interpreted as an integer\\n\\n6. bool()\\n\\nbool() converts a value to Boolean.\\n\\n>>> bool(0.5)\\n\\nTrue\\n\\n>>> bool(\\'\\')\\n\\nFalse\\n\\n>>> bool(True)\\n\\nTrue\\n\\n7. bytearray()\\n\\n2 | P a g e\\n\\nbytearray() returns a python array of a given byte size.\\n\\n>>> a=bytearray(4)\\n\\n>>> a\\n\\nbytearray(b’\\\\x00\\\\x00\\\\x00\\\\x00′)\\n\\n>>> a.append(1)\\n\\n>>> a\\n\\nbytearray(b’\\\\x00\\\\x00\\\\x00\\\\x00\\\\x01′)\\n\\n>>> a[0]=1\\n\\n>>> a\\n\\nbytearray(b’\\\\x01\\\\x00\\\\x00\\\\x00\\\\x01′)\\n\\n>>> a[0]\\n\\n1\\n\\nLet’s do this on a list.\\n\\n>>> bytearray([1,2,3,4])\\n\\nbytearray(b’\\\\x01\\\\x02\\\\x03\\\\x04′)\\n\\n8. bytes()\\n\\nbytes() returns an immutable bytes object.\\n\\n>>> bytes(5)\\n\\nb’\\\\x00\\\\x00\\\\x00\\\\x00\\\\x00′\\n\\n>>> bytes([1,2,3,4,5])\\n\\nb’\\\\x01\\\\x02\\\\x03\\\\x04\\\\x05′\\n\\n>>> bytes(\\'hello\\',\\'utf-8\\')\\n\\nb’hello’\\n\\nHere, utf-8 is the encoding.\\n\\nBoth bytes() and bytearray() deal with raw data, but bytearray() is mutable, while bytes() is immutable.\\n\\n>>> a=bytes([1,2,3,4,5])\\n\\n>>> a\\n\\nb’\\\\x01\\\\x02\\\\x03\\\\x04\\\\x05′\\n\\n>>> a[4]=\\n\\n3 | P a g e\\n\\n3\\n\\nTraceback (most recent call last):\\n\\nFile “<pyshell#46>”, line 1, in <module>\\n\\na[4]=3\\n\\nTypeError: ‘bytes’ object does not support item assignment\\n\\nLet’s try this on bytearray().\\n\\n>>> a=bytearray([1,2,3,4,5])\\n\\n>>> a\\n\\nbytearray(b’\\\\x01\\\\x02\\\\x03\\\\x04\\\\x05′)\\n\\n>>> a[4]=3\\n\\n>>> a\\n\\nbytearray(b’\\\\x01\\\\x02\\\\x03\\\\x04\\\\x03′)\\n\\n9. callable()\\n\\ncallable() tells us if an object can be called.\\n\\n>>> callable([1,2,3])\\n\\nFalse\\n\\n>>> callable(callable)\\n\\nTrue\\n\\n>>> callable(False)\\n\\nFalse\\n\\n>>> callable(list)\\n\\nTrue\\n\\nA function is callable, a list is not. Even the callable() python Built In function is callable.\\n\\n10. chr()\\n\\nchr() Built In function returns the character in python for an ASCII value.\\n\\n>>> chr(65)\\n\\n‘A’\\n\\n>>> chr(97)\\n\\n4 | P a g e\\n\\n‘a’\\n\\n>>> chr(9)\\n\\n‘\\\\t’\\n\\n>>> chr(48)\\n\\n‘0’\\n\\n11. classmethod()\\n\\nclassmethod() returns a class method for a given method.\\n\\n>>> class fruit:\\n\\ndef sayhi(self):\\n\\nprint(\"Hi, I\\'m a fruit\")\\n\\n>>> fruit.sayhi=classmethod(fruit.sayhi)\\n\\n>>> fruit.sayhi()\\n\\nHi, I’m a fruit\\n\\nWhen we pass the method sayhi() as an argument to classmethod(), it converts it into a python class method one that belongs to the class. Then, we call it like we would call any static method in python without an object.\\n\\n12. compile()\\n\\ncompile() returns a Python code object. We use Python in built function to convert a string code into object code.\\n\\n>>> exec(compile(\\'a=5\\\\nb=7\\\\nprint(a+b)\\',\\'\\',\\'exec\\'))\\n\\n12\\n\\nHere, ‘exec’ is the mode. The parameter before that is the filename for the file form which the code is read. Finally, we execute it using exec().\\n\\n13. complex()\\n\\ncomplex() function creates a complex number. We have seen this is our article on Python Numbers.\\n\\n>>> complex(3)\\n\\n(3+0j)\\n\\n5 | P a g e\\n\\n>>> complex(3.5)\\n\\n(3.5+0j)\\n\\n>>> complex(3+5j)\\n\\n(3+5j)\\n\\n14. delattr()\\n\\ndelattr() takes two arguments- a class, and an attribute in it. It deletes the attribute.\\n\\n>>> class fruit:\\n\\nsize=7\\n\\n>>> orange=fruit()\\n\\n>>> orange.size\\n\\n7\\n\\n>>> delattr(fruit,\\'size\\')\\n\\n>>> orange.size\\n\\nTraceback (most recent call last):\\n\\nFile “<pyshell#95>”, line 1, in <module>\\n\\norange.size\\n\\nAttributeError: ‘fruit’ object has no attribute ‘size’\\n\\n15. dict()\\n\\ndict(), as we have seen it, creates a python dictionary.\\n\\n>>> dict()\\n\\n{}\\n\\n>>> dict([(1,2),(3,4)])\\n\\n{1: 2, 3: 4}\\n\\n16. divmod()\\n\\ndivmod() in Python built-in functions, takes two parameters, and returns a tuple of their quotient and remainder. In other words, it returns the floor division and the modulus of the two numbers.\\n\\n>>> divmod(3,7)\\n\\n6 | P a g e\\n\\n(0, 3)\\n\\n>>> divmod(7,3)\\n\\n(2, 1) If you encounter any doubt in Python Built-in Function, Please Comment.\\n\\n17. enumerate()\\n\\nThis Python Built In function returns an enumerate object. In other words, it adds a counter to the iterable.\\n\\n>>> for i in enumerate([\\'a\\',\\'b\\',\\'c\\']):\\n\\nprint(i)\\n\\n(0, ‘a’) (1, ‘b’) (2, ‘c’)\\n\\n18. eval()\\n\\nThis Function takes a string as an argument, which is parsed as an expression.\\n\\n>>> x=7\\n\\n>>> eval(\\'x+7\\')\\n\\n14\\n\\n>>> eval(\\'x+(x%2)\\')\\n\\n8\\n\\n19. exec()\\n\\nexec() runs Python code dynamically.\\n\\n>>> exec(\\'a=2;b=3;print(a+b)\\')\\n\\n5\\n\\n>>> exec(input(\"Enter your program\"))\\n\\nEnter your programprint(2+3)\\n\\n5\\n\\n20. filter()\\n\\n7 | P a g e\\n\\nLike we’ve seen in python Lambda Expressios, filter() filters out the items for which the condition is True.\\n\\n>>> list(filter(lambda x:x%2==0,[1,2,0,False]))\\n\\n[2, 0, False]\\n\\n21. float()\\n\\nThis Python Built In function converts an int or a compatible value into a float.\\n\\n>>> float(2)\\n\\n2.0\\n\\n>>> float(\\'3\\')\\n\\n3.0\\n\\n>>> float(\\'3s\\')\\n\\nTraceback (most recent call last):\\n\\nFile “<pyshell#136>”, line 1, in <module>\\n\\nfloat(‘3s’)\\n\\nValueError: could not convert string to float: ‘3s’\\n\\n>>> float(False)\\n\\n0.0\\n\\n>>> float(4.7)\\n\\n4.7\\n\\n22. format()\\n\\nWe have seen this Python built-in function, one in our lesson on Python Strings.\\n\\n>>> a,b=2,3\\n\\n>>> print(\"a={0} and b={1}\".format(a,b))\\n\\na=2 and b=3\\n\\n>>> print(\"a={a} and b={b}\".format(a=3,b=4))\\n\\na=3 and b=4\\n\\n23. frozenset()\\n\\nfrozenset() returns an immutable frozenset object.\\n\\n8 | P a g e\\n\\n>>> frozenset((3,2,4))\\n\\nfrozenset({2, 3, 4})\\n\\nRead Python Sets and Booleans for more on frozenset.\\n\\n24. getattr()\\n\\ngetattr() returns the value of an object’s attribute.\\n\\n>>> getattr(orange,\\'size\\')\\n\\n7\\n\\n25. globals()\\n\\nThis Python built-in functions, returns a dictionary of the current global symbol table.\\n\\n>>> globals()\\n\\n{‘__name__’: ‘__main__’, ‘__doc__’: None, ‘__package__’: None, ‘__loader__’: <class ‘_frozen_importlib.BuiltinImporter’>, ‘__spec__’: None, ‘__annotations__’: {}, ‘__builtins__’: <module ‘builtins’ (built-in)>, ‘fruit’: <class ‘__main__.fruit’>, ‘orange’: <__main__.fruit object at 0x05F937D0>, ‘a’: 2, ‘numbers’: [1, 2, 3], ‘i’: (2, 3), ‘x’: 7, ‘b’: 3}\\n\\n26. hasattr()\\n\\nLike delattr() and getattr(), hasattr() Python built-in functions, returns True if the object has that attribute.\\n\\n>>> hasattr(orange,\\'size\\')\\n\\nTrue\\n\\n>>> hasattr(orange,\\'shape\\')\\n\\nTrue\\n\\n>>> hasattr(orange,\\'color\\')\\n\\nFalse\\n\\n27. hash()\\n\\nhash() function returns the hash value of an object. And in Python, everything is an object.\\n\\n>>> hash(orange)\\n\\n6263677\\n\\n9 | P a g e\\n\\n>>> hash(orange)\\n\\n6263677\\n\\n>>> hash(True)\\n\\n1\\n\\n>>> hash(0)\\n\\n0\\n\\n>>> hash(3.7)\\n\\n644245917\\n\\n>>> hash(hash)\\n\\n25553952\\n\\n28. hex()\\n\\nHex() Python built-in functions, converts an integer to hexadecimal.\\n\\n>>> hex(16)\\n\\n‘0x10’\\n\\n>>> hex(False)\\n\\n‘0x0’\\n\\n29. id() Function\\n\\nid() returns an object’s identity.\\n\\n>>> id(orange)\\n\\n100218832\\n\\n>>> id({1,2,3})==id({1,3,2})\\n\\nTrue\\n\\n30. input()\\n\\nInput() Python built-in functions, reads and returns a line of string.\\n\\n>>> input(\"Enter a number\")\\n\\nEnter a number7 ‘7’\\n\\n10 | P a g e\\n\\nNote that this returns the input as a string. If we want to take 7 as an integer, we need to apply the int() function to it.\\n\\n>>> int(input(\"Enter a number\"))\\n\\nEnter a number7\\n\\n7\\n\\n31. int()\\n\\nint() converts a value to an integer.\\n\\n>>> int(\\'7\\')\\n\\n7\\n\\n32. isinstance()\\n\\nWe have seen this one in previous lessons. isinstance() takes a variable and a class as arguments. Then, it returns True if the variable belongs to the class. Otherwise, it returns False.\\n\\n>>> isinstance(0,str)\\n\\nFalse\\n\\n>>> isinstance(orange,fruit)\\n\\nTrue\\n\\n33. ord()\\n\\nThe function ord() returns an integer that represents the Unicode point for a given Unicode character.\\n\\n>>> ord(\\'A\\')\\n\\n65\\n\\n>>> ord(\\'9\\')\\n\\n57 This is complementary to chr().\\n\\n>>> chr(65)\\n\\n‘A’\\n\\n34. pow()\\n\\npow() takes two arguments- say, x and y. It then returns the value of x to the power of y.\\n\\n11 | P a g e\\n\\n>>> pow(3,4)\\n\\n81\\n\\n>>> pow(7,0)\\n\\n1\\n\\n>>> pow(7,-1)\\n\\n0.14285714285714285\\n\\n>>> pow(7,-2)\\n\\n0.02040816326530612\\n\\n35. print()\\n\\nWe don’t think we need to explain this anymore. We’ve been seeing this function since the beginning of this article.\\n\\n>>> print(\"Okay, next function, please!\")\\n\\nOkay, next function, please!\\n\\n36. range()\\n\\nWe’ve taken a whole tutorial on this. Read up range() in Python.\\n\\n>>> for i in range(7,2,-2):\\n\\nprint(i)\\n\\n7 5 3\\n\\n37. repr()\\n\\nrepr() returns a representable string of an object.\\n\\n>>> repr(\"Hello\")\\n\\n“‘Hello\\'”\\n\\n>>> repr(7)\\n\\n‘7’\\n\\n>>> repr(False)\\n\\n‘False’\\n\\n38. reversed()\\n\\n12 | P a g e\\n\\nThis functions reverses the contents of an iterable and returns an iterator object.\\n\\n>>> a=reversed([3,2,1])\\n\\n>>> a\\n\\n<list_reverseiterator object at 0x02E1A230>\\n\\n>>> for i in a:\\n\\nprint(i)\\n\\n1 2 3\\n\\n>>> type(a)\\n\\n<class ‘list_reverseiterator’>\\n\\n39. round()\\n\\nround() rounds off a float to the given number of digits (given by the second argument).\\n\\n>>> round(3.777,2)\\n\\n3.78\\n\\n>>> round(3.7,3)\\n\\n3.7\\n\\n>>> round(3.7,-1)\\n\\n0.0\\n\\n>>> round(377.77,-1)\\n\\n380.0 The rounding factor can be negative.\\n\\n40. set()\\n\\nOf course, set() returns a set of the items passed to it.\\n\\n>>> set([2,2,3,1])\\n\\n{1, 2, 3} Remember, a set cannot have duplicate values, and isn’t indexed, but is ordered. Read on Sets and Booleans for the same.\\n\\n41. setattr()\\n\\n13 | P a g e\\n\\nLike getattr(), setattr() sets an attribute’s value for an object.\\n\\n>>> orange.size\\n\\n7\\n\\n>>> orange.size=8\\n\\n>>> orange.size\\n\\n8\\n\\n14 | P a g e')]"
            ]
          },
          "metadata": {},
          "execution_count": 10
        }
      ]
    },
    {
      "cell_type": "code",
      "source": [
        "text_splitter = CharacterTextSplitter(chunk_size =200, chunk_overlap = 50)"
      ],
      "metadata": {
        "id": "hhxACtZdxQdr"
      },
      "execution_count": 11,
      "outputs": []
    },
    {
      "cell_type": "code",
      "source": [
        "text_splitter\n"
      ],
      "metadata": {
        "colab": {
          "base_uri": "https://localhost:8080/"
        },
        "id": "mKYw6gw8V5aO",
        "outputId": "b9249e0a-6ae2-4697-fa50-e6a8c78aa135"
      },
      "execution_count": 12,
      "outputs": [
        {
          "output_type": "execute_result",
          "data": {
            "text/plain": [
              "<langchain_text_splitters.character.CharacterTextSplitter at 0x781222987550>"
            ]
          },
          "metadata": {},
          "execution_count": 12
        }
      ]
    },
    {
      "cell_type": "code",
      "source": [],
      "metadata": {
        "id": "INUQN8UOV8Ae"
      },
      "execution_count": null,
      "outputs": []
    }
  ]
}