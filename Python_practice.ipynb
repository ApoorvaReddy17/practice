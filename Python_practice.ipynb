{
  "nbformat": 4,
  "nbformat_minor": 0,
  "metadata": {
    "colab": {
      "provenance": [],
      "collapsed_sections": [
        "fLiQIkHAd7ix",
        "BXVDQeMzfZr5",
        "pZWjLliGo0OB",
        "A7Tr3MDzrKg8",
        "wCxkMfu3LfrZ",
        "kU8-FW5CNZ6w",
        "BYXxh39pQMyr",
        "8h2N4l8xWzb1",
        "wCsGIDwSVhc5",
        "HxhStlm4bTJ7",
        "qRa2FAOFpVJ0"
      ],
      "authorship_tag": "ABX9TyOx9L5CQ+gAAq/ANn9gjBkM",
      "include_colab_link": true
    },
    "kernelspec": {
      "name": "python3",
      "display_name": "Python 3"
    },
    "language_info": {
      "name": "python"
    }
  },
  "cells": [
    {
      "cell_type": "markdown",
      "metadata": {
        "id": "view-in-github",
        "colab_type": "text"
      },
      "source": [
        "<a href=\"https://colab.research.google.com/github/ApoorvaReddy17/practice/blob/main/Python_practice.ipynb\" target=\"_parent\"><img src=\"https://colab.research.google.com/assets/colab-badge.svg\" alt=\"Open In Colab\"/></a>"
      ]
    },
    {
      "cell_type": "code",
      "execution_count": null,
      "metadata": {
        "id": "qngsfwBAdbNi"
      },
      "outputs": [],
      "source": [
        "import sys\n",
        "import keyword\n",
        "import operator\n",
        "from datetime import datetime\n",
        "import os"
      ]
    },
    {
      "cell_type": "code",
      "source": [
        "sys.version"
      ],
      "metadata": {
        "colab": {
          "base_uri": "https://localhost:8080/",
          "height": 36
        },
        "id": "4BT9k7y2kkqe",
        "outputId": "f050acac-0d3c-4d59-d87d-f274f2ee6b67"
      },
      "execution_count": null,
      "outputs": [
        {
          "output_type": "execute_result",
          "data": {
            "text/plain": [
              "'3.11.11 (main, Dec  4 2024, 08:55:07) [GCC 11.4.0]'"
            ],
            "application/vnd.google.colaboratory.intrinsic+json": {
              "type": "string"
            }
          },
          "metadata": {},
          "execution_count": 2
        }
      ]
    },
    {
      "cell_type": "markdown",
      "source": [
        "# **Keywords**\n",
        "Keywords are the reserved words in Python and can't be used as an identifier"
      ],
      "metadata": {
        "id": "fLiQIkHAd7ix"
      }
    },
    {
      "cell_type": "code",
      "source": [
        "print(keyword.kwlist) # list all Python keywords"
      ],
      "metadata": {
        "colab": {
          "base_uri": "https://localhost:8080/"
        },
        "id": "QMHVTCQOd5DV",
        "outputId": "c289f9da-61aa-4bc9-b434-5c4720ad9b49"
      },
      "execution_count": null,
      "outputs": [
        {
          "output_type": "stream",
          "name": "stdout",
          "text": [
            "['False', 'None', 'True', 'and', 'as', 'assert', 'async', 'await', 'break', 'class', 'continue', 'def', 'del', 'elif', 'else', 'except', 'finally', 'for', 'from', 'global', 'if', 'import', 'in', 'is', 'lambda', 'nonlocal', 'not', 'or', 'pass', 'raise', 'return', 'try', 'while', 'with', 'yield']\n"
          ]
        }
      ]
    },
    {
      "cell_type": "code",
      "source": [
        "len(keyword.kwlist) # python contains 35 keywords"
      ],
      "metadata": {
        "colab": {
          "base_uri": "https://localhost:8080/"
        },
        "id": "Uoybq5tsfDRg",
        "outputId": "44df53c2-102c-4846-c30f-401f24e718ab"
      },
      "execution_count": null,
      "outputs": [
        {
          "output_type": "execute_result",
          "data": {
            "text/plain": [
              "35"
            ]
          },
          "metadata": {},
          "execution_count": 4
        }
      ]
    },
    {
      "cell_type": "markdown",
      "source": [
        "# **Identifiers**\n",
        " An identifier is a name given to entities like class, functions, variables, methods etc. It helps to differentiate one entity from another."
      ],
      "metadata": {
        "id": "BXVDQeMzfZr5"
      }
    },
    {
      "cell_type": "code",
      "source": [
        "1var=10 # identifier can't start with a digit"
      ],
      "metadata": {
        "colab": {
          "base_uri": "https://localhost:8080/",
          "height": 111
        },
        "id": "ne0zProOfUa4",
        "outputId": "bc9b80b0-7c76-4e92-aaab-d6e029ec1ddd"
      },
      "execution_count": null,
      "outputs": [
        {
          "output_type": "error",
          "ename": "SyntaxError",
          "evalue": "invalid decimal literal (<ipython-input-5-101c743862ba>, line 1)",
          "traceback": [
            "\u001b[0;36m  File \u001b[0;32m\"<ipython-input-5-101c743862ba>\"\u001b[0;36m, line \u001b[0;32m1\u001b[0m\n\u001b[0;31m    1var=10 # identifier can't start with a digit\u001b[0m\n\u001b[0m    ^\u001b[0m\n\u001b[0;31mSyntaxError\u001b[0m\u001b[0;31m:\u001b[0m invalid decimal literal\n"
          ]
        }
      ]
    },
    {
      "cell_type": "code",
      "source": [
        "var@12=35 # identifier can't use special symbols expect \"_\" (underscore)"
      ],
      "metadata": {
        "colab": {
          "base_uri": "https://localhost:8080/",
          "height": 129
        },
        "id": "nHgqvL0Wf5KA",
        "outputId": "3c7d4e0c-6f32-49e5-fac8-c30c3f3f600d"
      },
      "execution_count": null,
      "outputs": [
        {
          "output_type": "error",
          "ename": "SyntaxError",
          "evalue": "cannot assign to expression here. Maybe you meant '==' instead of '='? (<ipython-input-13-135863badaec>, line 1)",
          "traceback": [
            "\u001b[0;36m  File \u001b[0;32m\"<ipython-input-13-135863badaec>\"\u001b[0;36m, line \u001b[0;32m1\u001b[0m\n\u001b[0;31m    var@12=35 # identifier can't use special symbols expect \"_\" (underscore)\u001b[0m\n\u001b[0m    ^\u001b[0m\n\u001b[0;31mSyntaxError\u001b[0m\u001b[0;31m:\u001b[0m cannot assign to expression here. Maybe you meant '==' instead of '='?\n"
          ]
        }
      ]
    },
    {
      "cell_type": "code",
      "source": [
        "try= 125 # keywords can't be used as identifiers"
      ],
      "metadata": {
        "colab": {
          "base_uri": "https://localhost:8080/",
          "height": 111
        },
        "id": "lshgwEFugQKv",
        "outputId": "941a8bd4-606b-483f-c63e-b7e6ffd0cbc2"
      },
      "execution_count": null,
      "outputs": [
        {
          "output_type": "error",
          "ename": "SyntaxError",
          "evalue": "expected ':' (<ipython-input-14-4ce3e4db955a>, line 1)",
          "traceback": [
            "\u001b[0;36m  File \u001b[0;32m\"<ipython-input-14-4ce3e4db955a>\"\u001b[0;36m, line \u001b[0;32m1\u001b[0m\n\u001b[0;31m    try= 125 # keywords can't be used as identifiers\u001b[0m\n\u001b[0m       ^\u001b[0m\n\u001b[0;31mSyntaxError\u001b[0m\u001b[0;31m:\u001b[0m expected ':'\n"
          ]
        }
      ]
    },
    {
      "cell_type": "code",
      "source": [
        "a b=125 # identifier can't contain space in between"
      ],
      "metadata": {
        "colab": {
          "base_uri": "https://localhost:8080/",
          "height": 111
        },
        "id": "hCvY2GGkgvBN",
        "outputId": "c1639ea8-fada-459e-c086-c06922688210"
      },
      "execution_count": null,
      "outputs": [
        {
          "output_type": "error",
          "ename": "SyntaxError",
          "evalue": "invalid syntax (<ipython-input-15-8ee561157d20>, line 1)",
          "traceback": [
            "\u001b[0;36m  File \u001b[0;32m\"<ipython-input-15-8ee561157d20>\"\u001b[0;36m, line \u001b[0;32m1\u001b[0m\n\u001b[0;31m    a b=125 # identifier can't contain space in between\u001b[0m\n\u001b[0m      ^\u001b[0m\n\u001b[0;31mSyntaxError\u001b[0m\u001b[0;31m:\u001b[0m invalid syntax\n"
          ]
        }
      ]
    },
    {
      "cell_type": "code",
      "source": [
        "a=10\n",
        "A # identifiers are case sensitive"
      ],
      "metadata": {
        "colab": {
          "base_uri": "https://localhost:8080/",
          "height": 166
        },
        "id": "GkG5AtvyhFmg",
        "outputId": "25eee567-b557-4c98-df0e-c35c596465ec"
      },
      "execution_count": null,
      "outputs": [
        {
          "output_type": "error",
          "ename": "NameError",
          "evalue": "name 'A' is not defined",
          "traceback": [
            "\u001b[0;31m---------------------------------------------------------------------------\u001b[0m",
            "\u001b[0;31mNameError\u001b[0m                                 Traceback (most recent call last)",
            "\u001b[0;32m<ipython-input-16-ffd8f9eedd8a>\u001b[0m in \u001b[0;36m<cell line: 0>\u001b[0;34m()\u001b[0m\n\u001b[1;32m      1\u001b[0m \u001b[0ma\u001b[0m\u001b[0;34m=\u001b[0m\u001b[0;36m10\u001b[0m\u001b[0;34m\u001b[0m\u001b[0;34m\u001b[0m\u001b[0m\n\u001b[0;32m----> 2\u001b[0;31m \u001b[0mA\u001b[0m \u001b[0;31m# identifiers are case sensitive\u001b[0m\u001b[0;34m\u001b[0m\u001b[0;34m\u001b[0m\u001b[0m\n\u001b[0m",
            "\u001b[0;31mNameError\u001b[0m: name 'A' is not defined"
          ]
        }
      ]
    },
    {
      "cell_type": "code",
      "source": [
        "\"\"\"\n",
        " Correct way of defining an identifier\n",
        "(Identifiers can be a combination of letters in lowercase (a to z) or uppercase (A to Z) and digits(0 to 9))\"\"\"\n",
        "val2 = 10\n",
        "val2"
      ],
      "metadata": {
        "colab": {
          "base_uri": "https://localhost:8080/"
        },
        "id": "aNGtly_nhOtI",
        "outputId": "345b4174-5170-4d19-cea5-e9c506ed026c"
      },
      "execution_count": null,
      "outputs": [
        {
          "output_type": "execute_result",
          "data": {
            "text/plain": [
              "10"
            ]
          },
          "metadata": {},
          "execution_count": 17
        }
      ]
    },
    {
      "cell_type": "code",
      "source": [
        "val_=5\n",
        "val_"
      ],
      "metadata": {
        "colab": {
          "base_uri": "https://localhost:8080/"
        },
        "id": "8W7k4Lyxh5pL",
        "outputId": "caa560f8-b435-427e-db8a-f930bb1e017b"
      },
      "execution_count": null,
      "outputs": [
        {
          "output_type": "execute_result",
          "data": {
            "text/plain": [
              "5"
            ]
          },
          "metadata": {},
          "execution_count": 18
        }
      ]
    },
    {
      "cell_type": "markdown",
      "source": [
        "# **Comments in Python**\n",
        " Comments can be used to explain the code for more readabilty."
      ],
      "metadata": {
        "id": "pZWjLliGo0OB"
      }
    },
    {
      "cell_type": "code",
      "source": [
        "# Single line comment\n",
        "val1=10"
      ],
      "metadata": {
        "id": "cV3mlXgIkfGl"
      },
      "execution_count": null,
      "outputs": []
    },
    {
      "cell_type": "code",
      "source": [
        "\"\"\"\n",
        "Multiple\n",
        "line\n",
        "comment\n",
        "\"\"\"\n",
        "val_1=10"
      ],
      "metadata": {
        "id": "hmtR5Mm7qT_M"
      },
      "execution_count": null,
      "outputs": []
    },
    {
      "cell_type": "markdown",
      "source": [
        "# **Statements**\n",
        "Instructions that a Python interpreter can execute"
      ],
      "metadata": {
        "id": "A7Tr3MDzrKg8"
      }
    },
    {
      "cell_type": "code",
      "source": [
        "# single Line statement\n",
        "p1=10+20\n",
        "p1"
      ],
      "metadata": {
        "colab": {
          "base_uri": "https://localhost:8080/"
        },
        "id": "zXikYITCqnP4",
        "outputId": "d0e11072-de4a-462d-d045-177905a29171"
      },
      "execution_count": null,
      "outputs": [
        {
          "output_type": "execute_result",
          "data": {
            "text/plain": [
              "30"
            ]
          },
          "metadata": {},
          "execution_count": 21
        }
      ]
    },
    {
      "cell_type": "code",
      "source": [
        "p2=['a','b','c','d']\n",
        "p2"
      ],
      "metadata": {
        "colab": {
          "base_uri": "https://localhost:8080/"
        },
        "id": "xGQFohacK9-s",
        "outputId": "6a61639e-6deb-46ef-f209-25f9ef5ffa71"
      },
      "execution_count": null,
      "outputs": [
        {
          "output_type": "execute_result",
          "data": {
            "text/plain": [
              "['a', 'b', 'c', 'd']"
            ]
          },
          "metadata": {},
          "execution_count": 22
        }
      ]
    },
    {
      "cell_type": "code",
      "source": [
        "# Multiple Line statement\n",
        "p1=20+30\\\n",
        "+40+50+\\\n",
        "70+80\n",
        "p1"
      ],
      "metadata": {
        "colab": {
          "base_uri": "https://localhost:8080/"
        },
        "id": "c4mEmHW8J-3B",
        "outputId": "75def0f4-4b94-48fe-aa80-91048894a37f"
      },
      "execution_count": null,
      "outputs": [
        {
          "output_type": "execute_result",
          "data": {
            "text/plain": [
              "290"
            ]
          },
          "metadata": {},
          "execution_count": 23
        }
      ]
    },
    {
      "cell_type": "code",
      "source": [
        "# Multiple Line statement\n",
        "p2=['a',\n",
        "    'b',\n",
        "    'c',\n",
        "    'd'\n",
        "    ]\n",
        "p2\n"
      ],
      "metadata": {
        "colab": {
          "base_uri": "https://localhost:8080/"
        },
        "id": "yVUA_hCHKkCm",
        "outputId": "f180f8fa-f375-43c2-d2e3-9e574cf3d6a3"
      },
      "execution_count": null,
      "outputs": [
        {
          "output_type": "execute_result",
          "data": {
            "text/plain": [
              "['a', 'b', 'c', 'd']"
            ]
          },
          "metadata": {},
          "execution_count": 24
        }
      ]
    },
    {
      "cell_type": "markdown",
      "source": [
        "# **Indentation**\n",
        " Indentation refers to the spaces at the beginning of a code line. It is very important as Python uses indentation to indicate a block of code.If the indentation is not correct we will endup with **IndentationError**."
      ],
      "metadata": {
        "id": "wCxkMfu3LfrZ"
      }
    },
    {
      "cell_type": "code",
      "source": [
        "p=10\n",
        "if p==10:\n",
        "  print(\"Value of p is 10\") # correct indentation"
      ],
      "metadata": {
        "colab": {
          "base_uri": "https://localhost:8080/"
        },
        "id": "WOgZGy5kLTLj",
        "outputId": "a66b9c6c-a010-44f4-d781-371827bedcf0"
      },
      "execution_count": null,
      "outputs": [
        {
          "output_type": "stream",
          "name": "stdout",
          "text": [
            "Value of p is 10\n"
          ]
        }
      ]
    },
    {
      "cell_type": "code",
      "source": [
        "# if indentation is skipped we will encounter \"IndentationError: expected an indented block\"\n",
        "p = 10\n",
        "if p == 10:\n",
        "print ('P is equal to 10')"
      ],
      "metadata": {
        "colab": {
          "base_uri": "https://localhost:8080/",
          "height": 111
        },
        "id": "vrc-BzTbMBfa",
        "outputId": "9a714d15-6c03-4331-c05f-5a89c0378992"
      },
      "execution_count": null,
      "outputs": [
        {
          "output_type": "error",
          "ename": "IndentationError",
          "evalue": "expected an indented block after 'if' statement on line 3 (<ipython-input-26-46f06de8bc08>, line 4)",
          "traceback": [
            "\u001b[0;36m  File \u001b[0;32m\"<ipython-input-26-46f06de8bc08>\"\u001b[0;36m, line \u001b[0;32m4\u001b[0m\n\u001b[0;31m    print ('P is equal to 10')\u001b[0m\n\u001b[0m    ^\u001b[0m\n\u001b[0;31mIndentationError\u001b[0m\u001b[0;31m:\u001b[0m expected an indented block after 'if' statement on line 3\n"
          ]
        }
      ]
    },
    {
      "cell_type": "code",
      "source": [
        "for i in range(0,5): print(i)  # correct indentation but less readable"
      ],
      "metadata": {
        "colab": {
          "base_uri": "https://localhost:8080/"
        },
        "id": "w5eQhOtqMTJ-",
        "outputId": "0295096e-f122-4e3e-9421-0354c6b1ce1c"
      },
      "execution_count": null,
      "outputs": [
        {
          "output_type": "stream",
          "name": "stdout",
          "text": [
            "0\n",
            "1\n",
            "2\n",
            "3\n",
            "4\n"
          ]
        }
      ]
    },
    {
      "cell_type": "code",
      "source": [
        "j=20\n",
        "for i in range(0,5):\n",
        "  print(i) # inside the for loop\n",
        "print(j) # outside the for loop"
      ],
      "metadata": {
        "colab": {
          "base_uri": "https://localhost:8080/"
        },
        "id": "saxw2DwGM9MU",
        "outputId": "cb03ec8a-3092-4c74-ed11-3dfd913972c7"
      },
      "execution_count": null,
      "outputs": [
        {
          "output_type": "stream",
          "name": "stdout",
          "text": [
            "0\n",
            "1\n",
            "2\n",
            "3\n",
            "4\n",
            "20\n"
          ]
        }
      ]
    },
    {
      "cell_type": "markdown",
      "source": [
        "# **Docstrings**\n",
        " 1) Docstrings provide a convenient way of associating documentation with functions, classes, methods or modules.\n",
        "\n",
        " 2) They appear right after the definition of a function, method, class, or module."
      ],
      "metadata": {
        "id": "kU8-FW5CNZ6w"
      }
    },
    {
      "cell_type": "code",
      "source": [
        "def square(num):\n",
        "  '''Square Function :- This function will return the square of a number'''\n",
        "  return num**2"
      ],
      "metadata": {
        "id": "EDmJew-CNEQy"
      },
      "execution_count": null,
      "outputs": []
    },
    {
      "cell_type": "code",
      "source": [
        "square(5)"
      ],
      "metadata": {
        "colab": {
          "base_uri": "https://localhost:8080/"
        },
        "id": "gvQdmYcwN-GS",
        "outputId": "02526fa8-fa6b-425d-a58f-4a9e5005e33e"
      },
      "execution_count": null,
      "outputs": [
        {
          "output_type": "execute_result",
          "data": {
            "text/plain": [
              "25"
            ]
          },
          "metadata": {},
          "execution_count": 30
        }
      ]
    },
    {
      "cell_type": "code",
      "source": [
        "square.__doc__  # We can access the Docstring using __doc__ method"
      ],
      "metadata": {
        "colab": {
          "base_uri": "https://localhost:8080/",
          "height": 36
        },
        "id": "WbLY556cOB6G",
        "outputId": "c783a1e4-27f5-4afd-b9fe-59a1a0852e5c"
      },
      "execution_count": null,
      "outputs": [
        {
          "output_type": "execute_result",
          "data": {
            "text/plain": [
              "'Square Function :- This function will return the square of a number'"
            ],
            "application/vnd.google.colaboratory.intrinsic+json": {
              "type": "string"
            }
          },
          "metadata": {},
          "execution_count": 31
        }
      ]
    },
    {
      "cell_type": "code",
      "source": [
        "def evenodd(num):\n",
        "  '''evenodd Function :- This function will test whether a number is even or odd'''\n",
        "  if num%2==0:\n",
        "    print(\"Even Number\")\n",
        "  else:\n",
        "    print(\"Odd Number\")"
      ],
      "metadata": {
        "id": "E6_xuVDIOmM_"
      },
      "execution_count": null,
      "outputs": []
    },
    {
      "cell_type": "code",
      "source": [
        "evenodd(8)"
      ],
      "metadata": {
        "colab": {
          "base_uri": "https://localhost:8080/"
        },
        "id": "Tg8omWriOpr-",
        "outputId": "dd047e79-2529-484c-8f64-c161b842eb70"
      },
      "execution_count": null,
      "outputs": [
        {
          "output_type": "stream",
          "name": "stdout",
          "text": [
            "Even Number\n"
          ]
        }
      ]
    },
    {
      "cell_type": "code",
      "source": [
        "evenodd(5)"
      ],
      "metadata": {
        "colab": {
          "base_uri": "https://localhost:8080/"
        },
        "id": "saSeKoZMOug7",
        "outputId": "81ac2606-2936-437b-87a0-7a7a87e77d6f"
      },
      "execution_count": null,
      "outputs": [
        {
          "output_type": "stream",
          "name": "stdout",
          "text": [
            "Odd Number\n"
          ]
        }
      ]
    },
    {
      "cell_type": "code",
      "source": [
        "evenodd.__doc__"
      ],
      "metadata": {
        "colab": {
          "base_uri": "https://localhost:8080/",
          "height": 36
        },
        "id": "ZTyZLLnROwgj",
        "outputId": "a40550e1-2432-428a-9947-92c184116574"
      },
      "execution_count": null,
      "outputs": [
        {
          "output_type": "execute_result",
          "data": {
            "text/plain": [
              "'evenodd Function :- This function will test whether a number is even or odd'"
            ],
            "application/vnd.google.colaboratory.intrinsic+json": {
              "type": "string"
            }
          },
          "metadata": {},
          "execution_count": 35
        }
      ]
    },
    {
      "cell_type": "code",
      "source": [
        "id.__doc__"
      ],
      "metadata": {
        "colab": {
          "base_uri": "https://localhost:8080/",
          "height": 55
        },
        "id": "-66kNpbUOztA",
        "outputId": "d150abe8-3ccf-4beb-beee-f54775965f91"
      },
      "execution_count": null,
      "outputs": [
        {
          "output_type": "execute_result",
          "data": {
            "text/plain": [
              "\"Return the identity of an object.\\n\\nThis is guaranteed to be unique among simultaneously existing objects.\\n(CPython uses the object's memory address.)\""
            ],
            "application/vnd.google.colaboratory.intrinsic+json": {
              "type": "string"
            }
          },
          "metadata": {},
          "execution_count": 36
        }
      ]
    },
    {
      "cell_type": "markdown",
      "source": [
        "# **Variables**\n",
        " A Python variable is a **reserved memory location to store values**.A variable is **created** the **moment you first assign a value** to it."
      ],
      "metadata": {
        "id": "BYXxh39pQMyr"
      }
    },
    {
      "cell_type": "code",
      "source": [
        "p=50\n",
        "'''\n",
        " id() function returns the “identity” of the object.\n",
        "The identity of an object - Is an integer\n",
        "                          - Guaranteed to be unique\n",
        "                          - Constant for this object during its lifetime.\n",
        "'''\n",
        "id(p)"
      ],
      "metadata": {
        "colab": {
          "base_uri": "https://localhost:8080/"
        },
        "id": "Aymi2QVUPTk-",
        "outputId": "bfd2d2dc-3c5c-44ba-e4e4-c27e7aecbe6e"
      },
      "execution_count": null,
      "outputs": [
        {
          "output_type": "execute_result",
          "data": {
            "text/plain": [
              "10752424"
            ]
          },
          "metadata": {},
          "execution_count": 37
        }
      ]
    },
    {
      "cell_type": "code",
      "source": [
        "hex(id(p)) # Memory address of the variable"
      ],
      "metadata": {
        "colab": {
          "base_uri": "https://localhost:8080/",
          "height": 36
        },
        "id": "aq6ESyRyQ6Jg",
        "outputId": "7162340f-c436-45b2-ed5c-1ada0233f03f"
      },
      "execution_count": null,
      "outputs": [
        {
          "output_type": "execute_result",
          "data": {
            "text/plain": [
              "'0xa411a8'"
            ],
            "application/vnd.google.colaboratory.intrinsic+json": {
              "type": "string"
            }
          },
          "metadata": {},
          "execution_count": 38
        }
      ]
    },
    {
      "cell_type": "code",
      "source": [
        "p=20\n",
        "q=20\n",
        "r=q\n",
        "print(p,type(p),id(p),hex(id(p)))\n",
        "print(q,type(q),id(q),hex(id(q)))\n",
        "print(r,type(r),id(r),hex(id(r)))\n",
        "# all three are pointing to a same memory address 0 to 256 numbers memory is fixed"
      ],
      "metadata": {
        "colab": {
          "base_uri": "https://localhost:8080/"
        },
        "id": "miN9kA7hRVF7",
        "outputId": "842775b7-56e2-4880-d1aa-663d3b711e4c"
      },
      "execution_count": null,
      "outputs": [
        {
          "output_type": "stream",
          "name": "stdout",
          "text": [
            "20 <class 'int'> 10751464 0xa40de8\n",
            "20 <class 'int'> 10751464 0xa40de8\n",
            "20 <class 'int'> 10751464 0xa40de8\n"
          ]
        }
      ]
    },
    {
      "cell_type": "markdown",
      "source": [
        "![Screenshot (5).png](data:image/png;base64,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)"
      ],
      "metadata": {
        "id": "rgJvc42eT_gd"
      }
    },
    {
      "cell_type": "code",
      "source": [
        "p = 256\n",
        "q = 256\n",
        "r = q\n",
        "print(p,type(p),id(p),hex(id(p))) # same memory address\n",
        "print(q,type(q),id(q),hex(id(q)))\n",
        "print(r,type(r),id(r),hex(id(r)))"
      ],
      "metadata": {
        "colab": {
          "base_uri": "https://localhost:8080/"
        },
        "id": "0hVwdAJaYerM",
        "outputId": "ec513d5c-c082-4545-8ce3-2666c64200b1"
      },
      "execution_count": null,
      "outputs": [
        {
          "output_type": "stream",
          "name": "stdout",
          "text": [
            "256 <class 'int'> 10759016 0xa42b68\n",
            "256 <class 'int'> 10759016 0xa42b68\n",
            "256 <class 'int'> 10759016 0xa42b68\n"
          ]
        }
      ]
    },
    {
      "cell_type": "code",
      "source": [
        "p = 257\n",
        "q = 257\n",
        "r = q\n",
        "print(p,type(p),id(p),hex(id(p))) # different memory address\n",
        "print(q,type(q),id(q),hex(id(q)))\n",
        "print(r,type(r),id(r),hex(id(r))) # deepcopy of q so same address"
      ],
      "metadata": {
        "colab": {
          "base_uri": "https://localhost:8080/"
        },
        "id": "DGgEvEtrYt3K",
        "outputId": "a60d0183-f6d6-43e1-db39-74f7a4ade921"
      },
      "execution_count": null,
      "outputs": [
        {
          "output_type": "stream",
          "name": "stdout",
          "text": [
            "257 <class 'int'> 133069038596688 0x79068cc6b250\n",
            "257 <class 'int'> 133069038596176 0x79068cc6b050\n",
            "257 <class 'int'> 133069038596176 0x79068cc6b050\n"
          ]
        }
      ]
    },
    {
      "cell_type": "code",
      "source": [
        "p = 356\n",
        "q = 356\n",
        "r = q\n",
        "print(p,type(p),id(p),hex(id(p)))\n",
        "print(q,type(q),id(q),hex(id(q)))\n",
        "print(r,type(r),id(r),hex(id(r)))"
      ],
      "metadata": {
        "colab": {
          "base_uri": "https://localhost:8080/"
        },
        "id": "IvSHQYEkU17E",
        "outputId": "e9a7437d-fd64-40ee-8b7f-c540b7468053"
      },
      "execution_count": null,
      "outputs": [
        {
          "output_type": "stream",
          "name": "stdout",
          "text": [
            "356 <class 'int'> 133069038595760 0x79068cc6aeb0\n",
            "356 <class 'int'> 133069038595504 0x79068cc6adb0\n",
            "356 <class 'int'> 133069038595504 0x79068cc6adb0\n"
          ]
        }
      ]
    },
    {
      "cell_type": "markdown",
      "source": [
        "# **Variable Overwriting**"
      ],
      "metadata": {
        "id": "8h2N4l8xWzb1"
      }
    },
    {
      "cell_type": "code",
      "source": [
        "p = 20\n",
        "print(p,id(p),type(p),hex(id(p)))\n",
        "\n",
        "p = p + 10 # Variable Overwriting\n",
        "print(p,id(p),type(p),hex(id(p)))"
      ],
      "metadata": {
        "colab": {
          "base_uri": "https://localhost:8080/"
        },
        "id": "izlYRK6JSNVP",
        "outputId": "5ae7ed02-da46-445a-f3d1-d33175be5415"
      },
      "execution_count": null,
      "outputs": [
        {
          "output_type": "stream",
          "name": "stdout",
          "text": [
            "20 10751464 <class 'int'> 0xa40de8\n",
            "30 10751784 <class 'int'> 0xa40f28\n"
          ]
        }
      ]
    },
    {
      "cell_type": "markdown",
      "source": [
        "# **Variable Assigment**"
      ],
      "metadata": {
        "id": "wCsGIDwSVhc5"
      }
    },
    {
      "cell_type": "code",
      "source": [
        "a=20 # integer variable (int)\n",
        "b=50.80 # float variable (float)\n",
        "c='Apoorva' # string variable (str)\n",
        "print(a,type(a),id(a),hex(id(a)))\n",
        "print(b,type(b),id(b),hex(id(b)))\n",
        "print(c,type(c),id(c),hex(id(c)))"
      ],
      "metadata": {
        "colab": {
          "base_uri": "https://localhost:8080/"
        },
        "id": "CUkXQF3BVBle",
        "outputId": "64d511d1-05af-4c28-afbe-2a6b2150b779"
      },
      "execution_count": null,
      "outputs": [
        {
          "output_type": "stream",
          "name": "stdout",
          "text": [
            "20 <class 'int'> 10751464 0xa40de8\n",
            "50.8 <class 'float'> 133069038588624 0x79068cc692d0\n",
            "Apoorva <class 'str'> 133069039224624 0x79068cd04730\n"
          ]
        }
      ]
    },
    {
      "cell_type": "markdown",
      "source": [
        "# **Multiple Assignments**"
      ],
      "metadata": {
        "id": "HxhStlm4bTJ7"
      }
    },
    {
      "cell_type": "code",
      "source": [
        "a, b, c = 10, 20.5, 'Apoorva'\n",
        "print(a,type(a),'\\n',b,type(b),'\\n',c,type(c))"
      ],
      "metadata": {
        "colab": {
          "base_uri": "https://localhost:8080/"
        },
        "id": "iea_82DmXpVe",
        "outputId": "9331e3c5-6a70-4621-d9bf-8675941dfcea"
      },
      "execution_count": null,
      "outputs": [
        {
          "output_type": "stream",
          "name": "stdout",
          "text": [
            "10 <class 'int'> \n",
            " 20.5 <class 'float'> \n",
            " Apoorva <class 'str'>\n"
          ]
        }
      ]
    },
    {
      "cell_type": "code",
      "source": [
        "p1 = p2 = p3 = 555 # all variables pointing to same value\n",
        "print(p1,type(p1),'\\n',p2,type(p2),'\\n',p3,type(p3))\n",
        "print(id(p1),id(p2),id(p3))"
      ],
      "metadata": {
        "colab": {
          "base_uri": "https://localhost:8080/"
        },
        "id": "0xDpL-LzcM0a",
        "outputId": "6c199830-b33a-4e64-a6a2-0cc7e533022c"
      },
      "execution_count": null,
      "outputs": [
        {
          "output_type": "stream",
          "name": "stdout",
          "text": [
            "555 <class 'int'> \n",
            " 555 <class 'int'> \n",
            " 555 <class 'int'>\n",
            "133069038591728 133069038591728 133069038591728\n"
          ]
        }
      ]
    },
    {
      "cell_type": "markdown",
      "source": [
        "# **Data Types**\n",
        "## **Numeric**"
      ],
      "metadata": {
        "id": "VCWodvnnddSt"
      }
    },
    {
      "cell_type": "code",
      "source": [
        "a = 10 # integer data type\n",
        "print(a)\n",
        "print(type(a)) # type of object\n",
        "print(sys.getsizeof(a)) # size of integer object in bytes\n",
        "print(a, 'is integer?', isinstance(a, int)) # a is an instance of int class"
      ],
      "metadata": {
        "colab": {
          "base_uri": "https://localhost:8080/"
        },
        "id": "r31RseCsdEB0",
        "outputId": "8f608187-3569-411c-c1f1-61a49fc26912"
      },
      "execution_count": null,
      "outputs": [
        {
          "output_type": "stream",
          "name": "stdout",
          "text": [
            "10\n",
            "<class 'int'>\n",
            "28\n",
            "10 is integer? True\n"
          ]
        }
      ]
    },
    {
      "cell_type": "code",
      "source": [
        "int.__doc__"
      ],
      "metadata": {
        "colab": {
          "base_uri": "https://localhost:8080/",
          "height": 165
        },
        "id": "Sn6uK3E0fYM0",
        "outputId": "7b29a534-e241-4413-9568-baac7e1109d5"
      },
      "execution_count": null,
      "outputs": [
        {
          "output_type": "execute_result",
          "data": {
            "text/plain": [
              "\"int([x]) -> integer\\nint(x, base=10) -> integer\\n\\nConvert a number or string to an integer, or return 0 if no arguments\\nare given.  If x is a number, return x.__int__().  For floating point\\nnumbers, this truncates towards zero.\\n\\nIf x is not a number or if base is given, then x must be a string,\\nbytes, or bytearray instance representing an integer literal in the\\ngiven base.  The literal can be preceded by '+' or '-' and be surrounded\\nby whitespace.  The base defaults to 10.  Valid bases are 0 and 2-36.\\nBase 0 means to interpret the base from the string as an integer literal.\\n>>> int('0b100', base=0)\\n4\""
            ],
            "application/vnd.google.colaboratory.intrinsic+json": {
              "type": "string"
            }
          },
          "metadata": {},
          "execution_count": 48
        }
      ]
    },
    {
      "cell_type": "code",
      "source": [
        "b = 805.5 # float data type\n",
        "print(b)\n",
        "print(type(b)) # type of object\n",
        "print(sys.getsizeof(b)) # size of float object in bytes\n",
        "print(b, 'is float?', isinstance(b, float)) # b is an instance of float class"
      ],
      "metadata": {
        "colab": {
          "base_uri": "https://localhost:8080/"
        },
        "id": "am8qC63nf1H1",
        "outputId": "8dff699c-014a-4578-91fc-f322f4d6bc92"
      },
      "execution_count": null,
      "outputs": [
        {
          "output_type": "stream",
          "name": "stdout",
          "text": [
            "805.5\n",
            "<class 'float'>\n",
            "24\n",
            "805.5 is float? True\n"
          ]
        }
      ]
    },
    {
      "cell_type": "code",
      "source": [
        "c = 25 + 10j # Complex data type\n",
        "print(c)\n",
        "print(type(c)) # type of object\n",
        "print(sys.getsizeof(c)) # size of complex object in bytes\n",
        "print(c, 'is complex?', isinstance(c, complex)) # c is an instance of complex class"
      ],
      "metadata": {
        "colab": {
          "base_uri": "https://localhost:8080/"
        },
        "id": "woeeX6EWnlNz",
        "outputId": "30c3ce2c-8067-4bc5-c1c2-3e8cfd7199d5"
      },
      "execution_count": null,
      "outputs": [
        {
          "output_type": "stream",
          "name": "stdout",
          "text": [
            "(25+10j)\n",
            "<class 'complex'>\n",
            "32\n",
            "(25+10j) is complex? True\n"
          ]
        }
      ]
    },
    {
      "cell_type": "code",
      "source": [
        "sys.getsizeof(int()) # size of integer object in bytes"
      ],
      "metadata": {
        "colab": {
          "base_uri": "https://localhost:8080/"
        },
        "id": "S6yHpbmHoRMk",
        "outputId": "cd8f267e-6211-4279-f466-bea527ba09db"
      },
      "execution_count": null,
      "outputs": [
        {
          "output_type": "execute_result",
          "data": {
            "text/plain": [
              "28"
            ]
          },
          "metadata": {},
          "execution_count": 53
        }
      ]
    },
    {
      "cell_type": "code",
      "source": [
        "sys.getsizeof(float()) # size of float object in bytes"
      ],
      "metadata": {
        "colab": {
          "base_uri": "https://localhost:8080/"
        },
        "id": "1t6QFYNBo8y5",
        "outputId": "f8189eee-3113-452f-d1f3-b3ef956c4cb2"
      },
      "execution_count": null,
      "outputs": [
        {
          "output_type": "execute_result",
          "data": {
            "text/plain": [
              "24"
            ]
          },
          "metadata": {},
          "execution_count": 54
        }
      ]
    },
    {
      "cell_type": "code",
      "source": [
        "sys.getsizeof(complex()) # size of complex object in bytes"
      ],
      "metadata": {
        "colab": {
          "base_uri": "https://localhost:8080/"
        },
        "id": "l1sOhRIypGrU",
        "outputId": "a37b81cd-e760-43ff-ace8-75c4c2a4dc32"
      },
      "execution_count": null,
      "outputs": [
        {
          "output_type": "execute_result",
          "data": {
            "text/plain": [
              "32"
            ]
          },
          "metadata": {},
          "execution_count": 55
        }
      ]
    },
    {
      "cell_type": "markdown",
      "source": [
        "## **Boolean**\n",
        "\n",
        "Boolean data type can have only two possible values **True** or **False**"
      ],
      "metadata": {
        "id": "qRa2FAOFpVJ0"
      }
    },
    {
      "cell_type": "code",
      "source": [
        "x = True\n",
        "y = False\n",
        "print(x,type(x),id(x),hex(id(x)))\n",
        "print(y,type(y),id(y),hex(id(y)))\n",
        "sys.getsizeof(y)"
      ],
      "metadata": {
        "colab": {
          "base_uri": "https://localhost:8080/"
        },
        "id": "XthiFBN3pqDx",
        "outputId": "68b0bc8d-07f3-48fe-95dc-120af96a4ddc"
      },
      "execution_count": null,
      "outputs": [
        {
          "output_type": "stream",
          "name": "stdout",
          "text": [
            "True <class 'bool'> 9692800 0x93e680\n",
            "False <class 'bool'> 9619232 0x92c720\n"
          ]
        },
        {
          "output_type": "execute_result",
          "data": {
            "text/plain": [
              "28"
            ]
          },
          "metadata": {},
          "execution_count": 66
        }
      ]
    },
    {
      "cell_type": "code",
      "source": [
        "bool(0)"
      ],
      "metadata": {
        "colab": {
          "base_uri": "https://localhost:8080/"
        },
        "id": "wXisWMvtpOZB",
        "outputId": "92382e84-9cc0-4e2d-f550-d47357e542a5"
      },
      "execution_count": null,
      "outputs": [
        {
          "output_type": "execute_result",
          "data": {
            "text/plain": [
              "False"
            ]
          },
          "metadata": {},
          "execution_count": 57
        }
      ]
    },
    {
      "cell_type": "code",
      "source": [
        "isinstance(y, bool)"
      ],
      "metadata": {
        "colab": {
          "base_uri": "https://localhost:8080/"
        },
        "id": "0F2hCRHCqOzl",
        "outputId": "02fed416-25cc-462e-980b-eae521347375"
      },
      "execution_count": null,
      "outputs": [
        {
          "output_type": "execute_result",
          "data": {
            "text/plain": [
              "True"
            ]
          },
          "metadata": {},
          "execution_count": 58
        }
      ]
    },
    {
      "cell_type": "code",
      "source": [
        "isinstance(x, bool)"
      ],
      "metadata": {
        "colab": {
          "base_uri": "https://localhost:8080/"
        },
        "id": "c-iSDyK3qZjY",
        "outputId": "11318900-2fe8-4193-d130-7cce489b1426"
      },
      "execution_count": null,
      "outputs": [
        {
          "output_type": "execute_result",
          "data": {
            "text/plain": [
              "True"
            ]
          },
          "metadata": {},
          "execution_count": 59
        }
      ]
    },
    {
      "cell_type": "code",
      "source": [
        "bool(1)"
      ],
      "metadata": {
        "colab": {
          "base_uri": "https://localhost:8080/"
        },
        "id": "pQzktKBrqeGy",
        "outputId": "eead38fe-e7ae-49e8-a10a-147f2172bb5b"
      },
      "execution_count": null,
      "outputs": [
        {
          "output_type": "execute_result",
          "data": {
            "text/plain": [
              "True"
            ]
          },
          "metadata": {},
          "execution_count": 60
        }
      ]
    },
    {
      "cell_type": "markdown",
      "source": [
        "## **String**\n",
        "\n",
        " String Creation"
      ],
      "metadata": {
        "id": "gFkWY2ZbqsWP"
      }
    },
    {
      "cell_type": "code",
      "source": [
        "a = 'Hello' # define string using single quotes\n",
        "print(a,type(a),id(a),sys.getsizeof(a))"
      ],
      "metadata": {
        "colab": {
          "base_uri": "https://localhost:8080/"
        },
        "id": "PRoSC_Vgqg0O",
        "outputId": "d8b3c8f4-2623-4d40-8575-2ce28312c78b"
      },
      "execution_count": null,
      "outputs": [
        {
          "output_type": "stream",
          "name": "stdout",
          "text": [
            "Hello <class 'str'> 133068056463536 54\n"
          ]
        }
      ]
    },
    {
      "cell_type": "code",
      "source": [
        "b = \"Hello World\" # define string using double quotes\n",
        "print(b,type(b),id(b),sys.getsizeof(b))"
      ],
      "metadata": {
        "colab": {
          "base_uri": "https://localhost:8080/"
        },
        "id": "Iv-0Vr7prKYs",
        "outputId": "f1ad3508-a98c-49f0-d4bf-9e35b460b390"
      },
      "execution_count": null,
      "outputs": [
        {
          "output_type": "stream",
          "name": "stdout",
          "text": [
            "Hello World <class 'str'> 133068056158000 60\n"
          ]
        }
      ]
    },
    {
      "cell_type": "code",
      "source": [
        "c = '''Hello\n",
        "  World''' # define string using triple quotes\n",
        "print(c,type(c),id(c),sys.getsizeof(c))"
      ],
      "metadata": {
        "colab": {
          "base_uri": "https://localhost:8080/"
        },
        "id": "ADZgIeZTr1sH",
        "outputId": "bbbd4c73-6180-4b07-e4a7-1fbb18eec1ba"
      },
      "execution_count": null,
      "outputs": [
        {
          "output_type": "stream",
          "name": "stdout",
          "text": [
            "Hello \n",
            "  World <class 'str'> 133068051834224 63\n"
          ]
        }
      ]
    },
    {
      "cell_type": "code",
      "source": [
        "d = \"\"\" Hello\n",
        "  World\"\"\" # define string using triple double quotes\n",
        "print(d,type(d),id(d),sys.getsizeof(d))"
      ],
      "metadata": {
        "colab": {
          "base_uri": "https://localhost:8080/"
        },
        "id": "WGPgSdZysRlR",
        "outputId": "3d3d2e5b-d14b-4cf3-9247-b786273e8705"
      },
      "execution_count": null,
      "outputs": [
        {
          "output_type": "stream",
          "name": "stdout",
          "text": [
            " Hello\n",
            "  World <class 'str'> 133068056153584 63\n"
          ]
        }
      ]
    },
    {
      "cell_type": "code",
      "source": [
        "e = ('Happy '\n",
        "  'Saturday')\n",
        "print(e,type(e),id(e),sys.getsizeof(e))"
      ],
      "metadata": {
        "colab": {
          "base_uri": "https://localhost:8080/"
        },
        "id": "SRpR41Y-sdP9",
        "outputId": "85334f41-92d8-4310-d321-5e85d6f55b87"
      },
      "execution_count": null,
      "outputs": [
        {
          "output_type": "stream",
          "name": "stdout",
          "text": [
            "Happy Saturday <class 'str'> 133068303134064 63\n"
          ]
        }
      ]
    },
    {
      "cell_type": "code",
      "source": [
        "len(e) # length of string"
      ],
      "metadata": {
        "colab": {
          "base_uri": "https://localhost:8080/"
        },
        "id": "nilMRWZps3ek",
        "outputId": "ca230f5f-6e30-4008-acdb-f1988b49a202"
      },
      "execution_count": null,
      "outputs": [
        {
          "output_type": "execute_result",
          "data": {
            "text/plain": [
              "14"
            ]
          },
          "metadata": {},
          "execution_count": 76
        }
      ]
    },
    {
      "cell_type": "markdown",
      "source": [
        "### **String Indexing**"
      ],
      "metadata": {
        "id": "JKxd_mZSth78"
      }
    },
    {
      "cell_type": "markdown",
      "source": [
        "![Screenshot (6).png](data:image/png;base64,iVBORw0KGgoAAAANSUhEUgAAAdwAAAChCAYAAABtaA5eAAAAAXNSR0IArs4c6QAAAARnQU1BAACxjwv8YQUAAAAJcEhZcwAADsMAAA7DAcdvqGQAAEPPSURBVHhe7Z0HYBa1+8e/3bt0l7aUvfeSvbdM+SN7CMhQASegMhSQLQioPxVUBERBRIaAIHuDrLJXgRZoKZTu/c78k7z3QimotLT3vpXnA9e75EkuuawnyeXN2TAOCIIgCIIoUGyVM0EQBEEQBQgpXIIgCIJQAVK4BEEQBKECpHAJgiAIQgVI4RIEQRCECpDCJQiCIAgVIIVLEARBECpACpcgCIIgVIAULkEQBEGoAClcgiAIglABUrhEoeRfNyS14h1Lc0Yt++6qOXdaze3Oq8/q30xOX3m8DUEQ2aC9lIlCihE7163F6WuRsLW3VxQLgybLiIatOqJlw6omZ1bKtbN78OvW42jTcxBeKF1UsTVx8dRBbNx1DN36DUXlEC/F9uk5f2Anth89h3b/1xNVyxRTbHOLEet/WYGr0VoMHDQYwX6Oij1BEHlGKFyCKHxoWa+6FU1aNscx/IOvFTd5xcj/PYoxh0VO+b9hzHGDlfNekXGd/OsBxeYhX30yWsq+3nlJsckdi0b2kv4Xrf5TsXmcx+Kf8wGZjvXr2oS5F63J/rqYqtjlndymF0H8F6EpZaLQ4uzixP96Y+4XP2LrH5uwfv06/LJ6LUYN6mByoBB18wZu3IxWTCa0acm4fPkq0rK0SLwfg4jICFy9egW3omO41rbh/4C70bdx5VoENAbAhlskx8Xi0qXLSM40SHlWagKuXL6EmPtJ8p4SpsfN8KuIiktCZkYKrl+7jgyNnvvnPpgW169fl868vX3k2cXRXp6z4+ziajo7mGS3I67i1p0EeR1/9zZuRt+V14IH81MGDa6F35CXPr6+8uzs6CDPAqMmHeFXriApXSfNIv5JcTEIO3MOMTyu8gH5k9+6dhnnLl2D3miDOZ8vx9Hda1C9jDsMukxcu3wBial66T/yRjjiUzLkdXbSEu7hZlSMvE64F4nw6zeh1RtleATx3KMoXoIoZOjYgEZVmI1LaXbulkaxe5SoK0fZoO5tma+XJ/Pw8mOtugxgx67ESFnE9jWsfPnKrEf/vqxRjbKsebeXWeuGtVmDdr1ZVBp3kBXNBnWuz3xL1WZ7ztyRfj4e9TILrdiIRSRp2LrFM1mVsqHM1dWVFStRlo34cA5LNXBHxgT2Ut3qrHmXbqxD2xYsMLQK23PuNrt//Tj7vzb1mYe7G6vdqBUbOqi9HIXO3HhE3js7S+eNl7LlB29wk54NbFuJtew4lL09bAgLCfBmAcEl2OuTFrBkrcn9lWM7WKdmdZmbiytr2PEl1qdtS8a7DGzJhr1SfviPn1njWhWZq7MLK1G+Bpu//Hdpf/fyEVavbCCr3KgLi9Uzdnb7chbg6cIGjl0g5a8P7MyKV2rBLkYxFh/5F3uhrC8bOHwy69uxOfPyKsLKVKnDFv9mCkPwy9czWdUyIczNw5u9+cliNnZEK1arSXd2IyZTcUEQ+YPBYGBZWVksJSWFJScnM51Op0isG1K4RCFFywa3qMsVkw1r1b4b69unN+vapRN7/d0PWCKXZt2/xppU9JOKq1mbjqxjmyaMjxeZT4XmLDKDscgtPzJnboZHMTZp+jx2JOwC+/zDQdy9I9t+OordvbCXhdibpqhn/7iDscy7rJovWNWu77CYq3+xCoHOzD2wLOvbtzcrHegu3a04eJ2HnMQaBvtIc9/X3mO/btrF7t25yXrULy7tGrdszzq0bspcHW2l+Z8VbgQ3aVmHakWkOahkZda1a2fm4yzi5cQ2HhXhxbPWVYOkvFHrjqxdiwbMyZbL7dzYyq1HWeqNIyzAgT93aCXWb9BgVqdCUe7WhS3bclyGtXz2GOn35VdGsvoVApmNT3l2/EaSlHVqWpnBNpSFcb0fG76P+XN3gC2rUa8Za9eysfTnWaoFizcydmb798yOm23dA1inrt1Y7eo1mKMND7dUE3b5Nk9wgshHoqKi2Mcff8zatm3LWrVqxTZt2sQyM62/Y0cKlyikaNnQ1g1ko5/9CCpfk93j0sOrZ0nzkImfm5xzvps2StrNWX2E3dn9K3Pi120Hv69IGbt9cpOUT126iW37aT6/dmDeHvas79hP2ekjW6Rs+vJd3KWOHT24h525cpuPaNPZuwPamO674QSXJbMmxXyYnX91FhGXJe9759w2Ka/f801pFkx7vbO0+/cRrpZ1qeXNFWgA23LsmpR/+V5/KV+54wKLPLdLPkeLfu9KmeCdXi2l/Kftx9j6he/I657Dx7Etf+5gsz8YKs1th3+svFdNZ6P+r4m0A9zY4vWHpa0I96XWtRhcy7LTXO/HXtvP/LiboDpduA+OMYV1qh7M4FiB3dYwNue1LvIe837cKX1n3DrOynk5MK+STdmVKFK4RP4SHh7OevfuzUqWLMlKlCjBypYty6ZNm8YyMjKserRL73CJQotOk84HpCH4Y/9FpCTFITo6GqcP7UQAl0VfuyndtGrdQp4FTVq3lOc7t27C1sYW4m1kSEARaScIrtQI7at5Yd2q37B5/ToUr98RYwd3x77de/HrsiV8YFgKHZrW4C51uH72OOZMehsvdeuD/WdvSf928j0oYDDoERAQAkcbPubjJMVFyXOVF+rLs6BxkwbK1b9j0Ot50GVRvaxpNXO5YqHybMtvn56cCA2/rl6nprQT1H9BxJFrP2aDm3dj5XXU1VP4atF8HL2agk4d2qB2lVLSH+CKTu1byStnvxDUrWPyK8j53tXIjwrVq3MfHIM9ygYHS0e2TIe46ASeAEGoW6O6kMIltC6qhYbAoDO9MyaI/IQrWrz77rvwVdYrcCWLFStWoH///ti3bx/0vM5YI6RwiUILM3IVYOeIoJAS8Cjii2CuAAL8TBUwtFpleV65YiXShaZAGlYv/1HaVa5RE0ajQV7zYZ48C2xdfNCt6//hzI6VWLLuEDp17oYXX+6HuLBtmLd0I+q1bYM6pXyxav4E9H9jPPzqvIQN61ejXb1SJv+2D6sT42Gab+0XXBFu/Lx/w2+4n8kv9MlY9ctGKXtabLm602lNjYg5zlyvw69oCDz49fZN25AsxNq7WL95B7+w5Z0KhnKhXClyWr08Epu3bMW8SWPQ6aXeGNKtHZy5fcrt0/jgk0VwcXVFVtxVvDd2IrTSh52cMsiOUMA2zJRupgcUZwaDjQNKlA/hEYrB5u3bpfjSvl9x8GokHJycaMEUke/Y29sjKCgInp6eckGiMAvCwsIwbtw4fPPNN8jKyuL1XFZ+q4EULlFo0WqygMwMWbFyUqtFT/RrWx1/LpvLR7GBCPQNwZQlG9GoxxsY2K4C95YJoTo02kdHYA1bteMjOD20RlvUq18HNWvWRGU/AzTcWfOWbaWbLK1JhXw/5z2ElqyIpZtOSnNKYqo8a3icMnmczCuI/cvXxZiBrXHt8DqUKRaAgKIlseKP01KmMzzeIOiVUaFBUayarExkZD68n3nUmJaWhoAyDTCoR1Nc3vszQgMDuQKuhF/2XeBSG54uWnTsOwI1Qz0wY0wv3jEJRdnazfHGqIkIvydWGGvx7rBXcDYqA9+v34GpIzph75qFmPrVBi6z5QqepytPJxkNrmBFXyFLY1LHQhtrNdxGm4H0dKDv8DdQ3Mse88YOQEBgUbR9ZSzSuVNHe9sH8SaI/ER0cJlSuMSIVoxyhTkhIQGff/65HAFfuHDBqka7dlM4yjVBFCIYLoedhMYjGL16doe/l/iJ0EPsnNzxYqfO8HaxRWJiElx9QtB76Gh8PudjeDvZIe1+DE6EnUbDtp3QrN7D6dhAb0/cirwE5xL1MHLIIAT4e+J+zG0k2gfhnbfeRPEAd1SoUhVuNlmIjU9EzWZdMHXSWOgSbsGzaGW0blgJYUeOwqdMDfTo2g5uzqJPa4/GLVrCUZ/G/aSgdrOOeHvkIKREx6D5y31Rs7iYBH/I3ds3EHY9Fi/3GYiygW44e/wwnIOroNdLHeHh4oiEqBv46+J9dO3ZAxVLBqJFixZcEyYjPikV9dv2xLAB3WBgejRr3REVK1VB25ZNoMlIRTLXjJXrNMHM+Z/h/1rWxPkDm7B41Z/o/sZHeP/VHqhVqzrOnzyOyHtp6NyxBW6GX4TOJRB9eveEh10yTh7ZhyqNO6Jjs7pSAYefP4Nkp6Lo1687inh6oFyZUmB6A1x9S+CTmVMQc/IAbmd5YMTwwfDxME2vE0R+IRTsqlWrkJycrNg8xGAw4Nq1azh+/Licdi5VqpQcCcuf51kQ2mmKKLRkpqVCy4ep7h7usLP9+4qkyUyDDg5wl7/bNWHU65Calg4HZxe4Oj+qrDMy0qDnI1x3d1c5BZTFR5ganR4eHh6wFdVFqbSpqSnczlNep6Wk8DBs4e3pjnR+bbCxg4e7m3Qqqpi5oqdxP+6Kn6TERLi4e8LJ4VFlJEbuYkTrxt052NkinfvR83uL+9ny++i5PC0jC67uHnDM5jc1NVXGUXRGkpKS4ermzuUPf+ebksI7Hh5esFeSKj01CZk6Bm8fb5jvItJK3NvNowhXnhpoudxdPDePgbi/naML3FzEZDRDJlfgWj1DkSIe2P3LFxj5/hwElquJls2bwyElAh9/+jVqdBiM/Vt/gOmJCSL/iIuLQ+fOnXH37sPfpT8JNzc3vPLKK+jRo4d892tnZ7nOHylcgvgHROX4e1VOmNEkRuK1Ia9g5e/7wXWwpFSVRlj41RJ0bVbFZEEQ+YhQuC1btpQdwX/D2dkZjRo1whtvvIFq1arByenRTrZakMIlCCJfYLoMXLx0CffikuHg5Iqy5SsiyN9LDPEfzAoQRH4hFG7Dhg3l1PI/Id71ilGtUHVC0Xbq1Alz585VpOpCi6YIgsgXbBxcUaV6HbRq1QpNGzcwKVspIGVLFAziXe2/IVYqi4VTFSpUkOd/m4IuSEjhEgRBEIUOd3d35erJiFGtee2EOKekpKB79+4YPXq0tLMEhW5KOSoqCl999ZVc+u3g8HBzdoIgCOL5YsuWLX/7W1uzshUqTlyLEe6oUaPQtm1b+U7XEhQ6hSvm7Tdv3ix/g2jJ1WYEQRCE5dBoNFi0aJFUqDkRdkI/CGUsNsVo0KABxowZg/Lly8Pb21txpT6FSuGKqJp7LQRBEMTzy7JlyzB16tQnKlyB0BWOjo7o2LEjJkyYAH9/f0ViOQrVO1xStgRBEITg4sWLf6tsxajW1dUVI0eOxKRJk6xC2Qpo0RRBEARR6IiIiFCuHkUMzMSCKqFsBwwY8OADB9YAKVyCIAii0BEba/oSVk7Eb22HDRuGnj17IiDg0W1TLQ0pXIIgCKLQ8XcfJRAfHOndu7f8mpC1QQqXIAiCKHQULVpUTh9n/72tuBYf87CWd7Y5IYVLEARBFDrEJhZiYZRQtuIQWzh269YNXbt2VVxYH6RwCYIgiEKHUKxNmjSRXwMSG1k0a9YMI0aMQHBwsOLC+qCPFxAEQRCFksTERNy6dUuObsuVK2exHaSeFlK4BEEQBKECNKVMEARBECpACpcgCIIgVIAULkEQBEGoAClcgiAIglABUrgEQRAEoQKkcAmCIAhCBUjhEgRBEIQKkMIlCIIgCBUghUsQBEEQKkAKlyAIgiBUgBSuxaGdNa0JNXPjiWHRTqsPobSwCqxh999Ho1B4y4XdFI5y/dxw60oYNvyxF74hJVHE1UmxVZe4iHM4dT0OocEBMH3JUT2SYm9hy++bEB6diFJlSsJe7Qg8wIiTB3Zg95EzCAwtAXdnB8VeXTKTorHrYBgCgovB2V69PqhI9vhbV7Bxy584FXYOWjghpKifSagiovkScbl29gg27TgET7+i8PZwlTK1iLl+Eb9v/RNXr13D6ZOnAFcfBPoWUaTqkBJ7G+vWbUC8xh4lQwIUW8ty+tBO7PnrLIJLloWroxpl01wagMtnjiKZucKHlwVtejz+2LIFGgdvBPp4SHlBIRS8+NyeISMRx8POwz8wGPZ2Nki5F4GzV6IQFByoepuZXzx3I9w753dh6Mi3sX/PFrz66muITlMEKnI9bA86tWmKud+t5ypHbTIxbfw7+H3fSaxbPANvf/SFYq8+53avx4yF3+PgtjXo138ELJAVkrnvDsegdz9GTLJGsVGPFZ/PxDe/bIWTmwv0Op1iqy6i8Tq9YxWGvzkZRw9sx8Qp85GhN8nUQq/NQlp6Fi4c3IQhr47GuVvxikQl0u5g+KCB+H3XQUx681V89st+RWA5dv70GcZM+BQ71/+EQSPHIk2V4iFKA8OutUvQpVsP7L4cx806THhnFDbsOoQpY9/EnnPR0mVBIZRtSmwE3n+9H8ZMmgtma4P7kWcx4KW2mP3dGsVV4eS5U7hb1q5BpmtpfP/DPMRfC8O2A2GKRB108Tcxb/6XuJfBe3GKnZowA8Or46Zj+TcL0LqKP3bu3Idky7TzCK3RFPM+m4+SnoCGx8ES6XFmx3J8xRUe41WByd69muixZ+9B3ImMQMTteyhVtpxirzYM639ZiRSXUHTs+BLeeLU3XO0VkUqEVqqNkSOGIT32LtoPHoN+rWooEnXQJN1DxJ0EdOn7CooVsUP4lQhFYjn2bN4A90ptMWni+zj263c4ERmjSAqWe+EnsGztDugc3XmltEPGjf3Ydz4Gk+ctRHUfYN3v2xWXBcfGVcsRFhELF0cehcxYrFj5HWIyNHyAUninkwXPncJNSU6Hs6MLv3KCg50dUlNTTAKVsPMsis+WrMCo3u2g1aqv6WzsXFGlSiX8teFrjPr0N/Ts0xNFLDCTK6aNvHwDULqEPxISMuHo7IDUNHUrU1ZsOBZ8uxFvjnsHfp7ucHNTdxqVN/MY+O4UfPHpNFzevgJjPpxloeYkExmp6Yi+eRXbtqzFnIVfIy5T/ZhEHNuMTX9FYuz49xQb9XAqVhktapfArPFjcPaOHp06NFYklqNT/6HQXd+N2fPmIU3LkGpQZwbGu0QN/Lh8MepUKgGNVo+05Duwd7aDO1d+HswFGYlZisuCo/9bUzBr8ltw1Kci08YL701agHHDOkCn0xfa6WTBc6dwi3i6Ij0jlV+lQaPXw6uIl0mgErYOTnBxdYNRmwW93qDYqsvh9d+g/YCxGPThIsx8q7diqy5i2igy/ALOR6Rg7txpiLu4F7uORypSddj683dYv+8MLl+6ihtnj2DZ6o2KRB0MaVpUrFYLHdq1RudmNXDp0mWo2/0z4wJHV0eUfqEdJr0zGBf3rcfx24mKTD12btsCh5BaaFZG3Xe3gpvHtuH3w5exeNMxtKvgiq+++FaRWI6q9VrgnXffQqumjeHn5wNfe3U+ru7oyDWrkzMyMzJhNBrh7hkMTYYOielAEkuDu1/Bd0yFYrIx6rnC1/FBAo8P7GDQ8DbToC/UY9znTuF26TsQvuwOBg14H6HVm6Ajb+gsgYOTC1xdLLBgK+suJk2ciiKla6O0rxG/bPwTvC5ZhJvnj+CdkYPx+uTPULxGS7SqV1KRqEPTXqOw+4/VaFa7HHyKFkOVCqUViTrYORjwxYwP0X/ISKzYcw3Dhg6C+qpGYINeA4bD5eZ+jJ2+GJWb/R/qF/dWZGqhQ+SNCNRs2Ewxq4t/qcqoViYES2aNx/l7ejRp3lyRWI5w3gn8YsEibNu+D417v4o6ZYoqEjUw8IGBK1dzeriWaYEX65XGjLGjEJ7lit7dX1TcFDA29nBzc3sworV1cIars3OhHuHaMGtY860ysbcu48CJcDRr2w7+HpZZpRxxKQwJBg/UrlpW1QJkTIvDrkMnYOShajLT4eFfHI0a1IWTneJAVRjOHz+EK3dS0LJ1G/iIOSuVEIXenO7GjPs4dO42GtWvzRsYdUlPuIM9+4/Ap0RVNKpVQbFVF3NaRF48gbDr8WjRujW81X6Jyww4f+o47HxKoVKpQMVSXTIS72LX3oPwK1UNDWtaJi8eRY/TRw8hOtmAVm1awUXVwqlH2Kkw+IRWQAl/TzBtGvbsPYDQyvVQrpiv4qZgSY6LRvjNu6hZqw7EjwdiIs8jJt0RtauUV1wUPp5LhWtdZG/6CUtDuWEFiCbJhnLBkmSvB0JFiFdAqpKjDDxqLLy1lBQuQRAEQajAc/cOlyAIgiAsASlcgiAI4j+NtUzkFrop5Zs3byIi8iaMvK8g5/R57B+Z0VfsHpyVU365FXb2tjaws7OBVs+U9xsm2QOeZBaYb/gMbs3vMhx4+OJabzBt12D29sBPNr/SqJjzxS3/I55bLLoS73acXNxMQiEXZHf7T3aCJ5kFT+FWXIot3+x4HLQiHURemER5vq8UK2azU4nZzWNubeDI42DgYYu8kO7/1q3pwiyS5MWtGSkwWWoyM6TIydlVxumBZzPmm5hvmFP2jG5FWRRlUgStMwjzo/VC3koxy2thKTC7eUa3Inxh7ehgCwPPB70xR14oJ3lfgWInyeZGkt3Nk2R/69YkzExP5e2DAxydxe/9ucDsPrf3VbyavT1wk82tNOZwK86O9kr7wNPBnDZSnsOt5IFQOSunp3JrFmSzk5fcs6wXPPxH8kKQ3b+ZJ5kFz+BWnHhpQMkSxVGyZCmTpYUpdAp32rRP8PHHH6F4gKdioy6iEGZojMjQGuHjZicLltqIHEvJMsDOFnC3zPJiGYfEdA0v3zbwVnF1cU5EPmj0Rni52JsaCJUR6ZCUoZcNnJuF8kKQkKaBLU8ALzfL5UUaL5Nc18HTWdQLxVJFRF4k8Lxw5UrX1clWmi1BbHIWnB3tUMTVwWJxSMnkvR6eByIvLIGRP3hShgEujjwveH5YIhmEaou6n4rpM2ZgwoQJiq1lKXQKd9wHE7Hm85n4ZXRZWal550lVvFzssOTAfX4kYPPo0ryR5X0oFTdEFsvjNXxkPWb1LZT0dcKEF4Nk4VYzHYSiF888bm2UNH/Ws5isUGrGQeS9M1dyX++7j+0XU7F8SEm4ONjw3rTiQAVEOohZjj7f3kDrip54p00AsuSsh+JABWx5OojwRq26BX8PB0zrGsQteP6onBdi1mfKpjuITtTh8z6hcLZAXuh42nf4/DoGN/LBG839kSSUjorIvODnTl9cQ9tKnpjYsSjSeYdQzfLAoyBnGt5ac1vmydweIaqXB5EXyVzZ9vs+AgPq+2BoYz+k8UGKmoh04H0edPzsGl4Z+xHmzJhqEliYwqdwP5yMPcum48TsF0w1XW2N626PJRujMXHDHdyfX4O3+jxXVdV2/Jl1RrSffxWVg1ywYHAJU21SMxlEy8Kfucfn4bIxWfeO8rs4VTUuP3jved66aPz8VwJOfVQZ4J0fVVsWkQ5cq1SZfB696/jgo76hXAPzhkXNvBDpwGk/9wqKeTvi+5GlTeGrnRe8XL7xXQSuxWqw/T1eHsSXbVRt5XkkeL0o+vZpTOoUhNE9igFpKn+BQcmL4u+cRt96PpgzpBTAR/2qlwfeK395wVU48TT5iQ9MVC8PvF5oedpX/OgCPngxECO6BANcAauKTAcbVHrrGLqM/BhzZ1jHR/F4rSh8yBGl6DFpeCaKBk7lQ4wwhaIR05lPkhf0oePPLt6N6ESDJtLhCW4K+mD8EPkg80LYWSIv+LOLEaYY4WsU8xPdFeCh52GKtkzmxRPkqhxKeRCHpcqDCFe8q5Pl8knygj5EGvAzTwH5Pt9i6cAPEQfxHvtJsgI/xHPzuijfY1swHUTbKFJC1E+LxEGmg6luWhOFUuE+7ygdaevCEi/tsiFDt8qEIdSGygLxKNZTGEjhFkKsrNNmwsJvJmToVpkwhNpQWSAexXoKAylcgiAIglABUri5JVtnySL9JmvprNEIQkLJ8DiWShOrywsqHEQOSOHmlmyvAyzyZoAHahVvJHJG4jl9h2sVeWFlWCpNzOFaqiw8BhUOK8F6MoIUbiHEKjvO9A6XsBKoLBCPYj2FgRRubsmWdxbJRmspO9SgSSgZHsdSaWJ1eUGFg8jB86VwxRec7W1Mv81y4I/unIfHzzY7kduJCln/xPZ/7vYPD7EFnZQ+Jc84OyIHonl99uw8QzxkHMSWWSI/+H1y9fz5hAxTbJbgquSH2DQjD3F5xuywOPJ5s5dJkR48KZ4lT3KdJmIDEREuzw9ZN0V8RH7kkmfJC1kmxSY25nQQh+MzbkmY2wiJ1zKiTvBHf5AOYgORZ4pEHpD14mEaqInMBxG+Gw+bn+Wji3wxt9uFHHVT01KIgs9z65ttMdgbkQlbNzucvJSIhfviTZVdDXgwoj7tPxSLYV9fx8hvrmPI/67hu4OJsBEFTCVsHGxw5mICFuxLgM6WZ796QT/AxtEGt26lYuHvsUjTcbMFSqEN73QkxWdi9upbGPH1DXzL80HLbCwSF0siyt7mg3d5GlzHsK+uY/JvMbiTblSvTPJwUnk+fLImCpcSDLxu2mLP0Xv4ao9SN1WKhqgXa3ZEYyivk29+H4HBX17DtlPJsBEdQzUQjYNGi0V/3MEpkQ5ONtj11138eCLZ1EFWCx7WvXsZ+OTnSAznbdQqEb4oC6rlgy2i72ZgyqpbOBunl/Vx8Q7ebkdmwZa3G4Wd56N5EYWZd52WHYnH2QQ9EOCMyJh0LOEVSjWFK+BB7TwWj8PRWpQPckZpPyd4u+Q+C/IcY+GR9xQvRqRgSVgK9PnZoOVm0RRvxKLv8vTfl4g0PfeXD3kg7/C0t+Hh6RIz8QpvWHfzvPBxscHXW25j9IZYLuP58ezRKTzwx11/KgF7Y7SoHOiIg2H3MWlLHBfwRFAjHYyAh5cjom6l4ONtsUjnjf376+/C1sVBltW8jO5ktHMddwYXPpKyy9Rj6Z5Y3NXywSZXwjICaqSDqD86Pb47FIdIHc8Ub3uEXU3ArxfSuMJTqUzyeplyLw2Dl0bi6D0dvLmCm/7rTUzewTs/ouOhShxscD9Jg6lbYvD2ursyzFXH43A4RmOKQ55QI+JPR16foPDB0zyIN6xr9t3DJ7wXu/hYMtzFVIXKeeHKw3TmPUaNzrTtmT9XurklzzMrwiM/xCfMiogpuzzf6AnIuaCnhLu155XHy9XWpGvzIR7yFk97H/78W8PicdvWCVveLIvZr5bGkm6B2H0sFpeTDNZUPwsenmaOTnaoXsINL9XyQiUfe9xJ0EHsyKcKotw42WN+v1DERyai5Rc3UL1OAF5rUETujZwXclUWzPB+eJfmQfjypSDUCXLCRz2Ko3k1T27Pb6RKWvBAuGJ159Xym423MO3bSKy9lIUAd95GqRMBXhBssOVkAlIdXLB5dFnMHVEGn3X0xfL9sbiXyuuFGoMTmQw2KOnrgAuX4rEyLA3BvEPmIjpfeU4HldLvKXh+FC5HZJn4tF5Cuh5pGstkgujIZvGGRMRBfEpMbEGc2wb+mYu9KNRc6bsIpSve0eTH9GFuRrgCHgfxOTnx+S75vk5WqLwjfT/tLbi7+CwjnN3t4aB0PAI9HODCh1tpvCOU62cpzPBHdbNl2MlHEX2+i0Q4c8SUrv6wt+PpwP+rgtYI9yAPvFG/CC6nAhPb+suPQuQ1/FyVhezwMDN4/ot3haKOqvrxhWyIzxzG8/Yhk8eFl071sGFIzzTCx8UBNqJe8noQWMQeWmbk7RRPC5WqhdgDumiwOz5u54M5G6NxJl4vv62bd1SK+FOgan5aFF5eEvU2GNS6KBa8WQ5vNfaC8RkqdV7JyGKoUtwdI5r7Y3hjP4SIAW4uK/YzR5mXv7txWdh3KQXHLqbgZqJ4karI8kpuRrgCHl58qhYHrqbgBI9DuJjDe4Y4yNCfNgp81NK6nAeSb6bg0+2xOH8hCR//eQ8Ofu6o7M1HFP+F1RlPC3/UOJ79fduH4NjUKtgxujQaFOOFUnQ8VMUGRX0cEcxHl8GuvFl6hjyQPvPoXXw8zfRBDMVCTQxGGPko9+0eJbDotdIYUMMVSbxjqBq8fWxQwR3XohLx1Z44nAlLwNSt91Et1BPBYqStUqIYeTjiuXs2DUI9dwMuXkt/xvbJEpn5ZJ4fhcszrKinA1xFT4n3IB0d7RDkYa8I1SPEzwEHzsWj9zc30Pu7CHy0PyF/RphPCy973nw0l3QnHW+uiMCgZTfx69XMZ3g/kgd4HNxd7GHI0mDcmpsYsDQCS46lmKas1EgK3tEqXs4LC7oH4s8Dd9H3+5u47+iMHwaGysWZVlQ/Cx7+rL58pO+nrE6WnT/V5pOzwRtZO65sgnhc5FePLAEPVsbBy0EujFUdXv5FG+UoOq981O/q7IAANx4RtZJDa0DVSnxU2TkAq3ffwYDlN+Ho74HFvYNgL9JDDd3Pn9XJwRZF+XPbONnjkx4hKBbgDBfRRlqoWOQnz4fCFRXY1hYrXy2FYdXdgSQdujUIxIZeIbLxzRXZMj1X+S8c86CGv1wckdOr4MDYCjgxoRJWdAnMXQOXq0CfAK/ILesE4s6sqjg0viKO8ziMqcXTJLfvy54lHhojKpb1wvm5VXFMicMn7XxMjf2zPt/TwtO8HS8Df46tiCMfVsSmkSVRI8gh18pGregWGDzN5/YsiSmNvIDM/GlR85QmGgPqV/bBjsHFIQa4ebnJM+cFrwNFgt3w27sV0DiA97xyOfP0GLnxLtooF2esG1kGXYN42JkMr3cuiUUd/KUiVKWgiTCYDbo0LYrd43i9+KASfhlSHKW9eXzU6oTxZ61Sugh28Proa8sQXMoLN6dVxuBKbnygpIbGL1ienxEuR7y3FItQBeJsl5debLYRWF4GYza8F+vsZAd3PqLw4Idrbpe6c+d5CTc7Yqm9k4iDiykOTnl5f5rTSy7fewrnYpbBTcbBHs5yRWjekb5zcwvRfvAG1o4/u0gHOSWeh0bl2WJtHYh6IRbC5hd5TRNRLu2fYbbH7FOe8xwJ0yg377HIRh5uItsoxZ8tv8hTG/UsiHrA64W9uV6IjoBaylZBtA2iHMhk4J0eW54f5nY7b+RLbuYL+VjNCgGi3JjLTvZrNRFhikJsPvIQhzx4eRRxg2eMw2Pk9h2uIB/jIL3n5R7CT36lQWFFPLs1PH8+xUPe4lnuk5eynF9kD1pcWyoqIlxL1ovs4T5zPCz1EI/zfCnc/CBb3lkkG62l7FhPGbYolAyPY6k0sbq8oMJB5IAUbm7JNjthkYkKa5kdsZ5ZGotCyfA4lkoTq8sLKhxEDkjhEgRBEIQKkMIlCIIgCBUghUsQBEEQKkAKtxBila+GLLwdogyd3pkRHCoLxKNYT2EghVsIscrFj5b8KQVHhk6rQgkOlQXiUaynMBRKhSt/pC/2XjMfYgP67OacR3Z5Prh1treRAzpXKf+X++X3wcN04GGKL2rIDb2f5Cbn8RTP9OB4Kre2sOEy8eN0+cP8f7tnQRzi49z8LDbtEB9BcJJxyId4PNXzmw+eBvwsNipwFJuHCDslXo8dublvruJgOkR5sBcREWnwlH7y7VCe2YGXBxEH+UGInHHIzTPlyS2vEzweYrsEJ7FNqdi04W/dFuAh4wCZFjK8vysPT3s89fM/ei3qptxEJHt5+Bu3Tzxy4/axwxbu3I+slyIvnuhGjUP5GpkVYcPEbt2FiHEfTMSaz2di+cjSUumJ30SrSRFekZceisMPhxOxdmQpuDnawqBiEoqGVas34r21USjh44Rx7QJl+Grmoh1PeBHmhA13pHl29xB5NqoYCVGPxJ6r3x6Mw+7LKVgyoAScuVnNfXhFOmgNRryyLBItyntgTMsAZPG8UTMvRB0QHfh3fo1CgIc9JnUMknVC7bwQ5XLmtru4k6jFvJeLybzQq54XDN2/voH+9b0xoqkfkjPFp7jUQ+YFp8c3N9CqogfG87qZruHlwWStCiIKQtGO/y2an4Hp3UJkeVSzPIi8EGk/ZEUk+tT1xqCGvjId1ESkgwN//u5f3MCQsR9hzoypJoGFKXQK95NPPsFHH32Eoj4eio26iEql0TN5iF6cUsdURWRYptYotztzVvOjAzlIzdLJ53d3djBZWADx2TDxOS9X3vGxVF5k8LwQI7s8bZGZT4i8EL15NyfL5YXobAgd68KVraXyQjTsYrZB5IWlWrakdA3vDNrB1cneYnHIVPZGF3lhCbLnhZz9sUA6CNUWm5iGGTNn4sMPP1RsLUuhU7i3b99GdPQdGG1EpRbVmo/u+N+HFdxk9/BsNuWPW2EnevPi0HGlK/6Z3T/kSWaB+Y55d2sOT/ReRc6Zvr0g7MyY/Tz0azKZzGaJiby6NUkz0lLltZu7pzyb7/Go23+yEzzJLPhnt6a/YgoTcupKx5WuKW3M5P2+uU0rMX0oRhDmEZ3Z/5PciiuzxERe3JoxSYSrjLQUWR5EXtiYh1pPcGu+++OyZ3Mr4iA6HSJovdxr/9F6YbqTyWy+qwmzm2dza3IJONqZZpwMvF4I2ye5NWGyM/HQjYnsbp4k+3u3Ih6pSQmwd3CEq5t5UGB2n9v75j6tzMgpbW4h2gcheejzoVtxZeKh1HTOjVuz5KGd2a+IgykvzPXycbcPeZJZkDe3ZqktjCgWEoJixYopNpal0ClcgiAIgsgNQs097IhaDsvNRxIEQRCECliDshWQwiUIgiAIFSCFSxAEQRAqQAqXIAiCIFSAFC5BEARBqAApXIIgCIJQgedW4erFjwUVNJkZeGAq4F9Jme/OjI/uSCTNyrUq8MCz7z6TmaVRrtTkYfhZmVnKVXZb9dBlZT4oAwVcBHLAkJmRhsTEJKSmpUOr0cnNIyyJlqeFGXXTQsCQkc7TIykJWVqdYmcZDOLHvFZCRkaGcmUZNJnpD9tIi9RQTo42szBiN4WjXD8nGPG/qVNxKdEJtSoXx+YVS/DNsp+x7/AJBJapiEAvd8Vd/iPKilicHnFiG2Yu/BZ1W7WFC+/yHN68AovXH0DLJvUf/IS7IIm+cAgfzVuMWg2awN1Jh6WL5uPblb8i3d4L1coWV1ypgXhaHTas+gZfL16B8LupqFWzGtTesOnYrt/w6cIvsfvgSRQrXxkBXm6KRA002LZuOZb/sgXbN63Bj2v2oFXnF+GqdiIo7Px9JRZ98Q2OnLmO6nVekFuXqsnBDcsxbeFinDt3HvYe/ihdrKgiURFjKqaMHo9kl2KoVDpQsbQQ+nR8/+VCLPtpDa7dS0X1WlXhoGrR0OD3lYuxZNkq7D90CkVLV0WAt6siK3jMbWb0xf2YPvd/qNy4HTwdpahQ8lyNcHXJsZg9bhjenDILVyPvcxsjwmPuo+ewYfBNuYIpkxabHBYQouCc2LkaPfoOxNo/dsDOHtj28zwMGPY6th0+rkpmnDm4Dv0H9McPG/6AnaMTjm1ahp93n8OAzvXwxYyPcfHew9GNGtwM24lZs9aiW4/+2Ld0IVbtOKVIVIIlYdq4T1Cq7suwuR+G6V+uVARq4YhGrbvjrREDEHPpDOyDSsDP2TLK9u6lfZg081u80K4HQv0ckJKq/qhq9U/fIz7TBb169UH9GpUUW3UwD57+WPEZpn71OSLvJCg2liMrJRFaOyd07dgEK79chL8uxSsSdTCkJSMiMhEvv/omXFNPYdqn8xSJOoiacO7Qerzcsy9+/H0bsgr5CPe5Urh6TSbK1GiJfi1agum13MYW77w/EU1rVsTl8Cu8R10AI5sccyB6Ww+8MnQASgX7IItHwcm3JPoP7olAd0O2KZv8I+dGYjo44/8GDULlYk6w4Qr/0snzCAqsheadu8LZNgUnIu8pLtXBxdEBeq0ORlt76FJu48KVcEVScDySJjZeqNewOs4f34XoJAMa1a2lCAqOR/PEFr5+RWG4fxV3bYti1pRxir363I04gai0NNy6cQVw80egX8HvV/5o8cyCwcEfdpokzJgxGyfDYxT7giN7XojGPfX2Kfy47giqF6sFW7E5tQXIniTOPsXw+qjRSLxxCs5+pVGxuK8iKTiy54mdewDemjSJt5FlcfXKTdg6qbCH/aOFAhrmiP6v9kWZUH8YCqKRVJH/vMI16jIx96O38WLnHjgY4YCeAwYixMsVOnPOaRMwomd7HErwxZzpo0x2+YmNDS7v3ICXu7yIsdMWoEGrTni5VV3otFq5z2nL9i+jcbXS0Or1iof8ReywcvnEDvTs0BTvTpmLuk06oleH5jDKDgdPH54OLNurqhxlvcD4dv5EdHixE3bd9cKn88fg3IldyFA+bVbQiDTZvuYrvNi6GRYt+Q5pjm5w9y4CbwcXpMYV/KhGhH/7wlH0bdUKI98ZD5ETS7//DrVad0MJ2Z6plAkSLRa8OwbdunbD1sNnedzc8UKtmtj2zSKs2HxUcVNwiA2A1iz7HI2bdMAXS/7E/B9/wcZ1K9GpohdXul8prgoOkRfXw3aic+fOGD3hE3w4eQbKNXkJjaoWQ9z9OMWVutjwjsfcaePRrNn/YdPe89zGDh17vo5A11hs2LXf5KgAEXmy47dv0aRFOyxc9Se3ycTwri1xOjkYsz8aa3JUkPAIRJ76A726d8LrE0Wb1QkDOzaCgbdZarVPBcV/XuHa2NihbMUqaFD/Bfh7mSb/xQIdIzM9+ntDX8ZvJxKxaMEcFLEtmIVDHv5FUbdeA1SuUFqaMzIzkaXJetCsZnKzRlNwi5bcvfxRt0FjVK1QTprFAowsPtoXQVasUwUxsSdxYMtmaIyeqFtKnXdWJcpURKNGjeDnbMTte4moWrky3FxKoEblioqLgsU/uCQaNm6G4l622Ln/L67sOqGSrxP27ftLcVGwuHh4ow5//hrVaoCl38XhM/fwQqNWilTNkZUtSlepinr1G6BWnVYI9nCG3sYBTvb2XO+rE4/g0FJo2qwxivs74sdvvsb+E+dxOeouSlUoqbgoWNyK+KNhw0YoXYyPrh31CD+1D9uOHsCmNWsQk26JIZUtylaojGbNG8E++QYWLPwcN5N0yEoXC8kKpmOeE/+gElzhN0VZP3uMG9gdG86l4tPPZsLTVp1XTi5FAlH3hfqoXqksxHggI5O3WVmi3TbJCyvP4ccLjFg6fRYcqrdF7zahGDN4MPQB1VDU0wGlqjfAsD7dFHf5hUjeRxuu6HM78PnPOzF+2hz4OohFOz9h04loTH1/fL73gET25txHNOb6Ccz79keM+3Aef24dln4h3g1Fo2W3fujToZHiSi20+OHLeTh0/jZqN2iN4a+8XPCLQkSRz5YmBzb9jF//PAQ7D3/0GzIML5Qv2C+L5MwTXdxFfPjpdxj0zkxUL+qs2FqGrb8uwe87T/G68ALeGD4U7o4FmxmP1g6GNT98gT1/XURAaHmMeGMUQrydFFnB8HjtNLH4o08Q1KYHujarrNioxyNx0iXhy4WLcOFGLMrXaIwRw/vBzU6RFRDZw0+7cxnvjB0PXZEyCPZ2RlDNphjTq6MiLSgez5X46/sw69s/8PakOShWcOtaC5zn8mtBBjF9a2sLWxsGrVYHvU4PnV4HB0dnuLm6KK4KDsaM8icHdnwUIYqV0WjgB4O9GFWogCl8A+zsePhKwy9+FuTiXLCN2+M8rFii9+rsbFI2j1e3gkeblQFbJ1e5QvpJnZSChDGDLA/29pb7lm12NJlZcHJR8oJnhopJIdFkpMPJ1bSeQu28MGNuI+zER6etgIz0dLi6qbl63oRoJ/Q8LQw6LTR6g2wj3V3V7xSKNksv64ipzSys0Of5CIIgCEIF/vPvcAmCIAjCGiCFSxAEQRAqQAqXIAiCIFSAFC5BEARBqAApXIIgCIJQAVK4BEEQBKECpHAJgiAIQgVI4RIEQRCECpDCJQiCIAgVKNQ7TSUmJuLGjRtwdHREqVKl4O5eiDfZJAiCIP7TFOoR7vr16zFkyBAMGDAAv/32m2JLEARBENZHoVW4KSkpWLNmjTyL4/x58d1IgiAIgrBOCp3CjY2Nxbfffos33ngD165dU2wBO7sC/mYVQRAEQTwDhUbhxsTEYPny5RgxYgTmz5+PQ4cOyc9GCcTnu8R7XIIgCIKwVgqFwr106RJmz56NBQsW4MyZM/Lbqdm/kymu09LS5DVBEARBWCNWr3Dv3r2LefPm4Y8//kBSUpJUrgIHh0c/1p2cnKxcEQRBEIT1YdUK12g0ylHtgQMHoNPpFFsTBoPhgfIVmKeXCYIgCMIasWqFu3HjRmzbtg1arVaxeYhQxra2tnJaWSheMcLNqZQJgiAIwlqwWoV78eJFrFixQv7k5+/IvjL53r17ciMMgiAIgrBGrFLhJiQkYOvWrTh37tw//txHTCObp5XFoqn09HR5TRAEQRDWhlVu7bh48WJ5iNXI9vb2/zjKNePk5ITWrVvT9o4EQRDEY4h1P76+vhg/frzUK5bAKhXu5MmT5VaNGRkZCAkJkSNZseHFP0XVxcUFAwcOlAlKEARBENkR6348PDzQt29fi22UZJUKNyoqCj///DM2bNggfxYkRq9icZRQwH+HSMi1a9eiQoUKig1BEARBWA9W/bWgq1evypXKYrQrFK/YTepJK5bNG2Bs3rwZVapUkdcEQRAEYU1Y9c+Cypcvj3HjxmHSpEny83tC2eacChBmsQmG6DeIKQOCIAiCsEasWuGa6dy5s9w/uXLlyvLFt/j9rRmhaN3c3BQTQRAEQVgnhULhCmrXro1p06ahYsWKciRrnkYW5+wKmHg+yMpIQ1xcHOLj4x8cScnZVrM/y5sSZkSSvF8qLPm+xaDXISE+Dsmpj69dYAY9khLikZyStz3EDVoN4uPuIy0jU7HJG3pNJs+H+8jI0ig2BEH8HYVKU9WtWxevv/46goKC5MjWrHTFqJd4vli2cAL8/QMQEhyEwIAA+AUEonT5Shj81hREJ2lFT0xxmXt0aVFoXyoULXsPR5rGcmXrxtn9qF0xBN3GzFBsHpJ+9RRaVCqHzv0/UGxyR+Tu9SgXGICxM/+n2OSNo8sWynyY/d1vig1BEH9HoRsaduvWDWPHjkVoaKg0C2WbmpqKYsWKwdXVVdoR/32y0lP5X4bK9VuiV6+e6NPrZZQNcMbyz6di/KwvTY7+gX9aK8iYgY8qM+XokbGHiluUNYMhm79/GkX/4/2fbtzs5GCLpEQtUtIeH4XKEW5iIlJS/n2zlyeF58hrfqKRK+7MLMXmyRgMRhj/IboV23bHTyuWoVeHJorN3/O0z00Q/1UK5Vxsjx495LdxmzdvLn9/K0a67dq1g5+fn+KC+K9jbrzHzPwaP69ajVX8OLpzHbwdgFNhp5GoDEwvnjiAqRPfxZChgzF5+qc4fz1G2osyk5V0Fyu//RyvDRuG9yfPxNFzESYZ/yd+Fi8W5Lk52yLy9C4MGdAb8xb/goNbfkb/wa8jLDxajqLP7t2IgX364JftR6Xfe1eOYuSrr2LVVmHW4LcfF2PUiOF47fU3sXztZmRyJSfC/mPpQgydMB1b1v6IVwcNwIotJv9njmzHuDGvYzLvNBy7cBNOziIej1dTcQ/x4307e9MiwnMHfsegwUNx5ORprPh6PkYMfw3/W7aWj9Afvn45svN3vPX6SEz97Fucj4iBE7ezszV3KAzYu/kXjH5tGN4aNxF/HjojbY3p9zB93Ei8Ovp9RCSID4RkYsGUdzD49bGISNRBm3Qfp44fw71EMbWdia/mTMQHkxfj3JnDmDz+bYx6933sOnpB3kvEw5CVjDU/fImRw0di5fpdCD97CAMG9Mdfl25JNwTxn4Y3XIWWK1eusLZt27Jq1aqxo0ePMp1Op0iI/zoLJg4RGpeNnvEN271zB9u+YwdbOPUtZu/owib+b410c/2vzSzISb6GfXCE1ujCYjO5UBfHBnWo94gMRUqw7aejGdNEscrcXL19PxZ+/iirWcKd2XiGsv3nbrHLB1ZLt28v/E2GMXloR2lu0vcDaf5p1mhp/uHPk+yLcf0e3ls5pi77Q7qb2reNNBcLLcHqN2zGVu84xc7u/ZV52z106+zmJc+N+42TfrKTcv4wK+Niz2q1GibN67/6ULoNCQl84F8cHyz4Vcq3L/+UuWSz9/YsIs/DP5wr5T/NG/9AZjpc2dfrD0nZt9NGSruhE//HNq34VF53Hj5Fyg589Yk0T/pqLTelsJcal+RmZ+bn5STtxeEcWIn9FZki3X/8aucH9rBxZU2bNZHXy7Yek3KC+C9TKEe4ZsqUKSPf6c6dOxeVKlWy2HZdhPrY2pny+suJr6FVm7Zo17Yt3v54EfzL1Uffbu2lLDUL6NJ3CDbsO4u0+5Ho07Qybp/ZhqhkAw78thQrth1Dp6EfIPp+PH5cOAVBjlnYs/cI4OAIB3sbJEVfwYi+fXH6ris279iBplVDUapqYzQt44ytW3fxAew9nLx4XYZ18fhxpKTGY/fhv+AeWgcvNq4CO+/ieHviLMSmGbB91SLpbv8200jW0cX0+mPIhC9w9PA+9G5TEf+bO4uPzO0w64eNSLh/BxNeaSfdiJH03yP0FWDP4yzwKdMYV27dw+Zlc6R579HD/G8y5i/6nI8/PbBk7V7E37uJV7o0lHIHPoROTbyDaR/PRWCllth9NAx7Nq9GOe9MTPlkDlINwLDJC/Fqx9pYOmMMeg4ah7INuuDreZOkfxslHxxk3bOBi7P4TnUWBr7/DeJiIjCiW2Nk3buEkycjoY0+jNnfb0ZItdY4dPo6rpzcAkPsDenf3kI7/xCEmhRqhSum/F588UW0atVK7jRFPD8wZaFct8FvYu7sWZgxcybGvz0Cmut70b33ENxJ1aNGs04YP/YN3AnbiomTp+FMRCwv8Ta8cTfg7MmT0v+Qwf0Q7OeDAW99hGuREZj5Vg9oU9Ng7+iIW+dPYs+5CNi5eMDXN0C6d/QqhvbtO+D6sV34bdt+3Iy+h/bd+8Mj7gx++fMgVyxhaNC2OwLdnPDauxPw4gtlsHjux/h6xXqTf6OiWJiIvx1aNK4rjZmJiThzJRweFdti3OCu8PYLwpDRb8Lfmasv7b9/65l3nuW559A3UT40AM06dEEZd8BgY4esW9dx/cZtVGzSDMN7NIdPQHGMHzMcQjUyowH3bl3DFfEqODUak98bjYnTFyLLzhX3zkcgJlGskHbGJ3PnIwBGrkrtMXb8JBTzVJ4jR2dAm6WBQ0A5jBg9GL5FS6J9s2bS3sg7BrcvnIVYy9z/1cFoVKM0ytdqgbHDekg5QTwPFGqFK3B2dpY7UJnfUxHPB0auKMSIasiHszHu/Q8w4cMPMWfBYnRqXgnhh35HeGQUNn47Ay80boPLKc74v5d7o0H5ktyjSdG5eZg+chF1J06eM26GYcyrA/Hpd2tgcHDh+lAHW/cgjH1/AgIyr+O9CTOUsSTQvE0H+LIITJ++CDHpXnj/nZGoUMYNC2cuxJk7evTr153f8A46Nq+Pt6Z8hfL1WqB7145SwRkfLBwSZxf+BKbNWhz4SLGIhxvS78cgWvkVUHxMlByl2z3hZ28PS/uj5d7eTYTCFZ/eCHuurMXtnT1c4eLqhPux8YhVgo+Kiob4erQN74DY8dGxCKF0jZZYsvxnLP3ua3y99Gfs2bkUxb1cpPv9O7eDd1c4emzcuI4r3kcxx4Lxf452tnBQwrHN1sQ4K2l+67bpPbrgRuQd5Yog/vsUeoVLPM8wfD/zfXw6ZzZmzZqNiXw0u2XvJaBIBfg76bBtw2okJicjKzUFh/fvwJ6wc9JPVpYBLdt3hpjUnf7Bu5g+Zx4GDB2Jpat/Q/idDLi42CNDY0Tx6vXx6ewZeHv4Szi0Zj5+2BImQ23SrAVK+hbB6ROH4FO1OVo2bYjypUriYtheOIY0QIdGlXHt2AFs++sSkjKycOfmFfy5datJwSmayShH6FoYlCXA9p4BaNe6FYzxZ9CnVz8e7nSMHDVOKrYnrJmSI1q9Tg+93jTSZ8oua2Yzd8DlgCaLa2/vimjD4xh/9SiG9B6OuTOnYOi4adKZWHVdonwNtKnkjSN/rsGyn37B6h+/x/BXBmLN3hNwtrdB5PFNGPH2LFRv3Qtv9GmHrcvnYPYS04jdHK7BfObPpeMBm1c2mzpGgE6rRUjtlqjq74DVC2ZhzLiP8MFbQzFr2UYpF4qaIP7zyDe5BFHI+HLqa6KFfuzw8A9ls37YJN1sXzmfBRVxkfZFy9Vgb455jRWxs2Hf7zgv5T8umMT83O0f+G3bbwy7r+GC9JushoMNq9yiOxPrqzJun2TlfJxYlRZ92P0M6ZVNUhb/jJj2vTSv+mycNHd7fQozCIu0O2xotxYP7t1z4HDWpEYlVrdVf3nP+a914/ZebPfZKOFakhYbzvp3aPDAT9OGzVi5oADWsN9YxcVDUi8cYRU8XdgL7UZK8+bvpko/s9YclOb4qPOsalGwej3GmMzXT7Kujas+uHf7Tl2Ym7MdG/7BbCk/u3c9q1U26IG8RJVGbO/pW4xpE1mfZpUZ3IPZ7vOxTB93lb1Q3IO5BFVlYdEZ7NSKz6T76d9t5HdJZb2al2FFildh4cnytmzDgsnMjssXrjoqzdtX/4/VKBss/ZSu0YqN6tFVXq/cflLKCeK/jFV/vIAg/o6IK2cQdjECjg5isY7YRxtwcfdExao1EBrgZXLEibp+EWeu3sILjVvB1ykT2//cgaDy9VCzYnEpvx99AyfCLsA7pCzq1aokp3yMugzs37YTRp8gNGtQF/Z2Nrhwcj/OR6agZdtWCPB0xb2ISzh08hJqNWqOUsG+SL17E3uOhKF8jfqoWDpI3huGTBw5eBB65wA0rV8DV08eQXhcFpo0aYqEiDCEhcehWeuW8PN0FgNS0+jXkMVH44dgcPdHg6plcfLoIWg8gtC8blXTPRX0qYnYf+Aw7L1D0axhddy7dQUHTlxEjQbNUS7YB9qsVBzatwP2vuXQtG416ceoScP+/Qfh5F8S9asUx86du+BfvAJqVSkv5dq0BBz56xg0tu5o0KAhPF3skBJ3G7t2HYRPqapoXs90n+sXT+Kvs9dRo14TlHDRYteRE6hUtwnKF/fDiUN7cT/DDs1atoQbz5q7Ny7j+OkrqNaoFYq5JuLjqWLxlhFefsFo2bwpfl8wHvPWHsUfxy7gxRfKyvsTxH8VUrhEoUMU2EffXOaeZ7mHqDLZ1wzkNKvOA21tIvfxyY8UfZwc0RK9BPRpWQe/HAyHm2cR2OgzkZahRY02A/Hn+h8Q6E4rlYn/NqRwCYJQjeTYCPz4/VLsPnIS6Tpb1GrYCsOHD0WZoIezEgTxX4UULkEQBEGoAK1SJgiCIAgVIIVLEARBECpACpcgCIIgVIAULkEQBEGoAClcgiAIglABUrgEQRAEoQKkcAmCIAhCBUjhEgRBEIQKkMIlCIIgCBUghUsQBEEQKkAKlyAIgiAKHOD/AeygF7LudzM0AAAAAElFTkSuQmCC)"
      ],
      "metadata": {
        "id": "rT5GaDvTvkBH"
      }
    },
    {
      "cell_type": "code",
      "source": [
        "a = \"HELLO PYTHON\"\n",
        "a"
      ],
      "metadata": {
        "colab": {
          "base_uri": "https://localhost:8080/",
          "height": 36
        },
        "id": "A3juatSrthp8",
        "outputId": "a3f9a946-4811-4347-bf10-d4f3ad5ddb4f"
      },
      "execution_count": null,
      "outputs": [
        {
          "output_type": "execute_result",
          "data": {
            "text/plain": [
              "'HELLO PYTHON'"
            ],
            "application/vnd.google.colaboratory.intrinsic+json": {
              "type": "string"
            }
          },
          "metadata": {},
          "execution_count": 2
        }
      ]
    },
    {
      "cell_type": "code",
      "source": [
        "a[0]# first character in string 'a'"
      ],
      "metadata": {
        "colab": {
          "base_uri": "https://localhost:8080/",
          "height": 36
        },
        "id": "Avbgh6Z-tM4u",
        "outputId": "65548536-4b3d-4929-c664-4001d8fccfd5"
      },
      "execution_count": null,
      "outputs": [
        {
          "output_type": "execute_result",
          "data": {
            "text/plain": [
              "'H'"
            ],
            "application/vnd.google.colaboratory.intrinsic+json": {
              "type": "string"
            }
          },
          "metadata": {},
          "execution_count": 80
        }
      ]
    },
    {
      "cell_type": "code",
      "source": [
        "a[-1]# last character in string"
      ],
      "metadata": {
        "colab": {
          "base_uri": "https://localhost:8080/",
          "height": 36
        },
        "id": "2vDt5vhLwdbA",
        "outputId": "e32edb84-0677-4867-ac24-1db9201c5eca"
      },
      "execution_count": null,
      "outputs": [
        {
          "output_type": "execute_result",
          "data": {
            "text/plain": [
              "'N'"
            ],
            "application/vnd.google.colaboratory.intrinsic+json": {
              "type": "string"
            }
          },
          "metadata": {},
          "execution_count": 81
        }
      ]
    },
    {
      "cell_type": "code",
      "source": [
        "a[4] # fetch 5th element of the string"
      ],
      "metadata": {
        "colab": {
          "base_uri": "https://localhost:8080/",
          "height": 36
        },
        "id": "73qc6tXowpm8",
        "outputId": "ede0b319-2492-492e-edb7-d45b45860221"
      },
      "execution_count": null,
      "outputs": [
        {
          "output_type": "execute_result",
          "data": {
            "text/plain": [
              "'O'"
            ],
            "application/vnd.google.colaboratory.intrinsic+json": {
              "type": "string"
            }
          },
          "metadata": {},
          "execution_count": 82
        }
      ]
    },
    {
      "cell_type": "code",
      "source": [
        "a[5]"
      ],
      "metadata": {
        "colab": {
          "base_uri": "https://localhost:8080/",
          "height": 36
        },
        "id": "rN-Ow6-Jz4ZS",
        "outputId": "4592a2d6-ab15-4fe6-8b50-3d5ce9358c55"
      },
      "execution_count": null,
      "outputs": [
        {
          "output_type": "execute_result",
          "data": {
            "text/plain": [
              "' '"
            ],
            "application/vnd.google.colaboratory.intrinsic+json": {
              "type": "string"
            }
          },
          "metadata": {},
          "execution_count": 83
        }
      ]
    },
    {
      "cell_type": "markdown",
      "source": [
        "### String Slicing"
      ],
      "metadata": {
        "id": "ii8MxjxH0DnG"
      }
    },
    {
      "cell_type": "code",
      "source": [
        "a[0:5] # Fetch all characters from 0 to 5 index Location excluding 5th index"
      ],
      "metadata": {
        "colab": {
          "base_uri": "https://localhost:8080/",
          "height": 36
        },
        "id": "SrHp3uNKz7rO",
        "outputId": "f28d661d-dada-452a-e051-b8eee806d7a4"
      },
      "execution_count": null,
      "outputs": [
        {
          "output_type": "execute_result",
          "data": {
            "text/plain": [
              "'HELLO'"
            ],
            "application/vnd.google.colaboratory.intrinsic+json": {
              "type": "string"
            }
          },
          "metadata": {},
          "execution_count": 3
        }
      ]
    },
    {
      "cell_type": "code",
      "source": [
        "a[6:12]"
      ],
      "metadata": {
        "colab": {
          "base_uri": "https://localhost:8080/",
          "height": 36
        },
        "id": "OdB4PNrpo3VL",
        "outputId": "c4d43390-a7b2-4f2b-d8ab-c794b8847b39"
      },
      "execution_count": null,
      "outputs": [
        {
          "output_type": "execute_result",
          "data": {
            "text/plain": [
              "'PYTHON'"
            ],
            "application/vnd.google.colaboratory.intrinsic+json": {
              "type": "string"
            }
          },
          "metadata": {},
          "execution_count": 4
        }
      ]
    },
    {
      "cell_type": "code",
      "source": [
        "a[-4:]# Retreive Last four characters of the string"
      ],
      "metadata": {
        "colab": {
          "base_uri": "https://localhost:8080/",
          "height": 36
        },
        "id": "AqZDSP9pqHJR",
        "outputId": "d30d4cef-b8a0-4701-c711-1a44f4898fb9"
      },
      "execution_count": null,
      "outputs": [
        {
          "output_type": "execute_result",
          "data": {
            "text/plain": [
              "'THON'"
            ],
            "application/vnd.google.colaboratory.intrinsic+json": {
              "type": "string"
            }
          },
          "metadata": {},
          "execution_count": 5
        }
      ]
    },
    {
      "cell_type": "code",
      "source": [
        "a[-8:]# Retrive Last six characters of the string"
      ],
      "metadata": {
        "colab": {
          "base_uri": "https://localhost:8080/",
          "height": 36
        },
        "id": "l1FlGp-4qUSa",
        "outputId": "7aa0668f-5d34-439b-8e0b-44710abcd299"
      },
      "execution_count": null,
      "outputs": [
        {
          "output_type": "execute_result",
          "data": {
            "text/plain": [
              "'O PYTHON'"
            ],
            "application/vnd.google.colaboratory.intrinsic+json": {
              "type": "string"
            }
          },
          "metadata": {},
          "execution_count": 7
        }
      ]
    },
    {
      "cell_type": "code",
      "source": [
        "a[:9]# Retrive first 9 characters of the string"
      ],
      "metadata": {
        "colab": {
          "base_uri": "https://localhost:8080/",
          "height": 36
        },
        "id": "RSeoWqJKqk0O",
        "outputId": "6c95faf0-63e2-490b-873a-37756330d553"
      },
      "execution_count": null,
      "outputs": [
        {
          "output_type": "execute_result",
          "data": {
            "text/plain": [
              "'HELLO PYT'"
            ],
            "application/vnd.google.colaboratory.intrinsic+json": {
              "type": "string"
            }
          },
          "metadata": {},
          "execution_count": 8
        }
      ]
    },
    {
      "cell_type": "markdown",
      "source": [
        "### **Update and Delete String**"
      ],
      "metadata": {
        "id": "s8kA8Vsdyt_T"
      }
    },
    {
      "cell_type": "code",
      "source": [
        "a = 'HELLO PYTHON'\n",
        "a\n"
      ],
      "metadata": {
        "id": "Wd6Uycb3rCtn",
        "outputId": "e4ece752-9640-442e-c800-97c86dee5918",
        "colab": {
          "base_uri": "https://localhost:8080/",
          "height": 36
        }
      },
      "execution_count": 1,
      "outputs": [
        {
          "output_type": "execute_result",
          "data": {
            "text/plain": [
              "'HELLO PYTHON'"
            ],
            "application/vnd.google.colaboratory.intrinsic+json": {
              "type": "string"
            }
          },
          "metadata": {},
          "execution_count": 1
        }
      ]
    },
    {
      "cell_type": "code",
      "source": [],
      "metadata": {
        "id": "V4x9nUdJz_Tr"
      },
      "execution_count": null,
      "outputs": []
    }
  ]
}